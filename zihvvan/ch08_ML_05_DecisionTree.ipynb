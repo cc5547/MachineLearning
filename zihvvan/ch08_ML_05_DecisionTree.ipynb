{
  "nbformat": 4,
  "nbformat_minor": 0,
  "metadata": {
    "colab": {
      "provenance": [],
      "include_colab_link": true
    },
    "kernelspec": {
      "name": "python3",
      "display_name": "Python 3"
    },
    "language_info": {
      "name": "python"
    }
  },
  "cells": [
    {
      "cell_type": "markdown",
      "metadata": {
        "id": "view-in-github",
        "colab_type": "text"
      },
      "source": [
        "<a href=\"https://colab.research.google.com/github/zihvvan/MachineLearning/blob/main/zihvvan/ch08_ML_05_DecisionTree.ipynb\" target=\"_parent\"><img src=\"https://colab.research.google.com/assets/colab-badge.svg\" alt=\"Open In Colab\"/></a>"
      ]
    },
    {
      "cell_type": "code",
      "execution_count": 21,
      "metadata": {
        "id": "X_6pupKyWotr"
      },
      "outputs": [],
      "source": [
        "import numpy as np\n",
        "import pandas as pd\n",
        "import matplotlib.pyplot as plt\n",
        "import seaborn as sns"
      ]
    },
    {
      "cell_type": "code",
      "source": [
        "# https://www.kaggle.com/datasets/ayessa/salary-prediction-classification\n",
        "# https://www.kaggle.com/datasets/ayessa/salary-prediction-classification/code?datasetId=2096417&sortBy=voteCount\n",
        "df = pd.read_csv(\n",
        "    \"https://github.com/BigData23th/Data/raw/main/salary.csv\",\n",
        "    skipinitialspace=True\n",
        "    )\n",
        "df"
      ],
      "metadata": {
        "colab": {
          "base_uri": "https://localhost:8080/",
          "height": 424
        },
        "id": "iu7mhluOcBJz",
        "outputId": "d6234e8e-1dc2-49b5-fe6f-4e8f03156948"
      },
      "execution_count": 22,
      "outputs": [
        {
          "output_type": "execute_result",
          "data": {
            "text/plain": [
              "       age     workclass     education  education-num      marital-status  \\\n",
              "0       25       Private          11th              7       Never-married   \n",
              "1       38       Private       HS-grad              9  Married-civ-spouse   \n",
              "2       28     Local-gov    Assoc-acdm             12  Married-civ-spouse   \n",
              "3       44       Private  Some-college             10  Married-civ-spouse   \n",
              "4       18           NaN  Some-college             10       Never-married   \n",
              "...    ...           ...           ...            ...                 ...   \n",
              "48837   27       Private    Assoc-acdm             12  Married-civ-spouse   \n",
              "48838   40       Private       HS-grad              9  Married-civ-spouse   \n",
              "48839   58       Private       HS-grad              9             Widowed   \n",
              "48840   22       Private       HS-grad              9       Never-married   \n",
              "48841   52  Self-emp-inc       HS-grad              9  Married-civ-spouse   \n",
              "\n",
              "              occupation relationship   race     sex  capital-gain  \\\n",
              "0      Machine-op-inspct    Own-child  Black    Male             0   \n",
              "1        Farming-fishing      Husband  White    Male             0   \n",
              "2        Protective-serv      Husband  White    Male             0   \n",
              "3      Machine-op-inspct      Husband  Black    Male          7688   \n",
              "4                    NaN    Own-child  White  Female             0   \n",
              "...                  ...          ...    ...     ...           ...   \n",
              "48837       Tech-support         Wife  White  Female             0   \n",
              "48838  Machine-op-inspct      Husband  White    Male             0   \n",
              "48839       Adm-clerical    Unmarried  White  Female             0   \n",
              "48840       Adm-clerical    Own-child  White    Male             0   \n",
              "48841    Exec-managerial         Wife  White  Female         15024   \n",
              "\n",
              "       capital-loss  hours-per-week native-country  class  \n",
              "0                 0              40  United-States  <=50K  \n",
              "1                 0              50  United-States  <=50K  \n",
              "2                 0              40  United-States   >50K  \n",
              "3                 0              40  United-States   >50K  \n",
              "4                 0              30  United-States  <=50K  \n",
              "...             ...             ...            ...    ...  \n",
              "48837             0              38  United-States  <=50K  \n",
              "48838             0              40  United-States   >50K  \n",
              "48839             0              40  United-States  <=50K  \n",
              "48840             0              20  United-States  <=50K  \n",
              "48841             0              40  United-States   >50K  \n",
              "\n",
              "[48842 rows x 14 columns]"
            ],
            "text/html": [
              "\n",
              "  <div id=\"df-506d0e8e-cda6-479c-9cb5-a5947fa36bda\">\n",
              "    <div class=\"colab-df-container\">\n",
              "      <div>\n",
              "<style scoped>\n",
              "    .dataframe tbody tr th:only-of-type {\n",
              "        vertical-align: middle;\n",
              "    }\n",
              "\n",
              "    .dataframe tbody tr th {\n",
              "        vertical-align: top;\n",
              "    }\n",
              "\n",
              "    .dataframe thead th {\n",
              "        text-align: right;\n",
              "    }\n",
              "</style>\n",
              "<table border=\"1\" class=\"dataframe\">\n",
              "  <thead>\n",
              "    <tr style=\"text-align: right;\">\n",
              "      <th></th>\n",
              "      <th>age</th>\n",
              "      <th>workclass</th>\n",
              "      <th>education</th>\n",
              "      <th>education-num</th>\n",
              "      <th>marital-status</th>\n",
              "      <th>occupation</th>\n",
              "      <th>relationship</th>\n",
              "      <th>race</th>\n",
              "      <th>sex</th>\n",
              "      <th>capital-gain</th>\n",
              "      <th>capital-loss</th>\n",
              "      <th>hours-per-week</th>\n",
              "      <th>native-country</th>\n",
              "      <th>class</th>\n",
              "    </tr>\n",
              "  </thead>\n",
              "  <tbody>\n",
              "    <tr>\n",
              "      <th>0</th>\n",
              "      <td>25</td>\n",
              "      <td>Private</td>\n",
              "      <td>11th</td>\n",
              "      <td>7</td>\n",
              "      <td>Never-married</td>\n",
              "      <td>Machine-op-inspct</td>\n",
              "      <td>Own-child</td>\n",
              "      <td>Black</td>\n",
              "      <td>Male</td>\n",
              "      <td>0</td>\n",
              "      <td>0</td>\n",
              "      <td>40</td>\n",
              "      <td>United-States</td>\n",
              "      <td>&lt;=50K</td>\n",
              "    </tr>\n",
              "    <tr>\n",
              "      <th>1</th>\n",
              "      <td>38</td>\n",
              "      <td>Private</td>\n",
              "      <td>HS-grad</td>\n",
              "      <td>9</td>\n",
              "      <td>Married-civ-spouse</td>\n",
              "      <td>Farming-fishing</td>\n",
              "      <td>Husband</td>\n",
              "      <td>White</td>\n",
              "      <td>Male</td>\n",
              "      <td>0</td>\n",
              "      <td>0</td>\n",
              "      <td>50</td>\n",
              "      <td>United-States</td>\n",
              "      <td>&lt;=50K</td>\n",
              "    </tr>\n",
              "    <tr>\n",
              "      <th>2</th>\n",
              "      <td>28</td>\n",
              "      <td>Local-gov</td>\n",
              "      <td>Assoc-acdm</td>\n",
              "      <td>12</td>\n",
              "      <td>Married-civ-spouse</td>\n",
              "      <td>Protective-serv</td>\n",
              "      <td>Husband</td>\n",
              "      <td>White</td>\n",
              "      <td>Male</td>\n",
              "      <td>0</td>\n",
              "      <td>0</td>\n",
              "      <td>40</td>\n",
              "      <td>United-States</td>\n",
              "      <td>&gt;50K</td>\n",
              "    </tr>\n",
              "    <tr>\n",
              "      <th>3</th>\n",
              "      <td>44</td>\n",
              "      <td>Private</td>\n",
              "      <td>Some-college</td>\n",
              "      <td>10</td>\n",
              "      <td>Married-civ-spouse</td>\n",
              "      <td>Machine-op-inspct</td>\n",
              "      <td>Husband</td>\n",
              "      <td>Black</td>\n",
              "      <td>Male</td>\n",
              "      <td>7688</td>\n",
              "      <td>0</td>\n",
              "      <td>40</td>\n",
              "      <td>United-States</td>\n",
              "      <td>&gt;50K</td>\n",
              "    </tr>\n",
              "    <tr>\n",
              "      <th>4</th>\n",
              "      <td>18</td>\n",
              "      <td>NaN</td>\n",
              "      <td>Some-college</td>\n",
              "      <td>10</td>\n",
              "      <td>Never-married</td>\n",
              "      <td>NaN</td>\n",
              "      <td>Own-child</td>\n",
              "      <td>White</td>\n",
              "      <td>Female</td>\n",
              "      <td>0</td>\n",
              "      <td>0</td>\n",
              "      <td>30</td>\n",
              "      <td>United-States</td>\n",
              "      <td>&lt;=50K</td>\n",
              "    </tr>\n",
              "    <tr>\n",
              "      <th>...</th>\n",
              "      <td>...</td>\n",
              "      <td>...</td>\n",
              "      <td>...</td>\n",
              "      <td>...</td>\n",
              "      <td>...</td>\n",
              "      <td>...</td>\n",
              "      <td>...</td>\n",
              "      <td>...</td>\n",
              "      <td>...</td>\n",
              "      <td>...</td>\n",
              "      <td>...</td>\n",
              "      <td>...</td>\n",
              "      <td>...</td>\n",
              "      <td>...</td>\n",
              "    </tr>\n",
              "    <tr>\n",
              "      <th>48837</th>\n",
              "      <td>27</td>\n",
              "      <td>Private</td>\n",
              "      <td>Assoc-acdm</td>\n",
              "      <td>12</td>\n",
              "      <td>Married-civ-spouse</td>\n",
              "      <td>Tech-support</td>\n",
              "      <td>Wife</td>\n",
              "      <td>White</td>\n",
              "      <td>Female</td>\n",
              "      <td>0</td>\n",
              "      <td>0</td>\n",
              "      <td>38</td>\n",
              "      <td>United-States</td>\n",
              "      <td>&lt;=50K</td>\n",
              "    </tr>\n",
              "    <tr>\n",
              "      <th>48838</th>\n",
              "      <td>40</td>\n",
              "      <td>Private</td>\n",
              "      <td>HS-grad</td>\n",
              "      <td>9</td>\n",
              "      <td>Married-civ-spouse</td>\n",
              "      <td>Machine-op-inspct</td>\n",
              "      <td>Husband</td>\n",
              "      <td>White</td>\n",
              "      <td>Male</td>\n",
              "      <td>0</td>\n",
              "      <td>0</td>\n",
              "      <td>40</td>\n",
              "      <td>United-States</td>\n",
              "      <td>&gt;50K</td>\n",
              "    </tr>\n",
              "    <tr>\n",
              "      <th>48839</th>\n",
              "      <td>58</td>\n",
              "      <td>Private</td>\n",
              "      <td>HS-grad</td>\n",
              "      <td>9</td>\n",
              "      <td>Widowed</td>\n",
              "      <td>Adm-clerical</td>\n",
              "      <td>Unmarried</td>\n",
              "      <td>White</td>\n",
              "      <td>Female</td>\n",
              "      <td>0</td>\n",
              "      <td>0</td>\n",
              "      <td>40</td>\n",
              "      <td>United-States</td>\n",
              "      <td>&lt;=50K</td>\n",
              "    </tr>\n",
              "    <tr>\n",
              "      <th>48840</th>\n",
              "      <td>22</td>\n",
              "      <td>Private</td>\n",
              "      <td>HS-grad</td>\n",
              "      <td>9</td>\n",
              "      <td>Never-married</td>\n",
              "      <td>Adm-clerical</td>\n",
              "      <td>Own-child</td>\n",
              "      <td>White</td>\n",
              "      <td>Male</td>\n",
              "      <td>0</td>\n",
              "      <td>0</td>\n",
              "      <td>20</td>\n",
              "      <td>United-States</td>\n",
              "      <td>&lt;=50K</td>\n",
              "    </tr>\n",
              "    <tr>\n",
              "      <th>48841</th>\n",
              "      <td>52</td>\n",
              "      <td>Self-emp-inc</td>\n",
              "      <td>HS-grad</td>\n",
              "      <td>9</td>\n",
              "      <td>Married-civ-spouse</td>\n",
              "      <td>Exec-managerial</td>\n",
              "      <td>Wife</td>\n",
              "      <td>White</td>\n",
              "      <td>Female</td>\n",
              "      <td>15024</td>\n",
              "      <td>0</td>\n",
              "      <td>40</td>\n",
              "      <td>United-States</td>\n",
              "      <td>&gt;50K</td>\n",
              "    </tr>\n",
              "  </tbody>\n",
              "</table>\n",
              "<p>48842 rows × 14 columns</p>\n",
              "</div>\n",
              "      <button class=\"colab-df-convert\" onclick=\"convertToInteractive('df-506d0e8e-cda6-479c-9cb5-a5947fa36bda')\"\n",
              "              title=\"Convert this dataframe to an interactive table.\"\n",
              "              style=\"display:none;\">\n",
              "        \n",
              "  <svg xmlns=\"http://www.w3.org/2000/svg\" height=\"24px\"viewBox=\"0 0 24 24\"\n",
              "       width=\"24px\">\n",
              "    <path d=\"M0 0h24v24H0V0z\" fill=\"none\"/>\n",
              "    <path d=\"M18.56 5.44l.94 2.06.94-2.06 2.06-.94-2.06-.94-.94-2.06-.94 2.06-2.06.94zm-11 1L8.5 8.5l.94-2.06 2.06-.94-2.06-.94L8.5 2.5l-.94 2.06-2.06.94zm10 10l.94 2.06.94-2.06 2.06-.94-2.06-.94-.94-2.06-.94 2.06-2.06.94z\"/><path d=\"M17.41 7.96l-1.37-1.37c-.4-.4-.92-.59-1.43-.59-.52 0-1.04.2-1.43.59L10.3 9.45l-7.72 7.72c-.78.78-.78 2.05 0 2.83L4 21.41c.39.39.9.59 1.41.59.51 0 1.02-.2 1.41-.59l7.78-7.78 2.81-2.81c.8-.78.8-2.07 0-2.86zM5.41 20L4 18.59l7.72-7.72 1.47 1.35L5.41 20z\"/>\n",
              "  </svg>\n",
              "      </button>\n",
              "      \n",
              "  <style>\n",
              "    .colab-df-container {\n",
              "      display:flex;\n",
              "      flex-wrap:wrap;\n",
              "      gap: 12px;\n",
              "    }\n",
              "\n",
              "    .colab-df-convert {\n",
              "      background-color: #E8F0FE;\n",
              "      border: none;\n",
              "      border-radius: 50%;\n",
              "      cursor: pointer;\n",
              "      display: none;\n",
              "      fill: #1967D2;\n",
              "      height: 32px;\n",
              "      padding: 0 0 0 0;\n",
              "      width: 32px;\n",
              "    }\n",
              "\n",
              "    .colab-df-convert:hover {\n",
              "      background-color: #E2EBFA;\n",
              "      box-shadow: 0px 1px 2px rgba(60, 64, 67, 0.3), 0px 1px 3px 1px rgba(60, 64, 67, 0.15);\n",
              "      fill: #174EA6;\n",
              "    }\n",
              "\n",
              "    [theme=dark] .colab-df-convert {\n",
              "      background-color: #3B4455;\n",
              "      fill: #D2E3FC;\n",
              "    }\n",
              "\n",
              "    [theme=dark] .colab-df-convert:hover {\n",
              "      background-color: #434B5C;\n",
              "      box-shadow: 0px 1px 3px 1px rgba(0, 0, 0, 0.15);\n",
              "      filter: drop-shadow(0px 1px 2px rgba(0, 0, 0, 0.3));\n",
              "      fill: #FFFFFF;\n",
              "    }\n",
              "  </style>\n",
              "\n",
              "      <script>\n",
              "        const buttonEl =\n",
              "          document.querySelector('#df-506d0e8e-cda6-479c-9cb5-a5947fa36bda button.colab-df-convert');\n",
              "        buttonEl.style.display =\n",
              "          google.colab.kernel.accessAllowed ? 'block' : 'none';\n",
              "\n",
              "        async function convertToInteractive(key) {\n",
              "          const element = document.querySelector('#df-506d0e8e-cda6-479c-9cb5-a5947fa36bda');\n",
              "          const dataTable =\n",
              "            await google.colab.kernel.invokeFunction('convertToInteractive',\n",
              "                                                     [key], {});\n",
              "          if (!dataTable) return;\n",
              "\n",
              "          const docLinkHtml = 'Like what you see? Visit the ' +\n",
              "            '<a target=\"_blank\" href=https://colab.research.google.com/notebooks/data_table.ipynb>data table notebook</a>'\n",
              "            + ' to learn more about interactive tables.';\n",
              "          element.innerHTML = '';\n",
              "          dataTable['output_type'] = 'display_data';\n",
              "          await google.colab.output.renderOutput(dataTable, element);\n",
              "          const docLink = document.createElement('div');\n",
              "          docLink.innerHTML = docLinkHtml;\n",
              "          element.appendChild(docLink);\n",
              "        }\n",
              "      </script>\n",
              "    </div>\n",
              "  </div>\n",
              "  "
            ]
          },
          "metadata": {},
          "execution_count": 22
        }
      ]
    },
    {
      "cell_type": "code",
      "source": [
        "# 결측치, 열별 타입\n",
        "df.info()"
      ],
      "metadata": {
        "colab": {
          "base_uri": "https://localhost:8080/"
        },
        "id": "JalVj68uc5iI",
        "outputId": "9a44f66c-d68a-4d3b-a53c-2f60de00a10d"
      },
      "execution_count": 23,
      "outputs": [
        {
          "output_type": "stream",
          "name": "stdout",
          "text": [
            "<class 'pandas.core.frame.DataFrame'>\n",
            "RangeIndex: 48842 entries, 0 to 48841\n",
            "Data columns (total 14 columns):\n",
            " #   Column          Non-Null Count  Dtype \n",
            "---  ------          --------------  ----- \n",
            " 0   age             48842 non-null  int64 \n",
            " 1   workclass       46043 non-null  object\n",
            " 2   education       48842 non-null  object\n",
            " 3   education-num   48842 non-null  int64 \n",
            " 4   marital-status  48842 non-null  object\n",
            " 5   occupation      46033 non-null  object\n",
            " 6   relationship    48842 non-null  object\n",
            " 7   race            48842 non-null  object\n",
            " 8   sex             48842 non-null  object\n",
            " 9   capital-gain    48842 non-null  int64 \n",
            " 10  capital-loss    48842 non-null  int64 \n",
            " 11  hours-per-week  48842 non-null  int64 \n",
            " 12  native-country  47985 non-null  object\n",
            " 13  class           48842 non-null  object\n",
            "dtypes: int64(5), object(9)\n",
            "memory usage: 5.2+ MB\n"
          ]
        }
      ]
    },
    {
      "cell_type": "code",
      "source": [
        "pd.options.display.float_format = '{:.2f}'.format\n",
        "# 연속형 변수\n",
        "# age : 연령\n",
        "# education-num : 교육수준등급\n",
        "# capital-gain : 자산 증가량\n",
        "# capital-loss : 자산 감소량\n",
        "# hours-per-week : 주당 노동 시간\n",
        "df.describe()"
      ],
      "metadata": {
        "colab": {
          "base_uri": "https://localhost:8080/",
          "height": 300
        },
        "id": "y54A5S_SdCz1",
        "outputId": "d6a33f9b-f707-4d9a-d64a-e615fbd53b18"
      },
      "execution_count": 24,
      "outputs": [
        {
          "output_type": "execute_result",
          "data": {
            "text/plain": [
              "           age  education-num  capital-gain  capital-loss  hours-per-week\n",
              "count 48842.00       48842.00      48842.00      48842.00        48842.00\n",
              "mean     38.64          10.08       1079.07         87.50           40.42\n",
              "std      13.71           2.57       7452.02        403.00           12.39\n",
              "min      17.00           1.00          0.00          0.00            1.00\n",
              "25%      28.00           9.00          0.00          0.00           40.00\n",
              "50%      37.00          10.00          0.00          0.00           40.00\n",
              "75%      48.00          12.00          0.00          0.00           45.00\n",
              "max      90.00          16.00      99999.00       4356.00           99.00"
            ],
            "text/html": [
              "\n",
              "  <div id=\"df-cbed10cf-afde-4eb9-b122-dc0433e76c7d\">\n",
              "    <div class=\"colab-df-container\">\n",
              "      <div>\n",
              "<style scoped>\n",
              "    .dataframe tbody tr th:only-of-type {\n",
              "        vertical-align: middle;\n",
              "    }\n",
              "\n",
              "    .dataframe tbody tr th {\n",
              "        vertical-align: top;\n",
              "    }\n",
              "\n",
              "    .dataframe thead th {\n",
              "        text-align: right;\n",
              "    }\n",
              "</style>\n",
              "<table border=\"1\" class=\"dataframe\">\n",
              "  <thead>\n",
              "    <tr style=\"text-align: right;\">\n",
              "      <th></th>\n",
              "      <th>age</th>\n",
              "      <th>education-num</th>\n",
              "      <th>capital-gain</th>\n",
              "      <th>capital-loss</th>\n",
              "      <th>hours-per-week</th>\n",
              "    </tr>\n",
              "  </thead>\n",
              "  <tbody>\n",
              "    <tr>\n",
              "      <th>count</th>\n",
              "      <td>48842.00</td>\n",
              "      <td>48842.00</td>\n",
              "      <td>48842.00</td>\n",
              "      <td>48842.00</td>\n",
              "      <td>48842.00</td>\n",
              "    </tr>\n",
              "    <tr>\n",
              "      <th>mean</th>\n",
              "      <td>38.64</td>\n",
              "      <td>10.08</td>\n",
              "      <td>1079.07</td>\n",
              "      <td>87.50</td>\n",
              "      <td>40.42</td>\n",
              "    </tr>\n",
              "    <tr>\n",
              "      <th>std</th>\n",
              "      <td>13.71</td>\n",
              "      <td>2.57</td>\n",
              "      <td>7452.02</td>\n",
              "      <td>403.00</td>\n",
              "      <td>12.39</td>\n",
              "    </tr>\n",
              "    <tr>\n",
              "      <th>min</th>\n",
              "      <td>17.00</td>\n",
              "      <td>1.00</td>\n",
              "      <td>0.00</td>\n",
              "      <td>0.00</td>\n",
              "      <td>1.00</td>\n",
              "    </tr>\n",
              "    <tr>\n",
              "      <th>25%</th>\n",
              "      <td>28.00</td>\n",
              "      <td>9.00</td>\n",
              "      <td>0.00</td>\n",
              "      <td>0.00</td>\n",
              "      <td>40.00</td>\n",
              "    </tr>\n",
              "    <tr>\n",
              "      <th>50%</th>\n",
              "      <td>37.00</td>\n",
              "      <td>10.00</td>\n",
              "      <td>0.00</td>\n",
              "      <td>0.00</td>\n",
              "      <td>40.00</td>\n",
              "    </tr>\n",
              "    <tr>\n",
              "      <th>75%</th>\n",
              "      <td>48.00</td>\n",
              "      <td>12.00</td>\n",
              "      <td>0.00</td>\n",
              "      <td>0.00</td>\n",
              "      <td>45.00</td>\n",
              "    </tr>\n",
              "    <tr>\n",
              "      <th>max</th>\n",
              "      <td>90.00</td>\n",
              "      <td>16.00</td>\n",
              "      <td>99999.00</td>\n",
              "      <td>4356.00</td>\n",
              "      <td>99.00</td>\n",
              "    </tr>\n",
              "  </tbody>\n",
              "</table>\n",
              "</div>\n",
              "      <button class=\"colab-df-convert\" onclick=\"convertToInteractive('df-cbed10cf-afde-4eb9-b122-dc0433e76c7d')\"\n",
              "              title=\"Convert this dataframe to an interactive table.\"\n",
              "              style=\"display:none;\">\n",
              "        \n",
              "  <svg xmlns=\"http://www.w3.org/2000/svg\" height=\"24px\"viewBox=\"0 0 24 24\"\n",
              "       width=\"24px\">\n",
              "    <path d=\"M0 0h24v24H0V0z\" fill=\"none\"/>\n",
              "    <path d=\"M18.56 5.44l.94 2.06.94-2.06 2.06-.94-2.06-.94-.94-2.06-.94 2.06-2.06.94zm-11 1L8.5 8.5l.94-2.06 2.06-.94-2.06-.94L8.5 2.5l-.94 2.06-2.06.94zm10 10l.94 2.06.94-2.06 2.06-.94-2.06-.94-.94-2.06-.94 2.06-2.06.94z\"/><path d=\"M17.41 7.96l-1.37-1.37c-.4-.4-.92-.59-1.43-.59-.52 0-1.04.2-1.43.59L10.3 9.45l-7.72 7.72c-.78.78-.78 2.05 0 2.83L4 21.41c.39.39.9.59 1.41.59.51 0 1.02-.2 1.41-.59l7.78-7.78 2.81-2.81c.8-.78.8-2.07 0-2.86zM5.41 20L4 18.59l7.72-7.72 1.47 1.35L5.41 20z\"/>\n",
              "  </svg>\n",
              "      </button>\n",
              "      \n",
              "  <style>\n",
              "    .colab-df-container {\n",
              "      display:flex;\n",
              "      flex-wrap:wrap;\n",
              "      gap: 12px;\n",
              "    }\n",
              "\n",
              "    .colab-df-convert {\n",
              "      background-color: #E8F0FE;\n",
              "      border: none;\n",
              "      border-radius: 50%;\n",
              "      cursor: pointer;\n",
              "      display: none;\n",
              "      fill: #1967D2;\n",
              "      height: 32px;\n",
              "      padding: 0 0 0 0;\n",
              "      width: 32px;\n",
              "    }\n",
              "\n",
              "    .colab-df-convert:hover {\n",
              "      background-color: #E2EBFA;\n",
              "      box-shadow: 0px 1px 2px rgba(60, 64, 67, 0.3), 0px 1px 3px 1px rgba(60, 64, 67, 0.15);\n",
              "      fill: #174EA6;\n",
              "    }\n",
              "\n",
              "    [theme=dark] .colab-df-convert {\n",
              "      background-color: #3B4455;\n",
              "      fill: #D2E3FC;\n",
              "    }\n",
              "\n",
              "    [theme=dark] .colab-df-convert:hover {\n",
              "      background-color: #434B5C;\n",
              "      box-shadow: 0px 1px 3px 1px rgba(0, 0, 0, 0.15);\n",
              "      filter: drop-shadow(0px 1px 2px rgba(0, 0, 0, 0.3));\n",
              "      fill: #FFFFFF;\n",
              "    }\n",
              "  </style>\n",
              "\n",
              "      <script>\n",
              "        const buttonEl =\n",
              "          document.querySelector('#df-cbed10cf-afde-4eb9-b122-dc0433e76c7d button.colab-df-convert');\n",
              "        buttonEl.style.display =\n",
              "          google.colab.kernel.accessAllowed ? 'block' : 'none';\n",
              "\n",
              "        async function convertToInteractive(key) {\n",
              "          const element = document.querySelector('#df-cbed10cf-afde-4eb9-b122-dc0433e76c7d');\n",
              "          const dataTable =\n",
              "            await google.colab.kernel.invokeFunction('convertToInteractive',\n",
              "                                                     [key], {});\n",
              "          if (!dataTable) return;\n",
              "\n",
              "          const docLinkHtml = 'Like what you see? Visit the ' +\n",
              "            '<a target=\"_blank\" href=https://colab.research.google.com/notebooks/data_table.ipynb>data table notebook</a>'\n",
              "            + ' to learn more about interactive tables.';\n",
              "          element.innerHTML = '';\n",
              "          dataTable['output_type'] = 'display_data';\n",
              "          await google.colab.output.renderOutput(dataTable, element);\n",
              "          const docLink = document.createElement('div');\n",
              "          docLink.innerHTML = docLinkHtml;\n",
              "          element.appendChild(docLink);\n",
              "        }\n",
              "      </script>\n",
              "    </div>\n",
              "  </div>\n",
              "  "
            ]
          },
          "metadata": {},
          "execution_count": 24
        }
      ]
    },
    {
      "cell_type": "code",
      "source": [
        "# 범주(명목)형 변수\n",
        "# workclass : 고용 형태\n",
        "# education : 학력\n",
        "# marital-status : 결혼 상태\n",
        "# occupation : 직업\n",
        "# relationship : 가족관계\n",
        "# race : 인종\n",
        "# sex : 성별\n",
        "# native-country : 출신국가\n",
        "# class : 연봉 범위\n",
        "df.describe(include='O')\n",
        "df.describe(include='object')"
      ],
      "metadata": {
        "colab": {
          "base_uri": "https://localhost:8080/",
          "height": 175
        },
        "id": "BnL4rFuieSKW",
        "outputId": "396e8b2c-d7f5-4963-b6e6-55b231ca1c8d"
      },
      "execution_count": 25,
      "outputs": [
        {
          "output_type": "execute_result",
          "data": {
            "text/plain": [
              "       workclass education      marital-status      occupation relationship  \\\n",
              "count      46043     48842               48842           46033        48842   \n",
              "unique         8        16                   7              14            6   \n",
              "top      Private   HS-grad  Married-civ-spouse  Prof-specialty      Husband   \n",
              "freq       33906     15784               22379            6172        19716   \n",
              "\n",
              "         race    sex native-country  class  \n",
              "count   48842  48842          47985  48842  \n",
              "unique      5      2             41      2  \n",
              "top     White   Male  United-States  <=50K  \n",
              "freq    41762  32650          43832  37155  "
            ],
            "text/html": [
              "\n",
              "  <div id=\"df-5ac08881-2d04-4bcf-b349-c0c8f7442796\">\n",
              "    <div class=\"colab-df-container\">\n",
              "      <div>\n",
              "<style scoped>\n",
              "    .dataframe tbody tr th:only-of-type {\n",
              "        vertical-align: middle;\n",
              "    }\n",
              "\n",
              "    .dataframe tbody tr th {\n",
              "        vertical-align: top;\n",
              "    }\n",
              "\n",
              "    .dataframe thead th {\n",
              "        text-align: right;\n",
              "    }\n",
              "</style>\n",
              "<table border=\"1\" class=\"dataframe\">\n",
              "  <thead>\n",
              "    <tr style=\"text-align: right;\">\n",
              "      <th></th>\n",
              "      <th>workclass</th>\n",
              "      <th>education</th>\n",
              "      <th>marital-status</th>\n",
              "      <th>occupation</th>\n",
              "      <th>relationship</th>\n",
              "      <th>race</th>\n",
              "      <th>sex</th>\n",
              "      <th>native-country</th>\n",
              "      <th>class</th>\n",
              "    </tr>\n",
              "  </thead>\n",
              "  <tbody>\n",
              "    <tr>\n",
              "      <th>count</th>\n",
              "      <td>46043</td>\n",
              "      <td>48842</td>\n",
              "      <td>48842</td>\n",
              "      <td>46033</td>\n",
              "      <td>48842</td>\n",
              "      <td>48842</td>\n",
              "      <td>48842</td>\n",
              "      <td>47985</td>\n",
              "      <td>48842</td>\n",
              "    </tr>\n",
              "    <tr>\n",
              "      <th>unique</th>\n",
              "      <td>8</td>\n",
              "      <td>16</td>\n",
              "      <td>7</td>\n",
              "      <td>14</td>\n",
              "      <td>6</td>\n",
              "      <td>5</td>\n",
              "      <td>2</td>\n",
              "      <td>41</td>\n",
              "      <td>2</td>\n",
              "    </tr>\n",
              "    <tr>\n",
              "      <th>top</th>\n",
              "      <td>Private</td>\n",
              "      <td>HS-grad</td>\n",
              "      <td>Married-civ-spouse</td>\n",
              "      <td>Prof-specialty</td>\n",
              "      <td>Husband</td>\n",
              "      <td>White</td>\n",
              "      <td>Male</td>\n",
              "      <td>United-States</td>\n",
              "      <td>&lt;=50K</td>\n",
              "    </tr>\n",
              "    <tr>\n",
              "      <th>freq</th>\n",
              "      <td>33906</td>\n",
              "      <td>15784</td>\n",
              "      <td>22379</td>\n",
              "      <td>6172</td>\n",
              "      <td>19716</td>\n",
              "      <td>41762</td>\n",
              "      <td>32650</td>\n",
              "      <td>43832</td>\n",
              "      <td>37155</td>\n",
              "    </tr>\n",
              "  </tbody>\n",
              "</table>\n",
              "</div>\n",
              "      <button class=\"colab-df-convert\" onclick=\"convertToInteractive('df-5ac08881-2d04-4bcf-b349-c0c8f7442796')\"\n",
              "              title=\"Convert this dataframe to an interactive table.\"\n",
              "              style=\"display:none;\">\n",
              "        \n",
              "  <svg xmlns=\"http://www.w3.org/2000/svg\" height=\"24px\"viewBox=\"0 0 24 24\"\n",
              "       width=\"24px\">\n",
              "    <path d=\"M0 0h24v24H0V0z\" fill=\"none\"/>\n",
              "    <path d=\"M18.56 5.44l.94 2.06.94-2.06 2.06-.94-2.06-.94-.94-2.06-.94 2.06-2.06.94zm-11 1L8.5 8.5l.94-2.06 2.06-.94-2.06-.94L8.5 2.5l-.94 2.06-2.06.94zm10 10l.94 2.06.94-2.06 2.06-.94-2.06-.94-.94-2.06-.94 2.06-2.06.94z\"/><path d=\"M17.41 7.96l-1.37-1.37c-.4-.4-.92-.59-1.43-.59-.52 0-1.04.2-1.43.59L10.3 9.45l-7.72 7.72c-.78.78-.78 2.05 0 2.83L4 21.41c.39.39.9.59 1.41.59.51 0 1.02-.2 1.41-.59l7.78-7.78 2.81-2.81c.8-.78.8-2.07 0-2.86zM5.41 20L4 18.59l7.72-7.72 1.47 1.35L5.41 20z\"/>\n",
              "  </svg>\n",
              "      </button>\n",
              "      \n",
              "  <style>\n",
              "    .colab-df-container {\n",
              "      display:flex;\n",
              "      flex-wrap:wrap;\n",
              "      gap: 12px;\n",
              "    }\n",
              "\n",
              "    .colab-df-convert {\n",
              "      background-color: #E8F0FE;\n",
              "      border: none;\n",
              "      border-radius: 50%;\n",
              "      cursor: pointer;\n",
              "      display: none;\n",
              "      fill: #1967D2;\n",
              "      height: 32px;\n",
              "      padding: 0 0 0 0;\n",
              "      width: 32px;\n",
              "    }\n",
              "\n",
              "    .colab-df-convert:hover {\n",
              "      background-color: #E2EBFA;\n",
              "      box-shadow: 0px 1px 2px rgba(60, 64, 67, 0.3), 0px 1px 3px 1px rgba(60, 64, 67, 0.15);\n",
              "      fill: #174EA6;\n",
              "    }\n",
              "\n",
              "    [theme=dark] .colab-df-convert {\n",
              "      background-color: #3B4455;\n",
              "      fill: #D2E3FC;\n",
              "    }\n",
              "\n",
              "    [theme=dark] .colab-df-convert:hover {\n",
              "      background-color: #434B5C;\n",
              "      box-shadow: 0px 1px 3px 1px rgba(0, 0, 0, 0.15);\n",
              "      filter: drop-shadow(0px 1px 2px rgba(0, 0, 0, 0.3));\n",
              "      fill: #FFFFFF;\n",
              "    }\n",
              "  </style>\n",
              "\n",
              "      <script>\n",
              "        const buttonEl =\n",
              "          document.querySelector('#df-5ac08881-2d04-4bcf-b349-c0c8f7442796 button.colab-df-convert');\n",
              "        buttonEl.style.display =\n",
              "          google.colab.kernel.accessAllowed ? 'block' : 'none';\n",
              "\n",
              "        async function convertToInteractive(key) {\n",
              "          const element = document.querySelector('#df-5ac08881-2d04-4bcf-b349-c0c8f7442796');\n",
              "          const dataTable =\n",
              "            await google.colab.kernel.invokeFunction('convertToInteractive',\n",
              "                                                     [key], {});\n",
              "          if (!dataTable) return;\n",
              "\n",
              "          const docLinkHtml = 'Like what you see? Visit the ' +\n",
              "            '<a target=\"_blank\" href=https://colab.research.google.com/notebooks/data_table.ipynb>data table notebook</a>'\n",
              "            + ' to learn more about interactive tables.';\n",
              "          element.innerHTML = '';\n",
              "          dataTable['output_type'] = 'display_data';\n",
              "          await google.colab.output.renderOutput(dataTable, element);\n",
              "          const docLink = document.createElement('div');\n",
              "          docLink.innerHTML = docLinkHtml;\n",
              "          element.appendChild(docLink);\n",
              "        }\n",
              "      </script>\n",
              "    </div>\n",
              "  </div>\n",
              "  "
            ]
          },
          "metadata": {},
          "execution_count": 25
        }
      ]
    },
    {
      "cell_type": "markdown",
      "source": [
        "# 전처리"
      ],
      "metadata": {
        "id": "dSZ2pj0ueuKH"
      }
    },
    {
      "cell_type": "markdown",
      "source": [
        "## 종속변수 처리"
      ],
      "metadata": {
        "id": "qcKAbpf5GdF1"
      }
    },
    {
      "cell_type": "code",
      "source": [
        "# class / 종속변수 / 타깃 / 라벨\n",
        "df['class']"
      ],
      "metadata": {
        "colab": {
          "base_uri": "https://localhost:8080/"
        },
        "id": "8ndsj-1Detn6",
        "outputId": "4c12c123-2bae-40a2-9140-18f47402c88b"
      },
      "execution_count": 26,
      "outputs": [
        {
          "output_type": "execute_result",
          "data": {
            "text/plain": [
              "0        <=50K\n",
              "1        <=50K\n",
              "2         >50K\n",
              "3         >50K\n",
              "4        <=50K\n",
              "         ...  \n",
              "48837    <=50K\n",
              "48838     >50K\n",
              "48839    <=50K\n",
              "48840    <=50K\n",
              "48841     >50K\n",
              "Name: class, Length: 48842, dtype: object"
            ]
          },
          "metadata": {},
          "execution_count": 26
        }
      ]
    },
    {
      "cell_type": "code",
      "source": [
        "print(df['class'].unique())# 숫자 형태로 바꿔줘야 사용 가능\n",
        "# 분류 -> 50k 초과 (1) / 50k 이하 (0)\n",
        "# df['class'] = df['class'].map({' <=50K': 0, ' >50K':1})\n",
        "df['class'] = df['class'].map({\n",
        "    '<=50K':0, '>50K': 1\n",
        "}) # map -> 이미 매핑된 \n",
        "df['class']"
      ],
      "metadata": {
        "colab": {
          "base_uri": "https://localhost:8080/"
        },
        "id": "Xfv-9mnwfATJ",
        "outputId": "6d5be6c3-f1e5-4424-ddb5-bd6c43c711cd"
      },
      "execution_count": 27,
      "outputs": [
        {
          "output_type": "stream",
          "name": "stdout",
          "text": [
            "['<=50K' '>50K']\n"
          ]
        },
        {
          "output_type": "execute_result",
          "data": {
            "text/plain": [
              "0        0\n",
              "1        0\n",
              "2        1\n",
              "3        1\n",
              "4        0\n",
              "        ..\n",
              "48837    0\n",
              "48838    1\n",
              "48839    0\n",
              "48840    0\n",
              "48841    1\n",
              "Name: class, Length: 48842, dtype: int64"
            ]
          },
          "metadata": {},
          "execution_count": 27
        }
      ]
    },
    {
      "cell_type": "code",
      "source": [
        "df['class'].value_counts()"
      ],
      "metadata": {
        "colab": {
          "base_uri": "https://localhost:8080/"
        },
        "id": "ZzWQ2Mdof5Zq",
        "outputId": "a83274a9-a1d8-4146-9c71-a8fdbb36c680"
      },
      "execution_count": 28,
      "outputs": [
        {
          "output_type": "execute_result",
          "data": {
            "text/plain": [
              "0    37155\n",
              "1    11687\n",
              "Name: class, dtype: int64"
            ]
          },
          "metadata": {},
          "execution_count": 28
        }
      ]
    },
    {
      "cell_type": "code",
      "source": [
        "df['class'].value_counts().plot(kind='bar')"
      ],
      "metadata": {
        "colab": {
          "base_uri": "https://localhost:8080/",
          "height": 280
        },
        "id": "mUOi-GGef-0k",
        "outputId": "9f2b1c05-a815-434b-9f9e-8350d790f9f6"
      },
      "execution_count": 29,
      "outputs": [
        {
          "output_type": "execute_result",
          "data": {
            "text/plain": [
              "<Axes: >"
            ]
          },
          "metadata": {},
          "execution_count": 29
        },
        {
          "output_type": "display_data",
          "data": {
            "text/plain": [
              "<Figure size 432x288 with 1 Axes>"
            ],
            "image/png": "[encoded data removed]"
          },
          "metadata": {
            "needs_background": "light"
          }
        }
      ]
    },
    {
      "cell_type": "code",
      "source": [
        "df['class'].value_counts() / len(df['class'])"
      ],
      "metadata": {
        "colab": {
          "base_uri": "https://localhost:8080/"
        },
        "id": "kFbvV253gDtr",
        "outputId": "50b4e15c-cf1f-4d4e-bdc9-011c2221a519"
      },
      "execution_count": 30,
      "outputs": [
        {
          "output_type": "execute_result",
          "data": {
            "text/plain": [
              "0   0.76\n",
              "1   0.24\n",
              "Name: class, dtype: float64"
            ]
          },
          "metadata": {},
          "execution_count": 30
        }
      ]
    },
    {
      "cell_type": "code",
      "source": [
        "df.info()"
      ],
      "metadata": {
        "colab": {
          "base_uri": "https://localhost:8080/"
        },
        "id": "jTl8EGs0I94K",
        "outputId": "365b4cbc-c051-42e8-8f16-907490e95e53"
      },
      "execution_count": 31,
      "outputs": [
        {
          "output_type": "stream",
          "name": "stdout",
          "text": [
            "<class 'pandas.core.frame.DataFrame'>\n",
            "RangeIndex: 48842 entries, 0 to 48841\n",
            "Data columns (total 14 columns):\n",
            " #   Column          Non-Null Count  Dtype \n",
            "---  ------          --------------  ----- \n",
            " 0   age             48842 non-null  int64 \n",
            " 1   workclass       46043 non-null  object\n",
            " 2   education       48842 non-null  object\n",
            " 3   education-num   48842 non-null  int64 \n",
            " 4   marital-status  48842 non-null  object\n",
            " 5   occupation      46033 non-null  object\n",
            " 6   relationship    48842 non-null  object\n",
            " 7   race            48842 non-null  object\n",
            " 8   sex             48842 non-null  object\n",
            " 9   capital-gain    48842 non-null  int64 \n",
            " 10  capital-loss    48842 non-null  int64 \n",
            " 11  hours-per-week  48842 non-null  int64 \n",
            " 12  native-country  47985 non-null  object\n",
            " 13  class           48842 non-null  int64 \n",
            "dtypes: int64(6), object(8)\n",
            "memory usage: 5.2+ MB\n"
          ]
        }
      ]
    },
    {
      "cell_type": "markdown",
      "source": [
        "범주형 변수의 변환\n",
        "1. 순서형 : 크고 작음이 있음, 비교 연산은 되는데, 산술 연산이 안되서 통계값 X\n",
        "1. 명목형 : 소속 여부, 특성 해당하는지... 비교 연산 X\n",
        "---\n",
        "1. 순서형은 순서대로 숫자로 만들어버리면 처리 가능\n",
        "1. 범주형 변수에 대응하는 대표적인 숫자를 집어넣어줌 (평균 소득, 재산 수준)\n",
        "    - 통계값에 따른 잘못된 모델링\n",
        "1. 명목형 -> 원핫인코딩(0,1) => 더미변수\n",
        "    - 열이 늘어나서 성능에 영향"
      ],
      "metadata": {
        "id": "0K_PpoEggPqw"
      }
    },
    {
      "cell_type": "code",
      "source": [
        "df.describe(include='O')"
      ],
      "metadata": {
        "colab": {
          "base_uri": "https://localhost:8080/",
          "height": 175
        },
        "id": "Q8zTJwPPgPFu",
        "outputId": "ff3407f4-eb29-4db9-e253-9275bdeb2a12"
      },
      "execution_count": 35,
      "outputs": [
        {
          "output_type": "execute_result",
          "data": {
            "text/plain": [
              "       workclass education      marital-status      occupation relationship  \\\n",
              "count      46043     48842               48842           46033        48842   \n",
              "unique         8        16                   7              14            6   \n",
              "top      Private   HS-grad  Married-civ-spouse  Prof-specialty      Husband   \n",
              "freq       33906     15784               22379            6172        19716   \n",
              "\n",
              "         race    sex native-country  \n",
              "count   48842  48842          47985  \n",
              "unique      5      2             41  \n",
              "top     White   Male  United-States  \n",
              "freq    41762  32650          43832  "
            ],
            "text/html": [
              "\n",
              "  <div id=\"df-abd1489e-3ceb-440e-9055-a4a3d1ec14fe\">\n",
              "    <div class=\"colab-df-container\">\n",
              "      <div>\n",
              "<style scoped>\n",
              "    .dataframe tbody tr th:only-of-type {\n",
              "        vertical-align: middle;\n",
              "    }\n",
              "\n",
              "    .dataframe tbody tr th {\n",
              "        vertical-align: top;\n",
              "    }\n",
              "\n",
              "    .dataframe thead th {\n",
              "        text-align: right;\n",
              "    }\n",
              "</style>\n",
              "<table border=\"1\" class=\"dataframe\">\n",
              "  <thead>\n",
              "    <tr style=\"text-align: right;\">\n",
              "      <th></th>\n",
              "      <th>workclass</th>\n",
              "      <th>education</th>\n",
              "      <th>marital-status</th>\n",
              "      <th>occupation</th>\n",
              "      <th>relationship</th>\n",
              "      <th>race</th>\n",
              "      <th>sex</th>\n",
              "      <th>native-country</th>\n",
              "    </tr>\n",
              "  </thead>\n",
              "  <tbody>\n",
              "    <tr>\n",
              "      <th>count</th>\n",
              "      <td>46043</td>\n",
              "      <td>48842</td>\n",
              "      <td>48842</td>\n",
              "      <td>46033</td>\n",
              "      <td>48842</td>\n",
              "      <td>48842</td>\n",
              "      <td>48842</td>\n",
              "      <td>47985</td>\n",
              "    </tr>\n",
              "    <tr>\n",
              "      <th>unique</th>\n",
              "      <td>8</td>\n",
              "      <td>16</td>\n",
              "      <td>7</td>\n",
              "      <td>14</td>\n",
              "      <td>6</td>\n",
              "      <td>5</td>\n",
              "      <td>2</td>\n",
              "      <td>41</td>\n",
              "    </tr>\n",
              "    <tr>\n",
              "      <th>top</th>\n",
              "      <td>Private</td>\n",
              "      <td>HS-grad</td>\n",
              "      <td>Married-civ-spouse</td>\n",
              "      <td>Prof-specialty</td>\n",
              "      <td>Husband</td>\n",
              "      <td>White</td>\n",
              "      <td>Male</td>\n",
              "      <td>United-States</td>\n",
              "    </tr>\n",
              "    <tr>\n",
              "      <th>freq</th>\n",
              "      <td>33906</td>\n",
              "      <td>15784</td>\n",
              "      <td>22379</td>\n",
              "      <td>6172</td>\n",
              "      <td>19716</td>\n",
              "      <td>41762</td>\n",
              "      <td>32650</td>\n",
              "      <td>43832</td>\n",
              "    </tr>\n",
              "  </tbody>\n",
              "</table>\n",
              "</div>\n",
              "      <button class=\"colab-df-convert\" onclick=\"convertToInteractive('df-abd1489e-3ceb-440e-9055-a4a3d1ec14fe')\"\n",
              "              title=\"Convert this dataframe to an interactive table.\"\n",
              "              style=\"display:none;\">\n",
              "        \n",
              "  <svg xmlns=\"http://www.w3.org/2000/svg\" height=\"24px\"viewBox=\"0 0 24 24\"\n",
              "       width=\"24px\">\n",
              "    <path d=\"M0 0h24v24H0V0z\" fill=\"none\"/>\n",
              "    <path d=\"M18.56 5.44l.94 2.06.94-2.06 2.06-.94-2.06-.94-.94-2.06-.94 2.06-2.06.94zm-11 1L8.5 8.5l.94-2.06 2.06-.94-2.06-.94L8.5 2.5l-.94 2.06-2.06.94zm10 10l.94 2.06.94-2.06 2.06-.94-2.06-.94-.94-2.06-.94 2.06-2.06.94z\"/><path d=\"M17.41 7.96l-1.37-1.37c-.4-.4-.92-.59-1.43-.59-.52 0-1.04.2-1.43.59L10.3 9.45l-7.72 7.72c-.78.78-.78 2.05 0 2.83L4 21.41c.39.39.9.59 1.41.59.51 0 1.02-.2 1.41-.59l7.78-7.78 2.81-2.81c.8-.78.8-2.07 0-2.86zM5.41 20L4 18.59l7.72-7.72 1.47 1.35L5.41 20z\"/>\n",
              "  </svg>\n",
              "      </button>\n",
              "      \n",
              "  <style>\n",
              "    .colab-df-container {\n",
              "      display:flex;\n",
              "      flex-wrap:wrap;\n",
              "      gap: 12px;\n",
              "    }\n",
              "\n",
              "    .colab-df-convert {\n",
              "      background-color: #E8F0FE;\n",
              "      border: none;\n",
              "      border-radius: 50%;\n",
              "      cursor: pointer;\n",
              "      display: none;\n",
              "      fill: #1967D2;\n",
              "      height: 32px;\n",
              "      padding: 0 0 0 0;\n",
              "      width: 32px;\n",
              "    }\n",
              "\n",
              "    .colab-df-convert:hover {\n",
              "      background-color: #E2EBFA;\n",
              "      box-shadow: 0px 1px 2px rgba(60, 64, 67, 0.3), 0px 1px 3px 1px rgba(60, 64, 67, 0.15);\n",
              "      fill: #174EA6;\n",
              "    }\n",
              "\n",
              "    [theme=dark] .colab-df-convert {\n",
              "      background-color: #3B4455;\n",
              "      fill: #D2E3FC;\n",
              "    }\n",
              "\n",
              "    [theme=dark] .colab-df-convert:hover {\n",
              "      background-color: #434B5C;\n",
              "      box-shadow: 0px 1px 3px 1px rgba(0, 0, 0, 0.15);\n",
              "      filter: drop-shadow(0px 1px 2px rgba(0, 0, 0, 0.3));\n",
              "      fill: #FFFFFF;\n",
              "    }\n",
              "  </style>\n",
              "\n",
              "      <script>\n",
              "        const buttonEl =\n",
              "          document.querySelector('#df-abd1489e-3ceb-440e-9055-a4a3d1ec14fe button.colab-df-convert');\n",
              "        buttonEl.style.display =\n",
              "          google.colab.kernel.accessAllowed ? 'block' : 'none';\n",
              "\n",
              "        async function convertToInteractive(key) {\n",
              "          const element = document.querySelector('#df-abd1489e-3ceb-440e-9055-a4a3d1ec14fe');\n",
              "          const dataTable =\n",
              "            await google.colab.kernel.invokeFunction('convertToInteractive',\n",
              "                                                     [key], {});\n",
              "          if (!dataTable) return;\n",
              "\n",
              "          const docLinkHtml = 'Like what you see? Visit the ' +\n",
              "            '<a target=\"_blank\" href=https://colab.research.google.com/notebooks/data_table.ipynb>data table notebook</a>'\n",
              "            + ' to learn more about interactive tables.';\n",
              "          element.innerHTML = '';\n",
              "          dataTable['output_type'] = 'display_data';\n",
              "          await google.colab.output.renderOutput(dataTable, element);\n",
              "          const docLink = document.createElement('div');\n",
              "          docLink.innerHTML = docLinkHtml;\n",
              "          element.appendChild(docLink);\n",
              "        }\n",
              "      </script>\n",
              "    </div>\n",
              "  </div>\n",
              "  "
            ]
          },
          "metadata": {},
          "execution_count": 35
        }
      ]
    },
    {
      "cell_type": "code",
      "source": [
        "# 범주형 변수 값\n",
        "obj_list = df.describe(include='O').columns # 범주형 변수의 열 이름\n",
        "obj_list"
      ],
      "metadata": {
        "colab": {
          "base_uri": "https://localhost:8080/"
        },
        "id": "xzAxv3WwhlfT",
        "outputId": "95d840be-af27-4c89-8bef-79ff8a45405e"
      },
      "execution_count": 36,
      "outputs": [
        {
          "output_type": "execute_result",
          "data": {
            "text/plain": [
              "Index(['workclass', 'education', 'marital-status', 'occupation',\n",
              "       'relationship', 'race', 'sex', 'native-country'],\n",
              "      dtype='object')"
            ]
          },
          "metadata": {},
          "execution_count": 36
        }
      ]
    },
    {
      "cell_type": "markdown",
      "source": [
        "## 고유값이 10개 이상일 경우 선택\n",
        "* 더미변수화 시키기 어렵기 때문에 변형, 삭제, 선택"
      ],
      "metadata": {
        "id": "38WEJQeLGhra"
      }
    },
    {
      "cell_type": "code",
      "source": [
        "# 범주형 변수 처리\n",
        "# 1. 연속형 변수로 변환\n",
        "# 2. drop (삭제)\n",
        "# 3. dummies\n",
        "# 고윳값이 10개 이상인 경우 -> dummies로 바꾸기에는 문제가 있음음\n",
        "for o in obj_list:\n",
        "    if df[o].nunique() >= 10: # 열 별 고유값의 갯수가 10개 이상이면\n",
        "        print(o, df[o].nunique())"
      ],
      "metadata": {
        "colab": {
          "base_uri": "https://localhost:8080/"
        },
        "id": "4JSuPZcmhyKn",
        "outputId": "1cd30dac-aeba-48a5-8b1e-a8fe1e9a450e"
      },
      "execution_count": 37,
      "outputs": [
        {
          "output_type": "stream",
          "name": "stdout",
          "text": [
            "education 16\n",
            "occupation 14\n",
            "native-country 41\n"
          ]
        }
      ]
    },
    {
      "cell_type": "markdown",
      "source": [
        "### education"
      ],
      "metadata": {
        "id": "6yzAcl9qGsnw"
      }
    },
    {
      "cell_type": "code",
      "source": [
        "df.education.value_counts()"
      ],
      "metadata": {
        "colab": {
          "base_uri": "https://localhost:8080/"
        },
        "id": "8MMj5e1Oh7ZI",
        "outputId": "570d56dd-d1de-40c4-af6d-111afde4f7fc"
      },
      "execution_count": 38,
      "outputs": [
        {
          "output_type": "execute_result",
          "data": {
            "text/plain": [
              "HS-grad         15784\n",
              "Some-college    10878\n",
              "Bachelors        8025\n",
              "Masters          2657\n",
              "Assoc-voc        2061\n",
              "11th             1812\n",
              "Assoc-acdm       1601\n",
              "10th             1389\n",
              "7th-8th           955\n",
              "Prof-school       834\n",
              "9th               756\n",
              "12th              657\n",
              "Doctorate         594\n",
              "5th-6th           509\n",
              "1st-4th           247\n",
              "Preschool          83\n",
              "Name: education, dtype: int64"
            ]
          },
          "metadata": {},
          "execution_count": 38
        }
      ]
    },
    {
      "cell_type": "code",
      "source": [
        "df['education-num']\n",
        "df['education-num'].value_counts()"
      ],
      "metadata": {
        "colab": {
          "base_uri": "https://localhost:8080/"
        },
        "id": "_Tpq_qDdi0GN",
        "outputId": "827a01b0-3aab-44b4-cf3f-d585db5b45c1"
      },
      "execution_count": 40,
      "outputs": [
        {
          "output_type": "execute_result",
          "data": {
            "text/plain": [
              "9     15784\n",
              "10    10878\n",
              "13     8025\n",
              "14     2657\n",
              "11     2061\n",
              "7      1812\n",
              "12     1601\n",
              "6      1389\n",
              "4       955\n",
              "15      834\n",
              "5       756\n",
              "8       657\n",
              "16      594\n",
              "3       509\n",
              "2       247\n",
              "1        83\n",
              "Name: education-num, dtype: int64"
            ]
          },
          "metadata": {},
          "execution_count": 40
        }
      ]
    },
    {
      "cell_type": "code",
      "source": [
        "# education / education-num 1대1 대응이 되는지 확인\n",
        "for n in range(1, df.education.nunique()+1): # 1~education 고유값 + 1 (끝 제외)\n",
        "    print(f\"**{n}**\") # 1 ~ 16\n",
        "    # print(df[df['education-num'] == n]) # education-num이 n인 행\n",
        "    # print(df[df['education-num'] == n].education) # education-num이 n인 행의 education\n",
        "    print(df[df['education-num'] == n].education.unique()) # education-num이 n인 행의 education의 고유값\n",
        "    # print(df[df['education-num'] == n]['education'].unique())"
      ],
      "metadata": {
        "colab": {
          "base_uri": "https://localhost:8080/"
        },
        "id": "n6wLyvMOi51y",
        "outputId": "236fc057-18b1-45fe-96c4-f65b817eb6c0"
      },
      "execution_count": 44,
      "outputs": [
        {
          "output_type": "stream",
          "name": "stdout",
          "text": [
            "**1**\n",
            "['Preschool']\n",
            "**2**\n",
            "['1st-4th']\n",
            "**3**\n",
            "['5th-6th']\n",
            "**4**\n",
            "['7th-8th']\n",
            "**5**\n",
            "['9th']\n",
            "**6**\n",
            "['10th']\n",
            "**7**\n",
            "['11th']\n",
            "**8**\n",
            "['12th']\n",
            "**9**\n",
            "['HS-grad']\n",
            "**10**\n",
            "['Some-college']\n",
            "**11**\n",
            "['Assoc-voc']\n",
            "**12**\n",
            "['Assoc-acdm']\n",
            "**13**\n",
            "['Bachelors']\n",
            "**14**\n",
            "['Masters']\n",
            "**15**\n",
            "['Prof-school']\n",
            "**16**\n",
            "['Doctorate']\n"
          ]
        }
      ]
    },
    {
      "cell_type": "code",
      "source": [
        "df.drop('education', axis = 1, inplace=True)"
      ],
      "metadata": {
        "id": "AjHUFLG7j4qs"
      },
      "execution_count": 45,
      "outputs": []
    },
    {
      "cell_type": "code",
      "source": [
        "df.info()"
      ],
      "metadata": {
        "colab": {
          "base_uri": "https://localhost:8080/"
        },
        "id": "KnvOWDMTj9zg",
        "outputId": "7ce1c5ea-cf60-43da-c5e7-e9c4d73a9c3a"
      },
      "execution_count": 46,
      "outputs": [
        {
          "output_type": "stream",
          "name": "stdout",
          "text": [
            "<class 'pandas.core.frame.DataFrame'>\n",
            "RangeIndex: 48842 entries, 0 to 48841\n",
            "Data columns (total 13 columns):\n",
            " #   Column          Non-Null Count  Dtype \n",
            "---  ------          --------------  ----- \n",
            " 0   age             48842 non-null  int64 \n",
            " 1   workclass       46043 non-null  object\n",
            " 2   education-num   48842 non-null  int64 \n",
            " 3   marital-status  48842 non-null  object\n",
            " 4   occupation      46033 non-null  object\n",
            " 5   relationship    48842 non-null  object\n",
            " 6   race            48842 non-null  object\n",
            " 7   sex             48842 non-null  object\n",
            " 8   capital-gain    48842 non-null  int64 \n",
            " 9   capital-loss    48842 non-null  int64 \n",
            " 10  hours-per-week  48842 non-null  int64 \n",
            " 11  native-country  47985 non-null  object\n",
            " 12  class           48842 non-null  int64 \n",
            "dtypes: int64(6), object(7)\n",
            "memory usage: 4.8+ MB\n"
          ]
        }
      ]
    },
    {
      "cell_type": "markdown",
      "source": [
        "### occupation"
      ],
      "metadata": {
        "id": "FWPamlnVHO4D"
      }
    },
    {
      "cell_type": "code",
      "source": [
        "# 직업군 -> 우열 없음\n",
        "df.occupation.value_counts() # 더미변수화"
      ],
      "metadata": {
        "colab": {
          "base_uri": "https://localhost:8080/"
        },
        "id": "kQo7iBY8kHGg",
        "outputId": "46e76393-f066-4b98-c537-ab8f0844d1a2"
      },
      "execution_count": 47,
      "outputs": [
        {
          "output_type": "execute_result",
          "data": {
            "text/plain": [
              "Prof-specialty       6172\n",
              "Craft-repair         6112\n",
              "Exec-managerial      6086\n",
              "Adm-clerical         5611\n",
              "Sales                5504\n",
              "Other-service        4923\n",
              "Machine-op-inspct    3022\n",
              "Transport-moving     2355\n",
              "Handlers-cleaners    2072\n",
              "Farming-fishing      1490\n",
              "Tech-support         1446\n",
              "Protective-serv       983\n",
              "Priv-house-serv       242\n",
              "Armed-Forces           15\n",
              "Name: occupation, dtype: int64"
            ]
          },
          "metadata": {},
          "execution_count": 47
        }
      ]
    },
    {
      "cell_type": "code",
      "source": [
        "# 고연봉자(50k) 비율을 적용\n",
        "df.groupby('occupation')['class'].mean()\n",
        "df.groupby('occupation')['class'].mean().sort_values(ascending=False)"
      ],
      "metadata": {
        "colab": {
          "base_uri": "https://localhost:8080/"
        },
        "id": "6vYutYlUHXYx",
        "outputId": "17401dbb-0524-4c19-8038-18eecacdb5ee"
      },
      "execution_count": 50,
      "outputs": [
        {
          "output_type": "execute_result",
          "data": {
            "text/plain": [
              "occupation\n",
              "Exec-managerial     0.48\n",
              "Prof-specialty      0.45\n",
              "Armed-Forces        0.33\n",
              "Protective-serv     0.31\n",
              "Tech-support        0.29\n",
              "Sales               0.27\n",
              "Craft-repair        0.23\n",
              "Transport-moving    0.20\n",
              "Adm-clerical        0.14\n",
              "Machine-op-inspct   0.12\n",
              "Farming-fishing     0.12\n",
              "Handlers-cleaners   0.07\n",
              "Other-service       0.04\n",
              "Priv-house-serv     0.01\n",
              "Name: class, dtype: float64"
            ]
          },
          "metadata": {},
          "execution_count": 50
        }
      ]
    },
    {
      "cell_type": "markdown",
      "source": [
        "### native-country"
      ],
      "metadata": {
        "id": "QxX0N4pOHp-x"
      }
    },
    {
      "cell_type": "code",
      "source": [
        "df['native-country'].value_counts()\n",
        "# 1. 미국 - 비미국 => 1, 0 (eq, ==)\n",
        "df['native-country'].eq('United-States').mul(1).value_counts()\n",
        "# 2. 대륙별/언어권별/인종별 -> 추가적인 기준을 만들어서 그룹화한다음 더미변수화\n",
        "# 3. 순서화 시켜버림 => 출신국가별로 고연봉자 비율을 구해서 -> 해당 비율별로 수치형 변수"
      ],
      "metadata": {
        "colab": {
          "base_uri": "https://localhost:8080/"
        },
        "id": "NbUEdjidkb2X",
        "outputId": "ecd844be-1d77-44ae-894e-1f490a3e7278"
      },
      "execution_count": 53,
      "outputs": [
        {
          "output_type": "execute_result",
          "data": {
            "text/plain": [
              "1    43832\n",
              "0     5010\n",
              "Name: native-country, dtype: int64"
            ]
          },
          "metadata": {},
          "execution_count": 53
        }
      ]
    },
    {
      "cell_type": "code",
      "source": [
        "# groupby(묶고 싶은 열 이름)[확인하고 싶은 열 이름].적용하고 싶은 그룹함수()\n",
        "# 고연봉자인 사람은 1, 아닌 사람은 0 => (고연봉자들 1) / 전체 데이터 수 => 전체 사람 대비 고연봉자의 비율\n",
        "# class 0,1 => (1:고연봉자)의 비율\n",
        "df.groupby('native-country')['class'].mean()"
      ],
      "metadata": {
        "colab": {
          "base_uri": "https://localhost:8080/"
        },
        "id": "HWhiskG8pXW0",
        "outputId": "a4a2a87e-f0d9-4438-80a8-a72477468b9c"
      },
      "execution_count": 54,
      "outputs": [
        {
          "output_type": "execute_result",
          "data": {
            "text/plain": [
              "native-country\n",
              "Cambodia                     0.32\n",
              "Canada                       0.35\n",
              "China                        0.30\n",
              "Columbia                     0.05\n",
              "Cuba                         0.25\n",
              "Dominican-Republic           0.05\n",
              "Ecuador                      0.13\n",
              "El-Salvador                  0.07\n",
              "England                      0.37\n",
              "France                       0.42\n",
              "Germany                      0.28\n",
              "Greece                       0.37\n",
              "Guatemala                    0.03\n",
              "Haiti                        0.12\n",
              "Holand-Netherlands           0.00\n",
              "Honduras                     0.10\n",
              "Hong                         0.27\n",
              "Hungary                      0.32\n",
              "India                        0.41\n",
              "Iran                         0.37\n",
              "Ireland                      0.30\n",
              "Italy                        0.32\n",
              "Jamaica                      0.14\n",
              "Japan                        0.35\n",
              "Laos                         0.09\n",
              "Mexico                       0.05\n",
              "Nicaragua                    0.06\n",
              "Outlying-US(Guam-USVI-etc)   0.04\n",
              "Peru                         0.09\n",
              "Philippines                  0.29\n",
              "Poland                       0.20\n",
              "Portugal                     0.18\n",
              "Puerto-Rico                  0.11\n",
              "Scotland                     0.14\n",
              "South                        0.17\n",
              "Taiwan                       0.40\n",
              "Thailand                     0.17\n",
              "Trinadad&Tobago              0.07\n",
              "United-States                0.24\n",
              "Vietnam                      0.08\n",
              "Yugoslavia                   0.35\n",
              "Name: class, dtype: float64"
            ]
          },
          "metadata": {},
          "execution_count": 54
        }
      ]
    },
    {
      "cell_type": "code",
      "source": [
        "# 오름차순 (작은->큰데이터)\n",
        "df.groupby('native-country')['class'].mean().sort_values()\n",
        "# 내림차순 (큰->작은데이터)\n",
        "df.groupby('native-country')['class'].mean().sort_values(ascending=False)"
      ],
      "metadata": {
        "colab": {
          "base_uri": "https://localhost:8080/"
        },
        "id": "W_RwGmMZp0Nu",
        "outputId": "746858ab-6887-4b98-bb5c-dd356135ae13"
      },
      "execution_count": 56,
      "outputs": [
        {
          "output_type": "execute_result",
          "data": {
            "text/plain": [
              "native-country\n",
              "France                       0.42\n",
              "India                        0.41\n",
              "Taiwan                       0.40\n",
              "Iran                         0.37\n",
              "England                      0.37\n",
              "Greece                       0.37\n",
              "Yugoslavia                   0.35\n",
              "Japan                        0.35\n",
              "Canada                       0.35\n",
              "Italy                        0.32\n",
              "Cambodia                     0.32\n",
              "Hungary                      0.32\n",
              "Ireland                      0.30\n",
              "China                        0.30\n",
              "Philippines                  0.29\n",
              "Germany                      0.28\n",
              "Hong                         0.27\n",
              "Cuba                         0.25\n",
              "United-States                0.24\n",
              "Poland                       0.20\n",
              "Portugal                     0.18\n",
              "South                        0.17\n",
              "Thailand                     0.17\n",
              "Scotland                     0.14\n",
              "Jamaica                      0.14\n",
              "Ecuador                      0.13\n",
              "Haiti                        0.12\n",
              "Puerto-Rico                  0.11\n",
              "Honduras                     0.10\n",
              "Peru                         0.09\n",
              "Laos                         0.09\n",
              "Vietnam                      0.08\n",
              "Trinadad&Tobago              0.07\n",
              "El-Salvador                  0.07\n",
              "Nicaragua                    0.06\n",
              "Mexico                       0.05\n",
              "Dominican-Republic           0.05\n",
              "Columbia                     0.05\n",
              "Outlying-US(Guam-USVI-etc)   0.04\n",
              "Guatemala                    0.03\n",
              "Holand-Netherlands           0.00\n",
              "Name: class, dtype: float64"
            ]
          },
          "metadata": {},
          "execution_count": 56
        }
      ]
    },
    {
      "cell_type": "code",
      "source": [
        "country_group = df.groupby('native-country')['class'].mean() # 출신국가별 고연봉자 비율\n",
        "# country_group 나라별 고연봉자 비율을 원래 df에 합치고 싶어요\n",
        "# pd.merge(...) df1.merge(df2)"
      ],
      "metadata": {
        "id": "YFtP_Nvcqijz"
      },
      "execution_count": 57,
      "outputs": []
    },
    {
      "cell_type": "code",
      "source": [
        "pd.options.display.float_format = '{:.4f}'.format\n",
        "print(df.groupby('native-country')['class'].mean().sort_values(ascending=False))\n",
        "pd.options.display.float_format = '{:.2f}'.format"
      ],
      "metadata": {
        "colab": {
          "base_uri": "https://localhost:8080/"
        },
        "id": "lZk5AejOq4Dm",
        "outputId": "1e4d86d5-9a20-40ea-93e8-b712f619a3e2"
      },
      "execution_count": 58,
      "outputs": [
        {
          "output_type": "stream",
          "name": "stdout",
          "text": [
            "native-country\n",
            "France                       0.4211\n",
            "India                        0.4106\n",
            "Taiwan                       0.4000\n",
            "Iran                         0.3729\n",
            "England                      0.3701\n",
            "Greece                       0.3673\n",
            "Yugoslavia                   0.3478\n",
            "Japan                        0.3478\n",
            "Canada                       0.3462\n",
            "Italy                        0.3238\n",
            "Cambodia                     0.3214\n",
            "Hungary                      0.3158\n",
            "Ireland                      0.2973\n",
            "China                        0.2951\n",
            "Philippines                  0.2881\n",
            "Germany                      0.2816\n",
            "Hong                         0.2667\n",
            "Cuba                         0.2464\n",
            "United-States                0.2440\n",
            "Poland                       0.1954\n",
            "Portugal                     0.1791\n",
            "South                        0.1739\n",
            "Thailand                     0.1667\n",
            "Scotland                     0.1429\n",
            "Jamaica                      0.1415\n",
            "Ecuador                      0.1333\n",
            "Haiti                        0.1200\n",
            "Puerto-Rico                  0.1087\n",
            "Honduras                     0.1000\n",
            "Peru                         0.0870\n",
            "Laos                         0.0870\n",
            "Vietnam                      0.0814\n",
            "Trinadad&Tobago              0.0741\n",
            "El-Salvador                  0.0710\n",
            "Nicaragua                    0.0612\n",
            "Mexico                       0.0494\n",
            "Dominican-Republic           0.0485\n",
            "Columbia                     0.0471\n",
            "Outlying-US(Guam-USVI-etc)   0.0435\n",
            "Guatemala                    0.0341\n",
            "Holand-Netherlands           0.0000\n",
            "Name: class, dtype: float64\n"
          ]
        }
      ]
    },
    {
      "cell_type": "code",
      "source": [
        "df.head()"
      ],
      "metadata": {
        "colab": {
          "base_uri": "https://localhost:8080/",
          "height": 206
        },
        "id": "L-GPxNoFrAPP",
        "outputId": "4c4dcf00-56c7-4052-81b9-096228476220"
      },
      "execution_count": 59,
      "outputs": [
        {
          "output_type": "execute_result",
          "data": {
            "text/plain": [
              "   age  workclass  education-num      marital-status         occupation  \\\n",
              "0   25    Private              7       Never-married  Machine-op-inspct   \n",
              "1   38    Private              9  Married-civ-spouse    Farming-fishing   \n",
              "2   28  Local-gov             12  Married-civ-spouse    Protective-serv   \n",
              "3   44    Private             10  Married-civ-spouse  Machine-op-inspct   \n",
              "4   18        NaN             10       Never-married                NaN   \n",
              "\n",
              "  relationship   race     sex  capital-gain  capital-loss  hours-per-week  \\\n",
              "0    Own-child  Black    Male             0             0              40   \n",
              "1      Husband  White    Male             0             0              50   \n",
              "2      Husband  White    Male             0             0              40   \n",
              "3      Husband  Black    Male          7688             0              40   \n",
              "4    Own-child  White  Female             0             0              30   \n",
              "\n",
              "  native-country  class  \n",
              "0  United-States      0  \n",
              "1  United-States      0  \n",
              "2  United-States      1  \n",
              "3  United-States      1  \n",
              "4  United-States      0  "
            ],
            "text/html": [
              "\n",
              "  <div id=\"df-3814a836-a412-4828-9620-4116b25de944\">\n",
              "    <div class=\"colab-df-container\">\n",
              "      <div>\n",
              "<style scoped>\n",
              "    .dataframe tbody tr th:only-of-type {\n",
              "        vertical-align: middle;\n",
              "    }\n",
              "\n",
              "    .dataframe tbody tr th {\n",
              "        vertical-align: top;\n",
              "    }\n",
              "\n",
              "    .dataframe thead th {\n",
              "        text-align: right;\n",
              "    }\n",
              "</style>\n",
              "<table border=\"1\" class=\"dataframe\">\n",
              "  <thead>\n",
              "    <tr style=\"text-align: right;\">\n",
              "      <th></th>\n",
              "      <th>age</th>\n",
              "      <th>workclass</th>\n",
              "      <th>education-num</th>\n",
              "      <th>marital-status</th>\n",
              "      <th>occupation</th>\n",
              "      <th>relationship</th>\n",
              "      <th>race</th>\n",
              "      <th>sex</th>\n",
              "      <th>capital-gain</th>\n",
              "      <th>capital-loss</th>\n",
              "      <th>hours-per-week</th>\n",
              "      <th>native-country</th>\n",
              "      <th>class</th>\n",
              "    </tr>\n",
              "  </thead>\n",
              "  <tbody>\n",
              "    <tr>\n",
              "      <th>0</th>\n",
              "      <td>25</td>\n",
              "      <td>Private</td>\n",
              "      <td>7</td>\n",
              "      <td>Never-married</td>\n",
              "      <td>Machine-op-inspct</td>\n",
              "      <td>Own-child</td>\n",
              "      <td>Black</td>\n",
              "      <td>Male</td>\n",
              "      <td>0</td>\n",
              "      <td>0</td>\n",
              "      <td>40</td>\n",
              "      <td>United-States</td>\n",
              "      <td>0</td>\n",
              "    </tr>\n",
              "    <tr>\n",
              "      <th>1</th>\n",
              "      <td>38</td>\n",
              "      <td>Private</td>\n",
              "      <td>9</td>\n",
              "      <td>Married-civ-spouse</td>\n",
              "      <td>Farming-fishing</td>\n",
              "      <td>Husband</td>\n",
              "      <td>White</td>\n",
              "      <td>Male</td>\n",
              "      <td>0</td>\n",
              "      <td>0</td>\n",
              "      <td>50</td>\n",
              "      <td>United-States</td>\n",
              "      <td>0</td>\n",
              "    </tr>\n",
              "    <tr>\n",
              "      <th>2</th>\n",
              "      <td>28</td>\n",
              "      <td>Local-gov</td>\n",
              "      <td>12</td>\n",
              "      <td>Married-civ-spouse</td>\n",
              "      <td>Protective-serv</td>\n",
              "      <td>Husband</td>\n",
              "      <td>White</td>\n",
              "      <td>Male</td>\n",
              "      <td>0</td>\n",
              "      <td>0</td>\n",
              "      <td>40</td>\n",
              "      <td>United-States</td>\n",
              "      <td>1</td>\n",
              "    </tr>\n",
              "    <tr>\n",
              "      <th>3</th>\n",
              "      <td>44</td>\n",
              "      <td>Private</td>\n",
              "      <td>10</td>\n",
              "      <td>Married-civ-spouse</td>\n",
              "      <td>Machine-op-inspct</td>\n",
              "      <td>Husband</td>\n",
              "      <td>Black</td>\n",
              "      <td>Male</td>\n",
              "      <td>7688</td>\n",
              "      <td>0</td>\n",
              "      <td>40</td>\n",
              "      <td>United-States</td>\n",
              "      <td>1</td>\n",
              "    </tr>\n",
              "    <tr>\n",
              "      <th>4</th>\n",
              "      <td>18</td>\n",
              "      <td>NaN</td>\n",
              "      <td>10</td>\n",
              "      <td>Never-married</td>\n",
              "      <td>NaN</td>\n",
              "      <td>Own-child</td>\n",
              "      <td>White</td>\n",
              "      <td>Female</td>\n",
              "      <td>0</td>\n",
              "      <td>0</td>\n",
              "      <td>30</td>\n",
              "      <td>United-States</td>\n",
              "      <td>0</td>\n",
              "    </tr>\n",
              "  </tbody>\n",
              "</table>\n",
              "</div>\n",
              "      <button class=\"colab-df-convert\" onclick=\"convertToInteractive('df-3814a836-a412-4828-9620-4116b25de944')\"\n",
              "              title=\"Convert this dataframe to an interactive table.\"\n",
              "              style=\"display:none;\">\n",
              "        \n",
              "  <svg xmlns=\"http://www.w3.org/2000/svg\" height=\"24px\"viewBox=\"0 0 24 24\"\n",
              "       width=\"24px\">\n",
              "    <path d=\"M0 0h24v24H0V0z\" fill=\"none\"/>\n",
              "    <path d=\"M18.56 5.44l.94 2.06.94-2.06 2.06-.94-2.06-.94-.94-2.06-.94 2.06-2.06.94zm-11 1L8.5 8.5l.94-2.06 2.06-.94-2.06-.94L8.5 2.5l-.94 2.06-2.06.94zm10 10l.94 2.06.94-2.06 2.06-.94-2.06-.94-.94-2.06-.94 2.06-2.06.94z\"/><path d=\"M17.41 7.96l-1.37-1.37c-.4-.4-.92-.59-1.43-.59-.52 0-1.04.2-1.43.59L10.3 9.45l-7.72 7.72c-.78.78-.78 2.05 0 2.83L4 21.41c.39.39.9.59 1.41.59.51 0 1.02-.2 1.41-.59l7.78-7.78 2.81-2.81c.8-.78.8-2.07 0-2.86zM5.41 20L4 18.59l7.72-7.72 1.47 1.35L5.41 20z\"/>\n",
              "  </svg>\n",
              "      </button>\n",
              "      \n",
              "  <style>\n",
              "    .colab-df-container {\n",
              "      display:flex;\n",
              "      flex-wrap:wrap;\n",
              "      gap: 12px;\n",
              "    }\n",
              "\n",
              "    .colab-df-convert {\n",
              "      background-color: #E8F0FE;\n",
              "      border: none;\n",
              "      border-radius: 50%;\n",
              "      cursor: pointer;\n",
              "      display: none;\n",
              "      fill: #1967D2;\n",
              "      height: 32px;\n",
              "      padding: 0 0 0 0;\n",
              "      width: 32px;\n",
              "    }\n",
              "\n",
              "    .colab-df-convert:hover {\n",
              "      background-color: #E2EBFA;\n",
              "      box-shadow: 0px 1px 2px rgba(60, 64, 67, 0.3), 0px 1px 3px 1px rgba(60, 64, 67, 0.15);\n",
              "      fill: #174EA6;\n",
              "    }\n",
              "\n",
              "    [theme=dark] .colab-df-convert {\n",
              "      background-color: #3B4455;\n",
              "      fill: #D2E3FC;\n",
              "    }\n",
              "\n",
              "    [theme=dark] .colab-df-convert:hover {\n",
              "      background-color: #434B5C;\n",
              "      box-shadow: 0px 1px 3px 1px rgba(0, 0, 0, 0.15);\n",
              "      filter: drop-shadow(0px 1px 2px rgba(0, 0, 0, 0.3));\n",
              "      fill: #FFFFFF;\n",
              "    }\n",
              "  </style>\n",
              "\n",
              "      <script>\n",
              "        const buttonEl =\n",
              "          document.querySelector('#df-3814a836-a412-4828-9620-4116b25de944 button.colab-df-convert');\n",
              "        buttonEl.style.display =\n",
              "          google.colab.kernel.accessAllowed ? 'block' : 'none';\n",
              "\n",
              "        async function convertToInteractive(key) {\n",
              "          const element = document.querySelector('#df-3814a836-a412-4828-9620-4116b25de944');\n",
              "          const dataTable =\n",
              "            await google.colab.kernel.invokeFunction('convertToInteractive',\n",
              "                                                     [key], {});\n",
              "          if (!dataTable) return;\n",
              "\n",
              "          const docLinkHtml = 'Like what you see? Visit the ' +\n",
              "            '<a target=\"_blank\" href=https://colab.research.google.com/notebooks/data_table.ipynb>data table notebook</a>'\n",
              "            + ' to learn more about interactive tables.';\n",
              "          element.innerHTML = '';\n",
              "          dataTable['output_type'] = 'display_data';\n",
              "          await google.colab.output.renderOutput(dataTable, element);\n",
              "          const docLink = document.createElement('div');\n",
              "          docLink.innerHTML = docLinkHtml;\n",
              "          element.appendChild(docLink);\n",
              "        }\n",
              "      </script>\n",
              "    </div>\n",
              "  </div>\n",
              "  "
            ]
          },
          "metadata": {},
          "execution_count": 59
        }
      ]
    },
    {
      "cell_type": "code",
      "source": [
        "country_group"
      ],
      "metadata": {
        "colab": {
          "base_uri": "https://localhost:8080/"
        },
        "id": "-chgJwOoJKhW",
        "outputId": "fe3259d4-33b0-4632-8efb-910a8439931b"
      },
      "execution_count": 60,
      "outputs": [
        {
          "output_type": "execute_result",
          "data": {
            "text/plain": [
              "native-country\n",
              "Cambodia                     0.32\n",
              "Canada                       0.35\n",
              "China                        0.30\n",
              "Columbia                     0.05\n",
              "Cuba                         0.25\n",
              "Dominican-Republic           0.05\n",
              "Ecuador                      0.13\n",
              "El-Salvador                  0.07\n",
              "England                      0.37\n",
              "France                       0.42\n",
              "Germany                      0.28\n",
              "Greece                       0.37\n",
              "Guatemala                    0.03\n",
              "Haiti                        0.12\n",
              "Holand-Netherlands           0.00\n",
              "Honduras                     0.10\n",
              "Hong                         0.27\n",
              "Hungary                      0.32\n",
              "India                        0.41\n",
              "Iran                         0.37\n",
              "Ireland                      0.30\n",
              "Italy                        0.32\n",
              "Jamaica                      0.14\n",
              "Japan                        0.35\n",
              "Laos                         0.09\n",
              "Mexico                       0.05\n",
              "Nicaragua                    0.06\n",
              "Outlying-US(Guam-USVI-etc)   0.04\n",
              "Peru                         0.09\n",
              "Philippines                  0.29\n",
              "Poland                       0.20\n",
              "Portugal                     0.18\n",
              "Puerto-Rico                  0.11\n",
              "Scotland                     0.14\n",
              "South                        0.17\n",
              "Taiwan                       0.40\n",
              "Thailand                     0.17\n",
              "Trinadad&Tobago              0.07\n",
              "United-States                0.24\n",
              "Vietnam                      0.08\n",
              "Yugoslavia                   0.35\n",
              "Name: class, dtype: float64"
            ]
          },
          "metadata": {},
          "execution_count": 60
        }
      ]
    },
    {
      "cell_type": "code",
      "source": [
        "df2 = df.copy()"
      ],
      "metadata": {
        "id": "EqcI918UrGD1"
      },
      "execution_count": 61,
      "outputs": []
    },
    {
      "cell_type": "code",
      "source": [
        "country_group.reset_index()"
      ],
      "metadata": {
        "colab": {
          "base_uri": "https://localhost:8080/",
          "height": 1000
        },
        "id": "RLfbXr97JQoD",
        "outputId": "65a30e4b-1849-48a2-c36f-6e4c8b7a8ad9"
      },
      "execution_count": 62,
      "outputs": [
        {
          "output_type": "execute_result",
          "data": {
            "text/plain": [
              "                native-country  class\n",
              "0                     Cambodia   0.32\n",
              "1                       Canada   0.35\n",
              "2                        China   0.30\n",
              "3                     Columbia   0.05\n",
              "4                         Cuba   0.25\n",
              "5           Dominican-Republic   0.05\n",
              "6                      Ecuador   0.13\n",
              "7                  El-Salvador   0.07\n",
              "8                      England   0.37\n",
              "9                       France   0.42\n",
              "10                     Germany   0.28\n",
              "11                      Greece   0.37\n",
              "12                   Guatemala   0.03\n",
              "13                       Haiti   0.12\n",
              "14          Holand-Netherlands   0.00\n",
              "15                    Honduras   0.10\n",
              "16                        Hong   0.27\n",
              "17                     Hungary   0.32\n",
              "18                       India   0.41\n",
              "19                        Iran   0.37\n",
              "20                     Ireland   0.30\n",
              "21                       Italy   0.32\n",
              "22                     Jamaica   0.14\n",
              "23                       Japan   0.35\n",
              "24                        Laos   0.09\n",
              "25                      Mexico   0.05\n",
              "26                   Nicaragua   0.06\n",
              "27  Outlying-US(Guam-USVI-etc)   0.04\n",
              "28                        Peru   0.09\n",
              "29                 Philippines   0.29\n",
              "30                      Poland   0.20\n",
              "31                    Portugal   0.18\n",
              "32                 Puerto-Rico   0.11\n",
              "33                    Scotland   0.14\n",
              "34                       South   0.17\n",
              "35                      Taiwan   0.40\n",
              "36                    Thailand   0.17\n",
              "37             Trinadad&Tobago   0.07\n",
              "38               United-States   0.24\n",
              "39                     Vietnam   0.08\n",
              "40                  Yugoslavia   0.35"
            ],
            "text/html": [
              "\n",
              "  <div id=\"df-3dacdd2f-4575-4197-98ab-29381ee55057\">\n",
              "    <div class=\"colab-df-container\">\n",
              "      <div>\n",
              "<style scoped>\n",
              "    .dataframe tbody tr th:only-of-type {\n",
              "        vertical-align: middle;\n",
              "    }\n",
              "\n",
              "    .dataframe tbody tr th {\n",
              "        vertical-align: top;\n",
              "    }\n",
              "\n",
              "    .dataframe thead th {\n",
              "        text-align: right;\n",
              "    }\n",
              "</style>\n",
              "<table border=\"1\" class=\"dataframe\">\n",
              "  <thead>\n",
              "    <tr style=\"text-align: right;\">\n",
              "      <th></th>\n",
              "      <th>native-country</th>\n",
              "      <th>class</th>\n",
              "    </tr>\n",
              "  </thead>\n",
              "  <tbody>\n",
              "    <tr>\n",
              "      <th>0</th>\n",
              "      <td>Cambodia</td>\n",
              "      <td>0.32</td>\n",
              "    </tr>\n",
              "    <tr>\n",
              "      <th>1</th>\n",
              "      <td>Canada</td>\n",
              "      <td>0.35</td>\n",
              "    </tr>\n",
              "    <tr>\n",
              "      <th>2</th>\n",
              "      <td>China</td>\n",
              "      <td>0.30</td>\n",
              "    </tr>\n",
              "    <tr>\n",
              "      <th>3</th>\n",
              "      <td>Columbia</td>\n",
              "      <td>0.05</td>\n",
              "    </tr>\n",
              "    <tr>\n",
              "      <th>4</th>\n",
              "      <td>Cuba</td>\n",
              "      <td>0.25</td>\n",
              "    </tr>\n",
              "    <tr>\n",
              "      <th>5</th>\n",
              "      <td>Dominican-Republic</td>\n",
              "      <td>0.05</td>\n",
              "    </tr>\n",
              "    <tr>\n",
              "      <th>6</th>\n",
              "      <td>Ecuador</td>\n",
              "      <td>0.13</td>\n",
              "    </tr>\n",
              "    <tr>\n",
              "      <th>7</th>\n",
              "      <td>El-Salvador</td>\n",
              "      <td>0.07</td>\n",
              "    </tr>\n",
              "    <tr>\n",
              "      <th>8</th>\n",
              "      <td>England</td>\n",
              "      <td>0.37</td>\n",
              "    </tr>\n",
              "    <tr>\n",
              "      <th>9</th>\n",
              "      <td>France</td>\n",
              "      <td>0.42</td>\n",
              "    </tr>\n",
              "    <tr>\n",
              "      <th>10</th>\n",
              "      <td>Germany</td>\n",
              "      <td>0.28</td>\n",
              "    </tr>\n",
              "    <tr>\n",
              "      <th>11</th>\n",
              "      <td>Greece</td>\n",
              "      <td>0.37</td>\n",
              "    </tr>\n",
              "    <tr>\n",
              "      <th>12</th>\n",
              "      <td>Guatemala</td>\n",
              "      <td>0.03</td>\n",
              "    </tr>\n",
              "    <tr>\n",
              "      <th>13</th>\n",
              "      <td>Haiti</td>\n",
              "      <td>0.12</td>\n",
              "    </tr>\n",
              "    <tr>\n",
              "      <th>14</th>\n",
              "      <td>Holand-Netherlands</td>\n",
              "      <td>0.00</td>\n",
              "    </tr>\n",
              "    <tr>\n",
              "      <th>15</th>\n",
              "      <td>Honduras</td>\n",
              "      <td>0.10</td>\n",
              "    </tr>\n",
              "    <tr>\n",
              "      <th>16</th>\n",
              "      <td>Hong</td>\n",
              "      <td>0.27</td>\n",
              "    </tr>\n",
              "    <tr>\n",
              "      <th>17</th>\n",
              "      <td>Hungary</td>\n",
              "      <td>0.32</td>\n",
              "    </tr>\n",
              "    <tr>\n",
              "      <th>18</th>\n",
              "      <td>India</td>\n",
              "      <td>0.41</td>\n",
              "    </tr>\n",
              "    <tr>\n",
              "      <th>19</th>\n",
              "      <td>Iran</td>\n",
              "      <td>0.37</td>\n",
              "    </tr>\n",
              "    <tr>\n",
              "      <th>20</th>\n",
              "      <td>Ireland</td>\n",
              "      <td>0.30</td>\n",
              "    </tr>\n",
              "    <tr>\n",
              "      <th>21</th>\n",
              "      <td>Italy</td>\n",
              "      <td>0.32</td>\n",
              "    </tr>\n",
              "    <tr>\n",
              "      <th>22</th>\n",
              "      <td>Jamaica</td>\n",
              "      <td>0.14</td>\n",
              "    </tr>\n",
              "    <tr>\n",
              "      <th>23</th>\n",
              "      <td>Japan</td>\n",
              "      <td>0.35</td>\n",
              "    </tr>\n",
              "    <tr>\n",
              "      <th>24</th>\n",
              "      <td>Laos</td>\n",
              "      <td>0.09</td>\n",
              "    </tr>\n",
              "    <tr>\n",
              "      <th>25</th>\n",
              "      <td>Mexico</td>\n",
              "      <td>0.05</td>\n",
              "    </tr>\n",
              "    <tr>\n",
              "      <th>26</th>\n",
              "      <td>Nicaragua</td>\n",
              "      <td>0.06</td>\n",
              "    </tr>\n",
              "    <tr>\n",
              "      <th>27</th>\n",
              "      <td>Outlying-US(Guam-USVI-etc)</td>\n",
              "      <td>0.04</td>\n",
              "    </tr>\n",
              "    <tr>\n",
              "      <th>28</th>\n",
              "      <td>Peru</td>\n",
              "      <td>0.09</td>\n",
              "    </tr>\n",
              "    <tr>\n",
              "      <th>29</th>\n",
              "      <td>Philippines</td>\n",
              "      <td>0.29</td>\n",
              "    </tr>\n",
              "    <tr>\n",
              "      <th>30</th>\n",
              "      <td>Poland</td>\n",
              "      <td>0.20</td>\n",
              "    </tr>\n",
              "    <tr>\n",
              "      <th>31</th>\n",
              "      <td>Portugal</td>\n",
              "      <td>0.18</td>\n",
              "    </tr>\n",
              "    <tr>\n",
              "      <th>32</th>\n",
              "      <td>Puerto-Rico</td>\n",
              "      <td>0.11</td>\n",
              "    </tr>\n",
              "    <tr>\n",
              "      <th>33</th>\n",
              "      <td>Scotland</td>\n",
              "      <td>0.14</td>\n",
              "    </tr>\n",
              "    <tr>\n",
              "      <th>34</th>\n",
              "      <td>South</td>\n",
              "      <td>0.17</td>\n",
              "    </tr>\n",
              "    <tr>\n",
              "      <th>35</th>\n",
              "      <td>Taiwan</td>\n",
              "      <td>0.40</td>\n",
              "    </tr>\n",
              "    <tr>\n",
              "      <th>36</th>\n",
              "      <td>Thailand</td>\n",
              "      <td>0.17</td>\n",
              "    </tr>\n",
              "    <tr>\n",
              "      <th>37</th>\n",
              "      <td>Trinadad&amp;Tobago</td>\n",
              "      <td>0.07</td>\n",
              "    </tr>\n",
              "    <tr>\n",
              "      <th>38</th>\n",
              "      <td>United-States</td>\n",
              "      <td>0.24</td>\n",
              "    </tr>\n",
              "    <tr>\n",
              "      <th>39</th>\n",
              "      <td>Vietnam</td>\n",
              "      <td>0.08</td>\n",
              "    </tr>\n",
              "    <tr>\n",
              "      <th>40</th>\n",
              "      <td>Yugoslavia</td>\n",
              "      <td>0.35</td>\n",
              "    </tr>\n",
              "  </tbody>\n",
              "</table>\n",
              "</div>\n",
              "      <button class=\"colab-df-convert\" onclick=\"convertToInteractive('df-3dacdd2f-4575-4197-98ab-29381ee55057')\"\n",
              "              title=\"Convert this dataframe to an interactive table.\"\n",
              "              style=\"display:none;\">\n",
              "        \n",
              "  <svg xmlns=\"http://www.w3.org/2000/svg\" height=\"24px\"viewBox=\"0 0 24 24\"\n",
              "       width=\"24px\">\n",
              "    <path d=\"M0 0h24v24H0V0z\" fill=\"none\"/>\n",
              "    <path d=\"M18.56 5.44l.94 2.06.94-2.06 2.06-.94-2.06-.94-.94-2.06-.94 2.06-2.06.94zm-11 1L8.5 8.5l.94-2.06 2.06-.94-2.06-.94L8.5 2.5l-.94 2.06-2.06.94zm10 10l.94 2.06.94-2.06 2.06-.94-2.06-.94-.94-2.06-.94 2.06-2.06.94z\"/><path d=\"M17.41 7.96l-1.37-1.37c-.4-.4-.92-.59-1.43-.59-.52 0-1.04.2-1.43.59L10.3 9.45l-7.72 7.72c-.78.78-.78 2.05 0 2.83L4 21.41c.39.39.9.59 1.41.59.51 0 1.02-.2 1.41-.59l7.78-7.78 2.81-2.81c.8-.78.8-2.07 0-2.86zM5.41 20L4 18.59l7.72-7.72 1.47 1.35L5.41 20z\"/>\n",
              "  </svg>\n",
              "      </button>\n",
              "      \n",
              "  <style>\n",
              "    .colab-df-container {\n",
              "      display:flex;\n",
              "      flex-wrap:wrap;\n",
              "      gap: 12px;\n",
              "    }\n",
              "\n",
              "    .colab-df-convert {\n",
              "      background-color: #E8F0FE;\n",
              "      border: none;\n",
              "      border-radius: 50%;\n",
              "      cursor: pointer;\n",
              "      display: none;\n",
              "      fill: #1967D2;\n",
              "      height: 32px;\n",
              "      padding: 0 0 0 0;\n",
              "      width: 32px;\n",
              "    }\n",
              "\n",
              "    .colab-df-convert:hover {\n",
              "      background-color: #E2EBFA;\n",
              "      box-shadow: 0px 1px 2px rgba(60, 64, 67, 0.3), 0px 1px 3px 1px rgba(60, 64, 67, 0.15);\n",
              "      fill: #174EA6;\n",
              "    }\n",
              "\n",
              "    [theme=dark] .colab-df-convert {\n",
              "      background-color: #3B4455;\n",
              "      fill: #D2E3FC;\n",
              "    }\n",
              "\n",
              "    [theme=dark] .colab-df-convert:hover {\n",
              "      background-color: #434B5C;\n",
              "      box-shadow: 0px 1px 3px 1px rgba(0, 0, 0, 0.15);\n",
              "      filter: drop-shadow(0px 1px 2px rgba(0, 0, 0, 0.3));\n",
              "      fill: #FFFFFF;\n",
              "    }\n",
              "  </style>\n",
              "\n",
              "      <script>\n",
              "        const buttonEl =\n",
              "          document.querySelector('#df-3dacdd2f-4575-4197-98ab-29381ee55057 button.colab-df-convert');\n",
              "        buttonEl.style.display =\n",
              "          google.colab.kernel.accessAllowed ? 'block' : 'none';\n",
              "\n",
              "        async function convertToInteractive(key) {\n",
              "          const element = document.querySelector('#df-3dacdd2f-4575-4197-98ab-29381ee55057');\n",
              "          const dataTable =\n",
              "            await google.colab.kernel.invokeFunction('convertToInteractive',\n",
              "                                                     [key], {});\n",
              "          if (!dataTable) return;\n",
              "\n",
              "          const docLinkHtml = 'Like what you see? Visit the ' +\n",
              "            '<a target=\"_blank\" href=https://colab.research.google.com/notebooks/data_table.ipynb>data table notebook</a>'\n",
              "            + ' to learn more about interactive tables.';\n",
              "          element.innerHTML = '';\n",
              "          dataTable['output_type'] = 'display_data';\n",
              "          await google.colab.output.renderOutput(dataTable, element);\n",
              "          const docLink = document.createElement('div');\n",
              "          docLink.innerHTML = docLinkHtml;\n",
              "          element.appendChild(docLink);\n",
              "        }\n",
              "      </script>\n",
              "    </div>\n",
              "  </div>\n",
              "  "
            ]
          },
          "metadata": {},
          "execution_count": 62
        }
      ]
    },
    {
      "cell_type": "code",
      "source": [
        "# reset index 후에 해당 열을 on 기준으로 사용하는 경우\n",
        "df2.merge(country_group.reset_index(), on='native-country', how='left')"
      ],
      "metadata": {
        "colab": {
          "base_uri": "https://localhost:8080/",
          "height": 424
        },
        "id": "l5TYzHA-IzpR",
        "outputId": "4f6b3b9b-c548-4e3f-838d-89b41c3006f6"
      },
      "execution_count": 63,
      "outputs": [
        {
          "output_type": "execute_result",
          "data": {
            "text/plain": [
              "       age     workclass  education-num      marital-status  \\\n",
              "0       25       Private              7       Never-married   \n",
              "1       38       Private              9  Married-civ-spouse   \n",
              "2       28     Local-gov             12  Married-civ-spouse   \n",
              "3       44       Private             10  Married-civ-spouse   \n",
              "4       18           NaN             10       Never-married   \n",
              "...    ...           ...            ...                 ...   \n",
              "48837   27       Private             12  Married-civ-spouse   \n",
              "48838   40       Private              9  Married-civ-spouse   \n",
              "48839   58       Private              9             Widowed   \n",
              "48840   22       Private              9       Never-married   \n",
              "48841   52  Self-emp-inc              9  Married-civ-spouse   \n",
              "\n",
              "              occupation relationship   race     sex  capital-gain  \\\n",
              "0      Machine-op-inspct    Own-child  Black    Male             0   \n",
              "1        Farming-fishing      Husband  White    Male             0   \n",
              "2        Protective-serv      Husband  White    Male             0   \n",
              "3      Machine-op-inspct      Husband  Black    Male          7688   \n",
              "4                    NaN    Own-child  White  Female             0   \n",
              "...                  ...          ...    ...     ...           ...   \n",
              "48837       Tech-support         Wife  White  Female             0   \n",
              "48838  Machine-op-inspct      Husband  White    Male             0   \n",
              "48839       Adm-clerical    Unmarried  White  Female             0   \n",
              "48840       Adm-clerical    Own-child  White    Male             0   \n",
              "48841    Exec-managerial         Wife  White  Female         15024   \n",
              "\n",
              "       capital-loss  hours-per-week native-country  class_x  class_y  \n",
              "0                 0              40  United-States        0     0.24  \n",
              "1                 0              50  United-States        0     0.24  \n",
              "2                 0              40  United-States        1     0.24  \n",
              "3                 0              40  United-States        1     0.24  \n",
              "4                 0              30  United-States        0     0.24  \n",
              "...             ...             ...            ...      ...      ...  \n",
              "48837             0              38  United-States        0     0.24  \n",
              "48838             0              40  United-States        1     0.24  \n",
              "48839             0              40  United-States        0     0.24  \n",
              "48840             0              20  United-States        0     0.24  \n",
              "48841             0              40  United-States        1     0.24  \n",
              "\n",
              "[48842 rows x 14 columns]"
            ],
            "text/html": [
              "\n",
              "  <div id=\"df-9b3cab1b-fed8-4e36-8396-0773b821f7a6\">\n",
              "    <div class=\"colab-df-container\">\n",
              "      <div>\n",
              "<style scoped>\n",
              "    .dataframe tbody tr th:only-of-type {\n",
              "        vertical-align: middle;\n",
              "    }\n",
              "\n",
              "    .dataframe tbody tr th {\n",
              "        vertical-align: top;\n",
              "    }\n",
              "\n",
              "    .dataframe thead th {\n",
              "        text-align: right;\n",
              "    }\n",
              "</style>\n",
              "<table border=\"1\" class=\"dataframe\">\n",
              "  <thead>\n",
              "    <tr style=\"text-align: right;\">\n",
              "      <th></th>\n",
              "      <th>age</th>\n",
              "      <th>workclass</th>\n",
              "      <th>education-num</th>\n",
              "      <th>marital-status</th>\n",
              "      <th>occupation</th>\n",
              "      <th>relationship</th>\n",
              "      <th>race</th>\n",
              "      <th>sex</th>\n",
              "      <th>capital-gain</th>\n",
              "      <th>capital-loss</th>\n",
              "      <th>hours-per-week</th>\n",
              "      <th>native-country</th>\n",
              "      <th>class_x</th>\n",
              "      <th>class_y</th>\n",
              "    </tr>\n",
              "  </thead>\n",
              "  <tbody>\n",
              "    <tr>\n",
              "      <th>0</th>\n",
              "      <td>25</td>\n",
              "      <td>Private</td>\n",
              "      <td>7</td>\n",
              "      <td>Never-married</td>\n",
              "      <td>Machine-op-inspct</td>\n",
              "      <td>Own-child</td>\n",
              "      <td>Black</td>\n",
              "      <td>Male</td>\n",
              "      <td>0</td>\n",
              "      <td>0</td>\n",
              "      <td>40</td>\n",
              "      <td>United-States</td>\n",
              "      <td>0</td>\n",
              "      <td>0.24</td>\n",
              "    </tr>\n",
              "    <tr>\n",
              "      <th>1</th>\n",
              "      <td>38</td>\n",
              "      <td>Private</td>\n",
              "      <td>9</td>\n",
              "      <td>Married-civ-spouse</td>\n",
              "      <td>Farming-fishing</td>\n",
              "      <td>Husband</td>\n",
              "      <td>White</td>\n",
              "      <td>Male</td>\n",
              "      <td>0</td>\n",
              "      <td>0</td>\n",
              "      <td>50</td>\n",
              "      <td>United-States</td>\n",
              "      <td>0</td>\n",
              "      <td>0.24</td>\n",
              "    </tr>\n",
              "    <tr>\n",
              "      <th>2</th>\n",
              "      <td>28</td>\n",
              "      <td>Local-gov</td>\n",
              "      <td>12</td>\n",
              "      <td>Married-civ-spouse</td>\n",
              "      <td>Protective-serv</td>\n",
              "      <td>Husband</td>\n",
              "      <td>White</td>\n",
              "      <td>Male</td>\n",
              "      <td>0</td>\n",
              "      <td>0</td>\n",
              "      <td>40</td>\n",
              "      <td>United-States</td>\n",
              "      <td>1</td>\n",
              "      <td>0.24</td>\n",
              "    </tr>\n",
              "    <tr>\n",
              "      <th>3</th>\n",
              "      <td>44</td>\n",
              "      <td>Private</td>\n",
              "      <td>10</td>\n",
              "      <td>Married-civ-spouse</td>\n",
              "      <td>Machine-op-inspct</td>\n",
              "      <td>Husband</td>\n",
              "      <td>Black</td>\n",
              "      <td>Male</td>\n",
              "      <td>7688</td>\n",
              "      <td>0</td>\n",
              "      <td>40</td>\n",
              "      <td>United-States</td>\n",
              "      <td>1</td>\n",
              "      <td>0.24</td>\n",
              "    </tr>\n",
              "    <tr>\n",
              "      <th>4</th>\n",
              "      <td>18</td>\n",
              "      <td>NaN</td>\n",
              "      <td>10</td>\n",
              "      <td>Never-married</td>\n",
              "      <td>NaN</td>\n",
              "      <td>Own-child</td>\n",
              "      <td>White</td>\n",
              "      <td>Female</td>\n",
              "      <td>0</td>\n",
              "      <td>0</td>\n",
              "      <td>30</td>\n",
              "      <td>United-States</td>\n",
              "      <td>0</td>\n",
              "      <td>0.24</td>\n",
              "    </tr>\n",
              "    <tr>\n",
              "      <th>...</th>\n",
              "      <td>...</td>\n",
              "      <td>...</td>\n",
              "      <td>...</td>\n",
              "      <td>...</td>\n",
              "      <td>...</td>\n",
              "      <td>...</td>\n",
              "      <td>...</td>\n",
              "      <td>...</td>\n",
              "      <td>...</td>\n",
              "      <td>...</td>\n",
              "      <td>...</td>\n",
              "      <td>...</td>\n",
              "      <td>...</td>\n",
              "      <td>...</td>\n",
              "    </tr>\n",
              "    <tr>\n",
              "      <th>48837</th>\n",
              "      <td>27</td>\n",
              "      <td>Private</td>\n",
              "      <td>12</td>\n",
              "      <td>Married-civ-spouse</td>\n",
              "      <td>Tech-support</td>\n",
              "      <td>Wife</td>\n",
              "      <td>White</td>\n",
              "      <td>Female</td>\n",
              "      <td>0</td>\n",
              "      <td>0</td>\n",
              "      <td>38</td>\n",
              "      <td>United-States</td>\n",
              "      <td>0</td>\n",
              "      <td>0.24</td>\n",
              "    </tr>\n",
              "    <tr>\n",
              "      <th>48838</th>\n",
              "      <td>40</td>\n",
              "      <td>Private</td>\n",
              "      <td>9</td>\n",
              "      <td>Married-civ-spouse</td>\n",
              "      <td>Machine-op-inspct</td>\n",
              "      <td>Husband</td>\n",
              "      <td>White</td>\n",
              "      <td>Male</td>\n",
              "      <td>0</td>\n",
              "      <td>0</td>\n",
              "      <td>40</td>\n",
              "      <td>United-States</td>\n",
              "      <td>1</td>\n",
              "      <td>0.24</td>\n",
              "    </tr>\n",
              "    <tr>\n",
              "      <th>48839</th>\n",
              "      <td>58</td>\n",
              "      <td>Private</td>\n",
              "      <td>9</td>\n",
              "      <td>Widowed</td>\n",
              "      <td>Adm-clerical</td>\n",
              "      <td>Unmarried</td>\n",
              "      <td>White</td>\n",
              "      <td>Female</td>\n",
              "      <td>0</td>\n",
              "      <td>0</td>\n",
              "      <td>40</td>\n",
              "      <td>United-States</td>\n",
              "      <td>0</td>\n",
              "      <td>0.24</td>\n",
              "    </tr>\n",
              "    <tr>\n",
              "      <th>48840</th>\n",
              "      <td>22</td>\n",
              "      <td>Private</td>\n",
              "      <td>9</td>\n",
              "      <td>Never-married</td>\n",
              "      <td>Adm-clerical</td>\n",
              "      <td>Own-child</td>\n",
              "      <td>White</td>\n",
              "      <td>Male</td>\n",
              "      <td>0</td>\n",
              "      <td>0</td>\n",
              "      <td>20</td>\n",
              "      <td>United-States</td>\n",
              "      <td>0</td>\n",
              "      <td>0.24</td>\n",
              "    </tr>\n",
              "    <tr>\n",
              "      <th>48841</th>\n",
              "      <td>52</td>\n",
              "      <td>Self-emp-inc</td>\n",
              "      <td>9</td>\n",
              "      <td>Married-civ-spouse</td>\n",
              "      <td>Exec-managerial</td>\n",
              "      <td>Wife</td>\n",
              "      <td>White</td>\n",
              "      <td>Female</td>\n",
              "      <td>15024</td>\n",
              "      <td>0</td>\n",
              "      <td>40</td>\n",
              "      <td>United-States</td>\n",
              "      <td>1</td>\n",
              "      <td>0.24</td>\n",
              "    </tr>\n",
              "  </tbody>\n",
              "</table>\n",
              "<p>48842 rows × 14 columns</p>\n",
              "</div>\n",
              "      <button class=\"colab-df-convert\" onclick=\"convertToInteractive('df-9b3cab1b-fed8-4e36-8396-0773b821f7a6')\"\n",
              "              title=\"Convert this dataframe to an interactive table.\"\n",
              "              style=\"display:none;\">\n",
              "        \n",
              "  <svg xmlns=\"http://www.w3.org/2000/svg\" height=\"24px\"viewBox=\"0 0 24 24\"\n",
              "       width=\"24px\">\n",
              "    <path d=\"M0 0h24v24H0V0z\" fill=\"none\"/>\n",
              "    <path d=\"M18.56 5.44l.94 2.06.94-2.06 2.06-.94-2.06-.94-.94-2.06-.94 2.06-2.06.94zm-11 1L8.5 8.5l.94-2.06 2.06-.94-2.06-.94L8.5 2.5l-.94 2.06-2.06.94zm10 10l.94 2.06.94-2.06 2.06-.94-2.06-.94-.94-2.06-.94 2.06-2.06.94z\"/><path d=\"M17.41 7.96l-1.37-1.37c-.4-.4-.92-.59-1.43-.59-.52 0-1.04.2-1.43.59L10.3 9.45l-7.72 7.72c-.78.78-.78 2.05 0 2.83L4 21.41c.39.39.9.59 1.41.59.51 0 1.02-.2 1.41-.59l7.78-7.78 2.81-2.81c.8-.78.8-2.07 0-2.86zM5.41 20L4 18.59l7.72-7.72 1.47 1.35L5.41 20z\"/>\n",
              "  </svg>\n",
              "      </button>\n",
              "      \n",
              "  <style>\n",
              "    .colab-df-container {\n",
              "      display:flex;\n",
              "      flex-wrap:wrap;\n",
              "      gap: 12px;\n",
              "    }\n",
              "\n",
              "    .colab-df-convert {\n",
              "      background-color: #E8F0FE;\n",
              "      border: none;\n",
              "      border-radius: 50%;\n",
              "      cursor: pointer;\n",
              "      display: none;\n",
              "      fill: #1967D2;\n",
              "      height: 32px;\n",
              "      padding: 0 0 0 0;\n",
              "      width: 32px;\n",
              "    }\n",
              "\n",
              "    .colab-df-convert:hover {\n",
              "      background-color: #E2EBFA;\n",
              "      box-shadow: 0px 1px 2px rgba(60, 64, 67, 0.3), 0px 1px 3px 1px rgba(60, 64, 67, 0.15);\n",
              "      fill: #174EA6;\n",
              "    }\n",
              "\n",
              "    [theme=dark] .colab-df-convert {\n",
              "      background-color: #3B4455;\n",
              "      fill: #D2E3FC;\n",
              "    }\n",
              "\n",
              "    [theme=dark] .colab-df-convert:hover {\n",
              "      background-color: #434B5C;\n",
              "      box-shadow: 0px 1px 3px 1px rgba(0, 0, 0, 0.15);\n",
              "      filter: drop-shadow(0px 1px 2px rgba(0, 0, 0, 0.3));\n",
              "      fill: #FFFFFF;\n",
              "    }\n",
              "  </style>\n",
              "\n",
              "      <script>\n",
              "        const buttonEl =\n",
              "          document.querySelector('#df-9b3cab1b-fed8-4e36-8396-0773b821f7a6 button.colab-df-convert');\n",
              "        buttonEl.style.display =\n",
              "          google.colab.kernel.accessAllowed ? 'block' : 'none';\n",
              "\n",
              "        async function convertToInteractive(key) {\n",
              "          const element = document.querySelector('#df-9b3cab1b-fed8-4e36-8396-0773b821f7a6');\n",
              "          const dataTable =\n",
              "            await google.colab.kernel.invokeFunction('convertToInteractive',\n",
              "                                                     [key], {});\n",
              "          if (!dataTable) return;\n",
              "\n",
              "          const docLinkHtml = 'Like what you see? Visit the ' +\n",
              "            '<a target=\"_blank\" href=https://colab.research.google.com/notebooks/data_table.ipynb>data table notebook</a>'\n",
              "            + ' to learn more about interactive tables.';\n",
              "          element.innerHTML = '';\n",
              "          dataTable['output_type'] = 'display_data';\n",
              "          await google.colab.output.renderOutput(dataTable, element);\n",
              "          const docLink = document.createElement('div');\n",
              "          docLink.innerHTML = docLinkHtml;\n",
              "          element.appendChild(docLink);\n",
              "        }\n",
              "      </script>\n",
              "    </div>\n",
              "  </div>\n",
              "  "
            ]
          },
          "metadata": {},
          "execution_count": 63
        }
      ]
    },
    {
      "cell_type": "code",
      "source": [
        "# A.merge(B, on=[기준이되는열]) A 왼쪽, B 오른쪽\n",
        "# A.merge(B, left_on=[기준이되는열], right_index=True) B는 인덱스를 사용해서 합쳐주겠다\n",
        "# class => class_x, class_y : x 원본 df의 것, y는 출신국가별로 산출한 고연봉자 비율\n",
        "df = df.merge(country_group,left_on='native-country', right_index=True, how='left')\n",
        "df"
      ],
      "metadata": {
        "colab": {
          "base_uri": "https://localhost:8080/",
          "height": 424
        },
        "id": "iL-8rWQtrHer",
        "outputId": "d0bfc606-09f2-4fc2-a379-a99890c9a540"
      },
      "execution_count": 66,
      "outputs": [
        {
          "output_type": "execute_result",
          "data": {
            "text/plain": [
              "       age     workclass  education-num      marital-status  \\\n",
              "0       25       Private              7       Never-married   \n",
              "1       38       Private              9  Married-civ-spouse   \n",
              "2       28     Local-gov             12  Married-civ-spouse   \n",
              "3       44       Private             10  Married-civ-spouse   \n",
              "4       18           NaN             10       Never-married   \n",
              "...    ...           ...            ...                 ...   \n",
              "48837   27       Private             12  Married-civ-spouse   \n",
              "48838   40       Private              9  Married-civ-spouse   \n",
              "48839   58       Private              9             Widowed   \n",
              "48840   22       Private              9       Never-married   \n",
              "48841   52  Self-emp-inc              9  Married-civ-spouse   \n",
              "\n",
              "              occupation relationship   race     sex  capital-gain  \\\n",
              "0      Machine-op-inspct    Own-child  Black    Male             0   \n",
              "1        Farming-fishing      Husband  White    Male             0   \n",
              "2        Protective-serv      Husband  White    Male             0   \n",
              "3      Machine-op-inspct      Husband  Black    Male          7688   \n",
              "4                    NaN    Own-child  White  Female             0   \n",
              "...                  ...          ...    ...     ...           ...   \n",
              "48837       Tech-support         Wife  White  Female             0   \n",
              "48838  Machine-op-inspct      Husband  White    Male             0   \n",
              "48839       Adm-clerical    Unmarried  White  Female             0   \n",
              "48840       Adm-clerical    Own-child  White    Male             0   \n",
              "48841    Exec-managerial         Wife  White  Female         15024   \n",
              "\n",
              "       capital-loss  hours-per-week native-country  class_x  class_y  \n",
              "0                 0              40  United-States        0     0.24  \n",
              "1                 0              50  United-States        0     0.24  \n",
              "2                 0              40  United-States        1     0.24  \n",
              "3                 0              40  United-States        1     0.24  \n",
              "4                 0              30  United-States        0     0.24  \n",
              "...             ...             ...            ...      ...      ...  \n",
              "48837             0              38  United-States        0     0.24  \n",
              "48838             0              40  United-States        1     0.24  \n",
              "48839             0              40  United-States        0     0.24  \n",
              "48840             0              20  United-States        0     0.24  \n",
              "48841             0              40  United-States        1     0.24  \n",
              "\n",
              "[48842 rows x 14 columns]"
            ],
            "text/html": [
              "\n",
              "  <div id=\"df-f3acd46a-661d-4a36-ae31-c5c14fc51ede\">\n",
              "    <div class=\"colab-df-container\">\n",
              "      <div>\n",
              "<style scoped>\n",
              "    .dataframe tbody tr th:only-of-type {\n",
              "        vertical-align: middle;\n",
              "    }\n",
              "\n",
              "    .dataframe tbody tr th {\n",
              "        vertical-align: top;\n",
              "    }\n",
              "\n",
              "    .dataframe thead th {\n",
              "        text-align: right;\n",
              "    }\n",
              "</style>\n",
              "<table border=\"1\" class=\"dataframe\">\n",
              "  <thead>\n",
              "    <tr style=\"text-align: right;\">\n",
              "      <th></th>\n",
              "      <th>age</th>\n",
              "      <th>workclass</th>\n",
              "      <th>education-num</th>\n",
              "      <th>marital-status</th>\n",
              "      <th>occupation</th>\n",
              "      <th>relationship</th>\n",
              "      <th>race</th>\n",
              "      <th>sex</th>\n",
              "      <th>capital-gain</th>\n",
              "      <th>capital-loss</th>\n",
              "      <th>hours-per-week</th>\n",
              "      <th>native-country</th>\n",
              "      <th>class_x</th>\n",
              "      <th>class_y</th>\n",
              "    </tr>\n",
              "  </thead>\n",
              "  <tbody>\n",
              "    <tr>\n",
              "      <th>0</th>\n",
              "      <td>25</td>\n",
              "      <td>Private</td>\n",
              "      <td>7</td>\n",
              "      <td>Never-married</td>\n",
              "      <td>Machine-op-inspct</td>\n",
              "      <td>Own-child</td>\n",
              "      <td>Black</td>\n",
              "      <td>Male</td>\n",
              "      <td>0</td>\n",
              "      <td>0</td>\n",
              "      <td>40</td>\n",
              "      <td>United-States</td>\n",
              "      <td>0</td>\n",
              "      <td>0.24</td>\n",
              "    </tr>\n",
              "    <tr>\n",
              "      <th>1</th>\n",
              "      <td>38</td>\n",
              "      <td>Private</td>\n",
              "      <td>9</td>\n",
              "      <td>Married-civ-spouse</td>\n",
              "      <td>Farming-fishing</td>\n",
              "      <td>Husband</td>\n",
              "      <td>White</td>\n",
              "      <td>Male</td>\n",
              "      <td>0</td>\n",
              "      <td>0</td>\n",
              "      <td>50</td>\n",
              "      <td>United-States</td>\n",
              "      <td>0</td>\n",
              "      <td>0.24</td>\n",
              "    </tr>\n",
              "    <tr>\n",
              "      <th>2</th>\n",
              "      <td>28</td>\n",
              "      <td>Local-gov</td>\n",
              "      <td>12</td>\n",
              "      <td>Married-civ-spouse</td>\n",
              "      <td>Protective-serv</td>\n",
              "      <td>Husband</td>\n",
              "      <td>White</td>\n",
              "      <td>Male</td>\n",
              "      <td>0</td>\n",
              "      <td>0</td>\n",
              "      <td>40</td>\n",
              "      <td>United-States</td>\n",
              "      <td>1</td>\n",
              "      <td>0.24</td>\n",
              "    </tr>\n",
              "    <tr>\n",
              "      <th>3</th>\n",
              "      <td>44</td>\n",
              "      <td>Private</td>\n",
              "      <td>10</td>\n",
              "      <td>Married-civ-spouse</td>\n",
              "      <td>Machine-op-inspct</td>\n",
              "      <td>Husband</td>\n",
              "      <td>Black</td>\n",
              "      <td>Male</td>\n",
              "      <td>7688</td>\n",
              "      <td>0</td>\n",
              "      <td>40</td>\n",
              "      <td>United-States</td>\n",
              "      <td>1</td>\n",
              "      <td>0.24</td>\n",
              "    </tr>\n",
              "    <tr>\n",
              "      <th>4</th>\n",
              "      <td>18</td>\n",
              "      <td>NaN</td>\n",
              "      <td>10</td>\n",
              "      <td>Never-married</td>\n",
              "      <td>NaN</td>\n",
              "      <td>Own-child</td>\n",
              "      <td>White</td>\n",
              "      <td>Female</td>\n",
              "      <td>0</td>\n",
              "      <td>0</td>\n",
              "      <td>30</td>\n",
              "      <td>United-States</td>\n",
              "      <td>0</td>\n",
              "      <td>0.24</td>\n",
              "    </tr>\n",
              "    <tr>\n",
              "      <th>...</th>\n",
              "      <td>...</td>\n",
              "      <td>...</td>\n",
              "      <td>...</td>\n",
              "      <td>...</td>\n",
              "      <td>...</td>\n",
              "      <td>...</td>\n",
              "      <td>...</td>\n",
              "      <td>...</td>\n",
              "      <td>...</td>\n",
              "      <td>...</td>\n",
              "      <td>...</td>\n",
              "      <td>...</td>\n",
              "      <td>...</td>\n",
              "      <td>...</td>\n",
              "    </tr>\n",
              "    <tr>\n",
              "      <th>48837</th>\n",
              "      <td>27</td>\n",
              "      <td>Private</td>\n",
              "      <td>12</td>\n",
              "      <td>Married-civ-spouse</td>\n",
              "      <td>Tech-support</td>\n",
              "      <td>Wife</td>\n",
              "      <td>White</td>\n",
              "      <td>Female</td>\n",
              "      <td>0</td>\n",
              "      <td>0</td>\n",
              "      <td>38</td>\n",
              "      <td>United-States</td>\n",
              "      <td>0</td>\n",
              "      <td>0.24</td>\n",
              "    </tr>\n",
              "    <tr>\n",
              "      <th>48838</th>\n",
              "      <td>40</td>\n",
              "      <td>Private</td>\n",
              "      <td>9</td>\n",
              "      <td>Married-civ-spouse</td>\n",
              "      <td>Machine-op-inspct</td>\n",
              "      <td>Husband</td>\n",
              "      <td>White</td>\n",
              "      <td>Male</td>\n",
              "      <td>0</td>\n",
              "      <td>0</td>\n",
              "      <td>40</td>\n",
              "      <td>United-States</td>\n",
              "      <td>1</td>\n",
              "      <td>0.24</td>\n",
              "    </tr>\n",
              "    <tr>\n",
              "      <th>48839</th>\n",
              "      <td>58</td>\n",
              "      <td>Private</td>\n",
              "      <td>9</td>\n",
              "      <td>Widowed</td>\n",
              "      <td>Adm-clerical</td>\n",
              "      <td>Unmarried</td>\n",
              "      <td>White</td>\n",
              "      <td>Female</td>\n",
              "      <td>0</td>\n",
              "      <td>0</td>\n",
              "      <td>40</td>\n",
              "      <td>United-States</td>\n",
              "      <td>0</td>\n",
              "      <td>0.24</td>\n",
              "    </tr>\n",
              "    <tr>\n",
              "      <th>48840</th>\n",
              "      <td>22</td>\n",
              "      <td>Private</td>\n",
              "      <td>9</td>\n",
              "      <td>Never-married</td>\n",
              "      <td>Adm-clerical</td>\n",
              "      <td>Own-child</td>\n",
              "      <td>White</td>\n",
              "      <td>Male</td>\n",
              "      <td>0</td>\n",
              "      <td>0</td>\n",
              "      <td>20</td>\n",
              "      <td>United-States</td>\n",
              "      <td>0</td>\n",
              "      <td>0.24</td>\n",
              "    </tr>\n",
              "    <tr>\n",
              "      <th>48841</th>\n",
              "      <td>52</td>\n",
              "      <td>Self-emp-inc</td>\n",
              "      <td>9</td>\n",
              "      <td>Married-civ-spouse</td>\n",
              "      <td>Exec-managerial</td>\n",
              "      <td>Wife</td>\n",
              "      <td>White</td>\n",
              "      <td>Female</td>\n",
              "      <td>15024</td>\n",
              "      <td>0</td>\n",
              "      <td>40</td>\n",
              "      <td>United-States</td>\n",
              "      <td>1</td>\n",
              "      <td>0.24</td>\n",
              "    </tr>\n",
              "  </tbody>\n",
              "</table>\n",
              "<p>48842 rows × 14 columns</p>\n",
              "</div>\n",
              "      <button class=\"colab-df-convert\" onclick=\"convertToInteractive('df-f3acd46a-661d-4a36-ae31-c5c14fc51ede')\"\n",
              "              title=\"Convert this dataframe to an interactive table.\"\n",
              "              style=\"display:none;\">\n",
              "        \n",
              "  <svg xmlns=\"http://www.w3.org/2000/svg\" height=\"24px\"viewBox=\"0 0 24 24\"\n",
              "       width=\"24px\">\n",
              "    <path d=\"M0 0h24v24H0V0z\" fill=\"none\"/>\n",
              "    <path d=\"M18.56 5.44l.94 2.06.94-2.06 2.06-.94-2.06-.94-.94-2.06-.94 2.06-2.06.94zm-11 1L8.5 8.5l.94-2.06 2.06-.94-2.06-.94L8.5 2.5l-.94 2.06-2.06.94zm10 10l.94 2.06.94-2.06 2.06-.94-2.06-.94-.94-2.06-.94 2.06-2.06.94z\"/><path d=\"M17.41 7.96l-1.37-1.37c-.4-.4-.92-.59-1.43-.59-.52 0-1.04.2-1.43.59L10.3 9.45l-7.72 7.72c-.78.78-.78 2.05 0 2.83L4 21.41c.39.39.9.59 1.41.59.51 0 1.02-.2 1.41-.59l7.78-7.78 2.81-2.81c.8-.78.8-2.07 0-2.86zM5.41 20L4 18.59l7.72-7.72 1.47 1.35L5.41 20z\"/>\n",
              "  </svg>\n",
              "      </button>\n",
              "      \n",
              "  <style>\n",
              "    .colab-df-container {\n",
              "      display:flex;\n",
              "      flex-wrap:wrap;\n",
              "      gap: 12px;\n",
              "    }\n",
              "\n",
              "    .colab-df-convert {\n",
              "      background-color: #E8F0FE;\n",
              "      border: none;\n",
              "      border-radius: 50%;\n",
              "      cursor: pointer;\n",
              "      display: none;\n",
              "      fill: #1967D2;\n",
              "      height: 32px;\n",
              "      padding: 0 0 0 0;\n",
              "      width: 32px;\n",
              "    }\n",
              "\n",
              "    .colab-df-convert:hover {\n",
              "      background-color: #E2EBFA;\n",
              "      box-shadow: 0px 1px 2px rgba(60, 64, 67, 0.3), 0px 1px 3px 1px rgba(60, 64, 67, 0.15);\n",
              "      fill: #174EA6;\n",
              "    }\n",
              "\n",
              "    [theme=dark] .colab-df-convert {\n",
              "      background-color: #3B4455;\n",
              "      fill: #D2E3FC;\n",
              "    }\n",
              "\n",
              "    [theme=dark] .colab-df-convert:hover {\n",
              "      background-color: #434B5C;\n",
              "      box-shadow: 0px 1px 3px 1px rgba(0, 0, 0, 0.15);\n",
              "      filter: drop-shadow(0px 1px 2px rgba(0, 0, 0, 0.3));\n",
              "      fill: #FFFFFF;\n",
              "    }\n",
              "  </style>\n",
              "\n",
              "      <script>\n",
              "        const buttonEl =\n",
              "          document.querySelector('#df-f3acd46a-661d-4a36-ae31-c5c14fc51ede button.colab-df-convert');\n",
              "        buttonEl.style.display =\n",
              "          google.colab.kernel.accessAllowed ? 'block' : 'none';\n",
              "\n",
              "        async function convertToInteractive(key) {\n",
              "          const element = document.querySelector('#df-f3acd46a-661d-4a36-ae31-c5c14fc51ede');\n",
              "          const dataTable =\n",
              "            await google.colab.kernel.invokeFunction('convertToInteractive',\n",
              "                                                     [key], {});\n",
              "          if (!dataTable) return;\n",
              "\n",
              "          const docLinkHtml = 'Like what you see? Visit the ' +\n",
              "            '<a target=\"_blank\" href=https://colab.research.google.com/notebooks/data_table.ipynb>data table notebook</a>'\n",
              "            + ' to learn more about interactive tables.';\n",
              "          element.innerHTML = '';\n",
              "          dataTable['output_type'] = 'display_data';\n",
              "          await google.colab.output.renderOutput(dataTable, element);\n",
              "          const docLink = document.createElement('div');\n",
              "          docLink.innerHTML = docLinkHtml;\n",
              "          element.appendChild(docLink);\n",
              "        }\n",
              "      </script>\n",
              "    </div>\n",
              "  </div>\n",
              "  "
            ]
          },
          "metadata": {},
          "execution_count": 66
        }
      ]
    },
    {
      "cell_type": "code",
      "source": [
        "# column 이름 바꾸기\n",
        "df.rename(columns = {\n",
        "    'class_x': 'class',\n",
        "    'class_y': 'country_class'\n",
        "})\n",
        "df.rename(columns = {\n",
        "    'class_x': 'class',\n",
        "    'class_y': 'country_class'\n",
        "}, inplace=True)"
      ],
      "metadata": {
        "id": "zFAZU0tvttLY"
      },
      "execution_count": 67,
      "outputs": []
    },
    {
      "cell_type": "code",
      "source": [
        "df.head()"
      ],
      "metadata": {
        "colab": {
          "base_uri": "https://localhost:8080/",
          "height": 206
        },
        "id": "FCCdK6tsuKjo",
        "outputId": "582ee387-2d61-45d4-90bd-2328e3edfbd4"
      },
      "execution_count": 68,
      "outputs": [
        {
          "output_type": "execute_result",
          "data": {
            "text/plain": [
              "   age  workclass  education-num      marital-status         occupation  \\\n",
              "0   25    Private              7       Never-married  Machine-op-inspct   \n",
              "1   38    Private              9  Married-civ-spouse    Farming-fishing   \n",
              "2   28  Local-gov             12  Married-civ-spouse    Protective-serv   \n",
              "3   44    Private             10  Married-civ-spouse  Machine-op-inspct   \n",
              "4   18        NaN             10       Never-married                NaN   \n",
              "\n",
              "  relationship   race     sex  capital-gain  capital-loss  hours-per-week  \\\n",
              "0    Own-child  Black    Male             0             0              40   \n",
              "1      Husband  White    Male             0             0              50   \n",
              "2      Husband  White    Male             0             0              40   \n",
              "3      Husband  Black    Male          7688             0              40   \n",
              "4    Own-child  White  Female             0             0              30   \n",
              "\n",
              "  native-country  class  country_class  \n",
              "0  United-States      0           0.24  \n",
              "1  United-States      0           0.24  \n",
              "2  United-States      1           0.24  \n",
              "3  United-States      1           0.24  \n",
              "4  United-States      0           0.24  "
            ],
            "text/html": [
              "\n",
              "  <div id=\"df-2e7bf7df-94e9-4a10-a01f-46aa63199509\">\n",
              "    <div class=\"colab-df-container\">\n",
              "      <div>\n",
              "<style scoped>\n",
              "    .dataframe tbody tr th:only-of-type {\n",
              "        vertical-align: middle;\n",
              "    }\n",
              "\n",
              "    .dataframe tbody tr th {\n",
              "        vertical-align: top;\n",
              "    }\n",
              "\n",
              "    .dataframe thead th {\n",
              "        text-align: right;\n",
              "    }\n",
              "</style>\n",
              "<table border=\"1\" class=\"dataframe\">\n",
              "  <thead>\n",
              "    <tr style=\"text-align: right;\">\n",
              "      <th></th>\n",
              "      <th>age</th>\n",
              "      <th>workclass</th>\n",
              "      <th>education-num</th>\n",
              "      <th>marital-status</th>\n",
              "      <th>occupation</th>\n",
              "      <th>relationship</th>\n",
              "      <th>race</th>\n",
              "      <th>sex</th>\n",
              "      <th>capital-gain</th>\n",
              "      <th>capital-loss</th>\n",
              "      <th>hours-per-week</th>\n",
              "      <th>native-country</th>\n",
              "      <th>class</th>\n",
              "      <th>country_class</th>\n",
              "    </tr>\n",
              "  </thead>\n",
              "  <tbody>\n",
              "    <tr>\n",
              "      <th>0</th>\n",
              "      <td>25</td>\n",
              "      <td>Private</td>\n",
              "      <td>7</td>\n",
              "      <td>Never-married</td>\n",
              "      <td>Machine-op-inspct</td>\n",
              "      <td>Own-child</td>\n",
              "      <td>Black</td>\n",
              "      <td>Male</td>\n",
              "      <td>0</td>\n",
              "      <td>0</td>\n",
              "      <td>40</td>\n",
              "      <td>United-States</td>\n",
              "      <td>0</td>\n",
              "      <td>0.24</td>\n",
              "    </tr>\n",
              "    <tr>\n",
              "      <th>1</th>\n",
              "      <td>38</td>\n",
              "      <td>Private</td>\n",
              "      <td>9</td>\n",
              "      <td>Married-civ-spouse</td>\n",
              "      <td>Farming-fishing</td>\n",
              "      <td>Husband</td>\n",
              "      <td>White</td>\n",
              "      <td>Male</td>\n",
              "      <td>0</td>\n",
              "      <td>0</td>\n",
              "      <td>50</td>\n",
              "      <td>United-States</td>\n",
              "      <td>0</td>\n",
              "      <td>0.24</td>\n",
              "    </tr>\n",
              "    <tr>\n",
              "      <th>2</th>\n",
              "      <td>28</td>\n",
              "      <td>Local-gov</td>\n",
              "      <td>12</td>\n",
              "      <td>Married-civ-spouse</td>\n",
              "      <td>Protective-serv</td>\n",
              "      <td>Husband</td>\n",
              "      <td>White</td>\n",
              "      <td>Male</td>\n",
              "      <td>0</td>\n",
              "      <td>0</td>\n",
              "      <td>40</td>\n",
              "      <td>United-States</td>\n",
              "      <td>1</td>\n",
              "      <td>0.24</td>\n",
              "    </tr>\n",
              "    <tr>\n",
              "      <th>3</th>\n",
              "      <td>44</td>\n",
              "      <td>Private</td>\n",
              "      <td>10</td>\n",
              "      <td>Married-civ-spouse</td>\n",
              "      <td>Machine-op-inspct</td>\n",
              "      <td>Husband</td>\n",
              "      <td>Black</td>\n",
              "      <td>Male</td>\n",
              "      <td>7688</td>\n",
              "      <td>0</td>\n",
              "      <td>40</td>\n",
              "      <td>United-States</td>\n",
              "      <td>1</td>\n",
              "      <td>0.24</td>\n",
              "    </tr>\n",
              "    <tr>\n",
              "      <th>4</th>\n",
              "      <td>18</td>\n",
              "      <td>NaN</td>\n",
              "      <td>10</td>\n",
              "      <td>Never-married</td>\n",
              "      <td>NaN</td>\n",
              "      <td>Own-child</td>\n",
              "      <td>White</td>\n",
              "      <td>Female</td>\n",
              "      <td>0</td>\n",
              "      <td>0</td>\n",
              "      <td>30</td>\n",
              "      <td>United-States</td>\n",
              "      <td>0</td>\n",
              "      <td>0.24</td>\n",
              "    </tr>\n",
              "  </tbody>\n",
              "</table>\n",
              "</div>\n",
              "      <button class=\"colab-df-convert\" onclick=\"convertToInteractive('df-2e7bf7df-94e9-4a10-a01f-46aa63199509')\"\n",
              "              title=\"Convert this dataframe to an interactive table.\"\n",
              "              style=\"display:none;\">\n",
              "        \n",
              "  <svg xmlns=\"http://www.w3.org/2000/svg\" height=\"24px\"viewBox=\"0 0 24 24\"\n",
              "       width=\"24px\">\n",
              "    <path d=\"M0 0h24v24H0V0z\" fill=\"none\"/>\n",
              "    <path d=\"M18.56 5.44l.94 2.06.94-2.06 2.06-.94-2.06-.94-.94-2.06-.94 2.06-2.06.94zm-11 1L8.5 8.5l.94-2.06 2.06-.94-2.06-.94L8.5 2.5l-.94 2.06-2.06.94zm10 10l.94 2.06.94-2.06 2.06-.94-2.06-.94-.94-2.06-.94 2.06-2.06.94z\"/><path d=\"M17.41 7.96l-1.37-1.37c-.4-.4-.92-.59-1.43-.59-.52 0-1.04.2-1.43.59L10.3 9.45l-7.72 7.72c-.78.78-.78 2.05 0 2.83L4 21.41c.39.39.9.59 1.41.59.51 0 1.02-.2 1.41-.59l7.78-7.78 2.81-2.81c.8-.78.8-2.07 0-2.86zM5.41 20L4 18.59l7.72-7.72 1.47 1.35L5.41 20z\"/>\n",
              "  </svg>\n",
              "      </button>\n",
              "      \n",
              "  <style>\n",
              "    .colab-df-container {\n",
              "      display:flex;\n",
              "      flex-wrap:wrap;\n",
              "      gap: 12px;\n",
              "    }\n",
              "\n",
              "    .colab-df-convert {\n",
              "      background-color: #E8F0FE;\n",
              "      border: none;\n",
              "      border-radius: 50%;\n",
              "      cursor: pointer;\n",
              "      display: none;\n",
              "      fill: #1967D2;\n",
              "      height: 32px;\n",
              "      padding: 0 0 0 0;\n",
              "      width: 32px;\n",
              "    }\n",
              "\n",
              "    .colab-df-convert:hover {\n",
              "      background-color: #E2EBFA;\n",
              "      box-shadow: 0px 1px 2px rgba(60, 64, 67, 0.3), 0px 1px 3px 1px rgba(60, 64, 67, 0.15);\n",
              "      fill: #174EA6;\n",
              "    }\n",
              "\n",
              "    [theme=dark] .colab-df-convert {\n",
              "      background-color: #3B4455;\n",
              "      fill: #D2E3FC;\n",
              "    }\n",
              "\n",
              "    [theme=dark] .colab-df-convert:hover {\n",
              "      background-color: #434B5C;\n",
              "      box-shadow: 0px 1px 3px 1px rgba(0, 0, 0, 0.15);\n",
              "      filter: drop-shadow(0px 1px 2px rgba(0, 0, 0, 0.3));\n",
              "      fill: #FFFFFF;\n",
              "    }\n",
              "  </style>\n",
              "\n",
              "      <script>\n",
              "        const buttonEl =\n",
              "          document.querySelector('#df-2e7bf7df-94e9-4a10-a01f-46aa63199509 button.colab-df-convert');\n",
              "        buttonEl.style.display =\n",
              "          google.colab.kernel.accessAllowed ? 'block' : 'none';\n",
              "\n",
              "        async function convertToInteractive(key) {\n",
              "          const element = document.querySelector('#df-2e7bf7df-94e9-4a10-a01f-46aa63199509');\n",
              "          const dataTable =\n",
              "            await google.colab.kernel.invokeFunction('convertToInteractive',\n",
              "                                                     [key], {});\n",
              "          if (!dataTable) return;\n",
              "\n",
              "          const docLinkHtml = 'Like what you see? Visit the ' +\n",
              "            '<a target=\"_blank\" href=https://colab.research.google.com/notebooks/data_table.ipynb>data table notebook</a>'\n",
              "            + ' to learn more about interactive tables.';\n",
              "          element.innerHTML = '';\n",
              "          dataTable['output_type'] = 'display_data';\n",
              "          await google.colab.output.renderOutput(dataTable, element);\n",
              "          const docLink = document.createElement('div');\n",
              "          docLink.innerHTML = docLinkHtml;\n",
              "          element.appendChild(docLink);\n",
              "        }\n",
              "      </script>\n",
              "    </div>\n",
              "  </div>\n",
              "  "
            ]
          },
          "metadata": {},
          "execution_count": 68
        }
      ]
    },
    {
      "cell_type": "markdown",
      "source": [
        "범주형 변수들 전처리\n",
        "* 결정 트리 -> 아웃라이어 X, 거리 기반 X => 범주형 변수만 잘 처리해주면 전처리에 손이 별로 안감 (결측치는 해줘야하고)\n",
        "* 고윳값이 별로 없으면 그냥 더미 변수화\n",
        "* 10개 넘어가는 -> `education`, `occupation`, `native-country`\n",
        "* education -> education-num => 교육수준에 따른 순서형 변수\n",
        "* occupation -> 이미 묶여있고, 소득 수준에도 큰 영향을 끼칠 것으로 예상 (직업? 직군?) => 더미변수화\n",
        "* native-country -> 나라별 고연봉자 비율 -> 연속형 변수 (트리 방식 -> 구분하는데 문제 없으면 됨)"
      ],
      "metadata": {
        "id": "TEL9A90cuabZ"
      }
    },
    {
      "cell_type": "markdown",
      "source": [
        "## 결측치 처리"
      ],
      "metadata": {
        "id": "qEyEmsVvwqSv"
      }
    },
    {
      "cell_type": "code",
      "source": [
        "df.isna().mean()\n",
        "df.isna().mean().plot(kind='barh')"
      ],
      "metadata": {
        "colab": {
          "base_uri": "https://localhost:8080/",
          "height": 283
        },
        "id": "Hfrk6T1Gv08U",
        "outputId": "1153376c-a2c1-4501-de5d-fa5668ef52d0"
      },
      "execution_count": 71,
      "outputs": [
        {
          "output_type": "execute_result",
          "data": {
            "text/plain": [
              "<Axes: >"
            ]
          },
          "metadata": {},
          "execution_count": 71
        },
        {
          "output_type": "display_data",
          "data": {
            "text/plain": [
              "<Figure size 432x288 with 1 Axes>"
            ],
            "image/png": "[encoded data removed]"
          },
          "metadata": {
            "needs_background": "light"
          }
        }
      ]
    },
    {
      "cell_type": "markdown",
      "source": [
        "### native-country"
      ],
      "metadata": {
        "id": "9QWGGIInJ9Ra"
      }
    },
    {
      "cell_type": "code",
      "source": [
        "# native-country -> 불법이민, 무국적자?\n",
        "# native-country -> country_class\n",
        "# 0~1 사이의 비율값 <=> 구분점을 두기 위해서 빈값(NaN)은 -99\n",
        "df['country_class'].fillna(-99)\n",
        "df['country_class'].fillna(-99, inplace=True)\n",
        "df['country_class'].isna().sum()"
      ],
      "metadata": {
        "colab": {
          "base_uri": "https://localhost:8080/"
        },
        "id": "BmTKtkmHwBVi",
        "outputId": "67d5f447-7d83-4319-e942-0c1d7d12d2d9"
      },
      "execution_count": 74,
      "outputs": [
        {
          "output_type": "execute_result",
          "data": {
            "text/plain": [
              "0"
            ]
          },
          "metadata": {},
          "execution_count": 74
        }
      ]
    },
    {
      "cell_type": "code",
      "source": [
        "df.isna().mean().plot(kind='barh')"
      ],
      "metadata": {
        "colab": {
          "base_uri": "https://localhost:8080/",
          "height": 283
        },
        "id": "erwl0s2fVLyS",
        "outputId": "e03157b1-f3b8-4cd0-eee9-25c45098a1e9"
      },
      "execution_count": 75,
      "outputs": [
        {
          "output_type": "execute_result",
          "data": {
            "text/plain": [
              "<Axes: >"
            ]
          },
          "metadata": {},
          "execution_count": 75
        },
        {
          "output_type": "display_data",
          "data": {
            "text/plain": [
              "<Figure size 432x288 with 1 Axes>"
            ],
            "image/png": "[encoded data removed]"
          },
          "metadata": {
            "needs_background": "light"
          }
        }
      ]
    },
    {
      "cell_type": "markdown",
      "source": [
        "### workclass"
      ],
      "metadata": {
        "id": "Az-DPlLPKbA_"
      }
    },
    {
      "cell_type": "code",
      "source": [
        "df.workclass.value_counts() / len(df)"
      ],
      "metadata": {
        "colab": {
          "base_uri": "https://localhost:8080/"
        },
        "id": "1LtzFriuwdQQ",
        "outputId": "946beebc-57b7-4163-a462-6a4e2c7b1889"
      },
      "execution_count": 76,
      "outputs": [
        {
          "output_type": "execute_result",
          "data": {
            "text/plain": [
              "Private            0.69\n",
              "Self-emp-not-inc   0.08\n",
              "Local-gov          0.06\n",
              "State-gov          0.04\n",
              "Self-emp-inc       0.03\n",
              "Federal-gov        0.03\n",
              "Without-pay        0.00\n",
              "Never-worked       0.00\n",
              "Name: workclass, dtype: float64"
            ]
          },
          "metadata": {},
          "execution_count": 76
        }
      ]
    },
    {
      "cell_type": "code",
      "source": [
        "# 최빈값으로 채워줌\n",
        "df['workclass'].fillna('Private', inplace=True)\n",
        "df.isna().mean().plot(kind='bar')"
      ],
      "metadata": {
        "colab": {
          "base_uri": "https://localhost:8080/",
          "height": 353
        },
        "id": "5UTe9hcPw0GO",
        "outputId": "ab46b000-e696-4880-8954-647fc90d0135"
      },
      "execution_count": 78,
      "outputs": [
        {
          "output_type": "execute_result",
          "data": {
            "text/plain": [
              "<Axes: >"
            ]
          },
          "metadata": {},
          "execution_count": 78
        },
        {
          "output_type": "display_data",
          "data": {
            "text/plain": [
              "<Figure size 432x288 with 1 Axes>"
            ],
            "image/png": "[encoded data removed]"
          },
          "metadata": {
            "needs_background": "light"
          }
        }
      ]
    },
    {
      "cell_type": "markdown",
      "source": [
        "### occupation"
      ],
      "metadata": {
        "id": "5a3Qaw1ZKj_F"
      }
    },
    {
      "cell_type": "code",
      "source": [
        "df.occupation.value_counts() / len(df)"
      ],
      "metadata": {
        "colab": {
          "base_uri": "https://localhost:8080/"
        },
        "id": "teXjHQnpw6x2",
        "outputId": "a4236cf9-8097-4fb1-ec95-db2c3cd953a4"
      },
      "execution_count": 79,
      "outputs": [
        {
          "output_type": "execute_result",
          "data": {
            "text/plain": [
              "Prof-specialty      0.13\n",
              "Craft-repair        0.13\n",
              "Exec-managerial     0.12\n",
              "Adm-clerical        0.11\n",
              "Sales               0.11\n",
              "Other-service       0.10\n",
              "Machine-op-inspct   0.06\n",
              "Transport-moving    0.05\n",
              "Handlers-cleaners   0.04\n",
              "Farming-fishing     0.03\n",
              "Tech-support        0.03\n",
              "Protective-serv     0.02\n",
              "Priv-house-serv     0.00\n",
              "Armed-Forces        0.00\n",
              "Name: occupation, dtype: float64"
            ]
          },
          "metadata": {},
          "execution_count": 79
        }
      ]
    },
    {
      "cell_type": "code",
      "source": [
        "# 알수 없음(Unknown)\n",
        "df['occupation'].fillna('Unknown', inplace=True)\n",
        "df.isna().mean().plot(kind='bar')"
      ],
      "metadata": {
        "colab": {
          "base_uri": "https://localhost:8080/",
          "height": 351
        },
        "id": "XAE6b6bRxBeo",
        "outputId": "2210a3b9-be30-4a53-af3b-c9df545f8865"
      },
      "execution_count": 80,
      "outputs": [
        {
          "output_type": "execute_result",
          "data": {
            "text/plain": [
              "<Axes: >"
            ]
          },
          "metadata": {},
          "execution_count": 80
        },
        {
          "output_type": "display_data",
          "data": {
            "text/plain": [
              "<Figure size 432x288 with 1 Axes>"
            ],
            "image/png": "[encoded data removed]"
          },
          "metadata": {
            "needs_background": "light"
          }
        }
      ]
    },
    {
      "cell_type": "code",
      "source": [
        "df.drop('native-country', axis=1, inplace=True)\n",
        "df.isna().mean().plot(kind='bar')"
      ],
      "metadata": {
        "colab": {
          "base_uri": "https://localhost:8080/",
          "height": 351
        },
        "id": "EHTErev7KwWz",
        "outputId": "af1feadd-f280-438c-9895-094d1ca3f7db"
      },
      "execution_count": 82,
      "outputs": [
        {
          "output_type": "execute_result",
          "data": {
            "text/plain": [
              "<Axes: >"
            ]
          },
          "metadata": {},
          "execution_count": 82
        },
        {
          "output_type": "display_data",
          "data": {
            "text/plain": [
              "<Figure size 432x288 with 1 Axes>"
            ],
            "image/png": "[encoded data removed]"
          },
          "metadata": {
            "needs_background": "light"
          }
        }
      ]
    },
    {
      "cell_type": "code",
      "source": [
        "df.info()"
      ],
      "metadata": {
        "colab": {
          "base_uri": "https://localhost:8080/"
        },
        "id": "JIP0bBC0LEhF",
        "outputId": "c133853f-a58d-4f0b-f038-5874cfa45c49"
      },
      "execution_count": 83,
      "outputs": [
        {
          "output_type": "stream",
          "name": "stdout",
          "text": [
            "<class 'pandas.core.frame.DataFrame'>\n",
            "RangeIndex: 48842 entries, 0 to 48841\n",
            "Data columns (total 13 columns):\n",
            " #   Column          Non-Null Count  Dtype  \n",
            "---  ------          --------------  -----  \n",
            " 0   age             48842 non-null  int64  \n",
            " 1   workclass       48842 non-null  object \n",
            " 2   education-num   48842 non-null  int64  \n",
            " 3   marital-status  48842 non-null  object \n",
            " 4   occupation      48842 non-null  object \n",
            " 5   relationship    48842 non-null  object \n",
            " 6   race            48842 non-null  object \n",
            " 7   sex             48842 non-null  object \n",
            " 8   capital-gain    48842 non-null  int64  \n",
            " 9   capital-loss    48842 non-null  int64  \n",
            " 10  hours-per-week  48842 non-null  int64  \n",
            " 11  class           48842 non-null  int64  \n",
            " 12  country_class   48842 non-null  float64\n",
            "dtypes: float64(1), int64(6), object(6)\n",
            "memory usage: 4.8+ MB\n"
          ]
        }
      ]
    },
    {
      "cell_type": "code",
      "source": [
        "df.describe(include='O')\n",
        "df.describe(include='O').columns"
      ],
      "metadata": {
        "colab": {
          "base_uri": "https://localhost:8080/"
        },
        "id": "eeNQeqjYK8R3",
        "outputId": "636cf0e4-f850-4a74-d65c-14d34b911d58"
      },
      "execution_count": 85,
      "outputs": [
        {
          "output_type": "execute_result",
          "data": {
            "text/plain": [
              "Index(['workclass', 'marital-status', 'occupation', 'relationship', 'race',\n",
              "       'sex'],\n",
              "      dtype='object')"
            ]
          },
          "metadata": {},
          "execution_count": 85
        }
      ]
    },
    {
      "cell_type": "code",
      "source": [
        "df_dummy = pd.get_dummies(\n",
        "    df, columns = df.describe(include='O').columns, drop_first=True\n",
        ")\n",
        "df_dummy.head()"
      ],
      "metadata": {
        "colab": {
          "base_uri": "https://localhost:8080/",
          "height": 334
        },
        "id": "7P0JyVt4LLwm",
        "outputId": "1cd30c44-690e-4840-cf94-503e9e18fb04"
      },
      "execution_count": 87,
      "outputs": [
        {
          "output_type": "execute_result",
          "data": {
            "text/plain": [
              "   age  education-num  capital-gain  capital-loss  hours-per-week  class  \\\n",
              "0   25              7             0             0              40      0   \n",
              "1   38              9             0             0              50      0   \n",
              "2   28             12             0             0              40      1   \n",
              "3   44             10          7688             0              40      1   \n",
              "4   18             10             0             0              30      0   \n",
              "\n",
              "   country_class  workclass_Local-gov  workclass_Never-worked  \\\n",
              "0           0.24                    0                       0   \n",
              "1           0.24                    0                       0   \n",
              "2           0.24                    1                       0   \n",
              "3           0.24                    0                       0   \n",
              "4           0.24                    0                       0   \n",
              "\n",
              "   workclass_Private  ...  relationship_Not-in-family  \\\n",
              "0                  1  ...                           0   \n",
              "1                  1  ...                           0   \n",
              "2                  0  ...                           0   \n",
              "3                  1  ...                           0   \n",
              "4                  1  ...                           0   \n",
              "\n",
              "   relationship_Other-relative  relationship_Own-child  \\\n",
              "0                            0                       1   \n",
              "1                            0                       0   \n",
              "2                            0                       0   \n",
              "3                            0                       0   \n",
              "4                            0                       1   \n",
              "\n",
              "   relationship_Unmarried  relationship_Wife  race_Asian-Pac-Islander  \\\n",
              "0                       0                  0                        0   \n",
              "1                       0                  0                        0   \n",
              "2                       0                  0                        0   \n",
              "3                       0                  0                        0   \n",
              "4                       0                  0                        0   \n",
              "\n",
              "   race_Black  race_Other  race_White  sex_Male  \n",
              "0           1           0           0         1  \n",
              "1           0           0           1         1  \n",
              "2           0           0           1         1  \n",
              "3           1           0           0         1  \n",
              "4           0           0           1         0  \n",
              "\n",
              "[5 rows x 44 columns]"
            ],
            "text/html": [
              "\n",
              "  <div id=\"df-69b2671f-84ed-4ff6-8a64-859c6800b80d\">\n",
              "    <div class=\"colab-df-container\">\n",
              "      <div>\n",
              "<style scoped>\n",
              "    .dataframe tbody tr th:only-of-type {\n",
              "        vertical-align: middle;\n",
              "    }\n",
              "\n",
              "    .dataframe tbody tr th {\n",
              "        vertical-align: top;\n",
              "    }\n",
              "\n",
              "    .dataframe thead th {\n",
              "        text-align: right;\n",
              "    }\n",
              "</style>\n",
              "<table border=\"1\" class=\"dataframe\">\n",
              "  <thead>\n",
              "    <tr style=\"text-align: right;\">\n",
              "      <th></th>\n",
              "      <th>age</th>\n",
              "      <th>education-num</th>\n",
              "      <th>capital-gain</th>\n",
              "      <th>capital-loss</th>\n",
              "      <th>hours-per-week</th>\n",
              "      <th>class</th>\n",
              "      <th>country_class</th>\n",
              "      <th>workclass_Local-gov</th>\n",
              "      <th>workclass_Never-worked</th>\n",
              "      <th>workclass_Private</th>\n",
              "      <th>...</th>\n",
              "      <th>relationship_Not-in-family</th>\n",
              "      <th>relationship_Other-relative</th>\n",
              "      <th>relationship_Own-child</th>\n",
              "      <th>relationship_Unmarried</th>\n",
              "      <th>relationship_Wife</th>\n",
              "      <th>race_Asian-Pac-Islander</th>\n",
              "      <th>race_Black</th>\n",
              "      <th>race_Other</th>\n",
              "      <th>race_White</th>\n",
              "      <th>sex_Male</th>\n",
              "    </tr>\n",
              "  </thead>\n",
              "  <tbody>\n",
              "    <tr>\n",
              "      <th>0</th>\n",
              "      <td>25</td>\n",
              "      <td>7</td>\n",
              "      <td>0</td>\n",
              "      <td>0</td>\n",
              "      <td>40</td>\n",
              "      <td>0</td>\n",
              "      <td>0.24</td>\n",
              "      <td>0</td>\n",
              "      <td>0</td>\n",
              "      <td>1</td>\n",
              "      <td>...</td>\n",
              "      <td>0</td>\n",
              "      <td>0</td>\n",
              "      <td>1</td>\n",
              "      <td>0</td>\n",
              "      <td>0</td>\n",
              "      <td>0</td>\n",
              "      <td>1</td>\n",
              "      <td>0</td>\n",
              "      <td>0</td>\n",
              "      <td>1</td>\n",
              "    </tr>\n",
              "    <tr>\n",
              "      <th>1</th>\n",
              "      <td>38</td>\n",
              "      <td>9</td>\n",
              "      <td>0</td>\n",
              "      <td>0</td>\n",
              "      <td>50</td>\n",
              "      <td>0</td>\n",
              "      <td>0.24</td>\n",
              "      <td>0</td>\n",
              "      <td>0</td>\n",
              "      <td>1</td>\n",
              "      <td>...</td>\n",
              "      <td>0</td>\n",
              "      <td>0</td>\n",
              "      <td>0</td>\n",
              "      <td>0</td>\n",
              "      <td>0</td>\n",
              "      <td>0</td>\n",
              "      <td>0</td>\n",
              "      <td>0</td>\n",
              "      <td>1</td>\n",
              "      <td>1</td>\n",
              "    </tr>\n",
              "    <tr>\n",
              "      <th>2</th>\n",
              "      <td>28</td>\n",
              "      <td>12</td>\n",
              "      <td>0</td>\n",
              "      <td>0</td>\n",
              "      <td>40</td>\n",
              "      <td>1</td>\n",
              "      <td>0.24</td>\n",
              "      <td>1</td>\n",
              "      <td>0</td>\n",
              "      <td>0</td>\n",
              "      <td>...</td>\n",
              "      <td>0</td>\n",
              "      <td>0</td>\n",
              "      <td>0</td>\n",
              "      <td>0</td>\n",
              "      <td>0</td>\n",
              "      <td>0</td>\n",
              "      <td>0</td>\n",
              "      <td>0</td>\n",
              "      <td>1</td>\n",
              "      <td>1</td>\n",
              "    </tr>\n",
              "    <tr>\n",
              "      <th>3</th>\n",
              "      <td>44</td>\n",
              "      <td>10</td>\n",
              "      <td>7688</td>\n",
              "      <td>0</td>\n",
              "      <td>40</td>\n",
              "      <td>1</td>\n",
              "      <td>0.24</td>\n",
              "      <td>0</td>\n",
              "      <td>0</td>\n",
              "      <td>1</td>\n",
              "      <td>...</td>\n",
              "      <td>0</td>\n",
              "      <td>0</td>\n",
              "      <td>0</td>\n",
              "      <td>0</td>\n",
              "      <td>0</td>\n",
              "      <td>0</td>\n",
              "      <td>1</td>\n",
              "      <td>0</td>\n",
              "      <td>0</td>\n",
              "      <td>1</td>\n",
              "    </tr>\n",
              "    <tr>\n",
              "      <th>4</th>\n",
              "      <td>18</td>\n",
              "      <td>10</td>\n",
              "      <td>0</td>\n",
              "      <td>0</td>\n",
              "      <td>30</td>\n",
              "      <td>0</td>\n",
              "      <td>0.24</td>\n",
              "      <td>0</td>\n",
              "      <td>0</td>\n",
              "      <td>1</td>\n",
              "      <td>...</td>\n",
              "      <td>0</td>\n",
              "      <td>0</td>\n",
              "      <td>1</td>\n",
              "      <td>0</td>\n",
              "      <td>0</td>\n",
              "      <td>0</td>\n",
              "      <td>0</td>\n",
              "      <td>0</td>\n",
              "      <td>1</td>\n",
              "      <td>0</td>\n",
              "    </tr>\n",
              "  </tbody>\n",
              "</table>\n",
              "<p>5 rows × 44 columns</p>\n",
              "</div>\n",
              "      <button class=\"colab-df-convert\" onclick=\"convertToInteractive('df-69b2671f-84ed-4ff6-8a64-859c6800b80d')\"\n",
              "              title=\"Convert this dataframe to an interactive table.\"\n",
              "              style=\"display:none;\">\n",
              "        \n",
              "  <svg xmlns=\"http://www.w3.org/2000/svg\" height=\"24px\"viewBox=\"0 0 24 24\"\n",
              "       width=\"24px\">\n",
              "    <path d=\"M0 0h24v24H0V0z\" fill=\"none\"/>\n",
              "    <path d=\"M18.56 5.44l.94 2.06.94-2.06 2.06-.94-2.06-.94-.94-2.06-.94 2.06-2.06.94zm-11 1L8.5 8.5l.94-2.06 2.06-.94-2.06-.94L8.5 2.5l-.94 2.06-2.06.94zm10 10l.94 2.06.94-2.06 2.06-.94-2.06-.94-.94-2.06-.94 2.06-2.06.94z\"/><path d=\"M17.41 7.96l-1.37-1.37c-.4-.4-.92-.59-1.43-.59-.52 0-1.04.2-1.43.59L10.3 9.45l-7.72 7.72c-.78.78-.78 2.05 0 2.83L4 21.41c.39.39.9.59 1.41.59.51 0 1.02-.2 1.41-.59l7.78-7.78 2.81-2.81c.8-.78.8-2.07 0-2.86zM5.41 20L4 18.59l7.72-7.72 1.47 1.35L5.41 20z\"/>\n",
              "  </svg>\n",
              "      </button>\n",
              "      \n",
              "  <style>\n",
              "    .colab-df-container {\n",
              "      display:flex;\n",
              "      flex-wrap:wrap;\n",
              "      gap: 12px;\n",
              "    }\n",
              "\n",
              "    .colab-df-convert {\n",
              "      background-color: #E8F0FE;\n",
              "      border: none;\n",
              "      border-radius: 50%;\n",
              "      cursor: pointer;\n",
              "      display: none;\n",
              "      fill: #1967D2;\n",
              "      height: 32px;\n",
              "      padding: 0 0 0 0;\n",
              "      width: 32px;\n",
              "    }\n",
              "\n",
              "    .colab-df-convert:hover {\n",
              "      background-color: #E2EBFA;\n",
              "      box-shadow: 0px 1px 2px rgba(60, 64, 67, 0.3), 0px 1px 3px 1px rgba(60, 64, 67, 0.15);\n",
              "      fill: #174EA6;\n",
              "    }\n",
              "\n",
              "    [theme=dark] .colab-df-convert {\n",
              "      background-color: #3B4455;\n",
              "      fill: #D2E3FC;\n",
              "    }\n",
              "\n",
              "    [theme=dark] .colab-df-convert:hover {\n",
              "      background-color: #434B5C;\n",
              "      box-shadow: 0px 1px 3px 1px rgba(0, 0, 0, 0.15);\n",
              "      filter: drop-shadow(0px 1px 2px rgba(0, 0, 0, 0.3));\n",
              "      fill: #FFFFFF;\n",
              "    }\n",
              "  </style>\n",
              "\n",
              "      <script>\n",
              "        const buttonEl =\n",
              "          document.querySelector('#df-69b2671f-84ed-4ff6-8a64-859c6800b80d button.colab-df-convert');\n",
              "        buttonEl.style.display =\n",
              "          google.colab.kernel.accessAllowed ? 'block' : 'none';\n",
              "\n",
              "        async function convertToInteractive(key) {\n",
              "          const element = document.querySelector('#df-69b2671f-84ed-4ff6-8a64-859c6800b80d');\n",
              "          const dataTable =\n",
              "            await google.colab.kernel.invokeFunction('convertToInteractive',\n",
              "                                                     [key], {});\n",
              "          if (!dataTable) return;\n",
              "\n",
              "          const docLinkHtml = 'Like what you see? Visit the ' +\n",
              "            '<a target=\"_blank\" href=https://colab.research.google.com/notebooks/data_table.ipynb>data table notebook</a>'\n",
              "            + ' to learn more about interactive tables.';\n",
              "          element.innerHTML = '';\n",
              "          dataTable['output_type'] = 'display_data';\n",
              "          await google.colab.output.renderOutput(dataTable, element);\n",
              "          const docLink = document.createElement('div');\n",
              "          docLink.innerHTML = docLinkHtml;\n",
              "          element.appendChild(docLink);\n",
              "        }\n",
              "      </script>\n",
              "    </div>\n",
              "  </div>\n",
              "  "
            ]
          },
          "metadata": {},
          "execution_count": 87
        }
      ]
    },
    {
      "cell_type": "code",
      "source": [
        "df_dummy.info()"
      ],
      "metadata": {
        "colab": {
          "base_uri": "https://localhost:8080/"
        },
        "id": "mKi5VhAiXDb2",
        "outputId": "0ed6e8b3-c480-47eb-9afb-594b0f4a6ebe"
      },
      "execution_count": 88,
      "outputs": [
        {
          "output_type": "stream",
          "name": "stdout",
          "text": [
            "<class 'pandas.core.frame.DataFrame'>\n",
            "RangeIndex: 48842 entries, 0 to 48841\n",
            "Data columns (total 44 columns):\n",
            " #   Column                                Non-Null Count  Dtype  \n",
            "---  ------                                --------------  -----  \n",
            " 0   age                                   48842 non-null  int64  \n",
            " 1   education-num                         48842 non-null  int64  \n",
            " 2   capital-gain                          48842 non-null  int64  \n",
            " 3   capital-loss                          48842 non-null  int64  \n",
            " 4   hours-per-week                        48842 non-null  int64  \n",
            " 5   class                                 48842 non-null  int64  \n",
            " 6   country_class                         48842 non-null  float64\n",
            " 7   workclass_Local-gov                   48842 non-null  uint8  \n",
            " 8   workclass_Never-worked                48842 non-null  uint8  \n",
            " 9   workclass_Private                     48842 non-null  uint8  \n",
            " 10  workclass_Self-emp-inc                48842 non-null  uint8  \n",
            " 11  workclass_Self-emp-not-inc            48842 non-null  uint8  \n",
            " 12  workclass_State-gov                   48842 non-null  uint8  \n",
            " 13  workclass_Without-pay                 48842 non-null  uint8  \n",
            " 14  marital-status_Married-AF-spouse      48842 non-null  uint8  \n",
            " 15  marital-status_Married-civ-spouse     48842 non-null  uint8  \n",
            " 16  marital-status_Married-spouse-absent  48842 non-null  uint8  \n",
            " 17  marital-status_Never-married          48842 non-null  uint8  \n",
            " 18  marital-status_Separated              48842 non-null  uint8  \n",
            " 19  marital-status_Widowed                48842 non-null  uint8  \n",
            " 20  occupation_Armed-Forces               48842 non-null  uint8  \n",
            " 21  occupation_Craft-repair               48842 non-null  uint8  \n",
            " 22  occupation_Exec-managerial            48842 non-null  uint8  \n",
            " 23  occupation_Farming-fishing            48842 non-null  uint8  \n",
            " 24  occupation_Handlers-cleaners          48842 non-null  uint8  \n",
            " 25  occupation_Machine-op-inspct          48842 non-null  uint8  \n",
            " 26  occupation_Other-service              48842 non-null  uint8  \n",
            " 27  occupation_Priv-house-serv            48842 non-null  uint8  \n",
            " 28  occupation_Prof-specialty             48842 non-null  uint8  \n",
            " 29  occupation_Protective-serv            48842 non-null  uint8  \n",
            " 30  occupation_Sales                      48842 non-null  uint8  \n",
            " 31  occupation_Tech-support               48842 non-null  uint8  \n",
            " 32  occupation_Transport-moving           48842 non-null  uint8  \n",
            " 33  occupation_Unknown                    48842 non-null  uint8  \n",
            " 34  relationship_Not-in-family            48842 non-null  uint8  \n",
            " 35  relationship_Other-relative           48842 non-null  uint8  \n",
            " 36  relationship_Own-child                48842 non-null  uint8  \n",
            " 37  relationship_Unmarried                48842 non-null  uint8  \n",
            " 38  relationship_Wife                     48842 non-null  uint8  \n",
            " 39  race_Asian-Pac-Islander               48842 non-null  uint8  \n",
            " 40  race_Black                            48842 non-null  uint8  \n",
            " 41  race_Other                            48842 non-null  uint8  \n",
            " 42  race_White                            48842 non-null  uint8  \n",
            " 43  sex_Male                              48842 non-null  uint8  \n",
            "dtypes: float64(1), int64(6), uint8(37)\n",
            "memory usage: 4.3 MB\n"
          ]
        }
      ]
    },
    {
      "cell_type": "markdown",
      "source": [
        "## 훈련셋/시험셋 분리"
      ],
      "metadata": {
        "id": "NePD0xcKNMJ9"
      }
    },
    {
      "cell_type": "code",
      "source": [
        "X = df_dummy.drop('class', axis=1)# 독립변수 (관측값, 피쳐)\n",
        "y = df_dummy['class'] # 종속변수 (예측값, 라벨)"
      ],
      "metadata": {
        "id": "O1UDK0ClMbK6"
      },
      "execution_count": 89,
      "outputs": []
    },
    {
      "cell_type": "code",
      "source": [
        "from sklearn.model_selection import train_test_split"
      ],
      "metadata": {
        "id": "9-P475cQM03l"
      },
      "execution_count": 90,
      "outputs": []
    },
    {
      "cell_type": "code",
      "source": [
        "X_train, X_test, y_train, y_test = train_test_split(\n",
        "    X, y, test_size=0.4, random_state=110\n",
        ")"
      ],
      "metadata": {
        "id": "ao54SF26M7bE"
      },
      "execution_count": 91,
      "outputs": []
    },
    {
      "cell_type": "markdown",
      "source": [
        "# 모델링 & 평가"
      ],
      "metadata": {
        "id": "uFuKdhoYMhOC"
      }
    },
    {
      "cell_type": "code",
      "source": [
        "# 회귀 - 연속형변수 예측 - DecisionTreeRegressor\n",
        "from sklearn.tree import DecisionTreeClassifier # 분류 - 범주형 변수 예측"
      ],
      "metadata": {
        "id": "9D0WS4q3NJzj"
      },
      "execution_count": 92,
      "outputs": []
    },
    {
      "cell_type": "code",
      "source": [
        "model = DecisionTreeClassifier(random_state=111)"
      ],
      "metadata": {
        "id": "xbd4ywiANfWT"
      },
      "execution_count": 93,
      "outputs": []
    },
    {
      "cell_type": "code",
      "source": [
        "model.fit(X_train, y_train)"
      ],
      "metadata": {
        "colab": {
          "base_uri": "https://localhost:8080/",
          "height": 75
        },
        "id": "NOht7XJ3Nmoy",
        "outputId": "9c5050f3-3108-4ba7-ce04-a5389b99e92b"
      },
      "execution_count": 94,
      "outputs": [
        {
          "output_type": "execute_result",
          "data": {
            "text/plain": [
              "DecisionTreeClassifier(random_state=111)"
            ],
            "text/html": [
              "<style>#sk-container-id-1 {color: black;background-color: white;}#sk-container-id-1 pre{padding: 0;}#sk-container-id-1 div.sk-toggleable {background-color: white;}#sk-container-id-1 label.sk-toggleable__label {cursor: pointer;display: block;width: 100%;margin-bottom: 0;padding: 0.3em;box-sizing: border-box;text-align: center;}#sk-container-id-1 label.sk-toggleable__label-arrow:before {content: \"▸\";float: left;margin-right: 0.25em;color: #696969;}#sk-container-id-1 label.sk-toggleable__label-arrow:hover:before {color: black;}#sk-container-id-1 div.sk-estimator:hover label.sk-toggleable__label-arrow:before {color: black;}#sk-container-id-1 div.sk-toggleable__content {max-height: 0;max-width: 0;overflow: hidden;text-align: left;background-color: #f0f8ff;}#sk-container-id-1 div.sk-toggleable__content pre {margin: 0.2em;color: black;border-radius: 0.25em;background-color: #f0f8ff;}#sk-container-id-1 input.sk-toggleable__control:checked~div.sk-toggleable__content {max-height: 200px;max-width: 100%;overflow: auto;}#sk-container-id-1 input.sk-toggleable__control:checked~label.sk-toggleable__label-arrow:before {content: \"▾\";}#sk-container-id-1 div.sk-estimator input.sk-toggleable__control:checked~label.sk-toggleable__label {background-color: #d4ebff;}#sk-container-id-1 div.sk-label input.sk-toggleable__control:checked~label.sk-toggleable__label {background-color: #d4ebff;}#sk-container-id-1 input.sk-hidden--visually {border: 0;clip: rect(1px 1px 1px 1px);clip: rect(1px, 1px, 1px, 1px);height: 1px;margin: -1px;overflow: hidden;padding: 0;position: absolute;width: 1px;}#sk-container-id-1 div.sk-estimator {font-family: monospace;background-color: #f0f8ff;border: 1px dotted black;border-radius: 0.25em;box-sizing: border-box;margin-bottom: 0.5em;}#sk-container-id-1 div.sk-estimator:hover {background-color: #d4ebff;}#sk-container-id-1 div.sk-parallel-item::after {content: \"\";width: 100%;border-bottom: 1px solid gray;flex-grow: 1;}#sk-container-id-1 div.sk-label:hover label.sk-toggleable__label {background-color: #d4ebff;}#sk-container-id-1 div.sk-serial::before {content: \"\";position: absolute;border-left: 1px solid gray;box-sizing: border-box;top: 0;bottom: 0;left: 50%;z-index: 0;}#sk-container-id-1 div.sk-serial {display: flex;flex-direction: column;align-items: center;background-color: white;padding-right: 0.2em;padding-left: 0.2em;position: relative;}#sk-container-id-1 div.sk-item {position: relative;z-index: 1;}#sk-container-id-1 div.sk-parallel {display: flex;align-items: stretch;justify-content: center;background-color: white;position: relative;}#sk-container-id-1 div.sk-item::before, #sk-container-id-1 div.sk-parallel-item::before {content: \"\";position: absolute;border-left: 1px solid gray;box-sizing: border-box;top: 0;bottom: 0;left: 50%;z-index: -1;}#sk-container-id-1 div.sk-parallel-item {display: flex;flex-direction: column;z-index: 1;position: relative;background-color: white;}#sk-container-id-1 div.sk-parallel-item:first-child::after {align-self: flex-end;width: 50%;}#sk-container-id-1 div.sk-parallel-item:last-child::after {align-self: flex-start;width: 50%;}#sk-container-id-1 div.sk-parallel-item:only-child::after {width: 0;}#sk-container-id-1 div.sk-dashed-wrapped {border: 1px dashed gray;margin: 0 0.4em 0.5em 0.4em;box-sizing: border-box;padding-bottom: 0.4em;background-color: white;}#sk-container-id-1 div.sk-label label {font-family: monospace;font-weight: bold;display: inline-block;line-height: 1.2em;}#sk-container-id-1 div.sk-label-container {text-align: center;}#sk-container-id-1 div.sk-container {/* jupyter's `normalize.less` sets `[hidden] { display: none; }` but bootstrap.min.css set `[hidden] { display: none !important; }` so we also need the `!important` here to be able to override the default hidden behavior on the sphinx rendered scikit-learn.org. See: https://github.com/scikit-learn/scikit-learn/issues/21755 */display: inline-block !important;position: relative;}#sk-container-id-1 div.sk-text-repr-fallback {display: none;}</style><div id=\"sk-container-id-1\" class=\"sk-top-container\"><div class=\"sk-text-repr-fallback\"><pre>DecisionTreeClassifier(random_state=111)</pre><b>In a Jupyter environment, please rerun this cell to show the HTML representation or trust the notebook. <br />On GitHub, the HTML representation is unable to render, please try loading this page with nbviewer.org.</b></div><div class=\"sk-container\" hidden><div class=\"sk-item\"><div class=\"sk-estimator sk-toggleable\"><input class=\"sk-toggleable__control sk-hidden--visually\" id=\"sk-estimator-id-1\" type=\"checkbox\" checked><label for=\"sk-estimator-id-1\" class=\"sk-toggleable__label sk-toggleable__label-arrow\">DecisionTreeClassifier</label><div class=\"sk-toggleable__content\"><pre>DecisionTreeClassifier(random_state=111)</pre></div></div></div></div></div>"
            ]
          },
          "metadata": {},
          "execution_count": 94
        }
      ]
    },
    {
      "cell_type": "code",
      "source": [
        "y_pred = model.predict(X_test)\n",
        "y_pred"
      ],
      "metadata": {
        "colab": {
          "base_uri": "https://localhost:8080/"
        },
        "id": "Nh-Qz_qINqhj",
        "outputId": "42c46786-c0bb-41ff-eb78-35c3894ce3f0"
      },
      "execution_count": 95,
      "outputs": [
        {
          "output_type": "execute_result",
          "data": {
            "text/plain": [
              "array([0, 0, 0, ..., 0, 0, 0])"
            ]
          },
          "metadata": {},
          "execution_count": 95
        }
      ]
    },
    {
      "cell_type": "code",
      "source": [
        "model.predict_proba(X_test)"
      ],
      "metadata": {
        "id": "hGhFA4bVNyDY",
        "colab": {
          "base_uri": "https://localhost:8080/"
        },
        "outputId": "9f96afab-5983-486c-e7a4-339d009fd8f5"
      },
      "execution_count": 96,
      "outputs": [
        {
          "output_type": "execute_result",
          "data": {
            "text/plain": [
              "array([[1. , 0. ],\n",
              "       [1. , 0. ],\n",
              "       [1. , 0. ],\n",
              "       ...,\n",
              "       [0.5, 0.5],\n",
              "       [0.5, 0.5],\n",
              "       [1. , 0. ]])"
            ]
          },
          "metadata": {},
          "execution_count": 96
        }
      ]
    },
    {
      "cell_type": "code",
      "source": [
        "from sklearn.metrics import accuracy_score, confusion_matrix"
      ],
      "metadata": {
        "id": "282hur7rN3Tk"
      },
      "execution_count": 97,
      "outputs": []
    },
    {
      "cell_type": "code",
      "source": [
        "# accuracy_score(실제값(시험셋), 예측결과)\n",
        "accuracy_score(y_test, y_pred)"
      ],
      "metadata": {
        "colab": {
          "base_uri": "https://localhost:8080/"
        },
        "id": "9FZ79vr3N8lT",
        "outputId": "bd5483ba-56e1-4159-c1b2-189cfb0dd13f"
      },
      "execution_count": 98,
      "outputs": [
        {
          "output_type": "execute_result",
          "data": {
            "text/plain": [
              "0.8175769053590622"
            ]
          },
          "metadata": {},
          "execution_count": 98
        }
      ]
    },
    {
      "cell_type": "code",
      "source": [
        "cf_matrix = confusion_matrix(y_test,y_pred)\n",
        "group_names = ['TN','FP','FN','TP']\n",
        "group_counts = [\"{0:0.0f}\".format(value) for value in\n",
        "                cf_matrix.flatten()]\n",
        "group_percentages = [\"{0:.2%}\".format(value) for value in\n",
        "                     cf_matrix.flatten()/np.sum(cf_matrix)]\n",
        "labels = [f\"{v1}\\n{v2}\\n{v3}\" for v1, v2, v3 in\n",
        "          zip(group_names,group_counts,group_percentages)]\n",
        "labels = np.asarray(labels).reshape(2,2)\n",
        "sns.heatmap(cf_matrix, annot=labels, fmt='', cmap='coolwarm')\n",
        "plt.ylabel('True')\n",
        "plt.xlabel('Predicted')\n",
        "plt.show()"
      ],
      "metadata": {
        "colab": {
          "base_uri": "https://localhost:8080/",
          "height": 279
        },
        "id": "ZbpcX7wJOI6C",
        "outputId": "56cf5629-e7ac-4384-f2c7-054db3be7365"
      },
      "execution_count": 99,
      "outputs": [
        {
          "output_type": "display_data",
          "data": {
            "text/plain": [
              "<Figure size 432x288 with 2 Axes>"
            ],
            "image/png": "[encoded data removed]"
          },
          "metadata": {
            "needs_background": "light"
          }
        }
      ]
    },
    {
      "cell_type": "markdown",
      "source": [
        "# 트리 그래프 시각화"
      ],
      "metadata": {
        "id": "r9OCQ8jLSayW"
      }
    },
    {
      "cell_type": "code",
      "source": [
        "from sklearn.tree import plot_tree"
      ],
      "metadata": {
        "id": "reb9DiIzSkNA"
      },
      "execution_count": 100,
      "outputs": []
    },
    {
      "cell_type": "code",
      "source": [
        "df_dummy.columns"
      ],
      "metadata": {
        "colab": {
          "base_uri": "https://localhost:8080/"
        },
        "id": "3vvaCCcKTcYz",
        "outputId": "5b72b172-e563-446e-aaed-3647e8cd713b"
      },
      "execution_count": 101,
      "outputs": [
        {
          "output_type": "execute_result",
          "data": {
            "text/plain": [
              "Index(['age', 'education-num', 'capital-gain', 'capital-loss',\n",
              "       'hours-per-week', 'class', 'country_class', 'workclass_Local-gov',\n",
              "       'workclass_Never-worked', 'workclass_Private', 'workclass_Self-emp-inc',\n",
              "       'workclass_Self-emp-not-inc', 'workclass_State-gov',\n",
              "       'workclass_Without-pay', 'marital-status_Married-AF-spouse',\n",
              "       'marital-status_Married-civ-spouse',\n",
              "       'marital-status_Married-spouse-absent', 'marital-status_Never-married',\n",
              "       'marital-status_Separated', 'marital-status_Widowed',\n",
              "       'occupation_Armed-Forces', 'occupation_Craft-repair',\n",
              "       'occupation_Exec-managerial', 'occupation_Farming-fishing',\n",
              "       'occupation_Handlers-cleaners', 'occupation_Machine-op-inspct',\n",
              "       'occupation_Other-service', 'occupation_Priv-house-serv',\n",
              "       'occupation_Prof-specialty', 'occupation_Protective-serv',\n",
              "       'occupation_Sales', 'occupation_Tech-support',\n",
              "       'occupation_Transport-moving', 'occupation_Unknown',\n",
              "       'relationship_Not-in-family', 'relationship_Other-relative',\n",
              "       'relationship_Own-child', 'relationship_Unmarried', 'relationship_Wife',\n",
              "       'race_Asian-Pac-Islander', 'race_Black', 'race_Other', 'race_White',\n",
              "       'sex_Male'],\n",
              "      dtype='object')"
            ]
          },
          "metadata": {},
          "execution_count": 101
        }
      ]
    },
    {
      "cell_type": "code",
      "source": [
        "from sklearn.tree import export_graphviz"
      ],
      "metadata": {
        "id": "_OBOioa4bWb5"
      },
      "execution_count": 108,
      "outputs": []
    },
    {
      "cell_type": "code",
      "source": [
        "plt.figure(figsize=(30, 15)) # plt 객체의 크기 결정\n",
        "# 트리 구조를 보고 싶은 모델을 넣고, 최대 깊이, 폰트 사이즈, \n",
        "# plot_tree(model, max_depth=3, fontsize=20) # 변수명 지정 X\n",
        "plot_tree(model, max_depth=3, fontsize=20, feature_names=df_dummy.columns) # 독립변수명을 추가로 지정\n",
        "plt.show()"
      ],
      "metadata": {
        "id": "6jbXyudRSpAa",
        "colab": {
          "base_uri": "https://localhost:8080/",
          "height": 846
        },
        "outputId": "5baa7e3e-063a-4acd-e4b8-7fb7faa97b74"
      },
      "execution_count": 109,
      "outputs": [
        {
          "output_type": "display_data",
          "data": {
            "text/plain": [
              "<Figure size 2160x1080 with 1 Axes>"
            ],
            "image/png": "[encoded data removed]"
          },
          "metadata": {
            "needs_background": "light"
          }
        }
      ]
    },
    {
      "cell_type": "code",
      "source": [
        "plt.figure(figsize=(30, 15))\n",
        "plot_tree(model, max_depth=5, fontsize=10, feature_names=df_dummy.columns) # 독립변수명을 추가로 지정\n",
        "plt.show()"
      ],
      "metadata": {
        "colab": {
          "base_uri": "https://localhost:8080/",
          "height": 846
        },
        "id": "u7kX0vIvbt8w",
        "outputId": "7dd8876b-543a-4974-8eb2-586c1b34435a"
      },
      "execution_count": 110,
      "outputs": [
        {
          "output_type": "display_data",
          "data": {
            "text/plain": [
              "<Figure size 2160x1080 with 1 Axes>"
            ],
            "image/png": "[encoded data removed]"
          },
          "metadata": {
            "needs_background": "light"
          }
        }
      ]
    },
    {
      "cell_type": "markdown",
      "source": [
        "# 하이퍼 패러미터 튜닝"
      ],
      "metadata": {
        "id": "vSbcH7NbUwR-"
      }
    },
    {
      "cell_type": "code",
      "source": [
        "from sklearn.tree import DecisionTreeClassifier\n",
        "\n",
        "model = DecisionTreeClassifier(random_state=100)\n",
        "model.fit(X_train, y_train) # 훈련 데이터 -> 모델 학습\n",
        "# 훈련 데이터로 모델을 통해서 예측\n",
        "train_pred = model.predict(X_train) # 학습을 시킨 값으로 다시 예측\n",
        "# 시험 데이터로 모델을 통해서 예측\n",
        "test_pred = model.predict(X_test) # 새로운 값으로 신규 예측\n",
        "print(f\"Train Score : {accuracy_score(y_train, train_pred)}\") # 기출문제 풀기\n",
        "print(f\"Test Score : {accuracy_score(y_test, test_pred)}\") # 새로운 문제 풀기\n",
        "# 훈련된 데이터는 잘 예측하는데 시험 데이터는 잘 예측 못한다?\n",
        "# 학습이 너무 잘 되어있다 = 새로운 데이터에 대한 적응력이 떨어진다\n",
        "# 과최적화 되어있다 = over-fitting"
      ],
      "metadata": {
        "colab": {
          "base_uri": "https://localhost:8080/"
        },
        "id": "zUVg8I1DUwBS",
        "outputId": "d07efdd2-e217-40e2-91eb-4cdc8fdf9695"
      },
      "execution_count": 115,
      "outputs": [
        {
          "output_type": "stream",
          "name": "stdout",
          "text": [
            "Train Score : 0.9779218563385088\n",
            "Test Score : 0.8187029738445002\n"
          ]
        }
      ]
    },
    {
      "cell_type": "code",
      "source": [
        "# max_depth : 트리의 깊이 제한\n",
        "model = DecisionTreeClassifier(random_state=100, max_depth=5)\n",
        "model.fit(X_train, y_train) # 훈련 데이터 -> 모델 학습\n",
        "# 훈련 데이터로 모델을 통해서 예측\n",
        "train_pred = model.predict(X_train) # 학습을 시킨 값으로 다시 예측\n",
        "# 시험 데이터로 모델을 통해서 예측\n",
        "test_pred = model.predict(X_test) # 새로운 값으로 신규 예측\n",
        "print(f\"Train Score : {accuracy_score(y_train, train_pred)}\") # 기출문제 풀기\n",
        "print(f\"Test Score : {accuracy_score(y_test, test_pred)}\") # 새로운 문제 풀기"
      ],
      "metadata": {
        "colab": {
          "base_uri": "https://localhost:8080/"
        },
        "id": "EiOWBWu2WSPO",
        "outputId": "79941343-f4b8-48d4-ae89-97bf0fe2f2ac"
      },
      "execution_count": 116,
      "outputs": [
        {
          "output_type": "stream",
          "name": "stdout",
          "text": [
            "Train Score : 0.8504350793379969\n",
            "Test Score : 0.8493115626759482\n"
          ]
        }
      ]
    },
    {
      "cell_type": "markdown",
      "source": [
        "> 트리가 깊어지면 오버피팅 문제가 난다\n",
        "\n",
        "* 기본값(결정 트리)의 설정은 구분되는 것까지 가장 깊은 노드값까지 탐색해서 내려갑니다\n",
        "* 오버피팅(과최적화) : 학습이 너무 잘되서 새로운 데이터에 대한 예측력이 오히려 떨어지는 상황"
      ],
      "metadata": {
        "id": "ZAk6JLf_WvMd"
      }
    },
    {
      "cell_type": "code",
      "source": [
        "# max_depth : 트리의 깊이 제한\n",
        "model = DecisionTreeClassifier(random_state=100, max_depth=7)\n",
        "model.fit(X_train, y_train) # 훈련 데이터 -> 모델 학습\n",
        "# 훈련 데이터로 모델을 통해서 예측\n",
        "train_pred = model.predict(X_train) # 학습을 시킨 값으로 다시 예측\n",
        "# 시험 데이터로 모델을 통해서 예측\n",
        "test_pred = model.predict(X_test) # 새로운 값으로 신규 예측\n",
        "print(f\"Train Score : {accuracy_score(y_train, train_pred)}\") # 기출문제 풀기\n",
        "print(f\"Test Score : {accuracy_score(y_test, test_pred)}\") # 새로운 문제 풀기"
      ],
      "metadata": {
        "colab": {
          "base_uri": "https://localhost:8080/"
        },
        "id": "TmB7UcZeW-oy",
        "outputId": "a389f9a6-e471-4a38-df10-0eaddd3ecf10"
      },
      "execution_count": 117,
      "outputs": [
        {
          "output_type": "stream",
          "name": "stdout",
          "text": [
            "Train Score : 0.8598873912301656\n",
            "Test Score : 0.858268925628295\n"
          ]
        }
      ]
    },
    {
      "cell_type": "code",
      "source": [
        "def test_depth(depth):\n",
        "    # max_depth : 트리의 깊이 제한\n",
        "    model = DecisionTreeClassifier(random_state=100, max_depth=depth)\n",
        "    model.fit(X_train, y_train) # 훈련 데이터 -> 모델 학습\n",
        "    # 훈련 데이터로 모델을 통해서 예측\n",
        "    train_pred = model.predict(X_train) # 학습을 시킨 값으로 다시 예측\n",
        "    # 시험 데이터로 모델을 통해서 예측\n",
        "    test_pred = model.predict(X_test) # 새로운 값으로 신규 예측\n",
        "    print(f\"depth : {depth}\")\n",
        "    print(f\"Train Score : {accuracy_score(y_train, train_pred)}\") # 기출문제 풀기\n",
        "    print(f\"Test Score : {accuracy_score(y_test, test_pred)}\") # 새로운 문제 풀기"
      ],
      "metadata": {
        "id": "VPBCd-dlXED9"
      },
      "execution_count": 118,
      "outputs": []
    },
    {
      "cell_type": "code",
      "source": [
        "for i in range(1, 20):\n",
        "    test_depth(i)"
      ],
      "metadata": {
        "colab": {
          "base_uri": "https://localhost:8080/"
        },
        "id": "up8nGugMXNTE",
        "outputId": "dadd7fcb-8d1c-4998-aa5a-392ba1c59bad"
      },
      "execution_count": 119,
      "outputs": [
        {
          "output_type": "stream",
          "name": "stdout",
          "text": [
            "depth : 1\n",
            "Train Score : 0.7609622931240403\n",
            "Test Score : 0.7603521523263551\n",
            "depth : 2\n",
            "Train Score : 0.8268554854120457\n",
            "Test Score : 0.8323181655320674\n",
            "depth : 3\n",
            "Train Score : 0.8423477222317011\n",
            "Test Score : 0.8467523161181348\n",
            "depth : 4\n",
            "Train Score : 0.8428937041460501\n",
            "Test Score : 0.8466499462558222\n",
            "depth : 5\n",
            "Train Score : 0.8504350793379969\n",
            "Test Score : 0.8493115626759482\n",
            "depth : 6\n",
            "Train Score : 0.8549735540010237\n",
            "Test Score : 0.8568357475559195\n",
            "depth : 7\n",
            "Train Score : 0.8598873912301656\n",
            "Test Score : 0.858268925628295\n",
            "depth : 8\n",
            "Train Score : 0.8641187510663709\n",
            "Test Score : 0.8578082612478887\n",
            "depth : 9\n",
            "Train Score : 0.868042996075755\n",
            "Test Score : 0.8602139530122332\n",
            "depth : 10\n",
            "Train Score : 0.8706022862992663\n",
            "Test Score : 0.857501151660951\n",
            "depth : 11\n",
            "Train Score : 0.8754478757891145\n",
            "Test Score : 0.8590878845267953\n",
            "depth : 12\n",
            "Train Score : 0.8804640846271967\n",
            "Test Score : 0.8564774530378256\n",
            "depth : 13\n",
            "Train Score : 0.8848660638116362\n",
            "Test Score : 0.8544812407227312\n",
            "depth : 14\n",
            "Train Score : 0.8902576352158335\n",
            "Test Score : 0.8539182064800123\n",
            "depth : 15\n",
            "Train Score : 0.8959563214468521\n",
            "Test Score : 0.850591185954855\n",
            "depth : 16\n",
            "Train Score : 0.9017573792868111\n",
            "Test Score : 0.8475200900854788\n",
            "depth : 17\n",
            "Train Score : 0.9080361713018257\n",
            "Test Score : 0.8455750627015407\n",
            "depth : 18\n",
            "Train Score : 0.9137348575328442\n",
            "Test Score : 0.8446025490095715\n",
            "depth : 19\n",
            "Train Score : 0.9202525166353864\n",
            "Test Score : 0.839330501100476\n"
          ]
        }
      ]
    }
  ]
}