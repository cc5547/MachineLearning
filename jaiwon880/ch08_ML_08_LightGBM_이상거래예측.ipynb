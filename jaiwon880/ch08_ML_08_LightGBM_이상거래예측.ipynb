{
  "nbformat": 4,
  "nbformat_minor": 0,
  "metadata": {
    "colab": {
      "provenance": [],
      "include_colab_link": true
    },
    "kernelspec": {
      "name": "python3",
      "display_name": "Python 3"
    },
    "language_info": {
      "name": "python"
    }
  },
  "cells": [
    {
      "cell_type": "markdown",
      "metadata": {
        "id": "view-in-github",
        "colab_type": "text"
      },
      "source": [
        "<a href=\"https://colab.research.google.com/github/jaiwon880/MachineLearning_jw/blob/main/jaiwon880/ch08_ML_08_LightGBM_%EC%9D%B4%EC%83%81%EA%B1%B0%EB%9E%98%EC%98%88%EC%B8%A1.ipynb\" target=\"_parent\"><img src=\"https://colab.research.google.com/assets/colab-badge.svg\" alt=\"Open In Colab\"/></a>"
      ]
    },
    {
      "cell_type": "markdown",
      "source": [
        "# Kaggle 데이터 다운로드 받기"
      ],
      "metadata": {
        "id": "QF64CxX3Odfi"
      }
    },
    {
      "cell_type": "markdown",
      "source": [
        "**데이터셋 다운로드**\n",
        "1. csv를 그냥 다운로드 받는다 (Jupyter)\n",
        "    * Colab이면? 다시 업로드 (100mb? 20분씩...)\n",
        "2. github에 올린다 -> (파일하나당) 150MB? -> 안 올라감\n",
        "3. google drive -> 느려... -> 기본 n시간\n",
        "4. wget : 링크를 입력하면 해당 링크의 파일을 다운로드\n",
        "```\n",
        "# !wget {파일 링크 주소}\n",
        "# 예시\n",
        "!wget https://...\n",
        "```\n",
        "5. kaggle api로 직접 다운로드\n",
        "- kaggle.json -> 인증파일 (인증코드)\n",
        "```\n",
        "# colab에서 인증파일 적용하는 법\n",
        "!rm -r ~/.kaggle\n",
        "!mkdir ~/.kaggle\n",
        "!mv ./kaggle.json ~/.kaggle/\n",
        "!chmod 600 ~/.kaggle/kaggle.json\n",
        "```\n",
        "```\n",
        "# Kaggle API를 사용해서 파일을 다운로드\n",
        "# Kaggle > DataSet > Copy API command\n",
        "!kaggle datasets download -d kartik2112/fraud-detection\n",
        "```"
      ],
      "metadata": {
        "id": "u8iq3sVpAlWS"
      }
    },
    {
      "cell_type": "markdown",
      "source": [
        "## 인증 및 데이터 받기"
      ],
      "metadata": {
        "id": "0Rnn1JgZOgEk"
      }
    },
    {
      "cell_type": "code",
      "execution_count": 55,
      "metadata": {
        "colab": {
          "base_uri": "https://localhost:8080/",
          "height": 384
        },
        "id": "E6o3Z60dLs1T",
        "outputId": "03cdefd2-74e2-4751-b5ac-986cbb50f2c9"
      },
      "outputs": [
        {
          "output_type": "display_data",
          "data": {
            "text/plain": [
              "<IPython.core.display.HTML object>"
            ],
            "text/html": [
              "\n",
              "     <input type=\"file\" id=\"files-f8b4f53d-8b10-4066-915a-4584a32409a0\" name=\"files[]\" multiple disabled\n",
              "        style=\"border:none\" />\n",
              "     <output id=\"result-f8b4f53d-8b10-4066-915a-4584a32409a0\">\n",
              "      Upload widget is only available when the cell has been executed in the\n",
              "      current browser session. Please rerun this cell to enable.\n",
              "      </output>\n",
              "      <script>// Copyright 2017 Google LLC\n",
              "//\n",
              "// Licensed under the Apache License, Version 2.0 (the \"License\");\n",
              "// you may not use this file except in compliance with the License.\n",
              "// You may obtain a copy of the License at\n",
              "//\n",
              "//      http://www.apache.org/licenses/LICENSE-2.0\n",
              "//\n",
              "// Unless required by applicable law or agreed to in writing, software\n",
              "// distributed under the License is distributed on an \"AS IS\" BASIS,\n",
              "// WITHOUT WARRANTIES OR CONDITIONS OF ANY KIND, either express or implied.\n",
              "// See the License for the specific language governing permissions and\n",
              "// limitations under the License.\n",
              "\n",
              "/**\n",
              " * @fileoverview Helpers for google.colab Python module.\n",
              " */\n",
              "(function(scope) {\n",
              "function span(text, styleAttributes = {}) {\n",
              "  const element = document.createElement('span');\n",
              "  element.textContent = text;\n",
              "  for (const key of Object.keys(styleAttributes)) {\n",
              "    element.style[key] = styleAttributes[key];\n",
              "  }\n",
              "  return element;\n",
              "}\n",
              "\n",
              "// Max number of bytes which will be uploaded at a time.\n",
              "const MAX_PAYLOAD_SIZE = 100 * 1024;\n",
              "\n",
              "function _uploadFiles(inputId, outputId) {\n",
              "  const steps = uploadFilesStep(inputId, outputId);\n",
              "  const outputElement = document.getElementById(outputId);\n",
              "  // Cache steps on the outputElement to make it available for the next call\n",
              "  // to uploadFilesContinue from Python.\n",
              "  outputElement.steps = steps;\n",
              "\n",
              "  return _uploadFilesContinue(outputId);\n",
              "}\n",
              "\n",
              "// This is roughly an async generator (not supported in the browser yet),\n",
              "// where there are multiple asynchronous steps and the Python side is going\n",
              "// to poll for completion of each step.\n",
              "// This uses a Promise to block the python side on completion of each step,\n",
              "// then passes the result of the previous step as the input to the next step.\n",
              "function _uploadFilesContinue(outputId) {\n",
              "  const outputElement = document.getElementById(outputId);\n",
              "  const steps = outputElement.steps;\n",
              "\n",
              "  const next = steps.next(outputElement.lastPromiseValue);\n",
              "  return Promise.resolve(next.value.promise).then((value) => {\n",
              "    // Cache the last promise value to make it available to the next\n",
              "    // step of the generator.\n",
              "    outputElement.lastPromiseValue = value;\n",
              "    return next.value.response;\n",
              "  });\n",
              "}\n",
              "\n",
              "/**\n",
              " * Generator function which is called between each async step of the upload\n",
              " * process.\n",
              " * @param {string} inputId Element ID of the input file picker element.\n",
              " * @param {string} outputId Element ID of the output display.\n",
              " * @return {!Iterable<!Object>} Iterable of next steps.\n",
              " */\n",
              "function* uploadFilesStep(inputId, outputId) {\n",
              "  const inputElement = document.getElementById(inputId);\n",
              "  inputElement.disabled = false;\n",
              "\n",
              "  const outputElement = document.getElementById(outputId);\n",
              "  outputElement.innerHTML = '';\n",
              "\n",
              "  const pickedPromise = new Promise((resolve) => {\n",
              "    inputElement.addEventListener('change', (e) => {\n",
              "      resolve(e.target.files);\n",
              "    });\n",
              "  });\n",
              "\n",
              "  const cancel = document.createElement('button');\n",
              "  inputElement.parentElement.appendChild(cancel);\n",
              "  cancel.textContent = 'Cancel upload';\n",
              "  const cancelPromise = new Promise((resolve) => {\n",
              "    cancel.onclick = () => {\n",
              "      resolve(null);\n",
              "    };\n",
              "  });\n",
              "\n",
              "  // Wait for the user to pick the files.\n",
              "  const files = yield {\n",
              "    promise: Promise.race([pickedPromise, cancelPromise]),\n",
              "    response: {\n",
              "      action: 'starting',\n",
              "    }\n",
              "  };\n",
              "\n",
              "  cancel.remove();\n",
              "\n",
              "  // Disable the input element since further picks are not allowed.\n",
              "  inputElement.disabled = true;\n",
              "\n",
              "  if (!files) {\n",
              "    return {\n",
              "      response: {\n",
              "        action: 'complete',\n",
              "      }\n",
              "    };\n",
              "  }\n",
              "\n",
              "  for (const file of files) {\n",
              "    const li = document.createElement('li');\n",
              "    li.append(span(file.name, {fontWeight: 'bold'}));\n",
              "    li.append(span(\n",
              "        `(${file.type || 'n/a'}) - ${file.size} bytes, ` +\n",
              "        `last modified: ${\n",
              "            file.lastModifiedDate ? file.lastModifiedDate.toLocaleDateString() :\n",
              "                                    'n/a'} - `));\n",
              "    const percent = span('0% done');\n",
              "    li.appendChild(percent);\n",
              "\n",
              "    outputElement.appendChild(li);\n",
              "\n",
              "    const fileDataPromise = new Promise((resolve) => {\n",
              "      const reader = new FileReader();\n",
              "      reader.onload = (e) => {\n",
              "        resolve(e.target.result);\n",
              "      };\n",
              "      reader.readAsArrayBuffer(file);\n",
              "    });\n",
              "    // Wait for the data to be ready.\n",
              "    let fileData = yield {\n",
              "      promise: fileDataPromise,\n",
              "      response: {\n",
              "        action: 'continue',\n",
              "      }\n",
              "    };\n",
              "\n",
              "    // Use a chunked sending to avoid message size limits. See b/62115660.\n",
              "    let position = 0;\n",
              "    do {\n",
              "      const length = Math.min(fileData.byteLength - position, MAX_PAYLOAD_SIZE);\n",
              "      const chunk = new Uint8Array(fileData, position, length);\n",
              "      position += length;\n",
              "\n",
              "      const base64 = btoa(String.fromCharCode.apply(null, chunk));\n",
              "      yield {\n",
              "        response: {\n",
              "          action: 'append',\n",
              "          file: file.name,\n",
              "          data: base64,\n",
              "        },\n",
              "      };\n",
              "\n",
              "      let percentDone = fileData.byteLength === 0 ?\n",
              "          100 :\n",
              "          Math.round((position / fileData.byteLength) * 100);\n",
              "      percent.textContent = `${percentDone}% done`;\n",
              "\n",
              "    } while (position < fileData.byteLength);\n",
              "  }\n",
              "\n",
              "  // All done.\n",
              "  yield {\n",
              "    response: {\n",
              "      action: 'complete',\n",
              "    }\n",
              "  };\n",
              "}\n",
              "\n",
              "scope.google = scope.google || {};\n",
              "scope.google.colab = scope.google.colab || {};\n",
              "scope.google.colab._files = {\n",
              "  _uploadFiles,\n",
              "  _uploadFilesContinue,\n",
              "};\n",
              "})(self);\n",
              "</script> "
            ]
          },
          "metadata": {}
        },
        {
          "output_type": "error",
          "ename": "KeyboardInterrupt",
          "evalue": "ignored",
          "traceback": [
            "\u001b[0;31m---------------------------------------------------------------------------\u001b[0m",
            "\u001b[0;31mKeyboardInterrupt\u001b[0m                         Traceback (most recent call last)",
            "\u001b[0;32m<ipython-input-55-f8bd090ed2a4>\u001b[0m in \u001b[0;36m<module>\u001b[0;34m\u001b[0m\n\u001b[1;32m      4\u001b[0m \u001b[0;31m# kaggle > Profile 이미지 > Account > Account > API > Create New API Token\u001b[0m\u001b[0;34m\u001b[0m\u001b[0;34m\u001b[0m\u001b[0m\n\u001b[1;32m      5\u001b[0m \u001b[0;32mfrom\u001b[0m \u001b[0mgoogle\u001b[0m\u001b[0;34m.\u001b[0m\u001b[0mcolab\u001b[0m \u001b[0;32mimport\u001b[0m \u001b[0mfiles\u001b[0m\u001b[0;34m\u001b[0m\u001b[0;34m\u001b[0m\u001b[0m\n\u001b[0;32m----> 6\u001b[0;31m \u001b[0mfiles\u001b[0m\u001b[0;34m.\u001b[0m\u001b[0mupload\u001b[0m\u001b[0;34m(\u001b[0m\u001b[0;34m)\u001b[0m\u001b[0;34m\u001b[0m\u001b[0;34m\u001b[0m\u001b[0m\n\u001b[0m",
            "\u001b[0;32m/usr/local/lib/python3.9/dist-packages/google/colab/files.py\u001b[0m in \u001b[0;36mupload\u001b[0;34m()\u001b[0m\n\u001b[1;32m     67\u001b[0m   \"\"\"\n\u001b[1;32m     68\u001b[0m \u001b[0;34m\u001b[0m\u001b[0m\n\u001b[0;32m---> 69\u001b[0;31m   \u001b[0muploaded_files\u001b[0m \u001b[0;34m=\u001b[0m \u001b[0m_upload_files\u001b[0m\u001b[0;34m(\u001b[0m\u001b[0mmultiple\u001b[0m\u001b[0;34m=\u001b[0m\u001b[0;32mTrue\u001b[0m\u001b[0;34m)\u001b[0m\u001b[0;34m\u001b[0m\u001b[0;34m\u001b[0m\u001b[0m\n\u001b[0m\u001b[1;32m     70\u001b[0m   \u001b[0;31m# Mapping from original filename to filename as saved locally.\u001b[0m\u001b[0;34m\u001b[0m\u001b[0;34m\u001b[0m\u001b[0m\n\u001b[1;32m     71\u001b[0m   \u001b[0mlocal_filenames\u001b[0m \u001b[0;34m=\u001b[0m \u001b[0mdict\u001b[0m\u001b[0;34m(\u001b[0m\u001b[0;34m)\u001b[0m\u001b[0;34m\u001b[0m\u001b[0;34m\u001b[0m\u001b[0m\n",
            "\u001b[0;32m/usr/local/lib/python3.9/dist-packages/google/colab/files.py\u001b[0m in \u001b[0;36m_upload_files\u001b[0;34m(multiple)\u001b[0m\n\u001b[1;32m    151\u001b[0m \u001b[0;34m\u001b[0m\u001b[0m\n\u001b[1;32m    152\u001b[0m   \u001b[0;31m# First result is always an indication that the file picker has completed.\u001b[0m\u001b[0;34m\u001b[0m\u001b[0;34m\u001b[0m\u001b[0m\n\u001b[0;32m--> 153\u001b[0;31m   result = _output.eval_js(\n\u001b[0m\u001b[1;32m    154\u001b[0m       'google.colab._files._uploadFiles(\"{input_id}\", \"{output_id}\")'.format(\n\u001b[1;32m    155\u001b[0m           \u001b[0minput_id\u001b[0m\u001b[0;34m=\u001b[0m\u001b[0minput_id\u001b[0m\u001b[0;34m,\u001b[0m \u001b[0moutput_id\u001b[0m\u001b[0;34m=\u001b[0m\u001b[0moutput_id\u001b[0m\u001b[0;34m\u001b[0m\u001b[0;34m\u001b[0m\u001b[0m\n",
            "\u001b[0;32m/usr/local/lib/python3.9/dist-packages/google/colab/output/_js.py\u001b[0m in \u001b[0;36meval_js\u001b[0;34m(script, ignore_result, timeout_sec)\u001b[0m\n\u001b[1;32m     38\u001b[0m   \u001b[0;32mif\u001b[0m \u001b[0mignore_result\u001b[0m\u001b[0;34m:\u001b[0m\u001b[0;34m\u001b[0m\u001b[0;34m\u001b[0m\u001b[0m\n\u001b[1;32m     39\u001b[0m     \u001b[0;32mreturn\u001b[0m\u001b[0;34m\u001b[0m\u001b[0;34m\u001b[0m\u001b[0m\n\u001b[0;32m---> 40\u001b[0;31m   \u001b[0;32mreturn\u001b[0m \u001b[0m_message\u001b[0m\u001b[0;34m.\u001b[0m\u001b[0mread_reply_from_input\u001b[0m\u001b[0;34m(\u001b[0m\u001b[0mrequest_id\u001b[0m\u001b[0;34m,\u001b[0m \u001b[0mtimeout_sec\u001b[0m\u001b[0;34m)\u001b[0m\u001b[0;34m\u001b[0m\u001b[0;34m\u001b[0m\u001b[0m\n\u001b[0m\u001b[1;32m     41\u001b[0m \u001b[0;34m\u001b[0m\u001b[0m\n\u001b[1;32m     42\u001b[0m \u001b[0;34m\u001b[0m\u001b[0m\n",
            "\u001b[0;32m/usr/local/lib/python3.9/dist-packages/google/colab/_message.py\u001b[0m in \u001b[0;36mread_reply_from_input\u001b[0;34m(message_id, timeout_sec)\u001b[0m\n\u001b[1;32m     95\u001b[0m     \u001b[0mreply\u001b[0m \u001b[0;34m=\u001b[0m \u001b[0m_read_next_input_message\u001b[0m\u001b[0;34m(\u001b[0m\u001b[0;34m)\u001b[0m\u001b[0;34m\u001b[0m\u001b[0;34m\u001b[0m\u001b[0m\n\u001b[1;32m     96\u001b[0m     \u001b[0;32mif\u001b[0m \u001b[0mreply\u001b[0m \u001b[0;34m==\u001b[0m \u001b[0m_NOT_READY\u001b[0m \u001b[0;32mor\u001b[0m \u001b[0;32mnot\u001b[0m \u001b[0misinstance\u001b[0m\u001b[0;34m(\u001b[0m\u001b[0mreply\u001b[0m\u001b[0;34m,\u001b[0m \u001b[0mdict\u001b[0m\u001b[0;34m)\u001b[0m\u001b[0;34m:\u001b[0m\u001b[0;34m\u001b[0m\u001b[0;34m\u001b[0m\u001b[0m\n\u001b[0;32m---> 97\u001b[0;31m       \u001b[0mtime\u001b[0m\u001b[0;34m.\u001b[0m\u001b[0msleep\u001b[0m\u001b[0;34m(\u001b[0m\u001b[0;36m0.025\u001b[0m\u001b[0;34m)\u001b[0m\u001b[0;34m\u001b[0m\u001b[0;34m\u001b[0m\u001b[0m\n\u001b[0m\u001b[1;32m     98\u001b[0m       \u001b[0;32mcontinue\u001b[0m\u001b[0;34m\u001b[0m\u001b[0;34m\u001b[0m\u001b[0m\n\u001b[1;32m     99\u001b[0m     if (\n",
            "\u001b[0;31mKeyboardInterrupt\u001b[0m: "
          ]
        }
      ],
      "source": [
        "# https://www.kaggle.com/datasets/kartik2112/fraud-detection\n",
        "\n",
        "# 1. 본인 kaggle 계정 인증 받음\n",
        "# kaggle > Profile 이미지 > Account > Account > API > Create New API Token\n",
        "from google.colab import files\n",
        "files.upload()"
      ]
    },
    {
      "cell_type": "code",
      "source": [
        "# 2. 강사의 kaggle.json (주기적 리셋)\n",
        "# https://github.com/BigData23th/Data/raw/main/kaggle.json\n",
        "!wget https://github.com/BigData23th/Data/raw/main/kaggle.json"
      ],
      "metadata": {
        "colab": {
          "base_uri": "https://localhost:8080/"
        },
        "id": "7RPCLShJNVAA",
        "outputId": "1fe8bd8a-a4ca-4022-f939-28c801b0f912"
      },
      "execution_count": 56,
      "outputs": [
        {
          "output_type": "stream",
          "name": "stdout",
          "text": [
            "--2023-03-24 02:28:26--  https://github.com/BigData23th/Data/raw/main/kaggle.json\n",
            "Resolving github.com (github.com)... 192.30.255.113\n",
            "Connecting to github.com (github.com)|192.30.255.113|:443... connected.\n",
            "HTTP request sent, awaiting response... 302 Found\n",
            "Location: https://raw.githubusercontent.com/BigData23th/Data/main/kaggle.json [following]\n",
            "--2023-03-24 02:28:26--  https://raw.githubusercontent.com/BigData23th/Data/main/kaggle.json\n",
            "Resolving raw.githubusercontent.com (raw.githubusercontent.com)... 185.199.108.133, 185.199.111.133, 185.199.109.133, ...\n",
            "Connecting to raw.githubusercontent.com (raw.githubusercontent.com)|185.199.108.133|:443... connected.\n",
            "HTTP request sent, awaiting response... 200 OK\n",
            "Length: 65 [text/plain]\n",
            "Saving to: ‘kaggle.json’\n",
            "\n",
            "kaggle.json         100%[===================>]      65  --.-KB/s    in 0s      \n",
            "\n",
            "2023-03-24 02:28:26 (2.63 MB/s) - ‘kaggle.json’ saved [65/65]\n",
            "\n"
          ]
        }
      ]
    },
    {
      "cell_type": "code",
      "source": [
        "# 인증 및 파일 다운로드 받기\n",
        "!rm -r ~/.kaggle\n",
        "!mkdir ~/.kaggle\n",
        "!mv ./kaggle.json ~/.kaggle/\n",
        "!chmod 600 ~/.kaggle/kaggle.json # 읽기 권한\n",
        "!kaggle datasets download -d kartik2112/fraud-detection"
      ],
      "metadata": {
        "colab": {
          "base_uri": "https://localhost:8080/"
        },
        "id": "kLeZiBiBNBRn",
        "outputId": "d1cd21ed-7f5e-4f53-dde0-db63cef603de"
      },
      "execution_count": 57,
      "outputs": [
        {
          "output_type": "stream",
          "name": "stdout",
          "text": [
            "fraud-detection.zip: Skipping, found more recently modified local copy (use --force to force download)\n"
          ]
        }
      ]
    },
    {
      "cell_type": "code",
      "source": [
        "!kaggle datasets list"
      ],
      "metadata": {
        "id": "lwReiOvLNqsU",
        "colab": {
          "base_uri": "https://localhost:8080/"
        },
        "outputId": "54030898-04d9-47dd-d6c9-c7fc9cbe82ac"
      },
      "execution_count": 58,
      "outputs": [
        {
          "output_type": "stream",
          "name": "stdout",
          "text": [
            "ref                                                                title                                                size  lastUpdated          downloadCount  voteCount  usabilityRating  \n",
            "-----------------------------------------------------------------  --------------------------------------------------  -----  -------------------  -------------  ---------  ---------------  \n",
            "zusmani/pakistan-toshakhana-files                                  Pakistan ToshaKhana Files                             1MB  2023-03-15 16:25:43           2393        115  1.0              \n",
            "ramkrijal/tomato-daily-prices                                      Tomato Daily Prices                                  10KB  2023-03-10 15:39:14           1466         47  1.0              \n",
            "themrityunjaypathak/covid-cases-and-deaths-worldwide               Covid Cases and Deaths WorldWide                      8KB  2023-02-01 12:22:51          14896        482  1.0              \n",
            "datascientistanna/customers-dataset                                Shop Customer Data                                   23KB  2023-02-07 18:42:21          13562        302  1.0              \n",
            "priyankkhanna/flipkart-product-dataset-by-priyank-khanna           Flipkart Product Dataset                              2MB  2023-03-03 13:44:42           1241         31  1.0              \n",
            "amaanansari09/most-streamed-songs-all-time                         Most Streamed Songs (All Time)                        8KB  2023-03-08 10:56:24           2564         67  1.0              \n",
            "utsh0dey/25k-movie-dataset                                         25k IMDb Movie Dataset                                5MB  2023-02-27 18:11:44            996         30  1.0              \n",
            "nidzsharma/covid-19-variant-data                                   COVID-19 Variant Data                                67KB  2023-03-12 14:07:53            725         30  1.0              \n",
            "rkiattisak/student-performance-in-mathematics                      Student performance prediction                        9KB  2023-03-12 04:32:56           2528         60  1.0              \n",
            "ashpalsingh1525/netflix                                            Netflix Cleaned Dataset                              86KB  2023-02-25 12:48:42           1127         38  1.0              \n",
            "imrulhasanrobi/world-population-all-countries-different-parameter  World Population all countries different parameter    8KB  2023-03-16 01:24:18            802         33  1.0              \n",
            "rayhan32/la-liga-player-status-season-2022-2023                    La Liga Player Status  Season 2022-2023              14KB  2023-03-15 19:52:19            588         31  1.0              \n",
            "thedevastator/airbnb-prices-in-european-cities                     Airbnb Prices in European Cities                      4MB  2023-02-20 09:48:04           5264         96  1.0              \n",
            "mirzahasnine/loan-data-set                                         Loan Data Set                                        11KB  2023-03-12 05:02:43           1183         35  0.9411765        \n",
            "mehmettahiraslan/customer-shopping-dataset                         Customer Shopping Dataset - Retail Sales Data         2MB  2023-03-09 07:44:35           1676         59  1.0              \n",
            "ulrikthygepedersen/shark-tank-companies                            Shark Tank Companies                                 70KB  2023-03-02 12:05:27            770         34  1.0              \n",
            "tarique7/airline-incidents-safety-data                             Airline Incidents Safety Data                         7MB  2023-03-08 09:28:38            653         30  1.0              \n",
            "rkiattisak/traveler-trip-data                                      Traveler Trip Dataset                                 4KB  2023-03-06 07:11:05           1416         39  1.0              \n",
            "rkiattisak/salaly-prediction-for-beginer                           Salary Prediction dataset                             3KB  2023-03-07 02:45:11           1419         40  1.0              \n",
            "abdullahshahzad12345/ref-tk-data-02-to-22                          Gift Received by Pak Officials 2002-22 Tosha Khana  120KB  2023-03-14 15:49:14            166         24  1.0              \n"
          ]
        }
      ]
    },
    {
      "cell_type": "markdown",
      "source": [
        "## 압축 풀기 & 합치기"
      ],
      "metadata": {
        "id": "IN140VPoOjmg"
      }
    },
    {
      "cell_type": "code",
      "source": [
        "# zip -> unzip\n",
        "# 파일 우측 클릭 > 경로 복사\n",
        "# 파일 > fraudTest.csv, fraudTrain.csv 생성 확인\n",
        "!unzip /content/fraud-detection.zip"
      ],
      "metadata": {
        "colab": {
          "base_uri": "https://localhost:8080/"
        },
        "id": "503uZhQ1Olws",
        "outputId": "1cd2e53b-a62c-4b0d-e132-17a6edb9dab0"
      },
      "execution_count": 59,
      "outputs": [
        {
          "output_type": "stream",
          "name": "stdout",
          "text": [
            "Archive:  /content/fraud-detection.zip\n",
            "replace fraudTest.csv? [y]es, [n]o, [A]ll, [N]one, [r]ename: "
          ]
        }
      ]
    },
    {
      "cell_type": "code",
      "source": [
        "# 라이브러리\n",
        "import numpy as np\n",
        "import pandas as pd\n",
        "import matplotlib.pyplot as plt\n",
        "import seaborn as sns"
      ],
      "metadata": {
        "id": "vDgaqTz_O1fA"
      },
      "execution_count": 60,
      "outputs": []
    },
    {
      "cell_type": "code",
      "source": [
        "# ls: 현재 경로에 있는 다른 파일/폴더를 불러오는 리눅스 명령\n",
        "!ls"
      ],
      "metadata": {
        "colab": {
          "base_uri": "https://localhost:8080/"
        },
        "id": "2Deky9SvPU4K",
        "outputId": "6f02e514-738a-421b-ea1a-2f491016e547"
      },
      "execution_count": 61,
      "outputs": [
        {
          "output_type": "stream",
          "name": "stdout",
          "text": [
            "fraud-detection.zip  fraudTest.csv  fraudTrain.csv  sample_data\n"
          ]
        }
      ]
    },
    {
      "cell_type": "code",
      "source": [
        "# train = pd.read_csv('fraudTrain.csv')\n",
        "train = pd.read_csv('fraudTrain.csv', index_col=0) # 첫번째 열을 인덱스 컬럼으로 지정"
      ],
      "metadata": {
        "id": "gC3Uk1O1PD_4"
      },
      "execution_count": 62,
      "outputs": []
    },
    {
      "cell_type": "code",
      "source": [
        "train.info() # 1296675 / 1.3M"
      ],
      "metadata": {
        "id": "qT_YWfXHPo3c",
        "colab": {
          "base_uri": "https://localhost:8080/"
        },
        "outputId": "06badd1d-1eec-4c10-d9ac-bfab96e77968"
      },
      "execution_count": 63,
      "outputs": [
        {
          "output_type": "stream",
          "name": "stdout",
          "text": [
            "<class 'pandas.core.frame.DataFrame'>\n",
            "Int64Index: 1296675 entries, 0 to 1296674\n",
            "Data columns (total 22 columns):\n",
            " #   Column                 Non-Null Count    Dtype  \n",
            "---  ------                 --------------    -----  \n",
            " 0   trans_date_trans_time  1296675 non-null  object \n",
            " 1   cc_num                 1296675 non-null  int64  \n",
            " 2   merchant               1296675 non-null  object \n",
            " 3   category               1296675 non-null  object \n",
            " 4   amt                    1296675 non-null  float64\n",
            " 5   first                  1296675 non-null  object \n",
            " 6   last                   1296675 non-null  object \n",
            " 7   gender                 1296675 non-null  object \n",
            " 8   street                 1296675 non-null  object \n",
            " 9   city                   1296675 non-null  object \n",
            " 10  state                  1296675 non-null  object \n",
            " 11  zip                    1296675 non-null  int64  \n",
            " 12  lat                    1296675 non-null  float64\n",
            " 13  long                   1296675 non-null  float64\n",
            " 14  city_pop               1296675 non-null  int64  \n",
            " 15  job                    1296675 non-null  object \n",
            " 16  dob                    1296675 non-null  object \n",
            " 17  trans_num              1296675 non-null  object \n",
            " 18  unix_time              1296675 non-null  int64  \n",
            " 19  merch_lat              1296675 non-null  float64\n",
            " 20  merch_long             1296675 non-null  float64\n",
            " 21  is_fraud               1296675 non-null  int64  \n",
            "dtypes: float64(5), int64(5), object(12)\n",
            "memory usage: 227.5+ MB\n"
          ]
        }
      ]
    },
    {
      "cell_type": "code",
      "source": [
        "train.head()"
      ],
      "metadata": {
        "id": "btJM_uj-PdK2",
        "colab": {
          "base_uri": "https://localhost:8080/",
          "height": 577
        },
        "outputId": "6746fa99-57d9-40ca-c8ae-3af9461349a6"
      },
      "execution_count": 64,
      "outputs": [
        {
          "output_type": "execute_result",
          "data": {
            "text/plain": [
              "  trans_date_trans_time            cc_num                            merchant  \\\n",
              "0   2019-01-01 00:00:18  2703186189652095          fraud_Rippin, Kub and Mann   \n",
              "1   2019-01-01 00:00:44      630423337322     fraud_Heller, Gutmann and Zieme   \n",
              "2   2019-01-01 00:00:51    38859492057661                fraud_Lind-Buckridge   \n",
              "3   2019-01-01 00:01:16  3534093764340240  fraud_Kutch, Hermiston and Farrell   \n",
              "4   2019-01-01 00:03:06   375534208663984                 fraud_Keeling-Crist   \n",
              "\n",
              "        category    amt      first     last gender  \\\n",
              "0       misc_net   4.97   Jennifer    Banks      F   \n",
              "1    grocery_pos 107.23  Stephanie     Gill      F   \n",
              "2  entertainment 220.11     Edward  Sanchez      M   \n",
              "3  gas_transport  45.00     Jeremy    White      M   \n",
              "4       misc_pos  41.96      Tyler   Garcia      M   \n",
              "\n",
              "                         street            city  ...   lat    long  city_pop  \\\n",
              "0                561 Perry Cove  Moravian Falls  ... 36.08  -81.18      3495   \n",
              "1  43039 Riley Greens Suite 393          Orient  ... 48.89 -118.21       149   \n",
              "2      594 White Dale Suite 530      Malad City  ... 42.18 -112.26      4154   \n",
              "3   9443 Cynthia Court Apt. 038         Boulder  ... 46.23 -112.11      1939   \n",
              "4              408 Bradley Rest        Doe Hill  ... 38.42  -79.46        99   \n",
              "\n",
              "                                 job         dob  \\\n",
              "0          Psychologist, counselling  1988-03-09   \n",
              "1  Special educational needs teacher  1978-06-21   \n",
              "2        Nature conservation officer  1962-01-19   \n",
              "3                    Patent attorney  1967-01-12   \n",
              "4     Dance movement psychotherapist  1986-03-28   \n",
              "\n",
              "                          trans_num   unix_time merch_lat  merch_long  \\\n",
              "0  0b242abb623afc578575680df30655b9  1325376018     36.01      -82.05   \n",
              "1  1f76529f8574734946361c461b024d99  1325376044     49.16     -118.19   \n",
              "2  a1a22d70485983eac12b5b88dad1cf95  1325376051     43.15     -112.15   \n",
              "3  6b849c168bdad6f867558c3793159a81  1325376076     47.03     -112.56   \n",
              "4  a41d7549acf90789359a9aa5346dcb46  1325376186     38.67      -78.63   \n",
              "\n",
              "   is_fraud  \n",
              "0         0  \n",
              "1         0  \n",
              "2         0  \n",
              "3         0  \n",
              "4         0  \n",
              "\n",
              "[5 rows x 22 columns]"
            ],
            "text/html": [
              "\n",
              "  <div id=\"df-d43afd45-19c1-46ca-b53a-fecb04d382e8\">\n",
              "    <div class=\"colab-df-container\">\n",
              "      <div>\n",
              "<style scoped>\n",
              "    .dataframe tbody tr th:only-of-type {\n",
              "        vertical-align: middle;\n",
              "    }\n",
              "\n",
              "    .dataframe tbody tr th {\n",
              "        vertical-align: top;\n",
              "    }\n",
              "\n",
              "    .dataframe thead th {\n",
              "        text-align: right;\n",
              "    }\n",
              "</style>\n",
              "<table border=\"1\" class=\"dataframe\">\n",
              "  <thead>\n",
              "    <tr style=\"text-align: right;\">\n",
              "      <th></th>\n",
              "      <th>trans_date_trans_time</th>\n",
              "      <th>cc_num</th>\n",
              "      <th>merchant</th>\n",
              "      <th>category</th>\n",
              "      <th>amt</th>\n",
              "      <th>first</th>\n",
              "      <th>last</th>\n",
              "      <th>gender</th>\n",
              "      <th>street</th>\n",
              "      <th>city</th>\n",
              "      <th>...</th>\n",
              "      <th>lat</th>\n",
              "      <th>long</th>\n",
              "      <th>city_pop</th>\n",
              "      <th>job</th>\n",
              "      <th>dob</th>\n",
              "      <th>trans_num</th>\n",
              "      <th>unix_time</th>\n",
              "      <th>merch_lat</th>\n",
              "      <th>merch_long</th>\n",
              "      <th>is_fraud</th>\n",
              "    </tr>\n",
              "  </thead>\n",
              "  <tbody>\n",
              "    <tr>\n",
              "      <th>0</th>\n",
              "      <td>2019-01-01 00:00:18</td>\n",
              "      <td>2703186189652095</td>\n",
              "      <td>fraud_Rippin, Kub and Mann</td>\n",
              "      <td>misc_net</td>\n",
              "      <td>4.97</td>\n",
              "      <td>Jennifer</td>\n",
              "      <td>Banks</td>\n",
              "      <td>F</td>\n",
              "      <td>561 Perry Cove</td>\n",
              "      <td>Moravian Falls</td>\n",
              "      <td>...</td>\n",
              "      <td>36.08</td>\n",
              "      <td>-81.18</td>\n",
              "      <td>3495</td>\n",
              "      <td>Psychologist, counselling</td>\n",
              "      <td>1988-03-09</td>\n",
              "      <td>0b242abb623afc578575680df30655b9</td>\n",
              "      <td>1325376018</td>\n",
              "      <td>36.01</td>\n",
              "      <td>-82.05</td>\n",
              "      <td>0</td>\n",
              "    </tr>\n",
              "    <tr>\n",
              "      <th>1</th>\n",
              "      <td>2019-01-01 00:00:44</td>\n",
              "      <td>630423337322</td>\n",
              "      <td>fraud_Heller, Gutmann and Zieme</td>\n",
              "      <td>grocery_pos</td>\n",
              "      <td>107.23</td>\n",
              "      <td>Stephanie</td>\n",
              "      <td>Gill</td>\n",
              "      <td>F</td>\n",
              "      <td>43039 Riley Greens Suite 393</td>\n",
              "      <td>Orient</td>\n",
              "      <td>...</td>\n",
              "      <td>48.89</td>\n",
              "      <td>-118.21</td>\n",
              "      <td>149</td>\n",
              "      <td>Special educational needs teacher</td>\n",
              "      <td>1978-06-21</td>\n",
              "      <td>1f76529f8574734946361c461b024d99</td>\n",
              "      <td>1325376044</td>\n",
              "      <td>49.16</td>\n",
              "      <td>-118.19</td>\n",
              "      <td>0</td>\n",
              "    </tr>\n",
              "    <tr>\n",
              "      <th>2</th>\n",
              "      <td>2019-01-01 00:00:51</td>\n",
              "      <td>38859492057661</td>\n",
              "      <td>fraud_Lind-Buckridge</td>\n",
              "      <td>entertainment</td>\n",
              "      <td>220.11</td>\n",
              "      <td>Edward</td>\n",
              "      <td>Sanchez</td>\n",
              "      <td>M</td>\n",
              "      <td>594 White Dale Suite 530</td>\n",
              "      <td>Malad City</td>\n",
              "      <td>...</td>\n",
              "      <td>42.18</td>\n",
              "      <td>-112.26</td>\n",
              "      <td>4154</td>\n",
              "      <td>Nature conservation officer</td>\n",
              "      <td>1962-01-19</td>\n",
              "      <td>a1a22d70485983eac12b5b88dad1cf95</td>\n",
              "      <td>1325376051</td>\n",
              "      <td>43.15</td>\n",
              "      <td>-112.15</td>\n",
              "      <td>0</td>\n",
              "    </tr>\n",
              "    <tr>\n",
              "      <th>3</th>\n",
              "      <td>2019-01-01 00:01:16</td>\n",
              "      <td>3534093764340240</td>\n",
              "      <td>fraud_Kutch, Hermiston and Farrell</td>\n",
              "      <td>gas_transport</td>\n",
              "      <td>45.00</td>\n",
              "      <td>Jeremy</td>\n",
              "      <td>White</td>\n",
              "      <td>M</td>\n",
              "      <td>9443 Cynthia Court Apt. 038</td>\n",
              "      <td>Boulder</td>\n",
              "      <td>...</td>\n",
              "      <td>46.23</td>\n",
              "      <td>-112.11</td>\n",
              "      <td>1939</td>\n",
              "      <td>Patent attorney</td>\n",
              "      <td>1967-01-12</td>\n",
              "      <td>6b849c168bdad6f867558c3793159a81</td>\n",
              "      <td>1325376076</td>\n",
              "      <td>47.03</td>\n",
              "      <td>-112.56</td>\n",
              "      <td>0</td>\n",
              "    </tr>\n",
              "    <tr>\n",
              "      <th>4</th>\n",
              "      <td>2019-01-01 00:03:06</td>\n",
              "      <td>375534208663984</td>\n",
              "      <td>fraud_Keeling-Crist</td>\n",
              "      <td>misc_pos</td>\n",
              "      <td>41.96</td>\n",
              "      <td>Tyler</td>\n",
              "      <td>Garcia</td>\n",
              "      <td>M</td>\n",
              "      <td>408 Bradley Rest</td>\n",
              "      <td>Doe Hill</td>\n",
              "      <td>...</td>\n",
              "      <td>38.42</td>\n",
              "      <td>-79.46</td>\n",
              "      <td>99</td>\n",
              "      <td>Dance movement psychotherapist</td>\n",
              "      <td>1986-03-28</td>\n",
              "      <td>a41d7549acf90789359a9aa5346dcb46</td>\n",
              "      <td>1325376186</td>\n",
              "      <td>38.67</td>\n",
              "      <td>-78.63</td>\n",
              "      <td>0</td>\n",
              "    </tr>\n",
              "  </tbody>\n",
              "</table>\n",
              "<p>5 rows × 22 columns</p>\n",
              "</div>\n",
              "      <button class=\"colab-df-convert\" onclick=\"convertToInteractive('df-d43afd45-19c1-46ca-b53a-fecb04d382e8')\"\n",
              "              title=\"Convert this dataframe to an interactive table.\"\n",
              "              style=\"display:none;\">\n",
              "        \n",
              "  <svg xmlns=\"http://www.w3.org/2000/svg\" height=\"24px\"viewBox=\"0 0 24 24\"\n",
              "       width=\"24px\">\n",
              "    <path d=\"M0 0h24v24H0V0z\" fill=\"none\"/>\n",
              "    <path d=\"M18.56 5.44l.94 2.06.94-2.06 2.06-.94-2.06-.94-.94-2.06-.94 2.06-2.06.94zm-11 1L8.5 8.5l.94-2.06 2.06-.94-2.06-.94L8.5 2.5l-.94 2.06-2.06.94zm10 10l.94 2.06.94-2.06 2.06-.94-2.06-.94-.94-2.06-.94 2.06-2.06.94z\"/><path d=\"M17.41 7.96l-1.37-1.37c-.4-.4-.92-.59-1.43-.59-.52 0-1.04.2-1.43.59L10.3 9.45l-7.72 7.72c-.78.78-.78 2.05 0 2.83L4 21.41c.39.39.9.59 1.41.59.51 0 1.02-.2 1.41-.59l7.78-7.78 2.81-2.81c.8-.78.8-2.07 0-2.86zM5.41 20L4 18.59l7.72-7.72 1.47 1.35L5.41 20z\"/>\n",
              "  </svg>\n",
              "      </button>\n",
              "      \n",
              "  <style>\n",
              "    .colab-df-container {\n",
              "      display:flex;\n",
              "      flex-wrap:wrap;\n",
              "      gap: 12px;\n",
              "    }\n",
              "\n",
              "    .colab-df-convert {\n",
              "      background-color: #E8F0FE;\n",
              "      border: none;\n",
              "      border-radius: 50%;\n",
              "      cursor: pointer;\n",
              "      display: none;\n",
              "      fill: #1967D2;\n",
              "      height: 32px;\n",
              "      padding: 0 0 0 0;\n",
              "      width: 32px;\n",
              "    }\n",
              "\n",
              "    .colab-df-convert:hover {\n",
              "      background-color: #E2EBFA;\n",
              "      box-shadow: 0px 1px 2px rgba(60, 64, 67, 0.3), 0px 1px 3px 1px rgba(60, 64, 67, 0.15);\n",
              "      fill: #174EA6;\n",
              "    }\n",
              "\n",
              "    [theme=dark] .colab-df-convert {\n",
              "      background-color: #3B4455;\n",
              "      fill: #D2E3FC;\n",
              "    }\n",
              "\n",
              "    [theme=dark] .colab-df-convert:hover {\n",
              "      background-color: #434B5C;\n",
              "      box-shadow: 0px 1px 3px 1px rgba(0, 0, 0, 0.15);\n",
              "      filter: drop-shadow(0px 1px 2px rgba(0, 0, 0, 0.3));\n",
              "      fill: #FFFFFF;\n",
              "    }\n",
              "  </style>\n",
              "\n",
              "      <script>\n",
              "        const buttonEl =\n",
              "          document.querySelector('#df-d43afd45-19c1-46ca-b53a-fecb04d382e8 button.colab-df-convert');\n",
              "        buttonEl.style.display =\n",
              "          google.colab.kernel.accessAllowed ? 'block' : 'none';\n",
              "\n",
              "        async function convertToInteractive(key) {\n",
              "          const element = document.querySelector('#df-d43afd45-19c1-46ca-b53a-fecb04d382e8');\n",
              "          const dataTable =\n",
              "            await google.colab.kernel.invokeFunction('convertToInteractive',\n",
              "                                                     [key], {});\n",
              "          if (!dataTable) return;\n",
              "\n",
              "          const docLinkHtml = 'Like what you see? Visit the ' +\n",
              "            '<a target=\"_blank\" href=https://colab.research.google.com/notebooks/data_table.ipynb>data table notebook</a>'\n",
              "            + ' to learn more about interactive tables.';\n",
              "          element.innerHTML = '';\n",
              "          dataTable['output_type'] = 'display_data';\n",
              "          await google.colab.output.renderOutput(dataTable, element);\n",
              "          const docLink = document.createElement('div');\n",
              "          docLink.innerHTML = docLinkHtml;\n",
              "          element.appendChild(docLink);\n",
              "        }\n",
              "      </script>\n",
              "    </div>\n",
              "  </div>\n",
              "  "
            ]
          },
          "metadata": {},
          "execution_count": 64
        }
      ]
    },
    {
      "cell_type": "code",
      "source": [
        "test = pd.read_csv('fraudTest.csv', index_col=0)"
      ],
      "metadata": {
        "id": "7XZjFvlcPxli"
      },
      "execution_count": 65,
      "outputs": []
    },
    {
      "cell_type": "code",
      "source": [
        "test.head()"
      ],
      "metadata": {
        "id": "DMvxzSnkP3gy",
        "colab": {
          "base_uri": "https://localhost:8080/",
          "height": 507
        },
        "outputId": "a4641cb0-d978-472d-b492-76317e430bc0"
      },
      "execution_count": 66,
      "outputs": [
        {
          "output_type": "execute_result",
          "data": {
            "text/plain": [
              "  trans_date_trans_time            cc_num  \\\n",
              "0   2020-06-21 12:14:25  2291163933867244   \n",
              "1   2020-06-21 12:14:33  3573030041201292   \n",
              "2   2020-06-21 12:14:53  3598215285024754   \n",
              "3   2020-06-21 12:15:15  3591919803438423   \n",
              "4   2020-06-21 12:15:17  3526826139003047   \n",
              "\n",
              "                               merchant        category   amt   first  \\\n",
              "0                 fraud_Kirlin and Sons   personal_care  2.86    Jeff   \n",
              "1                  fraud_Sporer-Keebler   personal_care 29.84  Joanne   \n",
              "2  fraud_Swaniawski, Nitzsche and Welch  health_fitness 41.28  Ashley   \n",
              "3                     fraud_Haley Group        misc_pos 60.05   Brian   \n",
              "4                 fraud_Johnston-Casper          travel  3.19  Nathan   \n",
              "\n",
              "       last gender                       street        city  ...   lat  \\\n",
              "0   Elliott      M            351 Darlene Green    Columbia  ... 33.97   \n",
              "1  Williams      F             3638 Marsh Union     Altonah  ... 40.32   \n",
              "2     Lopez      F         9333 Valentine Point    Bellmore  ... 40.67   \n",
              "3  Williams      M  32941 Krystal Mill Apt. 552  Titusville  ... 28.57   \n",
              "4    Massey      M     5783 Evan Roads Apt. 465    Falmouth  ... 44.25   \n",
              "\n",
              "     long  city_pop                     job         dob  \\\n",
              "0  -80.94    333497     Mechanical engineer  1968-03-19   \n",
              "1 -110.44       302  Sales professional, IT  1990-01-17   \n",
              "2  -73.54     34496       Librarian, public  1970-10-21   \n",
              "3  -80.82     54767            Set designer  1987-07-25   \n",
              "4  -85.02      1126      Furniture designer  1955-07-06   \n",
              "\n",
              "                          trans_num   unix_time merch_lat  merch_long  \\\n",
              "0  2da90c7d74bd46a0caf3777415b3ebd3  1371816865     33.99      -81.20   \n",
              "1  324cc204407e99f51b0d6ca0055005e7  1371816873     39.45     -109.96   \n",
              "2  c81755dbbbea9d5c77f094348a7579be  1371816893     40.50      -74.20   \n",
              "3  2159175b9efe66dc301f149d3d5abf8c  1371816915     28.81      -80.88   \n",
              "4  57ff021bd3f328f8738bb535c302a31b  1371816917     44.96      -85.88   \n",
              "\n",
              "   is_fraud  \n",
              "0         0  \n",
              "1         0  \n",
              "2         0  \n",
              "3         0  \n",
              "4         0  \n",
              "\n",
              "[5 rows x 22 columns]"
            ],
            "text/html": [
              "\n",
              "  <div id=\"df-e68f60cf-658c-4907-a01e-ead59c359ad7\">\n",
              "    <div class=\"colab-df-container\">\n",
              "      <div>\n",
              "<style scoped>\n",
              "    .dataframe tbody tr th:only-of-type {\n",
              "        vertical-align: middle;\n",
              "    }\n",
              "\n",
              "    .dataframe tbody tr th {\n",
              "        vertical-align: top;\n",
              "    }\n",
              "\n",
              "    .dataframe thead th {\n",
              "        text-align: right;\n",
              "    }\n",
              "</style>\n",
              "<table border=\"1\" class=\"dataframe\">\n",
              "  <thead>\n",
              "    <tr style=\"text-align: right;\">\n",
              "      <th></th>\n",
              "      <th>trans_date_trans_time</th>\n",
              "      <th>cc_num</th>\n",
              "      <th>merchant</th>\n",
              "      <th>category</th>\n",
              "      <th>amt</th>\n",
              "      <th>first</th>\n",
              "      <th>last</th>\n",
              "      <th>gender</th>\n",
              "      <th>street</th>\n",
              "      <th>city</th>\n",
              "      <th>...</th>\n",
              "      <th>lat</th>\n",
              "      <th>long</th>\n",
              "      <th>city_pop</th>\n",
              "      <th>job</th>\n",
              "      <th>dob</th>\n",
              "      <th>trans_num</th>\n",
              "      <th>unix_time</th>\n",
              "      <th>merch_lat</th>\n",
              "      <th>merch_long</th>\n",
              "      <th>is_fraud</th>\n",
              "    </tr>\n",
              "  </thead>\n",
              "  <tbody>\n",
              "    <tr>\n",
              "      <th>0</th>\n",
              "      <td>2020-06-21 12:14:25</td>\n",
              "      <td>2291163933867244</td>\n",
              "      <td>fraud_Kirlin and Sons</td>\n",
              "      <td>personal_care</td>\n",
              "      <td>2.86</td>\n",
              "      <td>Jeff</td>\n",
              "      <td>Elliott</td>\n",
              "      <td>M</td>\n",
              "      <td>351 Darlene Green</td>\n",
              "      <td>Columbia</td>\n",
              "      <td>...</td>\n",
              "      <td>33.97</td>\n",
              "      <td>-80.94</td>\n",
              "      <td>333497</td>\n",
              "      <td>Mechanical engineer</td>\n",
              "      <td>1968-03-19</td>\n",
              "      <td>2da90c7d74bd46a0caf3777415b3ebd3</td>\n",
              "      <td>1371816865</td>\n",
              "      <td>33.99</td>\n",
              "      <td>-81.20</td>\n",
              "      <td>0</td>\n",
              "    </tr>\n",
              "    <tr>\n",
              "      <th>1</th>\n",
              "      <td>2020-06-21 12:14:33</td>\n",
              "      <td>3573030041201292</td>\n",
              "      <td>fraud_Sporer-Keebler</td>\n",
              "      <td>personal_care</td>\n",
              "      <td>29.84</td>\n",
              "      <td>Joanne</td>\n",
              "      <td>Williams</td>\n",
              "      <td>F</td>\n",
              "      <td>3638 Marsh Union</td>\n",
              "      <td>Altonah</td>\n",
              "      <td>...</td>\n",
              "      <td>40.32</td>\n",
              "      <td>-110.44</td>\n",
              "      <td>302</td>\n",
              "      <td>Sales professional, IT</td>\n",
              "      <td>1990-01-17</td>\n",
              "      <td>324cc204407e99f51b0d6ca0055005e7</td>\n",
              "      <td>1371816873</td>\n",
              "      <td>39.45</td>\n",
              "      <td>-109.96</td>\n",
              "      <td>0</td>\n",
              "    </tr>\n",
              "    <tr>\n",
              "      <th>2</th>\n",
              "      <td>2020-06-21 12:14:53</td>\n",
              "      <td>3598215285024754</td>\n",
              "      <td>fraud_Swaniawski, Nitzsche and Welch</td>\n",
              "      <td>health_fitness</td>\n",
              "      <td>41.28</td>\n",
              "      <td>Ashley</td>\n",
              "      <td>Lopez</td>\n",
              "      <td>F</td>\n",
              "      <td>9333 Valentine Point</td>\n",
              "      <td>Bellmore</td>\n",
              "      <td>...</td>\n",
              "      <td>40.67</td>\n",
              "      <td>-73.54</td>\n",
              "      <td>34496</td>\n",
              "      <td>Librarian, public</td>\n",
              "      <td>1970-10-21</td>\n",
              "      <td>c81755dbbbea9d5c77f094348a7579be</td>\n",
              "      <td>1371816893</td>\n",
              "      <td>40.50</td>\n",
              "      <td>-74.20</td>\n",
              "      <td>0</td>\n",
              "    </tr>\n",
              "    <tr>\n",
              "      <th>3</th>\n",
              "      <td>2020-06-21 12:15:15</td>\n",
              "      <td>3591919803438423</td>\n",
              "      <td>fraud_Haley Group</td>\n",
              "      <td>misc_pos</td>\n",
              "      <td>60.05</td>\n",
              "      <td>Brian</td>\n",
              "      <td>Williams</td>\n",
              "      <td>M</td>\n",
              "      <td>32941 Krystal Mill Apt. 552</td>\n",
              "      <td>Titusville</td>\n",
              "      <td>...</td>\n",
              "      <td>28.57</td>\n",
              "      <td>-80.82</td>\n",
              "      <td>54767</td>\n",
              "      <td>Set designer</td>\n",
              "      <td>1987-07-25</td>\n",
              "      <td>2159175b9efe66dc301f149d3d5abf8c</td>\n",
              "      <td>1371816915</td>\n",
              "      <td>28.81</td>\n",
              "      <td>-80.88</td>\n",
              "      <td>0</td>\n",
              "    </tr>\n",
              "    <tr>\n",
              "      <th>4</th>\n",
              "      <td>2020-06-21 12:15:17</td>\n",
              "      <td>3526826139003047</td>\n",
              "      <td>fraud_Johnston-Casper</td>\n",
              "      <td>travel</td>\n",
              "      <td>3.19</td>\n",
              "      <td>Nathan</td>\n",
              "      <td>Massey</td>\n",
              "      <td>M</td>\n",
              "      <td>5783 Evan Roads Apt. 465</td>\n",
              "      <td>Falmouth</td>\n",
              "      <td>...</td>\n",
              "      <td>44.25</td>\n",
              "      <td>-85.02</td>\n",
              "      <td>1126</td>\n",
              "      <td>Furniture designer</td>\n",
              "      <td>1955-07-06</td>\n",
              "      <td>57ff021bd3f328f8738bb535c302a31b</td>\n",
              "      <td>1371816917</td>\n",
              "      <td>44.96</td>\n",
              "      <td>-85.88</td>\n",
              "      <td>0</td>\n",
              "    </tr>\n",
              "  </tbody>\n",
              "</table>\n",
              "<p>5 rows × 22 columns</p>\n",
              "</div>\n",
              "      <button class=\"colab-df-convert\" onclick=\"convertToInteractive('df-e68f60cf-658c-4907-a01e-ead59c359ad7')\"\n",
              "              title=\"Convert this dataframe to an interactive table.\"\n",
              "              style=\"display:none;\">\n",
              "        \n",
              "  <svg xmlns=\"http://www.w3.org/2000/svg\" height=\"24px\"viewBox=\"0 0 24 24\"\n",
              "       width=\"24px\">\n",
              "    <path d=\"M0 0h24v24H0V0z\" fill=\"none\"/>\n",
              "    <path d=\"M18.56 5.44l.94 2.06.94-2.06 2.06-.94-2.06-.94-.94-2.06-.94 2.06-2.06.94zm-11 1L8.5 8.5l.94-2.06 2.06-.94-2.06-.94L8.5 2.5l-.94 2.06-2.06.94zm10 10l.94 2.06.94-2.06 2.06-.94-2.06-.94-.94-2.06-.94 2.06-2.06.94z\"/><path d=\"M17.41 7.96l-1.37-1.37c-.4-.4-.92-.59-1.43-.59-.52 0-1.04.2-1.43.59L10.3 9.45l-7.72 7.72c-.78.78-.78 2.05 0 2.83L4 21.41c.39.39.9.59 1.41.59.51 0 1.02-.2 1.41-.59l7.78-7.78 2.81-2.81c.8-.78.8-2.07 0-2.86zM5.41 20L4 18.59l7.72-7.72 1.47 1.35L5.41 20z\"/>\n",
              "  </svg>\n",
              "      </button>\n",
              "      \n",
              "  <style>\n",
              "    .colab-df-container {\n",
              "      display:flex;\n",
              "      flex-wrap:wrap;\n",
              "      gap: 12px;\n",
              "    }\n",
              "\n",
              "    .colab-df-convert {\n",
              "      background-color: #E8F0FE;\n",
              "      border: none;\n",
              "      border-radius: 50%;\n",
              "      cursor: pointer;\n",
              "      display: none;\n",
              "      fill: #1967D2;\n",
              "      height: 32px;\n",
              "      padding: 0 0 0 0;\n",
              "      width: 32px;\n",
              "    }\n",
              "\n",
              "    .colab-df-convert:hover {\n",
              "      background-color: #E2EBFA;\n",
              "      box-shadow: 0px 1px 2px rgba(60, 64, 67, 0.3), 0px 1px 3px 1px rgba(60, 64, 67, 0.15);\n",
              "      fill: #174EA6;\n",
              "    }\n",
              "\n",
              "    [theme=dark] .colab-df-convert {\n",
              "      background-color: #3B4455;\n",
              "      fill: #D2E3FC;\n",
              "    }\n",
              "\n",
              "    [theme=dark] .colab-df-convert:hover {\n",
              "      background-color: #434B5C;\n",
              "      box-shadow: 0px 1px 3px 1px rgba(0, 0, 0, 0.15);\n",
              "      filter: drop-shadow(0px 1px 2px rgba(0, 0, 0, 0.3));\n",
              "      fill: #FFFFFF;\n",
              "    }\n",
              "  </style>\n",
              "\n",
              "      <script>\n",
              "        const buttonEl =\n",
              "          document.querySelector('#df-e68f60cf-658c-4907-a01e-ead59c359ad7 button.colab-df-convert');\n",
              "        buttonEl.style.display =\n",
              "          google.colab.kernel.accessAllowed ? 'block' : 'none';\n",
              "\n",
              "        async function convertToInteractive(key) {\n",
              "          const element = document.querySelector('#df-e68f60cf-658c-4907-a01e-ead59c359ad7');\n",
              "          const dataTable =\n",
              "            await google.colab.kernel.invokeFunction('convertToInteractive',\n",
              "                                                     [key], {});\n",
              "          if (!dataTable) return;\n",
              "\n",
              "          const docLinkHtml = 'Like what you see? Visit the ' +\n",
              "            '<a target=\"_blank\" href=https://colab.research.google.com/notebooks/data_table.ipynb>data table notebook</a>'\n",
              "            + ' to learn more about interactive tables.';\n",
              "          element.innerHTML = '';\n",
              "          dataTable['output_type'] = 'display_data';\n",
              "          await google.colab.output.renderOutput(dataTable, element);\n",
              "          const docLink = document.createElement('div');\n",
              "          docLink.innerHTML = docLinkHtml;\n",
              "          element.appendChild(docLink);\n",
              "        }\n",
              "      </script>\n",
              "    </div>\n",
              "  </div>\n",
              "  "
            ]
          },
          "metadata": {},
          "execution_count": 66
        }
      ]
    },
    {
      "cell_type": "code",
      "source": [
        "test.info() # 555719 / 0.55M"
      ],
      "metadata": {
        "colab": {
          "base_uri": "https://localhost:8080/"
        },
        "id": "e8oJsOPjP9lz",
        "outputId": "eb0ea229-bb3b-4667-976c-2aa9f2f691ba"
      },
      "execution_count": 67,
      "outputs": [
        {
          "output_type": "stream",
          "name": "stdout",
          "text": [
            "<class 'pandas.core.frame.DataFrame'>\n",
            "Int64Index: 555719 entries, 0 to 555718\n",
            "Data columns (total 22 columns):\n",
            " #   Column                 Non-Null Count   Dtype  \n",
            "---  ------                 --------------   -----  \n",
            " 0   trans_date_trans_time  555719 non-null  object \n",
            " 1   cc_num                 555719 non-null  int64  \n",
            " 2   merchant               555719 non-null  object \n",
            " 3   category               555719 non-null  object \n",
            " 4   amt                    555719 non-null  float64\n",
            " 5   first                  555719 non-null  object \n",
            " 6   last                   555719 non-null  object \n",
            " 7   gender                 555719 non-null  object \n",
            " 8   street                 555719 non-null  object \n",
            " 9   city                   555719 non-null  object \n",
            " 10  state                  555719 non-null  object \n",
            " 11  zip                    555719 non-null  int64  \n",
            " 12  lat                    555719 non-null  float64\n",
            " 13  long                   555719 non-null  float64\n",
            " 14  city_pop               555719 non-null  int64  \n",
            " 15  job                    555719 non-null  object \n",
            " 16  dob                    555719 non-null  object \n",
            " 17  trans_num              555719 non-null  object \n",
            " 18  unix_time              555719 non-null  int64  \n",
            " 19  merch_lat              555719 non-null  float64\n",
            " 20  merch_long             555719 non-null  float64\n",
            " 21  is_fraud               555719 non-null  int64  \n",
            "dtypes: float64(5), int64(5), object(12)\n",
            "memory usage: 97.5+ MB\n"
          ]
        }
      ]
    },
    {
      "cell_type": "code",
      "source": [
        "# 열이 일치하는 두 데이터를 위아래로 합쳐준다 -> pd.concat([합쳐줄 df들])\n",
        "df = pd.concat([train, test], ignore_index = True) # 인덱스가 겹치면 같은 데이터 인 줄 앎!\n",
        "df"
      ],
      "metadata": {
        "colab": {
          "base_uri": "https://localhost:8080/",
          "height": 852
        },
        "id": "B2F-7BvYQJuV",
        "outputId": "cb25318a-b09d-402d-d36f-3e6e74b19071"
      },
      "execution_count": 68,
      "outputs": [
        {
          "output_type": "execute_result",
          "data": {
            "text/plain": [
              "        trans_date_trans_time            cc_num  \\\n",
              "0         2019-01-01 00:00:18  2703186189652095   \n",
              "1         2019-01-01 00:00:44      630423337322   \n",
              "2         2019-01-01 00:00:51    38859492057661   \n",
              "3         2019-01-01 00:01:16  3534093764340240   \n",
              "4         2019-01-01 00:03:06   375534208663984   \n",
              "...                       ...               ...   \n",
              "1852389   2020-12-31 23:59:07    30560609640617   \n",
              "1852390   2020-12-31 23:59:09  3556613125071656   \n",
              "1852391   2020-12-31 23:59:15  6011724471098086   \n",
              "1852392   2020-12-31 23:59:24     4079773899158   \n",
              "1852393   2020-12-31 23:59:34  4170689372027579   \n",
              "\n",
              "                                   merchant        category    amt      first  \\\n",
              "0                fraud_Rippin, Kub and Mann        misc_net   4.97   Jennifer   \n",
              "1           fraud_Heller, Gutmann and Zieme     grocery_pos 107.23  Stephanie   \n",
              "2                      fraud_Lind-Buckridge   entertainment 220.11     Edward   \n",
              "3        fraud_Kutch, Hermiston and Farrell   gas_transport  45.00     Jeremy   \n",
              "4                       fraud_Keeling-Crist        misc_pos  41.96      Tyler   \n",
              "...                                     ...             ...    ...        ...   \n",
              "1852389               fraud_Reilly and Sons  health_fitness  43.77    Michael   \n",
              "1852390                fraud_Hoppe-Parisian       kids_pets 111.84       Jose   \n",
              "1852391                     fraud_Rau-Robel       kids_pets  86.88        Ann   \n",
              "1852392               fraud_Breitenberg LLC          travel   7.99       Eric   \n",
              "1852393                   fraud_Dare-Marvin   entertainment  38.13     Samuel   \n",
              "\n",
              "            last gender                        street            city  ...  \\\n",
              "0          Banks      F                561 Perry Cove  Moravian Falls  ...   \n",
              "1           Gill      F  43039 Riley Greens Suite 393          Orient  ...   \n",
              "2        Sanchez      M      594 White Dale Suite 530      Malad City  ...   \n",
              "3          White      M   9443 Cynthia Court Apt. 038         Boulder  ...   \n",
              "4         Garcia      M              408 Bradley Rest        Doe Hill  ...   \n",
              "...          ...    ...                           ...             ...  ...   \n",
              "1852389    Olson      M           558 Michael Estates           Luray  ...   \n",
              "1852390  Vasquez      M           572 Davis Mountains    Lake Jackson  ...   \n",
              "1852391   Lawson      F    144 Evans Islands Apt. 683         Burbank  ...   \n",
              "1852392  Preston      M    7020 Doyle Stream Apt. 951            Mesa  ...   \n",
              "1852393     Frey      M      830 Myers Plaza Apt. 384          Edmond  ...   \n",
              "\n",
              "          lat    long  city_pop                                job  \\\n",
              "0       36.08  -81.18      3495          Psychologist, counselling   \n",
              "1       48.89 -118.21       149  Special educational needs teacher   \n",
              "2       42.18 -112.26      4154        Nature conservation officer   \n",
              "3       46.23 -112.11      1939                    Patent attorney   \n",
              "4       38.42  -79.46        99     Dance movement psychotherapist   \n",
              "...       ...     ...       ...                                ...   \n",
              "1852389 40.49  -91.89       519                       Town planner   \n",
              "1852390 29.04  -95.44     28739                     Futures trader   \n",
              "1852391 46.20 -118.90      3684                           Musician   \n",
              "1852392 44.63 -116.45       129                       Cartographer   \n",
              "1852393 35.67  -97.48    116001                        Media buyer   \n",
              "\n",
              "                dob                         trans_num   unix_time merch_lat  \\\n",
              "0        1988-03-09  0b242abb623afc578575680df30655b9  1325376018     36.01   \n",
              "1        1978-06-21  1f76529f8574734946361c461b024d99  1325376044     49.16   \n",
              "2        1962-01-19  a1a22d70485983eac12b5b88dad1cf95  1325376051     43.15   \n",
              "3        1967-01-12  6b849c168bdad6f867558c3793159a81  1325376076     47.03   \n",
              "4        1986-03-28  a41d7549acf90789359a9aa5346dcb46  1325376186     38.67   \n",
              "...             ...                               ...         ...       ...   \n",
              "1852389  1966-02-13  9b1f753c79894c9f4b71f04581835ada  1388534347     39.95   \n",
              "1852390  1999-12-27  2090647dac2c89a1d86c514c427f5b91  1388534349     29.66   \n",
              "1852391  1981-11-29  6c5b7c8add471975aa0fec023b2e8408  1388534355     46.66   \n",
              "1852392  1965-12-15  14392d723bb7737606b2700ac791b7aa  1388534364     44.47   \n",
              "1852393  1993-05-10  1765bb45b3aa3224b4cdcb6e7a96cee3  1388534374     36.21   \n",
              "\n",
              "         merch_long  is_fraud  \n",
              "0            -82.05         0  \n",
              "1           -118.19         0  \n",
              "2           -112.15         0  \n",
              "3           -112.56         0  \n",
              "4            -78.63         0  \n",
              "...             ...       ...  \n",
              "1852389      -91.33         0  \n",
              "1852390      -96.19         0  \n",
              "1852391     -119.72         0  \n",
              "1852392     -117.08         0  \n",
              "1852393      -97.04         0  \n",
              "\n",
              "[1852394 rows x 22 columns]"
            ],
            "text/html": [
              "\n",
              "  <div id=\"df-8f7b23b7-386e-45ac-8072-fe01d566f84a\">\n",
              "    <div class=\"colab-df-container\">\n",
              "      <div>\n",
              "<style scoped>\n",
              "    .dataframe tbody tr th:only-of-type {\n",
              "        vertical-align: middle;\n",
              "    }\n",
              "\n",
              "    .dataframe tbody tr th {\n",
              "        vertical-align: top;\n",
              "    }\n",
              "\n",
              "    .dataframe thead th {\n",
              "        text-align: right;\n",
              "    }\n",
              "</style>\n",
              "<table border=\"1\" class=\"dataframe\">\n",
              "  <thead>\n",
              "    <tr style=\"text-align: right;\">\n",
              "      <th></th>\n",
              "      <th>trans_date_trans_time</th>\n",
              "      <th>cc_num</th>\n",
              "      <th>merchant</th>\n",
              "      <th>category</th>\n",
              "      <th>amt</th>\n",
              "      <th>first</th>\n",
              "      <th>last</th>\n",
              "      <th>gender</th>\n",
              "      <th>street</th>\n",
              "      <th>city</th>\n",
              "      <th>...</th>\n",
              "      <th>lat</th>\n",
              "      <th>long</th>\n",
              "      <th>city_pop</th>\n",
              "      <th>job</th>\n",
              "      <th>dob</th>\n",
              "      <th>trans_num</th>\n",
              "      <th>unix_time</th>\n",
              "      <th>merch_lat</th>\n",
              "      <th>merch_long</th>\n",
              "      <th>is_fraud</th>\n",
              "    </tr>\n",
              "  </thead>\n",
              "  <tbody>\n",
              "    <tr>\n",
              "      <th>0</th>\n",
              "      <td>2019-01-01 00:00:18</td>\n",
              "      <td>2703186189652095</td>\n",
              "      <td>fraud_Rippin, Kub and Mann</td>\n",
              "      <td>misc_net</td>\n",
              "      <td>4.97</td>\n",
              "      <td>Jennifer</td>\n",
              "      <td>Banks</td>\n",
              "      <td>F</td>\n",
              "      <td>561 Perry Cove</td>\n",
              "      <td>Moravian Falls</td>\n",
              "      <td>...</td>\n",
              "      <td>36.08</td>\n",
              "      <td>-81.18</td>\n",
              "      <td>3495</td>\n",
              "      <td>Psychologist, counselling</td>\n",
              "      <td>1988-03-09</td>\n",
              "      <td>0b242abb623afc578575680df30655b9</td>\n",
              "      <td>1325376018</td>\n",
              "      <td>36.01</td>\n",
              "      <td>-82.05</td>\n",
              "      <td>0</td>\n",
              "    </tr>\n",
              "    <tr>\n",
              "      <th>1</th>\n",
              "      <td>2019-01-01 00:00:44</td>\n",
              "      <td>630423337322</td>\n",
              "      <td>fraud_Heller, Gutmann and Zieme</td>\n",
              "      <td>grocery_pos</td>\n",
              "      <td>107.23</td>\n",
              "      <td>Stephanie</td>\n",
              "      <td>Gill</td>\n",
              "      <td>F</td>\n",
              "      <td>43039 Riley Greens Suite 393</td>\n",
              "      <td>Orient</td>\n",
              "      <td>...</td>\n",
              "      <td>48.89</td>\n",
              "      <td>-118.21</td>\n",
              "      <td>149</td>\n",
              "      <td>Special educational needs teacher</td>\n",
              "      <td>1978-06-21</td>\n",
              "      <td>1f76529f8574734946361c461b024d99</td>\n",
              "      <td>1325376044</td>\n",
              "      <td>49.16</td>\n",
              "      <td>-118.19</td>\n",
              "      <td>0</td>\n",
              "    </tr>\n",
              "    <tr>\n",
              "      <th>2</th>\n",
              "      <td>2019-01-01 00:00:51</td>\n",
              "      <td>38859492057661</td>\n",
              "      <td>fraud_Lind-Buckridge</td>\n",
              "      <td>entertainment</td>\n",
              "      <td>220.11</td>\n",
              "      <td>Edward</td>\n",
              "      <td>Sanchez</td>\n",
              "      <td>M</td>\n",
              "      <td>594 White Dale Suite 530</td>\n",
              "      <td>Malad City</td>\n",
              "      <td>...</td>\n",
              "      <td>42.18</td>\n",
              "      <td>-112.26</td>\n",
              "      <td>4154</td>\n",
              "      <td>Nature conservation officer</td>\n",
              "      <td>1962-01-19</td>\n",
              "      <td>a1a22d70485983eac12b5b88dad1cf95</td>\n",
              "      <td>1325376051</td>\n",
              "      <td>43.15</td>\n",
              "      <td>-112.15</td>\n",
              "      <td>0</td>\n",
              "    </tr>\n",
              "    <tr>\n",
              "      <th>3</th>\n",
              "      <td>2019-01-01 00:01:16</td>\n",
              "      <td>3534093764340240</td>\n",
              "      <td>fraud_Kutch, Hermiston and Farrell</td>\n",
              "      <td>gas_transport</td>\n",
              "      <td>45.00</td>\n",
              "      <td>Jeremy</td>\n",
              "      <td>White</td>\n",
              "      <td>M</td>\n",
              "      <td>9443 Cynthia Court Apt. 038</td>\n",
              "      <td>Boulder</td>\n",
              "      <td>...</td>\n",
              "      <td>46.23</td>\n",
              "      <td>-112.11</td>\n",
              "      <td>1939</td>\n",
              "      <td>Patent attorney</td>\n",
              "      <td>1967-01-12</td>\n",
              "      <td>6b849c168bdad6f867558c3793159a81</td>\n",
              "      <td>1325376076</td>\n",
              "      <td>47.03</td>\n",
              "      <td>-112.56</td>\n",
              "      <td>0</td>\n",
              "    </tr>\n",
              "    <tr>\n",
              "      <th>4</th>\n",
              "      <td>2019-01-01 00:03:06</td>\n",
              "      <td>375534208663984</td>\n",
              "      <td>fraud_Keeling-Crist</td>\n",
              "      <td>misc_pos</td>\n",
              "      <td>41.96</td>\n",
              "      <td>Tyler</td>\n",
              "      <td>Garcia</td>\n",
              "      <td>M</td>\n",
              "      <td>408 Bradley Rest</td>\n",
              "      <td>Doe Hill</td>\n",
              "      <td>...</td>\n",
              "      <td>38.42</td>\n",
              "      <td>-79.46</td>\n",
              "      <td>99</td>\n",
              "      <td>Dance movement psychotherapist</td>\n",
              "      <td>1986-03-28</td>\n",
              "      <td>a41d7549acf90789359a9aa5346dcb46</td>\n",
              "      <td>1325376186</td>\n",
              "      <td>38.67</td>\n",
              "      <td>-78.63</td>\n",
              "      <td>0</td>\n",
              "    </tr>\n",
              "    <tr>\n",
              "      <th>...</th>\n",
              "      <td>...</td>\n",
              "      <td>...</td>\n",
              "      <td>...</td>\n",
              "      <td>...</td>\n",
              "      <td>...</td>\n",
              "      <td>...</td>\n",
              "      <td>...</td>\n",
              "      <td>...</td>\n",
              "      <td>...</td>\n",
              "      <td>...</td>\n",
              "      <td>...</td>\n",
              "      <td>...</td>\n",
              "      <td>...</td>\n",
              "      <td>...</td>\n",
              "      <td>...</td>\n",
              "      <td>...</td>\n",
              "      <td>...</td>\n",
              "      <td>...</td>\n",
              "      <td>...</td>\n",
              "      <td>...</td>\n",
              "      <td>...</td>\n",
              "    </tr>\n",
              "    <tr>\n",
              "      <th>1852389</th>\n",
              "      <td>2020-12-31 23:59:07</td>\n",
              "      <td>30560609640617</td>\n",
              "      <td>fraud_Reilly and Sons</td>\n",
              "      <td>health_fitness</td>\n",
              "      <td>43.77</td>\n",
              "      <td>Michael</td>\n",
              "      <td>Olson</td>\n",
              "      <td>M</td>\n",
              "      <td>558 Michael Estates</td>\n",
              "      <td>Luray</td>\n",
              "      <td>...</td>\n",
              "      <td>40.49</td>\n",
              "      <td>-91.89</td>\n",
              "      <td>519</td>\n",
              "      <td>Town planner</td>\n",
              "      <td>1966-02-13</td>\n",
              "      <td>9b1f753c79894c9f4b71f04581835ada</td>\n",
              "      <td>1388534347</td>\n",
              "      <td>39.95</td>\n",
              "      <td>-91.33</td>\n",
              "      <td>0</td>\n",
              "    </tr>\n",
              "    <tr>\n",
              "      <th>1852390</th>\n",
              "      <td>2020-12-31 23:59:09</td>\n",
              "      <td>3556613125071656</td>\n",
              "      <td>fraud_Hoppe-Parisian</td>\n",
              "      <td>kids_pets</td>\n",
              "      <td>111.84</td>\n",
              "      <td>Jose</td>\n",
              "      <td>Vasquez</td>\n",
              "      <td>M</td>\n",
              "      <td>572 Davis Mountains</td>\n",
              "      <td>Lake Jackson</td>\n",
              "      <td>...</td>\n",
              "      <td>29.04</td>\n",
              "      <td>-95.44</td>\n",
              "      <td>28739</td>\n",
              "      <td>Futures trader</td>\n",
              "      <td>1999-12-27</td>\n",
              "      <td>2090647dac2c89a1d86c514c427f5b91</td>\n",
              "      <td>1388534349</td>\n",
              "      <td>29.66</td>\n",
              "      <td>-96.19</td>\n",
              "      <td>0</td>\n",
              "    </tr>\n",
              "    <tr>\n",
              "      <th>1852391</th>\n",
              "      <td>2020-12-31 23:59:15</td>\n",
              "      <td>6011724471098086</td>\n",
              "      <td>fraud_Rau-Robel</td>\n",
              "      <td>kids_pets</td>\n",
              "      <td>86.88</td>\n",
              "      <td>Ann</td>\n",
              "      <td>Lawson</td>\n",
              "      <td>F</td>\n",
              "      <td>144 Evans Islands Apt. 683</td>\n",
              "      <td>Burbank</td>\n",
              "      <td>...</td>\n",
              "      <td>46.20</td>\n",
              "      <td>-118.90</td>\n",
              "      <td>3684</td>\n",
              "      <td>Musician</td>\n",
              "      <td>1981-11-29</td>\n",
              "      <td>6c5b7c8add471975aa0fec023b2e8408</td>\n",
              "      <td>1388534355</td>\n",
              "      <td>46.66</td>\n",
              "      <td>-119.72</td>\n",
              "      <td>0</td>\n",
              "    </tr>\n",
              "    <tr>\n",
              "      <th>1852392</th>\n",
              "      <td>2020-12-31 23:59:24</td>\n",
              "      <td>4079773899158</td>\n",
              "      <td>fraud_Breitenberg LLC</td>\n",
              "      <td>travel</td>\n",
              "      <td>7.99</td>\n",
              "      <td>Eric</td>\n",
              "      <td>Preston</td>\n",
              "      <td>M</td>\n",
              "      <td>7020 Doyle Stream Apt. 951</td>\n",
              "      <td>Mesa</td>\n",
              "      <td>...</td>\n",
              "      <td>44.63</td>\n",
              "      <td>-116.45</td>\n",
              "      <td>129</td>\n",
              "      <td>Cartographer</td>\n",
              "      <td>1965-12-15</td>\n",
              "      <td>14392d723bb7737606b2700ac791b7aa</td>\n",
              "      <td>1388534364</td>\n",
              "      <td>44.47</td>\n",
              "      <td>-117.08</td>\n",
              "      <td>0</td>\n",
              "    </tr>\n",
              "    <tr>\n",
              "      <th>1852393</th>\n",
              "      <td>2020-12-31 23:59:34</td>\n",
              "      <td>4170689372027579</td>\n",
              "      <td>fraud_Dare-Marvin</td>\n",
              "      <td>entertainment</td>\n",
              "      <td>38.13</td>\n",
              "      <td>Samuel</td>\n",
              "      <td>Frey</td>\n",
              "      <td>M</td>\n",
              "      <td>830 Myers Plaza Apt. 384</td>\n",
              "      <td>Edmond</td>\n",
              "      <td>...</td>\n",
              "      <td>35.67</td>\n",
              "      <td>-97.48</td>\n",
              "      <td>116001</td>\n",
              "      <td>Media buyer</td>\n",
              "      <td>1993-05-10</td>\n",
              "      <td>1765bb45b3aa3224b4cdcb6e7a96cee3</td>\n",
              "      <td>1388534374</td>\n",
              "      <td>36.21</td>\n",
              "      <td>-97.04</td>\n",
              "      <td>0</td>\n",
              "    </tr>\n",
              "  </tbody>\n",
              "</table>\n",
              "<p>1852394 rows × 22 columns</p>\n",
              "</div>\n",
              "      <button class=\"colab-df-convert\" onclick=\"convertToInteractive('df-8f7b23b7-386e-45ac-8072-fe01d566f84a')\"\n",
              "              title=\"Convert this dataframe to an interactive table.\"\n",
              "              style=\"display:none;\">\n",
              "        \n",
              "  <svg xmlns=\"http://www.w3.org/2000/svg\" height=\"24px\"viewBox=\"0 0 24 24\"\n",
              "       width=\"24px\">\n",
              "    <path d=\"M0 0h24v24H0V0z\" fill=\"none\"/>\n",
              "    <path d=\"M18.56 5.44l.94 2.06.94-2.06 2.06-.94-2.06-.94-.94-2.06-.94 2.06-2.06.94zm-11 1L8.5 8.5l.94-2.06 2.06-.94-2.06-.94L8.5 2.5l-.94 2.06-2.06.94zm10 10l.94 2.06.94-2.06 2.06-.94-2.06-.94-.94-2.06-.94 2.06-2.06.94z\"/><path d=\"M17.41 7.96l-1.37-1.37c-.4-.4-.92-.59-1.43-.59-.52 0-1.04.2-1.43.59L10.3 9.45l-7.72 7.72c-.78.78-.78 2.05 0 2.83L4 21.41c.39.39.9.59 1.41.59.51 0 1.02-.2 1.41-.59l7.78-7.78 2.81-2.81c.8-.78.8-2.07 0-2.86zM5.41 20L4 18.59l7.72-7.72 1.47 1.35L5.41 20z\"/>\n",
              "  </svg>\n",
              "      </button>\n",
              "      \n",
              "  <style>\n",
              "    .colab-df-container {\n",
              "      display:flex;\n",
              "      flex-wrap:wrap;\n",
              "      gap: 12px;\n",
              "    }\n",
              "\n",
              "    .colab-df-convert {\n",
              "      background-color: #E8F0FE;\n",
              "      border: none;\n",
              "      border-radius: 50%;\n",
              "      cursor: pointer;\n",
              "      display: none;\n",
              "      fill: #1967D2;\n",
              "      height: 32px;\n",
              "      padding: 0 0 0 0;\n",
              "      width: 32px;\n",
              "    }\n",
              "\n",
              "    .colab-df-convert:hover {\n",
              "      background-color: #E2EBFA;\n",
              "      box-shadow: 0px 1px 2px rgba(60, 64, 67, 0.3), 0px 1px 3px 1px rgba(60, 64, 67, 0.15);\n",
              "      fill: #174EA6;\n",
              "    }\n",
              "\n",
              "    [theme=dark] .colab-df-convert {\n",
              "      background-color: #3B4455;\n",
              "      fill: #D2E3FC;\n",
              "    }\n",
              "\n",
              "    [theme=dark] .colab-df-convert:hover {\n",
              "      background-color: #434B5C;\n",
              "      box-shadow: 0px 1px 3px 1px rgba(0, 0, 0, 0.15);\n",
              "      filter: drop-shadow(0px 1px 2px rgba(0, 0, 0, 0.3));\n",
              "      fill: #FFFFFF;\n",
              "    }\n",
              "  </style>\n",
              "\n",
              "      <script>\n",
              "        const buttonEl =\n",
              "          document.querySelector('#df-8f7b23b7-386e-45ac-8072-fe01d566f84a button.colab-df-convert');\n",
              "        buttonEl.style.display =\n",
              "          google.colab.kernel.accessAllowed ? 'block' : 'none';\n",
              "\n",
              "        async function convertToInteractive(key) {\n",
              "          const element = document.querySelector('#df-8f7b23b7-386e-45ac-8072-fe01d566f84a');\n",
              "          const dataTable =\n",
              "            await google.colab.kernel.invokeFunction('convertToInteractive',\n",
              "                                                     [key], {});\n",
              "          if (!dataTable) return;\n",
              "\n",
              "          const docLinkHtml = 'Like what you see? Visit the ' +\n",
              "            '<a target=\"_blank\" href=https://colab.research.google.com/notebooks/data_table.ipynb>data table notebook</a>'\n",
              "            + ' to learn more about interactive tables.';\n",
              "          element.innerHTML = '';\n",
              "          dataTable['output_type'] = 'display_data';\n",
              "          await google.colab.output.renderOutput(dataTable, element);\n",
              "          const docLink = document.createElement('div');\n",
              "          docLink.innerHTML = docLinkHtml;\n",
              "          element.appendChild(docLink);\n",
              "        }\n",
              "      </script>\n",
              "    </div>\n",
              "  </div>\n",
              "  "
            ]
          },
          "metadata": {},
          "execution_count": 68
        }
      ]
    },
    {
      "cell_type": "markdown",
      "source": [
        "# 데이터 분석\n",
        "* https://www.kaggle.com/datasets/kartik2112/fraud-detection/code?datasetId=817870&sortBy=voteCount"
      ],
      "metadata": {
        "id": "w5KOHooUSiAh"
      }
    },
    {
      "cell_type": "code",
      "source": [
        "df.columns"
      ],
      "metadata": {
        "colab": {
          "base_uri": "https://localhost:8080/"
        },
        "id": "OHkxNOizRW4D",
        "outputId": "dd4ea6e7-79f3-415c-ebc9-78cfd7f6049b"
      },
      "execution_count": 69,
      "outputs": [
        {
          "output_type": "execute_result",
          "data": {
            "text/plain": [
              "Index(['trans_date_trans_time', 'cc_num', 'merchant', 'category', 'amt',\n",
              "       'first', 'last', 'gender', 'street', 'city', 'state', 'zip', 'lat',\n",
              "       'long', 'city_pop', 'job', 'dob', 'trans_num', 'unix_time', 'merch_lat',\n",
              "       'merch_long', 'is_fraud'],\n",
              "      dtype='object')"
            ]
          },
          "metadata": {},
          "execution_count": 69
        }
      ]
    },
    {
      "cell_type": "markdown",
      "source": [
        "**Credit Card Transactions Fraud Detection Dataset**\n",
        "* 이상거래 (fraud) : 갑자기 해킹이나 전산 오류 등으로 인해 잘못된 금액이 결제\n",
        "* 전산 측에서 갑작스러운 오류/전산상의 실수 데이터등을 잡아내서 '이상거래'를 분류\n",
        "* 카드 결제 데이터 셋 -> ( ... ) => is_fraud (예측값, 종속변수)"
      ],
      "metadata": {
        "id": "F-UABD7mVTUK"
      }
    },
    {
      "cell_type": "markdown",
      "source": [
        "* trans_date_trans_time : 거래 시간 (날짜로 표시된 시간)\n",
        "* cc_num : 카드 번호. 고윳값이기 때문에 여기서는 id처럼 활용할 수 있음(Credit Card) -> 동명 이인더라도 카드번호는 다르겠죠?\n",
        "* merchant : 거래 상점\n",
        "* category : 거래 상점의 범주(애완용품, 여행, 엔터테인먼트 등)\n",
        "* amt: 거래금액 (amount)\n",
        "* first / last : 이름\n",
        "* gender : 성별\n",
        "* city / street / state / zip : 고객 거주지 정보\n",
        "* lat / long : 고객주소에 대한 위도 및 경도\n",
        "    * 위경도 -> 지구/지도를 기준으로 했을 때 좌표값\n",
        "* city_pop : 고객의 zipcode (우편번호) 속하는 인구 수\n",
        "* job : 직업\n",
        "* dob : 생년월일\n",
        "* trans_num : 거래번호\n",
        "* unix_time : 거래시간 (유닉스 타임스탬프 - 전산상으로 변환된 시간)\n",
        "* merch_lat / merch_long : 상점의 위경도\n",
        "---\n",
        "* is_fraud : 사기거래 여부 (이상거래 여부) -> 종속변수"
      ],
      "metadata": {
        "id": "y5iN5QRjRdMB"
      }
    },
    {
      "cell_type": "code",
      "source": [
        "# df.info() # not-null count가 안나오고 있음 (데이터가 많아서)\n",
        "# 데이터가 많아도 not-null count를 보여줌\n",
        "# 다행히 null (결측치) 없는 데이터\n",
        "df.info(show_counts=True)"
      ],
      "metadata": {
        "colab": {
          "base_uri": "https://localhost:8080/"
        },
        "id": "U5UBDNS1Rput",
        "outputId": "1bec16d2-59ff-4a77-9918-6d67278d12d3"
      },
      "execution_count": 70,
      "outputs": [
        {
          "output_type": "stream",
          "name": "stdout",
          "text": [
            "<class 'pandas.core.frame.DataFrame'>\n",
            "RangeIndex: 1852394 entries, 0 to 1852393\n",
            "Data columns (total 22 columns):\n",
            " #   Column                 Non-Null Count    Dtype  \n",
            "---  ------                 --------------    -----  \n",
            " 0   trans_date_trans_time  1852394 non-null  object \n",
            " 1   cc_num                 1852394 non-null  int64  \n",
            " 2   merchant               1852394 non-null  object \n",
            " 3   category               1852394 non-null  object \n",
            " 4   amt                    1852394 non-null  float64\n",
            " 5   first                  1852394 non-null  object \n",
            " 6   last                   1852394 non-null  object \n",
            " 7   gender                 1852394 non-null  object \n",
            " 8   street                 1852394 non-null  object \n",
            " 9   city                   1852394 non-null  object \n",
            " 10  state                  1852394 non-null  object \n",
            " 11  zip                    1852394 non-null  int64  \n",
            " 12  lat                    1852394 non-null  float64\n",
            " 13  long                   1852394 non-null  float64\n",
            " 14  city_pop               1852394 non-null  int64  \n",
            " 15  job                    1852394 non-null  object \n",
            " 16  dob                    1852394 non-null  object \n",
            " 17  trans_num              1852394 non-null  object \n",
            " 18  unix_time              1852394 non-null  int64  \n",
            " 19  merch_lat              1852394 non-null  float64\n",
            " 20  merch_long             1852394 non-null  float64\n",
            " 21  is_fraud               1852394 non-null  int64  \n",
            "dtypes: float64(5), int64(5), object(12)\n",
            "memory usage: 310.9+ MB\n"
          ]
        }
      ]
    },
    {
      "cell_type": "code",
      "source": [
        "pd.options.display.float_format = '{:.2f}'.format\n",
        "df.describe() # int, float 수치형 데이터 관련 통계 데이터 표시\n",
        "# amt: 거래금액 (amount)\n",
        "# city_pop : 고객의 zipcode 속하는 인구 수\n",
        "# -> 선형 모델 어려움, 거리 기반 어렵겠다..."
      ],
      "metadata": {
        "colab": {
          "base_uri": "https://localhost:8080/",
          "height": 300
        },
        "id": "5C-2-FJXR_SZ",
        "outputId": "29084fa5-c090-4371-f6f4-a9593b93e7ad"
      },
      "execution_count": 71,
      "outputs": [
        {
          "output_type": "execute_result",
          "data": {
            "text/plain": [
              "                      cc_num        amt        zip        lat       long  \\\n",
              "count             1852394.00 1852394.00 1852394.00 1852394.00 1852394.00   \n",
              "mean   417386038393710400.00      70.06   48813.26      38.54     -90.23   \n",
              "std   1309115265318734848.00     159.25   26881.85       5.07      13.75   \n",
              "min           60416207185.00       1.00    1257.00      20.03    -165.67   \n",
              "25%       180042946491150.00       9.64   26237.00      34.67     -96.80   \n",
              "50%      3521417320836166.00      47.45   48174.00      39.35     -87.48   \n",
              "75%      4642255475285942.00      83.10   72042.00      41.94     -80.16   \n",
              "max   4992346398065154048.00   28948.90   99921.00      66.69     -67.95   \n",
              "\n",
              "        city_pop     unix_time  merch_lat  merch_long   is_fraud  \n",
              "count 1852394.00    1852394.00 1852394.00  1852394.00 1852394.00  \n",
              "mean    88643.67 1358674218.83      38.54      -90.23       0.01  \n",
              "std    301487.62   18195081.39       5.11       13.76       0.07  \n",
              "min        23.00 1325376018.00      19.03     -166.67       0.00  \n",
              "25%       741.00 1343016823.75      34.74      -96.90       0.00  \n",
              "50%      2443.00 1357089331.00      39.37      -87.44       0.00  \n",
              "75%     20328.00 1374581485.25      41.96      -80.25       0.00  \n",
              "max   2906700.00 1388534374.00      67.51      -66.95       1.00  "
            ],
            "text/html": [
              "\n",
              "  <div id=\"df-6a41d0c2-d435-4564-a259-231c8297573c\">\n",
              "    <div class=\"colab-df-container\">\n",
              "      <div>\n",
              "<style scoped>\n",
              "    .dataframe tbody tr th:only-of-type {\n",
              "        vertical-align: middle;\n",
              "    }\n",
              "\n",
              "    .dataframe tbody tr th {\n",
              "        vertical-align: top;\n",
              "    }\n",
              "\n",
              "    .dataframe thead th {\n",
              "        text-align: right;\n",
              "    }\n",
              "</style>\n",
              "<table border=\"1\" class=\"dataframe\">\n",
              "  <thead>\n",
              "    <tr style=\"text-align: right;\">\n",
              "      <th></th>\n",
              "      <th>cc_num</th>\n",
              "      <th>amt</th>\n",
              "      <th>zip</th>\n",
              "      <th>lat</th>\n",
              "      <th>long</th>\n",
              "      <th>city_pop</th>\n",
              "      <th>unix_time</th>\n",
              "      <th>merch_lat</th>\n",
              "      <th>merch_long</th>\n",
              "      <th>is_fraud</th>\n",
              "    </tr>\n",
              "  </thead>\n",
              "  <tbody>\n",
              "    <tr>\n",
              "      <th>count</th>\n",
              "      <td>1852394.00</td>\n",
              "      <td>1852394.00</td>\n",
              "      <td>1852394.00</td>\n",
              "      <td>1852394.00</td>\n",
              "      <td>1852394.00</td>\n",
              "      <td>1852394.00</td>\n",
              "      <td>1852394.00</td>\n",
              "      <td>1852394.00</td>\n",
              "      <td>1852394.00</td>\n",
              "      <td>1852394.00</td>\n",
              "    </tr>\n",
              "    <tr>\n",
              "      <th>mean</th>\n",
              "      <td>417386038393710400.00</td>\n",
              "      <td>70.06</td>\n",
              "      <td>48813.26</td>\n",
              "      <td>38.54</td>\n",
              "      <td>-90.23</td>\n",
              "      <td>88643.67</td>\n",
              "      <td>1358674218.83</td>\n",
              "      <td>38.54</td>\n",
              "      <td>-90.23</td>\n",
              "      <td>0.01</td>\n",
              "    </tr>\n",
              "    <tr>\n",
              "      <th>std</th>\n",
              "      <td>1309115265318734848.00</td>\n",
              "      <td>159.25</td>\n",
              "      <td>26881.85</td>\n",
              "      <td>5.07</td>\n",
              "      <td>13.75</td>\n",
              "      <td>301487.62</td>\n",
              "      <td>18195081.39</td>\n",
              "      <td>5.11</td>\n",
              "      <td>13.76</td>\n",
              "      <td>0.07</td>\n",
              "    </tr>\n",
              "    <tr>\n",
              "      <th>min</th>\n",
              "      <td>60416207185.00</td>\n",
              "      <td>1.00</td>\n",
              "      <td>1257.00</td>\n",
              "      <td>20.03</td>\n",
              "      <td>-165.67</td>\n",
              "      <td>23.00</td>\n",
              "      <td>1325376018.00</td>\n",
              "      <td>19.03</td>\n",
              "      <td>-166.67</td>\n",
              "      <td>0.00</td>\n",
              "    </tr>\n",
              "    <tr>\n",
              "      <th>25%</th>\n",
              "      <td>180042946491150.00</td>\n",
              "      <td>9.64</td>\n",
              "      <td>26237.00</td>\n",
              "      <td>34.67</td>\n",
              "      <td>-96.80</td>\n",
              "      <td>741.00</td>\n",
              "      <td>1343016823.75</td>\n",
              "      <td>34.74</td>\n",
              "      <td>-96.90</td>\n",
              "      <td>0.00</td>\n",
              "    </tr>\n",
              "    <tr>\n",
              "      <th>50%</th>\n",
              "      <td>3521417320836166.00</td>\n",
              "      <td>47.45</td>\n",
              "      <td>48174.00</td>\n",
              "      <td>39.35</td>\n",
              "      <td>-87.48</td>\n",
              "      <td>2443.00</td>\n",
              "      <td>1357089331.00</td>\n",
              "      <td>39.37</td>\n",
              "      <td>-87.44</td>\n",
              "      <td>0.00</td>\n",
              "    </tr>\n",
              "    <tr>\n",
              "      <th>75%</th>\n",
              "      <td>4642255475285942.00</td>\n",
              "      <td>83.10</td>\n",
              "      <td>72042.00</td>\n",
              "      <td>41.94</td>\n",
              "      <td>-80.16</td>\n",
              "      <td>20328.00</td>\n",
              "      <td>1374581485.25</td>\n",
              "      <td>41.96</td>\n",
              "      <td>-80.25</td>\n",
              "      <td>0.00</td>\n",
              "    </tr>\n",
              "    <tr>\n",
              "      <th>max</th>\n",
              "      <td>4992346398065154048.00</td>\n",
              "      <td>28948.90</td>\n",
              "      <td>99921.00</td>\n",
              "      <td>66.69</td>\n",
              "      <td>-67.95</td>\n",
              "      <td>2906700.00</td>\n",
              "      <td>1388534374.00</td>\n",
              "      <td>67.51</td>\n",
              "      <td>-66.95</td>\n",
              "      <td>1.00</td>\n",
              "    </tr>\n",
              "  </tbody>\n",
              "</table>\n",
              "</div>\n",
              "      <button class=\"colab-df-convert\" onclick=\"convertToInteractive('df-6a41d0c2-d435-4564-a259-231c8297573c')\"\n",
              "              title=\"Convert this dataframe to an interactive table.\"\n",
              "              style=\"display:none;\">\n",
              "        \n",
              "  <svg xmlns=\"http://www.w3.org/2000/svg\" height=\"24px\"viewBox=\"0 0 24 24\"\n",
              "       width=\"24px\">\n",
              "    <path d=\"M0 0h24v24H0V0z\" fill=\"none\"/>\n",
              "    <path d=\"M18.56 5.44l.94 2.06.94-2.06 2.06-.94-2.06-.94-.94-2.06-.94 2.06-2.06.94zm-11 1L8.5 8.5l.94-2.06 2.06-.94-2.06-.94L8.5 2.5l-.94 2.06-2.06.94zm10 10l.94 2.06.94-2.06 2.06-.94-2.06-.94-.94-2.06-.94 2.06-2.06.94z\"/><path d=\"M17.41 7.96l-1.37-1.37c-.4-.4-.92-.59-1.43-.59-.52 0-1.04.2-1.43.59L10.3 9.45l-7.72 7.72c-.78.78-.78 2.05 0 2.83L4 21.41c.39.39.9.59 1.41.59.51 0 1.02-.2 1.41-.59l7.78-7.78 2.81-2.81c.8-.78.8-2.07 0-2.86zM5.41 20L4 18.59l7.72-7.72 1.47 1.35L5.41 20z\"/>\n",
              "  </svg>\n",
              "      </button>\n",
              "      \n",
              "  <style>\n",
              "    .colab-df-container {\n",
              "      display:flex;\n",
              "      flex-wrap:wrap;\n",
              "      gap: 12px;\n",
              "    }\n",
              "\n",
              "    .colab-df-convert {\n",
              "      background-color: #E8F0FE;\n",
              "      border: none;\n",
              "      border-radius: 50%;\n",
              "      cursor: pointer;\n",
              "      display: none;\n",
              "      fill: #1967D2;\n",
              "      height: 32px;\n",
              "      padding: 0 0 0 0;\n",
              "      width: 32px;\n",
              "    }\n",
              "\n",
              "    .colab-df-convert:hover {\n",
              "      background-color: #E2EBFA;\n",
              "      box-shadow: 0px 1px 2px rgba(60, 64, 67, 0.3), 0px 1px 3px 1px rgba(60, 64, 67, 0.15);\n",
              "      fill: #174EA6;\n",
              "    }\n",
              "\n",
              "    [theme=dark] .colab-df-convert {\n",
              "      background-color: #3B4455;\n",
              "      fill: #D2E3FC;\n",
              "    }\n",
              "\n",
              "    [theme=dark] .colab-df-convert:hover {\n",
              "      background-color: #434B5C;\n",
              "      box-shadow: 0px 1px 3px 1px rgba(0, 0, 0, 0.15);\n",
              "      filter: drop-shadow(0px 1px 2px rgba(0, 0, 0, 0.3));\n",
              "      fill: #FFFFFF;\n",
              "    }\n",
              "  </style>\n",
              "\n",
              "      <script>\n",
              "        const buttonEl =\n",
              "          document.querySelector('#df-6a41d0c2-d435-4564-a259-231c8297573c button.colab-df-convert');\n",
              "        buttonEl.style.display =\n",
              "          google.colab.kernel.accessAllowed ? 'block' : 'none';\n",
              "\n",
              "        async function convertToInteractive(key) {\n",
              "          const element = document.querySelector('#df-6a41d0c2-d435-4564-a259-231c8297573c');\n",
              "          const dataTable =\n",
              "            await google.colab.kernel.invokeFunction('convertToInteractive',\n",
              "                                                     [key], {});\n",
              "          if (!dataTable) return;\n",
              "\n",
              "          const docLinkHtml = 'Like what you see? Visit the ' +\n",
              "            '<a target=\"_blank\" href=https://colab.research.google.com/notebooks/data_table.ipynb>data table notebook</a>'\n",
              "            + ' to learn more about interactive tables.';\n",
              "          element.innerHTML = '';\n",
              "          dataTable['output_type'] = 'display_data';\n",
              "          await google.colab.output.renderOutput(dataTable, element);\n",
              "          const docLink = document.createElement('div');\n",
              "          docLink.innerHTML = docLinkHtml;\n",
              "          element.appendChild(docLink);\n",
              "        }\n",
              "      </script>\n",
              "    </div>\n",
              "  </div>\n",
              "  "
            ]
          },
          "metadata": {},
          "execution_count": 71
        }
      ]
    },
    {
      "cell_type": "code",
      "source": [
        "df.describe(include='O')"
      ],
      "metadata": {
        "colab": {
          "base_uri": "https://localhost:8080/",
          "height": 273
        },
        "id": "sF3XVod4SfKm",
        "outputId": "469b09b0-200c-41c9-fca7-9564c4abcf3e"
      },
      "execution_count": 72,
      "outputs": [
        {
          "output_type": "execute_result",
          "data": {
            "text/plain": [
              "       trans_date_trans_time           merchant       category        first  \\\n",
              "count                1852394            1852394        1852394      1852394   \n",
              "unique               1819551                693             14          355   \n",
              "top      2019-04-22 16:02:01  fraud_Kilback LLC  gas_transport  Christopher   \n",
              "freq                       4               6262         188029        38112   \n",
              "\n",
              "           last   gender           street        city    state  \\\n",
              "count   1852394  1852394          1852394     1852394  1852394   \n",
              "unique      486        2              999         906       51   \n",
              "top       Smith        F  444 Robert Mews  Birmingham       TX   \n",
              "freq      40940  1014749             4392        8040   135269   \n",
              "\n",
              "                      job         dob                         trans_num  \n",
              "count             1852394     1852394                           1852394  \n",
              "unique                497         984                           1852394  \n",
              "top     Film/video editor  1977-03-23  0b242abb623afc578575680df30655b9  \n",
              "freq                13898        8044                                 1  "
            ],
            "text/html": [
              "\n",
              "  <div id=\"df-086a0f9f-5088-4d89-9d40-defaac22aae1\">\n",
              "    <div class=\"colab-df-container\">\n",
              "      <div>\n",
              "<style scoped>\n",
              "    .dataframe tbody tr th:only-of-type {\n",
              "        vertical-align: middle;\n",
              "    }\n",
              "\n",
              "    .dataframe tbody tr th {\n",
              "        vertical-align: top;\n",
              "    }\n",
              "\n",
              "    .dataframe thead th {\n",
              "        text-align: right;\n",
              "    }\n",
              "</style>\n",
              "<table border=\"1\" class=\"dataframe\">\n",
              "  <thead>\n",
              "    <tr style=\"text-align: right;\">\n",
              "      <th></th>\n",
              "      <th>trans_date_trans_time</th>\n",
              "      <th>merchant</th>\n",
              "      <th>category</th>\n",
              "      <th>first</th>\n",
              "      <th>last</th>\n",
              "      <th>gender</th>\n",
              "      <th>street</th>\n",
              "      <th>city</th>\n",
              "      <th>state</th>\n",
              "      <th>job</th>\n",
              "      <th>dob</th>\n",
              "      <th>trans_num</th>\n",
              "    </tr>\n",
              "  </thead>\n",
              "  <tbody>\n",
              "    <tr>\n",
              "      <th>count</th>\n",
              "      <td>1852394</td>\n",
              "      <td>1852394</td>\n",
              "      <td>1852394</td>\n",
              "      <td>1852394</td>\n",
              "      <td>1852394</td>\n",
              "      <td>1852394</td>\n",
              "      <td>1852394</td>\n",
              "      <td>1852394</td>\n",
              "      <td>1852394</td>\n",
              "      <td>1852394</td>\n",
              "      <td>1852394</td>\n",
              "      <td>1852394</td>\n",
              "    </tr>\n",
              "    <tr>\n",
              "      <th>unique</th>\n",
              "      <td>1819551</td>\n",
              "      <td>693</td>\n",
              "      <td>14</td>\n",
              "      <td>355</td>\n",
              "      <td>486</td>\n",
              "      <td>2</td>\n",
              "      <td>999</td>\n",
              "      <td>906</td>\n",
              "      <td>51</td>\n",
              "      <td>497</td>\n",
              "      <td>984</td>\n",
              "      <td>1852394</td>\n",
              "    </tr>\n",
              "    <tr>\n",
              "      <th>top</th>\n",
              "      <td>2019-04-22 16:02:01</td>\n",
              "      <td>fraud_Kilback LLC</td>\n",
              "      <td>gas_transport</td>\n",
              "      <td>Christopher</td>\n",
              "      <td>Smith</td>\n",
              "      <td>F</td>\n",
              "      <td>444 Robert Mews</td>\n",
              "      <td>Birmingham</td>\n",
              "      <td>TX</td>\n",
              "      <td>Film/video editor</td>\n",
              "      <td>1977-03-23</td>\n",
              "      <td>0b242abb623afc578575680df30655b9</td>\n",
              "    </tr>\n",
              "    <tr>\n",
              "      <th>freq</th>\n",
              "      <td>4</td>\n",
              "      <td>6262</td>\n",
              "      <td>188029</td>\n",
              "      <td>38112</td>\n",
              "      <td>40940</td>\n",
              "      <td>1014749</td>\n",
              "      <td>4392</td>\n",
              "      <td>8040</td>\n",
              "      <td>135269</td>\n",
              "      <td>13898</td>\n",
              "      <td>8044</td>\n",
              "      <td>1</td>\n",
              "    </tr>\n",
              "  </tbody>\n",
              "</table>\n",
              "</div>\n",
              "      <button class=\"colab-df-convert\" onclick=\"convertToInteractive('df-086a0f9f-5088-4d89-9d40-defaac22aae1')\"\n",
              "              title=\"Convert this dataframe to an interactive table.\"\n",
              "              style=\"display:none;\">\n",
              "        \n",
              "  <svg xmlns=\"http://www.w3.org/2000/svg\" height=\"24px\"viewBox=\"0 0 24 24\"\n",
              "       width=\"24px\">\n",
              "    <path d=\"M0 0h24v24H0V0z\" fill=\"none\"/>\n",
              "    <path d=\"M18.56 5.44l.94 2.06.94-2.06 2.06-.94-2.06-.94-.94-2.06-.94 2.06-2.06.94zm-11 1L8.5 8.5l.94-2.06 2.06-.94-2.06-.94L8.5 2.5l-.94 2.06-2.06.94zm10 10l.94 2.06.94-2.06 2.06-.94-2.06-.94-.94-2.06-.94 2.06-2.06.94z\"/><path d=\"M17.41 7.96l-1.37-1.37c-.4-.4-.92-.59-1.43-.59-.52 0-1.04.2-1.43.59L10.3 9.45l-7.72 7.72c-.78.78-.78 2.05 0 2.83L4 21.41c.39.39.9.59 1.41.59.51 0 1.02-.2 1.41-.59l7.78-7.78 2.81-2.81c.8-.78.8-2.07 0-2.86zM5.41 20L4 18.59l7.72-7.72 1.47 1.35L5.41 20z\"/>\n",
              "  </svg>\n",
              "      </button>\n",
              "      \n",
              "  <style>\n",
              "    .colab-df-container {\n",
              "      display:flex;\n",
              "      flex-wrap:wrap;\n",
              "      gap: 12px;\n",
              "    }\n",
              "\n",
              "    .colab-df-convert {\n",
              "      background-color: #E8F0FE;\n",
              "      border: none;\n",
              "      border-radius: 50%;\n",
              "      cursor: pointer;\n",
              "      display: none;\n",
              "      fill: #1967D2;\n",
              "      height: 32px;\n",
              "      padding: 0 0 0 0;\n",
              "      width: 32px;\n",
              "    }\n",
              "\n",
              "    .colab-df-convert:hover {\n",
              "      background-color: #E2EBFA;\n",
              "      box-shadow: 0px 1px 2px rgba(60, 64, 67, 0.3), 0px 1px 3px 1px rgba(60, 64, 67, 0.15);\n",
              "      fill: #174EA6;\n",
              "    }\n",
              "\n",
              "    [theme=dark] .colab-df-convert {\n",
              "      background-color: #3B4455;\n",
              "      fill: #D2E3FC;\n",
              "    }\n",
              "\n",
              "    [theme=dark] .colab-df-convert:hover {\n",
              "      background-color: #434B5C;\n",
              "      box-shadow: 0px 1px 3px 1px rgba(0, 0, 0, 0.15);\n",
              "      filter: drop-shadow(0px 1px 2px rgba(0, 0, 0, 0.3));\n",
              "      fill: #FFFFFF;\n",
              "    }\n",
              "  </style>\n",
              "\n",
              "      <script>\n",
              "        const buttonEl =\n",
              "          document.querySelector('#df-086a0f9f-5088-4d89-9d40-defaac22aae1 button.colab-df-convert');\n",
              "        buttonEl.style.display =\n",
              "          google.colab.kernel.accessAllowed ? 'block' : 'none';\n",
              "\n",
              "        async function convertToInteractive(key) {\n",
              "          const element = document.querySelector('#df-086a0f9f-5088-4d89-9d40-defaac22aae1');\n",
              "          const dataTable =\n",
              "            await google.colab.kernel.invokeFunction('convertToInteractive',\n",
              "                                                     [key], {});\n",
              "          if (!dataTable) return;\n",
              "\n",
              "          const docLinkHtml = 'Like what you see? Visit the ' +\n",
              "            '<a target=\"_blank\" href=https://colab.research.google.com/notebooks/data_table.ipynb>data table notebook</a>'\n",
              "            + ' to learn more about interactive tables.';\n",
              "          element.innerHTML = '';\n",
              "          dataTable['output_type'] = 'display_data';\n",
              "          await google.colab.output.renderOutput(dataTable, element);\n",
              "          const docLink = document.createElement('div');\n",
              "          docLink.innerHTML = docLinkHtml;\n",
              "          element.appendChild(docLink);\n",
              "        }\n",
              "      </script>\n",
              "    </div>\n",
              "  </div>\n",
              "  "
            ]
          },
          "metadata": {},
          "execution_count": 72
        }
      ]
    },
    {
      "cell_type": "markdown",
      "source": [
        "* trans_date_trans_time : 거래 시간\n",
        "* merchant : 거래 상점\n",
        "* category : 거래 상점의 범주(애완용품, 여행, 엔터테인먼트 등)\n",
        "* first / last : 이름\n",
        "* gender : 성별 (F/M)\n",
        "* city / street / state / zip : 고객 거주지 정보\n",
        "* job : 직업\n",
        "* dob : 생년월일\n",
        "* trans_num : 거래번호"
      ],
      "metadata": {
        "id": "sbgdrxFbSpYb"
      }
    },
    {
      "cell_type": "markdown",
      "source": [
        "# 전처리"
      ],
      "metadata": {
        "id": "04H3GtbVTGVG"
      }
    },
    {
      "cell_type": "code",
      "source": [
        "# 사용되지 않는 변수 제거\n",
        "# df.drop(..., axis=1) -> 원본 안 바꿔주는 것\n",
        "# 1. df = df.drop(..., axis=1)\n",
        "# inplace=True -> 모든 df에 있는 메소드에서 존재하지 X\n",
        "# 깊은 복사, 얕은 복사 문제 때문에 가능하면 새로운 사본을 만들어서 처리 (immutable)\n",
        "# 2. df.drop(..., axis=1, inplace=True)\n",
        "# pd -> 판다스 자체에서 불러오는 것이기 때문에 inplace X\n",
        "# 이름 -> 이름 조합을 만들어서 full name / cc_num 고객은 특정 가능\n",
        "# 주소 -> 위도경도(lat, long)\n",
        "# 거래번호 / 유닉스타임 (중복) -> trans_date_trans_time\n",
        "# 직업, 가게명\n",
        "df.drop([\n",
        "    'first','last',  # cc_number = credit card number 특정\n",
        "    'street', 'city', 'state', 'zip', # 주소는 위도(latitude), 경도(longitude)로 대체 가능\n",
        "    'trans_num', 'unix_time' # trans_date_trans_time: 거래가 일어난 시간\n",
        "],axis=1, inplace=True)"
      ],
      "metadata": {
        "id": "CaHc4vnDUR6r"
      },
      "execution_count": 73,
      "outputs": []
    },
    {
      "cell_type": "code",
      "source": [
        "df.columns"
      ],
      "metadata": {
        "colab": {
          "base_uri": "https://localhost:8080/"
        },
        "id": "mr-XpFhjWO4S",
        "outputId": "9c27eb99-7062-4b9d-e485-e1eb7fd62887"
      },
      "execution_count": 74,
      "outputs": [
        {
          "output_type": "execute_result",
          "data": {
            "text/plain": [
              "Index(['trans_date_trans_time', 'cc_num', 'merchant', 'category', 'amt',\n",
              "       'gender', 'lat', 'long', 'city_pop', 'job', 'dob', 'merch_lat',\n",
              "       'merch_long', 'is_fraud'],\n",
              "      dtype='object')"
            ]
          },
          "metadata": {},
          "execution_count": 74
        }
      ]
    },
    {
      "cell_type": "markdown",
      "source": [
        "## trans_date_trans_time"
      ],
      "metadata": {
        "id": "gXTAy3m0ZUpD"
      }
    },
    {
      "cell_type": "code",
      "source": [
        "# trans_date_trans_time  object => datetime 타입으로 바꿔줘야함\n",
        "df.info()"
      ],
      "metadata": {
        "colab": {
          "base_uri": "https://localhost:8080/"
        },
        "id": "nNcsK96FZX78",
        "outputId": "956562fa-519b-44b7-f7ea-9e0898ea0d4c"
      },
      "execution_count": 75,
      "outputs": [
        {
          "output_type": "stream",
          "name": "stdout",
          "text": [
            "<class 'pandas.core.frame.DataFrame'>\n",
            "RangeIndex: 1852394 entries, 0 to 1852393\n",
            "Data columns (total 14 columns):\n",
            " #   Column                 Dtype  \n",
            "---  ------                 -----  \n",
            " 0   trans_date_trans_time  object \n",
            " 1   cc_num                 int64  \n",
            " 2   merchant               object \n",
            " 3   category               object \n",
            " 4   amt                    float64\n",
            " 5   gender                 object \n",
            " 6   lat                    float64\n",
            " 7   long                   float64\n",
            " 8   city_pop               int64  \n",
            " 9   job                    object \n",
            " 10  dob                    object \n",
            " 11  merch_lat              float64\n",
            " 12  merch_long             float64\n",
            " 13  is_fraud               int64  \n",
            "dtypes: float64(5), int64(3), object(6)\n",
            "memory usage: 197.9+ MB\n"
          ]
        }
      ]
    },
    {
      "cell_type": "code",
      "source": [
        "# pd.to_datetime -> 문자열 형태의 날짜데이터를, dt으로 포맷을 바꿔줌\n",
        "# https://dataindependent.com/pandas/pandas-to-datetime-string-to-date-pd-to_datetime/\n",
        "df.trans_date_trans_time = pd.to_datetime(df.trans_date_trans_time)\n",
        "df.info()"
      ],
      "metadata": {
        "colab": {
          "base_uri": "https://localhost:8080/"
        },
        "id": "tDcrYyFWZgSh",
        "outputId": "44bce6f7-94d0-4076-dab9-034c5bc335b3"
      },
      "execution_count": 76,
      "outputs": [
        {
          "output_type": "stream",
          "name": "stdout",
          "text": [
            "<class 'pandas.core.frame.DataFrame'>\n",
            "RangeIndex: 1852394 entries, 0 to 1852393\n",
            "Data columns (total 14 columns):\n",
            " #   Column                 Dtype         \n",
            "---  ------                 -----         \n",
            " 0   trans_date_trans_time  datetime64[ns]\n",
            " 1   cc_num                 int64         \n",
            " 2   merchant               object        \n",
            " 3   category               object        \n",
            " 4   amt                    float64       \n",
            " 5   gender                 object        \n",
            " 6   lat                    float64       \n",
            " 7   long                   float64       \n",
            " 8   city_pop               int64         \n",
            " 9   job                    object        \n",
            " 10  dob                    object        \n",
            " 11  merch_lat              float64       \n",
            " 12  merch_long             float64       \n",
            " 13  is_fraud               int64         \n",
            "dtypes: datetime64[ns](1), float64(5), int64(3), object(5)\n",
            "memory usage: 197.9+ MB\n"
          ]
        }
      ]
    },
    {
      "cell_type": "markdown",
      "source": [
        "## 피쳐 엔지니어링\n",
        "* 이상거래 : 원래 고객의 거래패턴에서 벗어나는 거래 (통상적으로 거래나 평균에서 값이나 거래가 아닌 거)"
      ],
      "metadata": {
        "id": "hwd0pF1CaT_W"
      }
    },
    {
      "cell_type": "markdown",
      "source": [
        "### 결제 금액\n",
        "* 평균에서 벗어난다 -> 정규분포(z 점수)에서 얼마나 멀리 벗어나 있는지\n",
        "* 서로 다른 개인 -> 특정 -> cc_num : 카드번호별로 묶어서 -> 결제 금액 평균\n",
        "* 혹시나 너무 갑자기 큰 금액을 썼다면? => 이상거래"
      ],
      "metadata": {
        "id": "J1-ngjS6aeJh"
      }
    },
    {
      "cell_type": "code",
      "source": [
        "# (groupby로 묶어준 그룹/속성).agg : 특정한 그룹별로 통계값, 대표값 추출\n",
        "# mean -> 통계값 / std -> 표준편차 : Z점수 (x - 평균) / 표준편차 => 평균으로부터 얼마나 떨어져 있는지 표준화한 값\n",
        "# df.groupby('cc_num').amt.mean()\n",
        "# df.groupby('cc_num').amt.std()\n",
        "# df.groupby('cc_num').amt.agg(['mean', 'std'])\n",
        "amt_info = df.groupby('cc_num').amt.agg(['mean', 'std'])\n",
        "# index(행 인덱스 이름)로 각 cc_num -> reset index?\n",
        "amt_info.head()\n",
        "# 카드번호별로 평균 소비액(mean), 표준편차(std)"
      ],
      "metadata": {
        "colab": {
          "base_uri": "https://localhost:8080/",
          "height": 237
        },
        "outputId": "18f685fe-65e7-4983-e67f-dd6268026e27",
        "id": "xG_-P6VTb_vu"
      },
      "execution_count": 77,
      "outputs": [
        {
          "output_type": "execute_result",
          "data": {
            "text/plain": [
              "              mean     std\n",
              "cc_num                    \n",
              "60416207185  59.26  142.87\n",
              "60422928733  65.48   92.04\n",
              "60423098130  96.38 1000.69\n",
              "60427851591 107.49  131.01\n",
              "60487002085  64.10  153.21"
            ],
            "text/html": [
              "\n",
              "  <div id=\"df-15c66174-d500-44c6-86d2-efdcdea0aa07\">\n",
              "    <div class=\"colab-df-container\">\n",
              "      <div>\n",
              "<style scoped>\n",
              "    .dataframe tbody tr th:only-of-type {\n",
              "        vertical-align: middle;\n",
              "    }\n",
              "\n",
              "    .dataframe tbody tr th {\n",
              "        vertical-align: top;\n",
              "    }\n",
              "\n",
              "    .dataframe thead th {\n",
              "        text-align: right;\n",
              "    }\n",
              "</style>\n",
              "<table border=\"1\" class=\"dataframe\">\n",
              "  <thead>\n",
              "    <tr style=\"text-align: right;\">\n",
              "      <th></th>\n",
              "      <th>mean</th>\n",
              "      <th>std</th>\n",
              "    </tr>\n",
              "    <tr>\n",
              "      <th>cc_num</th>\n",
              "      <th></th>\n",
              "      <th></th>\n",
              "    </tr>\n",
              "  </thead>\n",
              "  <tbody>\n",
              "    <tr>\n",
              "      <th>60416207185</th>\n",
              "      <td>59.26</td>\n",
              "      <td>142.87</td>\n",
              "    </tr>\n",
              "    <tr>\n",
              "      <th>60422928733</th>\n",
              "      <td>65.48</td>\n",
              "      <td>92.04</td>\n",
              "    </tr>\n",
              "    <tr>\n",
              "      <th>60423098130</th>\n",
              "      <td>96.38</td>\n",
              "      <td>1000.69</td>\n",
              "    </tr>\n",
              "    <tr>\n",
              "      <th>60427851591</th>\n",
              "      <td>107.49</td>\n",
              "      <td>131.01</td>\n",
              "    </tr>\n",
              "    <tr>\n",
              "      <th>60487002085</th>\n",
              "      <td>64.10</td>\n",
              "      <td>153.21</td>\n",
              "    </tr>\n",
              "  </tbody>\n",
              "</table>\n",
              "</div>\n",
              "      <button class=\"colab-df-convert\" onclick=\"convertToInteractive('df-15c66174-d500-44c6-86d2-efdcdea0aa07')\"\n",
              "              title=\"Convert this dataframe to an interactive table.\"\n",
              "              style=\"display:none;\">\n",
              "        \n",
              "  <svg xmlns=\"http://www.w3.org/2000/svg\" height=\"24px\"viewBox=\"0 0 24 24\"\n",
              "       width=\"24px\">\n",
              "    <path d=\"M0 0h24v24H0V0z\" fill=\"none\"/>\n",
              "    <path d=\"M18.56 5.44l.94 2.06.94-2.06 2.06-.94-2.06-.94-.94-2.06-.94 2.06-2.06.94zm-11 1L8.5 8.5l.94-2.06 2.06-.94-2.06-.94L8.5 2.5l-.94 2.06-2.06.94zm10 10l.94 2.06.94-2.06 2.06-.94-2.06-.94-.94-2.06-.94 2.06-2.06.94z\"/><path d=\"M17.41 7.96l-1.37-1.37c-.4-.4-.92-.59-1.43-.59-.52 0-1.04.2-1.43.59L10.3 9.45l-7.72 7.72c-.78.78-.78 2.05 0 2.83L4 21.41c.39.39.9.59 1.41.59.51 0 1.02-.2 1.41-.59l7.78-7.78 2.81-2.81c.8-.78.8-2.07 0-2.86zM5.41 20L4 18.59l7.72-7.72 1.47 1.35L5.41 20z\"/>\n",
              "  </svg>\n",
              "      </button>\n",
              "      \n",
              "  <style>\n",
              "    .colab-df-container {\n",
              "      display:flex;\n",
              "      flex-wrap:wrap;\n",
              "      gap: 12px;\n",
              "    }\n",
              "\n",
              "    .colab-df-convert {\n",
              "      background-color: #E8F0FE;\n",
              "      border: none;\n",
              "      border-radius: 50%;\n",
              "      cursor: pointer;\n",
              "      display: none;\n",
              "      fill: #1967D2;\n",
              "      height: 32px;\n",
              "      padding: 0 0 0 0;\n",
              "      width: 32px;\n",
              "    }\n",
              "\n",
              "    .colab-df-convert:hover {\n",
              "      background-color: #E2EBFA;\n",
              "      box-shadow: 0px 1px 2px rgba(60, 64, 67, 0.3), 0px 1px 3px 1px rgba(60, 64, 67, 0.15);\n",
              "      fill: #174EA6;\n",
              "    }\n",
              "\n",
              "    [theme=dark] .colab-df-convert {\n",
              "      background-color: #3B4455;\n",
              "      fill: #D2E3FC;\n",
              "    }\n",
              "\n",
              "    [theme=dark] .colab-df-convert:hover {\n",
              "      background-color: #434B5C;\n",
              "      box-shadow: 0px 1px 3px 1px rgba(0, 0, 0, 0.15);\n",
              "      filter: drop-shadow(0px 1px 2px rgba(0, 0, 0, 0.3));\n",
              "      fill: #FFFFFF;\n",
              "    }\n",
              "  </style>\n",
              "\n",
              "      <script>\n",
              "        const buttonEl =\n",
              "          document.querySelector('#df-15c66174-d500-44c6-86d2-efdcdea0aa07 button.colab-df-convert');\n",
              "        buttonEl.style.display =\n",
              "          google.colab.kernel.accessAllowed ? 'block' : 'none';\n",
              "\n",
              "        async function convertToInteractive(key) {\n",
              "          const element = document.querySelector('#df-15c66174-d500-44c6-86d2-efdcdea0aa07');\n",
              "          const dataTable =\n",
              "            await google.colab.kernel.invokeFunction('convertToInteractive',\n",
              "                                                     [key], {});\n",
              "          if (!dataTable) return;\n",
              "\n",
              "          const docLinkHtml = 'Like what you see? Visit the ' +\n",
              "            '<a target=\"_blank\" href=https://colab.research.google.com/notebooks/data_table.ipynb>data table notebook</a>'\n",
              "            + ' to learn more about interactive tables.';\n",
              "          element.innerHTML = '';\n",
              "          dataTable['output_type'] = 'display_data';\n",
              "          await google.colab.output.renderOutput(dataTable, element);\n",
              "          const docLink = document.createElement('div');\n",
              "          docLink.innerHTML = docLinkHtml;\n",
              "          element.appendChild(docLink);\n",
              "        }\n",
              "      </script>\n",
              "    </div>\n",
              "  </div>\n",
              "  "
            ]
          },
          "metadata": {},
          "execution_count": 77
        }
      ]
    },
    {
      "cell_type": "code",
      "source": [
        "# 두 개의 데이터프레임을 열 방향으로 합쳐줄 때 -> merge\n",
        "# A.merge(B) -> A가 왼쪽, B가 오른쪽해서 두 df을 합쳐줌\n",
        "# 같은 CC_NUM을 가진 거래 기록과, CC_NUM별 소비기록 평균 및 표준편차를 매칭\n",
        "# 거래 기록 수 > CC_NUM보다 많음 => 같은 CC_NUM을 가졌을 경우 같은 평균, 표준편차를 공유\n",
        "df = df.merge(amt_info, left_on='cc_num', right_index=True, how='left')"
      ],
      "metadata": {
        "id": "a75Z63ivb_vu"
      },
      "execution_count": 78,
      "outputs": []
    },
    {
      "cell_type": "code",
      "source": [
        "df.columns"
      ],
      "metadata": {
        "colab": {
          "base_uri": "https://localhost:8080/"
        },
        "outputId": "da356068-eb99-4b6b-8af9-a8dba95d5536",
        "id": "ZoNEx9dKb_vu"
      },
      "execution_count": 79,
      "outputs": [
        {
          "output_type": "execute_result",
          "data": {
            "text/plain": [
              "Index(['trans_date_trans_time', 'cc_num', 'merchant', 'category', 'amt',\n",
              "       'gender', 'lat', 'long', 'city_pop', 'job', 'dob', 'merch_lat',\n",
              "       'merch_long', 'is_fraud', 'mean', 'std'],\n",
              "      dtype='object')"
            ]
          },
          "metadata": {},
          "execution_count": 79
        }
      ]
    },
    {
      "cell_type": "code",
      "source": [
        "# amt (각 거래 기록별 소비금액)\n",
        "# mean (cc_num별 평균 소비금액)\n",
        "# std (cc_num별 소비금액의 표준편차)\n",
        "# https://losskatsu.github.io/statistics/mean-vairance/\n",
        "# z점수 : 특정한 값이 평균 기준으로 얼마나 멀리 떨어져있는지\n",
        "df[['cc_num', 'amt', 'mean', 'std']].head()"
      ],
      "metadata": {
        "colab": {
          "base_uri": "https://localhost:8080/",
          "height": 206
        },
        "outputId": "eb105f22-c686-40b1-b686-9fb1d970b111",
        "id": "6ef1kqbpb_vv"
      },
      "execution_count": 80,
      "outputs": [
        {
          "output_type": "execute_result",
          "data": {
            "text/plain": [
              "             cc_num    amt  mean    std\n",
              "0  2703186189652095   4.97 89.41 127.53\n",
              "1      630423337322 107.23 56.08 159.20\n",
              "2    38859492057661 220.11 69.92 116.69\n",
              "3  3534093764340240  45.00 80.09 280.08\n",
              "4   375534208663984  41.96 95.34  94.32"
            ],
            "text/html": [
              "\n",
              "  <div id=\"df-a1e542bc-28d4-48e3-a602-630bdcd6b5a1\">\n",
              "    <div class=\"colab-df-container\">\n",
              "      <div>\n",
              "<style scoped>\n",
              "    .dataframe tbody tr th:only-of-type {\n",
              "        vertical-align: middle;\n",
              "    }\n",
              "\n",
              "    .dataframe tbody tr th {\n",
              "        vertical-align: top;\n",
              "    }\n",
              "\n",
              "    .dataframe thead th {\n",
              "        text-align: right;\n",
              "    }\n",
              "</style>\n",
              "<table border=\"1\" class=\"dataframe\">\n",
              "  <thead>\n",
              "    <tr style=\"text-align: right;\">\n",
              "      <th></th>\n",
              "      <th>cc_num</th>\n",
              "      <th>amt</th>\n",
              "      <th>mean</th>\n",
              "      <th>std</th>\n",
              "    </tr>\n",
              "  </thead>\n",
              "  <tbody>\n",
              "    <tr>\n",
              "      <th>0</th>\n",
              "      <td>2703186189652095</td>\n",
              "      <td>4.97</td>\n",
              "      <td>89.41</td>\n",
              "      <td>127.53</td>\n",
              "    </tr>\n",
              "    <tr>\n",
              "      <th>1</th>\n",
              "      <td>630423337322</td>\n",
              "      <td>107.23</td>\n",
              "      <td>56.08</td>\n",
              "      <td>159.20</td>\n",
              "    </tr>\n",
              "    <tr>\n",
              "      <th>2</th>\n",
              "      <td>38859492057661</td>\n",
              "      <td>220.11</td>\n",
              "      <td>69.92</td>\n",
              "      <td>116.69</td>\n",
              "    </tr>\n",
              "    <tr>\n",
              "      <th>3</th>\n",
              "      <td>3534093764340240</td>\n",
              "      <td>45.00</td>\n",
              "      <td>80.09</td>\n",
              "      <td>280.08</td>\n",
              "    </tr>\n",
              "    <tr>\n",
              "      <th>4</th>\n",
              "      <td>375534208663984</td>\n",
              "      <td>41.96</td>\n",
              "      <td>95.34</td>\n",
              "      <td>94.32</td>\n",
              "    </tr>\n",
              "  </tbody>\n",
              "</table>\n",
              "</div>\n",
              "      <button class=\"colab-df-convert\" onclick=\"convertToInteractive('df-a1e542bc-28d4-48e3-a602-630bdcd6b5a1')\"\n",
              "              title=\"Convert this dataframe to an interactive table.\"\n",
              "              style=\"display:none;\">\n",
              "        \n",
              "  <svg xmlns=\"http://www.w3.org/2000/svg\" height=\"24px\"viewBox=\"0 0 24 24\"\n",
              "       width=\"24px\">\n",
              "    <path d=\"M0 0h24v24H0V0z\" fill=\"none\"/>\n",
              "    <path d=\"M18.56 5.44l.94 2.06.94-2.06 2.06-.94-2.06-.94-.94-2.06-.94 2.06-2.06.94zm-11 1L8.5 8.5l.94-2.06 2.06-.94-2.06-.94L8.5 2.5l-.94 2.06-2.06.94zm10 10l.94 2.06.94-2.06 2.06-.94-2.06-.94-.94-2.06-.94 2.06-2.06.94z\"/><path d=\"M17.41 7.96l-1.37-1.37c-.4-.4-.92-.59-1.43-.59-.52 0-1.04.2-1.43.59L10.3 9.45l-7.72 7.72c-.78.78-.78 2.05 0 2.83L4 21.41c.39.39.9.59 1.41.59.51 0 1.02-.2 1.41-.59l7.78-7.78 2.81-2.81c.8-.78.8-2.07 0-2.86zM5.41 20L4 18.59l7.72-7.72 1.47 1.35L5.41 20z\"/>\n",
              "  </svg>\n",
              "      </button>\n",
              "      \n",
              "  <style>\n",
              "    .colab-df-container {\n",
              "      display:flex;\n",
              "      flex-wrap:wrap;\n",
              "      gap: 12px;\n",
              "    }\n",
              "\n",
              "    .colab-df-convert {\n",
              "      background-color: #E8F0FE;\n",
              "      border: none;\n",
              "      border-radius: 50%;\n",
              "      cursor: pointer;\n",
              "      display: none;\n",
              "      fill: #1967D2;\n",
              "      height: 32px;\n",
              "      padding: 0 0 0 0;\n",
              "      width: 32px;\n",
              "    }\n",
              "\n",
              "    .colab-df-convert:hover {\n",
              "      background-color: #E2EBFA;\n",
              "      box-shadow: 0px 1px 2px rgba(60, 64, 67, 0.3), 0px 1px 3px 1px rgba(60, 64, 67, 0.15);\n",
              "      fill: #174EA6;\n",
              "    }\n",
              "\n",
              "    [theme=dark] .colab-df-convert {\n",
              "      background-color: #3B4455;\n",
              "      fill: #D2E3FC;\n",
              "    }\n",
              "\n",
              "    [theme=dark] .colab-df-convert:hover {\n",
              "      background-color: #434B5C;\n",
              "      box-shadow: 0px 1px 3px 1px rgba(0, 0, 0, 0.15);\n",
              "      filter: drop-shadow(0px 1px 2px rgba(0, 0, 0, 0.3));\n",
              "      fill: #FFFFFF;\n",
              "    }\n",
              "  </style>\n",
              "\n",
              "      <script>\n",
              "        const buttonEl =\n",
              "          document.querySelector('#df-a1e542bc-28d4-48e3-a602-630bdcd6b5a1 button.colab-df-convert');\n",
              "        buttonEl.style.display =\n",
              "          google.colab.kernel.accessAllowed ? 'block' : 'none';\n",
              "\n",
              "        async function convertToInteractive(key) {\n",
              "          const element = document.querySelector('#df-a1e542bc-28d4-48e3-a602-630bdcd6b5a1');\n",
              "          const dataTable =\n",
              "            await google.colab.kernel.invokeFunction('convertToInteractive',\n",
              "                                                     [key], {});\n",
              "          if (!dataTable) return;\n",
              "\n",
              "          const docLinkHtml = 'Like what you see? Visit the ' +\n",
              "            '<a target=\"_blank\" href=https://colab.research.google.com/notebooks/data_table.ipynb>data table notebook</a>'\n",
              "            + ' to learn more about interactive tables.';\n",
              "          element.innerHTML = '';\n",
              "          dataTable['output_type'] = 'display_data';\n",
              "          await google.colab.output.renderOutput(dataTable, element);\n",
              "          const docLink = document.createElement('div');\n",
              "          docLink.innerHTML = docLinkHtml;\n",
              "          element.appendChild(docLink);\n",
              "        }\n",
              "      </script>\n",
              "    </div>\n",
              "  </div>\n",
              "  "
            ]
          },
          "metadata": {},
          "execution_count": 80
        }
      ]
    },
    {
      "cell_type": "code",
      "source": [
        "# z-score = (amt / mean) / std\n",
        "# 벡터화 연산 (행들을 열들간 연산)\n",
        "(df['amt'] - df['mean']) / df['std']"
      ],
      "metadata": {
        "colab": {
          "base_uri": "https://localhost:8080/"
        },
        "outputId": "46241719-a029-49fb-82d2-eed51a6c426b",
        "id": "Xgln-eOYb_vv"
      },
      "execution_count": 81,
      "outputs": [
        {
          "output_type": "execute_result",
          "data": {
            "text/plain": [
              "0         -0.66\n",
              "1          0.32\n",
              "2          1.29\n",
              "3         -0.13\n",
              "4         -0.57\n",
              "           ... \n",
              "1852389   -0.17\n",
              "1852390    0.36\n",
              "1852391   -0.02\n",
              "1852392   -0.59\n",
              "1852393   -0.15\n",
              "Length: 1852394, dtype: float64"
            ]
          },
          "metadata": {},
          "execution_count": 81
        }
      ]
    },
    {
      "cell_type": "code",
      "source": [
        "df.apply(lambda x: (x['amt'] - x['mean']) / x['std'],axis=1)"
      ],
      "metadata": {
        "colab": {
          "base_uri": "https://localhost:8080/"
        },
        "id": "tY7uCKGSZZT8",
        "outputId": "81907437-302b-483c-90e9-421212f0cfde"
      },
      "execution_count": 82,
      "outputs": [
        {
          "output_type": "execute_result",
          "data": {
            "text/plain": [
              "0         -0.66\n",
              "1          0.32\n",
              "2          1.29\n",
              "3         -0.13\n",
              "4         -0.57\n",
              "           ... \n",
              "1852389   -0.17\n",
              "1852390    0.36\n",
              "1852391   -0.02\n",
              "1852392   -0.59\n",
              "1852393   -0.15\n",
              "Length: 1852394, dtype: float64"
            ]
          },
          "metadata": {},
          "execution_count": 82
        }
      ]
    },
    {
      "cell_type": "code",
      "source": [
        "df['amt_z_score'] = (df['amt'] - df['mean']) / df['std']"
      ],
      "metadata": {
        "id": "363OtgFmZyun"
      },
      "execution_count": 83,
      "outputs": []
    },
    {
      "cell_type": "code",
      "source": [
        "# 특정 amt값이 평균 대비 얼마나 떨어져 있는지 (부호 : 어느 방향)\n",
        "df['amt_z_score'].head()"
      ],
      "metadata": {
        "colab": {
          "base_uri": "https://localhost:8080/"
        },
        "outputId": "9618cae4-f796-4260-c1c4-7d3c2a4cd07d",
        "id": "Eh-AdpmBb_vv"
      },
      "execution_count": 84,
      "outputs": [
        {
          "output_type": "execute_result",
          "data": {
            "text/plain": [
              "0   -0.66\n",
              "1    0.32\n",
              "2    1.29\n",
              "3   -0.13\n",
              "4   -0.57\n",
              "Name: amt_z_score, dtype: float64"
            ]
          },
          "metadata": {},
          "execution_count": 84
        }
      ]
    },
    {
      "cell_type": "code",
      "source": [
        "# z-score 산출을 위해 쓰인 다른 열들 drop\n",
        "df.drop(['mean', 'std'], axis=1, inplace=True)"
      ],
      "metadata": {
        "id": "q0oJ19NEb_vv"
      },
      "execution_count": 85,
      "outputs": []
    },
    {
      "cell_type": "markdown",
      "source": [
        "### 범주별 결제금액\n",
        "* cc_num -> 카드번호별 / category -> (상점의) 분류.카테고리.범주"
      ],
      "metadata": {
        "id": "quLJbhCyb_vw"
      }
    },
    {
      "cell_type": "code",
      "source": [
        "# 2개 이상의 그룹으로 나눌 때는 df.groupby([열 이름들...])\n",
        "category_info = df.groupby(['cc_num', 'category']).amt.agg(['mean', 'std'])\n",
        "category_info # cc_num, category별로 -> 평균값 (결제액), 표준편차"
      ],
      "metadata": {
        "colab": {
          "base_uri": "https://localhost:8080/",
          "height": 455
        },
        "outputId": "cb95299b-9930-40a3-9435-4ed6c176102b",
        "id": "Wsz1973pb_vw"
      },
      "execution_count": 86,
      "outputs": [
        {
          "output_type": "execute_result",
          "data": {
            "text/plain": [
              "                                    mean    std\n",
              "cc_num              category                   \n",
              "60416207185         entertainment  51.84  65.49\n",
              "                    food_dining    26.74  46.38\n",
              "                    gas_transport  59.78  15.76\n",
              "                    grocery_net    52.15  17.69\n",
              "                    grocery_pos   101.56  21.89\n",
              "...                                  ...    ...\n",
              "4992346398065154184 misc_pos       60.00 167.23\n",
              "                    personal_care  48.78  49.52\n",
              "                    shopping_net   86.28 217.05\n",
              "                    shopping_pos   64.21 169.24\n",
              "                    travel         70.53 496.59\n",
              "\n",
              "[13171 rows x 2 columns]"
            ],
            "text/html": [
              "\n",
              "  <div id=\"df-f1cf966f-9255-4875-8bf2-71d7eb65c52c\">\n",
              "    <div class=\"colab-df-container\">\n",
              "      <div>\n",
              "<style scoped>\n",
              "    .dataframe tbody tr th:only-of-type {\n",
              "        vertical-align: middle;\n",
              "    }\n",
              "\n",
              "    .dataframe tbody tr th {\n",
              "        vertical-align: top;\n",
              "    }\n",
              "\n",
              "    .dataframe thead th {\n",
              "        text-align: right;\n",
              "    }\n",
              "</style>\n",
              "<table border=\"1\" class=\"dataframe\">\n",
              "  <thead>\n",
              "    <tr style=\"text-align: right;\">\n",
              "      <th></th>\n",
              "      <th></th>\n",
              "      <th>mean</th>\n",
              "      <th>std</th>\n",
              "    </tr>\n",
              "    <tr>\n",
              "      <th>cc_num</th>\n",
              "      <th>category</th>\n",
              "      <th></th>\n",
              "      <th></th>\n",
              "    </tr>\n",
              "  </thead>\n",
              "  <tbody>\n",
              "    <tr>\n",
              "      <th rowspan=\"5\" valign=\"top\">60416207185</th>\n",
              "      <th>entertainment</th>\n",
              "      <td>51.84</td>\n",
              "      <td>65.49</td>\n",
              "    </tr>\n",
              "    <tr>\n",
              "      <th>food_dining</th>\n",
              "      <td>26.74</td>\n",
              "      <td>46.38</td>\n",
              "    </tr>\n",
              "    <tr>\n",
              "      <th>gas_transport</th>\n",
              "      <td>59.78</td>\n",
              "      <td>15.76</td>\n",
              "    </tr>\n",
              "    <tr>\n",
              "      <th>grocery_net</th>\n",
              "      <td>52.15</td>\n",
              "      <td>17.69</td>\n",
              "    </tr>\n",
              "    <tr>\n",
              "      <th>grocery_pos</th>\n",
              "      <td>101.56</td>\n",
              "      <td>21.89</td>\n",
              "    </tr>\n",
              "    <tr>\n",
              "      <th>...</th>\n",
              "      <th>...</th>\n",
              "      <td>...</td>\n",
              "      <td>...</td>\n",
              "    </tr>\n",
              "    <tr>\n",
              "      <th rowspan=\"5\" valign=\"top\">4992346398065154184</th>\n",
              "      <th>misc_pos</th>\n",
              "      <td>60.00</td>\n",
              "      <td>167.23</td>\n",
              "    </tr>\n",
              "    <tr>\n",
              "      <th>personal_care</th>\n",
              "      <td>48.78</td>\n",
              "      <td>49.52</td>\n",
              "    </tr>\n",
              "    <tr>\n",
              "      <th>shopping_net</th>\n",
              "      <td>86.28</td>\n",
              "      <td>217.05</td>\n",
              "    </tr>\n",
              "    <tr>\n",
              "      <th>shopping_pos</th>\n",
              "      <td>64.21</td>\n",
              "      <td>169.24</td>\n",
              "    </tr>\n",
              "    <tr>\n",
              "      <th>travel</th>\n",
              "      <td>70.53</td>\n",
              "      <td>496.59</td>\n",
              "    </tr>\n",
              "  </tbody>\n",
              "</table>\n",
              "<p>13171 rows × 2 columns</p>\n",
              "</div>\n",
              "      <button class=\"colab-df-convert\" onclick=\"convertToInteractive('df-f1cf966f-9255-4875-8bf2-71d7eb65c52c')\"\n",
              "              title=\"Convert this dataframe to an interactive table.\"\n",
              "              style=\"display:none;\">\n",
              "        \n",
              "  <svg xmlns=\"http://www.w3.org/2000/svg\" height=\"24px\"viewBox=\"0 0 24 24\"\n",
              "       width=\"24px\">\n",
              "    <path d=\"M0 0h24v24H0V0z\" fill=\"none\"/>\n",
              "    <path d=\"M18.56 5.44l.94 2.06.94-2.06 2.06-.94-2.06-.94-.94-2.06-.94 2.06-2.06.94zm-11 1L8.5 8.5l.94-2.06 2.06-.94-2.06-.94L8.5 2.5l-.94 2.06-2.06.94zm10 10l.94 2.06.94-2.06 2.06-.94-2.06-.94-.94-2.06-.94 2.06-2.06.94z\"/><path d=\"M17.41 7.96l-1.37-1.37c-.4-.4-.92-.59-1.43-.59-.52 0-1.04.2-1.43.59L10.3 9.45l-7.72 7.72c-.78.78-.78 2.05 0 2.83L4 21.41c.39.39.9.59 1.41.59.51 0 1.02-.2 1.41-.59l7.78-7.78 2.81-2.81c.8-.78.8-2.07 0-2.86zM5.41 20L4 18.59l7.72-7.72 1.47 1.35L5.41 20z\"/>\n",
              "  </svg>\n",
              "      </button>\n",
              "      \n",
              "  <style>\n",
              "    .colab-df-container {\n",
              "      display:flex;\n",
              "      flex-wrap:wrap;\n",
              "      gap: 12px;\n",
              "    }\n",
              "\n",
              "    .colab-df-convert {\n",
              "      background-color: #E8F0FE;\n",
              "      border: none;\n",
              "      border-radius: 50%;\n",
              "      cursor: pointer;\n",
              "      display: none;\n",
              "      fill: #1967D2;\n",
              "      height: 32px;\n",
              "      padding: 0 0 0 0;\n",
              "      width: 32px;\n",
              "    }\n",
              "\n",
              "    .colab-df-convert:hover {\n",
              "      background-color: #E2EBFA;\n",
              "      box-shadow: 0px 1px 2px rgba(60, 64, 67, 0.3), 0px 1px 3px 1px rgba(60, 64, 67, 0.15);\n",
              "      fill: #174EA6;\n",
              "    }\n",
              "\n",
              "    [theme=dark] .colab-df-convert {\n",
              "      background-color: #3B4455;\n",
              "      fill: #D2E3FC;\n",
              "    }\n",
              "\n",
              "    [theme=dark] .colab-df-convert:hover {\n",
              "      background-color: #434B5C;\n",
              "      box-shadow: 0px 1px 3px 1px rgba(0, 0, 0, 0.15);\n",
              "      filter: drop-shadow(0px 1px 2px rgba(0, 0, 0, 0.3));\n",
              "      fill: #FFFFFF;\n",
              "    }\n",
              "  </style>\n",
              "\n",
              "      <script>\n",
              "        const buttonEl =\n",
              "          document.querySelector('#df-f1cf966f-9255-4875-8bf2-71d7eb65c52c button.colab-df-convert');\n",
              "        buttonEl.style.display =\n",
              "          google.colab.kernel.accessAllowed ? 'block' : 'none';\n",
              "\n",
              "        async function convertToInteractive(key) {\n",
              "          const element = document.querySelector('#df-f1cf966f-9255-4875-8bf2-71d7eb65c52c');\n",
              "          const dataTable =\n",
              "            await google.colab.kernel.invokeFunction('convertToInteractive',\n",
              "                                                     [key], {});\n",
              "          if (!dataTable) return;\n",
              "\n",
              "          const docLinkHtml = 'Like what you see? Visit the ' +\n",
              "            '<a target=\"_blank\" href=https://colab.research.google.com/notebooks/data_table.ipynb>data table notebook</a>'\n",
              "            + ' to learn more about interactive tables.';\n",
              "          element.innerHTML = '';\n",
              "          dataTable['output_type'] = 'display_data';\n",
              "          await google.colab.output.renderOutput(dataTable, element);\n",
              "          const docLink = document.createElement('div');\n",
              "          docLink.innerHTML = docLinkHtml;\n",
              "          element.appendChild(docLink);\n",
              "        }\n",
              "      </script>\n",
              "    </div>\n",
              "  </div>\n",
              "  "
            ]
          },
          "metadata": {},
          "execution_count": 86
        }
      ]
    },
    {
      "cell_type": "code",
      "source": [
        "# df와 category_info를 합쳐주겠다 -> cc_num과 category를 기준으로\n",
        "df = df.merge(category_info, left_on=['cc_num', 'category'], right_index=True, how='left')\n",
        "# mean, std\n",
        "# reset index 했다?\n",
        "# df = df.merge(category_info, on=['cc_num', 'category'], how='left')"
      ],
      "metadata": {
        "id": "kUssTlkgb_vw"
      },
      "execution_count": 87,
      "outputs": []
    },
    {
      "cell_type": "code",
      "source": [
        "# cc_num, category / mean, std / amt => z-score\n",
        "df[['cc_num', 'category', 'amt', 'mean', 'std']].head()"
      ],
      "metadata": {
        "colab": {
          "base_uri": "https://localhost:8080/",
          "height": 206
        },
        "outputId": "54585e43-37bd-4893-9632-ed19e50138b4",
        "id": "LthFYTyab_vw"
      },
      "execution_count": 88,
      "outputs": [
        {
          "output_type": "execute_result",
          "data": {
            "text/plain": [
              "             cc_num       category    amt  mean    std\n",
              "0  2703186189652095       misc_net   4.97 84.86 116.07\n",
              "1      630423337322    grocery_pos 107.23 99.64  23.90\n",
              "2    38859492057661  entertainment 220.11 46.65  60.39\n",
              "3  3534093764340240  gas_transport  45.00 61.54  15.75\n",
              "4   375534208663984       misc_pos  41.96 35.48   4.93"
            ],
            "text/html": [
              "\n",
              "  <div id=\"df-5a53e5ac-bbc4-4a75-9e04-d5db8189cb0a\">\n",
              "    <div class=\"colab-df-container\">\n",
              "      <div>\n",
              "<style scoped>\n",
              "    .dataframe tbody tr th:only-of-type {\n",
              "        vertical-align: middle;\n",
              "    }\n",
              "\n",
              "    .dataframe tbody tr th {\n",
              "        vertical-align: top;\n",
              "    }\n",
              "\n",
              "    .dataframe thead th {\n",
              "        text-align: right;\n",
              "    }\n",
              "</style>\n",
              "<table border=\"1\" class=\"dataframe\">\n",
              "  <thead>\n",
              "    <tr style=\"text-align: right;\">\n",
              "      <th></th>\n",
              "      <th>cc_num</th>\n",
              "      <th>category</th>\n",
              "      <th>amt</th>\n",
              "      <th>mean</th>\n",
              "      <th>std</th>\n",
              "    </tr>\n",
              "  </thead>\n",
              "  <tbody>\n",
              "    <tr>\n",
              "      <th>0</th>\n",
              "      <td>2703186189652095</td>\n",
              "      <td>misc_net</td>\n",
              "      <td>4.97</td>\n",
              "      <td>84.86</td>\n",
              "      <td>116.07</td>\n",
              "    </tr>\n",
              "    <tr>\n",
              "      <th>1</th>\n",
              "      <td>630423337322</td>\n",
              "      <td>grocery_pos</td>\n",
              "      <td>107.23</td>\n",
              "      <td>99.64</td>\n",
              "      <td>23.90</td>\n",
              "    </tr>\n",
              "    <tr>\n",
              "      <th>2</th>\n",
              "      <td>38859492057661</td>\n",
              "      <td>entertainment</td>\n",
              "      <td>220.11</td>\n",
              "      <td>46.65</td>\n",
              "      <td>60.39</td>\n",
              "    </tr>\n",
              "    <tr>\n",
              "      <th>3</th>\n",
              "      <td>3534093764340240</td>\n",
              "      <td>gas_transport</td>\n",
              "      <td>45.00</td>\n",
              "      <td>61.54</td>\n",
              "      <td>15.75</td>\n",
              "    </tr>\n",
              "    <tr>\n",
              "      <th>4</th>\n",
              "      <td>375534208663984</td>\n",
              "      <td>misc_pos</td>\n",
              "      <td>41.96</td>\n",
              "      <td>35.48</td>\n",
              "      <td>4.93</td>\n",
              "    </tr>\n",
              "  </tbody>\n",
              "</table>\n",
              "</div>\n",
              "      <button class=\"colab-df-convert\" onclick=\"convertToInteractive('df-5a53e5ac-bbc4-4a75-9e04-d5db8189cb0a')\"\n",
              "              title=\"Convert this dataframe to an interactive table.\"\n",
              "              style=\"display:none;\">\n",
              "        \n",
              "  <svg xmlns=\"http://www.w3.org/2000/svg\" height=\"24px\"viewBox=\"0 0 24 24\"\n",
              "       width=\"24px\">\n",
              "    <path d=\"M0 0h24v24H0V0z\" fill=\"none\"/>\n",
              "    <path d=\"M18.56 5.44l.94 2.06.94-2.06 2.06-.94-2.06-.94-.94-2.06-.94 2.06-2.06.94zm-11 1L8.5 8.5l.94-2.06 2.06-.94-2.06-.94L8.5 2.5l-.94 2.06-2.06.94zm10 10l.94 2.06.94-2.06 2.06-.94-2.06-.94-.94-2.06-.94 2.06-2.06.94z\"/><path d=\"M17.41 7.96l-1.37-1.37c-.4-.4-.92-.59-1.43-.59-.52 0-1.04.2-1.43.59L10.3 9.45l-7.72 7.72c-.78.78-.78 2.05 0 2.83L4 21.41c.39.39.9.59 1.41.59.51 0 1.02-.2 1.41-.59l7.78-7.78 2.81-2.81c.8-.78.8-2.07 0-2.86zM5.41 20L4 18.59l7.72-7.72 1.47 1.35L5.41 20z\"/>\n",
              "  </svg>\n",
              "      </button>\n",
              "      \n",
              "  <style>\n",
              "    .colab-df-container {\n",
              "      display:flex;\n",
              "      flex-wrap:wrap;\n",
              "      gap: 12px;\n",
              "    }\n",
              "\n",
              "    .colab-df-convert {\n",
              "      background-color: #E8F0FE;\n",
              "      border: none;\n",
              "      border-radius: 50%;\n",
              "      cursor: pointer;\n",
              "      display: none;\n",
              "      fill: #1967D2;\n",
              "      height: 32px;\n",
              "      padding: 0 0 0 0;\n",
              "      width: 32px;\n",
              "    }\n",
              "\n",
              "    .colab-df-convert:hover {\n",
              "      background-color: #E2EBFA;\n",
              "      box-shadow: 0px 1px 2px rgba(60, 64, 67, 0.3), 0px 1px 3px 1px rgba(60, 64, 67, 0.15);\n",
              "      fill: #174EA6;\n",
              "    }\n",
              "\n",
              "    [theme=dark] .colab-df-convert {\n",
              "      background-color: #3B4455;\n",
              "      fill: #D2E3FC;\n",
              "    }\n",
              "\n",
              "    [theme=dark] .colab-df-convert:hover {\n",
              "      background-color: #434B5C;\n",
              "      box-shadow: 0px 1px 3px 1px rgba(0, 0, 0, 0.15);\n",
              "      filter: drop-shadow(0px 1px 2px rgba(0, 0, 0, 0.3));\n",
              "      fill: #FFFFFF;\n",
              "    }\n",
              "  </style>\n",
              "\n",
              "      <script>\n",
              "        const buttonEl =\n",
              "          document.querySelector('#df-5a53e5ac-bbc4-4a75-9e04-d5db8189cb0a button.colab-df-convert');\n",
              "        buttonEl.style.display =\n",
              "          google.colab.kernel.accessAllowed ? 'block' : 'none';\n",
              "\n",
              "        async function convertToInteractive(key) {\n",
              "          const element = document.querySelector('#df-5a53e5ac-bbc4-4a75-9e04-d5db8189cb0a');\n",
              "          const dataTable =\n",
              "            await google.colab.kernel.invokeFunction('convertToInteractive',\n",
              "                                                     [key], {});\n",
              "          if (!dataTable) return;\n",
              "\n",
              "          const docLinkHtml = 'Like what you see? Visit the ' +\n",
              "            '<a target=\"_blank\" href=https://colab.research.google.com/notebooks/data_table.ipynb>data table notebook</a>'\n",
              "            + ' to learn more about interactive tables.';\n",
              "          element.innerHTML = '';\n",
              "          dataTable['output_type'] = 'display_data';\n",
              "          await google.colab.output.renderOutput(dataTable, element);\n",
              "          const docLink = document.createElement('div');\n",
              "          docLink.innerHTML = docLinkHtml;\n",
              "          element.appendChild(docLink);\n",
              "        }\n",
              "      </script>\n",
              "    </div>\n",
              "  </div>\n",
              "  "
            ]
          },
          "metadata": {},
          "execution_count": 88
        }
      ]
    },
    {
      "cell_type": "code",
      "source": [
        "# 범주별 결제금액 z-score\n",
        "df['cat_z_score'] = (df['amt'] - df['mean']) / df['std']"
      ],
      "metadata": {
        "id": "LNfbeayPb_vw"
      },
      "execution_count": 89,
      "outputs": []
    },
    {
      "cell_type": "code",
      "source": [
        "df['cat_z_score'].head() # 1.69 (95%), 2.58 (99%)"
      ],
      "metadata": {
        "colab": {
          "base_uri": "https://localhost:8080/"
        },
        "outputId": "2c225eb3-fe3f-45e6-d3fc-71be51df66a3",
        "id": "v2pRT7KYcR4g"
      },
      "execution_count": 90,
      "outputs": [
        {
          "output_type": "execute_result",
          "data": {
            "text/plain": [
              "0   -0.69\n",
              "1    0.32\n",
              "2    2.87\n",
              "3   -1.05\n",
              "4    1.31\n",
              "Name: cat_z_score, dtype: float64"
            ]
          },
          "metadata": {},
          "execution_count": 90
        }
      ]
    },
    {
      "cell_type": "code",
      "source": [
        "# z-score 산출을 위해 쓰인 다른 열들 drop\n",
        "df.drop(['mean', 'std'], axis=1, inplace=True)"
      ],
      "metadata": {
        "id": "71mFm5F7cR4h"
      },
      "execution_count": 91,
      "outputs": []
    },
    {
      "cell_type": "markdown",
      "source": [
        "### 위.경도 -> 거리 산출"
      ],
      "metadata": {
        "id": "KHvjQBKXhZOI"
      }
    },
    {
      "cell_type": "code",
      "source": [
        "# 두 지점 간의 거리 (위경도)\n",
        "# latitude(위도, lat), longitude(경도, long, lng)\n",
        "# geopy.distance.distance((lat1, lng1), (lat2, lng2)) -> 거리"
      ],
      "metadata": {
        "id": "h91E4kVrhXdb"
      },
      "execution_count": 92,
      "outputs": []
    },
    {
      "cell_type": "code",
      "source": [
        "# coordinate(좌표) - 위,경도.\n",
        "# -- 좌표 : (위도, 경도) - latitude : 북/남 | logitude : 동/서\n",
        "# 1. 상점 위경도 (merchant)\n",
        "# 2. 고객 위경도 (customer)\n",
        "# zip -> 2개 이상의 리스트를 원소 순서대로 묶어주겠음\n",
        "df['merch_coord'] = pd.Series(zip(df.merch_lat, df.merch_long))\n",
        "df['cust_coord'] = pd.Series(zip(df['lat'], df['long']))"
      ],
      "metadata": {
        "id": "-JaTUhGbhwhO"
      },
      "execution_count": 96,
      "outputs": []
    },
    {
      "cell_type": "code",
      "source": [
        "import geopy.distance # 거리 구하는 파이썬 라이브러리\n",
        "#  df.apply(lambda x: geopy.distance.distance(x['merch_coord'], x['cust_coord']).km, axis=1)\n",
        "def get_distance(row): \n",
        "    coord1 = row['merch_coord'] # [merch_lat, merch_long] / 상점 위경도\n",
        "    coord2 = row['cust_coord'] # [lat, long] / 고객 위경도\n",
        "    return geopy.distance.distance(coord1, coord2).km"
      ],
      "metadata": {
        "id": "Q3KWPY1PijgA"
      },
      "execution_count": 97,
      "outputs": []
    },
    {
      "cell_type": "code",
      "source": [
        "df['distance'] = df.apply(get_distance, axis=1)"
      ],
      "metadata": {
        "id": "c0e0Gd5Eia1q"
      },
      "execution_count": 98,
      "outputs": []
    },
    {
      "cell_type": "code",
      "source": [
        "df['distance'].head() # km"
      ],
      "metadata": {
        "colab": {
          "base_uri": "https://localhost:8080/"
        },
        "id": "55g62jz8jUbS",
        "outputId": "6ea532e8-52f7-4bb4-c830-78f1b02e4640"
      },
      "execution_count": 99,
      "outputs": [
        {
          "output_type": "execute_result",
          "data": {
            "text/plain": [
              "0    78.77\n",
              "1    30.22\n",
              "2   108.10\n",
              "3    95.69\n",
              "4    77.70\n",
              "Name: distance, dtype: float64"
            ]
          },
          "metadata": {},
          "execution_count": 99
        }
      ]
    },
    {
      "cell_type": "code",
      "source": [
        "df2 = df.copy()"
      ],
      "metadata": {
        "id": "acH9g2a_3hp-"
      },
      "execution_count": 100,
      "outputs": []
    },
    {
      "cell_type": "code",
      "source": [
        "# .km 빼먹고 했다?\n",
        "# 78.77 km => 78.77 / km => 78.77 (string) => float\n",
        "# df['distance'] = df['distance'].str.split(expand=True)[0].astype('float64')"
      ],
      "metadata": {
        "id": "NZ47haBE3jKe"
      },
      "execution_count": 101,
      "outputs": []
    },
    {
      "cell_type": "code",
      "source": [
        "# 거주 위치 - 결제 위치가 너무 차이난다?\n",
        "# z-점수\n",
        "distance_info = df.groupby('cc_num').distance.agg(['mean', 'std'])"
      ],
      "metadata": {
        "id": "Tzvnvf7G4Mpe"
      },
      "execution_count": 102,
      "outputs": []
    },
    {
      "cell_type": "code",
      "source": [
        "distance_info"
      ],
      "metadata": {
        "colab": {
          "base_uri": "https://localhost:8080/",
          "height": 455
        },
        "id": "ZfZLA4Va4gQO",
        "outputId": "1cf816d8-616b-417b-a00a-79f22dfae8f1"
      },
      "execution_count": 103,
      "outputs": [
        {
          "output_type": "execute_result",
          "data": {
            "text/plain": [
              "                     mean   std\n",
              "cc_num                         \n",
              "60416207185         73.53 28.70\n",
              "60422928733         78.99 29.30\n",
              "60423098130         77.83 28.19\n",
              "60427851591         75.71 28.98\n",
              "60487002085         79.44 28.77\n",
              "...                   ...   ...\n",
              "4958589671582726883 76.74 29.12\n",
              "4973530368125489546 78.75 29.45\n",
              "4980323467523543940 72.27 28.28\n",
              "4989847570577635369 76.97 29.39\n",
              "4992346398065154184 74.86 29.07\n",
              "\n",
              "[999 rows x 2 columns]"
            ],
            "text/html": [
              "\n",
              "  <div id=\"df-66787732-306e-4ba4-b50b-72707f258b41\">\n",
              "    <div class=\"colab-df-container\">\n",
              "      <div>\n",
              "<style scoped>\n",
              "    .dataframe tbody tr th:only-of-type {\n",
              "        vertical-align: middle;\n",
              "    }\n",
              "\n",
              "    .dataframe tbody tr th {\n",
              "        vertical-align: top;\n",
              "    }\n",
              "\n",
              "    .dataframe thead th {\n",
              "        text-align: right;\n",
              "    }\n",
              "</style>\n",
              "<table border=\"1\" class=\"dataframe\">\n",
              "  <thead>\n",
              "    <tr style=\"text-align: right;\">\n",
              "      <th></th>\n",
              "      <th>mean</th>\n",
              "      <th>std</th>\n",
              "    </tr>\n",
              "    <tr>\n",
              "      <th>cc_num</th>\n",
              "      <th></th>\n",
              "      <th></th>\n",
              "    </tr>\n",
              "  </thead>\n",
              "  <tbody>\n",
              "    <tr>\n",
              "      <th>60416207185</th>\n",
              "      <td>73.53</td>\n",
              "      <td>28.70</td>\n",
              "    </tr>\n",
              "    <tr>\n",
              "      <th>60422928733</th>\n",
              "      <td>78.99</td>\n",
              "      <td>29.30</td>\n",
              "    </tr>\n",
              "    <tr>\n",
              "      <th>60423098130</th>\n",
              "      <td>77.83</td>\n",
              "      <td>28.19</td>\n",
              "    </tr>\n",
              "    <tr>\n",
              "      <th>60427851591</th>\n",
              "      <td>75.71</td>\n",
              "      <td>28.98</td>\n",
              "    </tr>\n",
              "    <tr>\n",
              "      <th>60487002085</th>\n",
              "      <td>79.44</td>\n",
              "      <td>28.77</td>\n",
              "    </tr>\n",
              "    <tr>\n",
              "      <th>...</th>\n",
              "      <td>...</td>\n",
              "      <td>...</td>\n",
              "    </tr>\n",
              "    <tr>\n",
              "      <th>4958589671582726883</th>\n",
              "      <td>76.74</td>\n",
              "      <td>29.12</td>\n",
              "    </tr>\n",
              "    <tr>\n",
              "      <th>4973530368125489546</th>\n",
              "      <td>78.75</td>\n",
              "      <td>29.45</td>\n",
              "    </tr>\n",
              "    <tr>\n",
              "      <th>4980323467523543940</th>\n",
              "      <td>72.27</td>\n",
              "      <td>28.28</td>\n",
              "    </tr>\n",
              "    <tr>\n",
              "      <th>4989847570577635369</th>\n",
              "      <td>76.97</td>\n",
              "      <td>29.39</td>\n",
              "    </tr>\n",
              "    <tr>\n",
              "      <th>4992346398065154184</th>\n",
              "      <td>74.86</td>\n",
              "      <td>29.07</td>\n",
              "    </tr>\n",
              "  </tbody>\n",
              "</table>\n",
              "<p>999 rows × 2 columns</p>\n",
              "</div>\n",
              "      <button class=\"colab-df-convert\" onclick=\"convertToInteractive('df-66787732-306e-4ba4-b50b-72707f258b41')\"\n",
              "              title=\"Convert this dataframe to an interactive table.\"\n",
              "              style=\"display:none;\">\n",
              "        \n",
              "  <svg xmlns=\"http://www.w3.org/2000/svg\" height=\"24px\"viewBox=\"0 0 24 24\"\n",
              "       width=\"24px\">\n",
              "    <path d=\"M0 0h24v24H0V0z\" fill=\"none\"/>\n",
              "    <path d=\"M18.56 5.44l.94 2.06.94-2.06 2.06-.94-2.06-.94-.94-2.06-.94 2.06-2.06.94zm-11 1L8.5 8.5l.94-2.06 2.06-.94-2.06-.94L8.5 2.5l-.94 2.06-2.06.94zm10 10l.94 2.06.94-2.06 2.06-.94-2.06-.94-.94-2.06-.94 2.06-2.06.94z\"/><path d=\"M17.41 7.96l-1.37-1.37c-.4-.4-.92-.59-1.43-.59-.52 0-1.04.2-1.43.59L10.3 9.45l-7.72 7.72c-.78.78-.78 2.05 0 2.83L4 21.41c.39.39.9.59 1.41.59.51 0 1.02-.2 1.41-.59l7.78-7.78 2.81-2.81c.8-.78.8-2.07 0-2.86zM5.41 20L4 18.59l7.72-7.72 1.47 1.35L5.41 20z\"/>\n",
              "  </svg>\n",
              "      </button>\n",
              "      \n",
              "  <style>\n",
              "    .colab-df-container {\n",
              "      display:flex;\n",
              "      flex-wrap:wrap;\n",
              "      gap: 12px;\n",
              "    }\n",
              "\n",
              "    .colab-df-convert {\n",
              "      background-color: #E8F0FE;\n",
              "      border: none;\n",
              "      border-radius: 50%;\n",
              "      cursor: pointer;\n",
              "      display: none;\n",
              "      fill: #1967D2;\n",
              "      height: 32px;\n",
              "      padding: 0 0 0 0;\n",
              "      width: 32px;\n",
              "    }\n",
              "\n",
              "    .colab-df-convert:hover {\n",
              "      background-color: #E2EBFA;\n",
              "      box-shadow: 0px 1px 2px rgba(60, 64, 67, 0.3), 0px 1px 3px 1px rgba(60, 64, 67, 0.15);\n",
              "      fill: #174EA6;\n",
              "    }\n",
              "\n",
              "    [theme=dark] .colab-df-convert {\n",
              "      background-color: #3B4455;\n",
              "      fill: #D2E3FC;\n",
              "    }\n",
              "\n",
              "    [theme=dark] .colab-df-convert:hover {\n",
              "      background-color: #434B5C;\n",
              "      box-shadow: 0px 1px 3px 1px rgba(0, 0, 0, 0.15);\n",
              "      filter: drop-shadow(0px 1px 2px rgba(0, 0, 0, 0.3));\n",
              "      fill: #FFFFFF;\n",
              "    }\n",
              "  </style>\n",
              "\n",
              "      <script>\n",
              "        const buttonEl =\n",
              "          document.querySelector('#df-66787732-306e-4ba4-b50b-72707f258b41 button.colab-df-convert');\n",
              "        buttonEl.style.display =\n",
              "          google.colab.kernel.accessAllowed ? 'block' : 'none';\n",
              "\n",
              "        async function convertToInteractive(key) {\n",
              "          const element = document.querySelector('#df-66787732-306e-4ba4-b50b-72707f258b41');\n",
              "          const dataTable =\n",
              "            await google.colab.kernel.invokeFunction('convertToInteractive',\n",
              "                                                     [key], {});\n",
              "          if (!dataTable) return;\n",
              "\n",
              "          const docLinkHtml = 'Like what you see? Visit the ' +\n",
              "            '<a target=\"_blank\" href=https://colab.research.google.com/notebooks/data_table.ipynb>data table notebook</a>'\n",
              "            + ' to learn more about interactive tables.';\n",
              "          element.innerHTML = '';\n",
              "          dataTable['output_type'] = 'display_data';\n",
              "          await google.colab.output.renderOutput(dataTable, element);\n",
              "          const docLink = document.createElement('div');\n",
              "          docLink.innerHTML = docLinkHtml;\n",
              "          element.appendChild(docLink);\n",
              "        }\n",
              "      </script>\n",
              "    </div>\n",
              "  </div>\n",
              "  "
            ]
          },
          "metadata": {},
          "execution_count": 103
        }
      ]
    },
    {
      "cell_type": "code",
      "source": [
        "df = df.merge(distance_info, left_on='cc_num', right_index=True, how='left')\n",
        "df"
      ],
      "metadata": {
        "id": "QbwYsMJQ4oVv",
        "colab": {
          "base_uri": "https://localhost:8080/",
          "height": 730
        },
        "outputId": "a610bb82-540c-4b9a-fb49-bad3dce876d1"
      },
      "execution_count": 104,
      "outputs": [
        {
          "output_type": "execute_result",
          "data": {
            "text/plain": [
              "        trans_date_trans_time            cc_num  \\\n",
              "0         2019-01-01 00:00:18  2703186189652095   \n",
              "1         2019-01-01 00:00:44      630423337322   \n",
              "2         2019-01-01 00:00:51    38859492057661   \n",
              "3         2019-01-01 00:01:16  3534093764340240   \n",
              "4         2019-01-01 00:03:06   375534208663984   \n",
              "...                       ...               ...   \n",
              "1852389   2020-12-31 23:59:07    30560609640617   \n",
              "1852390   2020-12-31 23:59:09  3556613125071656   \n",
              "1852391   2020-12-31 23:59:15  6011724471098086   \n",
              "1852392   2020-12-31 23:59:24     4079773899158   \n",
              "1852393   2020-12-31 23:59:34  4170689372027579   \n",
              "\n",
              "                                   merchant        category    amt gender  \\\n",
              "0                fraud_Rippin, Kub and Mann        misc_net   4.97      F   \n",
              "1           fraud_Heller, Gutmann and Zieme     grocery_pos 107.23      F   \n",
              "2                      fraud_Lind-Buckridge   entertainment 220.11      M   \n",
              "3        fraud_Kutch, Hermiston and Farrell   gas_transport  45.00      M   \n",
              "4                       fraud_Keeling-Crist        misc_pos  41.96      M   \n",
              "...                                     ...             ...    ...    ...   \n",
              "1852389               fraud_Reilly and Sons  health_fitness  43.77      M   \n",
              "1852390                fraud_Hoppe-Parisian       kids_pets 111.84      M   \n",
              "1852391                     fraud_Rau-Robel       kids_pets  86.88      F   \n",
              "1852392               fraud_Breitenberg LLC          travel   7.99      M   \n",
              "1852393                   fraud_Dare-Marvin   entertainment  38.13      M   \n",
              "\n",
              "          lat    long  city_pop                                job  ...  \\\n",
              "0       36.08  -81.18      3495          Psychologist, counselling  ...   \n",
              "1       48.89 -118.21       149  Special educational needs teacher  ...   \n",
              "2       42.18 -112.26      4154        Nature conservation officer  ...   \n",
              "3       46.23 -112.11      1939                    Patent attorney  ...   \n",
              "4       38.42  -79.46        99     Dance movement psychotherapist  ...   \n",
              "...       ...     ...       ...                                ...  ...   \n",
              "1852389 40.49  -91.89       519                       Town planner  ...   \n",
              "1852390 29.04  -95.44     28739                     Futures trader  ...   \n",
              "1852391 46.20 -118.90      3684                           Musician  ...   \n",
              "1852392 44.63 -116.45       129                       Cartographer  ...   \n",
              "1852393 35.67  -97.48    116001                        Media buyer  ...   \n",
              "\n",
              "        merch_lat  merch_long  is_fraud  amt_z_score  cat_z_score  \\\n",
              "0           36.01      -82.05         0        -0.66        -0.69   \n",
              "1           49.16     -118.19         0         0.32         0.32   \n",
              "2           43.15     -112.15         0         1.29         2.87   \n",
              "3           47.03     -112.56         0        -0.13        -1.05   \n",
              "4           38.67      -78.63         0        -0.57         1.31   \n",
              "...           ...         ...       ...          ...          ...   \n",
              "1852389     39.95      -91.33         0        -0.17        -0.05   \n",
              "1852390     29.66      -96.19         0         0.36         1.16   \n",
              "1852391     46.66     -119.72         0        -0.02         0.44   \n",
              "1852392     44.47     -117.08         0        -0.59        -0.01   \n",
              "1852393     36.21      -97.04         0        -0.15        -0.38   \n",
              "\n",
              "                      merch_coord            cust_coord distance  mean   std  \n",
              "0         (36.011293, -82.048315)   (36.0788, -81.1781)    78.77 77.84 30.07  \n",
              "1        (49.159047, -118.186462)  (48.8878, -118.2105)    30.22 71.66 28.09  \n",
              "2        (43.150704, -112.154481)   (42.1808, -112.262)   108.10 74.58 28.88  \n",
              "3        (47.034331, -112.561071)  (46.2306, -112.1138)    95.69 72.05 28.89  \n",
              "4         (38.674999, -78.632459)   (38.4207, -79.4629)    77.70 75.84 29.15  \n",
              "...                           ...                   ...      ...   ...   ...  \n",
              "1852389   (39.946837, -91.333331)   (40.4931, -91.8912)    77.03 75.52 28.96  \n",
              "1852390   (29.661049, -96.186633)   (29.0393, -95.4401)   100.02 79.17 30.05  \n",
              "1852391   (46.65834, -119.715054)  (46.1966, -118.9017)    80.89 72.66 28.55  \n",
              "1852392  (44.470525, -117.080888)  (44.6255, -116.4493)    53.06 73.69 28.26  \n",
              "1852393   (36.210097, -97.036372)   (35.6665, -97.4798)    72.38 77.09 29.52  \n",
              "\n",
              "[1852394 rows x 21 columns]"
            ],
            "text/html": [
              "\n",
              "  <div id=\"df-3551fc0b-3739-4c4f-ad30-98512688453e\">\n",
              "    <div class=\"colab-df-container\">\n",
              "      <div>\n",
              "<style scoped>\n",
              "    .dataframe tbody tr th:only-of-type {\n",
              "        vertical-align: middle;\n",
              "    }\n",
              "\n",
              "    .dataframe tbody tr th {\n",
              "        vertical-align: top;\n",
              "    }\n",
              "\n",
              "    .dataframe thead th {\n",
              "        text-align: right;\n",
              "    }\n",
              "</style>\n",
              "<table border=\"1\" class=\"dataframe\">\n",
              "  <thead>\n",
              "    <tr style=\"text-align: right;\">\n",
              "      <th></th>\n",
              "      <th>trans_date_trans_time</th>\n",
              "      <th>cc_num</th>\n",
              "      <th>merchant</th>\n",
              "      <th>category</th>\n",
              "      <th>amt</th>\n",
              "      <th>gender</th>\n",
              "      <th>lat</th>\n",
              "      <th>long</th>\n",
              "      <th>city_pop</th>\n",
              "      <th>job</th>\n",
              "      <th>...</th>\n",
              "      <th>merch_lat</th>\n",
              "      <th>merch_long</th>\n",
              "      <th>is_fraud</th>\n",
              "      <th>amt_z_score</th>\n",
              "      <th>cat_z_score</th>\n",
              "      <th>merch_coord</th>\n",
              "      <th>cust_coord</th>\n",
              "      <th>distance</th>\n",
              "      <th>mean</th>\n",
              "      <th>std</th>\n",
              "    </tr>\n",
              "  </thead>\n",
              "  <tbody>\n",
              "    <tr>\n",
              "      <th>0</th>\n",
              "      <td>2019-01-01 00:00:18</td>\n",
              "      <td>2703186189652095</td>\n",
              "      <td>fraud_Rippin, Kub and Mann</td>\n",
              "      <td>misc_net</td>\n",
              "      <td>4.97</td>\n",
              "      <td>F</td>\n",
              "      <td>36.08</td>\n",
              "      <td>-81.18</td>\n",
              "      <td>3495</td>\n",
              "      <td>Psychologist, counselling</td>\n",
              "      <td>...</td>\n",
              "      <td>36.01</td>\n",
              "      <td>-82.05</td>\n",
              "      <td>0</td>\n",
              "      <td>-0.66</td>\n",
              "      <td>-0.69</td>\n",
              "      <td>(36.011293, -82.048315)</td>\n",
              "      <td>(36.0788, -81.1781)</td>\n",
              "      <td>78.77</td>\n",
              "      <td>77.84</td>\n",
              "      <td>30.07</td>\n",
              "    </tr>\n",
              "    <tr>\n",
              "      <th>1</th>\n",
              "      <td>2019-01-01 00:00:44</td>\n",
              "      <td>630423337322</td>\n",
              "      <td>fraud_Heller, Gutmann and Zieme</td>\n",
              "      <td>grocery_pos</td>\n",
              "      <td>107.23</td>\n",
              "      <td>F</td>\n",
              "      <td>48.89</td>\n",
              "      <td>-118.21</td>\n",
              "      <td>149</td>\n",
              "      <td>Special educational needs teacher</td>\n",
              "      <td>...</td>\n",
              "      <td>49.16</td>\n",
              "      <td>-118.19</td>\n",
              "      <td>0</td>\n",
              "      <td>0.32</td>\n",
              "      <td>0.32</td>\n",
              "      <td>(49.159047, -118.186462)</td>\n",
              "      <td>(48.8878, -118.2105)</td>\n",
              "      <td>30.22</td>\n",
              "      <td>71.66</td>\n",
              "      <td>28.09</td>\n",
              "    </tr>\n",
              "    <tr>\n",
              "      <th>2</th>\n",
              "      <td>2019-01-01 00:00:51</td>\n",
              "      <td>38859492057661</td>\n",
              "      <td>fraud_Lind-Buckridge</td>\n",
              "      <td>entertainment</td>\n",
              "      <td>220.11</td>\n",
              "      <td>M</td>\n",
              "      <td>42.18</td>\n",
              "      <td>-112.26</td>\n",
              "      <td>4154</td>\n",
              "      <td>Nature conservation officer</td>\n",
              "      <td>...</td>\n",
              "      <td>43.15</td>\n",
              "      <td>-112.15</td>\n",
              "      <td>0</td>\n",
              "      <td>1.29</td>\n",
              "      <td>2.87</td>\n",
              "      <td>(43.150704, -112.154481)</td>\n",
              "      <td>(42.1808, -112.262)</td>\n",
              "      <td>108.10</td>\n",
              "      <td>74.58</td>\n",
              "      <td>28.88</td>\n",
              "    </tr>\n",
              "    <tr>\n",
              "      <th>3</th>\n",
              "      <td>2019-01-01 00:01:16</td>\n",
              "      <td>3534093764340240</td>\n",
              "      <td>fraud_Kutch, Hermiston and Farrell</td>\n",
              "      <td>gas_transport</td>\n",
              "      <td>45.00</td>\n",
              "      <td>M</td>\n",
              "      <td>46.23</td>\n",
              "      <td>-112.11</td>\n",
              "      <td>1939</td>\n",
              "      <td>Patent attorney</td>\n",
              "      <td>...</td>\n",
              "      <td>47.03</td>\n",
              "      <td>-112.56</td>\n",
              "      <td>0</td>\n",
              "      <td>-0.13</td>\n",
              "      <td>-1.05</td>\n",
              "      <td>(47.034331, -112.561071)</td>\n",
              "      <td>(46.2306, -112.1138)</td>\n",
              "      <td>95.69</td>\n",
              "      <td>72.05</td>\n",
              "      <td>28.89</td>\n",
              "    </tr>\n",
              "    <tr>\n",
              "      <th>4</th>\n",
              "      <td>2019-01-01 00:03:06</td>\n",
              "      <td>375534208663984</td>\n",
              "      <td>fraud_Keeling-Crist</td>\n",
              "      <td>misc_pos</td>\n",
              "      <td>41.96</td>\n",
              "      <td>M</td>\n",
              "      <td>38.42</td>\n",
              "      <td>-79.46</td>\n",
              "      <td>99</td>\n",
              "      <td>Dance movement psychotherapist</td>\n",
              "      <td>...</td>\n",
              "      <td>38.67</td>\n",
              "      <td>-78.63</td>\n",
              "      <td>0</td>\n",
              "      <td>-0.57</td>\n",
              "      <td>1.31</td>\n",
              "      <td>(38.674999, -78.632459)</td>\n",
              "      <td>(38.4207, -79.4629)</td>\n",
              "      <td>77.70</td>\n",
              "      <td>75.84</td>\n",
              "      <td>29.15</td>\n",
              "    </tr>\n",
              "    <tr>\n",
              "      <th>...</th>\n",
              "      <td>...</td>\n",
              "      <td>...</td>\n",
              "      <td>...</td>\n",
              "      <td>...</td>\n",
              "      <td>...</td>\n",
              "      <td>...</td>\n",
              "      <td>...</td>\n",
              "      <td>...</td>\n",
              "      <td>...</td>\n",
              "      <td>...</td>\n",
              "      <td>...</td>\n",
              "      <td>...</td>\n",
              "      <td>...</td>\n",
              "      <td>...</td>\n",
              "      <td>...</td>\n",
              "      <td>...</td>\n",
              "      <td>...</td>\n",
              "      <td>...</td>\n",
              "      <td>...</td>\n",
              "      <td>...</td>\n",
              "      <td>...</td>\n",
              "    </tr>\n",
              "    <tr>\n",
              "      <th>1852389</th>\n",
              "      <td>2020-12-31 23:59:07</td>\n",
              "      <td>30560609640617</td>\n",
              "      <td>fraud_Reilly and Sons</td>\n",
              "      <td>health_fitness</td>\n",
              "      <td>43.77</td>\n",
              "      <td>M</td>\n",
              "      <td>40.49</td>\n",
              "      <td>-91.89</td>\n",
              "      <td>519</td>\n",
              "      <td>Town planner</td>\n",
              "      <td>...</td>\n",
              "      <td>39.95</td>\n",
              "      <td>-91.33</td>\n",
              "      <td>0</td>\n",
              "      <td>-0.17</td>\n",
              "      <td>-0.05</td>\n",
              "      <td>(39.946837, -91.333331)</td>\n",
              "      <td>(40.4931, -91.8912)</td>\n",
              "      <td>77.03</td>\n",
              "      <td>75.52</td>\n",
              "      <td>28.96</td>\n",
              "    </tr>\n",
              "    <tr>\n",
              "      <th>1852390</th>\n",
              "      <td>2020-12-31 23:59:09</td>\n",
              "      <td>3556613125071656</td>\n",
              "      <td>fraud_Hoppe-Parisian</td>\n",
              "      <td>kids_pets</td>\n",
              "      <td>111.84</td>\n",
              "      <td>M</td>\n",
              "      <td>29.04</td>\n",
              "      <td>-95.44</td>\n",
              "      <td>28739</td>\n",
              "      <td>Futures trader</td>\n",
              "      <td>...</td>\n",
              "      <td>29.66</td>\n",
              "      <td>-96.19</td>\n",
              "      <td>0</td>\n",
              "      <td>0.36</td>\n",
              "      <td>1.16</td>\n",
              "      <td>(29.661049, -96.186633)</td>\n",
              "      <td>(29.0393, -95.4401)</td>\n",
              "      <td>100.02</td>\n",
              "      <td>79.17</td>\n",
              "      <td>30.05</td>\n",
              "    </tr>\n",
              "    <tr>\n",
              "      <th>1852391</th>\n",
              "      <td>2020-12-31 23:59:15</td>\n",
              "      <td>6011724471098086</td>\n",
              "      <td>fraud_Rau-Robel</td>\n",
              "      <td>kids_pets</td>\n",
              "      <td>86.88</td>\n",
              "      <td>F</td>\n",
              "      <td>46.20</td>\n",
              "      <td>-118.90</td>\n",
              "      <td>3684</td>\n",
              "      <td>Musician</td>\n",
              "      <td>...</td>\n",
              "      <td>46.66</td>\n",
              "      <td>-119.72</td>\n",
              "      <td>0</td>\n",
              "      <td>-0.02</td>\n",
              "      <td>0.44</td>\n",
              "      <td>(46.65834, -119.715054)</td>\n",
              "      <td>(46.1966, -118.9017)</td>\n",
              "      <td>80.89</td>\n",
              "      <td>72.66</td>\n",
              "      <td>28.55</td>\n",
              "    </tr>\n",
              "    <tr>\n",
              "      <th>1852392</th>\n",
              "      <td>2020-12-31 23:59:24</td>\n",
              "      <td>4079773899158</td>\n",
              "      <td>fraud_Breitenberg LLC</td>\n",
              "      <td>travel</td>\n",
              "      <td>7.99</td>\n",
              "      <td>M</td>\n",
              "      <td>44.63</td>\n",
              "      <td>-116.45</td>\n",
              "      <td>129</td>\n",
              "      <td>Cartographer</td>\n",
              "      <td>...</td>\n",
              "      <td>44.47</td>\n",
              "      <td>-117.08</td>\n",
              "      <td>0</td>\n",
              "      <td>-0.59</td>\n",
              "      <td>-0.01</td>\n",
              "      <td>(44.470525, -117.080888)</td>\n",
              "      <td>(44.6255, -116.4493)</td>\n",
              "      <td>53.06</td>\n",
              "      <td>73.69</td>\n",
              "      <td>28.26</td>\n",
              "    </tr>\n",
              "    <tr>\n",
              "      <th>1852393</th>\n",
              "      <td>2020-12-31 23:59:34</td>\n",
              "      <td>4170689372027579</td>\n",
              "      <td>fraud_Dare-Marvin</td>\n",
              "      <td>entertainment</td>\n",
              "      <td>38.13</td>\n",
              "      <td>M</td>\n",
              "      <td>35.67</td>\n",
              "      <td>-97.48</td>\n",
              "      <td>116001</td>\n",
              "      <td>Media buyer</td>\n",
              "      <td>...</td>\n",
              "      <td>36.21</td>\n",
              "      <td>-97.04</td>\n",
              "      <td>0</td>\n",
              "      <td>-0.15</td>\n",
              "      <td>-0.38</td>\n",
              "      <td>(36.210097, -97.036372)</td>\n",
              "      <td>(35.6665, -97.4798)</td>\n",
              "      <td>72.38</td>\n",
              "      <td>77.09</td>\n",
              "      <td>29.52</td>\n",
              "    </tr>\n",
              "  </tbody>\n",
              "</table>\n",
              "<p>1852394 rows × 21 columns</p>\n",
              "</div>\n",
              "      <button class=\"colab-df-convert\" onclick=\"convertToInteractive('df-3551fc0b-3739-4c4f-ad30-98512688453e')\"\n",
              "              title=\"Convert this dataframe to an interactive table.\"\n",
              "              style=\"display:none;\">\n",
              "        \n",
              "  <svg xmlns=\"http://www.w3.org/2000/svg\" height=\"24px\"viewBox=\"0 0 24 24\"\n",
              "       width=\"24px\">\n",
              "    <path d=\"M0 0h24v24H0V0z\" fill=\"none\"/>\n",
              "    <path d=\"M18.56 5.44l.94 2.06.94-2.06 2.06-.94-2.06-.94-.94-2.06-.94 2.06-2.06.94zm-11 1L8.5 8.5l.94-2.06 2.06-.94-2.06-.94L8.5 2.5l-.94 2.06-2.06.94zm10 10l.94 2.06.94-2.06 2.06-.94-2.06-.94-.94-2.06-.94 2.06-2.06.94z\"/><path d=\"M17.41 7.96l-1.37-1.37c-.4-.4-.92-.59-1.43-.59-.52 0-1.04.2-1.43.59L10.3 9.45l-7.72 7.72c-.78.78-.78 2.05 0 2.83L4 21.41c.39.39.9.59 1.41.59.51 0 1.02-.2 1.41-.59l7.78-7.78 2.81-2.81c.8-.78.8-2.07 0-2.86zM5.41 20L4 18.59l7.72-7.72 1.47 1.35L5.41 20z\"/>\n",
              "  </svg>\n",
              "      </button>\n",
              "      \n",
              "  <style>\n",
              "    .colab-df-container {\n",
              "      display:flex;\n",
              "      flex-wrap:wrap;\n",
              "      gap: 12px;\n",
              "    }\n",
              "\n",
              "    .colab-df-convert {\n",
              "      background-color: #E8F0FE;\n",
              "      border: none;\n",
              "      border-radius: 50%;\n",
              "      cursor: pointer;\n",
              "      display: none;\n",
              "      fill: #1967D2;\n",
              "      height: 32px;\n",
              "      padding: 0 0 0 0;\n",
              "      width: 32px;\n",
              "    }\n",
              "\n",
              "    .colab-df-convert:hover {\n",
              "      background-color: #E2EBFA;\n",
              "      box-shadow: 0px 1px 2px rgba(60, 64, 67, 0.3), 0px 1px 3px 1px rgba(60, 64, 67, 0.15);\n",
              "      fill: #174EA6;\n",
              "    }\n",
              "\n",
              "    [theme=dark] .colab-df-convert {\n",
              "      background-color: #3B4455;\n",
              "      fill: #D2E3FC;\n",
              "    }\n",
              "\n",
              "    [theme=dark] .colab-df-convert:hover {\n",
              "      background-color: #434B5C;\n",
              "      box-shadow: 0px 1px 3px 1px rgba(0, 0, 0, 0.15);\n",
              "      filter: drop-shadow(0px 1px 2px rgba(0, 0, 0, 0.3));\n",
              "      fill: #FFFFFF;\n",
              "    }\n",
              "  </style>\n",
              "\n",
              "      <script>\n",
              "        const buttonEl =\n",
              "          document.querySelector('#df-3551fc0b-3739-4c4f-ad30-98512688453e button.colab-df-convert');\n",
              "        buttonEl.style.display =\n",
              "          google.colab.kernel.accessAllowed ? 'block' : 'none';\n",
              "\n",
              "        async function convertToInteractive(key) {\n",
              "          const element = document.querySelector('#df-3551fc0b-3739-4c4f-ad30-98512688453e');\n",
              "          const dataTable =\n",
              "            await google.colab.kernel.invokeFunction('convertToInteractive',\n",
              "                                                     [key], {});\n",
              "          if (!dataTable) return;\n",
              "\n",
              "          const docLinkHtml = 'Like what you see? Visit the ' +\n",
              "            '<a target=\"_blank\" href=https://colab.research.google.com/notebooks/data_table.ipynb>data table notebook</a>'\n",
              "            + ' to learn more about interactive tables.';\n",
              "          element.innerHTML = '';\n",
              "          dataTable['output_type'] = 'display_data';\n",
              "          await google.colab.output.renderOutput(dataTable, element);\n",
              "          const docLink = document.createElement('div');\n",
              "          docLink.innerHTML = docLinkHtml;\n",
              "          element.appendChild(docLink);\n",
              "        }\n",
              "      </script>\n",
              "    </div>\n",
              "  </div>\n",
              "  "
            ]
          },
          "metadata": {},
          "execution_count": 104
        }
      ]
    },
    {
      "cell_type": "code",
      "source": [
        "# z_score : 평균을 0으로 뒀을 때 얼마나 떨어있는지를 표준화 (z점수, 표준정규분포)\n",
        "df['distance_z_score'] = (df['distance'] - df['mean']) / df['std']"
      ],
      "metadata": {
        "id": "mqdoXbse5B1P"
      },
      "execution_count": 105,
      "outputs": []
    },
    {
      "cell_type": "code",
      "source": [
        "df['distance_z_score'].head()"
      ],
      "metadata": {
        "colab": {
          "base_uri": "https://localhost:8080/"
        },
        "id": "g7elWxgp5S82",
        "outputId": "47083d22-48b9-4511-b705-1a9a2c46d7dc"
      },
      "execution_count": 106,
      "outputs": [
        {
          "output_type": "execute_result",
          "data": {
            "text/plain": [
              "0    0.03\n",
              "1   -1.48\n",
              "2    1.16\n",
              "3    0.82\n",
              "4    0.06\n",
              "Name: distance_z_score, dtype: float64"
            ]
          },
          "metadata": {},
          "execution_count": 106
        }
      ]
    },
    {
      "cell_type": "code",
      "source": [
        "# 사용한 통계치 drop\n",
        "df.drop(['mean', 'std'], axis=1, inplace=True)"
      ],
      "metadata": {
        "id": "Ry3xbff05X07"
      },
      "execution_count": 107,
      "outputs": []
    },
    {
      "cell_type": "code",
      "source": [
        "df.isna().mean()"
      ],
      "metadata": {
        "id": "agPmPq8y5dYN",
        "colab": {
          "base_uri": "https://localhost:8080/"
        },
        "outputId": "886847bb-2b9c-41f9-e52e-2241c1ce0c50"
      },
      "execution_count": 108,
      "outputs": [
        {
          "output_type": "execute_result",
          "data": {
            "text/plain": [
              "trans_date_trans_time   0.00\n",
              "cc_num                  0.00\n",
              "merchant                0.00\n",
              "category                0.00\n",
              "amt                     0.00\n",
              "gender                  0.00\n",
              "lat                     0.00\n",
              "long                    0.00\n",
              "city_pop                0.00\n",
              "job                     0.00\n",
              "dob                     0.00\n",
              "merch_lat               0.00\n",
              "merch_long              0.00\n",
              "is_fraud                0.00\n",
              "amt_z_score             0.00\n",
              "cat_z_score             0.00\n",
              "merch_coord             0.00\n",
              "cust_coord              0.00\n",
              "distance                0.00\n",
              "distance_z_score        0.00\n",
              "dtype: float64"
            ]
          },
          "metadata": {},
          "execution_count": 108
        }
      ]
    },
    {
      "cell_type": "markdown",
      "source": [
        "### 생년월일 (dob) -> 연령"
      ],
      "metadata": {
        "id": "TZ6_V1QJ5oNs"
      }
    },
    {
      "cell_type": "code",
      "source": [
        "df['dob']"
      ],
      "metadata": {
        "colab": {
          "base_uri": "https://localhost:8080/"
        },
        "id": "saRDYKQo52hJ",
        "outputId": "ee18858e-3ce3-440e-ba61-a9477a625f3b"
      },
      "execution_count": 109,
      "outputs": [
        {
          "output_type": "execute_result",
          "data": {
            "text/plain": [
              "0          1988-03-09\n",
              "1          1978-06-21\n",
              "2          1962-01-19\n",
              "3          1967-01-12\n",
              "4          1986-03-28\n",
              "              ...    \n",
              "1852389    1966-02-13\n",
              "1852390    1999-12-27\n",
              "1852391    1981-11-29\n",
              "1852392    1965-12-15\n",
              "1852393    1993-05-10\n",
              "Name: dob, Length: 1852394, dtype: object"
            ]
          },
          "metadata": {},
          "execution_count": 109
        }
      ]
    },
    {
      "cell_type": "code",
      "source": [
        "pd.to_datetime(df['dob'])"
      ],
      "metadata": {
        "colab": {
          "base_uri": "https://localhost:8080/"
        },
        "id": "LLcdwGjO55tB",
        "outputId": "2c16c255-6e49-4064-f3dc-9a3d283ec372"
      },
      "execution_count": 110,
      "outputs": [
        {
          "output_type": "execute_result",
          "data": {
            "text/plain": [
              "0         1988-03-09\n",
              "1         1978-06-21\n",
              "2         1962-01-19\n",
              "3         1967-01-12\n",
              "4         1986-03-28\n",
              "             ...    \n",
              "1852389   1966-02-13\n",
              "1852390   1999-12-27\n",
              "1852391   1981-11-29\n",
              "1852392   1965-12-15\n",
              "1852393   1993-05-10\n",
              "Name: dob, Length: 1852394, dtype: datetime64[ns]"
            ]
          },
          "metadata": {},
          "execution_count": 110
        }
      ]
    },
    {
      "cell_type": "code",
      "source": [
        "# year\n",
        "# pd.to_datetime(df['dob']).year # 에러남 (year 없음)\n",
        "# dt 속성 : 특정 시리즈/df에서 dt의 메소드/속성을 사용할 수 있게함 (참고: str)\n",
        "pd.to_datetime(df['dob']).dt.year  # datetime 속성"
      ],
      "metadata": {
        "colab": {
          "base_uri": "https://localhost:8080/"
        },
        "id": "tgtHAqbk6GWs",
        "outputId": "75c8cef4-dcd3-4ffa-cc7a-81cb5d96cf4b"
      },
      "execution_count": 111,
      "outputs": [
        {
          "output_type": "execute_result",
          "data": {
            "text/plain": [
              "0          1988\n",
              "1          1978\n",
              "2          1962\n",
              "3          1967\n",
              "4          1986\n",
              "           ... \n",
              "1852389    1966\n",
              "1852390    1999\n",
              "1852391    1981\n",
              "1852392    1965\n",
              "1852393    1993\n",
              "Name: dob, Length: 1852394, dtype: int64"
            ]
          },
          "metadata": {},
          "execution_count": 111
        }
      ]
    },
    {
      "cell_type": "code",
      "source": [
        "# 만 나이\n",
        "# 2023 - pd.to_datetime(df['dob']).dt.year\n",
        "df['age'] = 2023 - pd.to_datetime(df['dob']).dt.year"
      ],
      "metadata": {
        "id": "Gx5TgOgC6dFs"
      },
      "execution_count": 115,
      "outputs": []
    },
    {
      "cell_type": "markdown",
      "source": [
        "## 범주형 변수 처리"
      ],
      "metadata": {
        "id": "N03rDYo36qF9"
      }
    },
    {
      "cell_type": "code",
      "source": [
        "# 필요없는 열(변수) drop\n",
        "# cc_num. lat, long, merch_lat, merch_long, dob, merch_coord, cust_coord\n",
        "df.drop(['cc_num', 'lat', 'long', 'merch_lat', 'merch_long', 'dob', 'merch_coord', 'cust_coord'], axis=1, inplace=True)"
      ],
      "metadata": {
        "id": "RPwKD4g87Y18"
      },
      "execution_count": 117,
      "outputs": []
    },
    {
      "cell_type": "code",
      "source": [
        "df.drop(['merchant', 'job'], axis=1, inplace=True)"
      ],
      "metadata": {
        "id": "1qjYT5Y1ixQi"
      },
      "execution_count": 119,
      "outputs": []
    },
    {
      "cell_type": "code",
      "source": [
        "# 더미 변수 만들기\n",
        "df.describe(include='O')"
      ],
      "metadata": {
        "colab": {
          "base_uri": "https://localhost:8080/",
          "height": 175
        },
        "id": "infGcyGf7J6H",
        "outputId": "18df56a9-da45-4e19-b2db-434af10f5fce"
      },
      "execution_count": 121,
      "outputs": [
        {
          "output_type": "execute_result",
          "data": {
            "text/plain": [
              "             category   gender\n",
              "count         1852394  1852394\n",
              "unique             14        2\n",
              "top     gas_transport        F\n",
              "freq           188029  1014749"
            ],
            "text/html": [
              "\n",
              "  <div id=\"df-2bb86c39-f778-4087-9ff6-f2a0eaf9a02e\">\n",
              "    <div class=\"colab-df-container\">\n",
              "      <div>\n",
              "<style scoped>\n",
              "    .dataframe tbody tr th:only-of-type {\n",
              "        vertical-align: middle;\n",
              "    }\n",
              "\n",
              "    .dataframe tbody tr th {\n",
              "        vertical-align: top;\n",
              "    }\n",
              "\n",
              "    .dataframe thead th {\n",
              "        text-align: right;\n",
              "    }\n",
              "</style>\n",
              "<table border=\"1\" class=\"dataframe\">\n",
              "  <thead>\n",
              "    <tr style=\"text-align: right;\">\n",
              "      <th></th>\n",
              "      <th>category</th>\n",
              "      <th>gender</th>\n",
              "    </tr>\n",
              "  </thead>\n",
              "  <tbody>\n",
              "    <tr>\n",
              "      <th>count</th>\n",
              "      <td>1852394</td>\n",
              "      <td>1852394</td>\n",
              "    </tr>\n",
              "    <tr>\n",
              "      <th>unique</th>\n",
              "      <td>14</td>\n",
              "      <td>2</td>\n",
              "    </tr>\n",
              "    <tr>\n",
              "      <th>top</th>\n",
              "      <td>gas_transport</td>\n",
              "      <td>F</td>\n",
              "    </tr>\n",
              "    <tr>\n",
              "      <th>freq</th>\n",
              "      <td>188029</td>\n",
              "      <td>1014749</td>\n",
              "    </tr>\n",
              "  </tbody>\n",
              "</table>\n",
              "</div>\n",
              "      <button class=\"colab-df-convert\" onclick=\"convertToInteractive('df-2bb86c39-f778-4087-9ff6-f2a0eaf9a02e')\"\n",
              "              title=\"Convert this dataframe to an interactive table.\"\n",
              "              style=\"display:none;\">\n",
              "        \n",
              "  <svg xmlns=\"http://www.w3.org/2000/svg\" height=\"24px\"viewBox=\"0 0 24 24\"\n",
              "       width=\"24px\">\n",
              "    <path d=\"M0 0h24v24H0V0z\" fill=\"none\"/>\n",
              "    <path d=\"M18.56 5.44l.94 2.06.94-2.06 2.06-.94-2.06-.94-.94-2.06-.94 2.06-2.06.94zm-11 1L8.5 8.5l.94-2.06 2.06-.94-2.06-.94L8.5 2.5l-.94 2.06-2.06.94zm10 10l.94 2.06.94-2.06 2.06-.94-2.06-.94-.94-2.06-.94 2.06-2.06.94z\"/><path d=\"M17.41 7.96l-1.37-1.37c-.4-.4-.92-.59-1.43-.59-.52 0-1.04.2-1.43.59L10.3 9.45l-7.72 7.72c-.78.78-.78 2.05 0 2.83L4 21.41c.39.39.9.59 1.41.59.51 0 1.02-.2 1.41-.59l7.78-7.78 2.81-2.81c.8-.78.8-2.07 0-2.86zM5.41 20L4 18.59l7.72-7.72 1.47 1.35L5.41 20z\"/>\n",
              "  </svg>\n",
              "      </button>\n",
              "      \n",
              "  <style>\n",
              "    .colab-df-container {\n",
              "      display:flex;\n",
              "      flex-wrap:wrap;\n",
              "      gap: 12px;\n",
              "    }\n",
              "\n",
              "    .colab-df-convert {\n",
              "      background-color: #E8F0FE;\n",
              "      border: none;\n",
              "      border-radius: 50%;\n",
              "      cursor: pointer;\n",
              "      display: none;\n",
              "      fill: #1967D2;\n",
              "      height: 32px;\n",
              "      padding: 0 0 0 0;\n",
              "      width: 32px;\n",
              "    }\n",
              "\n",
              "    .colab-df-convert:hover {\n",
              "      background-color: #E2EBFA;\n",
              "      box-shadow: 0px 1px 2px rgba(60, 64, 67, 0.3), 0px 1px 3px 1px rgba(60, 64, 67, 0.15);\n",
              "      fill: #174EA6;\n",
              "    }\n",
              "\n",
              "    [theme=dark] .colab-df-convert {\n",
              "      background-color: #3B4455;\n",
              "      fill: #D2E3FC;\n",
              "    }\n",
              "\n",
              "    [theme=dark] .colab-df-convert:hover {\n",
              "      background-color: #434B5C;\n",
              "      box-shadow: 0px 1px 3px 1px rgba(0, 0, 0, 0.15);\n",
              "      filter: drop-shadow(0px 1px 2px rgba(0, 0, 0, 0.3));\n",
              "      fill: #FFFFFF;\n",
              "    }\n",
              "  </style>\n",
              "\n",
              "      <script>\n",
              "        const buttonEl =\n",
              "          document.querySelector('#df-2bb86c39-f778-4087-9ff6-f2a0eaf9a02e button.colab-df-convert');\n",
              "        buttonEl.style.display =\n",
              "          google.colab.kernel.accessAllowed ? 'block' : 'none';\n",
              "\n",
              "        async function convertToInteractive(key) {\n",
              "          const element = document.querySelector('#df-2bb86c39-f778-4087-9ff6-f2a0eaf9a02e');\n",
              "          const dataTable =\n",
              "            await google.colab.kernel.invokeFunction('convertToInteractive',\n",
              "                                                     [key], {});\n",
              "          if (!dataTable) return;\n",
              "\n",
              "          const docLinkHtml = 'Like what you see? Visit the ' +\n",
              "            '<a target=\"_blank\" href=https://colab.research.google.com/notebooks/data_table.ipynb>data table notebook</a>'\n",
              "            + ' to learn more about interactive tables.';\n",
              "          element.innerHTML = '';\n",
              "          dataTable['output_type'] = 'display_data';\n",
              "          await google.colab.output.renderOutput(dataTable, element);\n",
              "          const docLink = document.createElement('div');\n",
              "          docLink.innerHTML = docLinkHtml;\n",
              "          element.appendChild(docLink);\n",
              "        }\n",
              "      </script>\n",
              "    </div>\n",
              "  </div>\n",
              "  "
            ]
          },
          "metadata": {},
          "execution_count": 121
        }
      ]
    },
    {
      "cell_type": "code",
      "source": [
        "df = pd.get_dummies(df, columns = df.describe(include='O').columns)\n",
        "df"
      ],
      "metadata": {
        "id": "jEjTTwBM7feH",
        "colab": {
          "base_uri": "https://localhost:8080/",
          "height": 487
        },
        "outputId": "a4de2aa9-aca7-4950-f72b-c811eff25bac"
      },
      "execution_count": 123,
      "outputs": [
        {
          "output_type": "execute_result",
          "data": {
            "text/plain": [
              "        trans_date_trans_time    amt  city_pop  is_fraud  amt_z_score  \\\n",
              "0         2019-01-01 00:00:18   4.97      3495         0        -0.66   \n",
              "1         2019-01-01 00:00:44 107.23       149         0         0.32   \n",
              "2         2019-01-01 00:00:51 220.11      4154         0         1.29   \n",
              "3         2019-01-01 00:01:16  45.00      1939         0        -0.13   \n",
              "4         2019-01-01 00:03:06  41.96        99         0        -0.57   \n",
              "...                       ...    ...       ...       ...          ...   \n",
              "1852389   2020-12-31 23:59:07  43.77       519         0        -0.17   \n",
              "1852390   2020-12-31 23:59:09 111.84     28739         0         0.36   \n",
              "1852391   2020-12-31 23:59:15  86.88      3684         0        -0.02   \n",
              "1852392   2020-12-31 23:59:24   7.99       129         0        -0.59   \n",
              "1852393   2020-12-31 23:59:34  38.13    116001         0        -0.15   \n",
              "\n",
              "         cat_z_score  distance  distance_z_score  age  category_entertainment  \\\n",
              "0              -0.69     78.77              0.03   35                       0   \n",
              "1               0.32     30.22             -1.48   45                       0   \n",
              "2               2.87    108.10              1.16   61                       1   \n",
              "3              -1.05     95.69              0.82   56                       0   \n",
              "4               1.31     77.70              0.06   37                       0   \n",
              "...              ...       ...               ...  ...                     ...   \n",
              "1852389        -0.05     77.03              0.05   57                       0   \n",
              "1852390         1.16    100.02              0.69   24                       0   \n",
              "1852391         0.44     80.89              0.29   42                       0   \n",
              "1852392        -0.01     53.06             -0.73   58                       0   \n",
              "1852393        -0.38     72.38             -0.16   30                       1   \n",
              "\n",
              "         ...  category_home  category_kids_pets  category_misc_net  \\\n",
              "0        ...              0                   0                  1   \n",
              "1        ...              0                   0                  0   \n",
              "2        ...              0                   0                  0   \n",
              "3        ...              0                   0                  0   \n",
              "4        ...              0                   0                  0   \n",
              "...      ...            ...                 ...                ...   \n",
              "1852389  ...              0                   0                  0   \n",
              "1852390  ...              0                   1                  0   \n",
              "1852391  ...              0                   1                  0   \n",
              "1852392  ...              0                   0                  0   \n",
              "1852393  ...              0                   0                  0   \n",
              "\n",
              "         category_misc_pos  category_personal_care  category_shopping_net  \\\n",
              "0                        0                       0                      0   \n",
              "1                        0                       0                      0   \n",
              "2                        0                       0                      0   \n",
              "3                        0                       0                      0   \n",
              "4                        1                       0                      0   \n",
              "...                    ...                     ...                    ...   \n",
              "1852389                  0                       0                      0   \n",
              "1852390                  0                       0                      0   \n",
              "1852391                  0                       0                      0   \n",
              "1852392                  0                       0                      0   \n",
              "1852393                  0                       0                      0   \n",
              "\n",
              "         category_shopping_pos  category_travel  gender_F  gender_M  \n",
              "0                            0                0         1         0  \n",
              "1                            0                0         1         0  \n",
              "2                            0                0         0         1  \n",
              "3                            0                0         0         1  \n",
              "4                            0                0         0         1  \n",
              "...                        ...              ...       ...       ...  \n",
              "1852389                      0                0         0         1  \n",
              "1852390                      0                0         0         1  \n",
              "1852391                      0                0         1         0  \n",
              "1852392                      0                1         0         1  \n",
              "1852393                      0                0         0         1  \n",
              "\n",
              "[1852394 rows x 25 columns]"
            ],
            "text/html": [
              "\n",
              "  <div id=\"df-df897aeb-eec1-43d9-8107-a97581063cef\">\n",
              "    <div class=\"colab-df-container\">\n",
              "      <div>\n",
              "<style scoped>\n",
              "    .dataframe tbody tr th:only-of-type {\n",
              "        vertical-align: middle;\n",
              "    }\n",
              "\n",
              "    .dataframe tbody tr th {\n",
              "        vertical-align: top;\n",
              "    }\n",
              "\n",
              "    .dataframe thead th {\n",
              "        text-align: right;\n",
              "    }\n",
              "</style>\n",
              "<table border=\"1\" class=\"dataframe\">\n",
              "  <thead>\n",
              "    <tr style=\"text-align: right;\">\n",
              "      <th></th>\n",
              "      <th>trans_date_trans_time</th>\n",
              "      <th>amt</th>\n",
              "      <th>city_pop</th>\n",
              "      <th>is_fraud</th>\n",
              "      <th>amt_z_score</th>\n",
              "      <th>cat_z_score</th>\n",
              "      <th>distance</th>\n",
              "      <th>distance_z_score</th>\n",
              "      <th>age</th>\n",
              "      <th>category_entertainment</th>\n",
              "      <th>...</th>\n",
              "      <th>category_home</th>\n",
              "      <th>category_kids_pets</th>\n",
              "      <th>category_misc_net</th>\n",
              "      <th>category_misc_pos</th>\n",
              "      <th>category_personal_care</th>\n",
              "      <th>category_shopping_net</th>\n",
              "      <th>category_shopping_pos</th>\n",
              "      <th>category_travel</th>\n",
              "      <th>gender_F</th>\n",
              "      <th>gender_M</th>\n",
              "    </tr>\n",
              "  </thead>\n",
              "  <tbody>\n",
              "    <tr>\n",
              "      <th>0</th>\n",
              "      <td>2019-01-01 00:00:18</td>\n",
              "      <td>4.97</td>\n",
              "      <td>3495</td>\n",
              "      <td>0</td>\n",
              "      <td>-0.66</td>\n",
              "      <td>-0.69</td>\n",
              "      <td>78.77</td>\n",
              "      <td>0.03</td>\n",
              "      <td>35</td>\n",
              "      <td>0</td>\n",
              "      <td>...</td>\n",
              "      <td>0</td>\n",
              "      <td>0</td>\n",
              "      <td>1</td>\n",
              "      <td>0</td>\n",
              "      <td>0</td>\n",
              "      <td>0</td>\n",
              "      <td>0</td>\n",
              "      <td>0</td>\n",
              "      <td>1</td>\n",
              "      <td>0</td>\n",
              "    </tr>\n",
              "    <tr>\n",
              "      <th>1</th>\n",
              "      <td>2019-01-01 00:00:44</td>\n",
              "      <td>107.23</td>\n",
              "      <td>149</td>\n",
              "      <td>0</td>\n",
              "      <td>0.32</td>\n",
              "      <td>0.32</td>\n",
              "      <td>30.22</td>\n",
              "      <td>-1.48</td>\n",
              "      <td>45</td>\n",
              "      <td>0</td>\n",
              "      <td>...</td>\n",
              "      <td>0</td>\n",
              "      <td>0</td>\n",
              "      <td>0</td>\n",
              "      <td>0</td>\n",
              "      <td>0</td>\n",
              "      <td>0</td>\n",
              "      <td>0</td>\n",
              "      <td>0</td>\n",
              "      <td>1</td>\n",
              "      <td>0</td>\n",
              "    </tr>\n",
              "    <tr>\n",
              "      <th>2</th>\n",
              "      <td>2019-01-01 00:00:51</td>\n",
              "      <td>220.11</td>\n",
              "      <td>4154</td>\n",
              "      <td>0</td>\n",
              "      <td>1.29</td>\n",
              "      <td>2.87</td>\n",
              "      <td>108.10</td>\n",
              "      <td>1.16</td>\n",
              "      <td>61</td>\n",
              "      <td>1</td>\n",
              "      <td>...</td>\n",
              "      <td>0</td>\n",
              "      <td>0</td>\n",
              "      <td>0</td>\n",
              "      <td>0</td>\n",
              "      <td>0</td>\n",
              "      <td>0</td>\n",
              "      <td>0</td>\n",
              "      <td>0</td>\n",
              "      <td>0</td>\n",
              "      <td>1</td>\n",
              "    </tr>\n",
              "    <tr>\n",
              "      <th>3</th>\n",
              "      <td>2019-01-01 00:01:16</td>\n",
              "      <td>45.00</td>\n",
              "      <td>1939</td>\n",
              "      <td>0</td>\n",
              "      <td>-0.13</td>\n",
              "      <td>-1.05</td>\n",
              "      <td>95.69</td>\n",
              "      <td>0.82</td>\n",
              "      <td>56</td>\n",
              "      <td>0</td>\n",
              "      <td>...</td>\n",
              "      <td>0</td>\n",
              "      <td>0</td>\n",
              "      <td>0</td>\n",
              "      <td>0</td>\n",
              "      <td>0</td>\n",
              "      <td>0</td>\n",
              "      <td>0</td>\n",
              "      <td>0</td>\n",
              "      <td>0</td>\n",
              "      <td>1</td>\n",
              "    </tr>\n",
              "    <tr>\n",
              "      <th>4</th>\n",
              "      <td>2019-01-01 00:03:06</td>\n",
              "      <td>41.96</td>\n",
              "      <td>99</td>\n",
              "      <td>0</td>\n",
              "      <td>-0.57</td>\n",
              "      <td>1.31</td>\n",
              "      <td>77.70</td>\n",
              "      <td>0.06</td>\n",
              "      <td>37</td>\n",
              "      <td>0</td>\n",
              "      <td>...</td>\n",
              "      <td>0</td>\n",
              "      <td>0</td>\n",
              "      <td>0</td>\n",
              "      <td>1</td>\n",
              "      <td>0</td>\n",
              "      <td>0</td>\n",
              "      <td>0</td>\n",
              "      <td>0</td>\n",
              "      <td>0</td>\n",
              "      <td>1</td>\n",
              "    </tr>\n",
              "    <tr>\n",
              "      <th>...</th>\n",
              "      <td>...</td>\n",
              "      <td>...</td>\n",
              "      <td>...</td>\n",
              "      <td>...</td>\n",
              "      <td>...</td>\n",
              "      <td>...</td>\n",
              "      <td>...</td>\n",
              "      <td>...</td>\n",
              "      <td>...</td>\n",
              "      <td>...</td>\n",
              "      <td>...</td>\n",
              "      <td>...</td>\n",
              "      <td>...</td>\n",
              "      <td>...</td>\n",
              "      <td>...</td>\n",
              "      <td>...</td>\n",
              "      <td>...</td>\n",
              "      <td>...</td>\n",
              "      <td>...</td>\n",
              "      <td>...</td>\n",
              "      <td>...</td>\n",
              "    </tr>\n",
              "    <tr>\n",
              "      <th>1852389</th>\n",
              "      <td>2020-12-31 23:59:07</td>\n",
              "      <td>43.77</td>\n",
              "      <td>519</td>\n",
              "      <td>0</td>\n",
              "      <td>-0.17</td>\n",
              "      <td>-0.05</td>\n",
              "      <td>77.03</td>\n",
              "      <td>0.05</td>\n",
              "      <td>57</td>\n",
              "      <td>0</td>\n",
              "      <td>...</td>\n",
              "      <td>0</td>\n",
              "      <td>0</td>\n",
              "      <td>0</td>\n",
              "      <td>0</td>\n",
              "      <td>0</td>\n",
              "      <td>0</td>\n",
              "      <td>0</td>\n",
              "      <td>0</td>\n",
              "      <td>0</td>\n",
              "      <td>1</td>\n",
              "    </tr>\n",
              "    <tr>\n",
              "      <th>1852390</th>\n",
              "      <td>2020-12-31 23:59:09</td>\n",
              "      <td>111.84</td>\n",
              "      <td>28739</td>\n",
              "      <td>0</td>\n",
              "      <td>0.36</td>\n",
              "      <td>1.16</td>\n",
              "      <td>100.02</td>\n",
              "      <td>0.69</td>\n",
              "      <td>24</td>\n",
              "      <td>0</td>\n",
              "      <td>...</td>\n",
              "      <td>0</td>\n",
              "      <td>1</td>\n",
              "      <td>0</td>\n",
              "      <td>0</td>\n",
              "      <td>0</td>\n",
              "      <td>0</td>\n",
              "      <td>0</td>\n",
              "      <td>0</td>\n",
              "      <td>0</td>\n",
              "      <td>1</td>\n",
              "    </tr>\n",
              "    <tr>\n",
              "      <th>1852391</th>\n",
              "      <td>2020-12-31 23:59:15</td>\n",
              "      <td>86.88</td>\n",
              "      <td>3684</td>\n",
              "      <td>0</td>\n",
              "      <td>-0.02</td>\n",
              "      <td>0.44</td>\n",
              "      <td>80.89</td>\n",
              "      <td>0.29</td>\n",
              "      <td>42</td>\n",
              "      <td>0</td>\n",
              "      <td>...</td>\n",
              "      <td>0</td>\n",
              "      <td>1</td>\n",
              "      <td>0</td>\n",
              "      <td>0</td>\n",
              "      <td>0</td>\n",
              "      <td>0</td>\n",
              "      <td>0</td>\n",
              "      <td>0</td>\n",
              "      <td>1</td>\n",
              "      <td>0</td>\n",
              "    </tr>\n",
              "    <tr>\n",
              "      <th>1852392</th>\n",
              "      <td>2020-12-31 23:59:24</td>\n",
              "      <td>7.99</td>\n",
              "      <td>129</td>\n",
              "      <td>0</td>\n",
              "      <td>-0.59</td>\n",
              "      <td>-0.01</td>\n",
              "      <td>53.06</td>\n",
              "      <td>-0.73</td>\n",
              "      <td>58</td>\n",
              "      <td>0</td>\n",
              "      <td>...</td>\n",
              "      <td>0</td>\n",
              "      <td>0</td>\n",
              "      <td>0</td>\n",
              "      <td>0</td>\n",
              "      <td>0</td>\n",
              "      <td>0</td>\n",
              "      <td>0</td>\n",
              "      <td>1</td>\n",
              "      <td>0</td>\n",
              "      <td>1</td>\n",
              "    </tr>\n",
              "    <tr>\n",
              "      <th>1852393</th>\n",
              "      <td>2020-12-31 23:59:34</td>\n",
              "      <td>38.13</td>\n",
              "      <td>116001</td>\n",
              "      <td>0</td>\n",
              "      <td>-0.15</td>\n",
              "      <td>-0.38</td>\n",
              "      <td>72.38</td>\n",
              "      <td>-0.16</td>\n",
              "      <td>30</td>\n",
              "      <td>1</td>\n",
              "      <td>...</td>\n",
              "      <td>0</td>\n",
              "      <td>0</td>\n",
              "      <td>0</td>\n",
              "      <td>0</td>\n",
              "      <td>0</td>\n",
              "      <td>0</td>\n",
              "      <td>0</td>\n",
              "      <td>0</td>\n",
              "      <td>0</td>\n",
              "      <td>1</td>\n",
              "    </tr>\n",
              "  </tbody>\n",
              "</table>\n",
              "<p>1852394 rows × 25 columns</p>\n",
              "</div>\n",
              "      <button class=\"colab-df-convert\" onclick=\"convertToInteractive('df-df897aeb-eec1-43d9-8107-a97581063cef')\"\n",
              "              title=\"Convert this dataframe to an interactive table.\"\n",
              "              style=\"display:none;\">\n",
              "        \n",
              "  <svg xmlns=\"http://www.w3.org/2000/svg\" height=\"24px\"viewBox=\"0 0 24 24\"\n",
              "       width=\"24px\">\n",
              "    <path d=\"M0 0h24v24H0V0z\" fill=\"none\"/>\n",
              "    <path d=\"M18.56 5.44l.94 2.06.94-2.06 2.06-.94-2.06-.94-.94-2.06-.94 2.06-2.06.94zm-11 1L8.5 8.5l.94-2.06 2.06-.94-2.06-.94L8.5 2.5l-.94 2.06-2.06.94zm10 10l.94 2.06.94-2.06 2.06-.94-2.06-.94-.94-2.06-.94 2.06-2.06.94z\"/><path d=\"M17.41 7.96l-1.37-1.37c-.4-.4-.92-.59-1.43-.59-.52 0-1.04.2-1.43.59L10.3 9.45l-7.72 7.72c-.78.78-.78 2.05 0 2.83L4 21.41c.39.39.9.59 1.41.59.51 0 1.02-.2 1.41-.59l7.78-7.78 2.81-2.81c.8-.78.8-2.07 0-2.86zM5.41 20L4 18.59l7.72-7.72 1.47 1.35L5.41 20z\"/>\n",
              "  </svg>\n",
              "      </button>\n",
              "      \n",
              "  <style>\n",
              "    .colab-df-container {\n",
              "      display:flex;\n",
              "      flex-wrap:wrap;\n",
              "      gap: 12px;\n",
              "    }\n",
              "\n",
              "    .colab-df-convert {\n",
              "      background-color: #E8F0FE;\n",
              "      border: none;\n",
              "      border-radius: 50%;\n",
              "      cursor: pointer;\n",
              "      display: none;\n",
              "      fill: #1967D2;\n",
              "      height: 32px;\n",
              "      padding: 0 0 0 0;\n",
              "      width: 32px;\n",
              "    }\n",
              "\n",
              "    .colab-df-convert:hover {\n",
              "      background-color: #E2EBFA;\n",
              "      box-shadow: 0px 1px 2px rgba(60, 64, 67, 0.3), 0px 1px 3px 1px rgba(60, 64, 67, 0.15);\n",
              "      fill: #174EA6;\n",
              "    }\n",
              "\n",
              "    [theme=dark] .colab-df-convert {\n",
              "      background-color: #3B4455;\n",
              "      fill: #D2E3FC;\n",
              "    }\n",
              "\n",
              "    [theme=dark] .colab-df-convert:hover {\n",
              "      background-color: #434B5C;\n",
              "      box-shadow: 0px 1px 3px 1px rgba(0, 0, 0, 0.15);\n",
              "      filter: drop-shadow(0px 1px 2px rgba(0, 0, 0, 0.3));\n",
              "      fill: #FFFFFF;\n",
              "    }\n",
              "  </style>\n",
              "\n",
              "      <script>\n",
              "        const buttonEl =\n",
              "          document.querySelector('#df-df897aeb-eec1-43d9-8107-a97581063cef button.colab-df-convert');\n",
              "        buttonEl.style.display =\n",
              "          google.colab.kernel.accessAllowed ? 'block' : 'none';\n",
              "\n",
              "        async function convertToInteractive(key) {\n",
              "          const element = document.querySelector('#df-df897aeb-eec1-43d9-8107-a97581063cef');\n",
              "          const dataTable =\n",
              "            await google.colab.kernel.invokeFunction('convertToInteractive',\n",
              "                                                     [key], {});\n",
              "          if (!dataTable) return;\n",
              "\n",
              "          const docLinkHtml = 'Like what you see? Visit the ' +\n",
              "            '<a target=\"_blank\" href=https://colab.research.google.com/notebooks/data_table.ipynb>data table notebook</a>'\n",
              "            + ' to learn more about interactive tables.';\n",
              "          element.innerHTML = '';\n",
              "          dataTable['output_type'] = 'display_data';\n",
              "          await google.colab.output.renderOutput(dataTable, element);\n",
              "          const docLink = document.createElement('div');\n",
              "          docLink.innerHTML = docLinkHtml;\n",
              "          element.appendChild(docLink);\n",
              "        }\n",
              "      </script>\n",
              "    </div>\n",
              "  </div>\n",
              "  "
            ]
          },
          "metadata": {},
          "execution_count": 123
        }
      ]
    },
    {
      "cell_type": "markdown",
      "source": [
        "# 모델링"
      ],
      "metadata": {
        "id": "lzMZq52q7y-n"
      }
    },
    {
      "cell_type": "markdown",
      "source": [
        "## 훈련셋/시험셋"
      ],
      "metadata": {
        "id": "DFOyjKN171YU"
      }
    },
    {
      "cell_type": "code",
      "source": [
        "# 과거의 이상거래를 사용해서 -> 미래의 이상거래를 감지\n",
        "# 시간 단위로 훈련셋/시험셋을 나눠줘야함\n",
        "# grid search cv, train_test_split\n",
        "# 날짜 단위로 나눠주기"
      ],
      "metadata": {
        "id": "dHI_Uz8773Cb"
      },
      "execution_count": 124,
      "outputs": []
    },
    {
      "cell_type": "code",
      "source": [
        "df.index"
      ],
      "metadata": {
        "colab": {
          "base_uri": "https://localhost:8080/"
        },
        "id": "Cd-aBwGX8E-x",
        "outputId": "3b061c1e-9a7e-4f64-dbf9-7e4b4b0bb1d7"
      },
      "execution_count": 125,
      "outputs": [
        {
          "output_type": "execute_result",
          "data": {
            "text/plain": [
              "RangeIndex(start=0, stop=1852394, step=1)"
            ]
          },
          "metadata": {},
          "execution_count": 125
        }
      ]
    },
    {
      "cell_type": "code",
      "source": [
        "# trans_date_trans_time -> dt 인덱스\n",
        "df.set_index('trans_date_trans_time', inplace=True)"
      ],
      "metadata": {
        "id": "w4I3Ayu08JeP"
      },
      "execution_count": 126,
      "outputs": []
    },
    {
      "cell_type": "code",
      "source": [
        "df.index # 2020-07-01 이전, 이후 데이터 나눠서 train, test"
      ],
      "metadata": {
        "colab": {
          "base_uri": "https://localhost:8080/"
        },
        "id": "YYkNzR8y8Qns",
        "outputId": "3bf8d691-f567-4ded-b9c4-2025b9b687f1"
      },
      "execution_count": 127,
      "outputs": [
        {
          "output_type": "execute_result",
          "data": {
            "text/plain": [
              "DatetimeIndex(['2019-01-01 00:00:18', '2019-01-01 00:00:44',\n",
              "               '2019-01-01 00:00:51', '2019-01-01 00:01:16',\n",
              "               '2019-01-01 00:03:06', '2019-01-01 00:04:08',\n",
              "               '2019-01-01 00:04:42', '2019-01-01 00:05:08',\n",
              "               '2019-01-01 00:05:18', '2019-01-01 00:06:01',\n",
              "               ...\n",
              "               '2020-12-31 23:57:18', '2020-12-31 23:57:50',\n",
              "               '2020-12-31 23:57:56', '2020-12-31 23:58:04',\n",
              "               '2020-12-31 23:58:34', '2020-12-31 23:59:07',\n",
              "               '2020-12-31 23:59:09', '2020-12-31 23:59:15',\n",
              "               '2020-12-31 23:59:24', '2020-12-31 23:59:34'],\n",
              "              dtype='datetime64[ns]', name='trans_date_trans_time', length=1852394, freq=None)"
            ]
          },
          "metadata": {},
          "execution_count": 127
        }
      ]
    },
    {
      "cell_type": "code",
      "source": [
        "train = df[df.index < ' 2020-07-01'] # 2020년 7월 1일 이전 데이터 (경계 미포함)\n",
        "test = df[df.index >= ' 2020-07-01'] # 2020년 7월 1일 이후 데이터 (경계 포함)"
      ],
      "metadata": {
        "id": "eL3rk0Gs8Zmy"
      },
      "execution_count": 129,
      "outputs": []
    },
    {
      "cell_type": "code",
      "source": [
        "# 예측값(종속변수, y) : is_fraud\n",
        "# 관측값(독립변수, X) : 나머지\n",
        "X_train = train.drop('is_fraud', axis=1)\n",
        "y_train = train['is_fraud']\n",
        "X_test = test.drop('is_fraud', axis=1)\n",
        "y_test = test['is_fraud']"
      ],
      "metadata": {
        "id": "R-VBEwA18neE"
      },
      "execution_count": 130,
      "outputs": []
    },
    {
      "cell_type": "markdown",
      "source": [
        "## 모델 학습"
      ],
      "metadata": {
        "id": "rZgPOIx8-Otd"
      }
    },
    {
      "cell_type": "code",
      "source": [
        "import lightgbm as lgb"
      ],
      "metadata": {
        "id": "IJLeOYAn9Fcc"
      },
      "execution_count": 131,
      "outputs": []
    },
    {
      "cell_type": "code",
      "source": [
        "# 연속형 변수를 예측하는 '회귀' 문제를 푼다면? lgb.LGBMRegressor\n",
        "# 범주형 변수를 예측하는 '분류' 문제를 푼다면? lgb.LGBMClassifier\n",
        "model = lgb.LGBMClassifier(random_state=324)"
      ],
      "metadata": {
        "id": "q7Y5OQFc9eNz"
      },
      "execution_count": 132,
      "outputs": []
    },
    {
      "cell_type": "code",
      "source": [
        "model.fit(X_train, y_train)"
      ],
      "metadata": {
        "colab": {
          "base_uri": "https://localhost:8080/",
          "height": 74
        },
        "id": "7ilDPN1f9ycb",
        "outputId": "827b5922-657a-4595-c8f0-8accb3543ed6"
      },
      "execution_count": 133,
      "outputs": [
        {
          "output_type": "execute_result",
          "data": {
            "text/plain": [
              "LGBMClassifier(random_state=324)"
            ],
            "text/html": [
              "<style>#sk-container-id-1 {color: black;background-color: white;}#sk-container-id-1 pre{padding: 0;}#sk-container-id-1 div.sk-toggleable {background-color: white;}#sk-container-id-1 label.sk-toggleable__label {cursor: pointer;display: block;width: 100%;margin-bottom: 0;padding: 0.3em;box-sizing: border-box;text-align: center;}#sk-container-id-1 label.sk-toggleable__label-arrow:before {content: \"▸\";float: left;margin-right: 0.25em;color: #696969;}#sk-container-id-1 label.sk-toggleable__label-arrow:hover:before {color: black;}#sk-container-id-1 div.sk-estimator:hover label.sk-toggleable__label-arrow:before {color: black;}#sk-container-id-1 div.sk-toggleable__content {max-height: 0;max-width: 0;overflow: hidden;text-align: left;background-color: #f0f8ff;}#sk-container-id-1 div.sk-toggleable__content pre {margin: 0.2em;color: black;border-radius: 0.25em;background-color: #f0f8ff;}#sk-container-id-1 input.sk-toggleable__control:checked~div.sk-toggleable__content {max-height: 200px;max-width: 100%;overflow: auto;}#sk-container-id-1 input.sk-toggleable__control:checked~label.sk-toggleable__label-arrow:before {content: \"▾\";}#sk-container-id-1 div.sk-estimator input.sk-toggleable__control:checked~label.sk-toggleable__label {background-color: #d4ebff;}#sk-container-id-1 div.sk-label input.sk-toggleable__control:checked~label.sk-toggleable__label {background-color: #d4ebff;}#sk-container-id-1 input.sk-hidden--visually {border: 0;clip: rect(1px 1px 1px 1px);clip: rect(1px, 1px, 1px, 1px);height: 1px;margin: -1px;overflow: hidden;padding: 0;position: absolute;width: 1px;}#sk-container-id-1 div.sk-estimator {font-family: monospace;background-color: #f0f8ff;border: 1px dotted black;border-radius: 0.25em;box-sizing: border-box;margin-bottom: 0.5em;}#sk-container-id-1 div.sk-estimator:hover {background-color: #d4ebff;}#sk-container-id-1 div.sk-parallel-item::after {content: \"\";width: 100%;border-bottom: 1px solid gray;flex-grow: 1;}#sk-container-id-1 div.sk-label:hover label.sk-toggleable__label {background-color: #d4ebff;}#sk-container-id-1 div.sk-serial::before {content: \"\";position: absolute;border-left: 1px solid gray;box-sizing: border-box;top: 0;bottom: 0;left: 50%;z-index: 0;}#sk-container-id-1 div.sk-serial {display: flex;flex-direction: column;align-items: center;background-color: white;padding-right: 0.2em;padding-left: 0.2em;position: relative;}#sk-container-id-1 div.sk-item {position: relative;z-index: 1;}#sk-container-id-1 div.sk-parallel {display: flex;align-items: stretch;justify-content: center;background-color: white;position: relative;}#sk-container-id-1 div.sk-item::before, #sk-container-id-1 div.sk-parallel-item::before {content: \"\";position: absolute;border-left: 1px solid gray;box-sizing: border-box;top: 0;bottom: 0;left: 50%;z-index: -1;}#sk-container-id-1 div.sk-parallel-item {display: flex;flex-direction: column;z-index: 1;position: relative;background-color: white;}#sk-container-id-1 div.sk-parallel-item:first-child::after {align-self: flex-end;width: 50%;}#sk-container-id-1 div.sk-parallel-item:last-child::after {align-self: flex-start;width: 50%;}#sk-container-id-1 div.sk-parallel-item:only-child::after {width: 0;}#sk-container-id-1 div.sk-dashed-wrapped {border: 1px dashed gray;margin: 0 0.4em 0.5em 0.4em;box-sizing: border-box;padding-bottom: 0.4em;background-color: white;}#sk-container-id-1 div.sk-label label {font-family: monospace;font-weight: bold;display: inline-block;line-height: 1.2em;}#sk-container-id-1 div.sk-label-container {text-align: center;}#sk-container-id-1 div.sk-container {/* jupyter's `normalize.less` sets `[hidden] { display: none; }` but bootstrap.min.css set `[hidden] { display: none !important; }` so we also need the `!important` here to be able to override the default hidden behavior on the sphinx rendered scikit-learn.org. See: https://github.com/scikit-learn/scikit-learn/issues/21755 */display: inline-block !important;position: relative;}#sk-container-id-1 div.sk-text-repr-fallback {display: none;}</style><div id=\"sk-container-id-1\" class=\"sk-top-container\"><div class=\"sk-text-repr-fallback\"><pre>LGBMClassifier(random_state=324)</pre><b>In a Jupyter environment, please rerun this cell to show the HTML representation or trust the notebook. <br />On GitHub, the HTML representation is unable to render, please try loading this page with nbviewer.org.</b></div><div class=\"sk-container\" hidden><div class=\"sk-item\"><div class=\"sk-estimator sk-toggleable\"><input class=\"sk-toggleable__control sk-hidden--visually\" id=\"sk-estimator-id-1\" type=\"checkbox\" checked><label for=\"sk-estimator-id-1\" class=\"sk-toggleable__label sk-toggleable__label-arrow\">LGBMClassifier</label><div class=\"sk-toggleable__content\"><pre>LGBMClassifier(random_state=324)</pre></div></div></div></div></div>"
            ]
          },
          "metadata": {},
          "execution_count": 133
        }
      ]
    },
    {
      "cell_type": "code",
      "source": [
        "pred = model.predict(X_test)"
      ],
      "metadata": {
        "id": "hZK5JuNu91TM"
      },
      "execution_count": 134,
      "outputs": []
    },
    {
      "cell_type": "code",
      "source": [
        "from sklearn.metrics import accuracy_score\n",
        "accuracy_score(y_test, pred)"
      ],
      "metadata": {
        "colab": {
          "base_uri": "https://localhost:8080/"
        },
        "id": "TE08-3p-97Dr",
        "outputId": "a6ebf41a-a9a4-4aff-dbba-d5f14c0f8a8a"
      },
      "execution_count": 135,
      "outputs": [
        {
          "output_type": "execute_result",
          "data": {
            "text/plain": [
              "0.9971863995997421"
            ]
          },
          "metadata": {},
          "execution_count": 135
        }
      ]
    },
    {
      "cell_type": "code",
      "source": [
        "1 - df.is_fraud.mean() # 사기로 나올 확률을 반대로"
      ],
      "metadata": {
        "colab": {
          "base_uri": "https://localhost:8080/"
        },
        "id": "tokvzZVd-EjJ",
        "outputId": "f4825d90-4d19-4de8-c0b6-5740838294bf"
      },
      "execution_count": 136,
      "outputs": [
        {
          "output_type": "execute_result",
          "data": {
            "text/plain": [
              "0.9947899852839083"
            ]
          },
          "metadata": {},
          "execution_count": 136
        }
      ]
    },
    {
      "cell_type": "markdown",
      "source": [
        "# 평가"
      ],
      "metadata": {
        "id": "CXsz9aaJCgfL"
      }
    },
    {
      "cell_type": "code",
      "source": [
        "from sklearn.metrics import confusion_matrix, classification_report, roc_auc_score"
      ],
      "metadata": {
        "id": "mfe9yYSACiR0"
      },
      "execution_count": 137,
      "outputs": []
    },
    {
      "cell_type": "code",
      "source": [
        "# 실제 y값, 예측 y값을 넣어주면 confusion matrix를 그려주는 함수\n",
        "def confusion_matrix_view(y_test, pred):\n",
        "    cf_matrix = confusion_matrix(y_test, pred) # 배열 \n",
        "    #  [ [ TN , FP ],\n",
        "    #    [ FN , TP ] ]\n",
        "    print(cf_matrix)\n",
        "    group_names = ['TN','FP','FN','TP'] # 각기 4개의 그룹으로\n",
        "    # TN : 실제 0, 분류 0\n",
        "    # TP : 실제 1, 분류 1\n",
        "    # FP : 위양성, 실제 0, 분류 1 -> 1종 오류\n",
        "    # FN : 위음성, 실제 1, 분류 0 -> 2종 오류\n",
        "    group_counts = [\"{0:0.0f}\".format(value) for value in\n",
        "                    cf_matrix.flatten()] # 그룹별 갯수 / arr.flatten() -> 한 줄로\n",
        "    group_percentages = [\"{0:.2%}\".format(value) for value in\n",
        "                        cf_matrix.flatten()/np.sum(cf_matrix)] # 그룹별 비중, 비율\n",
        "                        # flatten -> 2 x 2 -> 4 -> 합계로 나눠준 것\n",
        "    # v1 : 그룹명 -> 이진분류(TN,FP,FN,TP...) -> 3개이상이면? 0->1, 1->1...\n",
        "    # v2 : 그룹별 갯수\n",
        "    # v3 : 그룹별 비중(비율)\n",
        "    # \\n -> Enter (줄바꿈)\n",
        "    labels = [f\"{v1}\\n{v2}\\n{v3}\" for v1, v2, v3 in\n",
        "            zip(group_names,group_counts,group_percentages)]\n",
        "    labels = np.asarray(labels).reshape(2,2) # 2 x 2\n",
        "    # ['TN','FP','FN','TP']\n",
        "    '''\n",
        "      [['TN','FP'],\n",
        "       ['FN','TP']]\n",
        "    '''\n",
        "    # seaborn.heatmap(열마다 크기에 따라서 색상/짙음 정도를 결정)\n",
        "    # cmap -> colormap -> 어떠한 색상표를 쓸 것이냐\n",
        "    sns.heatmap(cf_matrix, annot=labels, fmt='', cmap='coolwarm')\n",
        "    plt.ylabel('True') # 실제값\n",
        "    plt.xlabel('Predicted') # 예측값\n",
        "    plt.show()\n",
        "    # 분류 리포트\n",
        "    print(classification_report(y_test, pred))"
      ],
      "metadata": {
        "id": "yRSdxdd_C8iD"
      },
      "execution_count": 138,
      "outputs": []
    },
    {
      "cell_type": "code",
      "source": [
        "confusion_matrix_view(y_test, pred)"
      ],
      "metadata": {
        "colab": {
          "base_uri": "https://localhost:8080/",
          "height": 480
        },
        "id": "Cwz3BiDcDHEj",
        "outputId": "baa9fe7e-0d27-467a-ea89-a38d599267af"
      },
      "execution_count": 139,
      "outputs": [
        {
          "output_type": "stream",
          "name": "stdout",
          "text": [
            "[[522956    693]\n",
            " [   786   1226]]\n"
          ]
        },
        {
          "output_type": "display_data",
          "data": {
            "text/plain": [
              "<Figure size 432x288 with 2 Axes>"
            ],
            "image/png": "[encoded data removed]"
          },
          "metadata": {
            "needs_background": "light"
          }
        },
        {
          "output_type": "stream",
          "name": "stdout",
          "text": [
            "              precision    recall  f1-score   support\n",
            "\n",
            "           0       1.00      1.00      1.00    523649\n",
            "           1       0.64      0.61      0.62      2012\n",
            "\n",
            "    accuracy                           1.00    525661\n",
            "   macro avg       0.82      0.80      0.81    525661\n",
            "weighted avg       1.00      1.00      1.00    525661\n",
            "\n"
          ]
        }
      ]
    },
    {
      "cell_type": "code",
      "source": [
        "# 정밀도 - precision - 1종 오류 (FP)\n",
        "# 재현율 - recall - 2종 오류 (FN)\n",
        "# f1 점수 - 정밀도와 재현율의 조화평균 -> 두 수치의 영향력을 모두 확인\n",
        "print(classification_report(y_test, pred))"
      ],
      "metadata": {
        "colab": {
          "base_uri": "https://localhost:8080/"
        },
        "id": "5thGDmawGRxs",
        "outputId": "197befe8-9bd1-413b-91db-1489ce8bd531"
      },
      "execution_count": 140,
      "outputs": [
        {
          "output_type": "stream",
          "name": "stdout",
          "text": [
            "              precision    recall  f1-score   support\n",
            "\n",
            "           0       1.00      1.00      1.00    523649\n",
            "           1       0.64      0.61      0.62      2012\n",
            "\n",
            "    accuracy                           1.00    525661\n",
            "   macro avg       0.82      0.80      0.81    525661\n",
            "weighted avg       1.00      1.00      1.00    525661\n",
            "\n"
          ]
        }
      ]
    },
    {
      "cell_type": "code",
      "source": [
        "# 0, 1 => 분류되기 전에 얼마나 각각의 확률이 산출되는지\n",
        "model.predict_proba(X_test)"
      ],
      "metadata": {
        "colab": {
          "base_uri": "https://localhost:8080/"
        },
        "id": "xZIVkgaBGs_o",
        "outputId": "f29cd853-ed40-48ae-eef8-158a9ee624a0"
      },
      "execution_count": 141,
      "outputs": [
        {
          "output_type": "execute_result",
          "data": {
            "text/plain": [
              "array([[9.99993507e-01, 6.49268586e-06],\n",
              "       [9.99996426e-01, 3.57369703e-06],\n",
              "       [9.99979654e-01, 2.03458540e-05],\n",
              "       ...,\n",
              "       [9.99993562e-01, 6.43831654e-06],\n",
              "       [9.99149811e-01, 8.50189434e-04],\n",
              "       [9.99943467e-01, 5.65332665e-05]])"
            ]
          },
          "metadata": {},
          "execution_count": 141
        }
      ]
    },
    {
      "cell_type": "code",
      "source": [
        "# 각 행 -> 입력받은 시험셋의 행 데이터별로, 각각의 분류가 될 확률\n",
        "# 2차원 행열 -> 각각 열\n",
        "# 1(0)열 : 0에 대한 예측값 (확률값)\n",
        "# 2(1)열 : 1에 대한 예측값 (확률값)\n",
        "proba = model.predict_proba(X_test)\n",
        "proba"
      ],
      "metadata": {
        "colab": {
          "base_uri": "https://localhost:8080/"
        },
        "id": "qf4PbQLcG2Pp",
        "outputId": "2dfbeb8b-62ed-49d7-ae2c-2e4c9f7e25fc"
      },
      "execution_count": 143,
      "outputs": [
        {
          "output_type": "execute_result",
          "data": {
            "text/plain": [
              "array([[9.99993507e-01, 6.49268586e-06],\n",
              "       [9.99996426e-01, 3.57369703e-06],\n",
              "       [9.99979654e-01, 2.03458540e-05],\n",
              "       ...,\n",
              "       [9.99993562e-01, 6.43831654e-06],\n",
              "       [9.99149811e-01, 8.50189434e-04],\n",
              "       [9.99943467e-01, 5.65332665e-05]])"
            ]
          },
          "metadata": {},
          "execution_count": 143
        }
      ]
    },
    {
      "cell_type": "code",
      "source": [
        "# numpy 인덱싱 -> [행, 열] -> [:(모든 행), n]\n",
        "# 예측값이 1이 될 확률 / 이상거래일 확률\n",
        "proba[:, 1]"
      ],
      "metadata": {
        "colab": {
          "base_uri": "https://localhost:8080/"
        },
        "id": "YDjXbnbSHUDi",
        "outputId": "0234e00e-05c8-42fd-d968-429db554cb40"
      },
      "execution_count": 144,
      "outputs": [
        {
          "output_type": "execute_result",
          "data": {
            "text/plain": [
              "array([6.49268586e-06, 3.57369703e-06, 2.03458540e-05, ...,\n",
              "       6.43831654e-06, 8.50189434e-04, 5.65332665e-05])"
            ]
          },
          "metadata": {},
          "execution_count": 144
        }
      ]
    },
    {
      "cell_type": "code",
      "source": [
        "# proba = 이상거래일 확률 예측치\n",
        "proba = proba[:, 1]"
      ],
      "metadata": {
        "id": "G8m6sc3JHlxW"
      },
      "execution_count": 145,
      "outputs": []
    },
    {
      "cell_type": "code",
      "source": [
        "# default : 0.5보다 크면 -> 1로 분류\n",
        "# 민감하게 혹은 둔감하게 처리 가능\n",
        "# case 1 : 0.2만 넘으면 1로 분류 (느슨함)\n",
        "# case 2 : 0.8을 넘어야 1로 분류 (엄격함)\n",
        "# 벡터화 연산으로 비교 연산 (> 0.2) => T/F => astype(int) 0/1\n",
        "# proba_int1 = (proba > 0.2).astype(int)\n",
        "proba_int1 = (proba > 0.2) * 1\n",
        "proba_int1"
      ],
      "metadata": {
        "colab": {
          "base_uri": "https://localhost:8080/"
        },
        "id": "vrJO16BbHsoi",
        "outputId": "6f05adc1-4199-4fd5-9a33-90da550986d9"
      },
      "execution_count": 147,
      "outputs": [
        {
          "output_type": "execute_result",
          "data": {
            "text/plain": [
              "array([0, 0, 0, ..., 0, 0, 0])"
            ]
          },
          "metadata": {},
          "execution_count": 147
        }
      ]
    },
    {
      "cell_type": "markdown",
      "source": [
        "0과 1로 구성되어 있는 데이터에 `mean` 평균을 내면 -> 1의 비중을 알 수 있음 -> 예측치로 환산한다면? -> 이상거래로 분류된 비중"
      ],
      "metadata": {
        "id": "H5NFq861IaFQ"
      }
    },
    {
      "cell_type": "code",
      "source": [
        "pred.mean() # 기준이 0.5일 때의 예측치"
      ],
      "metadata": {
        "colab": {
          "base_uri": "https://localhost:8080/"
        },
        "id": "e8gE_GrqIRi0",
        "outputId": "95064bac-c0a9-47de-88cd-fa58094cc86f"
      },
      "execution_count": 148,
      "outputs": [
        {
          "output_type": "execute_result",
          "data": {
            "text/plain": [
              "0.003650641763417868"
            ]
          },
          "metadata": {},
          "execution_count": 148
        }
      ]
    },
    {
      "cell_type": "code",
      "source": [
        "proba_int1.mean() # 기준이 0.2일 때의 예측치"
      ],
      "metadata": {
        "colab": {
          "base_uri": "https://localhost:8080/"
        },
        "id": "RF-UUAbaIPUu",
        "outputId": "ce120525-b51a-4bf8-cafe-889f7117ce68"
      },
      "execution_count": 149,
      "outputs": [
        {
          "output_type": "execute_result",
          "data": {
            "text/plain": [
              "0.005537789563996568"
            ]
          },
          "metadata": {},
          "execution_count": 149
        }
      ]
    },
    {
      "cell_type": "code",
      "source": [
        "proba_int2 = (proba > 0.8) * 1 # 기준이 0.8일 때의 예측치\n",
        "proba_int2"
      ],
      "metadata": {
        "colab": {
          "base_uri": "https://localhost:8080/"
        },
        "id": "WGNdbWw8IqA8",
        "outputId": "c02a36b5-29ce-45c9-98b0-bbbef3a6c27b"
      },
      "execution_count": 150,
      "outputs": [
        {
          "output_type": "execute_result",
          "data": {
            "text/plain": [
              "array([0, 0, 0, ..., 0, 0, 0])"
            ]
          },
          "metadata": {},
          "execution_count": 150
        }
      ]
    },
    {
      "cell_type": "code",
      "source": [
        "proba_int2.mean()"
      ],
      "metadata": {
        "colab": {
          "base_uri": "https://localhost:8080/"
        },
        "id": "Xj7EupAwnml0",
        "outputId": "b891ec24-473b-4f67-96c7-654c23988742"
      },
      "execution_count": 151,
      "outputs": [
        {
          "output_type": "execute_result",
          "data": {
            "text/plain": [
              "0.0026461921276259796"
            ]
          },
          "metadata": {},
          "execution_count": 151
        }
      ]
    },
    {
      "cell_type": "code",
      "source": [
        "# 0.5 를 기준으로 했을 때의 혼동행렬, 분류리포트\n",
        "confusion_matrix_view(y_test, pred)"
      ],
      "metadata": {
        "colab": {
          "base_uri": "https://localhost:8080/",
          "height": 480
        },
        "id": "FQQ6qVbEI_Mn",
        "outputId": "fe3d4790-7461-41b7-aaef-490d561aab71"
      },
      "execution_count": 154,
      "outputs": [
        {
          "output_type": "stream",
          "name": "stdout",
          "text": [
            "[[522956    693]\n",
            " [   786   1226]]\n"
          ]
        },
        {
          "output_type": "display_data",
          "data": {
            "text/plain": [
              "<Figure size 432x288 with 2 Axes>"
            ],
            "image/png": "[encoded data removed]"
          },
          "metadata": {
            "needs_background": "light"
          }
        },
        {
          "output_type": "stream",
          "name": "stdout",
          "text": [
            "              precision    recall  f1-score   support\n",
            "\n",
            "           0       1.00      1.00      1.00    523649\n",
            "           1       0.64      0.61      0.62      2012\n",
            "\n",
            "    accuracy                           1.00    525661\n",
            "   macro avg       0.82      0.80      0.81    525661\n",
            "weighted avg       1.00      1.00      1.00    525661\n",
            "\n"
          ]
        }
      ]
    },
    {
      "cell_type": "code",
      "source": [
        "# 0.2 를 기준으로 했을 때의 혼동행렬, 분류리포트\n",
        "confusion_matrix_view(y_test, proba_int1)\n",
        "# FP가 늘었음 (1종 오류가 늘었음 -> 이상거래가 아닌데 맞다고 판단한 것이 늘었음)\n",
        "# FN은 줄었음 (2종 오류가 줄었음 -> 이상거래 맞는데 아니라고 판단한 것이 줄었음)"
      ],
      "metadata": {
        "colab": {
          "base_uri": "https://localhost:8080/",
          "height": 480
        },
        "id": "vikClHH-JDsg",
        "outputId": "3b636620-e91b-41ed-b87a-b3fd837d9778"
      },
      "execution_count": 155,
      "outputs": [
        {
          "output_type": "stream",
          "name": "stdout",
          "text": [
            "[[522171   1478]\n",
            " [   579   1433]]\n"
          ]
        },
        {
          "output_type": "display_data",
          "data": {
            "text/plain": [
              "<Figure size 432x288 with 2 Axes>"
            ],
            "image/png": "[encoded data removed]"
          },
          "metadata": {
            "needs_background": "light"
          }
        },
        {
          "output_type": "stream",
          "name": "stdout",
          "text": [
            "              precision    recall  f1-score   support\n",
            "\n",
            "           0       1.00      1.00      1.00    523649\n",
            "           1       0.49      0.71      0.58      2012\n",
            "\n",
            "    accuracy                           1.00    525661\n",
            "   macro avg       0.75      0.85      0.79    525661\n",
            "weighted avg       1.00      1.00      1.00    525661\n",
            "\n"
          ]
        }
      ]
    },
    {
      "cell_type": "code",
      "source": [
        "# 0.8 를 기준으로 했을 때의 혼동행렬, 분류리포트\n",
        "confusion_matrix_view(y_test, proba_int2)\n",
        "# FP가 줄었음 (1종 오류가 줄었음 -> 이상거래가 아닌데 맞다고 판단한 것이 줄었음)\n",
        "# FN은 늘었음 (2종 오류가 늘었음 -> 이상거래 맞는데 아니라고 판단한 것이 늘었음)"
      ],
      "metadata": {
        "colab": {
          "base_uri": "https://localhost:8080/",
          "height": 480
        },
        "id": "71UnnsKJJbzP",
        "outputId": "e8fc7a5f-30b8-4c6b-dafc-8a8d6e56e932"
      },
      "execution_count": 156,
      "outputs": [
        {
          "output_type": "stream",
          "name": "stdout",
          "text": [
            "[[523266    383]\n",
            " [  1004   1008]]\n"
          ]
        },
        {
          "output_type": "display_data",
          "data": {
            "text/plain": [
              "<Figure size 432x288 with 2 Axes>"
            ],
            "image/png": "[encoded data removed]"
          },
          "metadata": {
            "needs_background": "light"
          }
        },
        {
          "output_type": "stream",
          "name": "stdout",
          "text": [
            "              precision    recall  f1-score   support\n",
            "\n",
            "           0       1.00      1.00      1.00    523649\n",
            "           1       0.72      0.50      0.59      2012\n",
            "\n",
            "    accuracy                           1.00    525661\n",
            "   macro avg       0.86      0.75      0.80    525661\n",
            "weighted avg       1.00      1.00      1.00    525661\n",
            "\n"
          ]
        }
      ]
    },
    {
      "cell_type": "markdown",
      "source": [
        "## ROC 곡선 & AUC\n",
        "#### 확률 조절의 한계를 조지기 위해 객관적으로 판단하기에 ROC AUC 곡선을 쓸거임"
      ],
      "metadata": {
        "id": "TBKYbEVKJ1vf"
      }
    },
    {
      "cell_type": "markdown",
      "source": [
        "![ROC](https://i.imgur.com/euCumVh.png)"
      ],
      "metadata": {
        "id": "tsYrV-ihKOdH"
      }
    },
    {
      "cell_type": "markdown",
      "source": [
        "* [참고](https://losskatsu.github.io/machine-learning/stat-roc-curve/#2-%EB%AF%BC%EA%B0%90%EB%8F%84%EC%99%80-%ED%8A%B9%EC%9D%B4%EB%8F%84)\n",
        "* 이진분류 모델을 평가하는 방법으로 기준점에 영향을 받지 않기 때문에 여러 모델을 비교할 때 요긴하게 사용\n",
        "* AUC는 ROC 곡선의 아래 면적을 의미\n",
        "    * 0.5~1 사이의 값을 지니며 높을수록 좋은 모델\n",
        "\n",
        "## ROC 곡선\n",
        "> 민감도, 특이도 개념을 활용\n",
        "\n",
        "### 민감도 (TPR)\n",
        "$TPR = \\frac{TP(참 양성)}{TP(참 양성) + FN(거짓 음성)}$\n",
        "* 재현율과 수식이 같음\n",
        "* 실제 1인 것 중 얼마만큼 제대로(1로) 예측되었는지\n",
        "* 1에 가까울 수록 좋은 수치\n",
        "\n",
        "### 특이도 (TNR) **\n",
        "$TNR = \\frac{TN(참 음성)}{FP(거짓 양성) + TN(참 음성)}$\n",
        "* 실제 0인 것 중 얼마만큼 제대로(0로) 예측되었는지\n",
        "* 1에 가까울 수록 좋은 수치\n",
        "\n",
        "$FPR = \\frac{FP(거짓 양성)}{FP(거짓 양성) + TN(참 음성)}$\n",
        "* 실제 0인 것 중 얼마만큼 잘못(1로) 예측되었는지\n",
        "* 0에 가까울 수록 좋은 수치\n",
        "$FPR = 1 - TNR$\n",
        "\n",
        "민감도(TPR)을 높이기 위해서 기준을 낮추면, 반대로 FPR은 증가하게 되어 있음\n",
        "(역의 관계)\n",
        "하지만 예측력이 좋은 모델이라면 그 변화치가 높지 않음\n",
        "\n",
        "![ROC](https://i.imgur.com/euCumVh.png)\n",
        "* 기준점을 바꿨을 때 TPR, FPR이 어떻게 바뀌는지 보여주는 그래프\n",
        "* 최악의 경우 (학습이 전혀 안될 경우) -> 빨간색 점선\n",
        "\n",
        "### AUC (Area Under the ROC Curve)\n",
        "* ROC 곡선의 아래쪽에 해당하는 면적\n",
        "* 0.5~1 사이의 값을 가지며 커질 수록 더 좋은 분류기라는 의미\n",
        "![AUC](https://i.imgur.com/udlCMW4.png)"
      ],
      "metadata": {
        "id": "5FdUHKGLKaCs"
      }
    },
    {
      "cell_type": "code",
      "source": [
        "# 0과 1을 얼마나 잘 분류하는지 (성능 좋은지)\n",
        "# proba -> 1이 될 확률\n",
        "roc_auc_score(y_test, proba)\n"
      ],
      "metadata": {
        "colab": {
          "base_uri": "https://localhost:8080/"
        },
        "id": "zIYttFnmMOKJ",
        "outputId": "07b2f1ec-e147-4198-bf0d-b65da7bcffbe"
      },
      "execution_count": 157,
      "outputs": [
        {
          "output_type": "execute_result",
          "data": {
            "text/plain": [
              "0.9635832733281832"
            ]
          },
          "metadata": {},
          "execution_count": 157
        }
      ]
    },
    {
      "cell_type": "markdown",
      "source": [
        "# 하이퍼 패러미터 튜닝\n",
        "* 그리드 서치 : 주입할 패러미터 목록들을 딕셔너리 형태로 넣어서, 각각의 패러미터들을 모두 조합한 모델들을 학습시켜봐서, 최적의 모델을 찾는 것\n",
        "    * 너무 다 시도해봤자, 결국은 시간낭비일 수 있음\n",
        "    * 빨리 적당한 패러미터 조합이 필요할 수도 있음\n",
        "* 랜덤 서치 : 더 넓은 영역의 하이퍼 파라미터 값을 더 짧은 시간에 다양하게 활용\n",
        "    * 일부만 추출해서 모델링 -> 시간이 더 짧아짐"
      ],
      "metadata": {
        "id": "tiOZBH1aQF8u"
      }
    },
    {
      "cell_type": "markdown",
      "source": [
        "## 랜덤 서치"
      ],
      "metadata": {
        "id": "MkXbndcMQuqz"
      }
    },
    {
      "cell_type": "code",
      "source": [
        "from sklearn.model_selection import RandomizedSearchCV"
      ],
      "metadata": {
        "id": "ZvEjcEb3QFtE"
      },
      "execution_count": 158,
      "outputs": []
    },
    {
      "cell_type": "code",
      "source": [
        "# 랜덤 서치에 사용될 파라미터들 (딕셔너리)\n",
        "params = {\n",
        "    \"n_esimators\": [100, 500, 1000], # 총 생성할 트리 개수\n",
        "    \"learning_rate\": [0.01, 0.05, 0.1, 0.3], # 경사하강법에 적용할 학습률 (오차를 어느 범위만큼 수정할까)\n",
        "    # 너무 작으면 -> 오버피팅, 시간 오래걸림 / 너무 크면 -> 학습이 제대로 안됨\n",
        "    \"lambda_l1\": [0, 10, 20, 30, 50],\n",
        "    \"lambda_l2\": [0, 10, 20, 30, 50],\n",
        "    # 경사하강법과 관련 -> 오버피팅 줄이기\n",
        "    \"max_depth\": [5, 10, 15, 20], # 트리의 최대깊이 / 과적합\n",
        "    \"subsample\": [0.6, 0.8, 1] # 일부의 데이터만 사용해서 트리를 만들게 (1: 전체)\n",
        "}"
      ],
      "metadata": {
        "id": "2S7how6CQ4H7"
      },
      "execution_count": 159,
      "outputs": []
    },
    {
      "cell_type": "markdown",
      "source": [
        "**L1 정규화(lambda_l1)와 L2 정규화(lambda_l2)**\n",
        "* 라쏘 회귀(lasso regression) - L1 정규화\n",
        "* 릿지 회귀(rigde regression) - L2 정규화\n",
        "> 둘 다 매개 변수에 패널티를 가해서 그 영향력(계수)을 감소 시키는 방법.<br>\n",
        "오버피팅을 방지하는 목적으로 쓰임"
      ],
      "metadata": {
        "id": "cZRpboXiRFWT"
      }
    },
    {
      "cell_type": "code",
      "source": [
        "model2 = lgb.LGBMClassifier(random_state=26)\n",
        "# (학습에 쓰일 모델, param_distributions 랜덤 서치에 쓰일 파라미터들, n_iter 몇 번 조합을 추출할지\n",
        "#  scoring 모델 간 비교 수치, n_jobs cpu 코어 개수 (-1: 전체))\n",
        "rs = RandomizedSearchCV(model2, param_distributions=params, n_iter=30,\n",
        "                        scoring='roc_auc', random_state=26, n_jobs=-1)"
      ],
      "metadata": {
        "id": "dvtgLB_4R0XO"
      },
      "execution_count": 160,
      "outputs": []
    },
    {
      "cell_type": "code",
      "source": [
        "import time\n",
        "start = time.time() \n",
        "rs.fit(X_train, y_train)\n",
        "print(time.time() - start)"
      ],
      "metadata": {
        "colab": {
          "base_uri": "https://localhost:8080/"
        },
        "id": "gUVwR04nSW_m",
        "outputId": "06b0aabc-d765-4ac5-e5ae-3f85a6c7e420"
      },
      "execution_count": 161,
      "outputs": [
        {
          "output_type": "stream",
          "name": "stdout",
          "text": [
            "[LightGBM] [Warning] Unknown parameter: n_esimators\n",
            "[LightGBM] [Warning] lambda_l1 is set=0, reg_alpha=0.0 will be ignored. Current value: lambda_l1=0\n",
            "[LightGBM] [Warning] lambda_l2 is set=50, reg_lambda=0.0 will be ignored. Current value: lambda_l2=50\n",
            "1443.4638032913208\n"
          ]
        }
      ]
    },
    {
      "cell_type": "code",
      "source": [
        "rs.best_params_ # 이 조합을 쓰면 됨"
      ],
      "metadata": {
        "colab": {
          "base_uri": "https://localhost:8080/"
        },
        "id": "Tk0BCXGiSpwl",
        "outputId": "9e5b541b-fdaf-45fe-b9de-6850e560fad8"
      },
      "execution_count": 162,
      "outputs": [
        {
          "output_type": "execute_result",
          "data": {
            "text/plain": [
              "{'subsample': 1,\n",
              " 'n_esimators': 100,\n",
              " 'max_depth': 10,\n",
              " 'learning_rate': 0.3,\n",
              " 'lambda_l2': 50,\n",
              " 'lambda_l1': 0}"
            ]
          },
          "metadata": {},
          "execution_count": 162
        }
      ]
    },
    {
      "cell_type": "code",
      "source": [
        "rs.best_score_ # 5개 정도로 나온 값들이 평균치"
      ],
      "metadata": {
        "id": "wWdZXMKdd3nK"
      },
      "execution_count": null,
      "outputs": []
    },
    {
      "cell_type": "code",
      "source": [
        "rs_proba = rs.predict_proba(X_test)"
      ],
      "metadata": {
        "id": "fzf_BkJSd85q"
      },
      "execution_count": null,
      "outputs": []
    },
    {
      "cell_type": "code",
      "source": [
        "# rs_proba[:, 1] : proba -> 0열 : 0이 될 확률, 1열: 1이 될 확률\n",
        "# [모든행중에, 1번째열] -> 1이 될 확률만 호출\n",
        "# roc_auc_score(y_test, rs_proba[:, 1])\n",
        "confusion_matrix_view(y_test, rs.predict(X_test))"
      ],
      "metadata": {
        "id": "96C8QwwmeDkh"
      },
      "execution_count": null,
      "outputs": []
    },
    {
      "cell_type": "code",
      "source": [
        "# 0.2로 조금 더 느슨하게 (정밀도를 희생하고, 재현율 높임)\n",
        "rs_proba_int1 = (rs_proba[:,1] > 0.2).astype('int') # 1이 될 확률이 0.2만 넘어가도 1로 취급\n",
        "confusion_matrix_view(y_test, rs_proba_int1)"
      ],
      "metadata": {
        "id": "zZh5sFA5ec_i"
      },
      "execution_count": null,
      "outputs": []
    },
    {
      "cell_type": "code",
      "source": [
        "# 0.8로 조금 더 엄격하게 (정밀도를 높이고, 재현율 희생)\n",
        "rs_proba_int2 = (rs_proba[:,1] > 0.8).astype('int') # 1이 될 확률이 0.8이 넘어야 1로 취급\n",
        "confusion_matrix_view(y_test, rs_proba_int2)"
      ],
      "metadata": {
        "id": "mrThHQZSfE7b"
      },
      "execution_count": null,
      "outputs": []
    },
    {
      "cell_type": "markdown",
      "source": [
        "# 변수 중요도"
      ],
      "metadata": {
        "id": "UrENMTHBjHkF"
      }
    },
    {
      "cell_type": "code",
      "source": [
        "model.feature_importances_"
      ],
      "metadata": {
        "id": "pgOSlL92jTmC"
      },
      "execution_count": null,
      "outputs": []
    },
    {
      "cell_type": "code",
      "source": [
        "feature_imp = pd.DataFrame({'features': X_train.columns, 'values': model.feature_importances_})\n",
        "plt.figure(figsize=(20, 10))\n",
        "sns.barplot(x='values', y='features',\n",
        "            data=feature_imp.sort_values(by='values', ascending=False).head(10))\n",
        "plt.show()"
      ],
      "metadata": {
        "id": "eEa3L48DjJzv"
      },
      "execution_count": null,
      "outputs": []
    }
  ]
}