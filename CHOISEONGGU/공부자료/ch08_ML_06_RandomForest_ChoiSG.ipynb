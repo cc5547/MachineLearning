{
  "nbformat": 4,
  "nbformat_minor": 0,
  "metadata": {
    "colab": {
      "provenance": [],
      "include_colab_link": true
    },
    "kernelspec": {
      "name": "python3",
      "display_name": "Python 3"
    },
    "language_info": {
      "name": "python"
    }
  },
  "cells": [
    {
      "cell_type": "markdown",
      "metadata": {
        "id": "view-in-github",
        "colab_type": "text"
      },
      "source": [
        "<a href=\"https://colab.research.google.com/github/CHOISEONGGU/MachineLearning_ChoiSG/blob/main/CHOISEONGGU/MachineLearning_ChoiSG/%EA%B3%B5%EB%B6%80%EC%9E%90%EB%A3%8C/ch08_ML_06_RandomForest_ChoiSG.ipynb\" target=\"_parent\"><img src=\"https://colab.research.google.com/assets/colab-badge.svg\" alt=\"Open In Colab\"/></a>"
      ]
    },
    {
      "cell_type": "code",
      "execution_count": null,
      "metadata": {
        "id": "pF5_5xaxntz9"
      },
      "outputs": [],
      "source": [
        "import numpy as np\n",
        "import pandas as pd\n",
        "import matplotlib.pyplot as plt\n",
        "import seaborn as sns"
      ]
    },
    {
      "cell_type": "code",
      "source": [
        "# https://www.kaggle.com/datasets/nehalbirla/vehicle-dataset-from-cardekho\n",
        "# https://github.com/BigData23th/Data/raw/main/car.csv\n",
        "df = pd.read_csv(\"https://github.com/BigData23th/Data/raw/main/car.csv\")\n",
        "df"
      ],
      "metadata": {
        "id": "8_ToyayBy57Y"
      },
      "execution_count": null,
      "outputs": []
    },
    {
      "cell_type": "code",
      "source": [
        "df.head()"
      ],
      "metadata": {
        "colab": {
          "base_uri": "https://localhost:8080/",
          "height": 513
        },
        "id": "6qVEnXh9zoH-",
        "outputId": "0bb08553-ac1d-4be1-d7d9-1b4b174938ee"
      },
      "execution_count": null,
      "outputs": [
        {
          "output_type": "execute_result",
          "data": {
            "text/plain": [
              "                           name  year  selling_price  km_driven    fuel  \\\n",
              "0        Maruti Swift Dzire VDI  2014         450000     145500  Diesel   \n",
              "1  Skoda Rapid 1.5 TDI Ambition  2014         370000     120000  Diesel   \n",
              "2      Honda City 2017-2020 EXi  2006         158000     140000  Petrol   \n",
              "3     Hyundai i20 Sportz Diesel  2010         225000     127000  Diesel   \n",
              "4        Maruti Swift VXI BSIII  2007         130000     120000  Petrol   \n",
              "\n",
              "  seller_type transmission         owner     mileage   engine   max_power  \\\n",
              "0  Individual       Manual   First Owner   23.4 kmpl  1248 CC      74 bhp   \n",
              "1  Individual       Manual  Second Owner  21.14 kmpl  1498 CC  103.52 bhp   \n",
              "2  Individual       Manual   Third Owner   17.7 kmpl  1497 CC      78 bhp   \n",
              "3  Individual       Manual   First Owner   23.0 kmpl  1396 CC      90 bhp   \n",
              "4  Individual       Manual   First Owner   16.1 kmpl  1298 CC    88.2 bhp   \n",
              "\n",
              "                     torque  seats  \n",
              "0            190Nm@ 2000rpm    5.0  \n",
              "1       250Nm@ 1500-2500rpm    5.0  \n",
              "2     12.7@ 2,700(kgm@ rpm)    5.0  \n",
              "3  22.4 kgm at 1750-2750rpm    5.0  \n",
              "4     11.5@ 4,500(kgm@ rpm)    5.0  "
            ],
            "text/html": [
              "\n",
              "  <div id=\"df-ec57056f-9ab0-41c5-a5dd-a573e92ebf5f\">\n",
              "    <div class=\"colab-df-container\">\n",
              "      <div>\n",
              "<style scoped>\n",
              "    .dataframe tbody tr th:only-of-type {\n",
              "        vertical-align: middle;\n",
              "    }\n",
              "\n",
              "    .dataframe tbody tr th {\n",
              "        vertical-align: top;\n",
              "    }\n",
              "\n",
              "    .dataframe thead th {\n",
              "        text-align: right;\n",
              "    }\n",
              "</style>\n",
              "<table border=\"1\" class=\"dataframe\">\n",
              "  <thead>\n",
              "    <tr style=\"text-align: right;\">\n",
              "      <th></th>\n",
              "      <th>name</th>\n",
              "      <th>year</th>\n",
              "      <th>selling_price</th>\n",
              "      <th>km_driven</th>\n",
              "      <th>fuel</th>\n",
              "      <th>seller_type</th>\n",
              "      <th>transmission</th>\n",
              "      <th>owner</th>\n",
              "      <th>mileage</th>\n",
              "      <th>engine</th>\n",
              "      <th>max_power</th>\n",
              "      <th>torque</th>\n",
              "      <th>seats</th>\n",
              "    </tr>\n",
              "  </thead>\n",
              "  <tbody>\n",
              "    <tr>\n",
              "      <th>0</th>\n",
              "      <td>Maruti Swift Dzire VDI</td>\n",
              "      <td>2014</td>\n",
              "      <td>450000</td>\n",
              "      <td>145500</td>\n",
              "      <td>Diesel</td>\n",
              "      <td>Individual</td>\n",
              "      <td>Manual</td>\n",
              "      <td>First Owner</td>\n",
              "      <td>23.4 kmpl</td>\n",
              "      <td>1248 CC</td>\n",
              "      <td>74 bhp</td>\n",
              "      <td>190Nm@ 2000rpm</td>\n",
              "      <td>5.0</td>\n",
              "    </tr>\n",
              "    <tr>\n",
              "      <th>1</th>\n",
              "      <td>Skoda Rapid 1.5 TDI Ambition</td>\n",
              "      <td>2014</td>\n",
              "      <td>370000</td>\n",
              "      <td>120000</td>\n",
              "      <td>Diesel</td>\n",
              "      <td>Individual</td>\n",
              "      <td>Manual</td>\n",
              "      <td>Second Owner</td>\n",
              "      <td>21.14 kmpl</td>\n",
              "      <td>1498 CC</td>\n",
              "      <td>103.52 bhp</td>\n",
              "      <td>250Nm@ 1500-2500rpm</td>\n",
              "      <td>5.0</td>\n",
              "    </tr>\n",
              "    <tr>\n",
              "      <th>2</th>\n",
              "      <td>Honda City 2017-2020 EXi</td>\n",
              "      <td>2006</td>\n",
              "      <td>158000</td>\n",
              "      <td>140000</td>\n",
              "      <td>Petrol</td>\n",
              "      <td>Individual</td>\n",
              "      <td>Manual</td>\n",
              "      <td>Third Owner</td>\n",
              "      <td>17.7 kmpl</td>\n",
              "      <td>1497 CC</td>\n",
              "      <td>78 bhp</td>\n",
              "      <td>12.7@ 2,700(kgm@ rpm)</td>\n",
              "      <td>5.0</td>\n",
              "    </tr>\n",
              "    <tr>\n",
              "      <th>3</th>\n",
              "      <td>Hyundai i20 Sportz Diesel</td>\n",
              "      <td>2010</td>\n",
              "      <td>225000</td>\n",
              "      <td>127000</td>\n",
              "      <td>Diesel</td>\n",
              "      <td>Individual</td>\n",
              "      <td>Manual</td>\n",
              "      <td>First Owner</td>\n",
              "      <td>23.0 kmpl</td>\n",
              "      <td>1396 CC</td>\n",
              "      <td>90 bhp</td>\n",
              "      <td>22.4 kgm at 1750-2750rpm</td>\n",
              "      <td>5.0</td>\n",
              "    </tr>\n",
              "    <tr>\n",
              "      <th>4</th>\n",
              "      <td>Maruti Swift VXI BSIII</td>\n",
              "      <td>2007</td>\n",
              "      <td>130000</td>\n",
              "      <td>120000</td>\n",
              "      <td>Petrol</td>\n",
              "      <td>Individual</td>\n",
              "      <td>Manual</td>\n",
              "      <td>First Owner</td>\n",
              "      <td>16.1 kmpl</td>\n",
              "      <td>1298 CC</td>\n",
              "      <td>88.2 bhp</td>\n",
              "      <td>11.5@ 4,500(kgm@ rpm)</td>\n",
              "      <td>5.0</td>\n",
              "    </tr>\n",
              "  </tbody>\n",
              "</table>\n",
              "</div>\n",
              "      <button class=\"colab-df-convert\" onclick=\"convertToInteractive('df-ec57056f-9ab0-41c5-a5dd-a573e92ebf5f')\"\n",
              "              title=\"Convert this dataframe to an interactive table.\"\n",
              "              style=\"display:none;\">\n",
              "        \n",
              "  <svg xmlns=\"http://www.w3.org/2000/svg\" height=\"24px\"viewBox=\"0 0 24 24\"\n",
              "       width=\"24px\">\n",
              "    <path d=\"M0 0h24v24H0V0z\" fill=\"none\"/>\n",
              "    <path d=\"M18.56 5.44l.94 2.06.94-2.06 2.06-.94-2.06-.94-.94-2.06-.94 2.06-2.06.94zm-11 1L8.5 8.5l.94-2.06 2.06-.94-2.06-.94L8.5 2.5l-.94 2.06-2.06.94zm10 10l.94 2.06.94-2.06 2.06-.94-2.06-.94-.94-2.06-.94 2.06-2.06.94z\"/><path d=\"M17.41 7.96l-1.37-1.37c-.4-.4-.92-.59-1.43-.59-.52 0-1.04.2-1.43.59L10.3 9.45l-7.72 7.72c-.78.78-.78 2.05 0 2.83L4 21.41c.39.39.9.59 1.41.59.51 0 1.02-.2 1.41-.59l7.78-7.78 2.81-2.81c.8-.78.8-2.07 0-2.86zM5.41 20L4 18.59l7.72-7.72 1.47 1.35L5.41 20z\"/>\n",
              "  </svg>\n",
              "      </button>\n",
              "      \n",
              "  <style>\n",
              "    .colab-df-container {\n",
              "      display:flex;\n",
              "      flex-wrap:wrap;\n",
              "      gap: 12px;\n",
              "    }\n",
              "\n",
              "    .colab-df-convert {\n",
              "      background-color: #E8F0FE;\n",
              "      border: none;\n",
              "      border-radius: 50%;\n",
              "      cursor: pointer;\n",
              "      display: none;\n",
              "      fill: #1967D2;\n",
              "      height: 32px;\n",
              "      padding: 0 0 0 0;\n",
              "      width: 32px;\n",
              "    }\n",
              "\n",
              "    .colab-df-convert:hover {\n",
              "      background-color: #E2EBFA;\n",
              "      box-shadow: 0px 1px 2px rgba(60, 64, 67, 0.3), 0px 1px 3px 1px rgba(60, 64, 67, 0.15);\n",
              "      fill: #174EA6;\n",
              "    }\n",
              "\n",
              "    [theme=dark] .colab-df-convert {\n",
              "      background-color: #3B4455;\n",
              "      fill: #D2E3FC;\n",
              "    }\n",
              "\n",
              "    [theme=dark] .colab-df-convert:hover {\n",
              "      background-color: #434B5C;\n",
              "      box-shadow: 0px 1px 3px 1px rgba(0, 0, 0, 0.15);\n",
              "      filter: drop-shadow(0px 1px 2px rgba(0, 0, 0, 0.3));\n",
              "      fill: #FFFFFF;\n",
              "    }\n",
              "  </style>\n",
              "\n",
              "      <script>\n",
              "        const buttonEl =\n",
              "          document.querySelector('#df-ec57056f-9ab0-41c5-a5dd-a573e92ebf5f button.colab-df-convert');\n",
              "        buttonEl.style.display =\n",
              "          google.colab.kernel.accessAllowed ? 'block' : 'none';\n",
              "\n",
              "        async function convertToInteractive(key) {\n",
              "          const element = document.querySelector('#df-ec57056f-9ab0-41c5-a5dd-a573e92ebf5f');\n",
              "          const dataTable =\n",
              "            await google.colab.kernel.invokeFunction('convertToInteractive',\n",
              "                                                     [key], {});\n",
              "          if (!dataTable) return;\n",
              "\n",
              "          const docLinkHtml = 'Like what you see? Visit the ' +\n",
              "            '<a target=\"_blank\" href=https://colab.research.google.com/notebooks/data_table.ipynb>data table notebook</a>'\n",
              "            + ' to learn more about interactive tables.';\n",
              "          element.innerHTML = '';\n",
              "          dataTable['output_type'] = 'display_data';\n",
              "          await google.colab.output.renderOutput(dataTable, element);\n",
              "          const docLink = document.createElement('div');\n",
              "          docLink.innerHTML = docLinkHtml;\n",
              "          element.appendChild(docLink);\n",
              "        }\n",
              "      </script>\n",
              "    </div>\n",
              "  </div>\n",
              "  "
            ]
          },
          "metadata": {},
          "execution_count": 3
        }
      ]
    },
    {
      "cell_type": "code",
      "source": [
        "df.tail()"
      ],
      "metadata": {
        "colab": {
          "base_uri": "https://localhost:8080/",
          "height": 478
        },
        "id": "EB8PUmZ7z16A",
        "outputId": "73bf8c07-6d86-4925-9798-636b6960e657"
      },
      "execution_count": null,
      "outputs": [
        {
          "output_type": "execute_result",
          "data": {
            "text/plain": [
              "                        name  year  selling_price  km_driven    fuel  \\\n",
              "8123       Hyundai i20 Magna  2013         320000     110000  Petrol   \n",
              "8124   Hyundai Verna CRDi SX  2007         135000     119000  Diesel   \n",
              "8125  Maruti Swift Dzire ZDi  2009         382000     120000  Diesel   \n",
              "8126         Tata Indigo CR4  2013         290000      25000  Diesel   \n",
              "8127         Tata Indigo CR4  2013         290000      25000  Diesel   \n",
              "\n",
              "     seller_type transmission                 owner     mileage   engine  \\\n",
              "8123  Individual       Manual           First Owner   18.5 kmpl  1197 CC   \n",
              "8124  Individual       Manual  Fourth & Above Owner   16.8 kmpl  1493 CC   \n",
              "8125  Individual       Manual           First Owner   19.3 kmpl  1248 CC   \n",
              "8126  Individual       Manual           First Owner  23.57 kmpl  1396 CC   \n",
              "8127  Individual       Manual           First Owner  23.57 kmpl  1396 CC   \n",
              "\n",
              "      max_power                     torque  seats  \n",
              "8123  82.85 bhp           113.7Nm@ 4000rpm    5.0  \n",
              "8124    110 bhp  24@ 1,900-2,750(kgm@ rpm)    5.0  \n",
              "8125   73.9 bhp             190Nm@ 2000rpm    5.0  \n",
              "8126     70 bhp        140Nm@ 1800-3000rpm    5.0  \n",
              "8127     70 bhp        140Nm@ 1800-3000rpm    5.0  "
            ],
            "text/html": [
              "\n",
              "  <div id=\"df-13ba7eaf-305e-4841-9a9e-f190d4756f12\">\n",
              "    <div class=\"colab-df-container\">\n",
              "      <div>\n",
              "<style scoped>\n",
              "    .dataframe tbody tr th:only-of-type {\n",
              "        vertical-align: middle;\n",
              "    }\n",
              "\n",
              "    .dataframe tbody tr th {\n",
              "        vertical-align: top;\n",
              "    }\n",
              "\n",
              "    .dataframe thead th {\n",
              "        text-align: right;\n",
              "    }\n",
              "</style>\n",
              "<table border=\"1\" class=\"dataframe\">\n",
              "  <thead>\n",
              "    <tr style=\"text-align: right;\">\n",
              "      <th></th>\n",
              "      <th>name</th>\n",
              "      <th>year</th>\n",
              "      <th>selling_price</th>\n",
              "      <th>km_driven</th>\n",
              "      <th>fuel</th>\n",
              "      <th>seller_type</th>\n",
              "      <th>transmission</th>\n",
              "      <th>owner</th>\n",
              "      <th>mileage</th>\n",
              "      <th>engine</th>\n",
              "      <th>max_power</th>\n",
              "      <th>torque</th>\n",
              "      <th>seats</th>\n",
              "    </tr>\n",
              "  </thead>\n",
              "  <tbody>\n",
              "    <tr>\n",
              "      <th>8123</th>\n",
              "      <td>Hyundai i20 Magna</td>\n",
              "      <td>2013</td>\n",
              "      <td>320000</td>\n",
              "      <td>110000</td>\n",
              "      <td>Petrol</td>\n",
              "      <td>Individual</td>\n",
              "      <td>Manual</td>\n",
              "      <td>First Owner</td>\n",
              "      <td>18.5 kmpl</td>\n",
              "      <td>1197 CC</td>\n",
              "      <td>82.85 bhp</td>\n",
              "      <td>113.7Nm@ 4000rpm</td>\n",
              "      <td>5.0</td>\n",
              "    </tr>\n",
              "    <tr>\n",
              "      <th>8124</th>\n",
              "      <td>Hyundai Verna CRDi SX</td>\n",
              "      <td>2007</td>\n",
              "      <td>135000</td>\n",
              "      <td>119000</td>\n",
              "      <td>Diesel</td>\n",
              "      <td>Individual</td>\n",
              "      <td>Manual</td>\n",
              "      <td>Fourth &amp; Above Owner</td>\n",
              "      <td>16.8 kmpl</td>\n",
              "      <td>1493 CC</td>\n",
              "      <td>110 bhp</td>\n",
              "      <td>24@ 1,900-2,750(kgm@ rpm)</td>\n",
              "      <td>5.0</td>\n",
              "    </tr>\n",
              "    <tr>\n",
              "      <th>8125</th>\n",
              "      <td>Maruti Swift Dzire ZDi</td>\n",
              "      <td>2009</td>\n",
              "      <td>382000</td>\n",
              "      <td>120000</td>\n",
              "      <td>Diesel</td>\n",
              "      <td>Individual</td>\n",
              "      <td>Manual</td>\n",
              "      <td>First Owner</td>\n",
              "      <td>19.3 kmpl</td>\n",
              "      <td>1248 CC</td>\n",
              "      <td>73.9 bhp</td>\n",
              "      <td>190Nm@ 2000rpm</td>\n",
              "      <td>5.0</td>\n",
              "    </tr>\n",
              "    <tr>\n",
              "      <th>8126</th>\n",
              "      <td>Tata Indigo CR4</td>\n",
              "      <td>2013</td>\n",
              "      <td>290000</td>\n",
              "      <td>25000</td>\n",
              "      <td>Diesel</td>\n",
              "      <td>Individual</td>\n",
              "      <td>Manual</td>\n",
              "      <td>First Owner</td>\n",
              "      <td>23.57 kmpl</td>\n",
              "      <td>1396 CC</td>\n",
              "      <td>70 bhp</td>\n",
              "      <td>140Nm@ 1800-3000rpm</td>\n",
              "      <td>5.0</td>\n",
              "    </tr>\n",
              "    <tr>\n",
              "      <th>8127</th>\n",
              "      <td>Tata Indigo CR4</td>\n",
              "      <td>2013</td>\n",
              "      <td>290000</td>\n",
              "      <td>25000</td>\n",
              "      <td>Diesel</td>\n",
              "      <td>Individual</td>\n",
              "      <td>Manual</td>\n",
              "      <td>First Owner</td>\n",
              "      <td>23.57 kmpl</td>\n",
              "      <td>1396 CC</td>\n",
              "      <td>70 bhp</td>\n",
              "      <td>140Nm@ 1800-3000rpm</td>\n",
              "      <td>5.0</td>\n",
              "    </tr>\n",
              "  </tbody>\n",
              "</table>\n",
              "</div>\n",
              "      <button class=\"colab-df-convert\" onclick=\"convertToInteractive('df-13ba7eaf-305e-4841-9a9e-f190d4756f12')\"\n",
              "              title=\"Convert this dataframe to an interactive table.\"\n",
              "              style=\"display:none;\">\n",
              "        \n",
              "  <svg xmlns=\"http://www.w3.org/2000/svg\" height=\"24px\"viewBox=\"0 0 24 24\"\n",
              "       width=\"24px\">\n",
              "    <path d=\"M0 0h24v24H0V0z\" fill=\"none\"/>\n",
              "    <path d=\"M18.56 5.44l.94 2.06.94-2.06 2.06-.94-2.06-.94-.94-2.06-.94 2.06-2.06.94zm-11 1L8.5 8.5l.94-2.06 2.06-.94-2.06-.94L8.5 2.5l-.94 2.06-2.06.94zm10 10l.94 2.06.94-2.06 2.06-.94-2.06-.94-.94-2.06-.94 2.06-2.06.94z\"/><path d=\"M17.41 7.96l-1.37-1.37c-.4-.4-.92-.59-1.43-.59-.52 0-1.04.2-1.43.59L10.3 9.45l-7.72 7.72c-.78.78-.78 2.05 0 2.83L4 21.41c.39.39.9.59 1.41.59.51 0 1.02-.2 1.41-.59l7.78-7.78 2.81-2.81c.8-.78.8-2.07 0-2.86zM5.41 20L4 18.59l7.72-7.72 1.47 1.35L5.41 20z\"/>\n",
              "  </svg>\n",
              "      </button>\n",
              "      \n",
              "  <style>\n",
              "    .colab-df-container {\n",
              "      display:flex;\n",
              "      flex-wrap:wrap;\n",
              "      gap: 12px;\n",
              "    }\n",
              "\n",
              "    .colab-df-convert {\n",
              "      background-color: #E8F0FE;\n",
              "      border: none;\n",
              "      border-radius: 50%;\n",
              "      cursor: pointer;\n",
              "      display: none;\n",
              "      fill: #1967D2;\n",
              "      height: 32px;\n",
              "      padding: 0 0 0 0;\n",
              "      width: 32px;\n",
              "    }\n",
              "\n",
              "    .colab-df-convert:hover {\n",
              "      background-color: #E2EBFA;\n",
              "      box-shadow: 0px 1px 2px rgba(60, 64, 67, 0.3), 0px 1px 3px 1px rgba(60, 64, 67, 0.15);\n",
              "      fill: #174EA6;\n",
              "    }\n",
              "\n",
              "    [theme=dark] .colab-df-convert {\n",
              "      background-color: #3B4455;\n",
              "      fill: #D2E3FC;\n",
              "    }\n",
              "\n",
              "    [theme=dark] .colab-df-convert:hover {\n",
              "      background-color: #434B5C;\n",
              "      box-shadow: 0px 1px 3px 1px rgba(0, 0, 0, 0.15);\n",
              "      filter: drop-shadow(0px 1px 2px rgba(0, 0, 0, 0.3));\n",
              "      fill: #FFFFFF;\n",
              "    }\n",
              "  </style>\n",
              "\n",
              "      <script>\n",
              "        const buttonEl =\n",
              "          document.querySelector('#df-13ba7eaf-305e-4841-9a9e-f190d4756f12 button.colab-df-convert');\n",
              "        buttonEl.style.display =\n",
              "          google.colab.kernel.accessAllowed ? 'block' : 'none';\n",
              "\n",
              "        async function convertToInteractive(key) {\n",
              "          const element = document.querySelector('#df-13ba7eaf-305e-4841-9a9e-f190d4756f12');\n",
              "          const dataTable =\n",
              "            await google.colab.kernel.invokeFunction('convertToInteractive',\n",
              "                                                     [key], {});\n",
              "          if (!dataTable) return;\n",
              "\n",
              "          const docLinkHtml = 'Like what you see? Visit the ' +\n",
              "            '<a target=\"_blank\" href=https://colab.research.google.com/notebooks/data_table.ipynb>data table notebook</a>'\n",
              "            + ' to learn more about interactive tables.';\n",
              "          element.innerHTML = '';\n",
              "          dataTable['output_type'] = 'display_data';\n",
              "          await google.colab.output.renderOutput(dataTable, element);\n",
              "          const docLink = document.createElement('div');\n",
              "          docLink.innerHTML = docLinkHtml;\n",
              "          element.appendChild(docLink);\n",
              "        }\n",
              "      </script>\n",
              "    </div>\n",
              "  </div>\n",
              "  "
            ]
          },
          "metadata": {},
          "execution_count": 4
        }
      ]
    },
    {
      "cell_type": "code",
      "source": [
        "df.info()"
      ],
      "metadata": {
        "colab": {
          "base_uri": "https://localhost:8080/"
        },
        "id": "xJsrQjoqz2xf",
        "outputId": "7f05eb17-b1af-4ed3-f56f-7bf24567652d"
      },
      "execution_count": null,
      "outputs": [
        {
          "output_type": "stream",
          "name": "stdout",
          "text": [
            "<class 'pandas.core.frame.DataFrame'>\n",
            "RangeIndex: 8128 entries, 0 to 8127\n",
            "Data columns (total 13 columns):\n",
            " #   Column         Non-Null Count  Dtype  \n",
            "---  ------         --------------  -----  \n",
            " 0   name           8128 non-null   object \n",
            " 1   year           8128 non-null   int64  \n",
            " 2   selling_price  8128 non-null   int64  \n",
            " 3   km_driven      8128 non-null   int64  \n",
            " 4   fuel           8128 non-null   object \n",
            " 5   seller_type    8128 non-null   object \n",
            " 6   transmission   8128 non-null   object \n",
            " 7   owner          8128 non-null   object \n",
            " 8   mileage        7907 non-null   object \n",
            " 9   engine         7907 non-null   object \n",
            " 10  max_power      7913 non-null   object \n",
            " 11  torque         7906 non-null   object \n",
            " 12  seats          7907 non-null   float64\n",
            "dtypes: float64(1), int64(3), object(9)\n",
            "memory usage: 825.6+ KB\n"
          ]
        }
      ]
    },
    {
      "cell_type": "code",
      "source": [
        "pd.options.display.float_format = \"{:.4f}\".format\n",
        "df.describe()"
      ],
      "metadata": {
        "colab": {
          "base_uri": "https://localhost:8080/",
          "height": 300
        },
        "id": "wM08WfZO0FUf",
        "outputId": "43cae606-9454-4b3a-fa44-4473a64f393b"
      },
      "execution_count": null,
      "outputs": [
        {
          "output_type": "execute_result",
          "data": {
            "text/plain": [
              "           year  selling_price    km_driven     seats\n",
              "count 8128.0000      8128.0000    8128.0000 7907.0000\n",
              "mean  2013.8040    638271.8077   69819.5108    5.4167\n",
              "std      4.0442    806253.4035   56550.5550    0.9596\n",
              "min   1983.0000     29999.0000       1.0000    2.0000\n",
              "25%   2011.0000    254999.0000   35000.0000    5.0000\n",
              "50%   2015.0000    450000.0000   60000.0000    5.0000\n",
              "75%   2017.0000    675000.0000   98000.0000    5.0000\n",
              "max   2020.0000  10000000.0000 2360457.0000   14.0000"
            ],
            "text/html": [
              "\n",
              "  <div id=\"df-cc7f9701-a27c-41c1-a69c-c5bd28b6e823\">\n",
              "    <div class=\"colab-df-container\">\n",
              "      <div>\n",
              "<style scoped>\n",
              "    .dataframe tbody tr th:only-of-type {\n",
              "        vertical-align: middle;\n",
              "    }\n",
              "\n",
              "    .dataframe tbody tr th {\n",
              "        vertical-align: top;\n",
              "    }\n",
              "\n",
              "    .dataframe thead th {\n",
              "        text-align: right;\n",
              "    }\n",
              "</style>\n",
              "<table border=\"1\" class=\"dataframe\">\n",
              "  <thead>\n",
              "    <tr style=\"text-align: right;\">\n",
              "      <th></th>\n",
              "      <th>year</th>\n",
              "      <th>selling_price</th>\n",
              "      <th>km_driven</th>\n",
              "      <th>seats</th>\n",
              "    </tr>\n",
              "  </thead>\n",
              "  <tbody>\n",
              "    <tr>\n",
              "      <th>count</th>\n",
              "      <td>8128.0000</td>\n",
              "      <td>8128.0000</td>\n",
              "      <td>8128.0000</td>\n",
              "      <td>7907.0000</td>\n",
              "    </tr>\n",
              "    <tr>\n",
              "      <th>mean</th>\n",
              "      <td>2013.8040</td>\n",
              "      <td>638271.8077</td>\n",
              "      <td>69819.5108</td>\n",
              "      <td>5.4167</td>\n",
              "    </tr>\n",
              "    <tr>\n",
              "      <th>std</th>\n",
              "      <td>4.0442</td>\n",
              "      <td>806253.4035</td>\n",
              "      <td>56550.5550</td>\n",
              "      <td>0.9596</td>\n",
              "    </tr>\n",
              "    <tr>\n",
              "      <th>min</th>\n",
              "      <td>1983.0000</td>\n",
              "      <td>29999.0000</td>\n",
              "      <td>1.0000</td>\n",
              "      <td>2.0000</td>\n",
              "    </tr>\n",
              "    <tr>\n",
              "      <th>25%</th>\n",
              "      <td>2011.0000</td>\n",
              "      <td>254999.0000</td>\n",
              "      <td>35000.0000</td>\n",
              "      <td>5.0000</td>\n",
              "    </tr>\n",
              "    <tr>\n",
              "      <th>50%</th>\n",
              "      <td>2015.0000</td>\n",
              "      <td>450000.0000</td>\n",
              "      <td>60000.0000</td>\n",
              "      <td>5.0000</td>\n",
              "    </tr>\n",
              "    <tr>\n",
              "      <th>75%</th>\n",
              "      <td>2017.0000</td>\n",
              "      <td>675000.0000</td>\n",
              "      <td>98000.0000</td>\n",
              "      <td>5.0000</td>\n",
              "    </tr>\n",
              "    <tr>\n",
              "      <th>max</th>\n",
              "      <td>2020.0000</td>\n",
              "      <td>10000000.0000</td>\n",
              "      <td>2360457.0000</td>\n",
              "      <td>14.0000</td>\n",
              "    </tr>\n",
              "  </tbody>\n",
              "</table>\n",
              "</div>\n",
              "      <button class=\"colab-df-convert\" onclick=\"convertToInteractive('df-cc7f9701-a27c-41c1-a69c-c5bd28b6e823')\"\n",
              "              title=\"Convert this dataframe to an interactive table.\"\n",
              "              style=\"display:none;\">\n",
              "        \n",
              "  <svg xmlns=\"http://www.w3.org/2000/svg\" height=\"24px\"viewBox=\"0 0 24 24\"\n",
              "       width=\"24px\">\n",
              "    <path d=\"M0 0h24v24H0V0z\" fill=\"none\"/>\n",
              "    <path d=\"M18.56 5.44l.94 2.06.94-2.06 2.06-.94-2.06-.94-.94-2.06-.94 2.06-2.06.94zm-11 1L8.5 8.5l.94-2.06 2.06-.94-2.06-.94L8.5 2.5l-.94 2.06-2.06.94zm10 10l.94 2.06.94-2.06 2.06-.94-2.06-.94-.94-2.06-.94 2.06-2.06.94z\"/><path d=\"M17.41 7.96l-1.37-1.37c-.4-.4-.92-.59-1.43-.59-.52 0-1.04.2-1.43.59L10.3 9.45l-7.72 7.72c-.78.78-.78 2.05 0 2.83L4 21.41c.39.39.9.59 1.41.59.51 0 1.02-.2 1.41-.59l7.78-7.78 2.81-2.81c.8-.78.8-2.07 0-2.86zM5.41 20L4 18.59l7.72-7.72 1.47 1.35L5.41 20z\"/>\n",
              "  </svg>\n",
              "      </button>\n",
              "      \n",
              "  <style>\n",
              "    .colab-df-container {\n",
              "      display:flex;\n",
              "      flex-wrap:wrap;\n",
              "      gap: 12px;\n",
              "    }\n",
              "\n",
              "    .colab-df-convert {\n",
              "      background-color: #E8F0FE;\n",
              "      border: none;\n",
              "      border-radius: 50%;\n",
              "      cursor: pointer;\n",
              "      display: none;\n",
              "      fill: #1967D2;\n",
              "      height: 32px;\n",
              "      padding: 0 0 0 0;\n",
              "      width: 32px;\n",
              "    }\n",
              "\n",
              "    .colab-df-convert:hover {\n",
              "      background-color: #E2EBFA;\n",
              "      box-shadow: 0px 1px 2px rgba(60, 64, 67, 0.3), 0px 1px 3px 1px rgba(60, 64, 67, 0.15);\n",
              "      fill: #174EA6;\n",
              "    }\n",
              "\n",
              "    [theme=dark] .colab-df-convert {\n",
              "      background-color: #3B4455;\n",
              "      fill: #D2E3FC;\n",
              "    }\n",
              "\n",
              "    [theme=dark] .colab-df-convert:hover {\n",
              "      background-color: #434B5C;\n",
              "      box-shadow: 0px 1px 3px 1px rgba(0, 0, 0, 0.15);\n",
              "      filter: drop-shadow(0px 1px 2px rgba(0, 0, 0, 0.3));\n",
              "      fill: #FFFFFF;\n",
              "    }\n",
              "  </style>\n",
              "\n",
              "      <script>\n",
              "        const buttonEl =\n",
              "          document.querySelector('#df-cc7f9701-a27c-41c1-a69c-c5bd28b6e823 button.colab-df-convert');\n",
              "        buttonEl.style.display =\n",
              "          google.colab.kernel.accessAllowed ? 'block' : 'none';\n",
              "\n",
              "        async function convertToInteractive(key) {\n",
              "          const element = document.querySelector('#df-cc7f9701-a27c-41c1-a69c-c5bd28b6e823');\n",
              "          const dataTable =\n",
              "            await google.colab.kernel.invokeFunction('convertToInteractive',\n",
              "                                                     [key], {});\n",
              "          if (!dataTable) return;\n",
              "\n",
              "          const docLinkHtml = 'Like what you see? Visit the ' +\n",
              "            '<a target=\"_blank\" href=https://colab.research.google.com/notebooks/data_table.ipynb>data table notebook</a>'\n",
              "            + ' to learn more about interactive tables.';\n",
              "          element.innerHTML = '';\n",
              "          dataTable['output_type'] = 'display_data';\n",
              "          await google.colab.output.renderOutput(dataTable, element);\n",
              "          const docLink = document.createElement('div');\n",
              "          docLink.innerHTML = docLinkHtml;\n",
              "          element.appendChild(docLink);\n",
              "        }\n",
              "      </script>\n",
              "    </div>\n",
              "  </div>\n",
              "  "
            ]
          },
          "metadata": {},
          "execution_count": 5
        }
      ]
    },
    {
      "cell_type": "code",
      "source": [
        "df.describe(include='O')\n",
        "# 1. 명목형 변수\n",
        "# 2. 대표값을 넣어서 처리\n",
        "# * 단위가 뒤어붙어서 실제로는 실수형인데 문자(Object) 취급을 받고 있는 열\n",
        "# -> 단위가 통일이 되어 있으면 문제 X, 단위가 다르면? => 통일시켜주고 숫자로."
      ],
      "metadata": {
        "colab": {
          "base_uri": "https://localhost:8080/",
          "height": 174
        },
        "id": "UrvlJK3R0qEh",
        "outputId": "bb5e5723-8db0-4891-a3ed-5a7457706427"
      },
      "execution_count": null,
      "outputs": [
        {
          "output_type": "execute_result",
          "data": {
            "text/plain": [
              "                          name    fuel seller_type transmission        owner  \\\n",
              "count                     8128    8128        8128         8128         8128   \n",
              "unique                    2058       4           3            2            5   \n",
              "top     Maruti Swift Dzire VDI  Diesel  Individual       Manual  First Owner   \n",
              "freq                       129    4402        6766         7078         5289   \n",
              "\n",
              "          mileage   engine max_power          torque  \n",
              "count        7907     7907      7913            7906  \n",
              "unique        393      121       322             441  \n",
              "top     18.9 kmpl  1248 CC    74 bhp  190Nm@ 2000rpm  \n",
              "freq          225     1017       377             530  "
            ],
            "text/html": [
              "\n",
              "  <div id=\"df-3308777f-d143-4249-9e81-7ae0f89ef55a\">\n",
              "    <div class=\"colab-df-container\">\n",
              "      <div>\n",
              "<style scoped>\n",
              "    .dataframe tbody tr th:only-of-type {\n",
              "        vertical-align: middle;\n",
              "    }\n",
              "\n",
              "    .dataframe tbody tr th {\n",
              "        vertical-align: top;\n",
              "    }\n",
              "\n",
              "    .dataframe thead th {\n",
              "        text-align: right;\n",
              "    }\n",
              "</style>\n",
              "<table border=\"1\" class=\"dataframe\">\n",
              "  <thead>\n",
              "    <tr style=\"text-align: right;\">\n",
              "      <th></th>\n",
              "      <th>name</th>\n",
              "      <th>fuel</th>\n",
              "      <th>seller_type</th>\n",
              "      <th>transmission</th>\n",
              "      <th>owner</th>\n",
              "      <th>mileage</th>\n",
              "      <th>engine</th>\n",
              "      <th>max_power</th>\n",
              "      <th>torque</th>\n",
              "    </tr>\n",
              "  </thead>\n",
              "  <tbody>\n",
              "    <tr>\n",
              "      <th>count</th>\n",
              "      <td>8128</td>\n",
              "      <td>8128</td>\n",
              "      <td>8128</td>\n",
              "      <td>8128</td>\n",
              "      <td>8128</td>\n",
              "      <td>7907</td>\n",
              "      <td>7907</td>\n",
              "      <td>7913</td>\n",
              "      <td>7906</td>\n",
              "    </tr>\n",
              "    <tr>\n",
              "      <th>unique</th>\n",
              "      <td>2058</td>\n",
              "      <td>4</td>\n",
              "      <td>3</td>\n",
              "      <td>2</td>\n",
              "      <td>5</td>\n",
              "      <td>393</td>\n",
              "      <td>121</td>\n",
              "      <td>322</td>\n",
              "      <td>441</td>\n",
              "    </tr>\n",
              "    <tr>\n",
              "      <th>top</th>\n",
              "      <td>Maruti Swift Dzire VDI</td>\n",
              "      <td>Diesel</td>\n",
              "      <td>Individual</td>\n",
              "      <td>Manual</td>\n",
              "      <td>First Owner</td>\n",
              "      <td>18.9 kmpl</td>\n",
              "      <td>1248 CC</td>\n",
              "      <td>74 bhp</td>\n",
              "      <td>190Nm@ 2000rpm</td>\n",
              "    </tr>\n",
              "    <tr>\n",
              "      <th>freq</th>\n",
              "      <td>129</td>\n",
              "      <td>4402</td>\n",
              "      <td>6766</td>\n",
              "      <td>7078</td>\n",
              "      <td>5289</td>\n",
              "      <td>225</td>\n",
              "      <td>1017</td>\n",
              "      <td>377</td>\n",
              "      <td>530</td>\n",
              "    </tr>\n",
              "  </tbody>\n",
              "</table>\n",
              "</div>\n",
              "      <button class=\"colab-df-convert\" onclick=\"convertToInteractive('df-3308777f-d143-4249-9e81-7ae0f89ef55a')\"\n",
              "              title=\"Convert this dataframe to an interactive table.\"\n",
              "              style=\"display:none;\">\n",
              "        \n",
              "  <svg xmlns=\"http://www.w3.org/2000/svg\" height=\"24px\"viewBox=\"0 0 24 24\"\n",
              "       width=\"24px\">\n",
              "    <path d=\"M0 0h24v24H0V0z\" fill=\"none\"/>\n",
              "    <path d=\"M18.56 5.44l.94 2.06.94-2.06 2.06-.94-2.06-.94-.94-2.06-.94 2.06-2.06.94zm-11 1L8.5 8.5l.94-2.06 2.06-.94-2.06-.94L8.5 2.5l-.94 2.06-2.06.94zm10 10l.94 2.06.94-2.06 2.06-.94-2.06-.94-.94-2.06-.94 2.06-2.06.94z\"/><path d=\"M17.41 7.96l-1.37-1.37c-.4-.4-.92-.59-1.43-.59-.52 0-1.04.2-1.43.59L10.3 9.45l-7.72 7.72c-.78.78-.78 2.05 0 2.83L4 21.41c.39.39.9.59 1.41.59.51 0 1.02-.2 1.41-.59l7.78-7.78 2.81-2.81c.8-.78.8-2.07 0-2.86zM5.41 20L4 18.59l7.72-7.72 1.47 1.35L5.41 20z\"/>\n",
              "  </svg>\n",
              "      </button>\n",
              "      \n",
              "  <style>\n",
              "    .colab-df-container {\n",
              "      display:flex;\n",
              "      flex-wrap:wrap;\n",
              "      gap: 12px;\n",
              "    }\n",
              "\n",
              "    .colab-df-convert {\n",
              "      background-color: #E8F0FE;\n",
              "      border: none;\n",
              "      border-radius: 50%;\n",
              "      cursor: pointer;\n",
              "      display: none;\n",
              "      fill: #1967D2;\n",
              "      height: 32px;\n",
              "      padding: 0 0 0 0;\n",
              "      width: 32px;\n",
              "    }\n",
              "\n",
              "    .colab-df-convert:hover {\n",
              "      background-color: #E2EBFA;\n",
              "      box-shadow: 0px 1px 2px rgba(60, 64, 67, 0.3), 0px 1px 3px 1px rgba(60, 64, 67, 0.15);\n",
              "      fill: #174EA6;\n",
              "    }\n",
              "\n",
              "    [theme=dark] .colab-df-convert {\n",
              "      background-color: #3B4455;\n",
              "      fill: #D2E3FC;\n",
              "    }\n",
              "\n",
              "    [theme=dark] .colab-df-convert:hover {\n",
              "      background-color: #434B5C;\n",
              "      box-shadow: 0px 1px 3px 1px rgba(0, 0, 0, 0.15);\n",
              "      filter: drop-shadow(0px 1px 2px rgba(0, 0, 0, 0.3));\n",
              "      fill: #FFFFFF;\n",
              "    }\n",
              "  </style>\n",
              "\n",
              "      <script>\n",
              "        const buttonEl =\n",
              "          document.querySelector('#df-3308777f-d143-4249-9e81-7ae0f89ef55a button.colab-df-convert');\n",
              "        buttonEl.style.display =\n",
              "          google.colab.kernel.accessAllowed ? 'block' : 'none';\n",
              "\n",
              "        async function convertToInteractive(key) {\n",
              "          const element = document.querySelector('#df-3308777f-d143-4249-9e81-7ae0f89ef55a');\n",
              "          const dataTable =\n",
              "            await google.colab.kernel.invokeFunction('convertToInteractive',\n",
              "                                                     [key], {});\n",
              "          if (!dataTable) return;\n",
              "\n",
              "          const docLinkHtml = 'Like what you see? Visit the ' +\n",
              "            '<a target=\"_blank\" href=https://colab.research.google.com/notebooks/data_table.ipynb>data table notebook</a>'\n",
              "            + ' to learn more about interactive tables.';\n",
              "          element.innerHTML = '';\n",
              "          dataTable['output_type'] = 'display_data';\n",
              "          await google.colab.output.renderOutput(dataTable, element);\n",
              "          const docLink = document.createElement('div');\n",
              "          docLink.innerHTML = docLinkHtml;\n",
              "          element.appendChild(docLink);\n",
              "        }\n",
              "      </script>\n",
              "    </div>\n",
              "  </div>\n",
              "  "
            ]
          },
          "metadata": {},
          "execution_count": 6
        }
      ]
    },
    {
      "cell_type": "markdown",
      "source": [
        "# 전처리"
      ],
      "metadata": {
        "id": "VMXG5I0I0n8s"
      }
    },
    {
      "cell_type": "code",
      "source": [
        "# 결측치\n",
        "df.isna().sum()\n",
        "df.isnull().sum()\n",
        "df.isnull().sum().plot(kind='bar')"
      ],
      "metadata": {
        "colab": {
          "base_uri": "https://localhost:8080/",
          "height": 338
        },
        "id": "9KSqhhGW0nMb",
        "outputId": "f4b60f76-b606-4cd4-ac90-6cd1539109a1"
      },
      "execution_count": null,
      "outputs": [
        {
          "output_type": "execute_result",
          "data": {
            "text/plain": [
              "<Axes: >"
            ]
          },
          "metadata": {},
          "execution_count": 9
        },
        {
          "output_type": "display_data",
          "data": {
            "text/plain": [
              "<Figure size 432x288 with 1 Axes>"
            ],
            "image/png": "[encoded data removed]"
          },
          "metadata": {
            "needs_background": "light"
          }
        }
      ]
    },
    {
      "cell_type": "code",
      "source": [
        "# 결측치별 비중\n",
        "# 2~3%. drop? 최빈값/평균값 대표값...\n",
        "df.isnull().sum() / len(df)"
      ],
      "metadata": {
        "colab": {
          "base_uri": "https://localhost:8080/"
        },
        "id": "YKLdut9D1iPG",
        "outputId": "3dd7eecc-80f5-4fe1-f74d-f82bd991cc03"
      },
      "execution_count": null,
      "outputs": [
        {
          "output_type": "execute_result",
          "data": {
            "text/plain": [
              "name            0.0000\n",
              "year            0.0000\n",
              "selling_price   0.0000\n",
              "km_driven       0.0000\n",
              "fuel            0.0000\n",
              "seller_type     0.0000\n",
              "transmission    0.0000\n",
              "owner           0.0000\n",
              "mileage         0.0272\n",
              "engine          0.0272\n",
              "max_power       0.0265\n",
              "torque          0.0273\n",
              "seats           0.0272\n",
              "dtype: float64"
            ]
          },
          "metadata": {},
          "execution_count": 10
        }
      ]
    },
    {
      "cell_type": "markdown",
      "source": [
        "## 단위 처리\n",
        "* 실수형인데 단위 때문에 범주형으로 분류되는 데이터들을 실수형으로 바꿔주는 작업\n",
        "* `mileage` / `engine` / `max_power` / `torque`"
      ],
      "metadata": {
        "id": "mGl_ibWd1yMW"
      }
    },
    {
      "cell_type": "markdown",
      "source": [
        "### Engine"
      ],
      "metadata": {
        "id": "1lKn89DSP5et"
      }
    },
    {
      "cell_type": "code",
      "source": [
        "# 단위가 CC로 통일 -> 일괄적으로 제거해준다음에 변환\n",
        "# 단순일괄처리 -> nan이 껴져 있어서 조금 까다로움\n",
        "df.engine.unique()"
      ],
      "metadata": {
        "colab": {
          "base_uri": "https://localhost:8080/"
        },
        "id": "_8BzK5332HfA",
        "outputId": "58272dc3-8f44-4a17-cf38-6bc7591b1594"
      },
      "execution_count": null,
      "outputs": [
        {
          "output_type": "execute_result",
          "data": {
            "text/plain": [
              "array(['1248 CC', '1498 CC', '1497 CC', '1396 CC', '1298 CC', '1197 CC',\n",
              "       '1061 CC', '796 CC', '1364 CC', '1399 CC', '1461 CC', '993 CC',\n",
              "       nan, '1198 CC', '1199 CC', '998 CC', '1591 CC', '2179 CC',\n",
              "       '1368 CC', '2982 CC', '2494 CC', '2143 CC', '2477 CC', '1462 CC',\n",
              "       '2755 CC', '1968 CC', '1798 CC', '1196 CC', '1373 CC', '1598 CC',\n",
              "       '1998 CC', '1086 CC', '1194 CC', '1172 CC', '1405 CC', '1582 CC',\n",
              "       '999 CC', '2487 CC', '1999 CC', '3604 CC', '2987 CC', '1995 CC',\n",
              "       '1451 CC', '1969 CC', '2967 CC', '2497 CC', '1797 CC', '1991 CC',\n",
              "       '2362 CC', '1493 CC', '1599 CC', '1341 CC', '1794 CC', '799 CC',\n",
              "       '1193 CC', '2696 CC', '1495 CC', '1186 CC', '1047 CC', '2498 CC',\n",
              "       '2956 CC', '2523 CC', '1120 CC', '624 CC', '1496 CC', '1984 CC',\n",
              "       '2354 CC', '814 CC', '793 CC', '1799 CC', '936 CC', '1956 CC',\n",
              "       '1997 CC', '1499 CC', '1948 CC', '2997 CC', '2489 CC', '2499 CC',\n",
              "       '2609 CC', '2953 CC', '1150 CC', '1994 CC', '1388 CC', '1527 CC',\n",
              "       '2199 CC', '995 CC', '2993 CC', '1586 CC', '1390 CC', '909 CC',\n",
              "       '2393 CC', '3198 CC', '1339 CC', '2835 CC', '2092 CC', '1595 CC',\n",
              "       '2496 CC', '1596 CC', '1597 CC', '2596 CC', '2148 CC', '1299 CC',\n",
              "       '1590 CC', '2231 CC', '2694 CC', '2200 CC', '1795 CC', '1896 CC',\n",
              "       '1796 CC', '1422 CC', '1489 CC', '2359 CC', '2197 CC', '2999 CC',\n",
              "       '1781 CC', '2650 CC', '1343 CC', '2446 CC', '3498 CC', '2198 CC',\n",
              "       '2776 CC', '1950 CC'], dtype=object)"
            ]
          },
          "metadata": {},
          "execution_count": 13
        }
      ]
    },
    {
      "cell_type": "code",
      "source": [
        "# {숫자값} CC\n",
        "# df.{칼럼명}.str : (행 단위로) 문자열을 처리하는 메소드(함수)를 불러올 수 있음\n",
        "# ...str.split() # 리스트로 쪼개짐 -> 행 안에\n",
        "df.engine.str.split()"
      ],
      "metadata": {
        "colab": {
          "base_uri": "https://localhost:8080/"
        },
        "id": "DtH7UpvS2hYS",
        "outputId": "f685c0e4-de6e-40f8-dfda-5b3e61d8d6e7"
      },
      "execution_count": null,
      "outputs": [
        {
          "output_type": "execute_result",
          "data": {
            "text/plain": [
              "0       [1248, CC]\n",
              "1       [1498, CC]\n",
              "2       [1497, CC]\n",
              "3       [1396, CC]\n",
              "4       [1298, CC]\n",
              "           ...    \n",
              "8123    [1197, CC]\n",
              "8124    [1493, CC]\n",
              "8125    [1248, CC]\n",
              "8126    [1396, CC]\n",
              "8127    [1396, CC]\n",
              "Name: engine, Length: 8128, dtype: object"
            ]
          },
          "metadata": {},
          "execution_count": 14
        }
      ]
    },
    {
      "cell_type": "code",
      "source": [
        "# ...str.split(expand=True) # 열로 쪼개짐 (쪼개진 df)\n",
        "# 0번째 열만 선택해서 새롭게 engine 값으로 넣어주면 되겠네?\n",
        "df.engine.str.split(expand=True)"
      ],
      "metadata": {
        "colab": {
          "base_uri": "https://localhost:8080/",
          "height": 423
        },
        "id": "qJS4Z9Ax270L",
        "outputId": "c7c70dc7-9a06-4234-fd20-ca0d967ade91"
      },
      "execution_count": null,
      "outputs": [
        {
          "output_type": "execute_result",
          "data": {
            "text/plain": [
              "         0   1\n",
              "0     1248  CC\n",
              "1     1498  CC\n",
              "2     1497  CC\n",
              "3     1396  CC\n",
              "4     1298  CC\n",
              "...    ...  ..\n",
              "8123  1197  CC\n",
              "8124  1493  CC\n",
              "8125  1248  CC\n",
              "8126  1396  CC\n",
              "8127  1396  CC\n",
              "\n",
              "[8128 rows x 2 columns]"
            ],
            "text/html": [
              "\n",
              "  <div id=\"df-8de19cc9-c849-412f-b524-b60d7dec9f2c\">\n",
              "    <div class=\"colab-df-container\">\n",
              "      <div>\n",
              "<style scoped>\n",
              "    .dataframe tbody tr th:only-of-type {\n",
              "        vertical-align: middle;\n",
              "    }\n",
              "\n",
              "    .dataframe tbody tr th {\n",
              "        vertical-align: top;\n",
              "    }\n",
              "\n",
              "    .dataframe thead th {\n",
              "        text-align: right;\n",
              "    }\n",
              "</style>\n",
              "<table border=\"1\" class=\"dataframe\">\n",
              "  <thead>\n",
              "    <tr style=\"text-align: right;\">\n",
              "      <th></th>\n",
              "      <th>0</th>\n",
              "      <th>1</th>\n",
              "    </tr>\n",
              "  </thead>\n",
              "  <tbody>\n",
              "    <tr>\n",
              "      <th>0</th>\n",
              "      <td>1248</td>\n",
              "      <td>CC</td>\n",
              "    </tr>\n",
              "    <tr>\n",
              "      <th>1</th>\n",
              "      <td>1498</td>\n",
              "      <td>CC</td>\n",
              "    </tr>\n",
              "    <tr>\n",
              "      <th>2</th>\n",
              "      <td>1497</td>\n",
              "      <td>CC</td>\n",
              "    </tr>\n",
              "    <tr>\n",
              "      <th>3</th>\n",
              "      <td>1396</td>\n",
              "      <td>CC</td>\n",
              "    </tr>\n",
              "    <tr>\n",
              "      <th>4</th>\n",
              "      <td>1298</td>\n",
              "      <td>CC</td>\n",
              "    </tr>\n",
              "    <tr>\n",
              "      <th>...</th>\n",
              "      <td>...</td>\n",
              "      <td>...</td>\n",
              "    </tr>\n",
              "    <tr>\n",
              "      <th>8123</th>\n",
              "      <td>1197</td>\n",
              "      <td>CC</td>\n",
              "    </tr>\n",
              "    <tr>\n",
              "      <th>8124</th>\n",
              "      <td>1493</td>\n",
              "      <td>CC</td>\n",
              "    </tr>\n",
              "    <tr>\n",
              "      <th>8125</th>\n",
              "      <td>1248</td>\n",
              "      <td>CC</td>\n",
              "    </tr>\n",
              "    <tr>\n",
              "      <th>8126</th>\n",
              "      <td>1396</td>\n",
              "      <td>CC</td>\n",
              "    </tr>\n",
              "    <tr>\n",
              "      <th>8127</th>\n",
              "      <td>1396</td>\n",
              "      <td>CC</td>\n",
              "    </tr>\n",
              "  </tbody>\n",
              "</table>\n",
              "<p>8128 rows × 2 columns</p>\n",
              "</div>\n",
              "      <button class=\"colab-df-convert\" onclick=\"convertToInteractive('df-8de19cc9-c849-412f-b524-b60d7dec9f2c')\"\n",
              "              title=\"Convert this dataframe to an interactive table.\"\n",
              "              style=\"display:none;\">\n",
              "        \n",
              "  <svg xmlns=\"http://www.w3.org/2000/svg\" height=\"24px\"viewBox=\"0 0 24 24\"\n",
              "       width=\"24px\">\n",
              "    <path d=\"M0 0h24v24H0V0z\" fill=\"none\"/>\n",
              "    <path d=\"M18.56 5.44l.94 2.06.94-2.06 2.06-.94-2.06-.94-.94-2.06-.94 2.06-2.06.94zm-11 1L8.5 8.5l.94-2.06 2.06-.94-2.06-.94L8.5 2.5l-.94 2.06-2.06.94zm10 10l.94 2.06.94-2.06 2.06-.94-2.06-.94-.94-2.06-.94 2.06-2.06.94z\"/><path d=\"M17.41 7.96l-1.37-1.37c-.4-.4-.92-.59-1.43-.59-.52 0-1.04.2-1.43.59L10.3 9.45l-7.72 7.72c-.78.78-.78 2.05 0 2.83L4 21.41c.39.39.9.59 1.41.59.51 0 1.02-.2 1.41-.59l7.78-7.78 2.81-2.81c.8-.78.8-2.07 0-2.86zM5.41 20L4 18.59l7.72-7.72 1.47 1.35L5.41 20z\"/>\n",
              "  </svg>\n",
              "      </button>\n",
              "      \n",
              "  <style>\n",
              "    .colab-df-container {\n",
              "      display:flex;\n",
              "      flex-wrap:wrap;\n",
              "      gap: 12px;\n",
              "    }\n",
              "\n",
              "    .colab-df-convert {\n",
              "      background-color: #E8F0FE;\n",
              "      border: none;\n",
              "      border-radius: 50%;\n",
              "      cursor: pointer;\n",
              "      display: none;\n",
              "      fill: #1967D2;\n",
              "      height: 32px;\n",
              "      padding: 0 0 0 0;\n",
              "      width: 32px;\n",
              "    }\n",
              "\n",
              "    .colab-df-convert:hover {\n",
              "      background-color: #E2EBFA;\n",
              "      box-shadow: 0px 1px 2px rgba(60, 64, 67, 0.3), 0px 1px 3px 1px rgba(60, 64, 67, 0.15);\n",
              "      fill: #174EA6;\n",
              "    }\n",
              "\n",
              "    [theme=dark] .colab-df-convert {\n",
              "      background-color: #3B4455;\n",
              "      fill: #D2E3FC;\n",
              "    }\n",
              "\n",
              "    [theme=dark] .colab-df-convert:hover {\n",
              "      background-color: #434B5C;\n",
              "      box-shadow: 0px 1px 3px 1px rgba(0, 0, 0, 0.15);\n",
              "      filter: drop-shadow(0px 1px 2px rgba(0, 0, 0, 0.3));\n",
              "      fill: #FFFFFF;\n",
              "    }\n",
              "  </style>\n",
              "\n",
              "      <script>\n",
              "        const buttonEl =\n",
              "          document.querySelector('#df-8de19cc9-c849-412f-b524-b60d7dec9f2c button.colab-df-convert');\n",
              "        buttonEl.style.display =\n",
              "          google.colab.kernel.accessAllowed ? 'block' : 'none';\n",
              "\n",
              "        async function convertToInteractive(key) {\n",
              "          const element = document.querySelector('#df-8de19cc9-c849-412f-b524-b60d7dec9f2c');\n",
              "          const dataTable =\n",
              "            await google.colab.kernel.invokeFunction('convertToInteractive',\n",
              "                                                     [key], {});\n",
              "          if (!dataTable) return;\n",
              "\n",
              "          const docLinkHtml = 'Like what you see? Visit the ' +\n",
              "            '<a target=\"_blank\" href=https://colab.research.google.com/notebooks/data_table.ipynb>data table notebook</a>'\n",
              "            + ' to learn more about interactive tables.';\n",
              "          element.innerHTML = '';\n",
              "          dataTable['output_type'] = 'display_data';\n",
              "          await google.colab.output.renderOutput(dataTable, element);\n",
              "          const docLink = document.createElement('div');\n",
              "          docLink.innerHTML = docLinkHtml;\n",
              "          element.appendChild(docLink);\n",
              "        }\n",
              "      </script>\n",
              "    </div>\n",
              "  </div>\n",
              "  "
            ]
          },
          "metadata": {},
          "execution_count": 15
        }
      ]
    },
    {
      "cell_type": "code",
      "source": [
        "df.engine.str.split(expand=True)[0]"
      ],
      "metadata": {
        "colab": {
          "base_uri": "https://localhost:8080/"
        },
        "id": "SDGzdazp-Upe",
        "outputId": "36fecb22-351c-4312-c882-3bcc9c6ed277"
      },
      "execution_count": null,
      "outputs": [
        {
          "output_type": "execute_result",
          "data": {
            "text/plain": [
              "0       1248\n",
              "1       1498\n",
              "2       1497\n",
              "3       1396\n",
              "4       1298\n",
              "        ... \n",
              "8123    1197\n",
              "8124    1493\n",
              "8125    1248\n",
              "8126    1396\n",
              "8127    1396\n",
              "Name: 0, Length: 8128, dtype: object"
            ]
          },
          "metadata": {},
          "execution_count": 16
        }
      ]
    },
    {
      "cell_type": "code",
      "source": [
        "df[['engine', 'engine_unit']] = df.engine.str.split(expand=True)\n",
        "df.head()"
      ],
      "metadata": {
        "colab": {
          "base_uri": "https://localhost:8080/",
          "height": 441
        },
        "id": "6_lJOP813HDQ",
        "outputId": "3a949409-2b85-4669-83a3-42d1ddb092e8"
      },
      "execution_count": null,
      "outputs": [
        {
          "output_type": "execute_result",
          "data": {
            "text/plain": [
              "                           name  year  selling_price  km_driven    fuel  \\\n",
              "0        Maruti Swift Dzire VDI  2014         450000     145500  Diesel   \n",
              "1  Skoda Rapid 1.5 TDI Ambition  2014         370000     120000  Diesel   \n",
              "2      Honda City 2017-2020 EXi  2006         158000     140000  Petrol   \n",
              "3     Hyundai i20 Sportz Diesel  2010         225000     127000  Diesel   \n",
              "4        Maruti Swift VXI BSIII  2007         130000     120000  Petrol   \n",
              "\n",
              "  seller_type transmission         owner     mileage engine   max_power  \\\n",
              "0  Individual       Manual   First Owner   23.4 kmpl   1248      74 bhp   \n",
              "1  Individual       Manual  Second Owner  21.14 kmpl   1498  103.52 bhp   \n",
              "2  Individual       Manual   Third Owner   17.7 kmpl   1497      78 bhp   \n",
              "3  Individual       Manual   First Owner   23.0 kmpl   1396      90 bhp   \n",
              "4  Individual       Manual   First Owner   16.1 kmpl   1298    88.2 bhp   \n",
              "\n",
              "                     torque  seats engine_unit  \n",
              "0            190Nm@ 2000rpm 5.0000          CC  \n",
              "1       250Nm@ 1500-2500rpm 5.0000          CC  \n",
              "2     12.7@ 2,700(kgm@ rpm) 5.0000          CC  \n",
              "3  22.4 kgm at 1750-2750rpm 5.0000          CC  \n",
              "4     11.5@ 4,500(kgm@ rpm) 5.0000          CC  "
            ],
            "text/html": [
              "\n",
              "  <div id=\"df-fa0d0d87-2df0-4fde-8f30-b68017ae0928\">\n",
              "    <div class=\"colab-df-container\">\n",
              "      <div>\n",
              "<style scoped>\n",
              "    .dataframe tbody tr th:only-of-type {\n",
              "        vertical-align: middle;\n",
              "    }\n",
              "\n",
              "    .dataframe tbody tr th {\n",
              "        vertical-align: top;\n",
              "    }\n",
              "\n",
              "    .dataframe thead th {\n",
              "        text-align: right;\n",
              "    }\n",
              "</style>\n",
              "<table border=\"1\" class=\"dataframe\">\n",
              "  <thead>\n",
              "    <tr style=\"text-align: right;\">\n",
              "      <th></th>\n",
              "      <th>name</th>\n",
              "      <th>year</th>\n",
              "      <th>selling_price</th>\n",
              "      <th>km_driven</th>\n",
              "      <th>fuel</th>\n",
              "      <th>seller_type</th>\n",
              "      <th>transmission</th>\n",
              "      <th>owner</th>\n",
              "      <th>mileage</th>\n",
              "      <th>engine</th>\n",
              "      <th>max_power</th>\n",
              "      <th>torque</th>\n",
              "      <th>seats</th>\n",
              "      <th>engine_unit</th>\n",
              "    </tr>\n",
              "  </thead>\n",
              "  <tbody>\n",
              "    <tr>\n",
              "      <th>0</th>\n",
              "      <td>Maruti Swift Dzire VDI</td>\n",
              "      <td>2014</td>\n",
              "      <td>450000</td>\n",
              "      <td>145500</td>\n",
              "      <td>Diesel</td>\n",
              "      <td>Individual</td>\n",
              "      <td>Manual</td>\n",
              "      <td>First Owner</td>\n",
              "      <td>23.4 kmpl</td>\n",
              "      <td>1248</td>\n",
              "      <td>74 bhp</td>\n",
              "      <td>190Nm@ 2000rpm</td>\n",
              "      <td>5.0000</td>\n",
              "      <td>CC</td>\n",
              "    </tr>\n",
              "    <tr>\n",
              "      <th>1</th>\n",
              "      <td>Skoda Rapid 1.5 TDI Ambition</td>\n",
              "      <td>2014</td>\n",
              "      <td>370000</td>\n",
              "      <td>120000</td>\n",
              "      <td>Diesel</td>\n",
              "      <td>Individual</td>\n",
              "      <td>Manual</td>\n",
              "      <td>Second Owner</td>\n",
              "      <td>21.14 kmpl</td>\n",
              "      <td>1498</td>\n",
              "      <td>103.52 bhp</td>\n",
              "      <td>250Nm@ 1500-2500rpm</td>\n",
              "      <td>5.0000</td>\n",
              "      <td>CC</td>\n",
              "    </tr>\n",
              "    <tr>\n",
              "      <th>2</th>\n",
              "      <td>Honda City 2017-2020 EXi</td>\n",
              "      <td>2006</td>\n",
              "      <td>158000</td>\n",
              "      <td>140000</td>\n",
              "      <td>Petrol</td>\n",
              "      <td>Individual</td>\n",
              "      <td>Manual</td>\n",
              "      <td>Third Owner</td>\n",
              "      <td>17.7 kmpl</td>\n",
              "      <td>1497</td>\n",
              "      <td>78 bhp</td>\n",
              "      <td>12.7@ 2,700(kgm@ rpm)</td>\n",
              "      <td>5.0000</td>\n",
              "      <td>CC</td>\n",
              "    </tr>\n",
              "    <tr>\n",
              "      <th>3</th>\n",
              "      <td>Hyundai i20 Sportz Diesel</td>\n",
              "      <td>2010</td>\n",
              "      <td>225000</td>\n",
              "      <td>127000</td>\n",
              "      <td>Diesel</td>\n",
              "      <td>Individual</td>\n",
              "      <td>Manual</td>\n",
              "      <td>First Owner</td>\n",
              "      <td>23.0 kmpl</td>\n",
              "      <td>1396</td>\n",
              "      <td>90 bhp</td>\n",
              "      <td>22.4 kgm at 1750-2750rpm</td>\n",
              "      <td>5.0000</td>\n",
              "      <td>CC</td>\n",
              "    </tr>\n",
              "    <tr>\n",
              "      <th>4</th>\n",
              "      <td>Maruti Swift VXI BSIII</td>\n",
              "      <td>2007</td>\n",
              "      <td>130000</td>\n",
              "      <td>120000</td>\n",
              "      <td>Petrol</td>\n",
              "      <td>Individual</td>\n",
              "      <td>Manual</td>\n",
              "      <td>First Owner</td>\n",
              "      <td>16.1 kmpl</td>\n",
              "      <td>1298</td>\n",
              "      <td>88.2 bhp</td>\n",
              "      <td>11.5@ 4,500(kgm@ rpm)</td>\n",
              "      <td>5.0000</td>\n",
              "      <td>CC</td>\n",
              "    </tr>\n",
              "  </tbody>\n",
              "</table>\n",
              "</div>\n",
              "      <button class=\"colab-df-convert\" onclick=\"convertToInteractive('df-fa0d0d87-2df0-4fde-8f30-b68017ae0928')\"\n",
              "              title=\"Convert this dataframe to an interactive table.\"\n",
              "              style=\"display:none;\">\n",
              "        \n",
              "  <svg xmlns=\"http://www.w3.org/2000/svg\" height=\"24px\"viewBox=\"0 0 24 24\"\n",
              "       width=\"24px\">\n",
              "    <path d=\"M0 0h24v24H0V0z\" fill=\"none\"/>\n",
              "    <path d=\"M18.56 5.44l.94 2.06.94-2.06 2.06-.94-2.06-.94-.94-2.06-.94 2.06-2.06.94zm-11 1L8.5 8.5l.94-2.06 2.06-.94-2.06-.94L8.5 2.5l-.94 2.06-2.06.94zm10 10l.94 2.06.94-2.06 2.06-.94-2.06-.94-.94-2.06-.94 2.06-2.06.94z\"/><path d=\"M17.41 7.96l-1.37-1.37c-.4-.4-.92-.59-1.43-.59-.52 0-1.04.2-1.43.59L10.3 9.45l-7.72 7.72c-.78.78-.78 2.05 0 2.83L4 21.41c.39.39.9.59 1.41.59.51 0 1.02-.2 1.41-.59l7.78-7.78 2.81-2.81c.8-.78.8-2.07 0-2.86zM5.41 20L4 18.59l7.72-7.72 1.47 1.35L5.41 20z\"/>\n",
              "  </svg>\n",
              "      </button>\n",
              "      \n",
              "  <style>\n",
              "    .colab-df-container {\n",
              "      display:flex;\n",
              "      flex-wrap:wrap;\n",
              "      gap: 12px;\n",
              "    }\n",
              "\n",
              "    .colab-df-convert {\n",
              "      background-color: #E8F0FE;\n",
              "      border: none;\n",
              "      border-radius: 50%;\n",
              "      cursor: pointer;\n",
              "      display: none;\n",
              "      fill: #1967D2;\n",
              "      height: 32px;\n",
              "      padding: 0 0 0 0;\n",
              "      width: 32px;\n",
              "    }\n",
              "\n",
              "    .colab-df-convert:hover {\n",
              "      background-color: #E2EBFA;\n",
              "      box-shadow: 0px 1px 2px rgba(60, 64, 67, 0.3), 0px 1px 3px 1px rgba(60, 64, 67, 0.15);\n",
              "      fill: #174EA6;\n",
              "    }\n",
              "\n",
              "    [theme=dark] .colab-df-convert {\n",
              "      background-color: #3B4455;\n",
              "      fill: #D2E3FC;\n",
              "    }\n",
              "\n",
              "    [theme=dark] .colab-df-convert:hover {\n",
              "      background-color: #434B5C;\n",
              "      box-shadow: 0px 1px 3px 1px rgba(0, 0, 0, 0.15);\n",
              "      filter: drop-shadow(0px 1px 2px rgba(0, 0, 0, 0.3));\n",
              "      fill: #FFFFFF;\n",
              "    }\n",
              "  </style>\n",
              "\n",
              "      <script>\n",
              "        const buttonEl =\n",
              "          document.querySelector('#df-fa0d0d87-2df0-4fde-8f30-b68017ae0928 button.colab-df-convert');\n",
              "        buttonEl.style.display =\n",
              "          google.colab.kernel.accessAllowed ? 'block' : 'none';\n",
              "\n",
              "        async function convertToInteractive(key) {\n",
              "          const element = document.querySelector('#df-fa0d0d87-2df0-4fde-8f30-b68017ae0928');\n",
              "          const dataTable =\n",
              "            await google.colab.kernel.invokeFunction('convertToInteractive',\n",
              "                                                     [key], {});\n",
              "          if (!dataTable) return;\n",
              "\n",
              "          const docLinkHtml = 'Like what you see? Visit the ' +\n",
              "            '<a target=\"_blank\" href=https://colab.research.google.com/notebooks/data_table.ipynb>data table notebook</a>'\n",
              "            + ' to learn more about interactive tables.';\n",
              "          element.innerHTML = '';\n",
              "          dataTable['output_type'] = 'display_data';\n",
              "          await google.colab.output.renderOutput(dataTable, element);\n",
              "          const docLink = document.createElement('div');\n",
              "          docLink.innerHTML = docLinkHtml;\n",
              "          element.appendChild(docLink);\n",
              "        }\n",
              "      </script>\n",
              "    </div>\n",
              "  </div>\n",
              "  "
            ]
          },
          "metadata": {},
          "execution_count": 17
        }
      ]
    },
    {
      "cell_type": "code",
      "source": [
        "df.engine.head()"
      ],
      "metadata": {
        "colab": {
          "base_uri": "https://localhost:8080/"
        },
        "id": "5nHW9d_W3N1M",
        "outputId": "af0fd4bc-3ff5-4fe2-c8ee-ef5e7b200d17"
      },
      "execution_count": null,
      "outputs": [
        {
          "output_type": "execute_result",
          "data": {
            "text/plain": [
              "0    1248\n",
              "1    1498\n",
              "2    1497\n",
              "3    1396\n",
              "4    1298\n",
              "Name: engine, dtype: object"
            ]
          },
          "metadata": {},
          "execution_count": 18
        }
      ]
    },
    {
      "cell_type": "code",
      "source": [
        "# ...astype(변환시켜줄 타입)\n",
        "# df.engine.astype(float)\n",
        "# df.engine.astype('float32')\n",
        "df.engine.astype('f')"
      ],
      "metadata": {
        "colab": {
          "base_uri": "https://localhost:8080/"
        },
        "id": "ev6XfB3Q37lX",
        "outputId": "78eac957-b2ac-434b-dbd8-3b6322326800"
      },
      "execution_count": null,
      "outputs": [
        {
          "output_type": "execute_result",
          "data": {
            "text/plain": [
              "0      1248.0000\n",
              "1      1498.0000\n",
              "2      1497.0000\n",
              "3      1396.0000\n",
              "4      1298.0000\n",
              "          ...   \n",
              "8123   1197.0000\n",
              "8124   1493.0000\n",
              "8125   1248.0000\n",
              "8126   1396.0000\n",
              "8127   1396.0000\n",
              "Name: engine, Length: 8128, dtype: float32"
            ]
          },
          "metadata": {},
          "execution_count": 21
        }
      ]
    },
    {
      "cell_type": "code",
      "source": [
        "df.engine = df.engine.astype('float32')\n",
        "df.engine"
      ],
      "metadata": {
        "colab": {
          "base_uri": "https://localhost:8080/"
        },
        "id": "0LB4n-yE4Gtx",
        "outputId": "3adad371-cdac-4371-ee6f-d58decc982ec"
      },
      "execution_count": null,
      "outputs": [
        {
          "output_type": "execute_result",
          "data": {
            "text/plain": [
              "0      1248.0000\n",
              "1      1498.0000\n",
              "2      1497.0000\n",
              "3      1396.0000\n",
              "4      1298.0000\n",
              "          ...   \n",
              "8123   1197.0000\n",
              "8124   1493.0000\n",
              "8125   1248.0000\n",
              "8126   1396.0000\n",
              "8127   1396.0000\n",
              "Name: engine, Length: 8128, dtype: float32"
            ]
          },
          "metadata": {},
          "execution_count": 22
        }
      ]
    },
    {
      "cell_type": "code",
      "source": [
        "df.engine_unit.unique()"
      ],
      "metadata": {
        "colab": {
          "base_uri": "https://localhost:8080/"
        },
        "id": "EFyGoAfU4QbO",
        "outputId": "70a048ff-4ebd-451e-ef32-327502c8f277"
      },
      "execution_count": null,
      "outputs": [
        {
          "output_type": "execute_result",
          "data": {
            "text/plain": [
              "array(['CC', nan], dtype=object)"
            ]
          },
          "metadata": {},
          "execution_count": 23
        }
      ]
    },
    {
      "cell_type": "code",
      "source": [
        "df.drop('engine_unit', axis=1, inplace=True)"
      ],
      "metadata": {
        "id": "0kWagW2u4XeA"
      },
      "execution_count": null,
      "outputs": []
    },
    {
      "cell_type": "code",
      "source": [
        "df.info()"
      ],
      "metadata": {
        "colab": {
          "base_uri": "https://localhost:8080/"
        },
        "id": "1XW3bMM1_TXQ",
        "outputId": "f45b0c69-9007-4047-c1aa-3426a5525d29"
      },
      "execution_count": null,
      "outputs": [
        {
          "output_type": "stream",
          "name": "stdout",
          "text": [
            "<class 'pandas.core.frame.DataFrame'>\n",
            "RangeIndex: 8128 entries, 0 to 8127\n",
            "Data columns (total 13 columns):\n",
            " #   Column         Non-Null Count  Dtype  \n",
            "---  ------         --------------  -----  \n",
            " 0   name           8128 non-null   object \n",
            " 1   year           8128 non-null   int64  \n",
            " 2   selling_price  8128 non-null   int64  \n",
            " 3   km_driven      8128 non-null   int64  \n",
            " 4   fuel           8128 non-null   object \n",
            " 5   seller_type    8128 non-null   object \n",
            " 6   transmission   8128 non-null   object \n",
            " 7   owner          8128 non-null   object \n",
            " 8   mileage        7907 non-null   object \n",
            " 9   engine         7907 non-null   float32\n",
            " 10  max_power      7913 non-null   object \n",
            " 11  torque         7906 non-null   object \n",
            " 12  seats          7907 non-null   float64\n",
            "dtypes: float32(1), float64(1), int64(3), object(8)\n",
            "memory usage: 793.9+ KB\n"
          ]
        }
      ]
    },
    {
      "cell_type": "code",
      "source": [
        "df.columns"
      ],
      "metadata": {
        "colab": {
          "base_uri": "https://localhost:8080/"
        },
        "id": "h_3TZ2HU4cpz",
        "outputId": "6ebfe34f-ffa1-4357-d8d3-6eb669a2bef3"
      },
      "execution_count": null,
      "outputs": [
        {
          "output_type": "execute_result",
          "data": {
            "text/plain": [
              "Index(['name', 'year', 'selling_price', 'km_driven', 'fuel', 'seller_type',\n",
              "       'transmission', 'owner', 'mileage', 'engine', 'max_power', 'torque',\n",
              "       'seats'],\n",
              "      dtype='object')"
            ]
          },
          "metadata": {},
          "execution_count": 25
        }
      ]
    },
    {
      "cell_type": "markdown",
      "source": [
        "### Max Power"
      ],
      "metadata": {
        "id": "bOOAAKc8P8FX"
      }
    },
    {
      "cell_type": "code",
      "source": [
        "df.max_power.head()"
      ],
      "metadata": {
        "colab": {
          "base_uri": "https://localhost:8080/"
        },
        "id": "rXRfKmQN4i2L",
        "outputId": "855db7be-de42-4eed-bbb4-616f920c66a1"
      },
      "execution_count": null,
      "outputs": [
        {
          "output_type": "execute_result",
          "data": {
            "text/plain": [
              "0        74 bhp\n",
              "1    103.52 bhp\n",
              "2        78 bhp\n",
              "3        90 bhp\n",
              "4      88.2 bhp\n",
              "Name: max_power, dtype: object"
            ]
          },
          "metadata": {},
          "execution_count": 20
        }
      ]
    },
    {
      "cell_type": "code",
      "source": [
        "df.max_power.unique()"
      ],
      "metadata": {
        "colab": {
          "base_uri": "https://localhost:8080/"
        },
        "id": "O6j52vT3QHmx",
        "outputId": "a6f7f6bb-f4f2-4e8d-e626-0a7d2aa8e0a7"
      },
      "execution_count": null,
      "outputs": [
        {
          "output_type": "execute_result",
          "data": {
            "text/plain": [
              "array(['74 bhp', '103.52 bhp', '78 bhp', '90 bhp', '88.2 bhp',\n",
              "       '81.86 bhp', '57.5 bhp', '37 bhp', '67.1 bhp', '68.1 bhp',\n",
              "       '108.45 bhp', '60 bhp', '73.9 bhp', nan, '67 bhp', '82 bhp',\n",
              "       '88.5 bhp', '46.3 bhp', '88.73 bhp', '64.1 bhp', '98.6 bhp',\n",
              "       '88.8 bhp', '83.81 bhp', '83.1 bhp', '47.3 bhp', '73.8 bhp',\n",
              "       '34.2 bhp', '35 bhp', '81.83 bhp', '40.3 bhp', '121.3 bhp',\n",
              "       '138.03 bhp', '160.77 bhp', '117.3 bhp', '116.3 bhp', '83.14 bhp',\n",
              "       '67.05 bhp', '168.5 bhp', '100 bhp', '120.7 bhp', '98.63 bhp',\n",
              "       '175.56 bhp', '103.25 bhp', '171.5 bhp', '100.6 bhp', '174.33 bhp',\n",
              "       '187.74 bhp', '170 bhp', '78.9 bhp', '88.76 bhp', '86.8 bhp',\n",
              "       '108.495 bhp', '108.62 bhp', '93.7 bhp', '103.6 bhp', '98.59 bhp',\n",
              "       '189 bhp', '67.04 bhp', '68.05 bhp', '58.2 bhp', '82.85 bhp',\n",
              "       '81.80 bhp', '73 bhp', '120 bhp', '94.68 bhp', '160 bhp', '65 bhp',\n",
              "       '155 bhp', '69.01 bhp', '126.32 bhp', '138.1 bhp', '83.8 bhp',\n",
              "       '126.2 bhp', '98.96 bhp', '62.1 bhp', '86.7 bhp', '188 bhp',\n",
              "       '214.56 bhp', '177 bhp', '280 bhp', '148.31 bhp', '254.79 bhp',\n",
              "       '190 bhp', '177.46 bhp', '204 bhp', '141 bhp', '117.6 bhp',\n",
              "       '241.4 bhp', '282 bhp', '150 bhp', '147.5 bhp', '108.5 bhp',\n",
              "       '103.5 bhp', '183 bhp', '181.04 bhp', '157.7 bhp', '164.7 bhp',\n",
              "       '91.1 bhp', '400 bhp', '68 bhp', '75 bhp', '85.8 bhp', '87.2 bhp',\n",
              "       '53 bhp', '118 bhp', '103.2 bhp', '83 bhp', '84 bhp', '58.16 bhp',\n",
              "       '147.94 bhp', '74.02 bhp', '53.3 bhp', '80 bhp', '88.7 bhp',\n",
              "       '97.7 bhp', '121.36 bhp', '162 bhp', '140 bhp', '94 bhp',\n",
              "       '100.57 bhp', '82.9 bhp', '83.11 bhp', '70 bhp', '153.86 bhp',\n",
              "       '121 bhp', '126.3 bhp', '73.97 bhp', '171 bhp', '69 bhp',\n",
              "       '99.6 bhp', '102 bhp', '105 bhp', '63 bhp', '79.4 bhp', '97.9 bhp',\n",
              "       '63.1 bhp', '66.1 bhp', '110 bhp', '174.5 bhp', '53.26 bhp',\n",
              "       '73.75 bhp', '67.06 bhp', '64.08 bhp', '37.5 bhp', '189.3 bhp',\n",
              "       '158.8 bhp', '61.7 bhp', '55.2 bhp', '71.01 bhp', '73.74 bhp',\n",
              "       '147.9 bhp', '71 bhp', '77 bhp', '121.4 bhp', '113.4 bhp',\n",
              "       '47 bhp', '130 bhp', '57.6 bhp', '138 bhp', '52.8 bhp',\n",
              "       '53.64 bhp', '53.5 bhp', '76.8 bhp', '82.4 bhp', '113.42 bhp',\n",
              "       '76 bhp', '84.8 bhp', '0', '56.3 bhp', '218 bhp', '112 bhp',\n",
              "       '92 bhp', '105.5 bhp', '169 bhp', '95 bhp', '72.4 bhp', '115 bhp',\n",
              "       '152 bhp', '91.2 bhp', '156 bhp', '74.9 bhp', '62 bhp',\n",
              "       '105.3 bhp', '73.94 bhp', '85.80 bhp', '85 bhp', '118.3 bhp',\n",
              "       '72 bhp', '147.51 bhp', '58 bhp', '64 bhp', '126.24 bhp',\n",
              "       '76.9 bhp', '194.3 bhp', '99.23 bhp', '89.84 bhp', '123.7 bhp',\n",
              "       '118.35 bhp', '99 bhp', '241 bhp', '136 bhp', '261.4 bhp',\n",
              "       '104.68 bhp', '37.48 bhp', '104 bhp', '88.50 bhp', '63.12 bhp',\n",
              "       '91.7 bhp', '102.5 bhp', '177.6 bhp', '45 bhp', '123.37 bhp',\n",
              "       '147.8 bhp', '184 bhp', '84.48 bhp', '68.07 bhp', '74.96 bhp',\n",
              "       '167.6 bhp', '152.87 bhp', '112.2 bhp', '83.83 bhp', '197 bhp',\n",
              "       '110.4 bhp', '104.55 bhp', '103 bhp', '103.3 bhp', '66 bhp',\n",
              "       '108.6 bhp', '165 bhp', '163.7 bhp', '116.9 bhp', '94.93 bhp',\n",
              "       '127 bhp', '198.5 bhp', '179.5 bhp', '120.69 bhp', '121.31 bhp',\n",
              "       '138.08 bhp', '187.7 bhp', '80.8 bhp', '86.79 bhp', '93.87 bhp',\n",
              "       '116.6 bhp', '143 bhp', '92.7 bhp', '88 bhp', '58.33 bhp',\n",
              "       '78.8 bhp', '64.4 bhp', '125 bhp', '139.01 bhp', '254.8 bhp',\n",
              "       '181 bhp', '258 bhp', '55.23 bhp', '270.9 bhp', '265 bhp',\n",
              "       '157.75 bhp', '101 bhp', '186 bhp', '187.4 bhp', '224 bhp',\n",
              "       '64.9 bhp', '148 bhp', '35.5 bhp', '89.75 bhp', '32.8 bhp',\n",
              "       '91.72 bhp', '106 bhp', '98.97 bhp', '66.6 bhp', '86 bhp',\n",
              "       '65.3 bhp', '98.82 bhp', '198.25 bhp', '38 bhp', '142 bhp',\n",
              "       '132 bhp', '174.57 bhp', '178 bhp', '163.2 bhp', '203.2 bhp',\n",
              "       '177.5 bhp', '175 bhp', '57 bhp', '80.84 bhp', '68.4 bhp',\n",
              "       '167.67 bhp', '170.63 bhp', '52 bhp', '149.5 bhp', '48.21 bhp',\n",
              "       ' bhp', '201.1 bhp', '100.5 bhp', '144 bhp', '194.4 bhp',\n",
              "       '168.7 bhp', '104.5 bhp', '103.26 bhp', '116.4 bhp', '98.79 bhp',\n",
              "       '80.9 bhp', '58.3 bhp', '272 bhp', '235 bhp', '167.62 bhp',\n",
              "       '170.30 bhp', '139.46 bhp', '158 bhp', '110.5 bhp', '82.5 bhp',\n",
              "       '141.1 bhp', '38.4 bhp', '197.2 bhp', '161 bhp', '194 bhp',\n",
              "       '122.4 bhp', '134.10 bhp', '60.2 bhp', '134 bhp', '203 bhp',\n",
              "       '135.1 bhp'], dtype=object)"
            ]
          },
          "metadata": {},
          "execution_count": 21
        }
      ]
    },
    {
      "cell_type": "code",
      "source": [
        "df.max_power.str.split(expand=True).head()"
      ],
      "metadata": {
        "colab": {
          "base_uri": "https://localhost:8080/",
          "height": 206
        },
        "id": "-D4gBwpRQQ9r",
        "outputId": "89b4780c-06f0-46f3-be49-70a3b30ea6bf"
      },
      "execution_count": null,
      "outputs": [
        {
          "output_type": "execute_result",
          "data": {
            "text/plain": [
              "        0    1\n",
              "0      74  bhp\n",
              "1  103.52  bhp\n",
              "2      78  bhp\n",
              "3      90  bhp\n",
              "4    88.2  bhp"
            ],
            "text/html": [
              "\n",
              "  <div id=\"df-5ffe1edc-f95c-46e2-b0a7-90f4e216f0fe\">\n",
              "    <div class=\"colab-df-container\">\n",
              "      <div>\n",
              "<style scoped>\n",
              "    .dataframe tbody tr th:only-of-type {\n",
              "        vertical-align: middle;\n",
              "    }\n",
              "\n",
              "    .dataframe tbody tr th {\n",
              "        vertical-align: top;\n",
              "    }\n",
              "\n",
              "    .dataframe thead th {\n",
              "        text-align: right;\n",
              "    }\n",
              "</style>\n",
              "<table border=\"1\" class=\"dataframe\">\n",
              "  <thead>\n",
              "    <tr style=\"text-align: right;\">\n",
              "      <th></th>\n",
              "      <th>0</th>\n",
              "      <th>1</th>\n",
              "    </tr>\n",
              "  </thead>\n",
              "  <tbody>\n",
              "    <tr>\n",
              "      <th>0</th>\n",
              "      <td>74</td>\n",
              "      <td>bhp</td>\n",
              "    </tr>\n",
              "    <tr>\n",
              "      <th>1</th>\n",
              "      <td>103.52</td>\n",
              "      <td>bhp</td>\n",
              "    </tr>\n",
              "    <tr>\n",
              "      <th>2</th>\n",
              "      <td>78</td>\n",
              "      <td>bhp</td>\n",
              "    </tr>\n",
              "    <tr>\n",
              "      <th>3</th>\n",
              "      <td>90</td>\n",
              "      <td>bhp</td>\n",
              "    </tr>\n",
              "    <tr>\n",
              "      <th>4</th>\n",
              "      <td>88.2</td>\n",
              "      <td>bhp</td>\n",
              "    </tr>\n",
              "  </tbody>\n",
              "</table>\n",
              "</div>\n",
              "      <button class=\"colab-df-convert\" onclick=\"convertToInteractive('df-5ffe1edc-f95c-46e2-b0a7-90f4e216f0fe')\"\n",
              "              title=\"Convert this dataframe to an interactive table.\"\n",
              "              style=\"display:none;\">\n",
              "        \n",
              "  <svg xmlns=\"http://www.w3.org/2000/svg\" height=\"24px\"viewBox=\"0 0 24 24\"\n",
              "       width=\"24px\">\n",
              "    <path d=\"M0 0h24v24H0V0z\" fill=\"none\"/>\n",
              "    <path d=\"M18.56 5.44l.94 2.06.94-2.06 2.06-.94-2.06-.94-.94-2.06-.94 2.06-2.06.94zm-11 1L8.5 8.5l.94-2.06 2.06-.94-2.06-.94L8.5 2.5l-.94 2.06-2.06.94zm10 10l.94 2.06.94-2.06 2.06-.94-2.06-.94-.94-2.06-.94 2.06-2.06.94z\"/><path d=\"M17.41 7.96l-1.37-1.37c-.4-.4-.92-.59-1.43-.59-.52 0-1.04.2-1.43.59L10.3 9.45l-7.72 7.72c-.78.78-.78 2.05 0 2.83L4 21.41c.39.39.9.59 1.41.59.51 0 1.02-.2 1.41-.59l7.78-7.78 2.81-2.81c.8-.78.8-2.07 0-2.86zM5.41 20L4 18.59l7.72-7.72 1.47 1.35L5.41 20z\"/>\n",
              "  </svg>\n",
              "      </button>\n",
              "      \n",
              "  <style>\n",
              "    .colab-df-container {\n",
              "      display:flex;\n",
              "      flex-wrap:wrap;\n",
              "      gap: 12px;\n",
              "    }\n",
              "\n",
              "    .colab-df-convert {\n",
              "      background-color: #E8F0FE;\n",
              "      border: none;\n",
              "      border-radius: 50%;\n",
              "      cursor: pointer;\n",
              "      display: none;\n",
              "      fill: #1967D2;\n",
              "      height: 32px;\n",
              "      padding: 0 0 0 0;\n",
              "      width: 32px;\n",
              "    }\n",
              "\n",
              "    .colab-df-convert:hover {\n",
              "      background-color: #E2EBFA;\n",
              "      box-shadow: 0px 1px 2px rgba(60, 64, 67, 0.3), 0px 1px 3px 1px rgba(60, 64, 67, 0.15);\n",
              "      fill: #174EA6;\n",
              "    }\n",
              "\n",
              "    [theme=dark] .colab-df-convert {\n",
              "      background-color: #3B4455;\n",
              "      fill: #D2E3FC;\n",
              "    }\n",
              "\n",
              "    [theme=dark] .colab-df-convert:hover {\n",
              "      background-color: #434B5C;\n",
              "      box-shadow: 0px 1px 3px 1px rgba(0, 0, 0, 0.15);\n",
              "      filter: drop-shadow(0px 1px 2px rgba(0, 0, 0, 0.3));\n",
              "      fill: #FFFFFF;\n",
              "    }\n",
              "  </style>\n",
              "\n",
              "      <script>\n",
              "        const buttonEl =\n",
              "          document.querySelector('#df-5ffe1edc-f95c-46e2-b0a7-90f4e216f0fe button.colab-df-convert');\n",
              "        buttonEl.style.display =\n",
              "          google.colab.kernel.accessAllowed ? 'block' : 'none';\n",
              "\n",
              "        async function convertToInteractive(key) {\n",
              "          const element = document.querySelector('#df-5ffe1edc-f95c-46e2-b0a7-90f4e216f0fe');\n",
              "          const dataTable =\n",
              "            await google.colab.kernel.invokeFunction('convertToInteractive',\n",
              "                                                     [key], {});\n",
              "          if (!dataTable) return;\n",
              "\n",
              "          const docLinkHtml = 'Like what you see? Visit the ' +\n",
              "            '<a target=\"_blank\" href=https://colab.research.google.com/notebooks/data_table.ipynb>data table notebook</a>'\n",
              "            + ' to learn more about interactive tables.';\n",
              "          element.innerHTML = '';\n",
              "          dataTable['output_type'] = 'display_data';\n",
              "          await google.colab.output.renderOutput(dataTable, element);\n",
              "          const docLink = document.createElement('div');\n",
              "          docLink.innerHTML = docLinkHtml;\n",
              "          element.appendChild(docLink);\n",
              "        }\n",
              "      </script>\n",
              "    </div>\n",
              "  </div>\n",
              "  "
            ]
          },
          "metadata": {},
          "execution_count": 27
        }
      ]
    },
    {
      "cell_type": "code",
      "source": [
        "df[['max_power', 'max_power_unit']] = df.max_power.str.split(expand=True)"
      ],
      "metadata": {
        "id": "pMrnEZGfQXa_"
      },
      "execution_count": null,
      "outputs": []
    },
    {
      "cell_type": "code",
      "source": [
        "df[['max_power', 'max_power_unit']].head()"
      ],
      "metadata": {
        "colab": {
          "base_uri": "https://localhost:8080/",
          "height": 206
        },
        "id": "GxDwjvZIQe_e",
        "outputId": "bfd83f9f-e5fb-402d-f02d-baebc3decbcc"
      },
      "execution_count": null,
      "outputs": [
        {
          "output_type": "execute_result",
          "data": {
            "text/plain": [
              "  max_power max_power_unit\n",
              "0        74            bhp\n",
              "1    103.52            bhp\n",
              "2        78            bhp\n",
              "3        90            bhp\n",
              "4      88.2            bhp"
            ],
            "text/html": [
              "\n",
              "  <div id=\"df-f06f42b4-7333-4392-895b-bc1ceeb5630a\">\n",
              "    <div class=\"colab-df-container\">\n",
              "      <div>\n",
              "<style scoped>\n",
              "    .dataframe tbody tr th:only-of-type {\n",
              "        vertical-align: middle;\n",
              "    }\n",
              "\n",
              "    .dataframe tbody tr th {\n",
              "        vertical-align: top;\n",
              "    }\n",
              "\n",
              "    .dataframe thead th {\n",
              "        text-align: right;\n",
              "    }\n",
              "</style>\n",
              "<table border=\"1\" class=\"dataframe\">\n",
              "  <thead>\n",
              "    <tr style=\"text-align: right;\">\n",
              "      <th></th>\n",
              "      <th>max_power</th>\n",
              "      <th>max_power_unit</th>\n",
              "    </tr>\n",
              "  </thead>\n",
              "  <tbody>\n",
              "    <tr>\n",
              "      <th>0</th>\n",
              "      <td>74</td>\n",
              "      <td>bhp</td>\n",
              "    </tr>\n",
              "    <tr>\n",
              "      <th>1</th>\n",
              "      <td>103.52</td>\n",
              "      <td>bhp</td>\n",
              "    </tr>\n",
              "    <tr>\n",
              "      <th>2</th>\n",
              "      <td>78</td>\n",
              "      <td>bhp</td>\n",
              "    </tr>\n",
              "    <tr>\n",
              "      <th>3</th>\n",
              "      <td>90</td>\n",
              "      <td>bhp</td>\n",
              "    </tr>\n",
              "    <tr>\n",
              "      <th>4</th>\n",
              "      <td>88.2</td>\n",
              "      <td>bhp</td>\n",
              "    </tr>\n",
              "  </tbody>\n",
              "</table>\n",
              "</div>\n",
              "      <button class=\"colab-df-convert\" onclick=\"convertToInteractive('df-f06f42b4-7333-4392-895b-bc1ceeb5630a')\"\n",
              "              title=\"Convert this dataframe to an interactive table.\"\n",
              "              style=\"display:none;\">\n",
              "        \n",
              "  <svg xmlns=\"http://www.w3.org/2000/svg\" height=\"24px\"viewBox=\"0 0 24 24\"\n",
              "       width=\"24px\">\n",
              "    <path d=\"M0 0h24v24H0V0z\" fill=\"none\"/>\n",
              "    <path d=\"M18.56 5.44l.94 2.06.94-2.06 2.06-.94-2.06-.94-.94-2.06-.94 2.06-2.06.94zm-11 1L8.5 8.5l.94-2.06 2.06-.94-2.06-.94L8.5 2.5l-.94 2.06-2.06.94zm10 10l.94 2.06.94-2.06 2.06-.94-2.06-.94-.94-2.06-.94 2.06-2.06.94z\"/><path d=\"M17.41 7.96l-1.37-1.37c-.4-.4-.92-.59-1.43-.59-.52 0-1.04.2-1.43.59L10.3 9.45l-7.72 7.72c-.78.78-.78 2.05 0 2.83L4 21.41c.39.39.9.59 1.41.59.51 0 1.02-.2 1.41-.59l7.78-7.78 2.81-2.81c.8-.78.8-2.07 0-2.86zM5.41 20L4 18.59l7.72-7.72 1.47 1.35L5.41 20z\"/>\n",
              "  </svg>\n",
              "      </button>\n",
              "      \n",
              "  <style>\n",
              "    .colab-df-container {\n",
              "      display:flex;\n",
              "      flex-wrap:wrap;\n",
              "      gap: 12px;\n",
              "    }\n",
              "\n",
              "    .colab-df-convert {\n",
              "      background-color: #E8F0FE;\n",
              "      border: none;\n",
              "      border-radius: 50%;\n",
              "      cursor: pointer;\n",
              "      display: none;\n",
              "      fill: #1967D2;\n",
              "      height: 32px;\n",
              "      padding: 0 0 0 0;\n",
              "      width: 32px;\n",
              "    }\n",
              "\n",
              "    .colab-df-convert:hover {\n",
              "      background-color: #E2EBFA;\n",
              "      box-shadow: 0px 1px 2px rgba(60, 64, 67, 0.3), 0px 1px 3px 1px rgba(60, 64, 67, 0.15);\n",
              "      fill: #174EA6;\n",
              "    }\n",
              "\n",
              "    [theme=dark] .colab-df-convert {\n",
              "      background-color: #3B4455;\n",
              "      fill: #D2E3FC;\n",
              "    }\n",
              "\n",
              "    [theme=dark] .colab-df-convert:hover {\n",
              "      background-color: #434B5C;\n",
              "      box-shadow: 0px 1px 3px 1px rgba(0, 0, 0, 0.15);\n",
              "      filter: drop-shadow(0px 1px 2px rgba(0, 0, 0, 0.3));\n",
              "      fill: #FFFFFF;\n",
              "    }\n",
              "  </style>\n",
              "\n",
              "      <script>\n",
              "        const buttonEl =\n",
              "          document.querySelector('#df-f06f42b4-7333-4392-895b-bc1ceeb5630a button.colab-df-convert');\n",
              "        buttonEl.style.display =\n",
              "          google.colab.kernel.accessAllowed ? 'block' : 'none';\n",
              "\n",
              "        async function convertToInteractive(key) {\n",
              "          const element = document.querySelector('#df-f06f42b4-7333-4392-895b-bc1ceeb5630a');\n",
              "          const dataTable =\n",
              "            await google.colab.kernel.invokeFunction('convertToInteractive',\n",
              "                                                     [key], {});\n",
              "          if (!dataTable) return;\n",
              "\n",
              "          const docLinkHtml = 'Like what you see? Visit the ' +\n",
              "            '<a target=\"_blank\" href=https://colab.research.google.com/notebooks/data_table.ipynb>data table notebook</a>'\n",
              "            + ' to learn more about interactive tables.';\n",
              "          element.innerHTML = '';\n",
              "          dataTable['output_type'] = 'display_data';\n",
              "          await google.colab.output.renderOutput(dataTable, element);\n",
              "          const docLink = document.createElement('div');\n",
              "          docLink.innerHTML = docLinkHtml;\n",
              "          element.appendChild(docLink);\n",
              "        }\n",
              "      </script>\n",
              "    </div>\n",
              "  </div>\n",
              "  "
            ]
          },
          "metadata": {},
          "execution_count": 29
        }
      ]
    },
    {
      "cell_type": "code",
      "source": [
        "df.max_power = df.max_power.astype('float32')"
      ],
      "metadata": {
        "colab": {
          "base_uri": "https://localhost:8080/",
          "height": 331
        },
        "id": "Ea7clPi3QjLN",
        "outputId": "035db6d1-5e29-42b7-be18-f69e0c3f0f16"
      },
      "execution_count": null,
      "outputs": [
        {
          "output_type": "error",
          "ename": "ValueError",
          "evalue": "ignored",
          "traceback": [
            "\u001b[0;31m---------------------------------------------------------------------------\u001b[0m",
            "\u001b[0;31mValueError\u001b[0m                                Traceback (most recent call last)",
            "\u001b[0;32m<ipython-input-31-6ad358992648>\u001b[0m in \u001b[0;36m<module>\u001b[0;34m\u001b[0m\n\u001b[0;32m----> 1\u001b[0;31m \u001b[0mdf\u001b[0m\u001b[0;34m.\u001b[0m\u001b[0mmax_power\u001b[0m \u001b[0;34m=\u001b[0m \u001b[0mdf\u001b[0m\u001b[0;34m.\u001b[0m\u001b[0mmax_power\u001b[0m\u001b[0;34m.\u001b[0m\u001b[0mastype\u001b[0m\u001b[0;34m(\u001b[0m\u001b[0;34m'float32'\u001b[0m\u001b[0;34m)\u001b[0m\u001b[0;34m\u001b[0m\u001b[0;34m\u001b[0m\u001b[0m\n\u001b[0m",
            "\u001b[0;32m/usr/local/lib/python3.9/dist-packages/pandas/core/generic.py\u001b[0m in \u001b[0;36mastype\u001b[0;34m(self, dtype, copy, errors)\u001b[0m\n\u001b[1;32m   5910\u001b[0m         \u001b[0;32melse\u001b[0m\u001b[0;34m:\u001b[0m\u001b[0;34m\u001b[0m\u001b[0;34m\u001b[0m\u001b[0m\n\u001b[1;32m   5911\u001b[0m             \u001b[0;31m# else, only a single dtype is given\u001b[0m\u001b[0;34m\u001b[0m\u001b[0;34m\u001b[0m\u001b[0m\n\u001b[0;32m-> 5912\u001b[0;31m             \u001b[0mnew_data\u001b[0m \u001b[0;34m=\u001b[0m \u001b[0mself\u001b[0m\u001b[0;34m.\u001b[0m\u001b[0m_mgr\u001b[0m\u001b[0;34m.\u001b[0m\u001b[0mastype\u001b[0m\u001b[0;34m(\u001b[0m\u001b[0mdtype\u001b[0m\u001b[0;34m=\u001b[0m\u001b[0mdtype\u001b[0m\u001b[0;34m,\u001b[0m \u001b[0mcopy\u001b[0m\u001b[0;34m=\u001b[0m\u001b[0mcopy\u001b[0m\u001b[0;34m,\u001b[0m \u001b[0merrors\u001b[0m\u001b[0;34m=\u001b[0m\u001b[0merrors\u001b[0m\u001b[0;34m)\u001b[0m\u001b[0;34m\u001b[0m\u001b[0;34m\u001b[0m\u001b[0m\n\u001b[0m\u001b[1;32m   5913\u001b[0m             \u001b[0;32mreturn\u001b[0m \u001b[0mself\u001b[0m\u001b[0;34m.\u001b[0m\u001b[0m_constructor\u001b[0m\u001b[0;34m(\u001b[0m\u001b[0mnew_data\u001b[0m\u001b[0;34m)\u001b[0m\u001b[0;34m.\u001b[0m\u001b[0m__finalize__\u001b[0m\u001b[0;34m(\u001b[0m\u001b[0mself\u001b[0m\u001b[0;34m,\u001b[0m \u001b[0mmethod\u001b[0m\u001b[0;34m=\u001b[0m\u001b[0;34m\"astype\"\u001b[0m\u001b[0;34m)\u001b[0m\u001b[0;34m\u001b[0m\u001b[0;34m\u001b[0m\u001b[0m\n\u001b[1;32m   5914\u001b[0m \u001b[0;34m\u001b[0m\u001b[0m\n",
            "\u001b[0;32m/usr/local/lib/python3.9/dist-packages/pandas/core/internals/managers.py\u001b[0m in \u001b[0;36mastype\u001b[0;34m(self, dtype, copy, errors)\u001b[0m\n\u001b[1;32m    417\u001b[0m \u001b[0;34m\u001b[0m\u001b[0m\n\u001b[1;32m    418\u001b[0m     \u001b[0;32mdef\u001b[0m \u001b[0mastype\u001b[0m\u001b[0;34m(\u001b[0m\u001b[0mself\u001b[0m\u001b[0;34m:\u001b[0m \u001b[0mT\u001b[0m\u001b[0;34m,\u001b[0m \u001b[0mdtype\u001b[0m\u001b[0;34m,\u001b[0m \u001b[0mcopy\u001b[0m\u001b[0;34m:\u001b[0m \u001b[0mbool\u001b[0m \u001b[0;34m=\u001b[0m \u001b[0;32mFalse\u001b[0m\u001b[0;34m,\u001b[0m \u001b[0merrors\u001b[0m\u001b[0;34m:\u001b[0m \u001b[0mstr\u001b[0m \u001b[0;34m=\u001b[0m \u001b[0;34m\"raise\"\u001b[0m\u001b[0;34m)\u001b[0m \u001b[0;34m->\u001b[0m \u001b[0mT\u001b[0m\u001b[0;34m:\u001b[0m\u001b[0;34m\u001b[0m\u001b[0;34m\u001b[0m\u001b[0m\n\u001b[0;32m--> 419\u001b[0;31m         \u001b[0;32mreturn\u001b[0m \u001b[0mself\u001b[0m\u001b[0;34m.\u001b[0m\u001b[0mapply\u001b[0m\u001b[0;34m(\u001b[0m\u001b[0;34m\"astype\"\u001b[0m\u001b[0;34m,\u001b[0m \u001b[0mdtype\u001b[0m\u001b[0;34m=\u001b[0m\u001b[0mdtype\u001b[0m\u001b[0;34m,\u001b[0m \u001b[0mcopy\u001b[0m\u001b[0;34m=\u001b[0m\u001b[0mcopy\u001b[0m\u001b[0;34m,\u001b[0m \u001b[0merrors\u001b[0m\u001b[0;34m=\u001b[0m\u001b[0merrors\u001b[0m\u001b[0;34m)\u001b[0m\u001b[0;34m\u001b[0m\u001b[0;34m\u001b[0m\u001b[0m\n\u001b[0m\u001b[1;32m    420\u001b[0m \u001b[0;34m\u001b[0m\u001b[0m\n\u001b[1;32m    421\u001b[0m     def convert(\n",
            "\u001b[0;32m/usr/local/lib/python3.9/dist-packages/pandas/core/internals/managers.py\u001b[0m in \u001b[0;36mapply\u001b[0;34m(self, f, align_keys, ignore_failures, **kwargs)\u001b[0m\n\u001b[1;32m    302\u001b[0m                     \u001b[0mapplied\u001b[0m \u001b[0;34m=\u001b[0m \u001b[0mb\u001b[0m\u001b[0;34m.\u001b[0m\u001b[0mapply\u001b[0m\u001b[0;34m(\u001b[0m\u001b[0mf\u001b[0m\u001b[0;34m,\u001b[0m \u001b[0;34m**\u001b[0m\u001b[0mkwargs\u001b[0m\u001b[0;34m)\u001b[0m\u001b[0;34m\u001b[0m\u001b[0;34m\u001b[0m\u001b[0m\n\u001b[1;32m    303\u001b[0m                 \u001b[0;32melse\u001b[0m\u001b[0;34m:\u001b[0m\u001b[0;34m\u001b[0m\u001b[0;34m\u001b[0m\u001b[0m\n\u001b[0;32m--> 304\u001b[0;31m                     \u001b[0mapplied\u001b[0m \u001b[0;34m=\u001b[0m \u001b[0mgetattr\u001b[0m\u001b[0;34m(\u001b[0m\u001b[0mb\u001b[0m\u001b[0;34m,\u001b[0m \u001b[0mf\u001b[0m\u001b[0;34m)\u001b[0m\u001b[0;34m(\u001b[0m\u001b[0;34m**\u001b[0m\u001b[0mkwargs\u001b[0m\u001b[0;34m)\u001b[0m\u001b[0;34m\u001b[0m\u001b[0;34m\u001b[0m\u001b[0m\n\u001b[0m\u001b[1;32m    305\u001b[0m             \u001b[0;32mexcept\u001b[0m \u001b[0;34m(\u001b[0m\u001b[0mTypeError\u001b[0m\u001b[0;34m,\u001b[0m \u001b[0mNotImplementedError\u001b[0m\u001b[0;34m)\u001b[0m\u001b[0;34m:\u001b[0m\u001b[0;34m\u001b[0m\u001b[0;34m\u001b[0m\u001b[0m\n\u001b[1;32m    306\u001b[0m                 \u001b[0;32mif\u001b[0m \u001b[0;32mnot\u001b[0m \u001b[0mignore_failures\u001b[0m\u001b[0;34m:\u001b[0m\u001b[0;34m\u001b[0m\u001b[0;34m\u001b[0m\u001b[0m\n",
            "\u001b[0;32m/usr/local/lib/python3.9/dist-packages/pandas/core/internals/blocks.py\u001b[0m in \u001b[0;36mastype\u001b[0;34m(self, dtype, copy, errors)\u001b[0m\n\u001b[1;32m    578\u001b[0m         \u001b[0mvalues\u001b[0m \u001b[0;34m=\u001b[0m \u001b[0mself\u001b[0m\u001b[0;34m.\u001b[0m\u001b[0mvalues\u001b[0m\u001b[0;34m\u001b[0m\u001b[0;34m\u001b[0m\u001b[0m\n\u001b[1;32m    579\u001b[0m \u001b[0;34m\u001b[0m\u001b[0m\n\u001b[0;32m--> 580\u001b[0;31m         \u001b[0mnew_values\u001b[0m \u001b[0;34m=\u001b[0m \u001b[0mastype_array_safe\u001b[0m\u001b[0;34m(\u001b[0m\u001b[0mvalues\u001b[0m\u001b[0;34m,\u001b[0m \u001b[0mdtype\u001b[0m\u001b[0;34m,\u001b[0m \u001b[0mcopy\u001b[0m\u001b[0;34m=\u001b[0m\u001b[0mcopy\u001b[0m\u001b[0;34m,\u001b[0m \u001b[0merrors\u001b[0m\u001b[0;34m=\u001b[0m\u001b[0merrors\u001b[0m\u001b[0;34m)\u001b[0m\u001b[0;34m\u001b[0m\u001b[0;34m\u001b[0m\u001b[0m\n\u001b[0m\u001b[1;32m    581\u001b[0m \u001b[0;34m\u001b[0m\u001b[0m\n\u001b[1;32m    582\u001b[0m         \u001b[0mnew_values\u001b[0m \u001b[0;34m=\u001b[0m \u001b[0mmaybe_coerce_values\u001b[0m\u001b[0;34m(\u001b[0m\u001b[0mnew_values\u001b[0m\u001b[0;34m)\u001b[0m\u001b[0;34m\u001b[0m\u001b[0;34m\u001b[0m\u001b[0m\n",
            "\u001b[0;32m/usr/local/lib/python3.9/dist-packages/pandas/core/dtypes/cast.py\u001b[0m in \u001b[0;36mastype_array_safe\u001b[0;34m(values, dtype, copy, errors)\u001b[0m\n\u001b[1;32m   1290\u001b[0m \u001b[0;34m\u001b[0m\u001b[0m\n\u001b[1;32m   1291\u001b[0m     \u001b[0;32mtry\u001b[0m\u001b[0;34m:\u001b[0m\u001b[0;34m\u001b[0m\u001b[0;34m\u001b[0m\u001b[0m\n\u001b[0;32m-> 1292\u001b[0;31m         \u001b[0mnew_values\u001b[0m \u001b[0;34m=\u001b[0m \u001b[0mastype_array\u001b[0m\u001b[0;34m(\u001b[0m\u001b[0mvalues\u001b[0m\u001b[0;34m,\u001b[0m \u001b[0mdtype\u001b[0m\u001b[0;34m,\u001b[0m \u001b[0mcopy\u001b[0m\u001b[0;34m=\u001b[0m\u001b[0mcopy\u001b[0m\u001b[0;34m)\u001b[0m\u001b[0;34m\u001b[0m\u001b[0;34m\u001b[0m\u001b[0m\n\u001b[0m\u001b[1;32m   1293\u001b[0m     \u001b[0;32mexcept\u001b[0m \u001b[0;34m(\u001b[0m\u001b[0mValueError\u001b[0m\u001b[0;34m,\u001b[0m \u001b[0mTypeError\u001b[0m\u001b[0;34m)\u001b[0m\u001b[0;34m:\u001b[0m\u001b[0;34m\u001b[0m\u001b[0;34m\u001b[0m\u001b[0m\n\u001b[1;32m   1294\u001b[0m         \u001b[0;31m# e.g. astype_nansafe can fail on object-dtype of strings\u001b[0m\u001b[0;34m\u001b[0m\u001b[0;34m\u001b[0m\u001b[0m\n",
            "\u001b[0;32m/usr/local/lib/python3.9/dist-packages/pandas/core/dtypes/cast.py\u001b[0m in \u001b[0;36mastype_array\u001b[0;34m(values, dtype, copy)\u001b[0m\n\u001b[1;32m   1235\u001b[0m \u001b[0;34m\u001b[0m\u001b[0m\n\u001b[1;32m   1236\u001b[0m     \u001b[0;32melse\u001b[0m\u001b[0;34m:\u001b[0m\u001b[0;34m\u001b[0m\u001b[0;34m\u001b[0m\u001b[0m\n\u001b[0;32m-> 1237\u001b[0;31m         \u001b[0mvalues\u001b[0m \u001b[0;34m=\u001b[0m \u001b[0mastype_nansafe\u001b[0m\u001b[0;34m(\u001b[0m\u001b[0mvalues\u001b[0m\u001b[0;34m,\u001b[0m \u001b[0mdtype\u001b[0m\u001b[0;34m,\u001b[0m \u001b[0mcopy\u001b[0m\u001b[0;34m=\u001b[0m\u001b[0mcopy\u001b[0m\u001b[0;34m)\u001b[0m\u001b[0;34m\u001b[0m\u001b[0;34m\u001b[0m\u001b[0m\n\u001b[0m\u001b[1;32m   1238\u001b[0m \u001b[0;34m\u001b[0m\u001b[0m\n\u001b[1;32m   1239\u001b[0m     \u001b[0;31m# in pandas we don't store numpy str dtypes, so convert to object\u001b[0m\u001b[0;34m\u001b[0m\u001b[0;34m\u001b[0m\u001b[0m\n",
            "\u001b[0;32m/usr/local/lib/python3.9/dist-packages/pandas/core/dtypes/cast.py\u001b[0m in \u001b[0;36mastype_nansafe\u001b[0;34m(arr, dtype, copy, skipna)\u001b[0m\n\u001b[1;32m   1179\u001b[0m     \u001b[0;32mif\u001b[0m \u001b[0mcopy\u001b[0m \u001b[0;32mor\u001b[0m \u001b[0mis_object_dtype\u001b[0m\u001b[0;34m(\u001b[0m\u001b[0marr\u001b[0m\u001b[0;34m.\u001b[0m\u001b[0mdtype\u001b[0m\u001b[0;34m)\u001b[0m \u001b[0;32mor\u001b[0m \u001b[0mis_object_dtype\u001b[0m\u001b[0;34m(\u001b[0m\u001b[0mdtype\u001b[0m\u001b[0;34m)\u001b[0m\u001b[0;34m:\u001b[0m\u001b[0;34m\u001b[0m\u001b[0;34m\u001b[0m\u001b[0m\n\u001b[1;32m   1180\u001b[0m         \u001b[0;31m# Explicit copy, or required since NumPy can't view from / to object.\u001b[0m\u001b[0;34m\u001b[0m\u001b[0;34m\u001b[0m\u001b[0m\n\u001b[0;32m-> 1181\u001b[0;31m         \u001b[0;32mreturn\u001b[0m \u001b[0marr\u001b[0m\u001b[0;34m.\u001b[0m\u001b[0mastype\u001b[0m\u001b[0;34m(\u001b[0m\u001b[0mdtype\u001b[0m\u001b[0;34m,\u001b[0m \u001b[0mcopy\u001b[0m\u001b[0;34m=\u001b[0m\u001b[0;32mTrue\u001b[0m\u001b[0;34m)\u001b[0m\u001b[0;34m\u001b[0m\u001b[0;34m\u001b[0m\u001b[0m\n\u001b[0m\u001b[1;32m   1182\u001b[0m \u001b[0;34m\u001b[0m\u001b[0m\n\u001b[1;32m   1183\u001b[0m     \u001b[0;32mreturn\u001b[0m \u001b[0marr\u001b[0m\u001b[0;34m.\u001b[0m\u001b[0mastype\u001b[0m\u001b[0;34m(\u001b[0m\u001b[0mdtype\u001b[0m\u001b[0;34m,\u001b[0m \u001b[0mcopy\u001b[0m\u001b[0;34m=\u001b[0m\u001b[0mcopy\u001b[0m\u001b[0;34m)\u001b[0m\u001b[0;34m\u001b[0m\u001b[0;34m\u001b[0m\u001b[0m\n",
            "\u001b[0;31mValueError\u001b[0m: could not convert string to float: 'bhp'"
          ]
        }
      ]
    },
    {
      "cell_type": "code",
      "source": [
        "# df.max_power[df.max_power == 'bhp']\n",
        "df[df.max_power == 'bhp']"
      ],
      "metadata": {
        "colab": {
          "base_uri": "https://localhost:8080/",
          "height": 159
        },
        "id": "-3WRpUWBQyTo",
        "outputId": "543df353-6797-4f20-f006-f889158d0390"
      },
      "execution_count": null,
      "outputs": [
        {
          "output_type": "execute_result",
          "data": {
            "text/plain": [
              "                 name  year  selling_price  km_driven fuel seller_type  \\\n",
              "4933  Maruti Omni CNG  2000          80000     100000  CNG  Individual   \n",
              "\n",
              "     transmission         owner     mileage   engine max_power torque  seats  \\\n",
              "4933       Manual  Second Owner  10.9 km/kg 796.0000       bhp    NaN 8.0000   \n",
              "\n",
              "     max_power_unit  \n",
              "4933           None  "
            ],
            "text/html": [
              "\n",
              "  <div id=\"df-261eac95-305b-4a07-8665-04edbb513275\">\n",
              "    <div class=\"colab-df-container\">\n",
              "      <div>\n",
              "<style scoped>\n",
              "    .dataframe tbody tr th:only-of-type {\n",
              "        vertical-align: middle;\n",
              "    }\n",
              "\n",
              "    .dataframe tbody tr th {\n",
              "        vertical-align: top;\n",
              "    }\n",
              "\n",
              "    .dataframe thead th {\n",
              "        text-align: right;\n",
              "    }\n",
              "</style>\n",
              "<table border=\"1\" class=\"dataframe\">\n",
              "  <thead>\n",
              "    <tr style=\"text-align: right;\">\n",
              "      <th></th>\n",
              "      <th>name</th>\n",
              "      <th>year</th>\n",
              "      <th>selling_price</th>\n",
              "      <th>km_driven</th>\n",
              "      <th>fuel</th>\n",
              "      <th>seller_type</th>\n",
              "      <th>transmission</th>\n",
              "      <th>owner</th>\n",
              "      <th>mileage</th>\n",
              "      <th>engine</th>\n",
              "      <th>max_power</th>\n",
              "      <th>torque</th>\n",
              "      <th>seats</th>\n",
              "      <th>max_power_unit</th>\n",
              "    </tr>\n",
              "  </thead>\n",
              "  <tbody>\n",
              "    <tr>\n",
              "      <th>4933</th>\n",
              "      <td>Maruti Omni CNG</td>\n",
              "      <td>2000</td>\n",
              "      <td>80000</td>\n",
              "      <td>100000</td>\n",
              "      <td>CNG</td>\n",
              "      <td>Individual</td>\n",
              "      <td>Manual</td>\n",
              "      <td>Second Owner</td>\n",
              "      <td>10.9 km/kg</td>\n",
              "      <td>796.0000</td>\n",
              "      <td>bhp</td>\n",
              "      <td>NaN</td>\n",
              "      <td>8.0000</td>\n",
              "      <td>None</td>\n",
              "    </tr>\n",
              "  </tbody>\n",
              "</table>\n",
              "</div>\n",
              "      <button class=\"colab-df-convert\" onclick=\"convertToInteractive('df-261eac95-305b-4a07-8665-04edbb513275')\"\n",
              "              title=\"Convert this dataframe to an interactive table.\"\n",
              "              style=\"display:none;\">\n",
              "        \n",
              "  <svg xmlns=\"http://www.w3.org/2000/svg\" height=\"24px\"viewBox=\"0 0 24 24\"\n",
              "       width=\"24px\">\n",
              "    <path d=\"M0 0h24v24H0V0z\" fill=\"none\"/>\n",
              "    <path d=\"M18.56 5.44l.94 2.06.94-2.06 2.06-.94-2.06-.94-.94-2.06-.94 2.06-2.06.94zm-11 1L8.5 8.5l.94-2.06 2.06-.94-2.06-.94L8.5 2.5l-.94 2.06-2.06.94zm10 10l.94 2.06.94-2.06 2.06-.94-2.06-.94-.94-2.06-.94 2.06-2.06.94z\"/><path d=\"M17.41 7.96l-1.37-1.37c-.4-.4-.92-.59-1.43-.59-.52 0-1.04.2-1.43.59L10.3 9.45l-7.72 7.72c-.78.78-.78 2.05 0 2.83L4 21.41c.39.39.9.59 1.41.59.51 0 1.02-.2 1.41-.59l7.78-7.78 2.81-2.81c.8-.78.8-2.07 0-2.86zM5.41 20L4 18.59l7.72-7.72 1.47 1.35L5.41 20z\"/>\n",
              "  </svg>\n",
              "      </button>\n",
              "      \n",
              "  <style>\n",
              "    .colab-df-container {\n",
              "      display:flex;\n",
              "      flex-wrap:wrap;\n",
              "      gap: 12px;\n",
              "    }\n",
              "\n",
              "    .colab-df-convert {\n",
              "      background-color: #E8F0FE;\n",
              "      border: none;\n",
              "      border-radius: 50%;\n",
              "      cursor: pointer;\n",
              "      display: none;\n",
              "      fill: #1967D2;\n",
              "      height: 32px;\n",
              "      padding: 0 0 0 0;\n",
              "      width: 32px;\n",
              "    }\n",
              "\n",
              "    .colab-df-convert:hover {\n",
              "      background-color: #E2EBFA;\n",
              "      box-shadow: 0px 1px 2px rgba(60, 64, 67, 0.3), 0px 1px 3px 1px rgba(60, 64, 67, 0.15);\n",
              "      fill: #174EA6;\n",
              "    }\n",
              "\n",
              "    [theme=dark] .colab-df-convert {\n",
              "      background-color: #3B4455;\n",
              "      fill: #D2E3FC;\n",
              "    }\n",
              "\n",
              "    [theme=dark] .colab-df-convert:hover {\n",
              "      background-color: #434B5C;\n",
              "      box-shadow: 0px 1px 3px 1px rgba(0, 0, 0, 0.15);\n",
              "      filter: drop-shadow(0px 1px 2px rgba(0, 0, 0, 0.3));\n",
              "      fill: #FFFFFF;\n",
              "    }\n",
              "  </style>\n",
              "\n",
              "      <script>\n",
              "        const buttonEl =\n",
              "          document.querySelector('#df-261eac95-305b-4a07-8665-04edbb513275 button.colab-df-convert');\n",
              "        buttonEl.style.display =\n",
              "          google.colab.kernel.accessAllowed ? 'block' : 'none';\n",
              "\n",
              "        async function convertToInteractive(key) {\n",
              "          const element = document.querySelector('#df-261eac95-305b-4a07-8665-04edbb513275');\n",
              "          const dataTable =\n",
              "            await google.colab.kernel.invokeFunction('convertToInteractive',\n",
              "                                                     [key], {});\n",
              "          if (!dataTable) return;\n",
              "\n",
              "          const docLinkHtml = 'Like what you see? Visit the ' +\n",
              "            '<a target=\"_blank\" href=https://colab.research.google.com/notebooks/data_table.ipynb>data table notebook</a>'\n",
              "            + ' to learn more about interactive tables.';\n",
              "          element.innerHTML = '';\n",
              "          dataTable['output_type'] = 'display_data';\n",
              "          await google.colab.output.renderOutput(dataTable, element);\n",
              "          const docLink = document.createElement('div');\n",
              "          docLink.innerHTML = docLinkHtml;\n",
              "          element.appendChild(docLink);\n",
              "        }\n",
              "      </script>\n",
              "    </div>\n",
              "  </div>\n",
              "  "
            ]
          },
          "metadata": {},
          "execution_count": 32
        }
      ]
    },
    {
      "cell_type": "code",
      "source": [
        "def handle_float(value):\n",
        "    try:\n",
        "        return float(value)\n",
        "    # except:\n",
        "    except ValueError: # ValueError로 에러 대응을 한정\n",
        "        return np.NaN # 결측치"
      ],
      "metadata": {
        "id": "kMham_GpRHxw"
      },
      "execution_count": null,
      "outputs": []
    },
    {
      "cell_type": "code",
      "source": [
        "# 직접 정의한 타입 변환 함수를 사용해서 만약 ValueError가 나도 잘 처리될 수 있게\n",
        "df.max_power = df.max_power.apply(handle_float) # axis=0 -> 행 기준으로 처리"
      ],
      "metadata": {
        "id": "vB8TlepxRax9"
      },
      "execution_count": null,
      "outputs": []
    },
    {
      "cell_type": "code",
      "source": [
        "df.max_power"
      ],
      "metadata": {
        "colab": {
          "base_uri": "https://localhost:8080/"
        },
        "id": "p0HL4BGeRpR9",
        "outputId": "324977dd-762d-4642-8ac7-1265613f36c3"
      },
      "execution_count": null,
      "outputs": [
        {
          "output_type": "execute_result",
          "data": {
            "text/plain": [
              "0       74.0000\n",
              "1      103.5200\n",
              "2       78.0000\n",
              "3       90.0000\n",
              "4       88.2000\n",
              "         ...   \n",
              "8123    82.8500\n",
              "8124   110.0000\n",
              "8125    73.9000\n",
              "8126    70.0000\n",
              "8127    70.0000\n",
              "Name: max_power, Length: 8128, dtype: float64"
            ]
          },
          "metadata": {},
          "execution_count": 35
        }
      ]
    },
    {
      "cell_type": "code",
      "source": [
        "# df2 = df.copy()\n",
        "df2 = pd.read_csv(\"https://github.com/BigData23th/Data/raw/main/car.csv\")\n",
        "df2.head()"
      ],
      "metadata": {
        "colab": {
          "base_uri": "https://localhost:8080/",
          "height": 337
        },
        "id": "0dwxIClRSSsj",
        "outputId": "ffeb2e08-72f0-4e4f-98c4-f4fc03e71645"
      },
      "execution_count": null,
      "outputs": [
        {
          "output_type": "execute_result",
          "data": {
            "text/plain": [
              "                           name  year  selling_price  km_driven    fuel  \\\n",
              "0        Maruti Swift Dzire VDI  2014         450000     145500  Diesel   \n",
              "1  Skoda Rapid 1.5 TDI Ambition  2014         370000     120000  Diesel   \n",
              "2      Honda City 2017-2020 EXi  2006         158000     140000  Petrol   \n",
              "3     Hyundai i20 Sportz Diesel  2010         225000     127000  Diesel   \n",
              "4        Maruti Swift VXI BSIII  2007         130000     120000  Petrol   \n",
              "\n",
              "  seller_type transmission         owner     mileage   engine   max_power  \\\n",
              "0  Individual       Manual   First Owner   23.4 kmpl  1248 CC      74 bhp   \n",
              "1  Individual       Manual  Second Owner  21.14 kmpl  1498 CC  103.52 bhp   \n",
              "2  Individual       Manual   Third Owner   17.7 kmpl  1497 CC      78 bhp   \n",
              "3  Individual       Manual   First Owner   23.0 kmpl  1396 CC      90 bhp   \n",
              "4  Individual       Manual   First Owner   16.1 kmpl  1298 CC    88.2 bhp   \n",
              "\n",
              "                     torque  seats  \n",
              "0            190Nm@ 2000rpm 5.0000  \n",
              "1       250Nm@ 1500-2500rpm 5.0000  \n",
              "2     12.7@ 2,700(kgm@ rpm) 5.0000  \n",
              "3  22.4 kgm at 1750-2750rpm 5.0000  \n",
              "4     11.5@ 4,500(kgm@ rpm) 5.0000  "
            ],
            "text/html": [
              "\n",
              "  <div id=\"df-314ff4c6-6563-4835-9a9d-7f559a8bd4e0\">\n",
              "    <div class=\"colab-df-container\">\n",
              "      <div>\n",
              "<style scoped>\n",
              "    .dataframe tbody tr th:only-of-type {\n",
              "        vertical-align: middle;\n",
              "    }\n",
              "\n",
              "    .dataframe tbody tr th {\n",
              "        vertical-align: top;\n",
              "    }\n",
              "\n",
              "    .dataframe thead th {\n",
              "        text-align: right;\n",
              "    }\n",
              "</style>\n",
              "<table border=\"1\" class=\"dataframe\">\n",
              "  <thead>\n",
              "    <tr style=\"text-align: right;\">\n",
              "      <th></th>\n",
              "      <th>name</th>\n",
              "      <th>year</th>\n",
              "      <th>selling_price</th>\n",
              "      <th>km_driven</th>\n",
              "      <th>fuel</th>\n",
              "      <th>seller_type</th>\n",
              "      <th>transmission</th>\n",
              "      <th>owner</th>\n",
              "      <th>mileage</th>\n",
              "      <th>engine</th>\n",
              "      <th>max_power</th>\n",
              "      <th>torque</th>\n",
              "      <th>seats</th>\n",
              "    </tr>\n",
              "  </thead>\n",
              "  <tbody>\n",
              "    <tr>\n",
              "      <th>0</th>\n",
              "      <td>Maruti Swift Dzire VDI</td>\n",
              "      <td>2014</td>\n",
              "      <td>450000</td>\n",
              "      <td>145500</td>\n",
              "      <td>Diesel</td>\n",
              "      <td>Individual</td>\n",
              "      <td>Manual</td>\n",
              "      <td>First Owner</td>\n",
              "      <td>23.4 kmpl</td>\n",
              "      <td>1248 CC</td>\n",
              "      <td>74 bhp</td>\n",
              "      <td>190Nm@ 2000rpm</td>\n",
              "      <td>5.0000</td>\n",
              "    </tr>\n",
              "    <tr>\n",
              "      <th>1</th>\n",
              "      <td>Skoda Rapid 1.5 TDI Ambition</td>\n",
              "      <td>2014</td>\n",
              "      <td>370000</td>\n",
              "      <td>120000</td>\n",
              "      <td>Diesel</td>\n",
              "      <td>Individual</td>\n",
              "      <td>Manual</td>\n",
              "      <td>Second Owner</td>\n",
              "      <td>21.14 kmpl</td>\n",
              "      <td>1498 CC</td>\n",
              "      <td>103.52 bhp</td>\n",
              "      <td>250Nm@ 1500-2500rpm</td>\n",
              "      <td>5.0000</td>\n",
              "    </tr>\n",
              "    <tr>\n",
              "      <th>2</th>\n",
              "      <td>Honda City 2017-2020 EXi</td>\n",
              "      <td>2006</td>\n",
              "      <td>158000</td>\n",
              "      <td>140000</td>\n",
              "      <td>Petrol</td>\n",
              "      <td>Individual</td>\n",
              "      <td>Manual</td>\n",
              "      <td>Third Owner</td>\n",
              "      <td>17.7 kmpl</td>\n",
              "      <td>1497 CC</td>\n",
              "      <td>78 bhp</td>\n",
              "      <td>12.7@ 2,700(kgm@ rpm)</td>\n",
              "      <td>5.0000</td>\n",
              "    </tr>\n",
              "    <tr>\n",
              "      <th>3</th>\n",
              "      <td>Hyundai i20 Sportz Diesel</td>\n",
              "      <td>2010</td>\n",
              "      <td>225000</td>\n",
              "      <td>127000</td>\n",
              "      <td>Diesel</td>\n",
              "      <td>Individual</td>\n",
              "      <td>Manual</td>\n",
              "      <td>First Owner</td>\n",
              "      <td>23.0 kmpl</td>\n",
              "      <td>1396 CC</td>\n",
              "      <td>90 bhp</td>\n",
              "      <td>22.4 kgm at 1750-2750rpm</td>\n",
              "      <td>5.0000</td>\n",
              "    </tr>\n",
              "    <tr>\n",
              "      <th>4</th>\n",
              "      <td>Maruti Swift VXI BSIII</td>\n",
              "      <td>2007</td>\n",
              "      <td>130000</td>\n",
              "      <td>120000</td>\n",
              "      <td>Petrol</td>\n",
              "      <td>Individual</td>\n",
              "      <td>Manual</td>\n",
              "      <td>First Owner</td>\n",
              "      <td>16.1 kmpl</td>\n",
              "      <td>1298 CC</td>\n",
              "      <td>88.2 bhp</td>\n",
              "      <td>11.5@ 4,500(kgm@ rpm)</td>\n",
              "      <td>5.0000</td>\n",
              "    </tr>\n",
              "  </tbody>\n",
              "</table>\n",
              "</div>\n",
              "      <button class=\"colab-df-convert\" onclick=\"convertToInteractive('df-314ff4c6-6563-4835-9a9d-7f559a8bd4e0')\"\n",
              "              title=\"Convert this dataframe to an interactive table.\"\n",
              "              style=\"display:none;\">\n",
              "        \n",
              "  <svg xmlns=\"http://www.w3.org/2000/svg\" height=\"24px\"viewBox=\"0 0 24 24\"\n",
              "       width=\"24px\">\n",
              "    <path d=\"M0 0h24v24H0V0z\" fill=\"none\"/>\n",
              "    <path d=\"M18.56 5.44l.94 2.06.94-2.06 2.06-.94-2.06-.94-.94-2.06-.94 2.06-2.06.94zm-11 1L8.5 8.5l.94-2.06 2.06-.94-2.06-.94L8.5 2.5l-.94 2.06-2.06.94zm10 10l.94 2.06.94-2.06 2.06-.94-2.06-.94-.94-2.06-.94 2.06-2.06.94z\"/><path d=\"M17.41 7.96l-1.37-1.37c-.4-.4-.92-.59-1.43-.59-.52 0-1.04.2-1.43.59L10.3 9.45l-7.72 7.72c-.78.78-.78 2.05 0 2.83L4 21.41c.39.39.9.59 1.41.59.51 0 1.02-.2 1.41-.59l7.78-7.78 2.81-2.81c.8-.78.8-2.07 0-2.86zM5.41 20L4 18.59l7.72-7.72 1.47 1.35L5.41 20z\"/>\n",
              "  </svg>\n",
              "      </button>\n",
              "      \n",
              "  <style>\n",
              "    .colab-df-container {\n",
              "      display:flex;\n",
              "      flex-wrap:wrap;\n",
              "      gap: 12px;\n",
              "    }\n",
              "\n",
              "    .colab-df-convert {\n",
              "      background-color: #E8F0FE;\n",
              "      border: none;\n",
              "      border-radius: 50%;\n",
              "      cursor: pointer;\n",
              "      display: none;\n",
              "      fill: #1967D2;\n",
              "      height: 32px;\n",
              "      padding: 0 0 0 0;\n",
              "      width: 32px;\n",
              "    }\n",
              "\n",
              "    .colab-df-convert:hover {\n",
              "      background-color: #E2EBFA;\n",
              "      box-shadow: 0px 1px 2px rgba(60, 64, 67, 0.3), 0px 1px 3px 1px rgba(60, 64, 67, 0.15);\n",
              "      fill: #174EA6;\n",
              "    }\n",
              "\n",
              "    [theme=dark] .colab-df-convert {\n",
              "      background-color: #3B4455;\n",
              "      fill: #D2E3FC;\n",
              "    }\n",
              "\n",
              "    [theme=dark] .colab-df-convert:hover {\n",
              "      background-color: #434B5C;\n",
              "      box-shadow: 0px 1px 3px 1px rgba(0, 0, 0, 0.15);\n",
              "      filter: drop-shadow(0px 1px 2px rgba(0, 0, 0, 0.3));\n",
              "      fill: #FFFFFF;\n",
              "    }\n",
              "  </style>\n",
              "\n",
              "      <script>\n",
              "        const buttonEl =\n",
              "          document.querySelector('#df-314ff4c6-6563-4835-9a9d-7f559a8bd4e0 button.colab-df-convert');\n",
              "        buttonEl.style.display =\n",
              "          google.colab.kernel.accessAllowed ? 'block' : 'none';\n",
              "\n",
              "        async function convertToInteractive(key) {\n",
              "          const element = document.querySelector('#df-314ff4c6-6563-4835-9a9d-7f559a8bd4e0');\n",
              "          const dataTable =\n",
              "            await google.colab.kernel.invokeFunction('convertToInteractive',\n",
              "                                                     [key], {});\n",
              "          if (!dataTable) return;\n",
              "\n",
              "          const docLinkHtml = 'Like what you see? Visit the ' +\n",
              "            '<a target=\"_blank\" href=https://colab.research.google.com/notebooks/data_table.ipynb>data table notebook</a>'\n",
              "            + ' to learn more about interactive tables.';\n",
              "          element.innerHTML = '';\n",
              "          dataTable['output_type'] = 'display_data';\n",
              "          await google.colab.output.renderOutput(dataTable, element);\n",
              "          const docLink = document.createElement('div');\n",
              "          docLink.innerHTML = docLinkHtml;\n",
              "          element.appendChild(docLink);\n",
              "        }\n",
              "      </script>\n",
              "    </div>\n",
              "  </div>\n",
              "  "
            ]
          },
          "metadata": {},
          "execution_count": 37
        }
      ]
    },
    {
      "cell_type": "code",
      "source": [
        "# str -> 문자열 / titanic -> extract -> 정규표현식\n",
        "# * : 0개 이상 -> 빈칸도 잡아줌 / + : 1개 이상 : 빈칸은 제외\n",
        "# https://regexr.com -> ([\\d\\.]+) <- 숫자.소수점 같이 뽑아내는 식\n",
        "# df2.max_power.str.extract(\"([\\d\\.]+)\").astype('float')\n",
        "df2.max_power.str.extract(\"([\\d\\.]+)\").astype('float')"
      ],
      "metadata": {
        "colab": {
          "base_uri": "https://localhost:8080/",
          "height": 423
        },
        "id": "HNjwSL4MSZoV",
        "outputId": "dde02630-cbab-43f8-f70f-7f44266fd102"
      },
      "execution_count": null,
      "outputs": [
        {
          "output_type": "execute_result",
          "data": {
            "text/plain": [
              "            0\n",
              "0     74.0000\n",
              "1    103.5200\n",
              "2     78.0000\n",
              "3     90.0000\n",
              "4     88.2000\n",
              "...       ...\n",
              "8123  82.8500\n",
              "8124 110.0000\n",
              "8125  73.9000\n",
              "8126  70.0000\n",
              "8127  70.0000\n",
              "\n",
              "[8128 rows x 1 columns]"
            ],
            "text/html": [
              "\n",
              "  <div id=\"df-2440136a-a8d6-4a17-b931-f53ec1d50462\">\n",
              "    <div class=\"colab-df-container\">\n",
              "      <div>\n",
              "<style scoped>\n",
              "    .dataframe tbody tr th:only-of-type {\n",
              "        vertical-align: middle;\n",
              "    }\n",
              "\n",
              "    .dataframe tbody tr th {\n",
              "        vertical-align: top;\n",
              "    }\n",
              "\n",
              "    .dataframe thead th {\n",
              "        text-align: right;\n",
              "    }\n",
              "</style>\n",
              "<table border=\"1\" class=\"dataframe\">\n",
              "  <thead>\n",
              "    <tr style=\"text-align: right;\">\n",
              "      <th></th>\n",
              "      <th>0</th>\n",
              "    </tr>\n",
              "  </thead>\n",
              "  <tbody>\n",
              "    <tr>\n",
              "      <th>0</th>\n",
              "      <td>74.0000</td>\n",
              "    </tr>\n",
              "    <tr>\n",
              "      <th>1</th>\n",
              "      <td>103.5200</td>\n",
              "    </tr>\n",
              "    <tr>\n",
              "      <th>2</th>\n",
              "      <td>78.0000</td>\n",
              "    </tr>\n",
              "    <tr>\n",
              "      <th>3</th>\n",
              "      <td>90.0000</td>\n",
              "    </tr>\n",
              "    <tr>\n",
              "      <th>4</th>\n",
              "      <td>88.2000</td>\n",
              "    </tr>\n",
              "    <tr>\n",
              "      <th>...</th>\n",
              "      <td>...</td>\n",
              "    </tr>\n",
              "    <tr>\n",
              "      <th>8123</th>\n",
              "      <td>82.8500</td>\n",
              "    </tr>\n",
              "    <tr>\n",
              "      <th>8124</th>\n",
              "      <td>110.0000</td>\n",
              "    </tr>\n",
              "    <tr>\n",
              "      <th>8125</th>\n",
              "      <td>73.9000</td>\n",
              "    </tr>\n",
              "    <tr>\n",
              "      <th>8126</th>\n",
              "      <td>70.0000</td>\n",
              "    </tr>\n",
              "    <tr>\n",
              "      <th>8127</th>\n",
              "      <td>70.0000</td>\n",
              "    </tr>\n",
              "  </tbody>\n",
              "</table>\n",
              "<p>8128 rows × 1 columns</p>\n",
              "</div>\n",
              "      <button class=\"colab-df-convert\" onclick=\"convertToInteractive('df-2440136a-a8d6-4a17-b931-f53ec1d50462')\"\n",
              "              title=\"Convert this dataframe to an interactive table.\"\n",
              "              style=\"display:none;\">\n",
              "        \n",
              "  <svg xmlns=\"http://www.w3.org/2000/svg\" height=\"24px\"viewBox=\"0 0 24 24\"\n",
              "       width=\"24px\">\n",
              "    <path d=\"M0 0h24v24H0V0z\" fill=\"none\"/>\n",
              "    <path d=\"M18.56 5.44l.94 2.06.94-2.06 2.06-.94-2.06-.94-.94-2.06-.94 2.06-2.06.94zm-11 1L8.5 8.5l.94-2.06 2.06-.94-2.06-.94L8.5 2.5l-.94 2.06-2.06.94zm10 10l.94 2.06.94-2.06 2.06-.94-2.06-.94-.94-2.06-.94 2.06-2.06.94z\"/><path d=\"M17.41 7.96l-1.37-1.37c-.4-.4-.92-.59-1.43-.59-.52 0-1.04.2-1.43.59L10.3 9.45l-7.72 7.72c-.78.78-.78 2.05 0 2.83L4 21.41c.39.39.9.59 1.41.59.51 0 1.02-.2 1.41-.59l7.78-7.78 2.81-2.81c.8-.78.8-2.07 0-2.86zM5.41 20L4 18.59l7.72-7.72 1.47 1.35L5.41 20z\"/>\n",
              "  </svg>\n",
              "      </button>\n",
              "      \n",
              "  <style>\n",
              "    .colab-df-container {\n",
              "      display:flex;\n",
              "      flex-wrap:wrap;\n",
              "      gap: 12px;\n",
              "    }\n",
              "\n",
              "    .colab-df-convert {\n",
              "      background-color: #E8F0FE;\n",
              "      border: none;\n",
              "      border-radius: 50%;\n",
              "      cursor: pointer;\n",
              "      display: none;\n",
              "      fill: #1967D2;\n",
              "      height: 32px;\n",
              "      padding: 0 0 0 0;\n",
              "      width: 32px;\n",
              "    }\n",
              "\n",
              "    .colab-df-convert:hover {\n",
              "      background-color: #E2EBFA;\n",
              "      box-shadow: 0px 1px 2px rgba(60, 64, 67, 0.3), 0px 1px 3px 1px rgba(60, 64, 67, 0.15);\n",
              "      fill: #174EA6;\n",
              "    }\n",
              "\n",
              "    [theme=dark] .colab-df-convert {\n",
              "      background-color: #3B4455;\n",
              "      fill: #D2E3FC;\n",
              "    }\n",
              "\n",
              "    [theme=dark] .colab-df-convert:hover {\n",
              "      background-color: #434B5C;\n",
              "      box-shadow: 0px 1px 3px 1px rgba(0, 0, 0, 0.15);\n",
              "      filter: drop-shadow(0px 1px 2px rgba(0, 0, 0, 0.3));\n",
              "      fill: #FFFFFF;\n",
              "    }\n",
              "  </style>\n",
              "\n",
              "      <script>\n",
              "        const buttonEl =\n",
              "          document.querySelector('#df-2440136a-a8d6-4a17-b931-f53ec1d50462 button.colab-df-convert');\n",
              "        buttonEl.style.display =\n",
              "          google.colab.kernel.accessAllowed ? 'block' : 'none';\n",
              "\n",
              "        async function convertToInteractive(key) {\n",
              "          const element = document.querySelector('#df-2440136a-a8d6-4a17-b931-f53ec1d50462');\n",
              "          const dataTable =\n",
              "            await google.colab.kernel.invokeFunction('convertToInteractive',\n",
              "                                                     [key], {});\n",
              "          if (!dataTable) return;\n",
              "\n",
              "          const docLinkHtml = 'Like what you see? Visit the ' +\n",
              "            '<a target=\"_blank\" href=https://colab.research.google.com/notebooks/data_table.ipynb>data table notebook</a>'\n",
              "            + ' to learn more about interactive tables.';\n",
              "          element.innerHTML = '';\n",
              "          dataTable['output_type'] = 'display_data';\n",
              "          await google.colab.output.renderOutput(dataTable, element);\n",
              "          const docLink = document.createElement('div');\n",
              "          docLink.innerHTML = docLinkHtml;\n",
              "          element.appendChild(docLink);\n",
              "        }\n",
              "      </script>\n",
              "    </div>\n",
              "  </div>\n",
              "  "
            ]
          },
          "metadata": {},
          "execution_count": 42
        }
      ]
    },
    {
      "cell_type": "code",
      "source": [
        "df2.engine.str.extract(\"([\\d\\.]+)\").astype('float')"
      ],
      "metadata": {
        "colab": {
          "base_uri": "https://localhost:8080/",
          "height": 423
        },
        "id": "yP1uUBSwB1LL",
        "outputId": "ba41cb7e-e4f7-479d-be4d-54b63b4c94ac"
      },
      "execution_count": null,
      "outputs": [
        {
          "output_type": "execute_result",
          "data": {
            "text/plain": [
              "             0\n",
              "0    1248.0000\n",
              "1    1498.0000\n",
              "2    1497.0000\n",
              "3    1396.0000\n",
              "4    1298.0000\n",
              "...        ...\n",
              "8123 1197.0000\n",
              "8124 1493.0000\n",
              "8125 1248.0000\n",
              "8126 1396.0000\n",
              "8127 1396.0000\n",
              "\n",
              "[8128 rows x 1 columns]"
            ],
            "text/html": [
              "\n",
              "  <div id=\"df-58c69946-4ec0-48ef-9d35-4f6d29f11cee\">\n",
              "    <div class=\"colab-df-container\">\n",
              "      <div>\n",
              "<style scoped>\n",
              "    .dataframe tbody tr th:only-of-type {\n",
              "        vertical-align: middle;\n",
              "    }\n",
              "\n",
              "    .dataframe tbody tr th {\n",
              "        vertical-align: top;\n",
              "    }\n",
              "\n",
              "    .dataframe thead th {\n",
              "        text-align: right;\n",
              "    }\n",
              "</style>\n",
              "<table border=\"1\" class=\"dataframe\">\n",
              "  <thead>\n",
              "    <tr style=\"text-align: right;\">\n",
              "      <th></th>\n",
              "      <th>0</th>\n",
              "    </tr>\n",
              "  </thead>\n",
              "  <tbody>\n",
              "    <tr>\n",
              "      <th>0</th>\n",
              "      <td>1248.0000</td>\n",
              "    </tr>\n",
              "    <tr>\n",
              "      <th>1</th>\n",
              "      <td>1498.0000</td>\n",
              "    </tr>\n",
              "    <tr>\n",
              "      <th>2</th>\n",
              "      <td>1497.0000</td>\n",
              "    </tr>\n",
              "    <tr>\n",
              "      <th>3</th>\n",
              "      <td>1396.0000</td>\n",
              "    </tr>\n",
              "    <tr>\n",
              "      <th>4</th>\n",
              "      <td>1298.0000</td>\n",
              "    </tr>\n",
              "    <tr>\n",
              "      <th>...</th>\n",
              "      <td>...</td>\n",
              "    </tr>\n",
              "    <tr>\n",
              "      <th>8123</th>\n",
              "      <td>1197.0000</td>\n",
              "    </tr>\n",
              "    <tr>\n",
              "      <th>8124</th>\n",
              "      <td>1493.0000</td>\n",
              "    </tr>\n",
              "    <tr>\n",
              "      <th>8125</th>\n",
              "      <td>1248.0000</td>\n",
              "    </tr>\n",
              "    <tr>\n",
              "      <th>8126</th>\n",
              "      <td>1396.0000</td>\n",
              "    </tr>\n",
              "    <tr>\n",
              "      <th>8127</th>\n",
              "      <td>1396.0000</td>\n",
              "    </tr>\n",
              "  </tbody>\n",
              "</table>\n",
              "<p>8128 rows × 1 columns</p>\n",
              "</div>\n",
              "      <button class=\"colab-df-convert\" onclick=\"convertToInteractive('df-58c69946-4ec0-48ef-9d35-4f6d29f11cee')\"\n",
              "              title=\"Convert this dataframe to an interactive table.\"\n",
              "              style=\"display:none;\">\n",
              "        \n",
              "  <svg xmlns=\"http://www.w3.org/2000/svg\" height=\"24px\"viewBox=\"0 0 24 24\"\n",
              "       width=\"24px\">\n",
              "    <path d=\"M0 0h24v24H0V0z\" fill=\"none\"/>\n",
              "    <path d=\"M18.56 5.44l.94 2.06.94-2.06 2.06-.94-2.06-.94-.94-2.06-.94 2.06-2.06.94zm-11 1L8.5 8.5l.94-2.06 2.06-.94-2.06-.94L8.5 2.5l-.94 2.06-2.06.94zm10 10l.94 2.06.94-2.06 2.06-.94-2.06-.94-.94-2.06-.94 2.06-2.06.94z\"/><path d=\"M17.41 7.96l-1.37-1.37c-.4-.4-.92-.59-1.43-.59-.52 0-1.04.2-1.43.59L10.3 9.45l-7.72 7.72c-.78.78-.78 2.05 0 2.83L4 21.41c.39.39.9.59 1.41.59.51 0 1.02-.2 1.41-.59l7.78-7.78 2.81-2.81c.8-.78.8-2.07 0-2.86zM5.41 20L4 18.59l7.72-7.72 1.47 1.35L5.41 20z\"/>\n",
              "  </svg>\n",
              "      </button>\n",
              "      \n",
              "  <style>\n",
              "    .colab-df-container {\n",
              "      display:flex;\n",
              "      flex-wrap:wrap;\n",
              "      gap: 12px;\n",
              "    }\n",
              "\n",
              "    .colab-df-convert {\n",
              "      background-color: #E8F0FE;\n",
              "      border: none;\n",
              "      border-radius: 50%;\n",
              "      cursor: pointer;\n",
              "      display: none;\n",
              "      fill: #1967D2;\n",
              "      height: 32px;\n",
              "      padding: 0 0 0 0;\n",
              "      width: 32px;\n",
              "    }\n",
              "\n",
              "    .colab-df-convert:hover {\n",
              "      background-color: #E2EBFA;\n",
              "      box-shadow: 0px 1px 2px rgba(60, 64, 67, 0.3), 0px 1px 3px 1px rgba(60, 64, 67, 0.15);\n",
              "      fill: #174EA6;\n",
              "    }\n",
              "\n",
              "    [theme=dark] .colab-df-convert {\n",
              "      background-color: #3B4455;\n",
              "      fill: #D2E3FC;\n",
              "    }\n",
              "\n",
              "    [theme=dark] .colab-df-convert:hover {\n",
              "      background-color: #434B5C;\n",
              "      box-shadow: 0px 1px 3px 1px rgba(0, 0, 0, 0.15);\n",
              "      filter: drop-shadow(0px 1px 2px rgba(0, 0, 0, 0.3));\n",
              "      fill: #FFFFFF;\n",
              "    }\n",
              "  </style>\n",
              "\n",
              "      <script>\n",
              "        const buttonEl =\n",
              "          document.querySelector('#df-58c69946-4ec0-48ef-9d35-4f6d29f11cee button.colab-df-convert');\n",
              "        buttonEl.style.display =\n",
              "          google.colab.kernel.accessAllowed ? 'block' : 'none';\n",
              "\n",
              "        async function convertToInteractive(key) {\n",
              "          const element = document.querySelector('#df-58c69946-4ec0-48ef-9d35-4f6d29f11cee');\n",
              "          const dataTable =\n",
              "            await google.colab.kernel.invokeFunction('convertToInteractive',\n",
              "                                                     [key], {});\n",
              "          if (!dataTable) return;\n",
              "\n",
              "          const docLinkHtml = 'Like what you see? Visit the ' +\n",
              "            '<a target=\"_blank\" href=https://colab.research.google.com/notebooks/data_table.ipynb>data table notebook</a>'\n",
              "            + ' to learn more about interactive tables.';\n",
              "          element.innerHTML = '';\n",
              "          dataTable['output_type'] = 'display_data';\n",
              "          await google.colab.output.renderOutput(dataTable, element);\n",
              "          const docLink = document.createElement('div');\n",
              "          docLink.innerHTML = docLinkHtml;\n",
              "          element.appendChild(docLink);\n",
              "        }\n",
              "      </script>\n",
              "    </div>\n",
              "  </div>\n",
              "  "
            ]
          },
          "metadata": {},
          "execution_count": 43
        }
      ]
    },
    {
      "cell_type": "code",
      "source": [
        "df.max_power_unit.unique() # 0"
      ],
      "metadata": {
        "colab": {
          "base_uri": "https://localhost:8080/"
        },
        "id": "_4DMt1iaUMec",
        "outputId": "19a8d42f-5c25-430d-9e50-edcdb7ebd823"
      },
      "execution_count": null,
      "outputs": [
        {
          "output_type": "execute_result",
          "data": {
            "text/plain": [
              "array(['bhp', nan, None], dtype=object)"
            ]
          },
          "metadata": {},
          "execution_count": 44
        }
      ]
    },
    {
      "cell_type": "code",
      "source": [
        "df.drop('max_power_unit', axis=1, inplace=True)"
      ],
      "metadata": {
        "id": "KUEZvDlbUTz1"
      },
      "execution_count": null,
      "outputs": []
    },
    {
      "cell_type": "code",
      "source": [
        "df.info()"
      ],
      "metadata": {
        "colab": {
          "base_uri": "https://localhost:8080/"
        },
        "id": "-SU9ayitUWzF",
        "outputId": "58c5dcff-6e71-43ba-a977-a927c63e6251"
      },
      "execution_count": null,
      "outputs": [
        {
          "output_type": "stream",
          "name": "stdout",
          "text": [
            "<class 'pandas.core.frame.DataFrame'>\n",
            "RangeIndex: 8128 entries, 0 to 8127\n",
            "Data columns (total 13 columns):\n",
            " #   Column         Non-Null Count  Dtype  \n",
            "---  ------         --------------  -----  \n",
            " 0   name           8128 non-null   object \n",
            " 1   year           8128 non-null   int64  \n",
            " 2   selling_price  8128 non-null   int64  \n",
            " 3   km_driven      8128 non-null   int64  \n",
            " 4   fuel           8128 non-null   object \n",
            " 5   seller_type    8128 non-null   object \n",
            " 6   transmission   8128 non-null   object \n",
            " 7   owner          8128 non-null   object \n",
            " 8   mileage        7907 non-null   object \n",
            " 9   engine         7907 non-null   float32\n",
            " 10  max_power      7912 non-null   float64\n",
            " 11  torque         7906 non-null   object \n",
            " 12  seats          7907 non-null   float64\n",
            "dtypes: float32(1), float64(2), int64(3), object(7)\n",
            "memory usage: 793.9+ KB\n"
          ]
        }
      ]
    },
    {
      "cell_type": "markdown",
      "source": [
        "### Mileage"
      ],
      "metadata": {
        "id": "Z0EZ25WlUiCs"
      }
    },
    {
      "cell_type": "code",
      "source": [
        "df.mileage.unique()"
      ],
      "metadata": {
        "id": "7bnhbdSoUp-E",
        "colab": {
          "base_uri": "https://localhost:8080/"
        },
        "outputId": "1998a964-0156-4e42-bd88-aa8f8d3b321a"
      },
      "execution_count": null,
      "outputs": [
        {
          "output_type": "execute_result",
          "data": {
            "text/plain": [
              "array(['23.4 kmpl', '21.14 kmpl', '17.7 kmpl', '23.0 kmpl', '16.1 kmpl',\n",
              "       '20.14 kmpl', '17.3 km/kg', '23.59 kmpl', '20.0 kmpl',\n",
              "       '19.01 kmpl', '17.3 kmpl', '19.3 kmpl', nan, '18.9 kmpl',\n",
              "       '18.15 kmpl', '24.52 kmpl', '19.7 kmpl', '22.54 kmpl', '21.0 kmpl',\n",
              "       '25.5 kmpl', '26.59 kmpl', '21.5 kmpl', '20.3 kmpl', '21.4 kmpl',\n",
              "       '24.7 kmpl', '18.2 kmpl', '16.8 kmpl', '24.3 kmpl', '14.0 kmpl',\n",
              "       '18.6 kmpl', '33.44 km/kg', '23.95 kmpl', '17.0 kmpl',\n",
              "       '20.63 kmpl', '13.93 kmpl', '16.0 kmpl', '17.8 kmpl', '18.5 kmpl',\n",
              "       '12.55 kmpl', '12.99 kmpl', '14.8 kmpl', '13.5 kmpl', '26.0 kmpl',\n",
              "       '20.65 kmpl', '27.3 kmpl', '11.36 kmpl', '17.68 kmpl',\n",
              "       '14.28 kmpl', '18.53 kmpl', '14.84 kmpl', '21.12 kmpl',\n",
              "       '20.36 kmpl', '21.27 kmpl', '18.16 kmpl', '22.0 kmpl', '25.1 kmpl',\n",
              "       '20.51 kmpl', '21.66 kmpl', '25.2 kmpl', '22.9 kmpl', '16.02 kmpl',\n",
              "       '20.54 kmpl', '22.77 kmpl', '15.71 kmpl', '23.1 kmpl',\n",
              "       '19.02 kmpl', '19.81 kmpl', '26.2 km/kg', '16.47 kmpl',\n",
              "       '15.04 kmpl', '19.1 kmpl', '21.79 kmpl', '18.8 kmpl', '21.21 kmpl',\n",
              "       '15.37 kmpl', '11.79 kmpl', '19.0 kmpl', '14.3 kmpl', '15.8 kmpl',\n",
              "       '15.1 kmpl', '19.09 kmpl', '22.32 kmpl', '21.9 kmpl', '14.53 kmpl',\n",
              "       '21.63 kmpl', '20.85 kmpl', '20.45 kmpl', '19.67 kmpl',\n",
              "       '23.01 kmpl', '20.77 kmpl', '17.92 kmpl', '17.01 kmpl',\n",
              "       '22.37 kmpl', '19.33 kmpl', '9.5 kmpl', '12.83 kmpl', '22.48 kmpl',\n",
              "       '16.78 kmpl', '14.67 kmpl', '15.0 kmpl', '13.96 kmpl', '18.0 kmpl',\n",
              "       '12.07 kmpl', '26.21 kmpl', '10.8 kmpl', '16.3 kmpl', '13.6 kmpl',\n",
              "       '14.74 kmpl', '15.6 kmpl', '19.56 kmpl', '22.69 kmpl',\n",
              "       '19.16 kmpl', '18.12 kmpl', '12.1 kmpl', '17.5 kmpl', '42.0 kmpl',\n",
              "       '20.4 kmpl', '21.1 kmpl', '19.44 kmpl', '13.0 kmpl', '21.43 kmpl',\n",
              "       '22.95 kmpl', '16.2 kmpl', '15.3 kmpl', '28.09 kmpl', '17.4 kmpl',\n",
              "       '19.4 kmpl', '26.6 km/kg', '17.6 kmpl', '28.4 kmpl', '14.1 kmpl',\n",
              "       '25.17 kmpl', '22.74 kmpl', '17.57 kmpl', '16.95 kmpl',\n",
              "       '19.49 kmpl', '17.21 kmpl', '13.2 kmpl', '14.2 kmpl', '26.8 kmpl',\n",
              "       '25.4 kmpl', '11.5 kmpl', '27.28 kmpl', '17.97 kmpl', '12.8 kmpl',\n",
              "       '16.55 kmpl', '12.05 kmpl', '14.07 kmpl', '21.02 kmpl',\n",
              "       '11.57 kmpl', '17.9 kmpl', '15.96 kmpl', '17.1 kmpl', '17.19 kmpl',\n",
              "       '21.01 kmpl', '24.0 kmpl', '25.6 kmpl', '21.38 kmpl', '23.84 kmpl',\n",
              "       '23.08 kmpl', '14.24 kmpl', '20.71 kmpl', '15.64 kmpl',\n",
              "       '14.5 kmpl', '16.34 kmpl', '27.39 kmpl', '11.1 kmpl', '13.9 kmpl',\n",
              "       '20.88 km/kg', '20.92 kmpl', '23.8 kmpl', '24.4 kmpl',\n",
              "       '15.29 kmpl', '21.19 kmpl', '22.5 kmpl', '19.6 kmpl', '23.65 kmpl',\n",
              "       '25.32 kmpl', '23.5 kmpl', '16.6 kmpl', '23.9 kmpl', '20.8 kmpl',\n",
              "       '27.62 kmpl', '12.9 kmpl', '25.44 kmpl', '17.88 kmpl', '22.7 kmpl',\n",
              "       '17.2 kmpl', '15.42 kmpl', '19.68 kmpl', '18.7 kmpl', '15.4 kmpl',\n",
              "       '19.34 kmpl', '22.71 kmpl', '25.8 kmpl', '13.7 kmpl', '12.2 kmpl',\n",
              "       '18.49 kmpl', '9.0 kmpl', '0.0 kmpl', '13.58 kmpl', '10.1 kmpl',\n",
              "       '20.5 kmpl', '25.0 kmpl', '10.5 kmpl', '22.07 kmpl', '22.3 kmpl',\n",
              "       '15.26 kmpl', '20.62 kmpl', '27.4 kmpl', '23.2 kmpl', '14.4 kmpl',\n",
              "       '18.4 kmpl', '30.46 km/kg', '14.02 kmpl', '11.0 kmpl', '20.6 kmpl',\n",
              "       '22.05 kmpl', '20.2 kmpl', '18.1 kmpl', '22.1 kmpl', '19.87 kmpl',\n",
              "       '13.01 kmpl', '18.06 kmpl', '26.1 kmpl', '16.52 kmpl',\n",
              "       '13.55 kmpl', '24.2 kmpl', '25.83 kmpl', '11.2 kmpl', '17.09 kmpl',\n",
              "       '21.03 kmpl', '17.45 kmpl', '21.64 kmpl', '21.94 km/kg',\n",
              "       '13.87 kmpl', '19.98 kmpl', '20.52 kmpl', '23.57 kmpl',\n",
              "       '11.7 kmpl', '17.43 kmpl', '18.88 kmpl', '13.68 kmpl',\n",
              "       '11.18 kmpl', '20.89 kmpl', '11.8 kmpl', '19.62 kmpl', '21.7 kmpl',\n",
              "       '14.9 kmpl', '19.5 kmpl', '10.91 kmpl', '15.7 kmpl', '20.73 kmpl',\n",
              "       '15.85 kmpl', '20.7 kmpl', '14.23 kmpl', '16.5 kmpl', '17.36 kmpl',\n",
              "       '12.6 kmpl', '16.36 kmpl', '14.95 kmpl', '16.9 kmpl', '19.2 kmpl',\n",
              "       '16.96 kmpl', '22.15 kmpl', '18.78 kmpl', '19.61 kmpl',\n",
              "       '17.71 kmpl', '18.3 kmpl', '19.12 kmpl', '19.72 kmpl', '12.0 kmpl',\n",
              "       '11.4 kmpl', '23.03 kmpl', '11.07 kmpl', '15.9 kmpl', '17.67 kmpl',\n",
              "       '20.46 kmpl', '13.1 kmpl', '13.45 km/kg', '24.8 kmpl',\n",
              "       '15.73 kmpl', '15.11 kmpl', '12.7 kmpl', '21.2 kmpl', '20.38 kmpl',\n",
              "       '21.56 kmpl', '13.22 kmpl', '14.49 kmpl', '15.05 kmpl',\n",
              "       '23.26 kmpl', '15.41 kmpl', '13.8 kmpl', '22.27 kmpl',\n",
              "       '32.52 km/kg', '14.66 kmpl', '12.12 kmpl', '16.84 kmpl',\n",
              "       '14.09 kmpl', '14.7 kmpl', '13.4 kmpl', '15.5 kmpl', '13.49 kmpl',\n",
              "       '11.88 km/kg', '14.6 kmpl', '10.75 kmpl', '24.5 kmpl',\n",
              "       '11.74 kmpl', '16.07 kmpl', '15.63 kmpl', '26.3 km/kg',\n",
              "       '23.7 km/kg', '25.47 kmpl', '17.05 kmpl', '23.3 kmpl', '11.9 kmpl',\n",
              "       '13.38 kmpl', '20.86 kmpl', '19.2 km/kg', '10.9 kmpl',\n",
              "       '18.25 kmpl', '15.2 kmpl', '20.37 kmpl', '17.8 km/kg', '21.8 kmpl',\n",
              "       '11.96 kmpl', '24.04 kmpl', '19.69 kmpl', '13.73 kmpl',\n",
              "       '21.04 kmpl', '25.01 kmpl', '10.93 kmpl', '10.9 km/kg',\n",
              "       '24.29 kmpl', '13.44 kmpl', '20.07 kmpl', '21.1 km/kg',\n",
              "       '19.08 kmpl', '20.34 kmpl', '11.68 kmpl', '12.5 kmpl', '12.3 kmpl',\n",
              "       '23.87 kmpl', '16.38 kmpl', '17.42 kmpl', '10.0 kmpl',\n",
              "       '18.24 kmpl', '10.71 kmpl', '19.59 kmpl', '16.7 kmpl',\n",
              "       '19.83 kmpl', '21.76 kmpl', '16.05 kmpl', '20.28 kmpl',\n",
              "       '16.25 kmpl', '16.73 kmpl', '18.48 kmpl', '13.2 km/kg',\n",
              "       '21.4 km/kg', '14.99 kmpl', '18.76 kmpl', '16.4 kmpl',\n",
              "       '19.64 kmpl', '14.94 kmpl', '16.6 km/kg', '16.0 km/kg',\n",
              "       '17.11 kmpl', '22.8 km/kg', '32.26 km/kg', '33.0 km/kg',\n",
              "       '12.4 kmpl', '18.44 kmpl', '16.09 kmpl', '19.0 km/kg',\n",
              "       '12.62 kmpl', '21.13 kmpl', '15.17 kmpl', '21.73 kmpl',\n",
              "       '21.72 kmpl', '12.85 kmpl', '14.81 kmpl', '13.24 kmpl',\n",
              "       '14.4 km/kg', '21.49 kmpl', '14.62 kmpl', '26.83 km/kg',\n",
              "       '11.45 kmpl', '12.08 kmpl', '15.74 kmpl', '11.3 kmpl',\n",
              "       '15.1 km/kg', '14.21 kmpl', '11.72 kmpl', '16.51 kmpl'],\n",
              "      dtype=object)"
            ]
          },
          "metadata": {},
          "execution_count": 47
        }
      ]
    },
    {
      "cell_type": "code",
      "source": [
        "df[['mileage', 'mileage_unit']] = df.mileage.str.split(expand=True)\n",
        "df.head()"
      ],
      "metadata": {
        "colab": {
          "base_uri": "https://localhost:8080/",
          "height": 513
        },
        "id": "k_iIwxaOUyi-",
        "outputId": "020a634f-ee2c-4f2a-ba26-6cd4f6097f59"
      },
      "execution_count": null,
      "outputs": [
        {
          "output_type": "execute_result",
          "data": {
            "text/plain": [
              "                           name  year  selling_price  km_driven    fuel  \\\n",
              "0        Maruti Swift Dzire VDI  2014         450000     145500  Diesel   \n",
              "1  Skoda Rapid 1.5 TDI Ambition  2014         370000     120000  Diesel   \n",
              "2      Honda City 2017-2020 EXi  2006         158000     140000  Petrol   \n",
              "3     Hyundai i20 Sportz Diesel  2010         225000     127000  Diesel   \n",
              "4        Maruti Swift VXI BSIII  2007         130000     120000  Petrol   \n",
              "\n",
              "  seller_type transmission         owner mileage    engine  max_power  \\\n",
              "0  Individual       Manual   First Owner    23.4 1248.0000    74.0000   \n",
              "1  Individual       Manual  Second Owner   21.14 1498.0000   103.5200   \n",
              "2  Individual       Manual   Third Owner    17.7 1497.0000    78.0000   \n",
              "3  Individual       Manual   First Owner    23.0 1396.0000    90.0000   \n",
              "4  Individual       Manual   First Owner    16.1 1298.0000    88.2000   \n",
              "\n",
              "                     torque  seats mileage_unit  \n",
              "0            190Nm@ 2000rpm 5.0000         kmpl  \n",
              "1       250Nm@ 1500-2500rpm 5.0000         kmpl  \n",
              "2     12.7@ 2,700(kgm@ rpm) 5.0000         kmpl  \n",
              "3  22.4 kgm at 1750-2750rpm 5.0000         kmpl  \n",
              "4     11.5@ 4,500(kgm@ rpm) 5.0000         kmpl  "
            ],
            "text/html": [
              "\n",
              "  <div id=\"df-4e3b134f-9577-4d94-bffb-13a454ab2e04\">\n",
              "    <div class=\"colab-df-container\">\n",
              "      <div>\n",
              "<style scoped>\n",
              "    .dataframe tbody tr th:only-of-type {\n",
              "        vertical-align: middle;\n",
              "    }\n",
              "\n",
              "    .dataframe tbody tr th {\n",
              "        vertical-align: top;\n",
              "    }\n",
              "\n",
              "    .dataframe thead th {\n",
              "        text-align: right;\n",
              "    }\n",
              "</style>\n",
              "<table border=\"1\" class=\"dataframe\">\n",
              "  <thead>\n",
              "    <tr style=\"text-align: right;\">\n",
              "      <th></th>\n",
              "      <th>name</th>\n",
              "      <th>year</th>\n",
              "      <th>selling_price</th>\n",
              "      <th>km_driven</th>\n",
              "      <th>fuel</th>\n",
              "      <th>seller_type</th>\n",
              "      <th>transmission</th>\n",
              "      <th>owner</th>\n",
              "      <th>mileage</th>\n",
              "      <th>engine</th>\n",
              "      <th>max_power</th>\n",
              "      <th>torque</th>\n",
              "      <th>seats</th>\n",
              "      <th>mileage_unit</th>\n",
              "    </tr>\n",
              "  </thead>\n",
              "  <tbody>\n",
              "    <tr>\n",
              "      <th>0</th>\n",
              "      <td>Maruti Swift Dzire VDI</td>\n",
              "      <td>2014</td>\n",
              "      <td>450000</td>\n",
              "      <td>145500</td>\n",
              "      <td>Diesel</td>\n",
              "      <td>Individual</td>\n",
              "      <td>Manual</td>\n",
              "      <td>First Owner</td>\n",
              "      <td>23.4</td>\n",
              "      <td>1248.0000</td>\n",
              "      <td>74.0000</td>\n",
              "      <td>190Nm@ 2000rpm</td>\n",
              "      <td>5.0000</td>\n",
              "      <td>kmpl</td>\n",
              "    </tr>\n",
              "    <tr>\n",
              "      <th>1</th>\n",
              "      <td>Skoda Rapid 1.5 TDI Ambition</td>\n",
              "      <td>2014</td>\n",
              "      <td>370000</td>\n",
              "      <td>120000</td>\n",
              "      <td>Diesel</td>\n",
              "      <td>Individual</td>\n",
              "      <td>Manual</td>\n",
              "      <td>Second Owner</td>\n",
              "      <td>21.14</td>\n",
              "      <td>1498.0000</td>\n",
              "      <td>103.5200</td>\n",
              "      <td>250Nm@ 1500-2500rpm</td>\n",
              "      <td>5.0000</td>\n",
              "      <td>kmpl</td>\n",
              "    </tr>\n",
              "    <tr>\n",
              "      <th>2</th>\n",
              "      <td>Honda City 2017-2020 EXi</td>\n",
              "      <td>2006</td>\n",
              "      <td>158000</td>\n",
              "      <td>140000</td>\n",
              "      <td>Petrol</td>\n",
              "      <td>Individual</td>\n",
              "      <td>Manual</td>\n",
              "      <td>Third Owner</td>\n",
              "      <td>17.7</td>\n",
              "      <td>1497.0000</td>\n",
              "      <td>78.0000</td>\n",
              "      <td>12.7@ 2,700(kgm@ rpm)</td>\n",
              "      <td>5.0000</td>\n",
              "      <td>kmpl</td>\n",
              "    </tr>\n",
              "    <tr>\n",
              "      <th>3</th>\n",
              "      <td>Hyundai i20 Sportz Diesel</td>\n",
              "      <td>2010</td>\n",
              "      <td>225000</td>\n",
              "      <td>127000</td>\n",
              "      <td>Diesel</td>\n",
              "      <td>Individual</td>\n",
              "      <td>Manual</td>\n",
              "      <td>First Owner</td>\n",
              "      <td>23.0</td>\n",
              "      <td>1396.0000</td>\n",
              "      <td>90.0000</td>\n",
              "      <td>22.4 kgm at 1750-2750rpm</td>\n",
              "      <td>5.0000</td>\n",
              "      <td>kmpl</td>\n",
              "    </tr>\n",
              "    <tr>\n",
              "      <th>4</th>\n",
              "      <td>Maruti Swift VXI BSIII</td>\n",
              "      <td>2007</td>\n",
              "      <td>130000</td>\n",
              "      <td>120000</td>\n",
              "      <td>Petrol</td>\n",
              "      <td>Individual</td>\n",
              "      <td>Manual</td>\n",
              "      <td>First Owner</td>\n",
              "      <td>16.1</td>\n",
              "      <td>1298.0000</td>\n",
              "      <td>88.2000</td>\n",
              "      <td>11.5@ 4,500(kgm@ rpm)</td>\n",
              "      <td>5.0000</td>\n",
              "      <td>kmpl</td>\n",
              "    </tr>\n",
              "  </tbody>\n",
              "</table>\n",
              "</div>\n",
              "      <button class=\"colab-df-convert\" onclick=\"convertToInteractive('df-4e3b134f-9577-4d94-bffb-13a454ab2e04')\"\n",
              "              title=\"Convert this dataframe to an interactive table.\"\n",
              "              style=\"display:none;\">\n",
              "        \n",
              "  <svg xmlns=\"http://www.w3.org/2000/svg\" height=\"24px\"viewBox=\"0 0 24 24\"\n",
              "       width=\"24px\">\n",
              "    <path d=\"M0 0h24v24H0V0z\" fill=\"none\"/>\n",
              "    <path d=\"M18.56 5.44l.94 2.06.94-2.06 2.06-.94-2.06-.94-.94-2.06-.94 2.06-2.06.94zm-11 1L8.5 8.5l.94-2.06 2.06-.94-2.06-.94L8.5 2.5l-.94 2.06-2.06.94zm10 10l.94 2.06.94-2.06 2.06-.94-2.06-.94-.94-2.06-.94 2.06-2.06.94z\"/><path d=\"M17.41 7.96l-1.37-1.37c-.4-.4-.92-.59-1.43-.59-.52 0-1.04.2-1.43.59L10.3 9.45l-7.72 7.72c-.78.78-.78 2.05 0 2.83L4 21.41c.39.39.9.59 1.41.59.51 0 1.02-.2 1.41-.59l7.78-7.78 2.81-2.81c.8-.78.8-2.07 0-2.86zM5.41 20L4 18.59l7.72-7.72 1.47 1.35L5.41 20z\"/>\n",
              "  </svg>\n",
              "      </button>\n",
              "      \n",
              "  <style>\n",
              "    .colab-df-container {\n",
              "      display:flex;\n",
              "      flex-wrap:wrap;\n",
              "      gap: 12px;\n",
              "    }\n",
              "\n",
              "    .colab-df-convert {\n",
              "      background-color: #E8F0FE;\n",
              "      border: none;\n",
              "      border-radius: 50%;\n",
              "      cursor: pointer;\n",
              "      display: none;\n",
              "      fill: #1967D2;\n",
              "      height: 32px;\n",
              "      padding: 0 0 0 0;\n",
              "      width: 32px;\n",
              "    }\n",
              "\n",
              "    .colab-df-convert:hover {\n",
              "      background-color: #E2EBFA;\n",
              "      box-shadow: 0px 1px 2px rgba(60, 64, 67, 0.3), 0px 1px 3px 1px rgba(60, 64, 67, 0.15);\n",
              "      fill: #174EA6;\n",
              "    }\n",
              "\n",
              "    [theme=dark] .colab-df-convert {\n",
              "      background-color: #3B4455;\n",
              "      fill: #D2E3FC;\n",
              "    }\n",
              "\n",
              "    [theme=dark] .colab-df-convert:hover {\n",
              "      background-color: #434B5C;\n",
              "      box-shadow: 0px 1px 3px 1px rgba(0, 0, 0, 0.15);\n",
              "      filter: drop-shadow(0px 1px 2px rgba(0, 0, 0, 0.3));\n",
              "      fill: #FFFFFF;\n",
              "    }\n",
              "  </style>\n",
              "\n",
              "      <script>\n",
              "        const buttonEl =\n",
              "          document.querySelector('#df-4e3b134f-9577-4d94-bffb-13a454ab2e04 button.colab-df-convert');\n",
              "        buttonEl.style.display =\n",
              "          google.colab.kernel.accessAllowed ? 'block' : 'none';\n",
              "\n",
              "        async function convertToInteractive(key) {\n",
              "          const element = document.querySelector('#df-4e3b134f-9577-4d94-bffb-13a454ab2e04');\n",
              "          const dataTable =\n",
              "            await google.colab.kernel.invokeFunction('convertToInteractive',\n",
              "                                                     [key], {});\n",
              "          if (!dataTable) return;\n",
              "\n",
              "          const docLinkHtml = 'Like what you see? Visit the ' +\n",
              "            '<a target=\"_blank\" href=https://colab.research.google.com/notebooks/data_table.ipynb>data table notebook</a>'\n",
              "            + ' to learn more about interactive tables.';\n",
              "          element.innerHTML = '';\n",
              "          dataTable['output_type'] = 'display_data';\n",
              "          await google.colab.output.renderOutput(dataTable, element);\n",
              "          const docLink = document.createElement('div');\n",
              "          docLink.innerHTML = docLinkHtml;\n",
              "          element.appendChild(docLink);\n",
              "        }\n",
              "      </script>\n",
              "    </div>\n",
              "  </div>\n",
              "  "
            ]
          },
          "metadata": {},
          "execution_count": 48
        }
      ]
    },
    {
      "cell_type": "code",
      "source": [
        "df.mileage = df.mileage.astype('float32')\n",
        "df.mileage.head()"
      ],
      "metadata": {
        "colab": {
          "base_uri": "https://localhost:8080/"
        },
        "id": "I-q3YzChVBud",
        "outputId": "858d074f-c744-49c3-9e9b-0e5b7a7b6734"
      },
      "execution_count": null,
      "outputs": [
        {
          "output_type": "execute_result",
          "data": {
            "text/plain": [
              "0   23.4000\n",
              "1   21.1400\n",
              "2   17.7000\n",
              "3   23.0000\n",
              "4   16.1000\n",
              "Name: mileage, dtype: float32"
            ]
          },
          "metadata": {},
          "execution_count": 49
        }
      ]
    },
    {
      "cell_type": "code",
      "source": [
        "df.mileage_unit.unique()"
      ],
      "metadata": {
        "colab": {
          "base_uri": "https://localhost:8080/"
        },
        "id": "CekA_X7EVVQM",
        "outputId": "1403df30-a6ac-445e-986c-1d670ddc4268"
      },
      "execution_count": null,
      "outputs": [
        {
          "output_type": "execute_result",
          "data": {
            "text/plain": [
              "array(['kmpl', 'km/kg', nan], dtype=object)"
            ]
          },
          "metadata": {},
          "execution_count": 50
        }
      ]
    },
    {
      "cell_type": "code",
      "source": [
        "# km/l (액체 연료-가솔린, 디젤), km/kg (기체 연료-LPG, CNG)\n",
        "df.fuel.unique()"
      ],
      "metadata": {
        "colab": {
          "base_uri": "https://localhost:8080/"
        },
        "id": "9bPRQePXVhK_",
        "outputId": "1de05d8e-0ce5-405a-ea43-8d4440d31da9"
      },
      "execution_count": null,
      "outputs": [
        {
          "output_type": "execute_result",
          "data": {
            "text/plain": [
              "array(['Diesel', 'Petrol', 'LPG', 'CNG'], dtype=object)"
            ]
          },
          "metadata": {},
          "execution_count": 51
        }
      ]
    },
    {
      "cell_type": "code",
      "source": [
        "df.fuel[df.mileage_unit == 'kmpl'].unique()"
      ],
      "metadata": {
        "colab": {
          "base_uri": "https://localhost:8080/"
        },
        "id": "QD_ATs87V29B",
        "outputId": "ea60978e-9b26-4c7a-cd90-b171867762ac"
      },
      "execution_count": null,
      "outputs": [
        {
          "output_type": "execute_result",
          "data": {
            "text/plain": [
              "array(['Diesel', 'Petrol'], dtype=object)"
            ]
          },
          "metadata": {},
          "execution_count": 52
        }
      ]
    },
    {
      "cell_type": "code",
      "source": [
        "df.fuel[df.mileage_unit == 'km/kg'].unique()"
      ],
      "metadata": {
        "id": "2VGj5N_KV_Qx",
        "colab": {
          "base_uri": "https://localhost:8080/"
        },
        "outputId": "a2cc4100-3001-4552-8fe6-c8f7152a4672"
      },
      "execution_count": null,
      "outputs": [
        {
          "output_type": "execute_result",
          "data": {
            "text/plain": [
              "array(['LPG', 'CNG'], dtype=object)"
            ]
          },
          "metadata": {},
          "execution_count": 41
        }
      ]
    },
    {
      "cell_type": "code",
      "source": [
        "fuels = {\n",
        "    'Petrol': 80.43,\n",
        "    'Diesel': 73.56,\n",
        "    'LPG': 40.85,\n",
        "    'CNG': 44.23\n",
        "} # 가격으로 연비 계산"
      ],
      "metadata": {
        "id": "UkJBQTtRWe68"
      },
      "execution_count": null,
      "outputs": []
    },
    {
      "cell_type": "code",
      "source": [
        "df.fuel.map(fuels)"
      ],
      "metadata": {
        "colab": {
          "base_uri": "https://localhost:8080/"
        },
        "id": "v7X6zs92DOwj",
        "outputId": "7a256786-be55-4312-9153-0a0edec9cdb1"
      },
      "execution_count": null,
      "outputs": [
        {
          "output_type": "execute_result",
          "data": {
            "text/plain": [
              "0      73.5600\n",
              "1      73.5600\n",
              "2      80.4300\n",
              "3      73.5600\n",
              "4      80.4300\n",
              "         ...  \n",
              "8123   80.4300\n",
              "8124   73.5600\n",
              "8125   73.5600\n",
              "8126   73.5600\n",
              "8127   73.5600\n",
              "Name: fuel, Length: 8128, dtype: float64"
            ]
          },
          "metadata": {},
          "execution_count": 54
        }
      ]
    },
    {
      "cell_type": "code",
      "source": [
        "# fuels -> 딕셔너리 => map\n",
        "# df.mileage -> km/(연료의 단위) -> km/(연료의 단위) / (연료 단위 당의 가격) -> km / 가격\n",
        "# df.fuel.map(fuels) -> 단위당(L 혹은 KM) 소모되는 금액($)\n",
        "df.mileage / df.fuel.map(fuels) # 1km 당 필요한 금액"
      ],
      "metadata": {
        "colab": {
          "base_uri": "https://localhost:8080/"
        },
        "id": "Snb4HctdWx97",
        "outputId": "2427629d-ec2e-45f8-d029-bd5b42004bb0"
      },
      "execution_count": null,
      "outputs": [
        {
          "output_type": "execute_result",
          "data": {
            "text/plain": [
              "0      0.3181\n",
              "1      0.2874\n",
              "2      0.2201\n",
              "3      0.3127\n",
              "4      0.2002\n",
              "        ...  \n",
              "8123   0.2300\n",
              "8124   0.2284\n",
              "8125   0.2624\n",
              "8126   0.3204\n",
              "8127   0.3204\n",
              "Length: 8128, dtype: float64"
            ]
          },
          "metadata": {},
          "execution_count": 43
        }
      ]
    },
    {
      "cell_type": "code",
      "source": [
        "# df.apply(function axis=1) : 행이 갖고 있는 열을 다 쓸 수 있음\n",
        "def handle_mileage(row):\n",
        "    # fuels[row.fuel] -> fules에서 행의 fuel값을 key값으로 value를 찾겠다\n",
        "    return row.mileage / fuels[row.fuel]"
      ],
      "metadata": {
        "id": "S3mu_H66XPFe"
      },
      "execution_count": null,
      "outputs": []
    },
    {
      "cell_type": "code",
      "source": [
        "# df.mileage = df.apply(handle_mileage, axis=1)\n",
        "# df.mileage = df.apply(lambda x: x.mileage / fuels[x.fuel], axis=1)\n",
        "df.mileage = df.apply(lambda row: row.mileage / fuels[row.fuel], axis=1)\n",
        "df.mileage.head()"
      ],
      "metadata": {
        "colab": {
          "base_uri": "https://localhost:8080/"
        },
        "id": "mMv1MFx1Xlok",
        "outputId": "f530a5e2-f4d8-4263-dda9-9e8793771142"
      },
      "execution_count": null,
      "outputs": [
        {
          "output_type": "execute_result",
          "data": {
            "text/plain": [
              "0   0.3181\n",
              "1   0.2874\n",
              "2   0.2201\n",
              "3   0.3127\n",
              "4   0.2002\n",
              "Name: mileage, dtype: float64"
            ]
          },
          "metadata": {},
          "execution_count": 56
        }
      ]
    },
    {
      "cell_type": "code",
      "source": [
        "df.drop('mileage_unit', axis=1, inplace=True)"
      ],
      "metadata": {
        "id": "AljyawyrYIqI"
      },
      "execution_count": null,
      "outputs": []
    },
    {
      "cell_type": "code",
      "source": [
        "df.info()"
      ],
      "metadata": {
        "colab": {
          "base_uri": "https://localhost:8080/"
        },
        "id": "VOAxcHfiYOdL",
        "outputId": "e6f594a9-1a7a-441f-af4b-602221863fd9"
      },
      "execution_count": null,
      "outputs": [
        {
          "output_type": "stream",
          "name": "stdout",
          "text": [
            "<class 'pandas.core.frame.DataFrame'>\n",
            "RangeIndex: 8128 entries, 0 to 8127\n",
            "Data columns (total 13 columns):\n",
            " #   Column         Non-Null Count  Dtype  \n",
            "---  ------         --------------  -----  \n",
            " 0   name           8128 non-null   object \n",
            " 1   year           8128 non-null   int64  \n",
            " 2   selling_price  8128 non-null   int64  \n",
            " 3   km_driven      8128 non-null   int64  \n",
            " 4   fuel           8128 non-null   object \n",
            " 5   seller_type    8128 non-null   object \n",
            " 6   transmission   8128 non-null   object \n",
            " 7   owner          8128 non-null   object \n",
            " 8   mileage        7907 non-null   float64\n",
            " 9   engine         7907 non-null   float32\n",
            " 10  max_power      7912 non-null   float64\n",
            " 11  torque         7906 non-null   object \n",
            " 12  seats          7907 non-null   float64\n",
            "dtypes: float32(1), float64(3), int64(3), object(6)\n",
            "memory usage: 793.9+ KB\n"
          ]
        }
      ]
    },
    {
      "cell_type": "markdown",
      "source": [
        "### Torque"
      ],
      "metadata": {
        "id": "5BfEZUaydurV"
      }
    },
    {
      "cell_type": "code",
      "source": [
        "df.torque"
      ],
      "metadata": {
        "colab": {
          "base_uri": "https://localhost:8080/"
        },
        "id": "7MoFScjPdt4V",
        "outputId": "bc98a975-9c18-4dc7-848c-7890a70c37da"
      },
      "execution_count": null,
      "outputs": [
        {
          "output_type": "execute_result",
          "data": {
            "text/plain": [
              "0                  190Nm@ 2000rpm\n",
              "1             250Nm@ 1500-2500rpm\n",
              "2           12.7@ 2,700(kgm@ rpm)\n",
              "3        22.4 kgm at 1750-2750rpm\n",
              "4           11.5@ 4,500(kgm@ rpm)\n",
              "                  ...            \n",
              "8123             113.7Nm@ 4000rpm\n",
              "8124    24@ 1,900-2,750(kgm@ rpm)\n",
              "8125               190Nm@ 2000rpm\n",
              "8126          140Nm@ 1800-3000rpm\n",
              "8127          140Nm@ 1800-3000rpm\n",
              "Name: torque, Length: 8128, dtype: object"
            ]
          },
          "metadata": {},
          "execution_count": 59
        }
      ]
    },
    {
      "cell_type": "code",
      "source": [
        "df.torque.unique()"
      ],
      "metadata": {
        "colab": {
          "base_uri": "https://localhost:8080/"
        },
        "id": "QBpUFJuXd6AE",
        "outputId": "b922479a-a74f-442b-d34f-7919d660270b"
      },
      "execution_count": null,
      "outputs": [
        {
          "output_type": "execute_result",
          "data": {
            "text/plain": [
              "array(['190Nm@ 2000rpm', '250Nm@ 1500-2500rpm', '12.7@ 2,700(kgm@ rpm)',\n",
              "       '22.4 kgm at 1750-2750rpm', '11.5@ 4,500(kgm@ rpm)',\n",
              "       '113.75nm@ 4000rpm', '7.8@ 4,500(kgm@ rpm)', '59Nm@ 2500rpm',\n",
              "       '170Nm@ 1800-2400rpm', '160Nm@ 2000rpm', '248Nm@ 2250rpm',\n",
              "       '78Nm@ 4500rpm', nan, '84Nm@ 3500rpm', '115Nm@ 3500-3600rpm',\n",
              "       '200Nm@ 1750rpm', '62Nm@ 3000rpm', '219.7Nm@ 1500-2750rpm',\n",
              "       '114Nm@ 3500rpm', '115Nm@ 4000rpm', '69Nm@ 3500rpm',\n",
              "       '172.5Nm@ 1750rpm', '6.1kgm@ 3000rpm', '114.7Nm@ 4000rpm',\n",
              "       '60Nm@ 3500rpm', '90Nm@ 3500rpm', '151Nm@ 4850rpm',\n",
              "       '104Nm@ 4000rpm', '320Nm@ 1700-2700rpm', '250Nm@ 1750-2500rpm',\n",
              "       '145Nm@ 4600rpm', '146Nm@ 4800rpm', '343Nm@ 1400-3400rpm',\n",
              "       '200Nm@ 1400-3400rpm', '200Nm@ 1250-4000rpm',\n",
              "       '400Nm@ 2000-2500rpm', '138Nm@ 4400rpm', '360Nm@ 1200-3400rpm',\n",
              "       '200Nm@ 1200-3600rpm', '380Nm@ 1750-2500rpm', '173Nm@ 4000rpm',\n",
              "       '400Nm@ 1750-3000rpm', '400Nm@ 1400-2800rpm',\n",
              "       '200Nm@ 1750-3000rpm', '111.7Nm@ 4000rpm', '219.6Nm@ 1500-2750rpm',\n",
              "       '112Nm@ 4000rpm', '250Nm@ 1500-3000rpm', '130Nm@ 4000rpm',\n",
              "       '205Nm@ 1750-3250rpm', '280Nm@ 1350-4600rpm', '99.04Nm@ 4500rpm',\n",
              "       '77Nm@ 3500rpm', '110Nm@ 3750rpm', '153Nm@ 3800rpm',\n",
              "       '113.7Nm@ 4000rpm', '114Nm@ 4000rpm', '113Nm@ 4200rpm',\n",
              "       '101Nm@ 3000rpm', '290Nm@ 1800-2800rpm', '120Nm@ 4250rpm',\n",
              "       '250Nm@ 1500~4500rpm', '96 Nm at 3000 rpm', '360Nm@ 1750-2800rpm',\n",
              "       '135Nm@ 2500rpm', '259.8Nm@ 1900-2750rpm', '200Nm@ 1900rpm',\n",
              "       '259.9Nm@ 1900-2750rpm', '91Nm@ 4250rpm', '96.1Nm@ 3000rpm',\n",
              "       '109Nm@ 4500rpm', '400nm@ 1750-3000rpm', '202Nm@ 3600-5200rpm',\n",
              "       '430Nm@ 1750-2500rpm', '347Nm@ 4300rpm', '382nm@ 1750-2250rpm',\n",
              "       '620Nm@ 1600-2400rpm', '400Nm@ 1750-2500rpm', '250@ 1250-5000rpm',\n",
              "       '500Nm@ 1600-1800rpm', '250Nm@ 1600-3600rpm', '400Nm',\n",
              "       '550Nm@ 1750-2750rpm', '490Nm@ 1600rpm', '250 Nm at 2750 rpm',\n",
              "       '177.5Nm@ 4700rpm', '170Nm@ 1750-4000rpm', '300Nm@ 1200-4000rpm',\n",
              "       '300Nm@ 1200-1400rpm', '260Nm@ 1500-2750rpm', '213Nm@ 4500rpm',\n",
              "       '224Nm@ 4000rpm', '640Nm@ 1740rpm', '113Nm@ 4500rpm',\n",
              "       '95Nm@ 3000-4300rpm', '13.1kgm@ 4600rpm', '205Nm@ 1800-2800rpm',\n",
              "       '71Nm@ 3500rpm', '190Nm@ 1750-3000rpm', '146Nm at 4800 rpm',\n",
              "       '14.9 KGM at 3000 RPM', '115Nm@ 3200rpm', '117nm@ 4000rpm',\n",
              "       '320Nm@ 1500-3000rpm', '72Nm@ 4386rpm', '11.4 kgm at 4,000 rpm',\n",
              "       '140Nm@ 1500-4000rpm', '134Nm@ 4000rpm', '150Nm@ 4500rpm',\n",
              "       '340Nm@ 1800-3250rpm', '240Nm@ 1600-2800rpm',\n",
              "       '330Nm@ 1600-2800rpm', '12.5@ 3,500(kgm@ rpm)', '110Nm@ 4800rpm',\n",
              "       '111.8Nm@ 4000rpm', '11.8@ 3,200(kgm@ rpm)', '135.4Nm@ 2500rpm',\n",
              "       '300Nm@ 1750-2500rpm', '190.25nm@ 1750-2250rpm',\n",
              "       '140Nm@ 1800-3000rpm', '20.4@ 1400-3400(kgm@ rpm)',\n",
              "       '247Nm@ 1800-2000rpm', '223Nm@ 1600-2200rpm',\n",
              "       '180 Nm at 1440-1500rpm', '195Nm@ 1400-2200rpm',\n",
              "       '154.9Nm@ 4200rpm', '114.73Nm@ 4000rpm', '160Nm@ 1500-2750rpm',\n",
              "       '108Nm@ 4400rpm', '190.24nm@ 1750-2250rpm', '200Nm@ 2000-3500rpm',\n",
              "       '420Nm@ 1400-2600rpm', '100Nm@ 2700rpm', '51Nm@ 4000rpm',\n",
              "       '250Nm@ 1250-5300rpm', '132Nm@ 3000rpm', '350Nm@ 1500-2750rpm',\n",
              "       '218Nm@ 4200rpm', '14.9@ 3,000(kgm@ rpm)',\n",
              "       '24@ 1,900-2,750(kgm@ rpm)', '13.5@ 2,500(kgm@ rpm)',\n",
              "       '85Nm@ 3000rpm', '74.5Nm@ 4000rpm', '160Nm@ 1750rpm',\n",
              "       '180.4Nm@ 1750-2500rpm', '230Nm@ 1500-2500rpm',\n",
              "       '113.75Nm@ 4000rpm', '219.66nm@ 1500-2750rpm', '245Nm@ 1750rpm',\n",
              "       '360Nm@ 1400-3200rpm', '320Nm@ 2000rpm', '135 Nm at 2500  rpm ',\n",
              "       '24 KGM at 1900-2750 RPM', '190Nm@ 1750-2250rpm',\n",
              "       '204Nm@ 2000-2750rpm', '14.3@ 1,800-3,000(kgm@ rpm)',\n",
              "       '250nm@ 1500-2750rpm', '125Nm@ 2000rpm', '172Nm@ 4300rpm',\n",
              "       '150Nm@ 1750rpm', '102Nm@ 4000rpm', '85Nm@ 2500rpm',\n",
              "       '8.5@ 2,500(kgm@ rpm)', '180Nm@ 1440-1500rpm', '106.5Nm@ 4400rpm',\n",
              "       '108.5Nm@ 5000rpm', '350Nm@ 1750-2500rpm', '144.15nm@ 4500rpm',\n",
              "       '104Nm@ 4400rpm', '99Nm@ 4500rpm', '200Nm@ 2000rpm',\n",
              "       '280Nm@ 1800-2800rpm', '142.5Nm@ 1750rpm', '140Nm@ 4400rpm',\n",
              "       '115@ 2,500(kgm@ rpm)', '196Nm@ 5000rpm',\n",
              "       '260 Nm at 1800-2200 rpm', '9.8@ 3,000(kgm@ rpm)',\n",
              "       '209Nm@ 2000rpm', '135 Nm at 2500 rpm', '140Nm@ 4200rpm',\n",
              "       '220Nm at 1400-2600 rpm', '48Nm@ 3000rpm', '171Nm@ 1800rpm',\n",
              "       '277.5Nm@ 1700-2200rpm', '215Nm@ 3600rpm', '219.6Nm@ 1750-2750rpm',\n",
              "       '195Nm@ 1440-2200rpm', '13@ 2,500(kgm@ rpm)', '180Nm@ 2000rpm',\n",
              "       '200Nm@ 1400-2200rpm', '380Nm(38.7kgm)@ 2500rpm', '110Nm@ 4400rpm',\n",
              "       '72Nm@ 4388rpm', '263.7Nm@ 2500rpm', '320Nm@ 1600-2800rpm',\n",
              "       '25.5@ 1,500-3,000(kgm@ rpm)', '16.3@ 2,000(kgm@ rpm)',\n",
              "       '190 Nm at 1750 rpm ', '94.14Nm@ 3500rpm', '12@ 3,500(kgm@ rpm)',\n",
              "       '113Nm@ 5000rpm', '280Nm@ 2400-2800rpm', '96Nm@ 3500rpm',\n",
              "       '16@ 2,000(kgm@ rpm)', '320Nm@ 1750-3000rpm', '114.73nm@ 4000rpm',\n",
              "       '320Nm@ 1750-2500rpm', '138nm@ 4400rpm', '190Nm@ 1750rpm',\n",
              "       '789Nm@ 2250rpm', '259.87Nm@ 1900-2750rpm', '205Nm@ 1750rpm',\n",
              "       '436.39Nm@ 1800-2500rpm', '182.5Nm@ 1500-1800rpm',\n",
              "       '90.3Nm@ 4200rpm', '12.5@ 2,500(kgm@ rpm)', '215Nm@ 1750-3000rpm',\n",
              "       '215Nm@ 1750-3000', '305Nm@ 2000rpm', '540Nm@ 2000rpm',\n",
              "       '327Nm@ 2600rpm', '300Nm@ 1600-3000rpm', '620Nm@ 2000-2500rpm',\n",
              "       '450Nm@ 1600-2400rpm', '19@ 1,800(kgm@ rpm)',\n",
              "       '9.2@ 4,200(kgm@ rpm)', '145@ 4,100(kgm@ rpm)',\n",
              "       '51Nm@ 4000+/-500rpm', '110Nm@ 3000rpm', '148Nm@ 3500rpm',\n",
              "       '116Nm@ 4750rpm', '48@ 3,000+/-500(NM@ rpm)', '148Nm@ 4000rpm',\n",
              "       '222Nm@ 4300rpm', '135.3Nm@ 5000rpm', '98Nm@ 1600-3000rpm',\n",
              "       '170Nm@ 1400-4500rpm', '343Nm@ 1400-2800rpm',\n",
              "       '402Nm@ 1600-3000rpm', '113Nm@ 3300rpm', '99.07Nm@ 4500rpm',\n",
              "       '210nm@ 1600-2200rpm', '190 Nm at 1750  rpm ', '32.1kgm@ 2000rpm',\n",
              "       '224nm@ 1500-2750rpm', '400nm@ 1750-2500rpm',\n",
              "       '215Nm@ 1750-2500rpm', '25@ 1,800-2,800(kgm@ rpm)',\n",
              "       '197Nm@ 1750rpm', '136.3Nm@ 4200rpm', '470Nm@ 1750-2500rpm',\n",
              "       '11@ 3,000(kgm@ rpm)', '142Nm@ 4000rpm', '145Nm@ 4100rpm',\n",
              "       '320Nm@ 1500-2800rpm', '123Nm@ 1000-2500rpm',\n",
              "       '218Nm@ 1400-2600rpm', '510@ 1600-2400', '220Nm@ 1500-2750rpm',\n",
              "       '380Nm@ 2000rpm', '104Nm@ 3100rpm', '292Nm@ 2000rpm',\n",
              "       '20@ 3,750(kgm@ rpm)', '46.5@ 1,400-2,800(kgm@ rpm)',\n",
              "       '380Nm@ 2500rpm', '15@ 3,800(kgm@ rpm)', '136Nm@ 4250rpm',\n",
              "       '228Nm@ 4400rpm', '149Nm@ 4500rpm', '187Nm@ 2500rpm',\n",
              "       '146Nm@ 3400rpm', '8.6@ 3,500(kgm@ rpm)', '219.7Nm@ 1750-2750rpm',\n",
              "       '190Nm@ 2000-3000', '450Nm@ 2000rpm', '300Nm@ 2000rpm',\n",
              "       '230Nm@ 1800-2000rpm', '42@ 2,000(kgm@ rpm)',\n",
              "       '110Nm@ 3000-4300rpm', '110(11.2)@ 4800', '330Nm@ 1800rpm',\n",
              "       '225Nm@ 1500-2500rpm', '380Nm@ 1750-2750rpm',\n",
              "       '28.3@ 1,700-2,200(kgm@ rpm)', '259.88Nm@ 1900-2750rpm',\n",
              "       '580Nm@ 1400-3250rpm', '400 Nm /2000 rpm', '127Nm@ 3500rpm',\n",
              "       '300Nm@ 1500-2500rpm', '132.3Nm@ 4000rpm', '113nm@ 4400rpm',\n",
              "       '151NM@ 4850rpm', '153Nm@ 3750-3800rpm', '10.7@ 2,500(kgm@ rpm)',\n",
              "       '124.6Nm@ 3500rpm', '78Nm@ 3500rpm', '219.9Nm@ 1750-2750rpm',\n",
              "       '420.7Nm@ 1800-2500rpm', '130Nm@ 3000rpm', '424Nm@ 2000rpm',\n",
              "       '130@ 2500(kgm@ rpm)', '99.8Nm@ 2700rpm', '113Nm@ 4,500rpm',\n",
              "       '11.2@ 4,400(kgm@ rpm)', '240Nm@ 1850rpm', '16.1@ 4,200(kgm@ rpm)',\n",
              "       '320Nm@ 1750-2700rpm', '115Nm@ 4500rpm', '245Nm@ 4000rpm',\n",
              "       '321Nm@ 1600-2400rpm', '619Nm@ 1600-2400rpm',\n",
              "       '380Nm@ 1750-3000rpm', '560Nm@ 1500rpm', '230Nm@ 1500-2250rpm',\n",
              "       '90Nm@ 2650rpm', '260Nm@ 1800-2200rpm', '600Nm@ 2000rpm',\n",
              "       '259.87nm@ 1500-3000rpm', '16.6@ 4,500(kgm@ rpm)',\n",
              "       '219.66NM@ 1500-2750rpm', '12.5@ 3,000(kgm@ rpm)',\n",
              "       '620Nm@ 1500-2500rpm', '250Nm@ 1500-4500rpm',\n",
              "       '14.9@ 3,400(kgm@ rpm)', '25.5@ 1,900(kgm@ rpm)',\n",
              "       '33.7@ 1,800(kgm@ rpm)', '285Nm@ 2400-4000rpm',\n",
              "       '10.7@ 2,600(kgm@ rpm)', '250Nm@ 1000-2000rpm', '240Nm@ 1750rpm',\n",
              "       '226Nm@ 4400rpm', '510Nm@ 1600-2800rpm', '259.87NM@ 1500-3000rpm',\n",
              "       '155 Nm at 1600-2800 rpm', '240Nm@ 2000rpm', '103Nm@ 4500rpm',\n",
              "       '13.5@ 4,800(kgm@ rpm)', '400Nm@ 1750-2750rpm',\n",
              "       '175Nm@ 1500-4100rpm', '72.9Nm@ 2250rpm', '135.4Nm@ 2500',\n",
              "       '245Nm@ 5000rpm', '57Nm@ 2500rpm', '96Nm@ 2500rpm',\n",
              "       '215nm@ 1750-2500rpm', '10.4@ 3,200(kgm@ rpm)', '128Nm@ 3100rpm',\n",
              "       '102Nm@ 2600rpm', '131Nm@ 4400rpm', '11.4@ 4,000(kgm@ rpm)',\n",
              "       '250Nm@ 4250rpm', '343Nm@ 1600-2800rpm', '185Nm@ 1750-2750rpm',\n",
              "       '12@ 2500(kgm@ rpm)', '12.4@ 2,600(kgm@ rpm)', '170Nm@ 4200rpm',\n",
              "       '176Nm@ 1500rpm', '380NM@ 1800-2800rpm', '250Nm@ 1600-2000rpm',\n",
              "       '24.5@ 3,500-4,500(kgm@ rpm)', '22.9@ 1,950-4,700(kgm@ rpm)',\n",
              "       '113Nm@ 4400rpm', '121Nm@ 2800rpm', '210 / 1900',\n",
              "       '250Nm@ 1250-5000rpm', '400Nm@ 175-2750rpm', '350Nm@ 1500-3500rpm',\n",
              "       '175nm@ 1750-4000rpm', '115@ 2500(kgm@ rpm)', '110Nm@ 4500rpm',\n",
              "       '190Nm@ 2000-3000rpm', '106Nm@ 2200rpm',\n",
              "       '21.4@ 1,750-4,600(kgm@ rpm)', '96Nm@ 3000rpm',\n",
              "       '23.6@ 4,250(kgm@ rpm)', '11.3kgm@ 4700rpm', '450Nm@ 1750-2500rpm',\n",
              "       '35.7@ 1,750-3,000(kgm@ rpm)', '6@ 2,500(kgm@ rpm)',\n",
              "       '13.9 kgm at 4200 rpm', '320Nm@ 1400-4100rpm',\n",
              "       '150Nm@ 1700-4500rpm', '113.8Nm@ 4000rpm', '110@ 3,000(kgm@ rpm)',\n",
              "       '151Nm@ 2400rpm', '62Nm@ 2500rpm', '18@ 1,600-2,200(kgm@ rpm)',\n",
              "       '83Nm@ 3000rpm', '124.5Nm@ 3500rpm', '20@ 4,700(kgm@ rpm)',\n",
              "       '300Nm@ 1600-4000rpm', '171.6Nm@ 1500-4000rpm',\n",
              "       '21.4@ 1,900(kgm@ rpm)', '190@ 21,800(kgm@ rpm)',\n",
              "       '5.7@ 2,500(kgm@ rpm)', '88.4Nm@ 4200rpm',\n",
              "       '250 Nm at 1,500-3,000 rpm', '340nm@ 1750-3000rpm',\n",
              "       '36.6@ 1,750-2,500(kgm@ rpm)', '12.5kgm@ 3500rpm',\n",
              "       '6.1@ 3,000(kgm@ rpm)', '110Nm@ 4000rpm', '350nm@ 1800-2600rpm',\n",
              "       '175nm@ 1500-4100rpm', '4.8kgm@ 3000rpm', '355Nm@ 4500rpm',\n",
              "       '51@ 1,750-3,000(kgm@ rpm)', '119Nm@ 4250rpm',\n",
              "       '410Nm@ 1600-2800rpm', '174Nm@ 4300rpm', '99.1Nm@ 4500rpm',\n",
              "       '385Nm@ 1600-2500rpm', '180 Nm at 2000rpm', '190 Nm at 1750 rpm',\n",
              "       '53@ 2,000-2,750(kgm@ rpm)', '360Nm@ 1400-2600rpm',\n",
              "       '420Nm@ 2000rpm', '124Nm@ 3500rpm', '17.5@ 4,300(kgm@ rpm)',\n",
              "       '360Nm@ 2000rpm', '145Nm@ 3750rpm', '85Nm@ 3500rpm',\n",
              "       '190Nm@ 4200rpm', '190 Nm at 2000rpm', '13.5@ 2500(kgm@ rpm)',\n",
              "       '250nm@ 1500-3000rpm', '159.8Nm@ 1500-2750rpm', '500Nm@ 2000rpm',\n",
              "       '333Nm@ 1600-3200rpm', '400nm@ 2800rpm',\n",
              "       '33@ 2,000-2,680(kgm@ rpm)', '10.2@ 2,600(kgm@ rpm)', '480Nm',\n",
              "       '190Nm@ 4300rpm', '320Nm@ 1800-2800rpm', '380Nm@ 1750rpm',\n",
              "       '250.06nm@ 1500-2750rpm', '90nm@ 3500rpm', '190Nm@ 3700rpm',\n",
              "       '436.4Nm@ 1800-2500rpm', '96  Nm at 3000  rpm '], dtype=object)"
            ]
          },
          "metadata": {},
          "execution_count": 60
        }
      ]
    },
    {
      "cell_type": "code",
      "source": [
        "# 단위(unit)를 추출하기 위한 함수 정의\n",
        "# df.torque.apply(handle_torque_unit)\n",
        "def handle_torque_unit(x):\n",
        "    if 'NM' in str(x): # x라는 문자열에 'NM'이 포함되어 있다면\n",
        "        return 'Nm' # 단위 (return -> 함수를 종료)\n",
        "    # elif...\n",
        "    if 'KGM' in str(x):\n",
        "        return 'kgm'\n",
        "    # return None"
      ],
      "metadata": {
        "id": "cPfkcjE2eLUP"
      },
      "execution_count": null,
      "outputs": []
    },
    {
      "cell_type": "code",
      "source": [
        "df['torque_unit'] = df.torque.str.upper().apply(handle_torque_unit)"
      ],
      "metadata": {
        "id": "oknvyOgje4yF"
      },
      "execution_count": null,
      "outputs": []
    },
    {
      "cell_type": "code",
      "source": [
        "df['torque_unit'].unique() # None ->"
      ],
      "metadata": {
        "colab": {
          "base_uri": "https://localhost:8080/"
        },
        "id": "FMuO0GP3fFLy",
        "outputId": "dd367427-5bb8-4ef6-9a62-bb624fdf9f93"
      },
      "execution_count": null,
      "outputs": [
        {
          "output_type": "execute_result",
          "data": {
            "text/plain": [
              "array(['Nm', 'kgm', None], dtype=object)"
            ]
          },
          "metadata": {},
          "execution_count": 63
        }
      ]
    },
    {
      "cell_type": "code",
      "source": [
        "df[df.torque_unit.isna()].torque.unique()\n",
        "# 원래부터 결측치 : nan\n",
        "# kgm, Nm 없어서 None -> 나머지값들\n",
        "# 100보다 큰 값들"
      ],
      "metadata": {
        "colab": {
          "base_uri": "https://localhost:8080/"
        },
        "id": "MoFIHTPQfO36",
        "outputId": "dd496892-ea3f-4564-df51-0383a6569236"
      },
      "execution_count": null,
      "outputs": [
        {
          "output_type": "execute_result",
          "data": {
            "text/plain": [
              "array([nan, '250@ 1250-5000rpm', '510@ 1600-2400', '110(11.2)@ 4800',\n",
              "       '210 / 1900'], dtype=object)"
            ]
          },
          "metadata": {},
          "execution_count": 64
        }
      ]
    },
    {
      "cell_type": "code",
      "source": [
        "df[df['torque_unit'] == 'Nm'].torque # 100단위"
      ],
      "metadata": {
        "id": "8JDftHMOflAt",
        "colab": {
          "base_uri": "https://localhost:8080/"
        },
        "outputId": "d3a7a67a-7cf3-4258-bcc9-ca1188a8d7ab"
      },
      "execution_count": null,
      "outputs": [
        {
          "output_type": "execute_result",
          "data": {
            "text/plain": [
              "0              190Nm@ 2000rpm\n",
              "1         250Nm@ 1500-2500rpm\n",
              "5           113.75nm@ 4000rpm\n",
              "7               59Nm@ 2500rpm\n",
              "8         170Nm@ 1800-2400rpm\n",
              "                ...          \n",
              "8122    219.7Nm@ 1500-2750rpm\n",
              "8123         113.7Nm@ 4000rpm\n",
              "8125           190Nm@ 2000rpm\n",
              "8126      140Nm@ 1800-3000rpm\n",
              "8127      140Nm@ 1800-3000rpm\n",
              "Name: torque, Length: 7390, dtype: object"
            ]
          },
          "metadata": {},
          "execution_count": 54
        }
      ]
    },
    {
      "cell_type": "code",
      "source": [
        "df[df['torque_unit'] == 'kgm'].torque # 10단위"
      ],
      "metadata": {
        "id": "EeJAtoRKfsGb",
        "colab": {
          "base_uri": "https://localhost:8080/"
        },
        "outputId": "86229044-8710-4844-b997-99be042fa3f0"
      },
      "execution_count": null,
      "outputs": [
        {
          "output_type": "execute_result",
          "data": {
            "text/plain": [
              "2           12.7@ 2,700(kgm@ rpm)\n",
              "3        22.4 kgm at 1750-2750rpm\n",
              "4           11.5@ 4,500(kgm@ rpm)\n",
              "6            7.8@ 4,500(kgm@ rpm)\n",
              "17       22.4 kgm at 1750-2750rpm\n",
              "                  ...            \n",
              "8082        16.3@ 2,000(kgm@ rpm)\n",
              "8104        13.5@ 4,800(kgm@ rpm)\n",
              "8105             11.3kgm@ 4700rpm\n",
              "8113    20.4@ 1400-3400(kgm@ rpm)\n",
              "8124    24@ 1,900-2,750(kgm@ rpm)\n",
              "Name: torque, Length: 504, dtype: object"
            ]
          },
          "metadata": {},
          "execution_count": 55
        }
      ]
    },
    {
      "cell_type": "code",
      "source": [
        "df.torque_unit.fillna('Nm', inplace=True) # torque_unit의 결측치를 Nm를 채움 (inplace->원본에 반영)"
      ],
      "metadata": {
        "id": "zRFBS_yDf20B"
      },
      "execution_count": null,
      "outputs": []
    },
    {
      "cell_type": "code",
      "source": [
        "df.torque_unit.unique()"
      ],
      "metadata": {
        "colab": {
          "base_uri": "https://localhost:8080/"
        },
        "id": "ly2udppOf_bx",
        "outputId": "518903f6-6bc1-47fd-85e1-1e792a960f26"
      },
      "execution_count": null,
      "outputs": [
        {
          "output_type": "execute_result",
          "data": {
            "text/plain": [
              "array(['Nm', 'kgm'], dtype=object)"
            ]
          },
          "metadata": {},
          "execution_count": 66
        }
      ]
    },
    {
      "cell_type": "code",
      "source": [
        "# 단위 추출한 이유 -> 단위별로 값이 달라서 나중에 곱해줘서 처리\n",
        "# torque -> float로 변환해주기 위한 작업\n",
        "df.torque.str.extract(\"([\\d\\.]+)\").astype('float')\n",
        "# extract(조건-정규표현식) : 특정 조건을 만족시키는 문자열 첫번째를 반환\n",
        "# 포함여부를 T/F -> contains"
      ],
      "metadata": {
        "id": "Y84txkfpgM-o",
        "colab": {
          "base_uri": "https://localhost:8080/",
          "height": 423
        },
        "outputId": "6c30f102-22c6-40e2-ed12-9dfb06d7ec02"
      },
      "execution_count": null,
      "outputs": [
        {
          "output_type": "execute_result",
          "data": {
            "text/plain": [
              "            0\n",
              "0    190.0000\n",
              "1    250.0000\n",
              "2     12.7000\n",
              "3     22.4000\n",
              "4     11.5000\n",
              "...       ...\n",
              "8123 113.7000\n",
              "8124  24.0000\n",
              "8125 190.0000\n",
              "8126 140.0000\n",
              "8127 140.0000\n",
              "\n",
              "[8128 rows x 1 columns]"
            ],
            "text/html": [
              "\n",
              "  <div id=\"df-6da378bd-097c-489d-8493-208586a2a8f1\">\n",
              "    <div class=\"colab-df-container\">\n",
              "      <div>\n",
              "<style scoped>\n",
              "    .dataframe tbody tr th:only-of-type {\n",
              "        vertical-align: middle;\n",
              "    }\n",
              "\n",
              "    .dataframe tbody tr th {\n",
              "        vertical-align: top;\n",
              "    }\n",
              "\n",
              "    .dataframe thead th {\n",
              "        text-align: right;\n",
              "    }\n",
              "</style>\n",
              "<table border=\"1\" class=\"dataframe\">\n",
              "  <thead>\n",
              "    <tr style=\"text-align: right;\">\n",
              "      <th></th>\n",
              "      <th>0</th>\n",
              "    </tr>\n",
              "  </thead>\n",
              "  <tbody>\n",
              "    <tr>\n",
              "      <th>0</th>\n",
              "      <td>190.0000</td>\n",
              "    </tr>\n",
              "    <tr>\n",
              "      <th>1</th>\n",
              "      <td>250.0000</td>\n",
              "    </tr>\n",
              "    <tr>\n",
              "      <th>2</th>\n",
              "      <td>12.7000</td>\n",
              "    </tr>\n",
              "    <tr>\n",
              "      <th>3</th>\n",
              "      <td>22.4000</td>\n",
              "    </tr>\n",
              "    <tr>\n",
              "      <th>4</th>\n",
              "      <td>11.5000</td>\n",
              "    </tr>\n",
              "    <tr>\n",
              "      <th>...</th>\n",
              "      <td>...</td>\n",
              "    </tr>\n",
              "    <tr>\n",
              "      <th>8123</th>\n",
              "      <td>113.7000</td>\n",
              "    </tr>\n",
              "    <tr>\n",
              "      <th>8124</th>\n",
              "      <td>24.0000</td>\n",
              "    </tr>\n",
              "    <tr>\n",
              "      <th>8125</th>\n",
              "      <td>190.0000</td>\n",
              "    </tr>\n",
              "    <tr>\n",
              "      <th>8126</th>\n",
              "      <td>140.0000</td>\n",
              "    </tr>\n",
              "    <tr>\n",
              "      <th>8127</th>\n",
              "      <td>140.0000</td>\n",
              "    </tr>\n",
              "  </tbody>\n",
              "</table>\n",
              "<p>8128 rows × 1 columns</p>\n",
              "</div>\n",
              "      <button class=\"colab-df-convert\" onclick=\"convertToInteractive('df-6da378bd-097c-489d-8493-208586a2a8f1')\"\n",
              "              title=\"Convert this dataframe to an interactive table.\"\n",
              "              style=\"display:none;\">\n",
              "        \n",
              "  <svg xmlns=\"http://www.w3.org/2000/svg\" height=\"24px\"viewBox=\"0 0 24 24\"\n",
              "       width=\"24px\">\n",
              "    <path d=\"M0 0h24v24H0V0z\" fill=\"none\"/>\n",
              "    <path d=\"M18.56 5.44l.94 2.06.94-2.06 2.06-.94-2.06-.94-.94-2.06-.94 2.06-2.06.94zm-11 1L8.5 8.5l.94-2.06 2.06-.94-2.06-.94L8.5 2.5l-.94 2.06-2.06.94zm10 10l.94 2.06.94-2.06 2.06-.94-2.06-.94-.94-2.06-.94 2.06-2.06.94z\"/><path d=\"M17.41 7.96l-1.37-1.37c-.4-.4-.92-.59-1.43-.59-.52 0-1.04.2-1.43.59L10.3 9.45l-7.72 7.72c-.78.78-.78 2.05 0 2.83L4 21.41c.39.39.9.59 1.41.59.51 0 1.02-.2 1.41-.59l7.78-7.78 2.81-2.81c.8-.78.8-2.07 0-2.86zM5.41 20L4 18.59l7.72-7.72 1.47 1.35L5.41 20z\"/>\n",
              "  </svg>\n",
              "      </button>\n",
              "      \n",
              "  <style>\n",
              "    .colab-df-container {\n",
              "      display:flex;\n",
              "      flex-wrap:wrap;\n",
              "      gap: 12px;\n",
              "    }\n",
              "\n",
              "    .colab-df-convert {\n",
              "      background-color: #E8F0FE;\n",
              "      border: none;\n",
              "      border-radius: 50%;\n",
              "      cursor: pointer;\n",
              "      display: none;\n",
              "      fill: #1967D2;\n",
              "      height: 32px;\n",
              "      padding: 0 0 0 0;\n",
              "      width: 32px;\n",
              "    }\n",
              "\n",
              "    .colab-df-convert:hover {\n",
              "      background-color: #E2EBFA;\n",
              "      box-shadow: 0px 1px 2px rgba(60, 64, 67, 0.3), 0px 1px 3px 1px rgba(60, 64, 67, 0.15);\n",
              "      fill: #174EA6;\n",
              "    }\n",
              "\n",
              "    [theme=dark] .colab-df-convert {\n",
              "      background-color: #3B4455;\n",
              "      fill: #D2E3FC;\n",
              "    }\n",
              "\n",
              "    [theme=dark] .colab-df-convert:hover {\n",
              "      background-color: #434B5C;\n",
              "      box-shadow: 0px 1px 3px 1px rgba(0, 0, 0, 0.15);\n",
              "      filter: drop-shadow(0px 1px 2px rgba(0, 0, 0, 0.3));\n",
              "      fill: #FFFFFF;\n",
              "    }\n",
              "  </style>\n",
              "\n",
              "      <script>\n",
              "        const buttonEl =\n",
              "          document.querySelector('#df-6da378bd-097c-489d-8493-208586a2a8f1 button.colab-df-convert');\n",
              "        buttonEl.style.display =\n",
              "          google.colab.kernel.accessAllowed ? 'block' : 'none';\n",
              "\n",
              "        async function convertToInteractive(key) {\n",
              "          const element = document.querySelector('#df-6da378bd-097c-489d-8493-208586a2a8f1');\n",
              "          const dataTable =\n",
              "            await google.colab.kernel.invokeFunction('convertToInteractive',\n",
              "                                                     [key], {});\n",
              "          if (!dataTable) return;\n",
              "\n",
              "          const docLinkHtml = 'Like what you see? Visit the ' +\n",
              "            '<a target=\"_blank\" href=https://colab.research.google.com/notebooks/data_table.ipynb>data table notebook</a>'\n",
              "            + ' to learn more about interactive tables.';\n",
              "          element.innerHTML = '';\n",
              "          dataTable['output_type'] = 'display_data';\n",
              "          await google.colab.output.renderOutput(dataTable, element);\n",
              "          const docLink = document.createElement('div');\n",
              "          docLink.innerHTML = docLinkHtml;\n",
              "          element.appendChild(docLink);\n",
              "        }\n",
              "      </script>\n",
              "    </div>\n",
              "  </div>\n",
              "  "
            ]
          },
          "metadata": {},
          "execution_count": 67
        }
      ]
    },
    {
      "cell_type": "code",
      "source": [
        "# extractall(조건-정규표현식) : 특정 조건을 만족시키는 문자열 모두를\n",
        "df.torque.str.extractall(\"([\\d\\.]+)\").astype('float')"
      ],
      "metadata": {
        "id": "kqBtN9i4hT7R",
        "colab": {
          "base_uri": "https://localhost:8080/",
          "height": 455
        },
        "outputId": "d65a8285-7319-476a-9dcd-8c3fecbb6d2e"
      },
      "execution_count": null,
      "outputs": [
        {
          "output_type": "execute_result",
          "data": {
            "text/plain": [
              "                   0\n",
              "     match          \n",
              "0    0      190.0000\n",
              "     1     2000.0000\n",
              "1    0      250.0000\n",
              "     1     1500.0000\n",
              "     2     2500.0000\n",
              "...              ...\n",
              "8126 1     1800.0000\n",
              "     2     3000.0000\n",
              "8127 0      140.0000\n",
              "     1     1800.0000\n",
              "     2     3000.0000\n",
              "\n",
              "[18874 rows x 1 columns]"
            ],
            "text/html": [
              "\n",
              "  <div id=\"df-9532a46b-1f3c-4626-aa2b-c27a292a10a7\">\n",
              "    <div class=\"colab-df-container\">\n",
              "      <div>\n",
              "<style scoped>\n",
              "    .dataframe tbody tr th:only-of-type {\n",
              "        vertical-align: middle;\n",
              "    }\n",
              "\n",
              "    .dataframe tbody tr th {\n",
              "        vertical-align: top;\n",
              "    }\n",
              "\n",
              "    .dataframe thead th {\n",
              "        text-align: right;\n",
              "    }\n",
              "</style>\n",
              "<table border=\"1\" class=\"dataframe\">\n",
              "  <thead>\n",
              "    <tr style=\"text-align: right;\">\n",
              "      <th></th>\n",
              "      <th></th>\n",
              "      <th>0</th>\n",
              "    </tr>\n",
              "    <tr>\n",
              "      <th></th>\n",
              "      <th>match</th>\n",
              "      <th></th>\n",
              "    </tr>\n",
              "  </thead>\n",
              "  <tbody>\n",
              "    <tr>\n",
              "      <th rowspan=\"2\" valign=\"top\">0</th>\n",
              "      <th>0</th>\n",
              "      <td>190.0000</td>\n",
              "    </tr>\n",
              "    <tr>\n",
              "      <th>1</th>\n",
              "      <td>2000.0000</td>\n",
              "    </tr>\n",
              "    <tr>\n",
              "      <th rowspan=\"3\" valign=\"top\">1</th>\n",
              "      <th>0</th>\n",
              "      <td>250.0000</td>\n",
              "    </tr>\n",
              "    <tr>\n",
              "      <th>1</th>\n",
              "      <td>1500.0000</td>\n",
              "    </tr>\n",
              "    <tr>\n",
              "      <th>2</th>\n",
              "      <td>2500.0000</td>\n",
              "    </tr>\n",
              "    <tr>\n",
              "      <th>...</th>\n",
              "      <th>...</th>\n",
              "      <td>...</td>\n",
              "    </tr>\n",
              "    <tr>\n",
              "      <th rowspan=\"2\" valign=\"top\">8126</th>\n",
              "      <th>1</th>\n",
              "      <td>1800.0000</td>\n",
              "    </tr>\n",
              "    <tr>\n",
              "      <th>2</th>\n",
              "      <td>3000.0000</td>\n",
              "    </tr>\n",
              "    <tr>\n",
              "      <th rowspan=\"3\" valign=\"top\">8127</th>\n",
              "      <th>0</th>\n",
              "      <td>140.0000</td>\n",
              "    </tr>\n",
              "    <tr>\n",
              "      <th>1</th>\n",
              "      <td>1800.0000</td>\n",
              "    </tr>\n",
              "    <tr>\n",
              "      <th>2</th>\n",
              "      <td>3000.0000</td>\n",
              "    </tr>\n",
              "  </tbody>\n",
              "</table>\n",
              "<p>18874 rows × 1 columns</p>\n",
              "</div>\n",
              "      <button class=\"colab-df-convert\" onclick=\"convertToInteractive('df-9532a46b-1f3c-4626-aa2b-c27a292a10a7')\"\n",
              "              title=\"Convert this dataframe to an interactive table.\"\n",
              "              style=\"display:none;\">\n",
              "        \n",
              "  <svg xmlns=\"http://www.w3.org/2000/svg\" height=\"24px\"viewBox=\"0 0 24 24\"\n",
              "       width=\"24px\">\n",
              "    <path d=\"M0 0h24v24H0V0z\" fill=\"none\"/>\n",
              "    <path d=\"M18.56 5.44l.94 2.06.94-2.06 2.06-.94-2.06-.94-.94-2.06-.94 2.06-2.06.94zm-11 1L8.5 8.5l.94-2.06 2.06-.94-2.06-.94L8.5 2.5l-.94 2.06-2.06.94zm10 10l.94 2.06.94-2.06 2.06-.94-2.06-.94-.94-2.06-.94 2.06-2.06.94z\"/><path d=\"M17.41 7.96l-1.37-1.37c-.4-.4-.92-.59-1.43-.59-.52 0-1.04.2-1.43.59L10.3 9.45l-7.72 7.72c-.78.78-.78 2.05 0 2.83L4 21.41c.39.39.9.59 1.41.59.51 0 1.02-.2 1.41-.59l7.78-7.78 2.81-2.81c.8-.78.8-2.07 0-2.86zM5.41 20L4 18.59l7.72-7.72 1.47 1.35L5.41 20z\"/>\n",
              "  </svg>\n",
              "      </button>\n",
              "      \n",
              "  <style>\n",
              "    .colab-df-container {\n",
              "      display:flex;\n",
              "      flex-wrap:wrap;\n",
              "      gap: 12px;\n",
              "    }\n",
              "\n",
              "    .colab-df-convert {\n",
              "      background-color: #E8F0FE;\n",
              "      border: none;\n",
              "      border-radius: 50%;\n",
              "      cursor: pointer;\n",
              "      display: none;\n",
              "      fill: #1967D2;\n",
              "      height: 32px;\n",
              "      padding: 0 0 0 0;\n",
              "      width: 32px;\n",
              "    }\n",
              "\n",
              "    .colab-df-convert:hover {\n",
              "      background-color: #E2EBFA;\n",
              "      box-shadow: 0px 1px 2px rgba(60, 64, 67, 0.3), 0px 1px 3px 1px rgba(60, 64, 67, 0.15);\n",
              "      fill: #174EA6;\n",
              "    }\n",
              "\n",
              "    [theme=dark] .colab-df-convert {\n",
              "      background-color: #3B4455;\n",
              "      fill: #D2E3FC;\n",
              "    }\n",
              "\n",
              "    [theme=dark] .colab-df-convert:hover {\n",
              "      background-color: #434B5C;\n",
              "      box-shadow: 0px 1px 3px 1px rgba(0, 0, 0, 0.15);\n",
              "      filter: drop-shadow(0px 1px 2px rgba(0, 0, 0, 0.3));\n",
              "      fill: #FFFFFF;\n",
              "    }\n",
              "  </style>\n",
              "\n",
              "      <script>\n",
              "        const buttonEl =\n",
              "          document.querySelector('#df-9532a46b-1f3c-4626-aa2b-c27a292a10a7 button.colab-df-convert');\n",
              "        buttonEl.style.display =\n",
              "          google.colab.kernel.accessAllowed ? 'block' : 'none';\n",
              "\n",
              "        async function convertToInteractive(key) {\n",
              "          const element = document.querySelector('#df-9532a46b-1f3c-4626-aa2b-c27a292a10a7');\n",
              "          const dataTable =\n",
              "            await google.colab.kernel.invokeFunction('convertToInteractive',\n",
              "                                                     [key], {});\n",
              "          if (!dataTable) return;\n",
              "\n",
              "          const docLinkHtml = 'Like what you see? Visit the ' +\n",
              "            '<a target=\"_blank\" href=https://colab.research.google.com/notebooks/data_table.ipynb>data table notebook</a>'\n",
              "            + ' to learn more about interactive tables.';\n",
              "          element.innerHTML = '';\n",
              "          dataTable['output_type'] = 'display_data';\n",
              "          await google.colab.output.renderOutput(dataTable, element);\n",
              "          const docLink = document.createElement('div');\n",
              "          docLink.innerHTML = docLinkHtml;\n",
              "          element.appendChild(docLink);\n",
              "        }\n",
              "      </script>\n",
              "    </div>\n",
              "  </div>\n",
              "  "
            ]
          },
          "metadata": {},
          "execution_count": 68
        }
      ]
    },
    {
      "cell_type": "code",
      "source": [
        "# torque에 가장 먼저 존재하는 숫자들만 남기고 삭제\n",
        "df.torque = df.torque.str.extract(\"([\\d\\.]+)\").astype('float')\n",
        "df.torque.head()"
      ],
      "metadata": {
        "colab": {
          "base_uri": "https://localhost:8080/"
        },
        "id": "HA5WBCCyhnyo",
        "outputId": "e65f22fc-64ef-48d3-da47-8b11f88c2c89"
      },
      "execution_count": null,
      "outputs": [
        {
          "output_type": "execute_result",
          "data": {
            "text/plain": [
              "0   190.0000\n",
              "1   250.0000\n",
              "2    12.7000\n",
              "3    22.4000\n",
              "4    11.5000\n",
              "Name: torque, dtype: float64"
            ]
          },
          "metadata": {},
          "execution_count": 69
        }
      ]
    },
    {
      "cell_type": "code",
      "source": [
        "# torque : 회전력\n",
        "# torque -> unit -> torque / extract -> 첫번째 등장하는 숫자들 + unit\n",
        "# 1 kgm = 9.8066 Nm -> kgm 으로 표현되어 있는 걸 Nm 기준으로 수정\n",
        "# 단위 변환\n",
        "# df.apply(..., axis=1)\n",
        "def handle_torque_trans(x):\n",
        "    if x.torque_unit == 'kgm':\n",
        "        return x.torque * 9.8066 # kgm -> Nm\n",
        "    return x.torque # Nm -> Nm (kgm : kg미터, Nm: 뉴턴미터)\n",
        "    # return x.torque * 9.8066 if x.torque_unit == 'kgm' else x.torque"
      ],
      "metadata": {
        "id": "Rj6TX4Ushvjx"
      },
      "execution_count": null,
      "outputs": []
    },
    {
      "cell_type": "code",
      "source": [
        "df.torque = df.apply(handle_torque_trans, axis=1)"
      ],
      "metadata": {
        "id": "UlvlLJWKirLO"
      },
      "execution_count": null,
      "outputs": []
    },
    {
      "cell_type": "code",
      "source": [
        "df.torque.head()"
      ],
      "metadata": {
        "colab": {
          "base_uri": "https://localhost:8080/"
        },
        "id": "fXajLDcoiyjg",
        "outputId": "a5a8590c-0071-48d1-9088-ee644565ca8c"
      },
      "execution_count": null,
      "outputs": [
        {
          "output_type": "execute_result",
          "data": {
            "text/plain": [
              "0   190.0000\n",
              "1   250.0000\n",
              "2   124.5438\n",
              "3   219.6678\n",
              "4   112.7759\n",
              "Name: torque, dtype: float64"
            ]
          },
          "metadata": {},
          "execution_count": 72
        }
      ]
    },
    {
      "cell_type": "code",
      "source": [
        "df.drop('torque_unit', axis=1, inplace=True)"
      ],
      "metadata": {
        "id": "XGc5MgSLi44i"
      },
      "execution_count": null,
      "outputs": []
    },
    {
      "cell_type": "code",
      "source": [
        "df.info()"
      ],
      "metadata": {
        "colab": {
          "base_uri": "https://localhost:8080/"
        },
        "id": "Dbh6mV0_i-ug",
        "outputId": "39082098-e9ac-47d8-ce63-d6a8f91b38ff"
      },
      "execution_count": null,
      "outputs": [
        {
          "output_type": "stream",
          "name": "stdout",
          "text": [
            "<class 'pandas.core.frame.DataFrame'>\n",
            "RangeIndex: 8128 entries, 0 to 8127\n",
            "Data columns (total 13 columns):\n",
            " #   Column         Non-Null Count  Dtype  \n",
            "---  ------         --------------  -----  \n",
            " 0   name           8128 non-null   object \n",
            " 1   year           8128 non-null   int64  \n",
            " 2   selling_price  8128 non-null   int64  \n",
            " 3   km_driven      8128 non-null   int64  \n",
            " 4   fuel           8128 non-null   object \n",
            " 5   seller_type    8128 non-null   object \n",
            " 6   transmission   8128 non-null   object \n",
            " 7   owner          8128 non-null   object \n",
            " 8   mileage        7907 non-null   float64\n",
            " 9   engine         7907 non-null   float32\n",
            " 10  max_power      7912 non-null   float64\n",
            " 11  torque         7906 non-null   float64\n",
            " 12  seats          7907 non-null   float64\n",
            "dtypes: float32(1), float64(4), int64(3), object(5)\n",
            "memory usage: 793.9+ KB\n"
          ]
        }
      ]
    },
    {
      "cell_type": "markdown",
      "source": [
        "## Name"
      ],
      "metadata": {
        "id": "BRfP5OAMjJlp"
      }
    },
    {
      "cell_type": "code",
      "source": [
        "# df.name.value_counts()\n",
        "# df.name.nunique()\n",
        "df.name.unique()\n",
        "# 제조사 혹은 브랜드만 추출해서 사용"
      ],
      "metadata": {
        "colab": {
          "base_uri": "https://localhost:8080/"
        },
        "id": "RirkjhI-jHLE",
        "outputId": "863c47cd-c6d0-4a2a-e6da-20610f2707a6"
      },
      "execution_count": null,
      "outputs": [
        {
          "output_type": "execute_result",
          "data": {
            "text/plain": [
              "array(['Maruti Swift Dzire VDI', 'Skoda Rapid 1.5 TDI Ambition',\n",
              "       'Honda City 2017-2020 EXi', ..., 'Tata Nexon 1.5 Revotorq XT',\n",
              "       'Ford Freestyle Titanium Plus Diesel BSIV',\n",
              "       'Toyota Innova 2.5 GX (Diesel) 8 Seater BS IV'], dtype=object)"
            ]
          },
          "metadata": {},
          "execution_count": 75
        }
      ]
    },
    {
      "cell_type": "code",
      "source": [
        "# 맨 첫 단어만 -> 여백으로 구분된 여러 단어중에 하나만 쪼개서 가져옴\n",
        "df.name = df.name.str.split(expand=True)[0] # 0번째만 가져옴"
      ],
      "metadata": {
        "id": "z0Q93mrSjePf"
      },
      "execution_count": null,
      "outputs": []
    },
    {
      "cell_type": "code",
      "source": [
        "df.name.unique()"
      ],
      "metadata": {
        "colab": {
          "base_uri": "https://localhost:8080/"
        },
        "id": "_AVRv0BijsRw",
        "outputId": "3d48ff3c-024f-4f97-d394-652e4c180056"
      },
      "execution_count": null,
      "outputs": [
        {
          "output_type": "execute_result",
          "data": {
            "text/plain": [
              "array(['Maruti', 'Skoda', 'Honda', 'Hyundai', 'Toyota', 'Ford', 'Renault',\n",
              "       'Mahindra', 'Tata', 'Chevrolet', 'Fiat', 'Datsun', 'Jeep',\n",
              "       'Mercedes-Benz', 'Mitsubishi', 'Audi', 'Volkswagen', 'BMW',\n",
              "       'Nissan', 'Lexus', 'Jaguar', 'Land', 'MG', 'Volvo', 'Daewoo',\n",
              "       'Kia', 'Force', 'Ambassador', 'Ashok', 'Isuzu', 'Opel', 'Peugeot'],\n",
              "      dtype=object)"
            ]
          },
          "metadata": {},
          "execution_count": 77
        }
      ]
    },
    {
      "cell_type": "code",
      "source": [
        "# replace -> 교체한다\n",
        "df.name = df.name.replace('Land', 'Land Rover')\n",
        "df.name.unique()"
      ],
      "metadata": {
        "colab": {
          "base_uri": "https://localhost:8080/"
        },
        "id": "LcQ-0cT3j1vW",
        "outputId": "92dae6d4-5793-45ae-a691-8273341b9cce"
      },
      "execution_count": null,
      "outputs": [
        {
          "output_type": "execute_result",
          "data": {
            "text/plain": [
              "array(['Maruti', 'Skoda', 'Honda', 'Hyundai', 'Toyota', 'Ford', 'Renault',\n",
              "       'Mahindra', 'Tata', 'Chevrolet', 'Fiat', 'Datsun', 'Jeep',\n",
              "       'Mercedes-Benz', 'Mitsubishi', 'Audi', 'Volkswagen', 'BMW',\n",
              "       'Nissan', 'Lexus', 'Jaguar', 'Land Rover', 'MG', 'Volvo', 'Daewoo',\n",
              "       'Kia', 'Force', 'Ambassador', 'Ashok', 'Isuzu', 'Opel', 'Peugeot'],\n",
              "      dtype=object)"
            ]
          },
          "metadata": {},
          "execution_count": 78
        }
      ]
    },
    {
      "cell_type": "markdown",
      "source": [
        "## 결측치"
      ],
      "metadata": {
        "id": "BQJxw1eqkGs4"
      }
    },
    {
      "cell_type": "code",
      "source": [
        "# 결측치의 평균 = 비중\n",
        "df.isna().mean()\n",
        "df.isna().mean().plot.bar()"
      ],
      "metadata": {
        "colab": {
          "base_uri": "https://localhost:8080/",
          "height": 338
        },
        "id": "pi-YgJVIj_63",
        "outputId": "65860178-f11d-4606-d415-aa9566302eda"
      },
      "execution_count": null,
      "outputs": [
        {
          "output_type": "execute_result",
          "data": {
            "text/plain": [
              "<Axes: >"
            ]
          },
          "metadata": {},
          "execution_count": 79
        },
        {
          "output_type": "display_data",
          "data": {
            "text/plain": [
              "<Figure size 432x288 with 1 Axes>"
            ],
            "image/png": "[encoded data removed]"
          },
          "metadata": {
            "needs_background": "light"
          }
        }
      ]
    },
    {
      "cell_type": "code",
      "source": [
        "df.dropna(inplace=True) # 평균치, 최빈값으로 치환해도 됨 / 그룹별로 넣거나 / 트리->결측치는 대표하는 -1, -99"
      ],
      "metadata": {
        "id": "MLE29i1KkTcM"
      },
      "execution_count": null,
      "outputs": []
    },
    {
      "cell_type": "code",
      "source": [
        "df.isna().mean().plot.bar()"
      ],
      "metadata": {
        "colab": {
          "base_uri": "https://localhost:8080/",
          "height": 338
        },
        "id": "g11L2QxqkZT_",
        "outputId": "af945953-015f-47e4-b1c9-ff898cb9aff3"
      },
      "execution_count": null,
      "outputs": [
        {
          "output_type": "execute_result",
          "data": {
            "text/plain": [
              "<Axes: >"
            ]
          },
          "metadata": {},
          "execution_count": 81
        },
        {
          "output_type": "display_data",
          "data": {
            "text/plain": [
              "<Figure size 432x288 with 1 Axes>"
            ],
            "image/png": "[encoded data removed]"
          },
          "metadata": {
            "needs_background": "light"
          }
        }
      ]
    },
    {
      "cell_type": "markdown",
      "source": [
        "## 더미 변수"
      ],
      "metadata": {
        "id": "bKO9ULA3kf4S"
      }
    },
    {
      "cell_type": "code",
      "source": [
        "df.describe(include=['O'])"
      ],
      "metadata": {
        "colab": {
          "base_uri": "https://localhost:8080/",
          "height": 174
        },
        "id": "3j2tPA1Fkcum",
        "outputId": "0cf6ecb2-1e8a-4bc7-e60d-d98ae9ea71b3"
      },
      "execution_count": null,
      "outputs": [
        {
          "output_type": "execute_result",
          "data": {
            "text/plain": [
              "          name    fuel seller_type transmission        owner\n",
              "count     7906    7906        7906         7906         7906\n",
              "unique      31       4           3            2            5\n",
              "top     Maruti  Diesel  Individual       Manual  First Owner\n",
              "freq      2367    4299        6563         6865         5215"
            ],
            "text/html": [
              "\n",
              "  <div id=\"df-df5d00c5-77a8-4477-98b5-6323351ee096\">\n",
              "    <div class=\"colab-df-container\">\n",
              "      <div>\n",
              "<style scoped>\n",
              "    .dataframe tbody tr th:only-of-type {\n",
              "        vertical-align: middle;\n",
              "    }\n",
              "\n",
              "    .dataframe tbody tr th {\n",
              "        vertical-align: top;\n",
              "    }\n",
              "\n",
              "    .dataframe thead th {\n",
              "        text-align: right;\n",
              "    }\n",
              "</style>\n",
              "<table border=\"1\" class=\"dataframe\">\n",
              "  <thead>\n",
              "    <tr style=\"text-align: right;\">\n",
              "      <th></th>\n",
              "      <th>name</th>\n",
              "      <th>fuel</th>\n",
              "      <th>seller_type</th>\n",
              "      <th>transmission</th>\n",
              "      <th>owner</th>\n",
              "    </tr>\n",
              "  </thead>\n",
              "  <tbody>\n",
              "    <tr>\n",
              "      <th>count</th>\n",
              "      <td>7906</td>\n",
              "      <td>7906</td>\n",
              "      <td>7906</td>\n",
              "      <td>7906</td>\n",
              "      <td>7906</td>\n",
              "    </tr>\n",
              "    <tr>\n",
              "      <th>unique</th>\n",
              "      <td>31</td>\n",
              "      <td>4</td>\n",
              "      <td>3</td>\n",
              "      <td>2</td>\n",
              "      <td>5</td>\n",
              "    </tr>\n",
              "    <tr>\n",
              "      <th>top</th>\n",
              "      <td>Maruti</td>\n",
              "      <td>Diesel</td>\n",
              "      <td>Individual</td>\n",
              "      <td>Manual</td>\n",
              "      <td>First Owner</td>\n",
              "    </tr>\n",
              "    <tr>\n",
              "      <th>freq</th>\n",
              "      <td>2367</td>\n",
              "      <td>4299</td>\n",
              "      <td>6563</td>\n",
              "      <td>6865</td>\n",
              "      <td>5215</td>\n",
              "    </tr>\n",
              "  </tbody>\n",
              "</table>\n",
              "</div>\n",
              "      <button class=\"colab-df-convert\" onclick=\"convertToInteractive('df-df5d00c5-77a8-4477-98b5-6323351ee096')\"\n",
              "              title=\"Convert this dataframe to an interactive table.\"\n",
              "              style=\"display:none;\">\n",
              "        \n",
              "  <svg xmlns=\"http://www.w3.org/2000/svg\" height=\"24px\"viewBox=\"0 0 24 24\"\n",
              "       width=\"24px\">\n",
              "    <path d=\"M0 0h24v24H0V0z\" fill=\"none\"/>\n",
              "    <path d=\"M18.56 5.44l.94 2.06.94-2.06 2.06-.94-2.06-.94-.94-2.06-.94 2.06-2.06.94zm-11 1L8.5 8.5l.94-2.06 2.06-.94-2.06-.94L8.5 2.5l-.94 2.06-2.06.94zm10 10l.94 2.06.94-2.06 2.06-.94-2.06-.94-.94-2.06-.94 2.06-2.06.94z\"/><path d=\"M17.41 7.96l-1.37-1.37c-.4-.4-.92-.59-1.43-.59-.52 0-1.04.2-1.43.59L10.3 9.45l-7.72 7.72c-.78.78-.78 2.05 0 2.83L4 21.41c.39.39.9.59 1.41.59.51 0 1.02-.2 1.41-.59l7.78-7.78 2.81-2.81c.8-.78.8-2.07 0-2.86zM5.41 20L4 18.59l7.72-7.72 1.47 1.35L5.41 20z\"/>\n",
              "  </svg>\n",
              "      </button>\n",
              "      \n",
              "  <style>\n",
              "    .colab-df-container {\n",
              "      display:flex;\n",
              "      flex-wrap:wrap;\n",
              "      gap: 12px;\n",
              "    }\n",
              "\n",
              "    .colab-df-convert {\n",
              "      background-color: #E8F0FE;\n",
              "      border: none;\n",
              "      border-radius: 50%;\n",
              "      cursor: pointer;\n",
              "      display: none;\n",
              "      fill: #1967D2;\n",
              "      height: 32px;\n",
              "      padding: 0 0 0 0;\n",
              "      width: 32px;\n",
              "    }\n",
              "\n",
              "    .colab-df-convert:hover {\n",
              "      background-color: #E2EBFA;\n",
              "      box-shadow: 0px 1px 2px rgba(60, 64, 67, 0.3), 0px 1px 3px 1px rgba(60, 64, 67, 0.15);\n",
              "      fill: #174EA6;\n",
              "    }\n",
              "\n",
              "    [theme=dark] .colab-df-convert {\n",
              "      background-color: #3B4455;\n",
              "      fill: #D2E3FC;\n",
              "    }\n",
              "\n",
              "    [theme=dark] .colab-df-convert:hover {\n",
              "      background-color: #434B5C;\n",
              "      box-shadow: 0px 1px 3px 1px rgba(0, 0, 0, 0.15);\n",
              "      filter: drop-shadow(0px 1px 2px rgba(0, 0, 0, 0.3));\n",
              "      fill: #FFFFFF;\n",
              "    }\n",
              "  </style>\n",
              "\n",
              "      <script>\n",
              "        const buttonEl =\n",
              "          document.querySelector('#df-df5d00c5-77a8-4477-98b5-6323351ee096 button.colab-df-convert');\n",
              "        buttonEl.style.display =\n",
              "          google.colab.kernel.accessAllowed ? 'block' : 'none';\n",
              "\n",
              "        async function convertToInteractive(key) {\n",
              "          const element = document.querySelector('#df-df5d00c5-77a8-4477-98b5-6323351ee096');\n",
              "          const dataTable =\n",
              "            await google.colab.kernel.invokeFunction('convertToInteractive',\n",
              "                                                     [key], {});\n",
              "          if (!dataTable) return;\n",
              "\n",
              "          const docLinkHtml = 'Like what you see? Visit the ' +\n",
              "            '<a target=\"_blank\" href=https://colab.research.google.com/notebooks/data_table.ipynb>data table notebook</a>'\n",
              "            + ' to learn more about interactive tables.';\n",
              "          element.innerHTML = '';\n",
              "          dataTable['output_type'] = 'display_data';\n",
              "          await google.colab.output.renderOutput(dataTable, element);\n",
              "          const docLink = document.createElement('div');\n",
              "          docLink.innerHTML = docLinkHtml;\n",
              "          element.appendChild(docLink);\n",
              "        }\n",
              "      </script>\n",
              "    </div>\n",
              "  </div>\n",
              "  "
            ]
          },
          "metadata": {},
          "execution_count": 82
        }
      ]
    },
    {
      "cell_type": "code",
      "source": [
        "o_columns = df.describe(include=['O']).columns"
      ],
      "metadata": {
        "id": "rV5XBEyhko_Y"
      },
      "execution_count": null,
      "outputs": []
    },
    {
      "cell_type": "code",
      "source": [
        "df = pd.get_dummies(df, columns=o_columns,\n",
        "                    drop_first=True)\n",
        "df"
      ],
      "metadata": {
        "colab": {
          "base_uri": "https://localhost:8080/",
          "height": 522
        },
        "id": "LDqB7rbykrMH",
        "outputId": "a9ed10f1-6cc0-4cb0-983f-d0ef63756a36"
      },
      "execution_count": null,
      "outputs": [
        {
          "output_type": "execute_result",
          "data": {
            "text/plain": [
              "      year  selling_price  km_driven  mileage    engine  max_power   torque  \\\n",
              "0     2014         450000     145500   0.3181 1248.0000    74.0000 190.0000   \n",
              "1     2014         370000     120000   0.2874 1498.0000   103.5200 250.0000   \n",
              "2     2006         158000     140000   0.2201 1497.0000    78.0000 124.5438   \n",
              "3     2010         225000     127000   0.3127 1396.0000    90.0000 219.6678   \n",
              "4     2007         130000     120000   0.2002 1298.0000    88.2000 112.7759   \n",
              "...    ...            ...        ...      ...       ...        ...      ...   \n",
              "8123  2013         320000     110000   0.2300 1197.0000    82.8500 113.7000   \n",
              "8124  2007         135000     119000   0.2284 1493.0000   110.0000 235.3584   \n",
              "8125  2009         382000     120000   0.2624 1248.0000    73.9000 190.0000   \n",
              "8126  2013         290000      25000   0.3204 1396.0000    70.0000 140.0000   \n",
              "8127  2013         290000      25000   0.3204 1396.0000    70.0000 140.0000   \n",
              "\n",
              "      seats  name_Ashok  name_Audi  ...  fuel_Diesel  fuel_LPG  fuel_Petrol  \\\n",
              "0    5.0000           0          0  ...            1         0            0   \n",
              "1    5.0000           0          0  ...            1         0            0   \n",
              "2    5.0000           0          0  ...            0         0            1   \n",
              "3    5.0000           0          0  ...            1         0            0   \n",
              "4    5.0000           0          0  ...            0         0            1   \n",
              "...     ...         ...        ...  ...          ...       ...          ...   \n",
              "8123 5.0000           0          0  ...            0         0            1   \n",
              "8124 5.0000           0          0  ...            1         0            0   \n",
              "8125 5.0000           0          0  ...            1         0            0   \n",
              "8126 5.0000           0          0  ...            1         0            0   \n",
              "8127 5.0000           0          0  ...            1         0            0   \n",
              "\n",
              "      seller_type_Individual  seller_type_Trustmark Dealer  \\\n",
              "0                          1                             0   \n",
              "1                          1                             0   \n",
              "2                          1                             0   \n",
              "3                          1                             0   \n",
              "4                          1                             0   \n",
              "...                      ...                           ...   \n",
              "8123                       1                             0   \n",
              "8124                       1                             0   \n",
              "8125                       1                             0   \n",
              "8126                       1                             0   \n",
              "8127                       1                             0   \n",
              "\n",
              "      transmission_Manual  owner_Fourth & Above Owner  owner_Second Owner  \\\n",
              "0                       1                           0                   0   \n",
              "1                       1                           0                   1   \n",
              "2                       1                           0                   0   \n",
              "3                       1                           0                   0   \n",
              "4                       1                           0                   0   \n",
              "...                   ...                         ...                 ...   \n",
              "8123                    1                           0                   0   \n",
              "8124                    1                           1                   0   \n",
              "8125                    1                           0                   0   \n",
              "8126                    1                           0                   0   \n",
              "8127                    1                           0                   0   \n",
              "\n",
              "      owner_Test Drive Car  owner_Third Owner  \n",
              "0                        0                  0  \n",
              "1                        0                  0  \n",
              "2                        0                  1  \n",
              "3                        0                  0  \n",
              "4                        0                  0  \n",
              "...                    ...                ...  \n",
              "8123                     0                  0  \n",
              "8124                     0                  0  \n",
              "8125                     0                  0  \n",
              "8126                     0                  0  \n",
              "8127                     0                  0  \n",
              "\n",
              "[7906 rows x 48 columns]"
            ],
            "text/html": [
              "\n",
              "  <div id=\"df-1821f056-0847-4d43-ac0d-faec5e282dfa\">\n",
              "    <div class=\"colab-df-container\">\n",
              "      <div>\n",
              "<style scoped>\n",
              "    .dataframe tbody tr th:only-of-type {\n",
              "        vertical-align: middle;\n",
              "    }\n",
              "\n",
              "    .dataframe tbody tr th {\n",
              "        vertical-align: top;\n",
              "    }\n",
              "\n",
              "    .dataframe thead th {\n",
              "        text-align: right;\n",
              "    }\n",
              "</style>\n",
              "<table border=\"1\" class=\"dataframe\">\n",
              "  <thead>\n",
              "    <tr style=\"text-align: right;\">\n",
              "      <th></th>\n",
              "      <th>year</th>\n",
              "      <th>selling_price</th>\n",
              "      <th>km_driven</th>\n",
              "      <th>mileage</th>\n",
              "      <th>engine</th>\n",
              "      <th>max_power</th>\n",
              "      <th>torque</th>\n",
              "      <th>seats</th>\n",
              "      <th>name_Ashok</th>\n",
              "      <th>name_Audi</th>\n",
              "      <th>...</th>\n",
              "      <th>fuel_Diesel</th>\n",
              "      <th>fuel_LPG</th>\n",
              "      <th>fuel_Petrol</th>\n",
              "      <th>seller_type_Individual</th>\n",
              "      <th>seller_type_Trustmark Dealer</th>\n",
              "      <th>transmission_Manual</th>\n",
              "      <th>owner_Fourth &amp; Above Owner</th>\n",
              "      <th>owner_Second Owner</th>\n",
              "      <th>owner_Test Drive Car</th>\n",
              "      <th>owner_Third Owner</th>\n",
              "    </tr>\n",
              "  </thead>\n",
              "  <tbody>\n",
              "    <tr>\n",
              "      <th>0</th>\n",
              "      <td>2014</td>\n",
              "      <td>450000</td>\n",
              "      <td>145500</td>\n",
              "      <td>0.3181</td>\n",
              "      <td>1248.0000</td>\n",
              "      <td>74.0000</td>\n",
              "      <td>190.0000</td>\n",
              "      <td>5.0000</td>\n",
              "      <td>0</td>\n",
              "      <td>0</td>\n",
              "      <td>...</td>\n",
              "      <td>1</td>\n",
              "      <td>0</td>\n",
              "      <td>0</td>\n",
              "      <td>1</td>\n",
              "      <td>0</td>\n",
              "      <td>1</td>\n",
              "      <td>0</td>\n",
              "      <td>0</td>\n",
              "      <td>0</td>\n",
              "      <td>0</td>\n",
              "    </tr>\n",
              "    <tr>\n",
              "      <th>1</th>\n",
              "      <td>2014</td>\n",
              "      <td>370000</td>\n",
              "      <td>120000</td>\n",
              "      <td>0.2874</td>\n",
              "      <td>1498.0000</td>\n",
              "      <td>103.5200</td>\n",
              "      <td>250.0000</td>\n",
              "      <td>5.0000</td>\n",
              "      <td>0</td>\n",
              "      <td>0</td>\n",
              "      <td>...</td>\n",
              "      <td>1</td>\n",
              "      <td>0</td>\n",
              "      <td>0</td>\n",
              "      <td>1</td>\n",
              "      <td>0</td>\n",
              "      <td>1</td>\n",
              "      <td>0</td>\n",
              "      <td>1</td>\n",
              "      <td>0</td>\n",
              "      <td>0</td>\n",
              "    </tr>\n",
              "    <tr>\n",
              "      <th>2</th>\n",
              "      <td>2006</td>\n",
              "      <td>158000</td>\n",
              "      <td>140000</td>\n",
              "      <td>0.2201</td>\n",
              "      <td>1497.0000</td>\n",
              "      <td>78.0000</td>\n",
              "      <td>124.5438</td>\n",
              "      <td>5.0000</td>\n",
              "      <td>0</td>\n",
              "      <td>0</td>\n",
              "      <td>...</td>\n",
              "      <td>0</td>\n",
              "      <td>0</td>\n",
              "      <td>1</td>\n",
              "      <td>1</td>\n",
              "      <td>0</td>\n",
              "      <td>1</td>\n",
              "      <td>0</td>\n",
              "      <td>0</td>\n",
              "      <td>0</td>\n",
              "      <td>1</td>\n",
              "    </tr>\n",
              "    <tr>\n",
              "      <th>3</th>\n",
              "      <td>2010</td>\n",
              "      <td>225000</td>\n",
              "      <td>127000</td>\n",
              "      <td>0.3127</td>\n",
              "      <td>1396.0000</td>\n",
              "      <td>90.0000</td>\n",
              "      <td>219.6678</td>\n",
              "      <td>5.0000</td>\n",
              "      <td>0</td>\n",
              "      <td>0</td>\n",
              "      <td>...</td>\n",
              "      <td>1</td>\n",
              "      <td>0</td>\n",
              "      <td>0</td>\n",
              "      <td>1</td>\n",
              "      <td>0</td>\n",
              "      <td>1</td>\n",
              "      <td>0</td>\n",
              "      <td>0</td>\n",
              "      <td>0</td>\n",
              "      <td>0</td>\n",
              "    </tr>\n",
              "    <tr>\n",
              "      <th>4</th>\n",
              "      <td>2007</td>\n",
              "      <td>130000</td>\n",
              "      <td>120000</td>\n",
              "      <td>0.2002</td>\n",
              "      <td>1298.0000</td>\n",
              "      <td>88.2000</td>\n",
              "      <td>112.7759</td>\n",
              "      <td>5.0000</td>\n",
              "      <td>0</td>\n",
              "      <td>0</td>\n",
              "      <td>...</td>\n",
              "      <td>0</td>\n",
              "      <td>0</td>\n",
              "      <td>1</td>\n",
              "      <td>1</td>\n",
              "      <td>0</td>\n",
              "      <td>1</td>\n",
              "      <td>0</td>\n",
              "      <td>0</td>\n",
              "      <td>0</td>\n",
              "      <td>0</td>\n",
              "    </tr>\n",
              "    <tr>\n",
              "      <th>...</th>\n",
              "      <td>...</td>\n",
              "      <td>...</td>\n",
              "      <td>...</td>\n",
              "      <td>...</td>\n",
              "      <td>...</td>\n",
              "      <td>...</td>\n",
              "      <td>...</td>\n",
              "      <td>...</td>\n",
              "      <td>...</td>\n",
              "      <td>...</td>\n",
              "      <td>...</td>\n",
              "      <td>...</td>\n",
              "      <td>...</td>\n",
              "      <td>...</td>\n",
              "      <td>...</td>\n",
              "      <td>...</td>\n",
              "      <td>...</td>\n",
              "      <td>...</td>\n",
              "      <td>...</td>\n",
              "      <td>...</td>\n",
              "      <td>...</td>\n",
              "    </tr>\n",
              "    <tr>\n",
              "      <th>8123</th>\n",
              "      <td>2013</td>\n",
              "      <td>320000</td>\n",
              "      <td>110000</td>\n",
              "      <td>0.2300</td>\n",
              "      <td>1197.0000</td>\n",
              "      <td>82.8500</td>\n",
              "      <td>113.7000</td>\n",
              "      <td>5.0000</td>\n",
              "      <td>0</td>\n",
              "      <td>0</td>\n",
              "      <td>...</td>\n",
              "      <td>0</td>\n",
              "      <td>0</td>\n",
              "      <td>1</td>\n",
              "      <td>1</td>\n",
              "      <td>0</td>\n",
              "      <td>1</td>\n",
              "      <td>0</td>\n",
              "      <td>0</td>\n",
              "      <td>0</td>\n",
              "      <td>0</td>\n",
              "    </tr>\n",
              "    <tr>\n",
              "      <th>8124</th>\n",
              "      <td>2007</td>\n",
              "      <td>135000</td>\n",
              "      <td>119000</td>\n",
              "      <td>0.2284</td>\n",
              "      <td>1493.0000</td>\n",
              "      <td>110.0000</td>\n",
              "      <td>235.3584</td>\n",
              "      <td>5.0000</td>\n",
              "      <td>0</td>\n",
              "      <td>0</td>\n",
              "      <td>...</td>\n",
              "      <td>1</td>\n",
              "      <td>0</td>\n",
              "      <td>0</td>\n",
              "      <td>1</td>\n",
              "      <td>0</td>\n",
              "      <td>1</td>\n",
              "      <td>1</td>\n",
              "      <td>0</td>\n",
              "      <td>0</td>\n",
              "      <td>0</td>\n",
              "    </tr>\n",
              "    <tr>\n",
              "      <th>8125</th>\n",
              "      <td>2009</td>\n",
              "      <td>382000</td>\n",
              "      <td>120000</td>\n",
              "      <td>0.2624</td>\n",
              "      <td>1248.0000</td>\n",
              "      <td>73.9000</td>\n",
              "      <td>190.0000</td>\n",
              "      <td>5.0000</td>\n",
              "      <td>0</td>\n",
              "      <td>0</td>\n",
              "      <td>...</td>\n",
              "      <td>1</td>\n",
              "      <td>0</td>\n",
              "      <td>0</td>\n",
              "      <td>1</td>\n",
              "      <td>0</td>\n",
              "      <td>1</td>\n",
              "      <td>0</td>\n",
              "      <td>0</td>\n",
              "      <td>0</td>\n",
              "      <td>0</td>\n",
              "    </tr>\n",
              "    <tr>\n",
              "      <th>8126</th>\n",
              "      <td>2013</td>\n",
              "      <td>290000</td>\n",
              "      <td>25000</td>\n",
              "      <td>0.3204</td>\n",
              "      <td>1396.0000</td>\n",
              "      <td>70.0000</td>\n",
              "      <td>140.0000</td>\n",
              "      <td>5.0000</td>\n",
              "      <td>0</td>\n",
              "      <td>0</td>\n",
              "      <td>...</td>\n",
              "      <td>1</td>\n",
              "      <td>0</td>\n",
              "      <td>0</td>\n",
              "      <td>1</td>\n",
              "      <td>0</td>\n",
              "      <td>1</td>\n",
              "      <td>0</td>\n",
              "      <td>0</td>\n",
              "      <td>0</td>\n",
              "      <td>0</td>\n",
              "    </tr>\n",
              "    <tr>\n",
              "      <th>8127</th>\n",
              "      <td>2013</td>\n",
              "      <td>290000</td>\n",
              "      <td>25000</td>\n",
              "      <td>0.3204</td>\n",
              "      <td>1396.0000</td>\n",
              "      <td>70.0000</td>\n",
              "      <td>140.0000</td>\n",
              "      <td>5.0000</td>\n",
              "      <td>0</td>\n",
              "      <td>0</td>\n",
              "      <td>...</td>\n",
              "      <td>1</td>\n",
              "      <td>0</td>\n",
              "      <td>0</td>\n",
              "      <td>1</td>\n",
              "      <td>0</td>\n",
              "      <td>1</td>\n",
              "      <td>0</td>\n",
              "      <td>0</td>\n",
              "      <td>0</td>\n",
              "      <td>0</td>\n",
              "    </tr>\n",
              "  </tbody>\n",
              "</table>\n",
              "<p>7906 rows × 48 columns</p>\n",
              "</div>\n",
              "      <button class=\"colab-df-convert\" onclick=\"convertToInteractive('df-1821f056-0847-4d43-ac0d-faec5e282dfa')\"\n",
              "              title=\"Convert this dataframe to an interactive table.\"\n",
              "              style=\"display:none;\">\n",
              "        \n",
              "  <svg xmlns=\"http://www.w3.org/2000/svg\" height=\"24px\"viewBox=\"0 0 24 24\"\n",
              "       width=\"24px\">\n",
              "    <path d=\"M0 0h24v24H0V0z\" fill=\"none\"/>\n",
              "    <path d=\"M18.56 5.44l.94 2.06.94-2.06 2.06-.94-2.06-.94-.94-2.06-.94 2.06-2.06.94zm-11 1L8.5 8.5l.94-2.06 2.06-.94-2.06-.94L8.5 2.5l-.94 2.06-2.06.94zm10 10l.94 2.06.94-2.06 2.06-.94-2.06-.94-.94-2.06-.94 2.06-2.06.94z\"/><path d=\"M17.41 7.96l-1.37-1.37c-.4-.4-.92-.59-1.43-.59-.52 0-1.04.2-1.43.59L10.3 9.45l-7.72 7.72c-.78.78-.78 2.05 0 2.83L4 21.41c.39.39.9.59 1.41.59.51 0 1.02-.2 1.41-.59l7.78-7.78 2.81-2.81c.8-.78.8-2.07 0-2.86zM5.41 20L4 18.59l7.72-7.72 1.47 1.35L5.41 20z\"/>\n",
              "  </svg>\n",
              "      </button>\n",
              "      \n",
              "  <style>\n",
              "    .colab-df-container {\n",
              "      display:flex;\n",
              "      flex-wrap:wrap;\n",
              "      gap: 12px;\n",
              "    }\n",
              "\n",
              "    .colab-df-convert {\n",
              "      background-color: #E8F0FE;\n",
              "      border: none;\n",
              "      border-radius: 50%;\n",
              "      cursor: pointer;\n",
              "      display: none;\n",
              "      fill: #1967D2;\n",
              "      height: 32px;\n",
              "      padding: 0 0 0 0;\n",
              "      width: 32px;\n",
              "    }\n",
              "\n",
              "    .colab-df-convert:hover {\n",
              "      background-color: #E2EBFA;\n",
              "      box-shadow: 0px 1px 2px rgba(60, 64, 67, 0.3), 0px 1px 3px 1px rgba(60, 64, 67, 0.15);\n",
              "      fill: #174EA6;\n",
              "    }\n",
              "\n",
              "    [theme=dark] .colab-df-convert {\n",
              "      background-color: #3B4455;\n",
              "      fill: #D2E3FC;\n",
              "    }\n",
              "\n",
              "    [theme=dark] .colab-df-convert:hover {\n",
              "      background-color: #434B5C;\n",
              "      box-shadow: 0px 1px 3px 1px rgba(0, 0, 0, 0.15);\n",
              "      filter: drop-shadow(0px 1px 2px rgba(0, 0, 0, 0.3));\n",
              "      fill: #FFFFFF;\n",
              "    }\n",
              "  </style>\n",
              "\n",
              "      <script>\n",
              "        const buttonEl =\n",
              "          document.querySelector('#df-1821f056-0847-4d43-ac0d-faec5e282dfa button.colab-df-convert');\n",
              "        buttonEl.style.display =\n",
              "          google.colab.kernel.accessAllowed ? 'block' : 'none';\n",
              "\n",
              "        async function convertToInteractive(key) {\n",
              "          const element = document.querySelector('#df-1821f056-0847-4d43-ac0d-faec5e282dfa');\n",
              "          const dataTable =\n",
              "            await google.colab.kernel.invokeFunction('convertToInteractive',\n",
              "                                                     [key], {});\n",
              "          if (!dataTable) return;\n",
              "\n",
              "          const docLinkHtml = 'Like what you see? Visit the ' +\n",
              "            '<a target=\"_blank\" href=https://colab.research.google.com/notebooks/data_table.ipynb>data table notebook</a>'\n",
              "            + ' to learn more about interactive tables.';\n",
              "          element.innerHTML = '';\n",
              "          dataTable['output_type'] = 'display_data';\n",
              "          await google.colab.output.renderOutput(dataTable, element);\n",
              "          const docLink = document.createElement('div');\n",
              "          docLink.innerHTML = docLinkHtml;\n",
              "          element.appendChild(docLink);\n",
              "        }\n",
              "      </script>\n",
              "    </div>\n",
              "  </div>\n",
              "  "
            ]
          },
          "metadata": {},
          "execution_count": 84
        }
      ]
    },
    {
      "cell_type": "code",
      "source": [
        "df.info()"
      ],
      "metadata": {
        "colab": {
          "base_uri": "https://localhost:8080/"
        },
        "id": "84vIdIVNk06E",
        "outputId": "4a514e4b-7c9f-43ea-c67d-f710e4dc3755"
      },
      "execution_count": null,
      "outputs": [
        {
          "output_type": "stream",
          "name": "stdout",
          "text": [
            "<class 'pandas.core.frame.DataFrame'>\n",
            "Int64Index: 7906 entries, 0 to 8127\n",
            "Data columns (total 48 columns):\n",
            " #   Column                        Non-Null Count  Dtype  \n",
            "---  ------                        --------------  -----  \n",
            " 0   year                          7906 non-null   int64  \n",
            " 1   selling_price                 7906 non-null   int64  \n",
            " 2   km_driven                     7906 non-null   int64  \n",
            " 3   mileage                       7906 non-null   float64\n",
            " 4   engine                        7906 non-null   float32\n",
            " 5   max_power                     7906 non-null   float64\n",
            " 6   torque                        7906 non-null   float64\n",
            " 7   seats                         7906 non-null   float64\n",
            " 8   name_Ashok                    7906 non-null   uint8  \n",
            " 9   name_Audi                     7906 non-null   uint8  \n",
            " 10  name_BMW                      7906 non-null   uint8  \n",
            " 11  name_Chevrolet                7906 non-null   uint8  \n",
            " 12  name_Daewoo                   7906 non-null   uint8  \n",
            " 13  name_Datsun                   7906 non-null   uint8  \n",
            " 14  name_Fiat                     7906 non-null   uint8  \n",
            " 15  name_Force                    7906 non-null   uint8  \n",
            " 16  name_Ford                     7906 non-null   uint8  \n",
            " 17  name_Honda                    7906 non-null   uint8  \n",
            " 18  name_Hyundai                  7906 non-null   uint8  \n",
            " 19  name_Isuzu                    7906 non-null   uint8  \n",
            " 20  name_Jaguar                   7906 non-null   uint8  \n",
            " 21  name_Jeep                     7906 non-null   uint8  \n",
            " 22  name_Kia                      7906 non-null   uint8  \n",
            " 23  name_Land Rover               7906 non-null   uint8  \n",
            " 24  name_Lexus                    7906 non-null   uint8  \n",
            " 25  name_MG                       7906 non-null   uint8  \n",
            " 26  name_Mahindra                 7906 non-null   uint8  \n",
            " 27  name_Maruti                   7906 non-null   uint8  \n",
            " 28  name_Mercedes-Benz            7906 non-null   uint8  \n",
            " 29  name_Mitsubishi               7906 non-null   uint8  \n",
            " 30  name_Nissan                   7906 non-null   uint8  \n",
            " 31  name_Opel                     7906 non-null   uint8  \n",
            " 32  name_Renault                  7906 non-null   uint8  \n",
            " 33  name_Skoda                    7906 non-null   uint8  \n",
            " 34  name_Tata                     7906 non-null   uint8  \n",
            " 35  name_Toyota                   7906 non-null   uint8  \n",
            " 36  name_Volkswagen               7906 non-null   uint8  \n",
            " 37  name_Volvo                    7906 non-null   uint8  \n",
            " 38  fuel_Diesel                   7906 non-null   uint8  \n",
            " 39  fuel_LPG                      7906 non-null   uint8  \n",
            " 40  fuel_Petrol                   7906 non-null   uint8  \n",
            " 41  seller_type_Individual        7906 non-null   uint8  \n",
            " 42  seller_type_Trustmark Dealer  7906 non-null   uint8  \n",
            " 43  transmission_Manual           7906 non-null   uint8  \n",
            " 44  owner_Fourth & Above Owner    7906 non-null   uint8  \n",
            " 45  owner_Second Owner            7906 non-null   uint8  \n",
            " 46  owner_Test Drive Car          7906 non-null   uint8  \n",
            " 47  owner_Third Owner             7906 non-null   uint8  \n",
            "dtypes: float32(1), float64(4), int64(3), uint8(40)\n",
            "memory usage: 833.8 KB\n"
          ]
        }
      ]
    },
    {
      "cell_type": "markdown",
      "source": [
        "## 훈련셋 & 시험셋"
      ],
      "metadata": {
        "id": "lyuZGqKuk8yp"
      }
    },
    {
      "cell_type": "code",
      "source": [
        "from sklearn.model_selection import train_test_split"
      ],
      "metadata": {
        "id": "O1X_ThOWp6Je"
      },
      "execution_count": null,
      "outputs": []
    },
    {
      "cell_type": "code",
      "source": [
        "df.info() # selling_price 목표값, 종속변수 y"
      ],
      "metadata": {
        "id": "2vYp_JkJqBBX",
        "colab": {
          "base_uri": "https://localhost:8080/"
        },
        "outputId": "cdc190a7-be06-494e-c0c3-a80a954cc7d2"
      },
      "execution_count": null,
      "outputs": [
        {
          "output_type": "stream",
          "name": "stdout",
          "text": [
            "<class 'pandas.core.frame.DataFrame'>\n",
            "Int64Index: 7906 entries, 0 to 8127\n",
            "Data columns (total 48 columns):\n",
            " #   Column                        Non-Null Count  Dtype  \n",
            "---  ------                        --------------  -----  \n",
            " 0   year                          7906 non-null   int64  \n",
            " 1   selling_price                 7906 non-null   int64  \n",
            " 2   km_driven                     7906 non-null   int64  \n",
            " 3   mileage                       7906 non-null   float64\n",
            " 4   engine                        7906 non-null   float32\n",
            " 5   max_power                     7906 non-null   float64\n",
            " 6   torque                        7906 non-null   float64\n",
            " 7   seats                         7906 non-null   float64\n",
            " 8   name_Ashok                    7906 non-null   uint8  \n",
            " 9   name_Audi                     7906 non-null   uint8  \n",
            " 10  name_BMW                      7906 non-null   uint8  \n",
            " 11  name_Chevrolet                7906 non-null   uint8  \n",
            " 12  name_Daewoo                   7906 non-null   uint8  \n",
            " 13  name_Datsun                   7906 non-null   uint8  \n",
            " 14  name_Fiat                     7906 non-null   uint8  \n",
            " 15  name_Force                    7906 non-null   uint8  \n",
            " 16  name_Ford                     7906 non-null   uint8  \n",
            " 17  name_Honda                    7906 non-null   uint8  \n",
            " 18  name_Hyundai                  7906 non-null   uint8  \n",
            " 19  name_Isuzu                    7906 non-null   uint8  \n",
            " 20  name_Jaguar                   7906 non-null   uint8  \n",
            " 21  name_Jeep                     7906 non-null   uint8  \n",
            " 22  name_Kia                      7906 non-null   uint8  \n",
            " 23  name_Land Rover               7906 non-null   uint8  \n",
            " 24  name_Lexus                    7906 non-null   uint8  \n",
            " 25  name_MG                       7906 non-null   uint8  \n",
            " 26  name_Mahindra                 7906 non-null   uint8  \n",
            " 27  name_Maruti                   7906 non-null   uint8  \n",
            " 28  name_Mercedes-Benz            7906 non-null   uint8  \n",
            " 29  name_Mitsubishi               7906 non-null   uint8  \n",
            " 30  name_Nissan                   7906 non-null   uint8  \n",
            " 31  name_Opel                     7906 non-null   uint8  \n",
            " 32  name_Renault                  7906 non-null   uint8  \n",
            " 33  name_Skoda                    7906 non-null   uint8  \n",
            " 34  name_Tata                     7906 non-null   uint8  \n",
            " 35  name_Toyota                   7906 non-null   uint8  \n",
            " 36  name_Volkswagen               7906 non-null   uint8  \n",
            " 37  name_Volvo                    7906 non-null   uint8  \n",
            " 38  fuel_Diesel                   7906 non-null   uint8  \n",
            " 39  fuel_LPG                      7906 non-null   uint8  \n",
            " 40  fuel_Petrol                   7906 non-null   uint8  \n",
            " 41  seller_type_Individual        7906 non-null   uint8  \n",
            " 42  seller_type_Trustmark Dealer  7906 non-null   uint8  \n",
            " 43  transmission_Manual           7906 non-null   uint8  \n",
            " 44  owner_Fourth & Above Owner    7906 non-null   uint8  \n",
            " 45  owner_Second Owner            7906 non-null   uint8  \n",
            " 46  owner_Test Drive Car          7906 non-null   uint8  \n",
            " 47  owner_Third Owner             7906 non-null   uint8  \n",
            "dtypes: float32(1), float64(4), int64(3), uint8(40)\n",
            "memory usage: 833.8 KB\n"
          ]
        }
      ]
    },
    {
      "cell_type": "code",
      "source": [
        "X = df.drop('selling_price', axis=1)\n",
        "y = df.selling_price"
      ],
      "metadata": {
        "id": "MxgS9ac4qKmy"
      },
      "execution_count": null,
      "outputs": []
    },
    {
      "cell_type": "code",
      "source": [
        "X_train, X_test, y_train, y_test = train_test_split(\n",
        "    X, y, test_size=0.2, random_state=22\n",
        ")"
      ],
      "metadata": {
        "id": "7wrxSx8fqSuu"
      },
      "execution_count": null,
      "outputs": []
    },
    {
      "cell_type": "markdown",
      "source": [
        "# 모델링 및 평가"
      ],
      "metadata": {
        "id": "1ikoQjz-qfMm"
      }
    },
    {
      "cell_type": "code",
      "source": [
        "# 연속형 : RandomForestRegressor\n",
        "# 범주형 : RandomForestClassifier\n",
        "from sklearn.ensemble import RandomForestRegressor"
      ],
      "metadata": {
        "id": "0XUmfsS-qejt"
      },
      "execution_count": null,
      "outputs": []
    },
    {
      "cell_type": "code",
      "source": [
        "model = RandomForestRegressor(random_state=22)"
      ],
      "metadata": {
        "id": "EUpR9uiFqsae"
      },
      "execution_count": null,
      "outputs": []
    },
    {
      "cell_type": "code",
      "source": [
        "model.fit(X_train, y_train)"
      ],
      "metadata": {
        "colab": {
          "base_uri": "https://localhost:8080/",
          "height": 74
        },
        "id": "_uEuPs_Vq0EW",
        "outputId": "27a4cecc-6fb1-473a-8e55-4d7b9336aca4"
      },
      "execution_count": null,
      "outputs": [
        {
          "output_type": "execute_result",
          "data": {
            "text/plain": [
              "RandomForestRegressor(random_state=22)"
            ],
            "text/html": [
              "<style>#sk-container-id-1 {color: black;background-color: white;}#sk-container-id-1 pre{padding: 0;}#sk-container-id-1 div.sk-toggleable {background-color: white;}#sk-container-id-1 label.sk-toggleable__label {cursor: pointer;display: block;width: 100%;margin-bottom: 0;padding: 0.3em;box-sizing: border-box;text-align: center;}#sk-container-id-1 label.sk-toggleable__label-arrow:before {content: \"▸\";float: left;margin-right: 0.25em;color: #696969;}#sk-container-id-1 label.sk-toggleable__label-arrow:hover:before {color: black;}#sk-container-id-1 div.sk-estimator:hover label.sk-toggleable__label-arrow:before {color: black;}#sk-container-id-1 div.sk-toggleable__content {max-height: 0;max-width: 0;overflow: hidden;text-align: left;background-color: #f0f8ff;}#sk-container-id-1 div.sk-toggleable__content pre {margin: 0.2em;color: black;border-radius: 0.25em;background-color: #f0f8ff;}#sk-container-id-1 input.sk-toggleable__control:checked~div.sk-toggleable__content {max-height: 200px;max-width: 100%;overflow: auto;}#sk-container-id-1 input.sk-toggleable__control:checked~label.sk-toggleable__label-arrow:before {content: \"▾\";}#sk-container-id-1 div.sk-estimator input.sk-toggleable__control:checked~label.sk-toggleable__label {background-color: #d4ebff;}#sk-container-id-1 div.sk-label input.sk-toggleable__control:checked~label.sk-toggleable__label {background-color: #d4ebff;}#sk-container-id-1 input.sk-hidden--visually {border: 0;clip: rect(1px 1px 1px 1px);clip: rect(1px, 1px, 1px, 1px);height: 1px;margin: -1px;overflow: hidden;padding: 0;position: absolute;width: 1px;}#sk-container-id-1 div.sk-estimator {font-family: monospace;background-color: #f0f8ff;border: 1px dotted black;border-radius: 0.25em;box-sizing: border-box;margin-bottom: 0.5em;}#sk-container-id-1 div.sk-estimator:hover {background-color: #d4ebff;}#sk-container-id-1 div.sk-parallel-item::after {content: \"\";width: 100%;border-bottom: 1px solid gray;flex-grow: 1;}#sk-container-id-1 div.sk-label:hover label.sk-toggleable__label {background-color: #d4ebff;}#sk-container-id-1 div.sk-serial::before {content: \"\";position: absolute;border-left: 1px solid gray;box-sizing: border-box;top: 0;bottom: 0;left: 50%;z-index: 0;}#sk-container-id-1 div.sk-serial {display: flex;flex-direction: column;align-items: center;background-color: white;padding-right: 0.2em;padding-left: 0.2em;position: relative;}#sk-container-id-1 div.sk-item {position: relative;z-index: 1;}#sk-container-id-1 div.sk-parallel {display: flex;align-items: stretch;justify-content: center;background-color: white;position: relative;}#sk-container-id-1 div.sk-item::before, #sk-container-id-1 div.sk-parallel-item::before {content: \"\";position: absolute;border-left: 1px solid gray;box-sizing: border-box;top: 0;bottom: 0;left: 50%;z-index: -1;}#sk-container-id-1 div.sk-parallel-item {display: flex;flex-direction: column;z-index: 1;position: relative;background-color: white;}#sk-container-id-1 div.sk-parallel-item:first-child::after {align-self: flex-end;width: 50%;}#sk-container-id-1 div.sk-parallel-item:last-child::after {align-self: flex-start;width: 50%;}#sk-container-id-1 div.sk-parallel-item:only-child::after {width: 0;}#sk-container-id-1 div.sk-dashed-wrapped {border: 1px dashed gray;margin: 0 0.4em 0.5em 0.4em;box-sizing: border-box;padding-bottom: 0.4em;background-color: white;}#sk-container-id-1 div.sk-label label {font-family: monospace;font-weight: bold;display: inline-block;line-height: 1.2em;}#sk-container-id-1 div.sk-label-container {text-align: center;}#sk-container-id-1 div.sk-container {/* jupyter's `normalize.less` sets `[hidden] { display: none; }` but bootstrap.min.css set `[hidden] { display: none !important; }` so we also need the `!important` here to be able to override the default hidden behavior on the sphinx rendered scikit-learn.org. See: https://github.com/scikit-learn/scikit-learn/issues/21755 */display: inline-block !important;position: relative;}#sk-container-id-1 div.sk-text-repr-fallback {display: none;}</style><div id=\"sk-container-id-1\" class=\"sk-top-container\"><div class=\"sk-text-repr-fallback\"><pre>RandomForestRegressor(random_state=22)</pre><b>In a Jupyter environment, please rerun this cell to show the HTML representation or trust the notebook. <br />On GitHub, the HTML representation is unable to render, please try loading this page with nbviewer.org.</b></div><div class=\"sk-container\" hidden><div class=\"sk-item\"><div class=\"sk-estimator sk-toggleable\"><input class=\"sk-toggleable__control sk-hidden--visually\" id=\"sk-estimator-id-1\" type=\"checkbox\" checked><label for=\"sk-estimator-id-1\" class=\"sk-toggleable__label sk-toggleable__label-arrow\">RandomForestRegressor</label><div class=\"sk-toggleable__content\"><pre>RandomForestRegressor(random_state=22)</pre></div></div></div></div></div>"
            ]
          },
          "metadata": {},
          "execution_count": 91
        }
      ]
    },
    {
      "cell_type": "code",
      "source": [
        "# 훈련셋 예측 -> 과최적화, 과적합 (Over-fitting)\n",
        "train_pred = model.predict(X_train)\n",
        "test_pred = model.predict(X_test) # 시험셋 예측\n",
        "# 1. train_pred은 높은데 test_pred는 그만큼 안높을 때 (오버피팅)\n",
        "# 2. train_pred가 낮을 때 (언더피팅)"
      ],
      "metadata": {
        "id": "jkelR2Ugq4fF"
      },
      "execution_count": null,
      "outputs": []
    },
    {
      "cell_type": "code",
      "source": [
        "from sklearn.metrics import mean_squared_error\n",
        "\n",
        "print(\n",
        "    f\"train_rmse : {mean_squared_error(y_train, train_pred, squared=False)}\",\n",
        "    f\"test_rmse : {mean_squared_error(y_test, test_pred, squared=False)}\",\n",
        ")\n",
        "\n",
        "# train_test_split -> 어떻게 뽑히냐에 따라서 모델/시험에 모두 영향"
      ],
      "metadata": {
        "colab": {
          "base_uri": "https://localhost:8080/"
        },
        "id": "rrxRjaqCrYT4",
        "outputId": "5f11661d-e0a6-4c2c-cca1-ac16a0212152"
      },
      "execution_count": null,
      "outputs": [
        {
          "output_type": "stream",
          "name": "stdout",
          "text": [
            "train_rmse : 56908.89876028095 test_rmse : 115475.75458024719\n"
          ]
        }
      ]
    },
    {
      "cell_type": "markdown",
      "source": [
        "## K-Fold 교차검증\n",
        "* 교차검증 : `train_test_split` 훈련셋 & 시험셋 -> random_state. ??? 1버전의 훈련셋?<br> 다양한 훈련셋/시험셋을 통해서 모델의 신뢰성을 높이기 위한 평가 과정\n",
        "* K-폴드 교차검증 : 데이터를 K개를 쪼개어 그 중에 하나를 시험셋으로 선택하는 과정을 반복 -> 평균치.\n",
        "\n",
        "| A | B | C | D | E |\n",
        "|-|-|-|-|-|\n",
        "|훈|훈|훈|훈|시|\n",
        "|훈|훈|훈|시|훈|\n",
        "|훈|훈|시|훈|훈|\n",
        "|훈|시|훈|훈|훈|\n",
        "|시|훈|훈|훈|훈|\n",
        "\n",
        "=> accurance_score? rmse? => 평균\n",
        "\n",
        "* https://continuous-development.tistory.com/166?category=736685"
      ],
      "metadata": {
        "id": "qvKdOhxesLNu"
      }
    },
    {
      "cell_type": "code",
      "source": [
        "from sklearn.model_selection import KFold"
      ],
      "metadata": {
        "id": "6l_PvC_hs-9h"
      },
      "execution_count": null,
      "outputs": []
    },
    {
      "cell_type": "code",
      "source": [
        "# K Fold는 index를 기준으로 나눠줌\n",
        "df.index # 삭제된 인덱스 자리가 있음"
      ],
      "metadata": {
        "colab": {
          "base_uri": "https://localhost:8080/"
        },
        "id": "lmS8Er39tHDm",
        "outputId": "8471434a-d844-4c70-b0ad-28371721a725"
      },
      "execution_count": null,
      "outputs": [
        {
          "output_type": "execute_result",
          "data": {
            "text/plain": [
              "Int64Index([   0,    1,    2,    3,    4,    5,    6,    7,    8,    9,\n",
              "            ...\n",
              "            8118, 8119, 8120, 8121, 8122, 8123, 8124, 8125, 8126, 8127],\n",
              "           dtype='int64', length=7906)"
            ]
          },
          "metadata": {},
          "execution_count": 95
        }
      ]
    },
    {
      "cell_type": "code",
      "source": [
        "df.reset_index() # 인덱스가 열로 빠져나오고, 정수 인덱스가 새로 지정됨\n",
        "df.reset_index(drop=True) # 인덱스가 바로 삭제되고, ...\n",
        "df.reset_index(drop=True, inplace=True) # 바로 원본을 바꾸고 싶다"
      ],
      "metadata": {
        "id": "5UG9rwe3tTbZ"
      },
      "execution_count": null,
      "outputs": []
    },
    {
      "cell_type": "code",
      "source": [
        "df.index"
      ],
      "metadata": {
        "colab": {
          "base_uri": "https://localhost:8080/"
        },
        "id": "9s4VubZTtzZU",
        "outputId": "4ac629df-f85d-42a1-f782-b25f5275f228"
      },
      "execution_count": null,
      "outputs": [
        {
          "output_type": "execute_result",
          "data": {
            "text/plain": [
              "RangeIndex(start=0, stop=7906, step=1)"
            ]
          },
          "metadata": {},
          "execution_count": 97
        }
      ]
    },
    {
      "cell_type": "code",
      "source": [
        "# kf = KFold()\n",
        "# kf = KFold(5)\n",
        "kf = KFold(n_splits=5)"
      ],
      "metadata": {
        "id": "V0FTpYdKt74y"
      },
      "execution_count": null,
      "outputs": []
    },
    {
      "cell_type": "code",
      "source": [
        "X = df.drop('selling_price', axis=1)\n",
        "y = df.selling_price"
      ],
      "metadata": {
        "id": "sKDT-SDJuDv5"
      },
      "execution_count": null,
      "outputs": []
    },
    {
      "cell_type": "code",
      "source": [
        "list(kf.split(X))\n",
        "# (훈련셋, 시험셋)"
      ],
      "metadata": {
        "id": "t0kaHePTuJ6N",
        "colab": {
          "base_uri": "https://localhost:8080/"
        },
        "outputId": "96e2b4e9-39b9-494f-9160-b35b2e4d181c"
      },
      "execution_count": null,
      "outputs": [
        {
          "output_type": "execute_result",
          "data": {
            "text/plain": [
              "[(array([1582, 1583, 1584, ..., 7903, 7904, 7905]),\n",
              "  array([   0,    1,    2, ..., 1579, 1580, 1581])),\n",
              " (array([   0,    1,    2, ..., 7903, 7904, 7905]),\n",
              "  array([1582, 1583, 1584, ..., 3160, 3161, 3162])),\n",
              " (array([   0,    1,    2, ..., 7903, 7904, 7905]),\n",
              "  array([3163, 3164, 3165, ..., 4741, 4742, 4743])),\n",
              " (array([   0,    1,    2, ..., 7903, 7904, 7905]),\n",
              "  array([4744, 4745, 4746, ..., 6322, 6323, 6324])),\n",
              " (array([   0,    1,    2, ..., 6322, 6323, 6324]),\n",
              "  array([6325, 6326, 6327, ..., 7903, 7904, 7905]))]"
            ]
          },
          "metadata": {},
          "execution_count": 100
        }
      ]
    },
    {
      "cell_type": "code",
      "source": [
        "# unpacking -> 나열된 n개 이상의 데이터 => n개만큼 변수를 주면\n",
        "# 해당 변수로 대입되서 처리\n",
        "for i, j in kf.split(X):\n",
        "    print(f\"i : {i}\") # 훈련셋으로 쓰일 데이터의 인덱스\n",
        "    print(f\"j : {j}\") # 시험셋으로 쓰일 데이터의 인덱스"
      ],
      "metadata": {
        "id": "9oQEZHK_upJX",
        "colab": {
          "base_uri": "https://localhost:8080/"
        },
        "outputId": "1ab60c16-c9eb-48ab-dece-3364068864ab"
      },
      "execution_count": null,
      "outputs": [
        {
          "output_type": "stream",
          "name": "stdout",
          "text": [
            "i : [1582 1583 1584 ... 7903 7904 7905]\n",
            "j : [   0    1    2 ... 1579 1580 1581]\n",
            "i : [   0    1    2 ... 7903 7904 7905]\n",
            "j : [1582 1583 1584 ... 3160 3161 3162]\n",
            "i : [   0    1    2 ... 7903 7904 7905]\n",
            "j : [3163 3164 3165 ... 4741 4742 4743]\n",
            "i : [   0    1    2 ... 7903 7904 7905]\n",
            "j : [4744 4745 4746 ... 6322 6323 6324]\n",
            "i : [   0    1    2 ... 6322 6323 6324]\n",
            "j : [6325 6326 6327 ... 7903 7904 7905]\n"
          ]
        }
      ]
    },
    {
      "cell_type": "code",
      "source": [
        "train_rmse_total = [] # 훈련 데이터를 대상으로 한 rmse 리스트 -> 이후에 평균낼 거임\n",
        "test_rmse_total = [] # 시험 데이터를 대상으로 한 rmse 리스트 -> 이후에 평균낼 거임\n",
        "# 5개의 모델이 생성 -> 5개 모델간 평균 오차 (회귀) 혹은 정확도(분류)를 보는 것\n",
        "\n",
        "# kf 객체를 사용해서 5등분한 데이터 인덱스를 사용해서\n",
        "# 5번 모델링을 하고, 해당 모델들의 rmse (훈련셋, 시험셋)을 모두 모아주는 것\n",
        "for train_index, test_index in kf.split(X): # 반복 <- 5기준으로 나뉜 K-Fold\n",
        "    # df.loc[행인덱스] -> 해당 행인덱스의 값만 조회\n",
        "    X_train, X_test = X.loc[train_index], X.loc[test_index] # 독립변수들의 훈련셋/시험셋\n",
        "    y_train, y_test = y[train_index], y[test_index] # 종속변수의 훈련셋/시험셋\n",
        "\n",
        "    model = RandomForestRegressor(random_state=100)\n",
        "    model.fit(X_train, y_train) # 학습\n",
        "    train_pred = model.predict(X_train) # 훈련셋 예측 (잘 학습되었나? 과최적화, 오버피팅?)\n",
        "    test_pred = model.predict(X_test) # 시험셋 예측 (잘 예측하나?, 언더피팅)\n",
        "\n",
        "    train_rmse = mean_squared_error(y_train, train_pred, squared=False)\n",
        "    test_rmse = mean_squared_error(y_test, test_pred) ** 0.5 # ** 1/2\n",
        "    \n",
        "    train_rmse_total.append(train_rmse)\n",
        "    test_rmse_total.append(test_rmse)"
      ],
      "metadata": {
        "id": "_Lr7DvOCvEmB"
      },
      "execution_count": null,
      "outputs": []
    },
    {
      "cell_type": "code",
      "source": [
        "train_rmse_total, test_rmse_total"
      ],
      "metadata": {
        "colab": {
          "base_uri": "https://localhost:8080/"
        },
        "id": "SnF5nKHMwH46",
        "outputId": "037f77e0-9610-4b8a-8864-a7e61a1e9e54"
      },
      "execution_count": null,
      "outputs": [
        {
          "output_type": "execute_result",
          "data": {
            "text/plain": [
              "([50825.5556350298,\n",
              "  58854.04054344074,\n",
              "  57904.19615940739,\n",
              "  56218.23740006373,\n",
              "  58967.150857632456],\n",
              " [160158.9215153142,\n",
              "  135224.1522128581,\n",
              "  122115.51562163295,\n",
              "  154739.53615967772,\n",
              "  142444.82040271905])"
            ]
          },
          "metadata": {},
          "execution_count": 102
        }
      ]
    },
    {
      "cell_type": "code",
      "source": [
        "print(\n",
        "    # 실제값, 예측값 -> 에러를 비교\n",
        "    \"train_rmse : \", sum(train_rmse_total) / len(train_rmse_total),\n",
        "    \"test_rmse : \", sum(test_rmse_total) / len(test_rmse_total)\n",
        ")"
      ],
      "metadata": {
        "colab": {
          "base_uri": "https://localhost:8080/"
        },
        "id": "l7iGfE4qwPce",
        "outputId": "a616436f-3ed5-4406-c5f3-4964dd553259"
      },
      "execution_count": null,
      "outputs": [
        {
          "output_type": "stream",
          "name": "stdout",
          "text": [
            "train_rmse :  56553.836119114814 test_rmse :  142936.58918244042\n"
          ]
        }
      ]
    },
    {
      "cell_type": "markdown",
      "source": [
        "## 하이퍼 패러미터 튜닝\n",
        "* n_estimators (기본값 100): 랜덤 포레스트를 구성하는 결정트리 개수\n",
        "    - 너무 많거나 너무 적으면? : 성능과 예측력에 영향\n",
        "* max_depth (결정 트리 유사) : 각 트리의 최대 깊이(단계)\n",
        "    - 오버피팅/언더피팅 : max_depth 커지면? - 오버피팅, 작으면 - 언더피팅(학습이 잘 안됐다.)\n",
        "* min_samples_split : 이 숫자보다 작으면 더 이상 나누지 않음 (오버피팅 방지용)\n",
        "* min_samples_leaf : (최종적으로 나눠질) 최소 몇 개의 데이터가 노드에 속하게 할 것인지\n",
        "* n_jobs : 병렬 처리 시 사용할 CPU 코어 수 (**-1** = 해당 기기/서버가 가지고 있는 최대 CPU 사용하겠다는 의미)"
      ],
      "metadata": {
        "id": "ymLa9fsb3eLI"
      }
    },
    {
      "cell_type": "code",
      "source": [
        "from tqdm.\n",
        "\n",
        "# 하이퍼 패러미터 조정 + K-FOLD\n",
        "\n",
        "train_rmse_total = []\n",
        "test_rmse_total = []\n",
        "\n",
        "for train_index, test_index in kf.split(X): # 반복 <- 5기준으로 나뉜 K-Fold\n",
        "    X_train, X_test = X.loc[train_index], X.loc[test_index] # 독립변수들의 훈련셋/시험셋\n",
        "    y_train, y_test = y[train_index], y[test_index] # 종속변수의 훈련셋/시험셋\n",
        "\n",
        "    model = RandomForestRegressor(\n",
        "        n_estimators = 300,\n",
        "        max_depth = 50,\n",
        "        min_samples_split = 5,\n",
        "        min_samples_leaf = 1,\n",
        "        n_jobs= -1,\n",
        "        random_state = 100\n",
        "    )\n",
        "\n",
        "    model.fit(X_train, y_train) # 학습\n",
        "    train_pred = model.predict(X_train) # 훈련셋 예측 (잘 학습되었나? 과최적화, 오버피팅?)\n",
        "    test_pred = model.predict(X_test) # 시험셋 예측 (잘 예측하나?, 언더피팅)\n",
        "\n",
        "    train_rmse = mean_squared_error(y_train, train_pred, squared=False)\n",
        "    test_rmse = mean_squared_error(y_test, test_pred) ** 0.5 # ** 1/2\n",
        "    \n",
        "    train_rmse_total.append(train_rmse)\n",
        "    test_rmse_total.append(test_rmse)"
      ],
      "metadata": {
        "id": "pA38T1gW4PAD"
      },
      "execution_count": null,
      "outputs": []
    },
    {
      "cell_type": "code",
      "source": [
        "print(\n",
        "    # 실제값, 예측값 -> 에러를 비교\n",
        "    \"train_rmse : \", sum(train_rmse_total) / len(train_rmse_total),\n",
        "    \"test_rmse : \", sum(test_rmse_total) / len(test_rmse_total)\n",
        ")"
      ],
      "metadata": {
        "colab": {
          "base_uri": "https://localhost:8080/"
        },
        "id": "gLzj6V3D4j64",
        "outputId": "bf9bcf16-6a48-4ec5-cb52-f612461661b8"
      },
      "execution_count": null,
      "outputs": [
        {
          "output_type": "stream",
          "name": "stdout",
          "text": [
            "train_rmse :  66762.84568886801 test_rmse :  142205.83441414658\n"
          ]
        }
      ]
    }
  ]
}