{
  "nbformat": 4,
  "nbformat_minor": 0,
  "metadata": {
    "colab": {
      "provenance": [],
      "collapsed_sections": [
        "br7-xAVo-DZG",
        "fynb9DPGfKZK"
      ],
      "include_colab_link": true
    },
    "kernelspec": {
      "name": "python3",
      "display_name": "Python 3"
    },
    "language_info": {
      "name": "python"
    }
  },
  "cells": [
    {
      "cell_type": "markdown",
      "metadata": {
        "id": "view-in-github",
        "colab_type": "text"
      },
      "source": [
        "<a href=\"https://colab.research.google.com/github/whataLIN/MachineLearning/blob/main/whataLIN/ch08_ML_07_XGBoost.ipynb\" target=\"_parent\"><img src=\"https://colab.research.google.com/assets/colab-badge.svg\" alt=\"Open In Colab\"/></a>"
      ]
    },
    {
      "cell_type": "code",
      "execution_count": 90,
      "metadata": {
        "id": "Cw31qU5UqzAJ"
      },
      "outputs": [],
      "source": [
        "import pandas as pd\n",
        "import numpy as np\n",
        "import matplotlib.pyplot as plt\n",
        "import seaborn as sns"
      ]
    },
    {
      "cell_type": "code",
      "source": [
        "# https://www.kaggle.com/datasets/annavictoria/speed-dating-experiment\n",
        "# https://github.com/BigData23th/Data/raw/main/dating.csv\n",
        "df = pd.read_csv(\"https://github.com/BigData23th/Data/raw/main/dating.csv\")\n",
        "df"
      ],
      "metadata": {
        "colab": {
          "base_uri": "https://localhost:8080/",
          "height": 661
        },
        "id": "CY5aUxTAxflW",
        "outputId": "8bcd2695-5ca2-4e2f-d865-9172d214d858"
      },
      "execution_count": 91,
      "outputs": [
        {
          "output_type": "execute_result",
          "data": {
            "text/plain": [
              "      has_null  gender   age  age_o                                  race  \\\n",
              "0            0  female 21.00  27.00  Asian/PacificIslander/Asian-American   \n",
              "1            0  female 21.00  22.00  Asian/PacificIslander/Asian-American   \n",
              "2            1  female 21.00  22.00  Asian/PacificIslander/Asian-American   \n",
              "3            0  female 21.00  23.00  Asian/PacificIslander/Asian-American   \n",
              "4            0  female 21.00  24.00  Asian/PacificIslander/Asian-American   \n",
              "...        ...     ...   ...    ...                                   ...   \n",
              "8373         1    male 25.00  26.00           European/Caucasian-American   \n",
              "8374         1    male 25.00  24.00           European/Caucasian-American   \n",
              "8375         1    male 25.00  29.00           European/Caucasian-American   \n",
              "8376         1    male 25.00  22.00           European/Caucasian-American   \n",
              "8377         1    male 25.00  22.00           European/Caucasian-American   \n",
              "\n",
              "                                    race_o  importance_same_race  \\\n",
              "0              European/Caucasian-American                  2.00   \n",
              "1              European/Caucasian-American                  2.00   \n",
              "2     Asian/PacificIslander/Asian-American                  2.00   \n",
              "3              European/Caucasian-American                  2.00   \n",
              "4                  Latino/HispanicAmerican                  2.00   \n",
              "...                                    ...                   ...   \n",
              "8373               Latino/HispanicAmerican                  1.00   \n",
              "8374                                 Other                  1.00   \n",
              "8375               Latino/HispanicAmerican                  1.00   \n",
              "8376  Asian/PacificIslander/Asian-American                  1.00   \n",
              "8377  Asian/PacificIslander/Asian-American                  1.00   \n",
              "\n",
              "      importance_same_religion  pref_o_attractive  pref_o_sincere  ...  \\\n",
              "0                         4.00              35.00           20.00  ...   \n",
              "1                         4.00              60.00            0.00  ...   \n",
              "2                         4.00              19.00           18.00  ...   \n",
              "3                         4.00              30.00            5.00  ...   \n",
              "4                         4.00              30.00           10.00  ...   \n",
              "...                        ...                ...             ...  ...   \n",
              "8373                      1.00              10.00           10.00  ...   \n",
              "8374                      1.00              50.00           20.00  ...   \n",
              "8375                      1.00              40.00           10.00  ...   \n",
              "8376                      1.00              10.00           25.00  ...   \n",
              "8377                      1.00              20.00           20.00  ...   \n",
              "\n",
              "      funny_partner  ambition_partner  shared_interests_partner  \\\n",
              "0              7.00              6.00                      5.00   \n",
              "1              8.00              5.00                      6.00   \n",
              "2              8.00              5.00                      7.00   \n",
              "3              7.00              6.00                      8.00   \n",
              "4              7.00              6.00                      6.00   \n",
              "...             ...               ...                       ...   \n",
              "8373           5.00               NaN                       NaN   \n",
              "8374           4.00              4.00                       NaN   \n",
              "8375           8.00              8.00                       NaN   \n",
              "8376           4.00               NaN                      5.00   \n",
              "8377           4.00              8.00                      1.00   \n",
              "\n",
              "      interests_correlate  expected_happy_with_sd_people  \\\n",
              "0                    0.14                           3.00   \n",
              "1                    0.54                           3.00   \n",
              "2                    0.16                           3.00   \n",
              "3                    0.61                           3.00   \n",
              "4                    0.21                           3.00   \n",
              "...                   ...                            ...   \n",
              "8373                 0.64                          10.00   \n",
              "8374                 0.71                          10.00   \n",
              "8375                -0.46                          10.00   \n",
              "8376                 0.62                          10.00   \n",
              "8377                 0.01                          10.00   \n",
              "\n",
              "      expected_num_interested_in_me  like  guess_prob_liked  met  match  \n",
              "0                              2.00  7.00              6.00 0.00      0  \n",
              "1                              2.00  7.00              5.00 1.00      0  \n",
              "2                              2.00  7.00               NaN 1.00      1  \n",
              "3                              2.00  7.00              6.00 0.00      1  \n",
              "4                              2.00  6.00              6.00 0.00      1  \n",
              "...                             ...   ...               ...  ...    ...  \n",
              "8373                            NaN  2.00              5.00 0.00      0  \n",
              "8374                            NaN  4.00              4.00 0.00      0  \n",
              "8375                            NaN  6.00              5.00 0.00      0  \n",
              "8376                            NaN  5.00              5.00 0.00      0  \n",
              "8377                            NaN  4.00              5.00 0.00      0  \n",
              "\n",
              "[8378 rows x 39 columns]"
            ],
            "text/html": [
              "\n",
              "  <div id=\"df-30a87a32-20a4-4ad3-b5d4-bb088f3b1d5d\">\n",
              "    <div class=\"colab-df-container\">\n",
              "      <div>\n",
              "<style scoped>\n",
              "    .dataframe tbody tr th:only-of-type {\n",
              "        vertical-align: middle;\n",
              "    }\n",
              "\n",
              "    .dataframe tbody tr th {\n",
              "        vertical-align: top;\n",
              "    }\n",
              "\n",
              "    .dataframe thead th {\n",
              "        text-align: right;\n",
              "    }\n",
              "</style>\n",
              "<table border=\"1\" class=\"dataframe\">\n",
              "  <thead>\n",
              "    <tr style=\"text-align: right;\">\n",
              "      <th></th>\n",
              "      <th>has_null</th>\n",
              "      <th>gender</th>\n",
              "      <th>age</th>\n",
              "      <th>age_o</th>\n",
              "      <th>race</th>\n",
              "      <th>race_o</th>\n",
              "      <th>importance_same_race</th>\n",
              "      <th>importance_same_religion</th>\n",
              "      <th>pref_o_attractive</th>\n",
              "      <th>pref_o_sincere</th>\n",
              "      <th>...</th>\n",
              "      <th>funny_partner</th>\n",
              "      <th>ambition_partner</th>\n",
              "      <th>shared_interests_partner</th>\n",
              "      <th>interests_correlate</th>\n",
              "      <th>expected_happy_with_sd_people</th>\n",
              "      <th>expected_num_interested_in_me</th>\n",
              "      <th>like</th>\n",
              "      <th>guess_prob_liked</th>\n",
              "      <th>met</th>\n",
              "      <th>match</th>\n",
              "    </tr>\n",
              "  </thead>\n",
              "  <tbody>\n",
              "    <tr>\n",
              "      <th>0</th>\n",
              "      <td>0</td>\n",
              "      <td>female</td>\n",
              "      <td>21.00</td>\n",
              "      <td>27.00</td>\n",
              "      <td>Asian/PacificIslander/Asian-American</td>\n",
              "      <td>European/Caucasian-American</td>\n",
              "      <td>2.00</td>\n",
              "      <td>4.00</td>\n",
              "      <td>35.00</td>\n",
              "      <td>20.00</td>\n",
              "      <td>...</td>\n",
              "      <td>7.00</td>\n",
              "      <td>6.00</td>\n",
              "      <td>5.00</td>\n",
              "      <td>0.14</td>\n",
              "      <td>3.00</td>\n",
              "      <td>2.00</td>\n",
              "      <td>7.00</td>\n",
              "      <td>6.00</td>\n",
              "      <td>0.00</td>\n",
              "      <td>0</td>\n",
              "    </tr>\n",
              "    <tr>\n",
              "      <th>1</th>\n",
              "      <td>0</td>\n",
              "      <td>female</td>\n",
              "      <td>21.00</td>\n",
              "      <td>22.00</td>\n",
              "      <td>Asian/PacificIslander/Asian-American</td>\n",
              "      <td>European/Caucasian-American</td>\n",
              "      <td>2.00</td>\n",
              "      <td>4.00</td>\n",
              "      <td>60.00</td>\n",
              "      <td>0.00</td>\n",
              "      <td>...</td>\n",
              "      <td>8.00</td>\n",
              "      <td>5.00</td>\n",
              "      <td>6.00</td>\n",
              "      <td>0.54</td>\n",
              "      <td>3.00</td>\n",
              "      <td>2.00</td>\n",
              "      <td>7.00</td>\n",
              "      <td>5.00</td>\n",
              "      <td>1.00</td>\n",
              "      <td>0</td>\n",
              "    </tr>\n",
              "    <tr>\n",
              "      <th>2</th>\n",
              "      <td>1</td>\n",
              "      <td>female</td>\n",
              "      <td>21.00</td>\n",
              "      <td>22.00</td>\n",
              "      <td>Asian/PacificIslander/Asian-American</td>\n",
              "      <td>Asian/PacificIslander/Asian-American</td>\n",
              "      <td>2.00</td>\n",
              "      <td>4.00</td>\n",
              "      <td>19.00</td>\n",
              "      <td>18.00</td>\n",
              "      <td>...</td>\n",
              "      <td>8.00</td>\n",
              "      <td>5.00</td>\n",
              "      <td>7.00</td>\n",
              "      <td>0.16</td>\n",
              "      <td>3.00</td>\n",
              "      <td>2.00</td>\n",
              "      <td>7.00</td>\n",
              "      <td>NaN</td>\n",
              "      <td>1.00</td>\n",
              "      <td>1</td>\n",
              "    </tr>\n",
              "    <tr>\n",
              "      <th>3</th>\n",
              "      <td>0</td>\n",
              "      <td>female</td>\n",
              "      <td>21.00</td>\n",
              "      <td>23.00</td>\n",
              "      <td>Asian/PacificIslander/Asian-American</td>\n",
              "      <td>European/Caucasian-American</td>\n",
              "      <td>2.00</td>\n",
              "      <td>4.00</td>\n",
              "      <td>30.00</td>\n",
              "      <td>5.00</td>\n",
              "      <td>...</td>\n",
              "      <td>7.00</td>\n",
              "      <td>6.00</td>\n",
              "      <td>8.00</td>\n",
              "      <td>0.61</td>\n",
              "      <td>3.00</td>\n",
              "      <td>2.00</td>\n",
              "      <td>7.00</td>\n",
              "      <td>6.00</td>\n",
              "      <td>0.00</td>\n",
              "      <td>1</td>\n",
              "    </tr>\n",
              "    <tr>\n",
              "      <th>4</th>\n",
              "      <td>0</td>\n",
              "      <td>female</td>\n",
              "      <td>21.00</td>\n",
              "      <td>24.00</td>\n",
              "      <td>Asian/PacificIslander/Asian-American</td>\n",
              "      <td>Latino/HispanicAmerican</td>\n",
              "      <td>2.00</td>\n",
              "      <td>4.00</td>\n",
              "      <td>30.00</td>\n",
              "      <td>10.00</td>\n",
              "      <td>...</td>\n",
              "      <td>7.00</td>\n",
              "      <td>6.00</td>\n",
              "      <td>6.00</td>\n",
              "      <td>0.21</td>\n",
              "      <td>3.00</td>\n",
              "      <td>2.00</td>\n",
              "      <td>6.00</td>\n",
              "      <td>6.00</td>\n",
              "      <td>0.00</td>\n",
              "      <td>1</td>\n",
              "    </tr>\n",
              "    <tr>\n",
              "      <th>...</th>\n",
              "      <td>...</td>\n",
              "      <td>...</td>\n",
              "      <td>...</td>\n",
              "      <td>...</td>\n",
              "      <td>...</td>\n",
              "      <td>...</td>\n",
              "      <td>...</td>\n",
              "      <td>...</td>\n",
              "      <td>...</td>\n",
              "      <td>...</td>\n",
              "      <td>...</td>\n",
              "      <td>...</td>\n",
              "      <td>...</td>\n",
              "      <td>...</td>\n",
              "      <td>...</td>\n",
              "      <td>...</td>\n",
              "      <td>...</td>\n",
              "      <td>...</td>\n",
              "      <td>...</td>\n",
              "      <td>...</td>\n",
              "      <td>...</td>\n",
              "    </tr>\n",
              "    <tr>\n",
              "      <th>8373</th>\n",
              "      <td>1</td>\n",
              "      <td>male</td>\n",
              "      <td>25.00</td>\n",
              "      <td>26.00</td>\n",
              "      <td>European/Caucasian-American</td>\n",
              "      <td>Latino/HispanicAmerican</td>\n",
              "      <td>1.00</td>\n",
              "      <td>1.00</td>\n",
              "      <td>10.00</td>\n",
              "      <td>10.00</td>\n",
              "      <td>...</td>\n",
              "      <td>5.00</td>\n",
              "      <td>NaN</td>\n",
              "      <td>NaN</td>\n",
              "      <td>0.64</td>\n",
              "      <td>10.00</td>\n",
              "      <td>NaN</td>\n",
              "      <td>2.00</td>\n",
              "      <td>5.00</td>\n",
              "      <td>0.00</td>\n",
              "      <td>0</td>\n",
              "    </tr>\n",
              "    <tr>\n",
              "      <th>8374</th>\n",
              "      <td>1</td>\n",
              "      <td>male</td>\n",
              "      <td>25.00</td>\n",
              "      <td>24.00</td>\n",
              "      <td>European/Caucasian-American</td>\n",
              "      <td>Other</td>\n",
              "      <td>1.00</td>\n",
              "      <td>1.00</td>\n",
              "      <td>50.00</td>\n",
              "      <td>20.00</td>\n",
              "      <td>...</td>\n",
              "      <td>4.00</td>\n",
              "      <td>4.00</td>\n",
              "      <td>NaN</td>\n",
              "      <td>0.71</td>\n",
              "      <td>10.00</td>\n",
              "      <td>NaN</td>\n",
              "      <td>4.00</td>\n",
              "      <td>4.00</td>\n",
              "      <td>0.00</td>\n",
              "      <td>0</td>\n",
              "    </tr>\n",
              "    <tr>\n",
              "      <th>8375</th>\n",
              "      <td>1</td>\n",
              "      <td>male</td>\n",
              "      <td>25.00</td>\n",
              "      <td>29.00</td>\n",
              "      <td>European/Caucasian-American</td>\n",
              "      <td>Latino/HispanicAmerican</td>\n",
              "      <td>1.00</td>\n",
              "      <td>1.00</td>\n",
              "      <td>40.00</td>\n",
              "      <td>10.00</td>\n",
              "      <td>...</td>\n",
              "      <td>8.00</td>\n",
              "      <td>8.00</td>\n",
              "      <td>NaN</td>\n",
              "      <td>-0.46</td>\n",
              "      <td>10.00</td>\n",
              "      <td>NaN</td>\n",
              "      <td>6.00</td>\n",
              "      <td>5.00</td>\n",
              "      <td>0.00</td>\n",
              "      <td>0</td>\n",
              "    </tr>\n",
              "    <tr>\n",
              "      <th>8376</th>\n",
              "      <td>1</td>\n",
              "      <td>male</td>\n",
              "      <td>25.00</td>\n",
              "      <td>22.00</td>\n",
              "      <td>European/Caucasian-American</td>\n",
              "      <td>Asian/PacificIslander/Asian-American</td>\n",
              "      <td>1.00</td>\n",
              "      <td>1.00</td>\n",
              "      <td>10.00</td>\n",
              "      <td>25.00</td>\n",
              "      <td>...</td>\n",
              "      <td>4.00</td>\n",
              "      <td>NaN</td>\n",
              "      <td>5.00</td>\n",
              "      <td>0.62</td>\n",
              "      <td>10.00</td>\n",
              "      <td>NaN</td>\n",
              "      <td>5.00</td>\n",
              "      <td>5.00</td>\n",
              "      <td>0.00</td>\n",
              "      <td>0</td>\n",
              "    </tr>\n",
              "    <tr>\n",
              "      <th>8377</th>\n",
              "      <td>1</td>\n",
              "      <td>male</td>\n",
              "      <td>25.00</td>\n",
              "      <td>22.00</td>\n",
              "      <td>European/Caucasian-American</td>\n",
              "      <td>Asian/PacificIslander/Asian-American</td>\n",
              "      <td>1.00</td>\n",
              "      <td>1.00</td>\n",
              "      <td>20.00</td>\n",
              "      <td>20.00</td>\n",
              "      <td>...</td>\n",
              "      <td>4.00</td>\n",
              "      <td>8.00</td>\n",
              "      <td>1.00</td>\n",
              "      <td>0.01</td>\n",
              "      <td>10.00</td>\n",
              "      <td>NaN</td>\n",
              "      <td>4.00</td>\n",
              "      <td>5.00</td>\n",
              "      <td>0.00</td>\n",
              "      <td>0</td>\n",
              "    </tr>\n",
              "  </tbody>\n",
              "</table>\n",
              "<p>8378 rows × 39 columns</p>\n",
              "</div>\n",
              "      <button class=\"colab-df-convert\" onclick=\"convertToInteractive('df-30a87a32-20a4-4ad3-b5d4-bb088f3b1d5d')\"\n",
              "              title=\"Convert this dataframe to an interactive table.\"\n",
              "              style=\"display:none;\">\n",
              "        \n",
              "  <svg xmlns=\"http://www.w3.org/2000/svg\" height=\"24px\"viewBox=\"0 0 24 24\"\n",
              "       width=\"24px\">\n",
              "    <path d=\"M0 0h24v24H0V0z\" fill=\"none\"/>\n",
              "    <path d=\"M18.56 5.44l.94 2.06.94-2.06 2.06-.94-2.06-.94-.94-2.06-.94 2.06-2.06.94zm-11 1L8.5 8.5l.94-2.06 2.06-.94-2.06-.94L8.5 2.5l-.94 2.06-2.06.94zm10 10l.94 2.06.94-2.06 2.06-.94-2.06-.94-.94-2.06-.94 2.06-2.06.94z\"/><path d=\"M17.41 7.96l-1.37-1.37c-.4-.4-.92-.59-1.43-.59-.52 0-1.04.2-1.43.59L10.3 9.45l-7.72 7.72c-.78.78-.78 2.05 0 2.83L4 21.41c.39.39.9.59 1.41.59.51 0 1.02-.2 1.41-.59l7.78-7.78 2.81-2.81c.8-.78.8-2.07 0-2.86zM5.41 20L4 18.59l7.72-7.72 1.47 1.35L5.41 20z\"/>\n",
              "  </svg>\n",
              "      </button>\n",
              "      \n",
              "  <style>\n",
              "    .colab-df-container {\n",
              "      display:flex;\n",
              "      flex-wrap:wrap;\n",
              "      gap: 12px;\n",
              "    }\n",
              "\n",
              "    .colab-df-convert {\n",
              "      background-color: #E8F0FE;\n",
              "      border: none;\n",
              "      border-radius: 50%;\n",
              "      cursor: pointer;\n",
              "      display: none;\n",
              "      fill: #1967D2;\n",
              "      height: 32px;\n",
              "      padding: 0 0 0 0;\n",
              "      width: 32px;\n",
              "    }\n",
              "\n",
              "    .colab-df-convert:hover {\n",
              "      background-color: #E2EBFA;\n",
              "      box-shadow: 0px 1px 2px rgba(60, 64, 67, 0.3), 0px 1px 3px 1px rgba(60, 64, 67, 0.15);\n",
              "      fill: #174EA6;\n",
              "    }\n",
              "\n",
              "    [theme=dark] .colab-df-convert {\n",
              "      background-color: #3B4455;\n",
              "      fill: #D2E3FC;\n",
              "    }\n",
              "\n",
              "    [theme=dark] .colab-df-convert:hover {\n",
              "      background-color: #434B5C;\n",
              "      box-shadow: 0px 1px 3px 1px rgba(0, 0, 0, 0.15);\n",
              "      filter: drop-shadow(0px 1px 2px rgba(0, 0, 0, 0.3));\n",
              "      fill: #FFFFFF;\n",
              "    }\n",
              "  </style>\n",
              "\n",
              "      <script>\n",
              "        const buttonEl =\n",
              "          document.querySelector('#df-30a87a32-20a4-4ad3-b5d4-bb088f3b1d5d button.colab-df-convert');\n",
              "        buttonEl.style.display =\n",
              "          google.colab.kernel.accessAllowed ? 'block' : 'none';\n",
              "\n",
              "        async function convertToInteractive(key) {\n",
              "          const element = document.querySelector('#df-30a87a32-20a4-4ad3-b5d4-bb088f3b1d5d');\n",
              "          const dataTable =\n",
              "            await google.colab.kernel.invokeFunction('convertToInteractive',\n",
              "                                                     [key], {});\n",
              "          if (!dataTable) return;\n",
              "\n",
              "          const docLinkHtml = 'Like what you see? Visit the ' +\n",
              "            '<a target=\"_blank\" href=https://colab.research.google.com/notebooks/data_table.ipynb>data table notebook</a>'\n",
              "            + ' to learn more about interactive tables.';\n",
              "          element.innerHTML = '';\n",
              "          dataTable['output_type'] = 'display_data';\n",
              "          await google.colab.output.renderOutput(dataTable, element);\n",
              "          const docLink = document.createElement('div');\n",
              "          docLink.innerHTML = docLinkHtml;\n",
              "          element.appendChild(docLink);\n",
              "        }\n",
              "      </script>\n",
              "    </div>\n",
              "  </div>\n",
              "  "
            ]
          },
          "metadata": {},
          "execution_count": 91
        }
      ]
    },
    {
      "cell_type": "code",
      "source": [
        "df.info()"
      ],
      "metadata": {
        "id": "8YYwfnidyZsY",
        "colab": {
          "base_uri": "https://localhost:8080/"
        },
        "outputId": "c49c7b61-a34c-42dc-c99c-7b02fda47c6d"
      },
      "execution_count": 92,
      "outputs": [
        {
          "output_type": "stream",
          "name": "stdout",
          "text": [
            "<class 'pandas.core.frame.DataFrame'>\n",
            "RangeIndex: 8378 entries, 0 to 8377\n",
            "Data columns (total 39 columns):\n",
            " #   Column                         Non-Null Count  Dtype  \n",
            "---  ------                         --------------  -----  \n",
            " 0   has_null                       8378 non-null   int64  \n",
            " 1   gender                         8378 non-null   object \n",
            " 2   age                            8283 non-null   float64\n",
            " 3   age_o                          8274 non-null   float64\n",
            " 4   race                           8315 non-null   object \n",
            " 5   race_o                         8305 non-null   object \n",
            " 6   importance_same_race           8299 non-null   float64\n",
            " 7   importance_same_religion       8299 non-null   float64\n",
            " 8   pref_o_attractive              8289 non-null   float64\n",
            " 9   pref_o_sincere                 8289 non-null   float64\n",
            " 10  pref_o_intelligence            8289 non-null   float64\n",
            " 11  pref_o_funny                   8280 non-null   float64\n",
            " 12  pref_o_ambitious               8271 non-null   float64\n",
            " 13  pref_o_shared_interests        8249 non-null   float64\n",
            " 14  attractive_o                   8166 non-null   float64\n",
            " 15  sincere_o                      8091 non-null   float64\n",
            " 16  intelligence_o                 8072 non-null   float64\n",
            " 17  funny_o                        8018 non-null   float64\n",
            " 18  ambitous_o                     7656 non-null   float64\n",
            " 19  shared_interests_o             7302 non-null   float64\n",
            " 20  attractive_important           8299 non-null   float64\n",
            " 21  sincere_important              8299 non-null   float64\n",
            " 22  intellicence_important         8299 non-null   float64\n",
            " 23  funny_important                8289 non-null   float64\n",
            " 24  ambtition_important            8279 non-null   float64\n",
            " 25  shared_interests_important     8257 non-null   float64\n",
            " 26  attractive_partner             8176 non-null   float64\n",
            " 27  sincere_partner                8101 non-null   float64\n",
            " 28  intelligence_partner           8082 non-null   float64\n",
            " 29  funny_partner                  8028 non-null   float64\n",
            " 30  ambition_partner               7666 non-null   float64\n",
            " 31  shared_interests_partner       7311 non-null   float64\n",
            " 32  interests_correlate            8220 non-null   float64\n",
            " 33  expected_happy_with_sd_people  8277 non-null   float64\n",
            " 34  expected_num_interested_in_me  1800 non-null   float64\n",
            " 35  like                           8138 non-null   float64\n",
            " 36  guess_prob_liked               8069 non-null   float64\n",
            " 37  met                            8003 non-null   float64\n",
            " 38  match                          8378 non-null   int64  \n",
            "dtypes: float64(34), int64(2), object(3)\n",
            "memory usage: 2.5+ MB\n"
          ]
        }
      ]
    },
    {
      "cell_type": "markdown",
      "source": [
        "# 변수 목록\n",
        "\n",
        "## 목표값, 종속변수, 라벨, y\n",
        "* match : 커플 성사 여부\n",
        "\n",
        "## 관측값, 독립변수, 피처, X\n",
        "* has_null\n",
        "    - 변수 중 Null값이 있는지 여부. 단, 이 데이터는 기존 데이터에서 일부 변수들이 생략된 축소판이기 때문에, 여기서 보이는 Null값 여부와 다소 차이가 있을 수 있음.\n",
        "    - 전반적으로 무응답 항목이 있는지에 대한 정보이므로 그대로 사용\n",
        "* age / age_o : age는 본인 나이이며 age_o는 상대방 나이.\n",
        "* race / race_o : 마찬가지로 본인과 상대의 인종 정보.\n",
        "* importance_same_race / importance_same_religion\n",
        "    * 인종과 종교를 중요시 여기는지에 대한 응답\n",
        "* attractive(매력적인), sincere(성실한), intelligence(지적), funny(재미난), ambitious(야심찬), shared_ interests(공통관심사) : 이 항목들은 4가지 관점에서 평가되어 총 변수가 24(6 × 4)개\n",
        "    * pref_o_xxx( 예 : pref_o_attractive) : 상대방이 xxx 항목을 얼마나 중요하게 생각하는가에 대한 응답\n",
        "    * xxx_o(예: attractive_o) : 상대방이 본인에 대한 xxx 항목을 평가한 항목\n",
        "    * xxx_important(예 : attractive_important) : xxx 항목에 대해 본인이 얼마나 중요하게 생각하는가에 대한 응답\n",
        "    * xxx_partner(예 : attractive_partner) : 본인이 상대방에 대한 xxx 항목을 평가한 항목\n",
        "* interests_correlate : 관심사(취미 등) 연관도\n",
        "* expected_happy_with_sd_people : 스피드 데이팅을 통해 만난 사람과 함께할 때 얼마나 좋을\n",
        "지에 대한 기대치\n",
        "* expected_num_interested_in_me : 얼마나 많은 사람이 나에게 관심을 보일지에 대한 기대치\n",
        "* like : 파트너가 마음에 들었는지 여부\n",
        "* guess_prob_liked : 파트너가 나를 마음에 들어했을지에 대한 예상\n",
        "* met: 파트너를 스피드 데이팅 이벤트 이전에 만난 적이 있는지 여부"
      ],
      "metadata": {
        "id": "Nhm97f8dywfb"
      }
    },
    {
      "cell_type": "code",
      "source": [
        "pd.options.display.float_format = \"{:.2f}\".format\n",
        "df.describe() # 연속형 변수"
      ],
      "metadata": {
        "id": "ZdovZtq80H-R",
        "colab": {
          "base_uri": "https://localhost:8080/",
          "height": 394
        },
        "outputId": "22216a98-7067-403a-e5bc-326de4359d27"
      },
      "execution_count": 93,
      "outputs": [
        {
          "output_type": "execute_result",
          "data": {
            "text/plain": [
              "       has_null     age   age_o  importance_same_race  \\\n",
              "count   8378.00 8283.00 8274.00               8299.00   \n",
              "mean       0.87   26.36   26.36                  3.78   \n",
              "std        0.33    3.57    3.56                  2.85   \n",
              "min        0.00   18.00   18.00                  0.00   \n",
              "25%        1.00   24.00   24.00                  1.00   \n",
              "50%        1.00   26.00   26.00                  3.00   \n",
              "75%        1.00   28.00   28.00                  6.00   \n",
              "max        1.00   55.00   55.00                 10.00   \n",
              "\n",
              "       importance_same_religion  pref_o_attractive  pref_o_sincere  \\\n",
              "count                   8299.00            8289.00         8289.00   \n",
              "mean                       3.65              22.50           17.40   \n",
              "std                        2.81              12.57            7.04   \n",
              "min                        1.00               0.00            0.00   \n",
              "25%                        1.00              15.00           15.00   \n",
              "50%                        3.00              20.00           18.37   \n",
              "75%                        6.00              25.00           20.00   \n",
              "max                       10.00             100.00           60.00   \n",
              "\n",
              "       pref_o_intelligence  pref_o_funny  pref_o_ambitious  ...  \\\n",
              "count              8289.00       8280.00           8271.00  ...   \n",
              "mean                 20.27         17.46             10.69  ...   \n",
              "std                   6.78          6.09              6.13  ...   \n",
              "min                   0.00          0.00              0.00  ...   \n",
              "25%                  17.39         15.00              5.00  ...   \n",
              "50%                  20.00         18.00             10.00  ...   \n",
              "75%                  23.81         20.00             15.00  ...   \n",
              "max                  50.00         50.00             53.00  ...   \n",
              "\n",
              "       funny_partner  ambition_partner  shared_interests_partner  \\\n",
              "count        8028.00           7666.00                   7311.00   \n",
              "mean            6.40              6.78                      5.47   \n",
              "std             1.95              1.79                      2.16   \n",
              "min             0.00              0.00                      0.00   \n",
              "25%             5.00              6.00                      4.00   \n",
              "50%             7.00              7.00                      6.00   \n",
              "75%             8.00              8.00                      7.00   \n",
              "max            10.00             10.00                     10.00   \n",
              "\n",
              "       interests_correlate  expected_happy_with_sd_people  \\\n",
              "count              8220.00                        8277.00   \n",
              "mean                  0.20                           5.53   \n",
              "std                   0.30                           1.73   \n",
              "min                  -0.83                           1.00   \n",
              "25%                  -0.02                           5.00   \n",
              "50%                   0.21                           6.00   \n",
              "75%                   0.43                           7.00   \n",
              "max                   0.91                          10.00   \n",
              "\n",
              "       expected_num_interested_in_me    like  guess_prob_liked     met   match  \n",
              "count                        1800.00 8138.00           8069.00 8003.00 8378.00  \n",
              "mean                            5.57    6.13              5.21    0.05    0.16  \n",
              "std                             4.76    1.84              2.13    0.28    0.37  \n",
              "min                             0.00    0.00              0.00    0.00    0.00  \n",
              "25%                             2.00    5.00              4.00    0.00    0.00  \n",
              "50%                             4.00    6.00              5.00    0.00    0.00  \n",
              "75%                             8.00    7.00              7.00    0.00    0.00  \n",
              "max                            20.00   10.00             10.00    8.00    1.00  \n",
              "\n",
              "[8 rows x 36 columns]"
            ],
            "text/html": [
              "\n",
              "  <div id=\"df-d9e03843-d5c6-4750-a976-e42ec2047fc3\">\n",
              "    <div class=\"colab-df-container\">\n",
              "      <div>\n",
              "<style scoped>\n",
              "    .dataframe tbody tr th:only-of-type {\n",
              "        vertical-align: middle;\n",
              "    }\n",
              "\n",
              "    .dataframe tbody tr th {\n",
              "        vertical-align: top;\n",
              "    }\n",
              "\n",
              "    .dataframe thead th {\n",
              "        text-align: right;\n",
              "    }\n",
              "</style>\n",
              "<table border=\"1\" class=\"dataframe\">\n",
              "  <thead>\n",
              "    <tr style=\"text-align: right;\">\n",
              "      <th></th>\n",
              "      <th>has_null</th>\n",
              "      <th>age</th>\n",
              "      <th>age_o</th>\n",
              "      <th>importance_same_race</th>\n",
              "      <th>importance_same_religion</th>\n",
              "      <th>pref_o_attractive</th>\n",
              "      <th>pref_o_sincere</th>\n",
              "      <th>pref_o_intelligence</th>\n",
              "      <th>pref_o_funny</th>\n",
              "      <th>pref_o_ambitious</th>\n",
              "      <th>...</th>\n",
              "      <th>funny_partner</th>\n",
              "      <th>ambition_partner</th>\n",
              "      <th>shared_interests_partner</th>\n",
              "      <th>interests_correlate</th>\n",
              "      <th>expected_happy_with_sd_people</th>\n",
              "      <th>expected_num_interested_in_me</th>\n",
              "      <th>like</th>\n",
              "      <th>guess_prob_liked</th>\n",
              "      <th>met</th>\n",
              "      <th>match</th>\n",
              "    </tr>\n",
              "  </thead>\n",
              "  <tbody>\n",
              "    <tr>\n",
              "      <th>count</th>\n",
              "      <td>8378.00</td>\n",
              "      <td>8283.00</td>\n",
              "      <td>8274.00</td>\n",
              "      <td>8299.00</td>\n",
              "      <td>8299.00</td>\n",
              "      <td>8289.00</td>\n",
              "      <td>8289.00</td>\n",
              "      <td>8289.00</td>\n",
              "      <td>8280.00</td>\n",
              "      <td>8271.00</td>\n",
              "      <td>...</td>\n",
              "      <td>8028.00</td>\n",
              "      <td>7666.00</td>\n",
              "      <td>7311.00</td>\n",
              "      <td>8220.00</td>\n",
              "      <td>8277.00</td>\n",
              "      <td>1800.00</td>\n",
              "      <td>8138.00</td>\n",
              "      <td>8069.00</td>\n",
              "      <td>8003.00</td>\n",
              "      <td>8378.00</td>\n",
              "    </tr>\n",
              "    <tr>\n",
              "      <th>mean</th>\n",
              "      <td>0.87</td>\n",
              "      <td>26.36</td>\n",
              "      <td>26.36</td>\n",
              "      <td>3.78</td>\n",
              "      <td>3.65</td>\n",
              "      <td>22.50</td>\n",
              "      <td>17.40</td>\n",
              "      <td>20.27</td>\n",
              "      <td>17.46</td>\n",
              "      <td>10.69</td>\n",
              "      <td>...</td>\n",
              "      <td>6.40</td>\n",
              "      <td>6.78</td>\n",
              "      <td>5.47</td>\n",
              "      <td>0.20</td>\n",
              "      <td>5.53</td>\n",
              "      <td>5.57</td>\n",
              "      <td>6.13</td>\n",
              "      <td>5.21</td>\n",
              "      <td>0.05</td>\n",
              "      <td>0.16</td>\n",
              "    </tr>\n",
              "    <tr>\n",
              "      <th>std</th>\n",
              "      <td>0.33</td>\n",
              "      <td>3.57</td>\n",
              "      <td>3.56</td>\n",
              "      <td>2.85</td>\n",
              "      <td>2.81</td>\n",
              "      <td>12.57</td>\n",
              "      <td>7.04</td>\n",
              "      <td>6.78</td>\n",
              "      <td>6.09</td>\n",
              "      <td>6.13</td>\n",
              "      <td>...</td>\n",
              "      <td>1.95</td>\n",
              "      <td>1.79</td>\n",
              "      <td>2.16</td>\n",
              "      <td>0.30</td>\n",
              "      <td>1.73</td>\n",
              "      <td>4.76</td>\n",
              "      <td>1.84</td>\n",
              "      <td>2.13</td>\n",
              "      <td>0.28</td>\n",
              "      <td>0.37</td>\n",
              "    </tr>\n",
              "    <tr>\n",
              "      <th>min</th>\n",
              "      <td>0.00</td>\n",
              "      <td>18.00</td>\n",
              "      <td>18.00</td>\n",
              "      <td>0.00</td>\n",
              "      <td>1.00</td>\n",
              "      <td>0.00</td>\n",
              "      <td>0.00</td>\n",
              "      <td>0.00</td>\n",
              "      <td>0.00</td>\n",
              "      <td>0.00</td>\n",
              "      <td>...</td>\n",
              "      <td>0.00</td>\n",
              "      <td>0.00</td>\n",
              "      <td>0.00</td>\n",
              "      <td>-0.83</td>\n",
              "      <td>1.00</td>\n",
              "      <td>0.00</td>\n",
              "      <td>0.00</td>\n",
              "      <td>0.00</td>\n",
              "      <td>0.00</td>\n",
              "      <td>0.00</td>\n",
              "    </tr>\n",
              "    <tr>\n",
              "      <th>25%</th>\n",
              "      <td>1.00</td>\n",
              "      <td>24.00</td>\n",
              "      <td>24.00</td>\n",
              "      <td>1.00</td>\n",
              "      <td>1.00</td>\n",
              "      <td>15.00</td>\n",
              "      <td>15.00</td>\n",
              "      <td>17.39</td>\n",
              "      <td>15.00</td>\n",
              "      <td>5.00</td>\n",
              "      <td>...</td>\n",
              "      <td>5.00</td>\n",
              "      <td>6.00</td>\n",
              "      <td>4.00</td>\n",
              "      <td>-0.02</td>\n",
              "      <td>5.00</td>\n",
              "      <td>2.00</td>\n",
              "      <td>5.00</td>\n",
              "      <td>4.00</td>\n",
              "      <td>0.00</td>\n",
              "      <td>0.00</td>\n",
              "    </tr>\n",
              "    <tr>\n",
              "      <th>50%</th>\n",
              "      <td>1.00</td>\n",
              "      <td>26.00</td>\n",
              "      <td>26.00</td>\n",
              "      <td>3.00</td>\n",
              "      <td>3.00</td>\n",
              "      <td>20.00</td>\n",
              "      <td>18.37</td>\n",
              "      <td>20.00</td>\n",
              "      <td>18.00</td>\n",
              "      <td>10.00</td>\n",
              "      <td>...</td>\n",
              "      <td>7.00</td>\n",
              "      <td>7.00</td>\n",
              "      <td>6.00</td>\n",
              "      <td>0.21</td>\n",
              "      <td>6.00</td>\n",
              "      <td>4.00</td>\n",
              "      <td>6.00</td>\n",
              "      <td>5.00</td>\n",
              "      <td>0.00</td>\n",
              "      <td>0.00</td>\n",
              "    </tr>\n",
              "    <tr>\n",
              "      <th>75%</th>\n",
              "      <td>1.00</td>\n",
              "      <td>28.00</td>\n",
              "      <td>28.00</td>\n",
              "      <td>6.00</td>\n",
              "      <td>6.00</td>\n",
              "      <td>25.00</td>\n",
              "      <td>20.00</td>\n",
              "      <td>23.81</td>\n",
              "      <td>20.00</td>\n",
              "      <td>15.00</td>\n",
              "      <td>...</td>\n",
              "      <td>8.00</td>\n",
              "      <td>8.00</td>\n",
              "      <td>7.00</td>\n",
              "      <td>0.43</td>\n",
              "      <td>7.00</td>\n",
              "      <td>8.00</td>\n",
              "      <td>7.00</td>\n",
              "      <td>7.00</td>\n",
              "      <td>0.00</td>\n",
              "      <td>0.00</td>\n",
              "    </tr>\n",
              "    <tr>\n",
              "      <th>max</th>\n",
              "      <td>1.00</td>\n",
              "      <td>55.00</td>\n",
              "      <td>55.00</td>\n",
              "      <td>10.00</td>\n",
              "      <td>10.00</td>\n",
              "      <td>100.00</td>\n",
              "      <td>60.00</td>\n",
              "      <td>50.00</td>\n",
              "      <td>50.00</td>\n",
              "      <td>53.00</td>\n",
              "      <td>...</td>\n",
              "      <td>10.00</td>\n",
              "      <td>10.00</td>\n",
              "      <td>10.00</td>\n",
              "      <td>0.91</td>\n",
              "      <td>10.00</td>\n",
              "      <td>20.00</td>\n",
              "      <td>10.00</td>\n",
              "      <td>10.00</td>\n",
              "      <td>8.00</td>\n",
              "      <td>1.00</td>\n",
              "    </tr>\n",
              "  </tbody>\n",
              "</table>\n",
              "<p>8 rows × 36 columns</p>\n",
              "</div>\n",
              "      <button class=\"colab-df-convert\" onclick=\"convertToInteractive('df-d9e03843-d5c6-4750-a976-e42ec2047fc3')\"\n",
              "              title=\"Convert this dataframe to an interactive table.\"\n",
              "              style=\"display:none;\">\n",
              "        \n",
              "  <svg xmlns=\"http://www.w3.org/2000/svg\" height=\"24px\"viewBox=\"0 0 24 24\"\n",
              "       width=\"24px\">\n",
              "    <path d=\"M0 0h24v24H0V0z\" fill=\"none\"/>\n",
              "    <path d=\"M18.56 5.44l.94 2.06.94-2.06 2.06-.94-2.06-.94-.94-2.06-.94 2.06-2.06.94zm-11 1L8.5 8.5l.94-2.06 2.06-.94-2.06-.94L8.5 2.5l-.94 2.06-2.06.94zm10 10l.94 2.06.94-2.06 2.06-.94-2.06-.94-.94-2.06-.94 2.06-2.06.94z\"/><path d=\"M17.41 7.96l-1.37-1.37c-.4-.4-.92-.59-1.43-.59-.52 0-1.04.2-1.43.59L10.3 9.45l-7.72 7.72c-.78.78-.78 2.05 0 2.83L4 21.41c.39.39.9.59 1.41.59.51 0 1.02-.2 1.41-.59l7.78-7.78 2.81-2.81c.8-.78.8-2.07 0-2.86zM5.41 20L4 18.59l7.72-7.72 1.47 1.35L5.41 20z\"/>\n",
              "  </svg>\n",
              "      </button>\n",
              "      \n",
              "  <style>\n",
              "    .colab-df-container {\n",
              "      display:flex;\n",
              "      flex-wrap:wrap;\n",
              "      gap: 12px;\n",
              "    }\n",
              "\n",
              "    .colab-df-convert {\n",
              "      background-color: #E8F0FE;\n",
              "      border: none;\n",
              "      border-radius: 50%;\n",
              "      cursor: pointer;\n",
              "      display: none;\n",
              "      fill: #1967D2;\n",
              "      height: 32px;\n",
              "      padding: 0 0 0 0;\n",
              "      width: 32px;\n",
              "    }\n",
              "\n",
              "    .colab-df-convert:hover {\n",
              "      background-color: #E2EBFA;\n",
              "      box-shadow: 0px 1px 2px rgba(60, 64, 67, 0.3), 0px 1px 3px 1px rgba(60, 64, 67, 0.15);\n",
              "      fill: #174EA6;\n",
              "    }\n",
              "\n",
              "    [theme=dark] .colab-df-convert {\n",
              "      background-color: #3B4455;\n",
              "      fill: #D2E3FC;\n",
              "    }\n",
              "\n",
              "    [theme=dark] .colab-df-convert:hover {\n",
              "      background-color: #434B5C;\n",
              "      box-shadow: 0px 1px 3px 1px rgba(0, 0, 0, 0.15);\n",
              "      filter: drop-shadow(0px 1px 2px rgba(0, 0, 0, 0.3));\n",
              "      fill: #FFFFFF;\n",
              "    }\n",
              "  </style>\n",
              "\n",
              "      <script>\n",
              "        const buttonEl =\n",
              "          document.querySelector('#df-d9e03843-d5c6-4750-a976-e42ec2047fc3 button.colab-df-convert');\n",
              "        buttonEl.style.display =\n",
              "          google.colab.kernel.accessAllowed ? 'block' : 'none';\n",
              "\n",
              "        async function convertToInteractive(key) {\n",
              "          const element = document.querySelector('#df-d9e03843-d5c6-4750-a976-e42ec2047fc3');\n",
              "          const dataTable =\n",
              "            await google.colab.kernel.invokeFunction('convertToInteractive',\n",
              "                                                     [key], {});\n",
              "          if (!dataTable) return;\n",
              "\n",
              "          const docLinkHtml = 'Like what you see? Visit the ' +\n",
              "            '<a target=\"_blank\" href=https://colab.research.google.com/notebooks/data_table.ipynb>data table notebook</a>'\n",
              "            + ' to learn more about interactive tables.';\n",
              "          element.innerHTML = '';\n",
              "          dataTable['output_type'] = 'display_data';\n",
              "          await google.colab.output.renderOutput(dataTable, element);\n",
              "          const docLink = document.createElement('div');\n",
              "          docLink.innerHTML = docLinkHtml;\n",
              "          element.appendChild(docLink);\n",
              "        }\n",
              "      </script>\n",
              "    </div>\n",
              "  </div>\n",
              "  "
            ]
          },
          "metadata": {},
          "execution_count": 93
        }
      ]
    },
    {
      "cell_type": "code",
      "source": [
        "df.describe(include='O')"
      ],
      "metadata": {
        "colab": {
          "base_uri": "https://localhost:8080/",
          "height": 175
        },
        "id": "znIbJNrw0gDP",
        "outputId": "c772ef32-a5ed-4773-dd86-9274c31d5a8e"
      },
      "execution_count": 94,
      "outputs": [
        {
          "output_type": "execute_result",
          "data": {
            "text/plain": [
              "       gender                         race                       race_o\n",
              "count    8378                         8315                         8305\n",
              "unique      2                            5                            5\n",
              "top      male  European/Caucasian-American  European/Caucasian-American\n",
              "freq     4194                         4727                         4722"
            ],
            "text/html": [
              "\n",
              "  <div id=\"df-61316f7c-cd4c-4670-ac37-a383a3defda1\">\n",
              "    <div class=\"colab-df-container\">\n",
              "      <div>\n",
              "<style scoped>\n",
              "    .dataframe tbody tr th:only-of-type {\n",
              "        vertical-align: middle;\n",
              "    }\n",
              "\n",
              "    .dataframe tbody tr th {\n",
              "        vertical-align: top;\n",
              "    }\n",
              "\n",
              "    .dataframe thead th {\n",
              "        text-align: right;\n",
              "    }\n",
              "</style>\n",
              "<table border=\"1\" class=\"dataframe\">\n",
              "  <thead>\n",
              "    <tr style=\"text-align: right;\">\n",
              "      <th></th>\n",
              "      <th>gender</th>\n",
              "      <th>race</th>\n",
              "      <th>race_o</th>\n",
              "    </tr>\n",
              "  </thead>\n",
              "  <tbody>\n",
              "    <tr>\n",
              "      <th>count</th>\n",
              "      <td>8378</td>\n",
              "      <td>8315</td>\n",
              "      <td>8305</td>\n",
              "    </tr>\n",
              "    <tr>\n",
              "      <th>unique</th>\n",
              "      <td>2</td>\n",
              "      <td>5</td>\n",
              "      <td>5</td>\n",
              "    </tr>\n",
              "    <tr>\n",
              "      <th>top</th>\n",
              "      <td>male</td>\n",
              "      <td>European/Caucasian-American</td>\n",
              "      <td>European/Caucasian-American</td>\n",
              "    </tr>\n",
              "    <tr>\n",
              "      <th>freq</th>\n",
              "      <td>4194</td>\n",
              "      <td>4727</td>\n",
              "      <td>4722</td>\n",
              "    </tr>\n",
              "  </tbody>\n",
              "</table>\n",
              "</div>\n",
              "      <button class=\"colab-df-convert\" onclick=\"convertToInteractive('df-61316f7c-cd4c-4670-ac37-a383a3defda1')\"\n",
              "              title=\"Convert this dataframe to an interactive table.\"\n",
              "              style=\"display:none;\">\n",
              "        \n",
              "  <svg xmlns=\"http://www.w3.org/2000/svg\" height=\"24px\"viewBox=\"0 0 24 24\"\n",
              "       width=\"24px\">\n",
              "    <path d=\"M0 0h24v24H0V0z\" fill=\"none\"/>\n",
              "    <path d=\"M18.56 5.44l.94 2.06.94-2.06 2.06-.94-2.06-.94-.94-2.06-.94 2.06-2.06.94zm-11 1L8.5 8.5l.94-2.06 2.06-.94-2.06-.94L8.5 2.5l-.94 2.06-2.06.94zm10 10l.94 2.06.94-2.06 2.06-.94-2.06-.94-.94-2.06-.94 2.06-2.06.94z\"/><path d=\"M17.41 7.96l-1.37-1.37c-.4-.4-.92-.59-1.43-.59-.52 0-1.04.2-1.43.59L10.3 9.45l-7.72 7.72c-.78.78-.78 2.05 0 2.83L4 21.41c.39.39.9.59 1.41.59.51 0 1.02-.2 1.41-.59l7.78-7.78 2.81-2.81c.8-.78.8-2.07 0-2.86zM5.41 20L4 18.59l7.72-7.72 1.47 1.35L5.41 20z\"/>\n",
              "  </svg>\n",
              "      </button>\n",
              "      \n",
              "  <style>\n",
              "    .colab-df-container {\n",
              "      display:flex;\n",
              "      flex-wrap:wrap;\n",
              "      gap: 12px;\n",
              "    }\n",
              "\n",
              "    .colab-df-convert {\n",
              "      background-color: #E8F0FE;\n",
              "      border: none;\n",
              "      border-radius: 50%;\n",
              "      cursor: pointer;\n",
              "      display: none;\n",
              "      fill: #1967D2;\n",
              "      height: 32px;\n",
              "      padding: 0 0 0 0;\n",
              "      width: 32px;\n",
              "    }\n",
              "\n",
              "    .colab-df-convert:hover {\n",
              "      background-color: #E2EBFA;\n",
              "      box-shadow: 0px 1px 2px rgba(60, 64, 67, 0.3), 0px 1px 3px 1px rgba(60, 64, 67, 0.15);\n",
              "      fill: #174EA6;\n",
              "    }\n",
              "\n",
              "    [theme=dark] .colab-df-convert {\n",
              "      background-color: #3B4455;\n",
              "      fill: #D2E3FC;\n",
              "    }\n",
              "\n",
              "    [theme=dark] .colab-df-convert:hover {\n",
              "      background-color: #434B5C;\n",
              "      box-shadow: 0px 1px 3px 1px rgba(0, 0, 0, 0.15);\n",
              "      filter: drop-shadow(0px 1px 2px rgba(0, 0, 0, 0.3));\n",
              "      fill: #FFFFFF;\n",
              "    }\n",
              "  </style>\n",
              "\n",
              "      <script>\n",
              "        const buttonEl =\n",
              "          document.querySelector('#df-61316f7c-cd4c-4670-ac37-a383a3defda1 button.colab-df-convert');\n",
              "        buttonEl.style.display =\n",
              "          google.colab.kernel.accessAllowed ? 'block' : 'none';\n",
              "\n",
              "        async function convertToInteractive(key) {\n",
              "          const element = document.querySelector('#df-61316f7c-cd4c-4670-ac37-a383a3defda1');\n",
              "          const dataTable =\n",
              "            await google.colab.kernel.invokeFunction('convertToInteractive',\n",
              "                                                     [key], {});\n",
              "          if (!dataTable) return;\n",
              "\n",
              "          const docLinkHtml = 'Like what you see? Visit the ' +\n",
              "            '<a target=\"_blank\" href=https://colab.research.google.com/notebooks/data_table.ipynb>data table notebook</a>'\n",
              "            + ' to learn more about interactive tables.';\n",
              "          element.innerHTML = '';\n",
              "          dataTable['output_type'] = 'display_data';\n",
              "          await google.colab.output.renderOutput(dataTable, element);\n",
              "          const docLink = document.createElement('div');\n",
              "          docLink.innerHTML = docLinkHtml;\n",
              "          element.appendChild(docLink);\n",
              "        }\n",
              "      </script>\n",
              "    </div>\n",
              "  </div>\n",
              "  "
            ]
          },
          "metadata": {},
          "execution_count": 94
        }
      ]
    },
    {
      "cell_type": "markdown",
      "source": [
        "# 전처리"
      ],
      "metadata": {
        "id": "tuZmPYNW0s0Q"
      }
    },
    {
      "cell_type": "markdown",
      "source": [
        "## 결측치"
      ],
      "metadata": {
        "id": "ePzd3uaU0xSR"
      }
    },
    {
      "cell_type": "code",
      "source": [
        "# 오름차순 (행방향=데이터 커지는 방향)\n",
        "df.isna().mean()\n",
        "# 내림차순 (행방향=데이터 작아지는 방향)\n",
        "df.isna().mean().sort_values(ascending=False)"
      ],
      "metadata": {
        "colab": {
          "base_uri": "https://localhost:8080/"
        },
        "id": "WPHaaz_Q0r5T",
        "outputId": "1d40df44-7d43-441d-9352-9d372156534e"
      },
      "execution_count": 95,
      "outputs": [
        {
          "output_type": "execute_result",
          "data": {
            "text/plain": [
              "expected_num_interested_in_me   0.79\n",
              "shared_interests_o              0.13\n",
              "shared_interests_partner        0.13\n",
              "ambitous_o                      0.09\n",
              "ambition_partner                0.08\n",
              "met                             0.04\n",
              "funny_o                         0.04\n",
              "funny_partner                   0.04\n",
              "guess_prob_liked                0.04\n",
              "intelligence_o                  0.04\n",
              "intelligence_partner            0.04\n",
              "sincere_o                       0.03\n",
              "sincere_partner                 0.03\n",
              "like                            0.03\n",
              "attractive_o                    0.03\n",
              "attractive_partner              0.02\n",
              "interests_correlate             0.02\n",
              "pref_o_shared_interests         0.02\n",
              "shared_interests_important      0.01\n",
              "pref_o_ambitious                0.01\n",
              "age_o                           0.01\n",
              "expected_happy_with_sd_people   0.01\n",
              "ambtition_important             0.01\n",
              "pref_o_funny                    0.01\n",
              "age                             0.01\n",
              "pref_o_sincere                  0.01\n",
              "pref_o_attractive               0.01\n",
              "funny_important                 0.01\n",
              "pref_o_intelligence             0.01\n",
              "attractive_important            0.01\n",
              "intellicence_important          0.01\n",
              "sincere_important               0.01\n",
              "importance_same_religion        0.01\n",
              "importance_same_race            0.01\n",
              "race_o                          0.01\n",
              "race                            0.01\n",
              "has_null                        0.00\n",
              "gender                          0.00\n",
              "match                           0.00\n",
              "dtype: float64"
            ]
          },
          "metadata": {},
          "execution_count": 95
        }
      ]
    },
    {
      "cell_type": "code",
      "source": [
        "# na를 다 drop하는 게 아니라, 특정한 열 결측치가 있을 경우만 행을 삭제\n",
        "# subset = [결측치가 있다면 행을 삭제할 열들 이름]\n",
        "# 일부 변수에서 결측치 제거\n",
        "# df.dropna -> 전체 결측치 제거\n",
        "# subset -> 특정 열이 결측치일 경우에 제거\n",
        "\n",
        "df=df.dropna(\n",
        "    subset=[\n",
        "        'pref_o_attractive', 'pref_o_sincere', 'pref_o_intelligence',\n",
        "        'pref_o_funny', 'pref_o_ambitious', 'pref_o_shared_interests',\n",
        "        'attractive_important', 'sincere_important', 'intellicence_important',\n",
        "        'funny_important', 'ambtition_important', 'shared_interests_important']\n",
        ")"
      ],
      "metadata": {
        "id": "j_eRJyd71Vdp"
      },
      "execution_count": 96,
      "outputs": []
    },
    {
      "cell_type": "code",
      "source": [
        "df.isna().mean().sort_values(ascending=False)"
      ],
      "metadata": {
        "colab": {
          "base_uri": "https://localhost:8080/"
        },
        "id": "IAT8X11A2Bea",
        "outputId": "48b0d775-9c23-4319-e3aa-32d045afd258"
      },
      "execution_count": 97,
      "outputs": [
        {
          "output_type": "execute_result",
          "data": {
            "text/plain": [
              "expected_num_interested_in_me   0.79\n",
              "shared_interests_o              0.13\n",
              "shared_interests_partner        0.13\n",
              "ambitous_o                      0.08\n",
              "ambition_partner                0.08\n",
              "met                             0.04\n",
              "funny_o                         0.04\n",
              "funny_partner                   0.04\n",
              "guess_prob_liked                0.04\n",
              "intelligence_o                  0.03\n",
              "intelligence_partner            0.03\n",
              "sincere_o                       0.03\n",
              "sincere_partner                 0.03\n",
              "like                            0.03\n",
              "attractive_partner              0.02\n",
              "attractive_o                    0.02\n",
              "age_o                           0.00\n",
              "age                             0.00\n",
              "expected_happy_with_sd_people   0.00\n",
              "funny_important                 0.00\n",
              "interests_correlate             0.00\n",
              "shared_interests_important      0.00\n",
              "ambtition_important             0.00\n",
              "has_null                        0.00\n",
              "intellicence_important          0.00\n",
              "sincere_important               0.00\n",
              "attractive_important            0.00\n",
              "gender                          0.00\n",
              "pref_o_shared_interests         0.00\n",
              "pref_o_ambitious                0.00\n",
              "pref_o_funny                    0.00\n",
              "pref_o_intelligence             0.00\n",
              "pref_o_sincere                  0.00\n",
              "pref_o_attractive               0.00\n",
              "importance_same_religion        0.00\n",
              "importance_same_race            0.00\n",
              "race_o                          0.00\n",
              "race                            0.00\n",
              "match                           0.00\n",
              "dtype: float64"
            ]
          },
          "metadata": {},
          "execution_count": 97
        }
      ]
    },
    {
      "cell_type": "code",
      "source": [
        "# 결측치를 모두 -99로 채워주기\n",
        "df.fillna(-99, inplace=True)"
      ],
      "metadata": {
        "id": "bqJ2c8lp2LIM",
        "colab": {
          "base_uri": "https://localhost:8080/"
        },
        "outputId": "b580ffd0-29f2-42b4-8885-1cfd94316f31"
      },
      "execution_count": 98,
      "outputs": [
        {
          "output_type": "stream",
          "name": "stderr",
          "text": [
            "<ipython-input-98-caa637c72088>:2: SettingWithCopyWarning: \n",
            "A value is trying to be set on a copy of a slice from a DataFrame\n",
            "\n",
            "See the caveats in the documentation: https://pandas.pydata.org/pandas-docs/stable/user_guide/indexing.html#returning-a-view-versus-a-copy\n",
            "  df.fillna(-99, inplace=True)\n"
          ]
        }
      ]
    },
    {
      "cell_type": "code",
      "source": [
        "# 결측치 처리 완료\n",
        "df.isna().sum()"
      ],
      "metadata": {
        "colab": {
          "base_uri": "https://localhost:8080/"
        },
        "id": "bOF9BiMZ2V_6",
        "outputId": "e91affdf-aa85-4c94-e735-cc308d8a1870"
      },
      "execution_count": 99,
      "outputs": [
        {
          "output_type": "execute_result",
          "data": {
            "text/plain": [
              "has_null                         0\n",
              "gender                           0\n",
              "age                              0\n",
              "age_o                            0\n",
              "race                             0\n",
              "race_o                           0\n",
              "importance_same_race             0\n",
              "importance_same_religion         0\n",
              "pref_o_attractive                0\n",
              "pref_o_sincere                   0\n",
              "pref_o_intelligence              0\n",
              "pref_o_funny                     0\n",
              "pref_o_ambitious                 0\n",
              "pref_o_shared_interests          0\n",
              "attractive_o                     0\n",
              "sincere_o                        0\n",
              "intelligence_o                   0\n",
              "funny_o                          0\n",
              "ambitous_o                       0\n",
              "shared_interests_o               0\n",
              "attractive_important             0\n",
              "sincere_important                0\n",
              "intellicence_important           0\n",
              "funny_important                  0\n",
              "ambtition_important              0\n",
              "shared_interests_important       0\n",
              "attractive_partner               0\n",
              "sincere_partner                  0\n",
              "intelligence_partner             0\n",
              "funny_partner                    0\n",
              "ambition_partner                 0\n",
              "shared_interests_partner         0\n",
              "interests_correlate              0\n",
              "expected_happy_with_sd_people    0\n",
              "expected_num_interested_in_me    0\n",
              "like                             0\n",
              "guess_prob_liked                 0\n",
              "met                              0\n",
              "match                            0\n",
              "dtype: int64"
            ]
          },
          "metadata": {},
          "execution_count": 99
        }
      ]
    },
    {
      "cell_type": "code",
      "source": [
        "# 결측치만 채운 상태에서 XGBoost로 모델링 결과\n",
        "# -> 피처 엔지니어링을 통해서 변수를 변형/추가 했을 경우에 결과\n",
        "df['match'].mean()\n",
        "# 16.4% 성사 확률 (1)\n",
        "\n",
        "1-df['match'].mean()\n",
        "# 83.5% 서로 안맞을 확률 (0)\n",
        "\n",
        "# -> 안맞는다고만 해도 83%"
      ],
      "metadata": {
        "colab": {
          "base_uri": "https://localhost:8080/"
        },
        "id": "5y-O6mr52qyN",
        "outputId": "5e16c7c3-82d6-4ce8-dfa2-018f4618d0d8"
      },
      "execution_count": 100,
      "outputs": [
        {
          "output_type": "execute_result",
          "data": {
            "text/plain": [
              "0.8351783517835178"
            ]
          },
          "metadata": {},
          "execution_count": 100
        }
      ]
    },
    {
      "cell_type": "markdown",
      "source": [
        "## 피처 엔지니어링 없이 모델링"
      ],
      "metadata": {
        "id": "DifwGcbC3VKI"
      }
    },
    {
      "cell_type": "code",
      "source": [
        "df2=df.copy()"
      ],
      "metadata": {
        "id": "jJc5HQg-3Rt8"
      },
      "execution_count": 101,
      "outputs": []
    },
    {
      "cell_type": "code",
      "source": [
        "df2.describe(include='O').columns"
      ],
      "metadata": {
        "colab": {
          "base_uri": "https://localhost:8080/"
        },
        "id": "rJ1XTrLk3T0j",
        "outputId": "faea407d-af11-47c0-a824-a82165cb9726"
      },
      "execution_count": 102,
      "outputs": [
        {
          "output_type": "execute_result",
          "data": {
            "text/plain": [
              "Index(['gender', 'race', 'race_o'], dtype='object')"
            ]
          },
          "metadata": {},
          "execution_count": 102
        }
      ]
    },
    {
      "cell_type": "code",
      "source": [
        "df2=pd.get_dummies(df2, df2.describe(include='O').columns)"
      ],
      "metadata": {
        "id": "ZMJtY_jl3ieQ"
      },
      "execution_count": 103,
      "outputs": []
    },
    {
      "cell_type": "code",
      "source": [
        "X=df2.drop('match', axis=1)   #독립, 관측, 피쳐변수\n",
        "y=df2['match']                #종속, 예측(목표), 라벨"
      ],
      "metadata": {
        "id": "jj_hz_Rb3tih"
      },
      "execution_count": 104,
      "outputs": []
    },
    {
      "cell_type": "code",
      "source": [
        "from sklearn.model_selection import train_test_split\n",
        "\n",
        "X_train, X_test, y_train, y_test = train_test_split(\n",
        "    X,y,test_size=0.2, random_state=230\n",
        ")"
      ],
      "metadata": {
        "id": "KAWdWpYvdwyv"
      },
      "execution_count": 105,
      "outputs": []
    },
    {
      "cell_type": "code",
      "source": [
        "import xgboost as xgb"
      ],
      "metadata": {
        "id": "aW00bMN836wC"
      },
      "execution_count": 106,
      "outputs": []
    },
    {
      "cell_type": "code",
      "source": [
        "model = xgb.XGBClassifier(random_state=23)     #분류/회귀 둘다 존재함"
      ],
      "metadata": {
        "id": "Ee9qYN3I3_hY"
      },
      "execution_count": 107,
      "outputs": []
    },
    {
      "cell_type": "code",
      "source": [
        "model.fit(X_train, y_train)"
      ],
      "metadata": {
        "colab": {
          "base_uri": "https://localhost:8080/",
          "height": 248
        },
        "id": "1wa6-8Z44F2i",
        "outputId": "1f33d34b-10c9-4d10-fb2d-b6aad32aa8b8"
      },
      "execution_count": 108,
      "outputs": [
        {
          "output_type": "execute_result",
          "data": {
            "text/plain": [
              "XGBClassifier(base_score=None, booster=None, callbacks=None,\n",
              "              colsample_bylevel=None, colsample_bynode=None,\n",
              "              colsample_bytree=None, early_stopping_rounds=None,\n",
              "              enable_categorical=False, eval_metric=None, feature_types=None,\n",
              "              gamma=None, gpu_id=None, grow_policy=None, importance_type=None,\n",
              "              interaction_constraints=None, learning_rate=None, max_bin=None,\n",
              "              max_cat_threshold=None, max_cat_to_onehot=None,\n",
              "              max_delta_step=None, max_depth=None, max_leaves=None,\n",
              "              min_child_weight=None, missing=nan, monotone_constraints=None,\n",
              "              n_estimators=100, n_jobs=None, num_parallel_tree=None,\n",
              "              predictor=None, random_state=23, ...)"
            ],
            "text/html": [
              "<style>#sk-container-id-2 {color: black;background-color: white;}#sk-container-id-2 pre{padding: 0;}#sk-container-id-2 div.sk-toggleable {background-color: white;}#sk-container-id-2 label.sk-toggleable__label {cursor: pointer;display: block;width: 100%;margin-bottom: 0;padding: 0.3em;box-sizing: border-box;text-align: center;}#sk-container-id-2 label.sk-toggleable__label-arrow:before {content: \"▸\";float: left;margin-right: 0.25em;color: #696969;}#sk-container-id-2 label.sk-toggleable__label-arrow:hover:before {color: black;}#sk-container-id-2 div.sk-estimator:hover label.sk-toggleable__label-arrow:before {color: black;}#sk-container-id-2 div.sk-toggleable__content {max-height: 0;max-width: 0;overflow: hidden;text-align: left;background-color: #f0f8ff;}#sk-container-id-2 div.sk-toggleable__content pre {margin: 0.2em;color: black;border-radius: 0.25em;background-color: #f0f8ff;}#sk-container-id-2 input.sk-toggleable__control:checked~div.sk-toggleable__content {max-height: 200px;max-width: 100%;overflow: auto;}#sk-container-id-2 input.sk-toggleable__control:checked~label.sk-toggleable__label-arrow:before {content: \"▾\";}#sk-container-id-2 div.sk-estimator input.sk-toggleable__control:checked~label.sk-toggleable__label {background-color: #d4ebff;}#sk-container-id-2 div.sk-label input.sk-toggleable__control:checked~label.sk-toggleable__label {background-color: #d4ebff;}#sk-container-id-2 input.sk-hidden--visually {border: 0;clip: rect(1px 1px 1px 1px);clip: rect(1px, 1px, 1px, 1px);height: 1px;margin: -1px;overflow: hidden;padding: 0;position: absolute;width: 1px;}#sk-container-id-2 div.sk-estimator {font-family: monospace;background-color: #f0f8ff;border: 1px dotted black;border-radius: 0.25em;box-sizing: border-box;margin-bottom: 0.5em;}#sk-container-id-2 div.sk-estimator:hover {background-color: #d4ebff;}#sk-container-id-2 div.sk-parallel-item::after {content: \"\";width: 100%;border-bottom: 1px solid gray;flex-grow: 1;}#sk-container-id-2 div.sk-label:hover label.sk-toggleable__label {background-color: #d4ebff;}#sk-container-id-2 div.sk-serial::before {content: \"\";position: absolute;border-left: 1px solid gray;box-sizing: border-box;top: 0;bottom: 0;left: 50%;z-index: 0;}#sk-container-id-2 div.sk-serial {display: flex;flex-direction: column;align-items: center;background-color: white;padding-right: 0.2em;padding-left: 0.2em;position: relative;}#sk-container-id-2 div.sk-item {position: relative;z-index: 1;}#sk-container-id-2 div.sk-parallel {display: flex;align-items: stretch;justify-content: center;background-color: white;position: relative;}#sk-container-id-2 div.sk-item::before, #sk-container-id-2 div.sk-parallel-item::before {content: \"\";position: absolute;border-left: 1px solid gray;box-sizing: border-box;top: 0;bottom: 0;left: 50%;z-index: -1;}#sk-container-id-2 div.sk-parallel-item {display: flex;flex-direction: column;z-index: 1;position: relative;background-color: white;}#sk-container-id-2 div.sk-parallel-item:first-child::after {align-self: flex-end;width: 50%;}#sk-container-id-2 div.sk-parallel-item:last-child::after {align-self: flex-start;width: 50%;}#sk-container-id-2 div.sk-parallel-item:only-child::after {width: 0;}#sk-container-id-2 div.sk-dashed-wrapped {border: 1px dashed gray;margin: 0 0.4em 0.5em 0.4em;box-sizing: border-box;padding-bottom: 0.4em;background-color: white;}#sk-container-id-2 div.sk-label label {font-family: monospace;font-weight: bold;display: inline-block;line-height: 1.2em;}#sk-container-id-2 div.sk-label-container {text-align: center;}#sk-container-id-2 div.sk-container {/* jupyter's `normalize.less` sets `[hidden] { display: none; }` but bootstrap.min.css set `[hidden] { display: none !important; }` so we also need the `!important` here to be able to override the default hidden behavior on the sphinx rendered scikit-learn.org. See: https://github.com/scikit-learn/scikit-learn/issues/21755 */display: inline-block !important;position: relative;}#sk-container-id-2 div.sk-text-repr-fallback {display: none;}</style><div id=\"sk-container-id-2\" class=\"sk-top-container\"><div class=\"sk-text-repr-fallback\"><pre>XGBClassifier(base_score=None, booster=None, callbacks=None,\n",
              "              colsample_bylevel=None, colsample_bynode=None,\n",
              "              colsample_bytree=None, early_stopping_rounds=None,\n",
              "              enable_categorical=False, eval_metric=None, feature_types=None,\n",
              "              gamma=None, gpu_id=None, grow_policy=None, importance_type=None,\n",
              "              interaction_constraints=None, learning_rate=None, max_bin=None,\n",
              "              max_cat_threshold=None, max_cat_to_onehot=None,\n",
              "              max_delta_step=None, max_depth=None, max_leaves=None,\n",
              "              min_child_weight=None, missing=nan, monotone_constraints=None,\n",
              "              n_estimators=100, n_jobs=None, num_parallel_tree=None,\n",
              "              predictor=None, random_state=23, ...)</pre><b>In a Jupyter environment, please rerun this cell to show the HTML representation or trust the notebook. <br />On GitHub, the HTML representation is unable to render, please try loading this page with nbviewer.org.</b></div><div class=\"sk-container\" hidden><div class=\"sk-item\"><div class=\"sk-estimator sk-toggleable\"><input class=\"sk-toggleable__control sk-hidden--visually\" id=\"sk-estimator-id-2\" type=\"checkbox\" checked><label for=\"sk-estimator-id-2\" class=\"sk-toggleable__label sk-toggleable__label-arrow\">XGBClassifier</label><div class=\"sk-toggleable__content\"><pre>XGBClassifier(base_score=None, booster=None, callbacks=None,\n",
              "              colsample_bylevel=None, colsample_bynode=None,\n",
              "              colsample_bytree=None, early_stopping_rounds=None,\n",
              "              enable_categorical=False, eval_metric=None, feature_types=None,\n",
              "              gamma=None, gpu_id=None, grow_policy=None, importance_type=None,\n",
              "              interaction_constraints=None, learning_rate=None, max_bin=None,\n",
              "              max_cat_threshold=None, max_cat_to_onehot=None,\n",
              "              max_delta_step=None, max_depth=None, max_leaves=None,\n",
              "              min_child_weight=None, missing=nan, monotone_constraints=None,\n",
              "              n_estimators=100, n_jobs=None, num_parallel_tree=None,\n",
              "              predictor=None, random_state=23, ...)</pre></div></div></div></div></div>"
            ]
          },
          "metadata": {},
          "execution_count": 108
        }
      ]
    },
    {
      "cell_type": "code",
      "source": [
        "pred = model.predict(X_test)  #시험셋으로 예측\n",
        "pred"
      ],
      "metadata": {
        "colab": {
          "base_uri": "https://localhost:8080/"
        },
        "id": "Uj9ZdnO-4JEa",
        "outputId": "5f330462-8228-4968-f168-8bc980dafb22"
      },
      "execution_count": 109,
      "outputs": [
        {
          "output_type": "execute_result",
          "data": {
            "text/plain": [
              "array([0, 0, 0, ..., 0, 0, 0])"
            ]
          },
          "metadata": {},
          "execution_count": 109
        }
      ]
    },
    {
      "cell_type": "code",
      "source": [
        "pred_=model.predict(X_train)\n",
        "pred_"
      ],
      "metadata": {
        "colab": {
          "base_uri": "https://localhost:8080/"
        },
        "id": "s_boKeRL90pO",
        "outputId": "cb19129b-901a-46b0-fa18-cc1f7ade352d"
      },
      "execution_count": 110,
      "outputs": [
        {
          "output_type": "execute_result",
          "data": {
            "text/plain": [
              "array([0, 1, 0, ..., 1, 0, 0])"
            ]
          },
          "metadata": {},
          "execution_count": 110
        }
      ]
    },
    {
      "cell_type": "code",
      "source": [
        "from sklearn.metrics import accuracy_score"
      ],
      "metadata": {
        "id": "VrAr4DhYg769"
      },
      "execution_count": 111,
      "outputs": []
    },
    {
      "cell_type": "code",
      "source": [
        "accuracy_score(y_test, pred)"
      ],
      "metadata": {
        "colab": {
          "base_uri": "https://localhost:8080/"
        },
        "id": "QUcOL2m4fWUu",
        "outputId": "fa8b20dc-0944-4b98-ed85-d5c7964e4f97"
      },
      "execution_count": 112,
      "outputs": [
        {
          "output_type": "execute_result",
          "data": {
            "text/plain": [
              "0.8554735547355473"
            ]
          },
          "metadata": {},
          "execution_count": 112
        }
      ]
    },
    {
      "cell_type": "code",
      "source": [
        "from sklearn.metrics import confusion_matrix\n",
        "\n",
        "# 오른쪽 위 : 1종 오류 - 실제 틀린데 (0) 맞다고 예측 (1) - 68\n",
        "# 왼쪽 아래 : 2종 오류 - 실제 맞는데 (1) 틀리다고 예측 (0) - 147\n",
        "print(confusion_matrix(y_test, pred))\n",
        "cf_matrix = confusion_matrix(y_test,pred)\n",
        "cf_matrix\n",
        "group_names = ['TN','FP','FN','TP']\n",
        "group_counts = [\"{0:0.0f}\".format(value) for value in\n",
        "                cf_matrix.flatten()]\n",
        "group_percentages = [\"{0:.2%}\".format(value) for value in\n",
        "                     cf_matrix.flatten()/np.sum(cf_matrix)]\n",
        "labels = [f\"{v1}\\n{v2}\\n{v3}\" for v1, v2, v3 in\n",
        "          zip(group_names,group_counts,group_percentages)]\n",
        "labels = np.asarray(labels).reshape(2,2)\n",
        "sns.heatmap(cf_matrix, annot=labels, fmt='', cmap='coolwarm')\n",
        "plt.ylabel('True')\n",
        "plt.xlabel('Predicted')\n",
        "plt.show()\n",
        "# TP(양성을 양성으로 판단)\n",
        "# FN(양성을 음성으로 판단) -> 2종 오류 (맞는데 틀리다고)\n",
        "# FP(음성을 양성으로 판단) -> 1종 오류 (틀린데 맞다고)\n",
        "# TN(음성을 음성으로 판단) "
      ],
      "metadata": {
        "colab": {
          "base_uri": "https://localhost:8080/",
          "height": 316
        },
        "id": "Xp7XW2HO4U3J",
        "outputId": "09a06e58-f22f-4110-88e7-7c7b1d0c075d"
      },
      "execution_count": 113,
      "outputs": [
        {
          "output_type": "stream",
          "name": "stdout",
          "text": [
            "[[1273   54]\n",
            " [ 181  118]]\n"
          ]
        },
        {
          "output_type": "display_data",
          "data": {
            "text/plain": [
              "<Figure size 432x288 with 2 Axes>"
            ],
            "image/png": "[encoded data removed]"
          },
          "metadata": {
            "needs_background": "light"
          }
        }
      ]
    },
    {
      "cell_type": "markdown",
      "source": [
        "## 피처 엔지니어링\n",
        "* 피처 (Feature, 특징) : 독립변수\n",
        "* 엔지니어링 : 가공을 해서 더 유의미하게 만들겠다\n",
        "---\n",
        "* Titanic -> Name => Title\n",
        "* 단위 -> 통일"
      ],
      "metadata": {
        "id": "br7-xAVo-DZG"
      }
    },
    {
      "cell_type": "markdown",
      "source": [
        "### age_gap"
      ],
      "metadata": {
        "id": "37-nGmll-gD2"
      }
    },
    {
      "cell_type": "code",
      "source": [
        "df.columns"
      ],
      "metadata": {
        "colab": {
          "base_uri": "https://localhost:8080/"
        },
        "id": "rq69h0fD-jKa",
        "outputId": "b98c47c8-a150-4078-c0ec-604e71c303d4"
      },
      "execution_count": 114,
      "outputs": [
        {
          "output_type": "execute_result",
          "data": {
            "text/plain": [
              "Index(['has_null', 'gender', 'age', 'age_o', 'race', 'race_o',\n",
              "       'importance_same_race', 'importance_same_religion', 'pref_o_attractive',\n",
              "       'pref_o_sincere', 'pref_o_intelligence', 'pref_o_funny',\n",
              "       'pref_o_ambitious', 'pref_o_shared_interests', 'attractive_o',\n",
              "       'sincere_o', 'intelligence_o', 'funny_o', 'ambitous_o',\n",
              "       'shared_interests_o', 'attractive_important', 'sincere_important',\n",
              "       'intellicence_important', 'funny_important', 'ambtition_important',\n",
              "       'shared_interests_important', 'attractive_partner', 'sincere_partner',\n",
              "       'intelligence_partner', 'funny_partner', 'ambition_partner',\n",
              "       'shared_interests_partner', 'interests_correlate',\n",
              "       'expected_happy_with_sd_people', 'expected_num_interested_in_me',\n",
              "       'like', 'guess_prob_liked', 'met', 'match'],\n",
              "      dtype='object')"
            ]
          },
          "metadata": {},
          "execution_count": 114
        }
      ]
    },
    {
      "cell_type": "code",
      "source": [
        "# age : 본인의 나, age_o : 상대방의 나이\n",
        "(df.age == -99).mean()\n",
        "(df.age_o == -99).mean()\n"
      ],
      "metadata": {
        "colab": {
          "base_uri": "https://localhost:8080/"
        },
        "id": "WCVc-S7G-pER",
        "outputId": "e1a003ab-b5d7-4941-aa2a-4e0c56060e03"
      },
      "execution_count": 119,
      "outputs": [
        {
          "output_type": "execute_result",
          "data": {
            "text/plain": [
              "0.002706027060270603"
            ]
          },
          "metadata": {},
          "execution_count": 119
        }
      ]
    },
    {
      "cell_type": "code",
      "source": [
        "# male : 남성 / female : 여성\n",
        "df.gender.unique()"
      ],
      "metadata": {
        "colab": {
          "base_uri": "https://localhost:8080/"
        },
        "id": "wLYB_unvAZlS",
        "outputId": "16d9a688-c83f-4f1c-b3fd-f787d658a768"
      },
      "execution_count": 121,
      "outputs": [
        {
          "output_type": "execute_result",
          "data": {
            "text/plain": [
              "array(['female', 'male'], dtype=object)"
            ]
          },
          "metadata": {},
          "execution_count": 121
        }
      ]
    },
    {
      "cell_type": "code",
      "source": [
        "# 1. 내 나이가 결측치일 경우 -> 결측치\n",
        "# 2. 상대방의 나이가 결측치일 경우 -> 결측치\n",
        "# 3. 상대방과 내 나이가 모두 있을 경우 (차이를 구할 수 있음)\n",
        "# 3-1. (내가 남성) : 상대방과 나이 차이 -> 내 나이에서 상대방 나이를 빼고\n",
        "# 3-2. (... 여성) : 상대방과 나이 차이 -> 상대방 나이에서 내 나이를 빼는 방식\n",
        "# df.apply(..., axis=1) -> 특정 행의 전체 열\n",
        "# df.age = 본인 나이, df.age_o = 상대방 나이\n",
        "\n",
        "def age_gap(row): # 데이터프레임에서 각 행 - 속성(키-밸류)값.\n",
        "    # 1. 내 나이가 결측치(-99)일 경우\n",
        "    if row.age == -99: return -99 # return => 함수가 뒤를 더 이상 처리 X\n",
        "    # 2. 상대방 나이가 ...\n",
        "    if row.age_o == -99: return -99\n",
        "    # 3-1. 남성일 경우 -> 내 나이 - 상대방 나이\n",
        "    if row.gender == 'male': return row.age - row.age_o\n",
        "    # 3-2. 여성일 경우 -> 상대방 나이 - 내 나이\n",
        "    if row.gender == 'female': return row.age_o - row.age\n",
        "    # 나머지 값은 X"
      ],
      "metadata": {
        "id": "9tzKhTVc_QSr"
      },
      "execution_count": 122,
      "outputs": []
    },
    {
      "cell_type": "code",
      "source": [
        "# 행을 기준으로 모든 열을 사용해주려면...\n",
        "\n",
        "df['age_gap']=df.apply(age_gap, axis=1)"
      ],
      "metadata": {
        "colab": {
          "base_uri": "https://localhost:8080/"
        },
        "id": "AJ4n_RpsA4PG",
        "outputId": "a2c675f6-79dd-45cd-a254-dbfae9a09619"
      },
      "execution_count": 126,
      "outputs": [
        {
          "output_type": "stream",
          "name": "stderr",
          "text": [
            "<ipython-input-126-a0c54ae3a111>:3: SettingWithCopyWarning: \n",
            "A value is trying to be set on a copy of a slice from a DataFrame.\n",
            "Try using .loc[row_indexer,col_indexer] = value instead\n",
            "\n",
            "See the caveats in the documentation: https://pandas.pydata.org/pandas-docs/stable/user_guide/indexing.html#returning-a-view-versus-a-copy\n",
            "  df['age_gap']=df.apply(age_gap, axis=1)\n"
          ]
        }
      ]
    },
    {
      "cell_type": "code",
      "source": [
        "# 나이 차이 + 성별간의 차이\n",
        "df['age_gap']"
      ],
      "metadata": {
        "colab": {
          "base_uri": "https://localhost:8080/"
        },
        "id": "T3MB-1U0BGkK",
        "outputId": "0d5bc4a1-bb90-4bcb-bf5d-ad772232c140"
      },
      "execution_count": 127,
      "outputs": [
        {
          "output_type": "execute_result",
          "data": {
            "text/plain": [
              "0       6.00\n",
              "1       1.00\n",
              "2       1.00\n",
              "3       2.00\n",
              "4       3.00\n",
              "        ... \n",
              "8372    1.00\n",
              "8373   -1.00\n",
              "8374    1.00\n",
              "8376    3.00\n",
              "8377    3.00\n",
              "Name: age_gap, Length: 8130, dtype: float64"
            ]
          },
          "metadata": {},
          "execution_count": 127
        }
      ]
    },
    {
      "cell_type": "code",
      "source": [
        "# abs : 절대값 -> 성별의 영향 없이 진짜 나이 차이만 보겠다\n",
        "def age_gap_abs(row):\n",
        "    # 1. 내 나이가 결측치(-99)일 경우\n",
        "    if row.age == -99: return -99 # return => 함수가 뒤를 더 이상 처리 X\n",
        "    # 2. 상대방 나이가 ...\n",
        "    if row.age_o == -99: return -99\n",
        "    # 3. 둘 사이의 차이를 abs() -> 절대값으로 나타내기\n",
        "    return abs(row.age - row.age_o)"
      ],
      "metadata": {
        "id": "xJpy3mmnBUDT"
      },
      "execution_count": 128,
      "outputs": []
    },
    {
      "cell_type": "code",
      "source": [
        "# 행을 기준으로 모든 열을 사용해주려면...\n",
        "df['age_gap_abs']=df.apply(age_gap_abs, axis=1)"
      ],
      "metadata": {
        "colab": {
          "base_uri": "https://localhost:8080/"
        },
        "id": "XOsIByz_Bhg8",
        "outputId": "a18f6957-f0dc-4e02-f302-2f54809bdc7b"
      },
      "execution_count": 129,
      "outputs": [
        {
          "output_type": "stream",
          "name": "stderr",
          "text": [
            "<ipython-input-129-3deae90abbc4>:2: SettingWithCopyWarning: \n",
            "A value is trying to be set on a copy of a slice from a DataFrame.\n",
            "Try using .loc[row_indexer,col_indexer] = value instead\n",
            "\n",
            "See the caveats in the documentation: https://pandas.pydata.org/pandas-docs/stable/user_guide/indexing.html#returning-a-view-versus-a-copy\n",
            "  df['age_gap_abs']=df.apply(age_gap_abs, axis=1)\n"
          ]
        }
      ]
    },
    {
      "cell_type": "code",
      "source": [
        "# 나이 + 성별\n",
        "df['age_gap'].unique()"
      ],
      "metadata": {
        "colab": {
          "base_uri": "https://localhost:8080/"
        },
        "id": "7e8wVNieBk0L",
        "outputId": "2b9d5b03-eb38-4709-e247-3c9280e6fd0a"
      },
      "execution_count": 131,
      "outputs": [
        {
          "output_type": "execute_result",
          "data": {
            "text/plain": [
              "array([  6.,   1.,   2.,   3.,   4.,   9.,   7.,  -2.,  -1.,   0.,  -3.,\n",
              "         5.,   8.,  -4.,  -5.,  -6.,  -7.,  -8.,  -9., -12., -13., -10.,\n",
              "        17.,  10.,  16.,  13.,  12.,  11.,  14., -14., -11.,  18.,  15.,\n",
              "        19.,  20., -16., -15., -22., -28., -32., -99.])"
            ]
          },
          "metadata": {},
          "execution_count": 131
        }
      ]
    },
    {
      "cell_type": "code",
      "source": [
        "# 나이\n",
        "df['age_gap_abs'].unique()"
      ],
      "metadata": {
        "colab": {
          "base_uri": "https://localhost:8080/"
        },
        "id": "-3O-jY71BolR",
        "outputId": "7ec86855-afbc-40a3-d373-6ac963c9769f"
      },
      "execution_count": 130,
      "outputs": [
        {
          "output_type": "execute_result",
          "data": {
            "text/plain": [
              "array([  6.,   1.,   2.,   3.,   4.,   9.,   7.,   0.,   5.,   8.,  12.,\n",
              "        13.,  10.,  17.,  16.,  11.,  14.,  18.,  15.,  19.,  20.,  22.,\n",
              "        28.,  32., -99.])"
            ]
          },
          "metadata": {},
          "execution_count": 130
        }
      ]
    },
    {
      "cell_type": "markdown",
      "source": [
        "### race"
      ],
      "metadata": {
        "id": "3zOrJ0mUB1af"
      }
    },
    {
      "cell_type": "code",
      "source": [
        "# 내 인종\n",
        "df.race.value_counts()"
      ],
      "metadata": {
        "colab": {
          "base_uri": "https://localhost:8080/"
        },
        "id": "senWyRLwCBlm",
        "outputId": "5f15e8e3-eb99-4197-c720-99c2568ac31b"
      },
      "execution_count": 132,
      "outputs": [
        {
          "output_type": "execute_result",
          "data": {
            "text/plain": [
              "European/Caucasian-American             4629\n",
              "Asian/PacificIslander/Asian-American    1946\n",
              "Latino/HispanicAmerican                  631\n",
              "Other                                    513\n",
              "Black/AfricanAmerican                    411\n",
              "Name: race, dtype: int64"
            ]
          },
          "metadata": {},
          "execution_count": 132
        }
      ]
    },
    {
      "cell_type": "code",
      "source": [
        "# 상대방 인종\n",
        "df.race_o.value_counts()"
      ],
      "metadata": {
        "colab": {
          "base_uri": "https://localhost:8080/"
        },
        "id": "hTDMY3upCNJm",
        "outputId": "937742db-2d57-4f8e-8be1-0b85f9eddd96"
      },
      "execution_count": 133,
      "outputs": [
        {
          "output_type": "execute_result",
          "data": {
            "text/plain": [
              "European/Caucasian-American             4629\n",
              "Asian/PacificIslander/Asian-American    1946\n",
              "Latino/HispanicAmerican                  631\n",
              "Other                                    513\n",
              "Black/AfricanAmerican                    411\n",
              "Name: race_o, dtype: int64"
            ]
          },
          "metadata": {},
          "execution_count": 133
        }
      ]
    },
    {
      "cell_type": "code",
      "source": [
        "# 1. 인종이 일치하나?\n",
        "# 2. 일치 여부에 따라서 중요도를 곱해서 점수화\n",
        "# df.race : 내 인종\n",
        "# df.race_o : 상대방 인종\n",
        "# df.apply(..., axis=1) 특정 행의 모든 열의 데이터를 조회\n",
        "def same_race(row):\n",
        "    # 결측치 (-99)\n",
        "    if row.race == -99 or row.race_o == -99: return -99\n",
        "    if row.race == row.race_o: return 1\n",
        "    return -1\n",
        "    # 삼항연산자\n",
        "    # {조건을 만족시켰을 때의 결과값} if {조건} else {만족X 결과값}\n",
        "    # return 1 if row.race == row.race_o else -1"
      ],
      "metadata": {
        "id": "xo71uO89CTRk"
      },
      "execution_count": 134,
      "outputs": []
    },
    {
      "cell_type": "code",
      "source": [
        "df['same_race'] = df.apply(same_race, axis=1)"
      ],
      "metadata": {
        "colab": {
          "base_uri": "https://localhost:8080/"
        },
        "id": "_9CcV4nHDpdN",
        "outputId": "8ed61108-43c6-4f46-d4ad-e1588cb2a674"
      },
      "execution_count": 135,
      "outputs": [
        {
          "output_type": "stream",
          "name": "stderr",
          "text": [
            "<ipython-input-135-14bcb61b2ee3>:1: SettingWithCopyWarning: \n",
            "A value is trying to be set on a copy of a slice from a DataFrame.\n",
            "Try using .loc[row_indexer,col_indexer] = value instead\n",
            "\n",
            "See the caveats in the documentation: https://pandas.pydata.org/pandas-docs/stable/user_guide/indexing.html#returning-a-view-versus-a-copy\n",
            "  df['same_race'] = df.apply(same_race, axis=1)\n"
          ]
        }
      ]
    },
    {
      "cell_type": "code",
      "source": [
        "df['same_race'].value_counts()"
      ],
      "metadata": {
        "colab": {
          "base_uri": "https://localhost:8080/"
        },
        "id": "DttBJ3-WDx5a",
        "outputId": "1d76bb82-8919-4c3c-f744-a33bca5ca6d2"
      },
      "execution_count": 136,
      "outputs": [
        {
          "output_type": "execute_result",
          "data": {
            "text/plain": [
              "-1    4844\n",
              " 1    3286\n",
              "Name: same_race, dtype: int64"
            ]
          },
          "metadata": {},
          "execution_count": 136
        }
      ]
    },
    {
      "cell_type": "code",
      "source": [
        "#같은 인종인지가 얼마나 중요한가염\n",
        "\n",
        "df.importance_same_race.value_counts()"
      ],
      "metadata": {
        "colab": {
          "base_uri": "https://localhost:8080/"
        },
        "id": "2biPjYv-D4V9",
        "outputId": "020a14c4-02cd-4f18-df06-c682e7e6be4e"
      },
      "execution_count": 137,
      "outputs": [
        {
          "output_type": "execute_result",
          "data": {
            "text/plain": [
              "1.00     2749\n",
              "3.00      964\n",
              "2.00      938\n",
              "5.00      644\n",
              "8.00      631\n",
              "7.00      536\n",
              "6.00      516\n",
              "4.00      494\n",
              "9.00      404\n",
              "10.00     246\n",
              "0.00        8\n",
              "Name: importance_same_race, dtype: int64"
            ]
          },
          "metadata": {},
          "execution_count": 137
        }
      ]
    },
    {
      "cell_type": "code",
      "source": [
        "df[df.importance_same_race==10]['match'].mean(), df['match'].mean()\n",
        "\n",
        "#인종이 중요하다에 10점을 준 사람의 매치율"
      ],
      "metadata": {
        "colab": {
          "base_uri": "https://localhost:8080/"
        },
        "id": "o7MRvukUECQI",
        "outputId": "c825aaf9-00fa-455d-edfe-1100dfb87901"
      },
      "execution_count": 143,
      "outputs": [
        {
          "output_type": "execute_result",
          "data": {
            "text/plain": [
              "(0.12601626016260162, 0.16482164821648215)"
            ]
          },
          "metadata": {},
          "execution_count": 143
        }
      ]
    },
    {
      "cell_type": "code",
      "source": [
        "df[df.importance_same_race==1]['match'].mean(), df['match'].mean()"
      ],
      "metadata": {
        "colab": {
          "base_uri": "https://localhost:8080/"
        },
        "id": "W0ISSd7W5a2d",
        "outputId": "09824915-e093-4f72-95ab-3b3372b61d8e"
      },
      "execution_count": 144,
      "outputs": [
        {
          "output_type": "execute_result",
          "data": {
            "text/plain": [
              "(0.1858857766460531, 0.16482164821648215)"
            ]
          },
          "metadata": {},
          "execution_count": 144
        }
      ]
    },
    {
      "cell_type": "code",
      "source": [
        "def same_race_point(row):\n",
        "    if row.same_race == -99: return -99   #결측치 잇으면 처리\n",
        "    return row.same_race * row.importance_same_race #상대와 인종이 같은가 x 중요성"
      ],
      "metadata": {
        "id": "c9YW1Pr0EQYK"
      },
      "execution_count": 63,
      "outputs": []
    },
    {
      "cell_type": "code",
      "source": [
        "df['same_race_point']=df.apply(same_race_point, axis=1)"
      ],
      "metadata": {
        "colab": {
          "base_uri": "https://localhost:8080/"
        },
        "id": "spSUxnBTEeBM",
        "outputId": "7ccf9bb4-f7ad-46c6-f5b3-8849fd8d722e"
      },
      "execution_count": 146,
      "outputs": [
        {
          "output_type": "stream",
          "name": "stderr",
          "text": [
            "<ipython-input-146-323bf8de8188>:1: SettingWithCopyWarning: \n",
            "A value is trying to be set on a copy of a slice from a DataFrame.\n",
            "Try using .loc[row_indexer,col_indexer] = value instead\n",
            "\n",
            "See the caveats in the documentation: https://pandas.pydata.org/pandas-docs/stable/user_guide/indexing.html#returning-a-view-versus-a-copy\n",
            "  df['same_race_point']=df.apply(same_race_point, axis=1)\n"
          ]
        }
      ]
    },
    {
      "cell_type": "code",
      "source": [
        "df['same_race_point'].value_counts()"
      ],
      "metadata": {
        "colab": {
          "base_uri": "https://localhost:8080/"
        },
        "id": "PuiPThsEEh0L",
        "outputId": "b24dc2ce-1cc8-414a-b093-b476082c1b1a"
      },
      "execution_count": 148,
      "outputs": [
        {
          "output_type": "execute_result",
          "data": {
            "text/plain": [
              "-1.00     1765\n",
              "1.00       984\n",
              "-3.00      611\n",
              "-2.00      575\n",
              "2.00       363\n",
              "-5.00      354\n",
              "3.00       353\n",
              "8.00       321\n",
              "-6.00      316\n",
              "-7.00      312\n",
              "-8.00      310\n",
              "5.00       290\n",
              "-4.00      272\n",
              "7.00       224\n",
              "4.00       222\n",
              "-9.00      211\n",
              "6.00       200\n",
              "9.00       193\n",
              "10.00      130\n",
              "-10.00     116\n",
              "0.00         8\n",
              "Name: same_race_point, dtype: int64"
            ]
          },
          "metadata": {},
          "execution_count": 148
        }
      ]
    },
    {
      "cell_type": "code",
      "source": [
        "df[df.same_race_point==10]['match'].mean(), df['match'].mean()  #같은 인종임을 중요하게 여김 + 갘ㅌ은걸 만남"
      ],
      "metadata": {
        "colab": {
          "base_uri": "https://localhost:8080/"
        },
        "id": "-2w5p0KQEoPm",
        "outputId": "7526196e-fa52-4b91-cbd0-f3634377c748"
      },
      "execution_count": 150,
      "outputs": [
        {
          "output_type": "execute_result",
          "data": {
            "text/plain": [
              "(0.17692307692307693, 0.16482164821648215)"
            ]
          },
          "metadata": {},
          "execution_count": 150
        }
      ]
    },
    {
      "cell_type": "code",
      "source": [
        "df[df.same_race_point==-10]['match'].mean(), df['match'].mean()"
      ],
      "metadata": {
        "colab": {
          "base_uri": "https://localhost:8080/"
        },
        "id": "IYL9ZjJlErbu",
        "outputId": "e50aed64-8203-4857-b595-8b06a8c077a8"
      },
      "execution_count": 151,
      "outputs": [
        {
          "output_type": "execute_result",
          "data": {
            "text/plain": [
              "(0.06896551724137931, 0.16482164821648215)"
            ]
          },
          "metadata": {},
          "execution_count": 151
        }
      ]
    },
    {
      "cell_type": "code",
      "source": [
        "df[['race','race_o','same_race','importance_same_race','same_race_point']]"
      ],
      "metadata": {
        "colab": {
          "base_uri": "https://localhost:8080/",
          "height": 424
        },
        "id": "Alzpm43tEylU",
        "outputId": "b3bba8fd-5233-4d96-807d-db12b80a0000"
      },
      "execution_count": 153,
      "outputs": [
        {
          "output_type": "execute_result",
          "data": {
            "text/plain": [
              "                                      race  \\\n",
              "0     Asian/PacificIslander/Asian-American   \n",
              "1     Asian/PacificIslander/Asian-American   \n",
              "2     Asian/PacificIslander/Asian-American   \n",
              "3     Asian/PacificIslander/Asian-American   \n",
              "4     Asian/PacificIslander/Asian-American   \n",
              "...                                    ...   \n",
              "8372           European/Caucasian-American   \n",
              "8373           European/Caucasian-American   \n",
              "8374           European/Caucasian-American   \n",
              "8376           European/Caucasian-American   \n",
              "8377           European/Caucasian-American   \n",
              "\n",
              "                                    race_o  same_race  importance_same_race  \\\n",
              "0              European/Caucasian-American         -1                  2.00   \n",
              "1              European/Caucasian-American         -1                  2.00   \n",
              "2     Asian/PacificIslander/Asian-American          1                  2.00   \n",
              "3              European/Caucasian-American         -1                  2.00   \n",
              "4                  Latino/HispanicAmerican         -1                  2.00   \n",
              "...                                    ...        ...                   ...   \n",
              "8372           European/Caucasian-American          1                  1.00   \n",
              "8373               Latino/HispanicAmerican         -1                  1.00   \n",
              "8374                                 Other         -1                  1.00   \n",
              "8376  Asian/PacificIslander/Asian-American         -1                  1.00   \n",
              "8377  Asian/PacificIslander/Asian-American         -1                  1.00   \n",
              "\n",
              "      same_race_point  \n",
              "0               -2.00  \n",
              "1               -2.00  \n",
              "2                2.00  \n",
              "3               -2.00  \n",
              "4               -2.00  \n",
              "...               ...  \n",
              "8372             1.00  \n",
              "8373            -1.00  \n",
              "8374            -1.00  \n",
              "8376            -1.00  \n",
              "8377            -1.00  \n",
              "\n",
              "[8130 rows x 5 columns]"
            ],
            "text/html": [
              "\n",
              "  <div id=\"df-8459a25b-bd98-49d6-a394-fe759d0b4946\">\n",
              "    <div class=\"colab-df-container\">\n",
              "      <div>\n",
              "<style scoped>\n",
              "    .dataframe tbody tr th:only-of-type {\n",
              "        vertical-align: middle;\n",
              "    }\n",
              "\n",
              "    .dataframe tbody tr th {\n",
              "        vertical-align: top;\n",
              "    }\n",
              "\n",
              "    .dataframe thead th {\n",
              "        text-align: right;\n",
              "    }\n",
              "</style>\n",
              "<table border=\"1\" class=\"dataframe\">\n",
              "  <thead>\n",
              "    <tr style=\"text-align: right;\">\n",
              "      <th></th>\n",
              "      <th>race</th>\n",
              "      <th>race_o</th>\n",
              "      <th>same_race</th>\n",
              "      <th>importance_same_race</th>\n",
              "      <th>same_race_point</th>\n",
              "    </tr>\n",
              "  </thead>\n",
              "  <tbody>\n",
              "    <tr>\n",
              "      <th>0</th>\n",
              "      <td>Asian/PacificIslander/Asian-American</td>\n",
              "      <td>European/Caucasian-American</td>\n",
              "      <td>-1</td>\n",
              "      <td>2.00</td>\n",
              "      <td>-2.00</td>\n",
              "    </tr>\n",
              "    <tr>\n",
              "      <th>1</th>\n",
              "      <td>Asian/PacificIslander/Asian-American</td>\n",
              "      <td>European/Caucasian-American</td>\n",
              "      <td>-1</td>\n",
              "      <td>2.00</td>\n",
              "      <td>-2.00</td>\n",
              "    </tr>\n",
              "    <tr>\n",
              "      <th>2</th>\n",
              "      <td>Asian/PacificIslander/Asian-American</td>\n",
              "      <td>Asian/PacificIslander/Asian-American</td>\n",
              "      <td>1</td>\n",
              "      <td>2.00</td>\n",
              "      <td>2.00</td>\n",
              "    </tr>\n",
              "    <tr>\n",
              "      <th>3</th>\n",
              "      <td>Asian/PacificIslander/Asian-American</td>\n",
              "      <td>European/Caucasian-American</td>\n",
              "      <td>-1</td>\n",
              "      <td>2.00</td>\n",
              "      <td>-2.00</td>\n",
              "    </tr>\n",
              "    <tr>\n",
              "      <th>4</th>\n",
              "      <td>Asian/PacificIslander/Asian-American</td>\n",
              "      <td>Latino/HispanicAmerican</td>\n",
              "      <td>-1</td>\n",
              "      <td>2.00</td>\n",
              "      <td>-2.00</td>\n",
              "    </tr>\n",
              "    <tr>\n",
              "      <th>...</th>\n",
              "      <td>...</td>\n",
              "      <td>...</td>\n",
              "      <td>...</td>\n",
              "      <td>...</td>\n",
              "      <td>...</td>\n",
              "    </tr>\n",
              "    <tr>\n",
              "      <th>8372</th>\n",
              "      <td>European/Caucasian-American</td>\n",
              "      <td>European/Caucasian-American</td>\n",
              "      <td>1</td>\n",
              "      <td>1.00</td>\n",
              "      <td>1.00</td>\n",
              "    </tr>\n",
              "    <tr>\n",
              "      <th>8373</th>\n",
              "      <td>European/Caucasian-American</td>\n",
              "      <td>Latino/HispanicAmerican</td>\n",
              "      <td>-1</td>\n",
              "      <td>1.00</td>\n",
              "      <td>-1.00</td>\n",
              "    </tr>\n",
              "    <tr>\n",
              "      <th>8374</th>\n",
              "      <td>European/Caucasian-American</td>\n",
              "      <td>Other</td>\n",
              "      <td>-1</td>\n",
              "      <td>1.00</td>\n",
              "      <td>-1.00</td>\n",
              "    </tr>\n",
              "    <tr>\n",
              "      <th>8376</th>\n",
              "      <td>European/Caucasian-American</td>\n",
              "      <td>Asian/PacificIslander/Asian-American</td>\n",
              "      <td>-1</td>\n",
              "      <td>1.00</td>\n",
              "      <td>-1.00</td>\n",
              "    </tr>\n",
              "    <tr>\n",
              "      <th>8377</th>\n",
              "      <td>European/Caucasian-American</td>\n",
              "      <td>Asian/PacificIslander/Asian-American</td>\n",
              "      <td>-1</td>\n",
              "      <td>1.00</td>\n",
              "      <td>-1.00</td>\n",
              "    </tr>\n",
              "  </tbody>\n",
              "</table>\n",
              "<p>8130 rows × 5 columns</p>\n",
              "</div>\n",
              "      <button class=\"colab-df-convert\" onclick=\"convertToInteractive('df-8459a25b-bd98-49d6-a394-fe759d0b4946')\"\n",
              "              title=\"Convert this dataframe to an interactive table.\"\n",
              "              style=\"display:none;\">\n",
              "        \n",
              "  <svg xmlns=\"http://www.w3.org/2000/svg\" height=\"24px\"viewBox=\"0 0 24 24\"\n",
              "       width=\"24px\">\n",
              "    <path d=\"M0 0h24v24H0V0z\" fill=\"none\"/>\n",
              "    <path d=\"M18.56 5.44l.94 2.06.94-2.06 2.06-.94-2.06-.94-.94-2.06-.94 2.06-2.06.94zm-11 1L8.5 8.5l.94-2.06 2.06-.94-2.06-.94L8.5 2.5l-.94 2.06-2.06.94zm10 10l.94 2.06.94-2.06 2.06-.94-2.06-.94-.94-2.06-.94 2.06-2.06.94z\"/><path d=\"M17.41 7.96l-1.37-1.37c-.4-.4-.92-.59-1.43-.59-.52 0-1.04.2-1.43.59L10.3 9.45l-7.72 7.72c-.78.78-.78 2.05 0 2.83L4 21.41c.39.39.9.59 1.41.59.51 0 1.02-.2 1.41-.59l7.78-7.78 2.81-2.81c.8-.78.8-2.07 0-2.86zM5.41 20L4 18.59l7.72-7.72 1.47 1.35L5.41 20z\"/>\n",
              "  </svg>\n",
              "      </button>\n",
              "      \n",
              "  <style>\n",
              "    .colab-df-container {\n",
              "      display:flex;\n",
              "      flex-wrap:wrap;\n",
              "      gap: 12px;\n",
              "    }\n",
              "\n",
              "    .colab-df-convert {\n",
              "      background-color: #E8F0FE;\n",
              "      border: none;\n",
              "      border-radius: 50%;\n",
              "      cursor: pointer;\n",
              "      display: none;\n",
              "      fill: #1967D2;\n",
              "      height: 32px;\n",
              "      padding: 0 0 0 0;\n",
              "      width: 32px;\n",
              "    }\n",
              "\n",
              "    .colab-df-convert:hover {\n",
              "      background-color: #E2EBFA;\n",
              "      box-shadow: 0px 1px 2px rgba(60, 64, 67, 0.3), 0px 1px 3px 1px rgba(60, 64, 67, 0.15);\n",
              "      fill: #174EA6;\n",
              "    }\n",
              "\n",
              "    [theme=dark] .colab-df-convert {\n",
              "      background-color: #3B4455;\n",
              "      fill: #D2E3FC;\n",
              "    }\n",
              "\n",
              "    [theme=dark] .colab-df-convert:hover {\n",
              "      background-color: #434B5C;\n",
              "      box-shadow: 0px 1px 3px 1px rgba(0, 0, 0, 0.15);\n",
              "      filter: drop-shadow(0px 1px 2px rgba(0, 0, 0, 0.3));\n",
              "      fill: #FFFFFF;\n",
              "    }\n",
              "  </style>\n",
              "\n",
              "      <script>\n",
              "        const buttonEl =\n",
              "          document.querySelector('#df-8459a25b-bd98-49d6-a394-fe759d0b4946 button.colab-df-convert');\n",
              "        buttonEl.style.display =\n",
              "          google.colab.kernel.accessAllowed ? 'block' : 'none';\n",
              "\n",
              "        async function convertToInteractive(key) {\n",
              "          const element = document.querySelector('#df-8459a25b-bd98-49d6-a394-fe759d0b4946');\n",
              "          const dataTable =\n",
              "            await google.colab.kernel.invokeFunction('convertToInteractive',\n",
              "                                                     [key], {});\n",
              "          if (!dataTable) return;\n",
              "\n",
              "          const docLinkHtml = 'Like what you see? Visit the ' +\n",
              "            '<a target=\"_blank\" href=https://colab.research.google.com/notebooks/data_table.ipynb>data table notebook</a>'\n",
              "            + ' to learn more about interactive tables.';\n",
              "          element.innerHTML = '';\n",
              "          dataTable['output_type'] = 'display_data';\n",
              "          await google.colab.output.renderOutput(dataTable, element);\n",
              "          const docLink = document.createElement('div');\n",
              "          docLink.innerHTML = docLinkHtml;\n",
              "          element.appendChild(docLink);\n",
              "        }\n",
              "      </script>\n",
              "    </div>\n",
              "  </div>\n",
              "  "
            ]
          },
          "metadata": {},
          "execution_count": 153
        }
      ]
    },
    {
      "cell_type": "markdown",
      "source": [
        "### importance & score\n",
        "* 어느 영역을 중요하게 여기는가? 그것에 대한 점수"
      ],
      "metadata": {
        "id": "tY_3bEbVZq-i"
      }
    },
    {
      "cell_type": "code",
      "source": [
        "df.columns"
      ],
      "metadata": {
        "colab": {
          "base_uri": "https://localhost:8080/"
        },
        "id": "N1diqs25ZzoB",
        "outputId": "dbfecb99-f201-4095-81d8-789d5f74ef68"
      },
      "execution_count": 154,
      "outputs": [
        {
          "output_type": "execute_result",
          "data": {
            "text/plain": [
              "Index(['has_null', 'gender', 'age', 'age_o', 'race', 'race_o',\n",
              "       'importance_same_race', 'importance_same_religion', 'pref_o_attractive',\n",
              "       'pref_o_sincere', 'pref_o_intelligence', 'pref_o_funny',\n",
              "       'pref_o_ambitious', 'pref_o_shared_interests', 'attractive_o',\n",
              "       'sincere_o', 'intelligence_o', 'funny_o', 'ambitous_o',\n",
              "       'shared_interests_o', 'attractive_important', 'sincere_important',\n",
              "       'intellicence_important', 'funny_important', 'ambtition_important',\n",
              "       'shared_interests_important', 'attractive_partner', 'sincere_partner',\n",
              "       'intelligence_partner', 'funny_partner', 'ambition_partner',\n",
              "       'shared_interests_partner', 'interests_correlate',\n",
              "       'expected_happy_with_sd_people', 'expected_num_interested_in_me',\n",
              "       'like', 'guess_prob_liked', 'met', 'match', 'age_gap', 'age_gap_abs',\n",
              "       'same_race', 'same_race_point'],\n",
              "      dtype='object')"
            ]
          },
          "metadata": {},
          "execution_count": 154
        }
      ]
    },
    {
      "cell_type": "code",
      "source": [
        "# A : 나, B : 상대방\n",
        "# 상대방의 선호도 (8~13)\n",
        "# B가 특정한 영역에 대해서 얼마나 선호하는지\n",
        "\n",
        "df.columns[8:14]"
      ],
      "metadata": {
        "colab": {
          "base_uri": "https://localhost:8080/"
        },
        "id": "KT-HzjnLZ_Gk",
        "outputId": "2c91b6de-456d-4b85-aeb5-48ba9aeb627e"
      },
      "execution_count": 155,
      "outputs": [
        {
          "output_type": "execute_result",
          "data": {
            "text/plain": [
              "Index(['pref_o_attractive', 'pref_o_sincere', 'pref_o_intelligence',\n",
              "       'pref_o_funny', 'pref_o_ambitious', 'pref_o_shared_interests'],\n",
              "      dtype='object')"
            ]
          },
          "metadata": {},
          "execution_count": 155
        }
      ]
    },
    {
      "cell_type": "code",
      "source": [
        "# 본인에 대한 상대방의 평가 (14~19)\n",
        "# 나(A)에 대한 상대방(B)의 평가\n",
        "# => 나에 대한 상대방의 특정 영역에 대한 점수\n",
        "\n",
        "df.columns[14:20]"
      ],
      "metadata": {
        "colab": {
          "base_uri": "https://localhost:8080/"
        },
        "id": "Il2skxVkaQ2_",
        "outputId": "6af9fbc5-2447-4406-80e1-e4455b965df9"
      },
      "execution_count": 156,
      "outputs": [
        {
          "output_type": "execute_result",
          "data": {
            "text/plain": [
              "Index(['attractive_o', 'sincere_o', 'intelligence_o', 'funny_o', 'ambitous_o',\n",
              "       'shared_interests_o'],\n",
              "      dtype='object')"
            ]
          },
          "metadata": {},
          "execution_count": 156
        }
      ]
    },
    {
      "cell_type": "code",
      "source": [
        "# 나(본인)의 선호도, 중요도 (20~25)\n",
        "# A(나)가 특정한 영역에 대해서 얼마나 중요히 여기는지\n",
        "\n",
        "df.columns[20:26]"
      ],
      "metadata": {
        "colab": {
          "base_uri": "https://localhost:8080/"
        },
        "id": "3zW3Rg9LaojG",
        "outputId": "e242d661-3236-4563-b9ca-55cc4d62dc95"
      },
      "execution_count": 157,
      "outputs": [
        {
          "output_type": "execute_result",
          "data": {
            "text/plain": [
              "Index(['attractive_important', 'sincere_important', 'intellicence_important',\n",
              "       'funny_important', 'ambtition_important', 'shared_interests_important'],\n",
              "      dtype='object')"
            ]
          },
          "metadata": {},
          "execution_count": 157
        }
      ]
    },
    {
      "cell_type": "code",
      "source": [
        "# 상대방에 대한 본인의 평가\n",
        "# 상대방(B)에 대한 나(A)의 평가\n",
        "\n",
        "df.columns[26:32]"
      ],
      "metadata": {
        "colab": {
          "base_uri": "https://localhost:8080/"
        },
        "id": "LcGZBb3cay35",
        "outputId": "62e3ce7b-2206-4c44-c2bc-612edfe29837"
      },
      "execution_count": 158,
      "outputs": [
        {
          "output_type": "execute_result",
          "data": {
            "text/plain": [
              "Index(['attractive_partner', 'sincere_partner', 'intelligence_partner',\n",
              "       'funny_partner', 'ambition_partner', 'shared_interests_partner'],\n",
              "      dtype='object')"
            ]
          },
          "metadata": {},
          "execution_count": 158
        }
      ]
    },
    {
      "cell_type": "code",
      "source": [
        "print(f\"상대방의 선호도 : {df.columns[8:14].tolist()}\")\n",
        "print(f\"본인에 대한 상대방의 평가 : {df.columns[14:20].tolist()}\")\n",
        "print(f\"본인의 선호도 : {df.columns[20:26].tolist()}\")\n",
        "print(f\"상대방에 대한 본인의 평가 : {df.columns[26:32].tolist()}\")"
      ],
      "metadata": {
        "colab": {
          "base_uri": "https://localhost:8080/"
        },
        "id": "mr7yIGB0bA-v",
        "outputId": "8b43f5ce-1385-48db-cbf8-f9f377921439"
      },
      "execution_count": 159,
      "outputs": [
        {
          "output_type": "stream",
          "name": "stdout",
          "text": [
            "상대방의 선호도 : ['pref_o_attractive', 'pref_o_sincere', 'pref_o_intelligence', 'pref_o_funny', 'pref_o_ambitious', 'pref_o_shared_interests']\n",
            "본인에 대한 상대방의 평가 : ['attractive_o', 'sincere_o', 'intelligence_o', 'funny_o', 'ambitous_o', 'shared_interests_o']\n",
            "본인의 선호도 : ['attractive_important', 'sincere_important', 'intellicence_important', 'funny_important', 'ambtition_important', 'shared_interests_important']\n",
            "상대방에 대한 본인의 평가 : ['attractive_partner', 'sincere_partner', 'intelligence_partner', 'funny_partner', 'ambition_partner', 'shared_interests_partner']\n"
          ]
        }
      ]
    },
    {
      "cell_type": "code",
      "source": [
        "partner_imp = df.columns[8:14] # 상대방이 얼마나 중요하게 여기는지\n",
        "partner_rate_me = df.columns[14:20] # 나에 대한 상대방의 평가\n",
        "my_imp = df.columns[20:26] # 내가 얼마나 중요하게 여기는지\n",
        "my_rate_partner = df.columns[26:32] # 상대방에 대한 나의 평가"
      ],
      "metadata": {
        "id": "JuE2TUftbLbB"
      },
      "execution_count": 160,
      "outputs": []
    },
    {
      "cell_type": "code",
      "source": [
        "# imp & rate => 평가(score)\n",
        "\n",
        "new_label_partner = ['attractive_p',\n",
        "                     'sincere_p',\n",
        "                     'intelligence_p',\n",
        "                     'funny_p',\n",
        "                     'ambitous_p',\n",
        "                     'shared_interests_p']\n",
        "# partner가 나에 대해 중요도 * 평가 -> 최종 평가\n",
        "\n",
        "new_label_me = ['attractive_m',\n",
        "                'sincere_m',\n",
        "                'intelligence_m',\n",
        "                'funny_m',\n",
        "                'ambitous_m',\n",
        "                'shared_interests_m']\n",
        "# 내가 상대방에 대해 중요도 * 평가 -> 최종 평가"
      ],
      "metadata": {
        "id": "nc_0m-YObj8f"
      },
      "execution_count": 163,
      "outputs": []
    },
    {
      "cell_type": "code",
      "source": [
        "# 얼마나 중요한지, 평가 대상에 대한 점수\n",
        "# row -> importance : 중요도 열 이름, score : 평가 열 이름\n",
        "\n",
        "def rating(row, importance, score):\n",
        "    # 둘 중에 하나라도 결측치면? -> -99\n",
        "    if (row[importance] == -99) or (row[score] == -99): return -99\n",
        "    # 중요도 * 평가 => return\n",
        "    return row[importance] * row[score]"
      ],
      "metadata": {
        "id": "yE8Or5FicIFX"
      },
      "execution_count": 164,
      "outputs": []
    },
    {
      "cell_type": "code",
      "source": [
        "# 평가 점수 열 이름, 중요도 열 이름 -> 새로운 라벨 열 이름\n",
        "# 파트너 -> 나\n",
        "for i, j, k in zip(new_label_partner, partner_imp, partner_rate_me):  #zip : 같은 인덱스에 있는 시퀀스의 요소를 같은 인덱스로.\n",
        "    print(f\"{i} & {j} & {k}\")"
      ],
      "metadata": {
        "colab": {
          "base_uri": "https://localhost:8080/"
        },
        "id": "U4mZudqGc1EP",
        "outputId": "f54853d7-a454-4746-d18d-bee72468ad6f"
      },
      "execution_count": 72,
      "outputs": [
        {
          "output_type": "stream",
          "name": "stdout",
          "text": [
            "attractive_p & pref_o_attractive & attractive_o\n",
            "sincere_p & pref_o_sincere & sincere_o\n",
            "intelligence_p & pref_o_intelligence & intelligence_o\n",
            "funny_p & pref_o_funny & funny_o\n",
            "ambitous_p & pref_o_ambitious & ambitous_o\n",
            "shared_interests_p & pref_o_shared_interests & shared_interests_o\n"
          ]
        }
      ]
    },
    {
      "cell_type": "code",
      "source": [
        "# 나 -> 파트너\n",
        "for i, j, k in zip(new_label_me, my_imp, my_rate_partner):\n",
        "    print(f\"{i} & {j} & {k}\")"
      ],
      "metadata": {
        "colab": {
          "base_uri": "https://localhost:8080/"
        },
        "id": "bShJCOgVdsWt",
        "outputId": "457a811b-e806-4d62-d87d-21cd12cf0977"
      },
      "execution_count": 73,
      "outputs": [
        {
          "output_type": "stream",
          "name": "stdout",
          "text": [
            "attractive_m & attractive_important & attractive_partner\n",
            "sincere_m & sincere_important & sincere_partner\n",
            "intelligence_m & intellicence_important & intelligence_partner\n",
            "funny_m & funny_important & funny_partner\n",
            "ambitous_m & ambtition_important & ambition_partner\n",
            "shared_interests_m & shared_interests_important & shared_interests_partner\n"
          ]
        }
      ]
    },
    {
      "cell_type": "code",
      "source": [
        "# 파트너가 나에게 느끼는 점수\n",
        "for i, j, k in zip(new_label_partner, partner_imp, partner_rate_me):\n",
        "    # print(f\"{i} & {j} & {k}\")\n",
        "    # i : 새롭게 만들, 파트너가 내게 느끼는 중요도x점수\n",
        "    # j : 파트너가 중요하게 여기는 정도 (importance)\n",
        "    # k ; 나에 대한 파트너의 평가 (score)\n",
        "    # apply 내부는 -> 변수를 1개만 제공 (row)\n",
        "    \n",
        "    df[i]=df.apply(lambda row : rating(row, j, k), axis=1)\n"
      ],
      "metadata": {
        "colab": {
          "base_uri": "https://localhost:8080/"
        },
        "id": "KCMSG1x7eBqg",
        "outputId": "8eca866a-cca0-4e2d-a293-c45fdc9f2aa3"
      },
      "execution_count": 167,
      "outputs": [
        {
          "output_type": "stream",
          "name": "stderr",
          "text": [
            "<ipython-input-167-b3294bc99ad6>:9: SettingWithCopyWarning: \n",
            "A value is trying to be set on a copy of a slice from a DataFrame.\n",
            "Try using .loc[row_indexer,col_indexer] = value instead\n",
            "\n",
            "See the caveats in the documentation: https://pandas.pydata.org/pandas-docs/stable/user_guide/indexing.html#returning-a-view-versus-a-copy\n",
            "  df[i]=df.apply(lambda row : rating(row, j, k), axis=1)\n",
            "<ipython-input-167-b3294bc99ad6>:9: SettingWithCopyWarning: \n",
            "A value is trying to be set on a copy of a slice from a DataFrame.\n",
            "Try using .loc[row_indexer,col_indexer] = value instead\n",
            "\n",
            "See the caveats in the documentation: https://pandas.pydata.org/pandas-docs/stable/user_guide/indexing.html#returning-a-view-versus-a-copy\n",
            "  df[i]=df.apply(lambda row : rating(row, j, k), axis=1)\n",
            "<ipython-input-167-b3294bc99ad6>:9: SettingWithCopyWarning: \n",
            "A value is trying to be set on a copy of a slice from a DataFrame.\n",
            "Try using .loc[row_indexer,col_indexer] = value instead\n",
            "\n",
            "See the caveats in the documentation: https://pandas.pydata.org/pandas-docs/stable/user_guide/indexing.html#returning-a-view-versus-a-copy\n",
            "  df[i]=df.apply(lambda row : rating(row, j, k), axis=1)\n",
            "<ipython-input-167-b3294bc99ad6>:9: SettingWithCopyWarning: \n",
            "A value is trying to be set on a copy of a slice from a DataFrame.\n",
            "Try using .loc[row_indexer,col_indexer] = value instead\n",
            "\n",
            "See the caveats in the documentation: https://pandas.pydata.org/pandas-docs/stable/user_guide/indexing.html#returning-a-view-versus-a-copy\n",
            "  df[i]=df.apply(lambda row : rating(row, j, k), axis=1)\n",
            "<ipython-input-167-b3294bc99ad6>:9: SettingWithCopyWarning: \n",
            "A value is trying to be set on a copy of a slice from a DataFrame.\n",
            "Try using .loc[row_indexer,col_indexer] = value instead\n",
            "\n",
            "See the caveats in the documentation: https://pandas.pydata.org/pandas-docs/stable/user_guide/indexing.html#returning-a-view-versus-a-copy\n",
            "  df[i]=df.apply(lambda row : rating(row, j, k), axis=1)\n",
            "<ipython-input-167-b3294bc99ad6>:9: SettingWithCopyWarning: \n",
            "A value is trying to be set on a copy of a slice from a DataFrame.\n",
            "Try using .loc[row_indexer,col_indexer] = value instead\n",
            "\n",
            "See the caveats in the documentation: https://pandas.pydata.org/pandas-docs/stable/user_guide/indexing.html#returning-a-view-versus-a-copy\n",
            "  df[i]=df.apply(lambda row : rating(row, j, k), axis=1)\n"
          ]
        }
      ]
    },
    {
      "cell_type": "code",
      "source": [
        "df.head()"
      ],
      "metadata": {
        "colab": {
          "base_uri": "https://localhost:8080/",
          "height": 386
        },
        "id": "DGCkMgCnenVH",
        "outputId": "35440859-abcb-4b66-9bc1-749761ef64d5"
      },
      "execution_count": 168,
      "outputs": [
        {
          "output_type": "execute_result",
          "data": {
            "text/plain": [
              "   has_null  gender   age  age_o                                  race  \\\n",
              "0         0  female 21.00  27.00  Asian/PacificIslander/Asian-American   \n",
              "1         0  female 21.00  22.00  Asian/PacificIslander/Asian-American   \n",
              "2         1  female 21.00  22.00  Asian/PacificIslander/Asian-American   \n",
              "3         0  female 21.00  23.00  Asian/PacificIslander/Asian-American   \n",
              "4         0  female 21.00  24.00  Asian/PacificIslander/Asian-American   \n",
              "\n",
              "                                 race_o  importance_same_race  \\\n",
              "0           European/Caucasian-American                  2.00   \n",
              "1           European/Caucasian-American                  2.00   \n",
              "2  Asian/PacificIslander/Asian-American                  2.00   \n",
              "3           European/Caucasian-American                  2.00   \n",
              "4               Latino/HispanicAmerican                  2.00   \n",
              "\n",
              "   importance_same_religion  pref_o_attractive  pref_o_sincere  ...  age_gap  \\\n",
              "0                      4.00              35.00           20.00  ...     6.00   \n",
              "1                      4.00              60.00            0.00  ...     1.00   \n",
              "2                      4.00              19.00           18.00  ...     1.00   \n",
              "3                      4.00              30.00            5.00  ...     2.00   \n",
              "4                      4.00              30.00           10.00  ...     3.00   \n",
              "\n",
              "   age_gap_abs  same_race  same_race_point  attractive_p  sincere_p  \\\n",
              "0         6.00         -1            -2.00        210.00     160.00   \n",
              "1         1.00         -1            -2.00        420.00       0.00   \n",
              "2         1.00          1             2.00        190.00     180.00   \n",
              "3         2.00         -1            -2.00        210.00      40.00   \n",
              "4         3.00         -1            -2.00        240.00      70.00   \n",
              "\n",
              "   intelligence_p  funny_p  ambitous_p  shared_interests_p  \n",
              "0          160.00   160.00        0.00               30.00  \n",
              "1            0.00   280.00        0.00                0.00  \n",
              "2          190.00   180.00      140.00              120.00  \n",
              "3          135.00   320.00       45.00               40.00  \n",
              "4          180.00    60.00       90.00              140.00  \n",
              "\n",
              "[5 rows x 49 columns]"
            ],
            "text/html": [
              "\n",
              "  <div id=\"df-2ee05d93-362e-4adf-b0cc-7d42c476ad02\">\n",
              "    <div class=\"colab-df-container\">\n",
              "      <div>\n",
              "<style scoped>\n",
              "    .dataframe tbody tr th:only-of-type {\n",
              "        vertical-align: middle;\n",
              "    }\n",
              "\n",
              "    .dataframe tbody tr th {\n",
              "        vertical-align: top;\n",
              "    }\n",
              "\n",
              "    .dataframe thead th {\n",
              "        text-align: right;\n",
              "    }\n",
              "</style>\n",
              "<table border=\"1\" class=\"dataframe\">\n",
              "  <thead>\n",
              "    <tr style=\"text-align: right;\">\n",
              "      <th></th>\n",
              "      <th>has_null</th>\n",
              "      <th>gender</th>\n",
              "      <th>age</th>\n",
              "      <th>age_o</th>\n",
              "      <th>race</th>\n",
              "      <th>race_o</th>\n",
              "      <th>importance_same_race</th>\n",
              "      <th>importance_same_religion</th>\n",
              "      <th>pref_o_attractive</th>\n",
              "      <th>pref_o_sincere</th>\n",
              "      <th>...</th>\n",
              "      <th>age_gap</th>\n",
              "      <th>age_gap_abs</th>\n",
              "      <th>same_race</th>\n",
              "      <th>same_race_point</th>\n",
              "      <th>attractive_p</th>\n",
              "      <th>sincere_p</th>\n",
              "      <th>intelligence_p</th>\n",
              "      <th>funny_p</th>\n",
              "      <th>ambitous_p</th>\n",
              "      <th>shared_interests_p</th>\n",
              "    </tr>\n",
              "  </thead>\n",
              "  <tbody>\n",
              "    <tr>\n",
              "      <th>0</th>\n",
              "      <td>0</td>\n",
              "      <td>female</td>\n",
              "      <td>21.00</td>\n",
              "      <td>27.00</td>\n",
              "      <td>Asian/PacificIslander/Asian-American</td>\n",
              "      <td>European/Caucasian-American</td>\n",
              "      <td>2.00</td>\n",
              "      <td>4.00</td>\n",
              "      <td>35.00</td>\n",
              "      <td>20.00</td>\n",
              "      <td>...</td>\n",
              "      <td>6.00</td>\n",
              "      <td>6.00</td>\n",
              "      <td>-1</td>\n",
              "      <td>-2.00</td>\n",
              "      <td>210.00</td>\n",
              "      <td>160.00</td>\n",
              "      <td>160.00</td>\n",
              "      <td>160.00</td>\n",
              "      <td>0.00</td>\n",
              "      <td>30.00</td>\n",
              "    </tr>\n",
              "    <tr>\n",
              "      <th>1</th>\n",
              "      <td>0</td>\n",
              "      <td>female</td>\n",
              "      <td>21.00</td>\n",
              "      <td>22.00</td>\n",
              "      <td>Asian/PacificIslander/Asian-American</td>\n",
              "      <td>European/Caucasian-American</td>\n",
              "      <td>2.00</td>\n",
              "      <td>4.00</td>\n",
              "      <td>60.00</td>\n",
              "      <td>0.00</td>\n",
              "      <td>...</td>\n",
              "      <td>1.00</td>\n",
              "      <td>1.00</td>\n",
              "      <td>-1</td>\n",
              "      <td>-2.00</td>\n",
              "      <td>420.00</td>\n",
              "      <td>0.00</td>\n",
              "      <td>0.00</td>\n",
              "      <td>280.00</td>\n",
              "      <td>0.00</td>\n",
              "      <td>0.00</td>\n",
              "    </tr>\n",
              "    <tr>\n",
              "      <th>2</th>\n",
              "      <td>1</td>\n",
              "      <td>female</td>\n",
              "      <td>21.00</td>\n",
              "      <td>22.00</td>\n",
              "      <td>Asian/PacificIslander/Asian-American</td>\n",
              "      <td>Asian/PacificIslander/Asian-American</td>\n",
              "      <td>2.00</td>\n",
              "      <td>4.00</td>\n",
              "      <td>19.00</td>\n",
              "      <td>18.00</td>\n",
              "      <td>...</td>\n",
              "      <td>1.00</td>\n",
              "      <td>1.00</td>\n",
              "      <td>1</td>\n",
              "      <td>2.00</td>\n",
              "      <td>190.00</td>\n",
              "      <td>180.00</td>\n",
              "      <td>190.00</td>\n",
              "      <td>180.00</td>\n",
              "      <td>140.00</td>\n",
              "      <td>120.00</td>\n",
              "    </tr>\n",
              "    <tr>\n",
              "      <th>3</th>\n",
              "      <td>0</td>\n",
              "      <td>female</td>\n",
              "      <td>21.00</td>\n",
              "      <td>23.00</td>\n",
              "      <td>Asian/PacificIslander/Asian-American</td>\n",
              "      <td>European/Caucasian-American</td>\n",
              "      <td>2.00</td>\n",
              "      <td>4.00</td>\n",
              "      <td>30.00</td>\n",
              "      <td>5.00</td>\n",
              "      <td>...</td>\n",
              "      <td>2.00</td>\n",
              "      <td>2.00</td>\n",
              "      <td>-1</td>\n",
              "      <td>-2.00</td>\n",
              "      <td>210.00</td>\n",
              "      <td>40.00</td>\n",
              "      <td>135.00</td>\n",
              "      <td>320.00</td>\n",
              "      <td>45.00</td>\n",
              "      <td>40.00</td>\n",
              "    </tr>\n",
              "    <tr>\n",
              "      <th>4</th>\n",
              "      <td>0</td>\n",
              "      <td>female</td>\n",
              "      <td>21.00</td>\n",
              "      <td>24.00</td>\n",
              "      <td>Asian/PacificIslander/Asian-American</td>\n",
              "      <td>Latino/HispanicAmerican</td>\n",
              "      <td>2.00</td>\n",
              "      <td>4.00</td>\n",
              "      <td>30.00</td>\n",
              "      <td>10.00</td>\n",
              "      <td>...</td>\n",
              "      <td>3.00</td>\n",
              "      <td>3.00</td>\n",
              "      <td>-1</td>\n",
              "      <td>-2.00</td>\n",
              "      <td>240.00</td>\n",
              "      <td>70.00</td>\n",
              "      <td>180.00</td>\n",
              "      <td>60.00</td>\n",
              "      <td>90.00</td>\n",
              "      <td>140.00</td>\n",
              "    </tr>\n",
              "  </tbody>\n",
              "</table>\n",
              "<p>5 rows × 49 columns</p>\n",
              "</div>\n",
              "      <button class=\"colab-df-convert\" onclick=\"convertToInteractive('df-2ee05d93-362e-4adf-b0cc-7d42c476ad02')\"\n",
              "              title=\"Convert this dataframe to an interactive table.\"\n",
              "              style=\"display:none;\">\n",
              "        \n",
              "  <svg xmlns=\"http://www.w3.org/2000/svg\" height=\"24px\"viewBox=\"0 0 24 24\"\n",
              "       width=\"24px\">\n",
              "    <path d=\"M0 0h24v24H0V0z\" fill=\"none\"/>\n",
              "    <path d=\"M18.56 5.44l.94 2.06.94-2.06 2.06-.94-2.06-.94-.94-2.06-.94 2.06-2.06.94zm-11 1L8.5 8.5l.94-2.06 2.06-.94-2.06-.94L8.5 2.5l-.94 2.06-2.06.94zm10 10l.94 2.06.94-2.06 2.06-.94-2.06-.94-.94-2.06-.94 2.06-2.06.94z\"/><path d=\"M17.41 7.96l-1.37-1.37c-.4-.4-.92-.59-1.43-.59-.52 0-1.04.2-1.43.59L10.3 9.45l-7.72 7.72c-.78.78-.78 2.05 0 2.83L4 21.41c.39.39.9.59 1.41.59.51 0 1.02-.2 1.41-.59l7.78-7.78 2.81-2.81c.8-.78.8-2.07 0-2.86zM5.41 20L4 18.59l7.72-7.72 1.47 1.35L5.41 20z\"/>\n",
              "  </svg>\n",
              "      </button>\n",
              "      \n",
              "  <style>\n",
              "    .colab-df-container {\n",
              "      display:flex;\n",
              "      flex-wrap:wrap;\n",
              "      gap: 12px;\n",
              "    }\n",
              "\n",
              "    .colab-df-convert {\n",
              "      background-color: #E8F0FE;\n",
              "      border: none;\n",
              "      border-radius: 50%;\n",
              "      cursor: pointer;\n",
              "      display: none;\n",
              "      fill: #1967D2;\n",
              "      height: 32px;\n",
              "      padding: 0 0 0 0;\n",
              "      width: 32px;\n",
              "    }\n",
              "\n",
              "    .colab-df-convert:hover {\n",
              "      background-color: #E2EBFA;\n",
              "      box-shadow: 0px 1px 2px rgba(60, 64, 67, 0.3), 0px 1px 3px 1px rgba(60, 64, 67, 0.15);\n",
              "      fill: #174EA6;\n",
              "    }\n",
              "\n",
              "    [theme=dark] .colab-df-convert {\n",
              "      background-color: #3B4455;\n",
              "      fill: #D2E3FC;\n",
              "    }\n",
              "\n",
              "    [theme=dark] .colab-df-convert:hover {\n",
              "      background-color: #434B5C;\n",
              "      box-shadow: 0px 1px 3px 1px rgba(0, 0, 0, 0.15);\n",
              "      filter: drop-shadow(0px 1px 2px rgba(0, 0, 0, 0.3));\n",
              "      fill: #FFFFFF;\n",
              "    }\n",
              "  </style>\n",
              "\n",
              "      <script>\n",
              "        const buttonEl =\n",
              "          document.querySelector('#df-2ee05d93-362e-4adf-b0cc-7d42c476ad02 button.colab-df-convert');\n",
              "        buttonEl.style.display =\n",
              "          google.colab.kernel.accessAllowed ? 'block' : 'none';\n",
              "\n",
              "        async function convertToInteractive(key) {\n",
              "          const element = document.querySelector('#df-2ee05d93-362e-4adf-b0cc-7d42c476ad02');\n",
              "          const dataTable =\n",
              "            await google.colab.kernel.invokeFunction('convertToInteractive',\n",
              "                                                     [key], {});\n",
              "          if (!dataTable) return;\n",
              "\n",
              "          const docLinkHtml = 'Like what you see? Visit the ' +\n",
              "            '<a target=\"_blank\" href=https://colab.research.google.com/notebooks/data_table.ipynb>data table notebook</a>'\n",
              "            + ' to learn more about interactive tables.';\n",
              "          element.innerHTML = '';\n",
              "          dataTable['output_type'] = 'display_data';\n",
              "          await google.colab.output.renderOutput(dataTable, element);\n",
              "          const docLink = document.createElement('div');\n",
              "          docLink.innerHTML = docLinkHtml;\n",
              "          element.appendChild(docLink);\n",
              "        }\n",
              "      </script>\n",
              "    </div>\n",
              "  </div>\n",
              "  "
            ]
          },
          "metadata": {},
          "execution_count": 168
        }
      ]
    },
    {
      "cell_type": "code",
      "source": [
        "# 내가 상대방에게 느끼는 점수\n",
        "for i, j, k in zip(new_label_me, my_imp, my_rate_partner):\n",
        "    # print(f\"{i} & {j} & {k}\")\n",
        "    # i : 새롭게 만들, 중요도x점수\n",
        "    # j : 중요하게 여기는 정도 (importance)\n",
        "    # k ; 평가 (score)\n",
        "    # apply 내부는 -> 변수를 1개만 제공 (row)\n",
        "\n",
        "    df[i]=df.apply(lambda row : rating(row, j, k), axis=1)\n",
        "    "
      ],
      "metadata": {
        "colab": {
          "base_uri": "https://localhost:8080/"
        },
        "id": "rFPPy0dNeyNv",
        "outputId": "efc67958-e126-4dc0-ff23-9fd006d7a16c"
      },
      "execution_count": 169,
      "outputs": [
        {
          "output_type": "stream",
          "name": "stderr",
          "text": [
            "<ipython-input-169-bc12805e0831>:9: SettingWithCopyWarning: \n",
            "A value is trying to be set on a copy of a slice from a DataFrame.\n",
            "Try using .loc[row_indexer,col_indexer] = value instead\n",
            "\n",
            "See the caveats in the documentation: https://pandas.pydata.org/pandas-docs/stable/user_guide/indexing.html#returning-a-view-versus-a-copy\n",
            "  df[i]=df.apply(lambda row : rating(row, j, k), axis=1)\n",
            "<ipython-input-169-bc12805e0831>:9: SettingWithCopyWarning: \n",
            "A value is trying to be set on a copy of a slice from a DataFrame.\n",
            "Try using .loc[row_indexer,col_indexer] = value instead\n",
            "\n",
            "See the caveats in the documentation: https://pandas.pydata.org/pandas-docs/stable/user_guide/indexing.html#returning-a-view-versus-a-copy\n",
            "  df[i]=df.apply(lambda row : rating(row, j, k), axis=1)\n",
            "<ipython-input-169-bc12805e0831>:9: SettingWithCopyWarning: \n",
            "A value is trying to be set on a copy of a slice from a DataFrame.\n",
            "Try using .loc[row_indexer,col_indexer] = value instead\n",
            "\n",
            "See the caveats in the documentation: https://pandas.pydata.org/pandas-docs/stable/user_guide/indexing.html#returning-a-view-versus-a-copy\n",
            "  df[i]=df.apply(lambda row : rating(row, j, k), axis=1)\n",
            "<ipython-input-169-bc12805e0831>:9: SettingWithCopyWarning: \n",
            "A value is trying to be set on a copy of a slice from a DataFrame.\n",
            "Try using .loc[row_indexer,col_indexer] = value instead\n",
            "\n",
            "See the caveats in the documentation: https://pandas.pydata.org/pandas-docs/stable/user_guide/indexing.html#returning-a-view-versus-a-copy\n",
            "  df[i]=df.apply(lambda row : rating(row, j, k), axis=1)\n",
            "<ipython-input-169-bc12805e0831>:9: SettingWithCopyWarning: \n",
            "A value is trying to be set on a copy of a slice from a DataFrame.\n",
            "Try using .loc[row_indexer,col_indexer] = value instead\n",
            "\n",
            "See the caveats in the documentation: https://pandas.pydata.org/pandas-docs/stable/user_guide/indexing.html#returning-a-view-versus-a-copy\n",
            "  df[i]=df.apply(lambda row : rating(row, j, k), axis=1)\n",
            "<ipython-input-169-bc12805e0831>:9: SettingWithCopyWarning: \n",
            "A value is trying to be set on a copy of a slice from a DataFrame.\n",
            "Try using .loc[row_indexer,col_indexer] = value instead\n",
            "\n",
            "See the caveats in the documentation: https://pandas.pydata.org/pandas-docs/stable/user_guide/indexing.html#returning-a-view-versus-a-copy\n",
            "  df[i]=df.apply(lambda row : rating(row, j, k), axis=1)\n"
          ]
        }
      ]
    },
    {
      "cell_type": "code",
      "source": [
        "df.columns"
      ],
      "metadata": {
        "colab": {
          "base_uri": "https://localhost:8080/"
        },
        "id": "LblqwJm9fEgO",
        "outputId": "c3d74100-1722-45cb-dff8-629db50f9a99"
      },
      "execution_count": 170,
      "outputs": [
        {
          "output_type": "execute_result",
          "data": {
            "text/plain": [
              "Index(['has_null', 'gender', 'age', 'age_o', 'race', 'race_o',\n",
              "       'importance_same_race', 'importance_same_religion', 'pref_o_attractive',\n",
              "       'pref_o_sincere', 'pref_o_intelligence', 'pref_o_funny',\n",
              "       'pref_o_ambitious', 'pref_o_shared_interests', 'attractive_o',\n",
              "       'sincere_o', 'intelligence_o', 'funny_o', 'ambitous_o',\n",
              "       'shared_interests_o', 'attractive_important', 'sincere_important',\n",
              "       'intellicence_important', 'funny_important', 'ambtition_important',\n",
              "       'shared_interests_important', 'attractive_partner', 'sincere_partner',\n",
              "       'intelligence_partner', 'funny_partner', 'ambition_partner',\n",
              "       'shared_interests_partner', 'interests_correlate',\n",
              "       'expected_happy_with_sd_people', 'expected_num_interested_in_me',\n",
              "       'like', 'guess_prob_liked', 'met', 'match', 'age_gap', 'age_gap_abs',\n",
              "       'same_race', 'same_race_point', 'attractive_p', 'sincere_p',\n",
              "       'intelligence_p', 'funny_p', 'ambitous_p', 'shared_interests_p',\n",
              "       'attractive_m', 'sincere_m', 'intelligence_m', 'funny_m', 'ambitous_m',\n",
              "       'shared_interests_m'],\n",
              "      dtype='object')"
            ]
          },
          "metadata": {},
          "execution_count": 170
        }
      ]
    },
    {
      "cell_type": "markdown",
      "source": [
        "## 범주형 변수"
      ],
      "metadata": {
        "id": "fynb9DPGfKZK"
      }
    },
    {
      "cell_type": "code",
      "source": [
        "df=pd.get_dummies(\n",
        "    df, columns=df.describe(include=\"O\").columns\n",
        "    #drop_first\n",
        ")"
      ],
      "metadata": {
        "id": "etA-MO3bfI4h"
      },
      "execution_count": 171,
      "outputs": []
    },
    {
      "cell_type": "code",
      "source": [
        "df.info()"
      ],
      "metadata": {
        "id": "KiQxhZrRfpcW"
      },
      "execution_count": null,
      "outputs": []
    },
    {
      "cell_type": "markdown",
      "source": [
        "# 모델링 (마침내!)"
      ],
      "metadata": {
        "id": "RGcVQeNMfve7"
      }
    },
    {
      "cell_type": "code",
      "source": [
        "from sklearn.model_selection import train_test_split"
      ],
      "metadata": {
        "id": "m0c-i-dHftB9"
      },
      "execution_count": 174,
      "outputs": []
    },
    {
      "cell_type": "code",
      "source": [
        "X=df2.drop('match', axis=1)   #독립, 관측, 피쳐변수\n",
        "y=df2['match']                #종속, 예측(목표), 라벨"
      ],
      "metadata": {
        "id": "6GfqNXRg_UPa"
      },
      "execution_count": 176,
      "outputs": []
    },
    {
      "cell_type": "code",
      "source": [
        "X_train, X_test, y_train, y_test = train_test_split(\n",
        "    X,y,test_size=0.2, random_state=230\n",
        ")"
      ],
      "metadata": {
        "id": "pBOy_l2L_PMk"
      },
      "execution_count": 177,
      "outputs": []
    },
    {
      "cell_type": "code",
      "source": [
        "import xgboost as xgb"
      ],
      "metadata": {
        "id": "8TkFMVKfgNJ1"
      },
      "execution_count": 178,
      "outputs": []
    },
    {
      "cell_type": "code",
      "source": [
        "model = xgb.XGBClassifier(\n",
        "    n_estimator=500,\n",
        "    max_depth=5,\n",
        "    n_jobs=-1,\n",
        "    random_state=23)"
      ],
      "metadata": {
        "id": "BXmmPSfSgRMV"
      },
      "execution_count": 185,
      "outputs": []
    },
    {
      "cell_type": "code",
      "source": [
        "model.fit(X_train, y_train)"
      ],
      "metadata": {
        "colab": {
          "base_uri": "https://localhost:8080/",
          "height": 304
        },
        "id": "kqW9vEh1gWGu",
        "outputId": "c156a5fe-cf77-4c8f-99d3-be9280e6ee07"
      },
      "execution_count": 186,
      "outputs": [
        {
          "output_type": "stream",
          "name": "stdout",
          "text": [
            "[05:47:38] WARNING: ../src/learner.cc:767: \n",
            "Parameters: { \"n_estimator\" } are not used.\n",
            "\n"
          ]
        },
        {
          "output_type": "execute_result",
          "data": {
            "text/plain": [
              "XGBClassifier(base_score=None, booster=None, callbacks=None,\n",
              "              colsample_bylevel=None, colsample_bynode=None,\n",
              "              colsample_bytree=None, early_stopping_rounds=None,\n",
              "              enable_categorical=False, eval_metric=None, feature_types=None,\n",
              "              gamma=None, gpu_id=None, grow_policy=None, importance_type=None,\n",
              "              interaction_constraints=None, learning_rate=None, max_bin=None,\n",
              "              max_cat_threshold=None, max_cat_to_onehot=None,\n",
              "              max_delta_step=None, max_depth=5, max_leaves=None,\n",
              "              min_child_weight=None, missing=nan, monotone_constraints=None,\n",
              "              n_estimator=500, n_estimators=100, n_jobs=-1,\n",
              "              num_parallel_tree=None, predictor=None, ...)"
            ],
            "text/html": [
              "<style>#sk-container-id-4 {color: black;background-color: white;}#sk-container-id-4 pre{padding: 0;}#sk-container-id-4 div.sk-toggleable {background-color: white;}#sk-container-id-4 label.sk-toggleable__label {cursor: pointer;display: block;width: 100%;margin-bottom: 0;padding: 0.3em;box-sizing: border-box;text-align: center;}#sk-container-id-4 label.sk-toggleable__label-arrow:before {content: \"▸\";float: left;margin-right: 0.25em;color: #696969;}#sk-container-id-4 label.sk-toggleable__label-arrow:hover:before {color: black;}#sk-container-id-4 div.sk-estimator:hover label.sk-toggleable__label-arrow:before {color: black;}#sk-container-id-4 div.sk-toggleable__content {max-height: 0;max-width: 0;overflow: hidden;text-align: left;background-color: #f0f8ff;}#sk-container-id-4 div.sk-toggleable__content pre {margin: 0.2em;color: black;border-radius: 0.25em;background-color: #f0f8ff;}#sk-container-id-4 input.sk-toggleable__control:checked~div.sk-toggleable__content {max-height: 200px;max-width: 100%;overflow: auto;}#sk-container-id-4 input.sk-toggleable__control:checked~label.sk-toggleable__label-arrow:before {content: \"▾\";}#sk-container-id-4 div.sk-estimator input.sk-toggleable__control:checked~label.sk-toggleable__label {background-color: #d4ebff;}#sk-container-id-4 div.sk-label input.sk-toggleable__control:checked~label.sk-toggleable__label {background-color: #d4ebff;}#sk-container-id-4 input.sk-hidden--visually {border: 0;clip: rect(1px 1px 1px 1px);clip: rect(1px, 1px, 1px, 1px);height: 1px;margin: -1px;overflow: hidden;padding: 0;position: absolute;width: 1px;}#sk-container-id-4 div.sk-estimator {font-family: monospace;background-color: #f0f8ff;border: 1px dotted black;border-radius: 0.25em;box-sizing: border-box;margin-bottom: 0.5em;}#sk-container-id-4 div.sk-estimator:hover {background-color: #d4ebff;}#sk-container-id-4 div.sk-parallel-item::after {content: \"\";width: 100%;border-bottom: 1px solid gray;flex-grow: 1;}#sk-container-id-4 div.sk-label:hover label.sk-toggleable__label {background-color: #d4ebff;}#sk-container-id-4 div.sk-serial::before {content: \"\";position: absolute;border-left: 1px solid gray;box-sizing: border-box;top: 0;bottom: 0;left: 50%;z-index: 0;}#sk-container-id-4 div.sk-serial {display: flex;flex-direction: column;align-items: center;background-color: white;padding-right: 0.2em;padding-left: 0.2em;position: relative;}#sk-container-id-4 div.sk-item {position: relative;z-index: 1;}#sk-container-id-4 div.sk-parallel {display: flex;align-items: stretch;justify-content: center;background-color: white;position: relative;}#sk-container-id-4 div.sk-item::before, #sk-container-id-4 div.sk-parallel-item::before {content: \"\";position: absolute;border-left: 1px solid gray;box-sizing: border-box;top: 0;bottom: 0;left: 50%;z-index: -1;}#sk-container-id-4 div.sk-parallel-item {display: flex;flex-direction: column;z-index: 1;position: relative;background-color: white;}#sk-container-id-4 div.sk-parallel-item:first-child::after {align-self: flex-end;width: 50%;}#sk-container-id-4 div.sk-parallel-item:last-child::after {align-self: flex-start;width: 50%;}#sk-container-id-4 div.sk-parallel-item:only-child::after {width: 0;}#sk-container-id-4 div.sk-dashed-wrapped {border: 1px dashed gray;margin: 0 0.4em 0.5em 0.4em;box-sizing: border-box;padding-bottom: 0.4em;background-color: white;}#sk-container-id-4 div.sk-label label {font-family: monospace;font-weight: bold;display: inline-block;line-height: 1.2em;}#sk-container-id-4 div.sk-label-container {text-align: center;}#sk-container-id-4 div.sk-container {/* jupyter's `normalize.less` sets `[hidden] { display: none; }` but bootstrap.min.css set `[hidden] { display: none !important; }` so we also need the `!important` here to be able to override the default hidden behavior on the sphinx rendered scikit-learn.org. See: https://github.com/scikit-learn/scikit-learn/issues/21755 */display: inline-block !important;position: relative;}#sk-container-id-4 div.sk-text-repr-fallback {display: none;}</style><div id=\"sk-container-id-4\" class=\"sk-top-container\"><div class=\"sk-text-repr-fallback\"><pre>XGBClassifier(base_score=None, booster=None, callbacks=None,\n",
              "              colsample_bylevel=None, colsample_bynode=None,\n",
              "              colsample_bytree=None, early_stopping_rounds=None,\n",
              "              enable_categorical=False, eval_metric=None, feature_types=None,\n",
              "              gamma=None, gpu_id=None, grow_policy=None, importance_type=None,\n",
              "              interaction_constraints=None, learning_rate=None, max_bin=None,\n",
              "              max_cat_threshold=None, max_cat_to_onehot=None,\n",
              "              max_delta_step=None, max_depth=5, max_leaves=None,\n",
              "              min_child_weight=None, missing=nan, monotone_constraints=None,\n",
              "              n_estimator=500, n_estimators=100, n_jobs=-1,\n",
              "              num_parallel_tree=None, predictor=None, ...)</pre><b>In a Jupyter environment, please rerun this cell to show the HTML representation or trust the notebook. <br />On GitHub, the HTML representation is unable to render, please try loading this page with nbviewer.org.</b></div><div class=\"sk-container\" hidden><div class=\"sk-item\"><div class=\"sk-estimator sk-toggleable\"><input class=\"sk-toggleable__control sk-hidden--visually\" id=\"sk-estimator-id-4\" type=\"checkbox\" checked><label for=\"sk-estimator-id-4\" class=\"sk-toggleable__label sk-toggleable__label-arrow\">XGBClassifier</label><div class=\"sk-toggleable__content\"><pre>XGBClassifier(base_score=None, booster=None, callbacks=None,\n",
              "              colsample_bylevel=None, colsample_bynode=None,\n",
              "              colsample_bytree=None, early_stopping_rounds=None,\n",
              "              enable_categorical=False, eval_metric=None, feature_types=None,\n",
              "              gamma=None, gpu_id=None, grow_policy=None, importance_type=None,\n",
              "              interaction_constraints=None, learning_rate=None, max_bin=None,\n",
              "              max_cat_threshold=None, max_cat_to_onehot=None,\n",
              "              max_delta_step=None, max_depth=5, max_leaves=None,\n",
              "              min_child_weight=None, missing=nan, monotone_constraints=None,\n",
              "              n_estimator=500, n_estimators=100, n_jobs=-1,\n",
              "              num_parallel_tree=None, predictor=None, ...)</pre></div></div></div></div></div>"
            ]
          },
          "metadata": {},
          "execution_count": 186
        }
      ]
    },
    {
      "cell_type": "code",
      "source": [
        "train_pred=model.predict(X_train)\n",
        "test_pred=model.predict(X_test) #시험셋 통해 만든 예측결과"
      ],
      "metadata": {
        "id": "ewgjw98lgX-2"
      },
      "execution_count": 187,
      "outputs": []
    },
    {
      "cell_type": "code",
      "source": [
        "from sklearn.metrics import accuracy_score, confusion_matrix"
      ],
      "metadata": {
        "id": "D2--_r32gf6U"
      },
      "execution_count": 182,
      "outputs": []
    },
    {
      "cell_type": "code",
      "source": [
        "# 학습율\n",
        "\n",
        "print(accuracy_score(y_train, train_pred))\n",
        "print(accuracy_score(y_test, test_pred))\n",
        "\n",
        "#졷되네..."
      ],
      "metadata": {
        "colab": {
          "base_uri": "https://localhost:8080/"
        },
        "id": "X3zE3wYxgoEd",
        "outputId": "c9ce13dc-769e-476d-b5ab-148a198afd97"
      },
      "execution_count": 188,
      "outputs": [
        {
          "output_type": "stream",
          "name": "stdout",
          "text": [
            "0.9883148831488315\n",
            "0.8523985239852399\n"
          ]
        }
      ]
    },
    {
      "cell_type": "code",
      "source": [],
      "metadata": {
        "colab": {
          "base_uri": "https://localhost:8080/"
        },
        "id": "aLg0K99JhK0k",
        "outputId": "10db65ad-d522-40ad-9b63-ea155d638a4e"
      },
      "execution_count": null,
      "outputs": [
        {
          "output_type": "stream",
          "name": "stdout",
          "text": [
            "0.9998462484624846\n",
            "0.8560885608856088\n"
          ]
        }
      ]
    },
    {
      "cell_type": "code",
      "source": [
        "from sklearn.metrics import confusion_matrix\n",
        "\n",
        "# 오른쪽 위 : 1종 오류 - 실제 틀린데 (0) 맞다고 예측 (1) - 68\n",
        "# 왼쪽 아래 : 2종 오류 - 실제 맞는데 (1) 틀리다고 예측 (0) - 147\n",
        "print(confusion_matrix(y_test, test_pred))\n",
        "cf_matrix = confusion_matrix(y_test, test_pred)\n",
        "cf_matrix\n",
        "group_names = ['TN','FP','FN','TP']\n",
        "group_counts = [\"{0:0.0f}\".format(value) for value in\n",
        "                cf_matrix.flatten()]\n",
        "group_percentages = [\"{0:.2%}\".format(value) for value in\n",
        "                     cf_matrix.flatten()/np.sum(cf_matrix)]\n",
        "labels = [f\"{v1}\\n{v2}\\n{v3}\" for v1, v2, v3 in\n",
        "          zip(group_names,group_counts,group_percentages)]\n",
        "labels = np.asarray(labels).reshape(2,2)\n",
        "sns.heatmap(cf_matrix, annot=labels, fmt='', cmap='coolwarm')\n",
        "plt.ylabel('True')\n",
        "plt.xlabel('Predicted')\n",
        "plt.show()\n",
        "# TP(양성을 양성으로 판단)\n",
        "# FN(양성을 음성으로 판단) -> 2종 오류 (맞는데 틀리다고)\n",
        "# FP(음성을 양성으로 판단) -> 1종 오류 (틀린데 맞다고)\n",
        "# TN(음성을 음성으로 판단) "
      ],
      "metadata": {
        "colab": {
          "base_uri": "https://localhost:8080/",
          "height": 315
        },
        "id": "0rTre4xBmKhj",
        "outputId": "ce2e4e39-07bf-463a-a21b-e6b94baef410"
      },
      "execution_count": null,
      "outputs": [
        {
          "output_type": "stream",
          "name": "stdout",
          "text": [
            "[[1265   62]\n",
            " [ 172  127]]\n"
          ]
        },
        {
          "output_type": "display_data",
          "data": {
            "text/plain": [
              "<Figure size 432x288 with 2 Axes>"
            ],
            "image/png": "[encoded data removed]"
          },
          "metadata": {
            "needs_background": "light"
          }
        }
      ]
    },
    {
      "cell_type": "markdown",
      "source": [
        "## Classfication Report (분류 리포트)\n",
        "* 이진분류 할 때 중요 (3개 이상 분류할 때는 상대적으로 덜 중요함)"
      ],
      "metadata": {
        "id": "cdhsIwyym1PF"
      }
    },
    {
      "cell_type": "code",
      "source": [
        "from sklearn.metrics import classification_report"
      ],
      "metadata": {
        "id": "LersgpJdms7f"
      },
      "execution_count": 189,
      "outputs": []
    },
    {
      "cell_type": "code",
      "source": [
        "print(classification_report(y_test, test_pred))"
      ],
      "metadata": {
        "colab": {
          "base_uri": "https://localhost:8080/"
        },
        "id": "2iMrhkNRmys0",
        "outputId": "4aa2d6a8-dec7-448d-a1d4-32692d336225"
      },
      "execution_count": 190,
      "outputs": [
        {
          "output_type": "stream",
          "name": "stdout",
          "text": [
            "              precision    recall  f1-score   support\n",
            "\n",
            "           0       0.88      0.95      0.91      1327\n",
            "           1       0.65      0.42      0.51       299\n",
            "\n",
            "    accuracy                           0.85      1626\n",
            "   macro avg       0.77      0.69      0.71      1626\n",
            "weighted avg       0.84      0.85      0.84      1626\n",
            "\n"
          ]
        }
      ]
    },
    {
      "cell_type": "markdown",
      "source": [
        "* 0 : match 성사가 안 된 경우\n",
        "* **1 : match 성사된 경우** (분석대상이 되는쪽, 예측대상)\n",
        "* `precision` : 정밀도\n",
        "* `recall` : 재현율\n",
        "* `f1-score` : f1-점수"
      ],
      "metadata": {
        "id": "z3mwvOtZnC6B"
      }
    },
    {
      "cell_type": "markdown",
      "source": [
        "#### 정밀도(precision)\n",
        "* 1로 예측한 경우 중, 얼마만큼이 실제로 1인지를 나타냄<br>\n",
        "$TP\\over(TP+FP)$\n",
        "=\n",
        "$\\frac{양성을 양성으로 판단}{양성을 양성으로 판단 + 1종 오류}$\n",
        "=\n",
        "$\\frac{양성을 양성으로 판단}{양성으로 판단한 수}$\n",
        "> FP가 커질수록 분모가 커지기 때문에 정밀도는 낮아짐 (1종 오류와 관련)\n",
        "\n",
        "* 1종 오류 / 위양성 / 아닌데 맞다고 / 안 걸렸는데 걸렸다고 나옴\n",
        "* 정밀도가 높아지려면 0인데 1로 잘못 분류한게 적어져야함 (FP)"
      ],
      "metadata": {
        "id": "ukKP1ER1ncWf"
      }
    },
    {
      "cell_type": "markdown",
      "source": [
        "#### 재현율(recall)\n",
        "* 실제로 1 중에, 얼마만큼을 1로 예측했는지 나타냄<br>\n",
        "$TP\\over(TP+FN)$\n",
        "=\n",
        "$\\frac{양성을 양성으로 판단}{양성을 양성으로 판단 + 2종 오류}$\n",
        "=\n",
        "$\\frac{양성을 양성으로 판단}{실제로 양성인 수}$\n",
        "> FN가 커질수록 분모가 커지기 때문에 재현율은 낮아짐 (2종 오류와 관련)\n",
        "\n",
        "* 2종 오류 : 맞는데 아니라고 / 걸렸는데 안걸렸다고..\n",
        "* 재현율이 높아지려고 하면 : 실제로는 1인데 0으로 잡히는 위음성이 줄어들어야함 (FN)"
      ],
      "metadata": {
        "id": "8l_6VeHJn5B5"
      }
    },
    {
      "cell_type": "markdown",
      "source": [
        "#### F-1점수(f-score)\n",
        "* 정밀도와 재현율의 조화평균<br>\n",
        "* 조화평균 : 주어진 수들의 역수의 산술평균의 역수\n",
        "    * 예) $H = \\frac{2a_1a_2}{a_1 + a_2}$\n",
        "\n",
        "$2 \\times \\frac{precision \\times recall}{precesion + recall}$\n",
        "=\n",
        "$2 \\times \\frac{정밀도 \\times 재현율}{정밀도 + 재현율}$\n",
        "\n",
        "> 1종 오류가 중요하면 정밀도, 2종 오류가 중요하면 재현율<br>\n",
        "> 딱히 중요한 것 없으면 F1-점수"
      ],
      "metadata": {
        "id": "zpVE_tjSogE2"
      }
    },
    {
      "cell_type": "markdown",
      "source": [
        "## 하이퍼 파라미터 튜닝"
      ],
      "metadata": {
        "id": "1W0SHW5gpCpw"
      }
    },
    {
      "cell_type": "markdown",
      "source": [
        "### 경사하강법\n",
        "* 머신 러닝이 학습시킬 때 최소의 오차를 찾는 방법\n",
        "* 오차 함수에 대한 경사도(미분계수)를 기준으로 매개변수를 반복적으로 이동해가며 최소 오차를 찾음\n",
        "* 매개변수? : 선형 회귀에서의 계수(변수에 대한 기울기 값)에 해당\n",
        "\n",
        "**경사하강법과 보폭**\n",
        "* 경사부스팅의 핵심개념 중 하나로, 모델이 어떻게 최소 오차가 되는 매개변수들을 학습하는지에 대한 방법\n",
        "* 오차식에 대한 미분계수를 통해 매개 변수의 이동 방향과 보폭을 결정\n",
        "* 보폭은 매개변수를 얼만큼씩 이동할지를 의미\n",
        "\n",
        "**미분계수**\n",
        "* 평균변화율에서 x의 증가량을 0으로 가깝게 할 때의 평균변화율\n",
        "* 그래프 상에서 접선의 기울기, 계수"
      ],
      "metadata": {
        "id": "J4IJsJH6pEiJ"
      }
    },
    {
      "cell_type": "markdown",
      "source": [
        "* learning_rate\n",
        "    * 경사하강법에서 ‘매개변수’를 얼만큼씩 이동해가면서 최소 오차를 찾을지, 그 보폭의 크기를 결정하는 하이퍼파라미터.\n",
        "    * 기본적으로 보폭은 미분계수에 의해 결정되지만, learning_rate를 크게 하면 더 큰 보폭을, 작게 하면 그만큼 작은 보폭으로 움직임.\n",
        "    * learning rate를 우리말로 학습률이라고 함\n",
        "    * 학습률과 보폭 : 학습률은 입력, 보폭은 그 결과. 큰 학습률을 사용하면 결과적으로 보폭도 커짐\n",
        "    * 너무 작은 학습률 -> 상당한 시간이 들고, 오버피팅 문제 일어남\n",
        "    * 너무 큰 학습률 -> 학습이 제대로 안 됨\n",
        "    * 적절한 크기의 학습률을 사용해야만 큰 시간을 들이지 않고 최소 오차 지점을 찾을 수 있음\n",
        "* max_depth : 각 트리의 깊이를 제한\n",
        "* subsample : 모델을 학습시킬 때 일부 데이터만 사용하여 각 트리를 만듦. 0.5를 쓰면 데이터의 절반씩만 랜덤 추출하여 트리를 만듦. 이 또한 오버피팅을 방지하는 데 도움이 됨\n",
        "* n_estimators : 전체 나무의 개수."
      ],
      "metadata": {
        "id": "rHQ38rm1plPK"
      }
    },
    {
      "cell_type": "markdown",
      "source": [
        "### 그리드 서치\n",
        "* 하이퍼 패러미터 튜닝\n",
        "    * 방법 1 : KNN for문으로 가능한 조합을 다 넣어봄 -> 학습 빠르고, 그 때 데이터 자체가 적었고...\n",
        "    * 방법 2 : 직관, 왠지 잘 되는 수치가 있음\n",
        "    * 방법 3 : 순정. -> default\n",
        "    ...\n",
        "    * 일반적인 몇 가지 수치들을 가지고 조합을 만들어보자\n",
        "    * grid - 격자 -> 처리\n",
        "      만들ㅇ 수 있는 조합 다해본"
      ],
      "metadata": {
        "id": "du5Tc0UnqA28"
      }
    },
    {
      "cell_type": "code",
      "source": [
        "# 학습률 : learning_rate\n",
        "# max_depth, subsample, nestimators\n",
        "# dictionary\n",
        "parameter = {\n",
        "    'learning_rate': [0.01, 0.1, 0.3], # 학습에 쓰이는 매개변수를 조절해서 최소 오차 허용을 조작 -> 보폭 수정\n",
        "    'max_depth': [5, 7, 10], # 트리의 깊이 제한 (오버피팅)\n",
        "    'subsample': [0.5, 0.7, 1], # 학습할 때 데이터 전체 쓰는 게 아니라, subsample 비율에 따라서 부분만 추출\n",
        "    'n_estimators': [300, 500, 1000] # 트리 개수 3^4 = 81\n",
        "}\n",
        "# parameter = {\n",
        "#     'learning_rate': [0.3],\n",
        "#     'max_depth': [5],\n",
        "#     'subsample': [0.5],\n",
        "#     'n_estimators': [1000]\n",
        "# }"
      ],
      "metadata": {
        "id": "KrFHCnHHqvlB"
      },
      "execution_count": 192,
      "outputs": []
    },
    {
      "cell_type": "code",
      "source": [
        "from sklearn.model_selection import GridSearchCV"
      ],
      "metadata": {
        "id": "W-afJYW_rfDL"
      },
      "execution_count": 191,
      "outputs": []
    },
    {
      "cell_type": "code",
      "source": [
        "model = xgb.XGBClassifier(verbosity=3)  #ver어쩌고는 뭔일생기면 메시지 볼수잇음"
      ],
      "metadata": {
        "id": "EwsDvrxyrkay"
      },
      "execution_count": 193,
      "outputs": []
    },
    {
      "cell_type": "code",
      "source": [
        "# 모델, 패러미터 dict, n_jobs, scoring='f1', cv=5\n",
        "# cv = kfold -> folding\n",
        "# Cross Validation\n",
        "gs_model = GridSearchCV(      #그리드서치\n",
        "    # n_jobs : CPU 개수 (-1 : 최대로.. colab 2개)\n",
        "    # scoring : grid별로 모델이 만들어지는 셈 => 모델 간의 비교를? \n",
        "    # cv : 얼마나 나눠서 평균치를 구해줄거냐 (Kfold에서의 k)\n",
        "    model, parameter, n_jobs=-1, scoring='f1', cv=5, verbose=1\n",
        ")"
      ],
      "metadata": {
        "id": "BKdXVQ8Grm7x"
      },
      "execution_count": 195,
      "outputs": []
    },
    {
      "cell_type": "code",
      "source": [
        "gs_model.fit(X_train, y_train)"
      ],
      "metadata": {
        "id": "zjYh-12YsZgB",
        "colab": {
          "base_uri": "https://localhost:8080/",
          "height": 345
        },
        "outputId": "b87d4825-a0a0-4bf5-b64a-32feb0024a5d"
      },
      "execution_count": 196,
      "outputs": [
        {
          "output_type": "stream",
          "name": "stdout",
          "text": [
            "Fitting 5 folds for each of 81 candidates, totalling 405 fits\n"
          ]
        },
        {
          "output_type": "error",
          "ename": "KeyboardInterrupt",
          "evalue": "ignored",
          "traceback": [
            "\u001b[0;31m---------------------------------------------------------------------------\u001b[0m",
            "\u001b[0;31mKeyboardInterrupt\u001b[0m                         Traceback (most recent call last)",
            "\u001b[0;32m<ipython-input-196-499575958019>\u001b[0m in \u001b[0;36m<module>\u001b[0;34m\u001b[0m\n\u001b[0;32m----> 1\u001b[0;31m \u001b[0mgs_model\u001b[0m\u001b[0;34m.\u001b[0m\u001b[0mfit\u001b[0m\u001b[0;34m(\u001b[0m\u001b[0mX_train\u001b[0m\u001b[0;34m,\u001b[0m \u001b[0my_train\u001b[0m\u001b[0;34m)\u001b[0m\u001b[0;34m\u001b[0m\u001b[0;34m\u001b[0m\u001b[0m\n\u001b[0m",
            "\u001b[0;32m/usr/local/lib/python3.9/dist-packages/sklearn/model_selection/_search.py\u001b[0m in \u001b[0;36mfit\u001b[0;34m(self, X, y, groups, **fit_params)\u001b[0m\n\u001b[1;32m    872\u001b[0m                 \u001b[0;32mreturn\u001b[0m \u001b[0mresults\u001b[0m\u001b[0;34m\u001b[0m\u001b[0;34m\u001b[0m\u001b[0m\n\u001b[1;32m    873\u001b[0m \u001b[0;34m\u001b[0m\u001b[0m\n\u001b[0;32m--> 874\u001b[0;31m             \u001b[0mself\u001b[0m\u001b[0;34m.\u001b[0m\u001b[0m_run_search\u001b[0m\u001b[0;34m(\u001b[0m\u001b[0mevaluate_candidates\u001b[0m\u001b[0;34m)\u001b[0m\u001b[0;34m\u001b[0m\u001b[0;34m\u001b[0m\u001b[0m\n\u001b[0m\u001b[1;32m    875\u001b[0m \u001b[0;34m\u001b[0m\u001b[0m\n\u001b[1;32m    876\u001b[0m             \u001b[0;31m# multimetric is determined here because in the case of a callable\u001b[0m\u001b[0;34m\u001b[0m\u001b[0;34m\u001b[0m\u001b[0m\n",
            "\u001b[0;32m/usr/local/lib/python3.9/dist-packages/sklearn/model_selection/_search.py\u001b[0m in \u001b[0;36m_run_search\u001b[0;34m(self, evaluate_candidates)\u001b[0m\n\u001b[1;32m   1386\u001b[0m     \u001b[0;32mdef\u001b[0m \u001b[0m_run_search\u001b[0m\u001b[0;34m(\u001b[0m\u001b[0mself\u001b[0m\u001b[0;34m,\u001b[0m \u001b[0mevaluate_candidates\u001b[0m\u001b[0;34m)\u001b[0m\u001b[0;34m:\u001b[0m\u001b[0;34m\u001b[0m\u001b[0;34m\u001b[0m\u001b[0m\n\u001b[1;32m   1387\u001b[0m         \u001b[0;34m\"\"\"Search all candidates in param_grid\"\"\"\u001b[0m\u001b[0;34m\u001b[0m\u001b[0;34m\u001b[0m\u001b[0m\n\u001b[0;32m-> 1388\u001b[0;31m         \u001b[0mevaluate_candidates\u001b[0m\u001b[0;34m(\u001b[0m\u001b[0mParameterGrid\u001b[0m\u001b[0;34m(\u001b[0m\u001b[0mself\u001b[0m\u001b[0;34m.\u001b[0m\u001b[0mparam_grid\u001b[0m\u001b[0;34m)\u001b[0m\u001b[0;34m)\u001b[0m\u001b[0;34m\u001b[0m\u001b[0;34m\u001b[0m\u001b[0m\n\u001b[0m\u001b[1;32m   1389\u001b[0m \u001b[0;34m\u001b[0m\u001b[0m\n\u001b[1;32m   1390\u001b[0m \u001b[0;34m\u001b[0m\u001b[0m\n",
            "\u001b[0;32m/usr/local/lib/python3.9/dist-packages/sklearn/model_selection/_search.py\u001b[0m in \u001b[0;36mevaluate_candidates\u001b[0;34m(candidate_params, cv, more_results)\u001b[0m\n\u001b[1;32m    819\u001b[0m                     )\n\u001b[1;32m    820\u001b[0m \u001b[0;34m\u001b[0m\u001b[0m\n\u001b[0;32m--> 821\u001b[0;31m                 out = parallel(\n\u001b[0m\u001b[1;32m    822\u001b[0m                     delayed(_fit_and_score)(\n\u001b[1;32m    823\u001b[0m                         \u001b[0mclone\u001b[0m\u001b[0;34m(\u001b[0m\u001b[0mbase_estimator\u001b[0m\u001b[0;34m)\u001b[0m\u001b[0;34m,\u001b[0m\u001b[0;34m\u001b[0m\u001b[0;34m\u001b[0m\u001b[0m\n",
            "\u001b[0;32m/usr/local/lib/python3.9/dist-packages/sklearn/utils/parallel.py\u001b[0m in \u001b[0;36m__call__\u001b[0;34m(self, iterable)\u001b[0m\n\u001b[1;32m     61\u001b[0m             \u001b[0;32mfor\u001b[0m \u001b[0mdelayed_func\u001b[0m\u001b[0;34m,\u001b[0m \u001b[0margs\u001b[0m\u001b[0;34m,\u001b[0m \u001b[0mkwargs\u001b[0m \u001b[0;32min\u001b[0m \u001b[0miterable\u001b[0m\u001b[0;34m\u001b[0m\u001b[0;34m\u001b[0m\u001b[0m\n\u001b[1;32m     62\u001b[0m         )\n\u001b[0;32m---> 63\u001b[0;31m         \u001b[0;32mreturn\u001b[0m \u001b[0msuper\u001b[0m\u001b[0;34m(\u001b[0m\u001b[0;34m)\u001b[0m\u001b[0;34m.\u001b[0m\u001b[0m__call__\u001b[0m\u001b[0;34m(\u001b[0m\u001b[0miterable_with_config\u001b[0m\u001b[0;34m)\u001b[0m\u001b[0;34m\u001b[0m\u001b[0;34m\u001b[0m\u001b[0m\n\u001b[0m\u001b[1;32m     64\u001b[0m \u001b[0;34m\u001b[0m\u001b[0m\n\u001b[1;32m     65\u001b[0m \u001b[0;34m\u001b[0m\u001b[0m\n",
            "\u001b[0;32m/usr/local/lib/python3.9/dist-packages/joblib/parallel.py\u001b[0m in \u001b[0;36m__call__\u001b[0;34m(self, iterable)\u001b[0m\n\u001b[1;32m   1059\u001b[0m \u001b[0;34m\u001b[0m\u001b[0m\n\u001b[1;32m   1060\u001b[0m             \u001b[0;32mwith\u001b[0m \u001b[0mself\u001b[0m\u001b[0;34m.\u001b[0m\u001b[0m_backend\u001b[0m\u001b[0;34m.\u001b[0m\u001b[0mretrieval_context\u001b[0m\u001b[0;34m(\u001b[0m\u001b[0;34m)\u001b[0m\u001b[0;34m:\u001b[0m\u001b[0;34m\u001b[0m\u001b[0;34m\u001b[0m\u001b[0m\n\u001b[0;32m-> 1061\u001b[0;31m                 \u001b[0mself\u001b[0m\u001b[0;34m.\u001b[0m\u001b[0mretrieve\u001b[0m\u001b[0;34m(\u001b[0m\u001b[0;34m)\u001b[0m\u001b[0;34m\u001b[0m\u001b[0;34m\u001b[0m\u001b[0m\n\u001b[0m\u001b[1;32m   1062\u001b[0m             \u001b[0;31m# Make sure that we get a last message telling us we are done\u001b[0m\u001b[0;34m\u001b[0m\u001b[0;34m\u001b[0m\u001b[0m\n\u001b[1;32m   1063\u001b[0m             \u001b[0melapsed_time\u001b[0m \u001b[0;34m=\u001b[0m \u001b[0mtime\u001b[0m\u001b[0;34m.\u001b[0m\u001b[0mtime\u001b[0m\u001b[0;34m(\u001b[0m\u001b[0;34m)\u001b[0m \u001b[0;34m-\u001b[0m \u001b[0mself\u001b[0m\u001b[0;34m.\u001b[0m\u001b[0m_start_time\u001b[0m\u001b[0;34m\u001b[0m\u001b[0;34m\u001b[0m\u001b[0m\n",
            "\u001b[0;32m/usr/local/lib/python3.9/dist-packages/joblib/parallel.py\u001b[0m in \u001b[0;36mretrieve\u001b[0;34m(self)\u001b[0m\n\u001b[1;32m    936\u001b[0m             \u001b[0;32mtry\u001b[0m\u001b[0;34m:\u001b[0m\u001b[0;34m\u001b[0m\u001b[0;34m\u001b[0m\u001b[0m\n\u001b[1;32m    937\u001b[0m                 \u001b[0;32mif\u001b[0m \u001b[0mgetattr\u001b[0m\u001b[0;34m(\u001b[0m\u001b[0mself\u001b[0m\u001b[0;34m.\u001b[0m\u001b[0m_backend\u001b[0m\u001b[0;34m,\u001b[0m \u001b[0;34m'supports_timeout'\u001b[0m\u001b[0;34m,\u001b[0m \u001b[0;32mFalse\u001b[0m\u001b[0;34m)\u001b[0m\u001b[0;34m:\u001b[0m\u001b[0;34m\u001b[0m\u001b[0;34m\u001b[0m\u001b[0m\n\u001b[0;32m--> 938\u001b[0;31m                     \u001b[0mself\u001b[0m\u001b[0;34m.\u001b[0m\u001b[0m_output\u001b[0m\u001b[0;34m.\u001b[0m\u001b[0mextend\u001b[0m\u001b[0;34m(\u001b[0m\u001b[0mjob\u001b[0m\u001b[0;34m.\u001b[0m\u001b[0mget\u001b[0m\u001b[0;34m(\u001b[0m\u001b[0mtimeout\u001b[0m\u001b[0;34m=\u001b[0m\u001b[0mself\u001b[0m\u001b[0;34m.\u001b[0m\u001b[0mtimeout\u001b[0m\u001b[0;34m)\u001b[0m\u001b[0;34m)\u001b[0m\u001b[0;34m\u001b[0m\u001b[0;34m\u001b[0m\u001b[0m\n\u001b[0m\u001b[1;32m    939\u001b[0m                 \u001b[0;32melse\u001b[0m\u001b[0;34m:\u001b[0m\u001b[0;34m\u001b[0m\u001b[0;34m\u001b[0m\u001b[0m\n\u001b[1;32m    940\u001b[0m                     \u001b[0mself\u001b[0m\u001b[0;34m.\u001b[0m\u001b[0m_output\u001b[0m\u001b[0;34m.\u001b[0m\u001b[0mextend\u001b[0m\u001b[0;34m(\u001b[0m\u001b[0mjob\u001b[0m\u001b[0;34m.\u001b[0m\u001b[0mget\u001b[0m\u001b[0;34m(\u001b[0m\u001b[0;34m)\u001b[0m\u001b[0;34m)\u001b[0m\u001b[0;34m\u001b[0m\u001b[0;34m\u001b[0m\u001b[0m\n",
            "\u001b[0;32m/usr/local/lib/python3.9/dist-packages/joblib/_parallel_backends.py\u001b[0m in \u001b[0;36mwrap_future_result\u001b[0;34m(future, timeout)\u001b[0m\n\u001b[1;32m    540\u001b[0m         AsyncResults.get from multiprocessing.\"\"\"\n\u001b[1;32m    541\u001b[0m         \u001b[0;32mtry\u001b[0m\u001b[0;34m:\u001b[0m\u001b[0;34m\u001b[0m\u001b[0;34m\u001b[0m\u001b[0m\n\u001b[0;32m--> 542\u001b[0;31m             \u001b[0;32mreturn\u001b[0m \u001b[0mfuture\u001b[0m\u001b[0;34m.\u001b[0m\u001b[0mresult\u001b[0m\u001b[0;34m(\u001b[0m\u001b[0mtimeout\u001b[0m\u001b[0;34m=\u001b[0m\u001b[0mtimeout\u001b[0m\u001b[0;34m)\u001b[0m\u001b[0;34m\u001b[0m\u001b[0;34m\u001b[0m\u001b[0m\n\u001b[0m\u001b[1;32m    543\u001b[0m         \u001b[0;32mexcept\u001b[0m \u001b[0mCfTimeoutError\u001b[0m \u001b[0;32mas\u001b[0m \u001b[0me\u001b[0m\u001b[0;34m:\u001b[0m\u001b[0;34m\u001b[0m\u001b[0;34m\u001b[0m\u001b[0m\n\u001b[1;32m    544\u001b[0m             \u001b[0;32mraise\u001b[0m \u001b[0mTimeoutError\u001b[0m \u001b[0;32mfrom\u001b[0m \u001b[0me\u001b[0m\u001b[0;34m\u001b[0m\u001b[0;34m\u001b[0m\u001b[0m\n",
            "\u001b[0;32m/usr/lib/python3.9/concurrent/futures/_base.py\u001b[0m in \u001b[0;36mresult\u001b[0;34m(self, timeout)\u001b[0m\n\u001b[1;32m    439\u001b[0m                     \u001b[0;32mreturn\u001b[0m \u001b[0mself\u001b[0m\u001b[0;34m.\u001b[0m\u001b[0m__get_result\u001b[0m\u001b[0;34m(\u001b[0m\u001b[0;34m)\u001b[0m\u001b[0;34m\u001b[0m\u001b[0;34m\u001b[0m\u001b[0m\n\u001b[1;32m    440\u001b[0m \u001b[0;34m\u001b[0m\u001b[0m\n\u001b[0;32m--> 441\u001b[0;31m                 \u001b[0mself\u001b[0m\u001b[0;34m.\u001b[0m\u001b[0m_condition\u001b[0m\u001b[0;34m.\u001b[0m\u001b[0mwait\u001b[0m\u001b[0;34m(\u001b[0m\u001b[0mtimeout\u001b[0m\u001b[0;34m)\u001b[0m\u001b[0;34m\u001b[0m\u001b[0;34m\u001b[0m\u001b[0m\n\u001b[0m\u001b[1;32m    442\u001b[0m \u001b[0;34m\u001b[0m\u001b[0m\n\u001b[1;32m    443\u001b[0m                 \u001b[0;32mif\u001b[0m \u001b[0mself\u001b[0m\u001b[0;34m.\u001b[0m\u001b[0m_state\u001b[0m \u001b[0;32min\u001b[0m \u001b[0;34m[\u001b[0m\u001b[0mCANCELLED\u001b[0m\u001b[0;34m,\u001b[0m \u001b[0mCANCELLED_AND_NOTIFIED\u001b[0m\u001b[0;34m]\u001b[0m\u001b[0;34m:\u001b[0m\u001b[0;34m\u001b[0m\u001b[0;34m\u001b[0m\u001b[0m\n",
            "\u001b[0;32m/usr/lib/python3.9/threading.py\u001b[0m in \u001b[0;36mwait\u001b[0;34m(self, timeout)\u001b[0m\n\u001b[1;32m    310\u001b[0m         \u001b[0;32mtry\u001b[0m\u001b[0;34m:\u001b[0m    \u001b[0;31m# restore state no matter what (e.g., KeyboardInterrupt)\u001b[0m\u001b[0;34m\u001b[0m\u001b[0;34m\u001b[0m\u001b[0m\n\u001b[1;32m    311\u001b[0m             \u001b[0;32mif\u001b[0m \u001b[0mtimeout\u001b[0m \u001b[0;32mis\u001b[0m \u001b[0;32mNone\u001b[0m\u001b[0;34m:\u001b[0m\u001b[0;34m\u001b[0m\u001b[0;34m\u001b[0m\u001b[0m\n\u001b[0;32m--> 312\u001b[0;31m                 \u001b[0mwaiter\u001b[0m\u001b[0;34m.\u001b[0m\u001b[0macquire\u001b[0m\u001b[0;34m(\u001b[0m\u001b[0;34m)\u001b[0m\u001b[0;34m\u001b[0m\u001b[0;34m\u001b[0m\u001b[0m\n\u001b[0m\u001b[1;32m    313\u001b[0m                 \u001b[0mgotit\u001b[0m \u001b[0;34m=\u001b[0m \u001b[0;32mTrue\u001b[0m\u001b[0;34m\u001b[0m\u001b[0;34m\u001b[0m\u001b[0m\n\u001b[1;32m    314\u001b[0m             \u001b[0;32melse\u001b[0m\u001b[0;34m:\u001b[0m\u001b[0;34m\u001b[0m\u001b[0;34m\u001b[0m\u001b[0m\n",
            "\u001b[0;31mKeyboardInterrupt\u001b[0m: "
          ]
        }
      ]
    },
    {
      "cell_type": "code",
      "source": [
        "gs_model.best_score_    #가장잘나온 F1"
      ],
      "metadata": {
        "id": "_lHKPRAZsc0S",
        "colab": {
          "base_uri": "https://localhost:8080/"
        },
        "outputId": "90ef6d8b-3fba-432d-921b-8aa7289d4db7"
      },
      "execution_count": null,
      "outputs": [
        {
          "output_type": "execute_result",
          "data": {
            "text/plain": [
              "0.5091097109808647"
            ]
          },
          "metadata": {},
          "execution_count": 85
        }
      ]
    },
    {
      "cell_type": "code",
      "source": [
        "gs_model.best_params_"
      ],
      "metadata": {
        "id": "YZC-Ex7z2Wja",
        "colab": {
          "base_uri": "https://localhost:8080/"
        },
        "outputId": "34daf85a-d53f-4435-b4e5-87cb028e28ab"
      },
      "execution_count": null,
      "outputs": [
        {
          "output_type": "execute_result",
          "data": {
            "text/plain": [
              "{'learning_rate': 0.1, 'max_depth': 5, 'n_estimators': 300, 'subsample': 0.5}"
            ]
          },
          "metadata": {},
          "execution_count": 86
        }
      ]
    },
    {
      "cell_type": "code",
      "source": [],
      "metadata": {
        "id": "owwnOMca2aiH"
      },
      "execution_count": null,
      "outputs": []
    },
    {
      "cell_type": "code",
      "source": [
        "print(f\"accuracy_score : {accuracy_score(y_test, pred)}\")\n",
        "print(classification_report(y_test, pred))"
      ],
      "metadata": {
        "id": "G8sbP4yV2ejH",
        "colab": {
          "base_uri": "https://localhost:8080/"
        },
        "outputId": "2d96f6f3-6893-47ba-d2c9-276bd108b0c6"
      },
      "execution_count": null,
      "outputs": [
        {
          "output_type": "stream",
          "name": "stdout",
          "text": [
            "accuracy_score : 0.8579335793357934\n",
            "              precision    recall  f1-score   support\n",
            "\n",
            "           0       0.88      0.96      0.92      1327\n",
            "           1       0.69      0.41      0.52       299\n",
            "\n",
            "    accuracy                           0.86      1626\n",
            "   macro avg       0.78      0.68      0.72      1626\n",
            "weighted avg       0.84      0.86      0.84      1626\n",
            "\n"
          ]
        }
      ]
    },
    {
      "cell_type": "code",
      "source": [
        "!pip install mlxtend -q"
      ],
      "metadata": {
        "id": "Yj9NpMb51RIw"
      },
      "execution_count": null,
      "outputs": []
    },
    {
      "cell_type": "code",
      "source": [
        "import joblib"
      ],
      "metadata": {
        "id": "0VpH2HH1B2WG"
      },
      "execution_count": 197,
      "outputs": []
    },
    {
      "cell_type": "code",
      "source": [
        "import joblib\n",
        "from google.colab import files\n",
        "\n",
        "fn = 'gs_model.pkl'\n",
        "joblib.dump(gs_model, fn)\n",
        "files.download(fn)"
      ],
      "metadata": {
        "colab": {
          "base_uri": "https://localhost:8080/",
          "height": 17
        },
        "id": "2rdIVnQs1V6K",
        "outputId": "8390156b-383e-454d-aa1f-62e5cda1a916"
      },
      "execution_count": 198,
      "outputs": [
        {
          "output_type": "display_data",
          "data": {
            "text/plain": [
              "<IPython.core.display.Javascript object>"
            ],
            "application/javascript": [
              "\n",
              "    async function download(id, filename, size) {\n",
              "      if (!google.colab.kernel.accessAllowed) {\n",
              "        return;\n",
              "      }\n",
              "      const div = document.createElement('div');\n",
              "      const label = document.createElement('label');\n",
              "      label.textContent = `Downloading \"${filename}\": `;\n",
              "      div.appendChild(label);\n",
              "      const progress = document.createElement('progress');\n",
              "      progress.max = size;\n",
              "      div.appendChild(progress);\n",
              "      document.body.appendChild(div);\n",
              "\n",
              "      const buffers = [];\n",
              "      let downloaded = 0;\n",
              "\n",
              "      const channel = await google.colab.kernel.comms.open(id);\n",
              "      // Send a message to notify the kernel that we're ready.\n",
              "      channel.send({})\n",
              "\n",
              "      for await (const message of channel.messages) {\n",
              "        // Send a message to notify the kernel that we're ready.\n",
              "        channel.send({})\n",
              "        if (message.buffers) {\n",
              "          for (const buffer of message.buffers) {\n",
              "            buffers.push(buffer);\n",
              "            downloaded += buffer.byteLength;\n",
              "            progress.value = downloaded;\n",
              "          }\n",
              "        }\n",
              "      }\n",
              "      const blob = new Blob(buffers, {type: 'application/binary'});\n",
              "      const a = document.createElement('a');\n",
              "      a.href = window.URL.createObjectURL(blob);\n",
              "      a.download = filename;\n",
              "      div.appendChild(a);\n",
              "      a.click();\n",
              "      div.remove();\n",
              "    }\n",
              "  "
            ]
          },
          "metadata": {}
        },
        {
          "output_type": "display_data",
          "data": {
            "text/plain": [
              "<IPython.core.display.Javascript object>"
            ],
            "application/javascript": [
              "download(\"download_f9c74b8e-6742-4584-82af-7d03b887f418\", \"gs_model.pkl\", 1073)"
            ]
          },
          "metadata": {}
        }
      ]
    },
    {
      "cell_type": "code",
      "source": [
        "# Github 서버 -> Colab으로 모델 직접 다운로드 받기\n",
        "# wget : 리눅스에서 인터넷 다운로드 받을 때 쓰는 명령어\n",
        "!wget https://github.com/BigData23th/Data/raw/main/gs_model.pkl"
      ],
      "metadata": {
        "id": "5ie7oX7BDWjn",
        "colab": {
          "base_uri": "https://localhost:8080/"
        },
        "outputId": "d162f438-ad4b-441d-c267-1b449c234f75"
      },
      "execution_count": 199,
      "outputs": [
        {
          "output_type": "stream",
          "name": "stdout",
          "text": [
            "--2023-03-23 06:28:19--  https://github.com/BigData23th/Data/raw/main/gs_model.pkl\n",
            "Resolving github.com (github.com)... 140.82.121.3\n",
            "Connecting to github.com (github.com)|140.82.121.3|:443... connected.\n",
            "HTTP request sent, awaiting response... 302 Found\n",
            "Location: https://raw.githubusercontent.com/BigData23th/Data/main/gs_model.pkl [following]\n",
            "--2023-03-23 06:28:19--  https://raw.githubusercontent.com/BigData23th/Data/main/gs_model.pkl\n",
            "Resolving raw.githubusercontent.com (raw.githubusercontent.com)... 185.199.108.133, 185.199.109.133, 185.199.110.133, ...\n",
            "Connecting to raw.githubusercontent.com (raw.githubusercontent.com)|185.199.108.133|:443... connected.\n",
            "HTTP request sent, awaiting response... 200 OK\n",
            "Length: 568051 (555K) [application/octet-stream]\n",
            "Saving to: ‘gs_model.pkl.1’\n",
            "\n",
            "gs_model.pkl.1      100%[===================>] 554.74K  --.-KB/s    in 0.02s   \n",
            "\n",
            "2023-03-23 06:28:19 (32.5 MB/s) - ‘gs_model.pkl.1’ saved [568051/568051]\n",
            "\n"
          ]
        }
      ]
    },
    {
      "cell_type": "code",
      "source": [
        "# https://github.com/bigdata-young/ai_26th/blob/main/etc/gs_model.pkl\n",
        "gs_model = joblib.load('gs_model.pkl')\n",
        "gs_model"
      ],
      "metadata": {
        "colab": {
          "base_uri": "https://localhost:8080/"
        },
        "id": "RU3aDvDJBxwc",
        "outputId": "b240830b-1724-4862-eeb8-ec73332d29e8"
      },
      "execution_count": null,
      "outputs": [
        {
          "output_type": "execute_result",
          "data": {
            "text/plain": [
              "GridSearchCV(cv=5, estimator=XGBClassifier(missing=nan, verbosity=3), n_jobs=-1,\n",
              "             param_grid={'learning_rate': [0.01, 0.1, 0.3],\n",
              "                         'max_depth': [5, 7, 10],\n",
              "                         'n_estimators': [300, 500, 1000],\n",
              "                         'subsample': [0.5, 0.7, 1]},\n",
              "             scoring='f1', verbose=3)"
            ]
          },
          "metadata": {},
          "execution_count": 19
        }
      ]
    },
    {
      "cell_type": "code",
      "source": [
        "gs_model.best_params_"
      ],
      "metadata": {
        "colab": {
          "base_uri": "https://localhost:8080/"
        },
        "id": "M1EtdR2WB7S9",
        "outputId": "05ffbb7c-c4f4-43fb-aad4-1f9ae1916ee8"
      },
      "execution_count": null,
      "outputs": [
        {
          "output_type": "execute_result",
          "data": {
            "text/plain": [
              "{'learning_rate': 0.1, 'max_depth': 5, 'n_estimators': 300, 'subsample': 0.5}"
            ]
          },
          "metadata": {},
          "execution_count": 9
        }
      ]
    },
    {
      "cell_type": "code",
      "source": [
        "gs_model.best_score_"
      ],
      "metadata": {
        "colab": {
          "base_uri": "https://localhost:8080/"
        },
        "id": "n3kF4Lm6B-aK",
        "outputId": "89da6bd5-1915-4383-bef4-9a9ea46af772"
      },
      "execution_count": null,
      "outputs": [
        {
          "output_type": "execute_result",
          "data": {
            "text/plain": [
              "0.5091097109808647"
            ]
          },
          "metadata": {},
          "execution_count": 10
        }
      ]
    },
    {
      "cell_type": "code",
      "source": [
        "from google.colab import files\n",
        "\n",
        "files.upload()"
      ],
      "metadata": {
        "id": "mLuXww6CCDbM"
      },
      "execution_count": null,
      "outputs": []
    },
    {
      "cell_type": "markdown",
      "source": [
        "### 중요 변수 확인"
      ],
      "metadata": {
        "id": "SCLqNSqT2-wM"
      }
    },
    {
      "cell_type": "code",
      "source": [
        "model = xgb.XGBClassifier(learning=0.3, max_depth=5,\n",
        "                          n_estimators=1000, subsample=0.5, random_state=23)\n",
        "model.fit(X_train, y_train)"
      ],
      "metadata": {
        "id": "KaTXqup529jM",
        "colab": {
          "base_uri": "https://localhost:8080/",
          "height": 304
        },
        "outputId": "0da5afd0-48e9-42c3-afb0-993dcaa0054f"
      },
      "execution_count": 200,
      "outputs": [
        {
          "output_type": "stream",
          "name": "stdout",
          "text": [
            "[06:31:37] WARNING: ../src/learner.cc:767: \n",
            "Parameters: { \"learning\" } are not used.\n",
            "\n"
          ]
        },
        {
          "output_type": "execute_result",
          "data": {
            "text/plain": [
              "XGBClassifier(base_score=None, booster=None, callbacks=None,\n",
              "              colsample_bylevel=None, colsample_bynode=None,\n",
              "              colsample_bytree=None, early_stopping_rounds=None,\n",
              "              enable_categorical=False, eval_metric=None, feature_types=None,\n",
              "              gamma=None, gpu_id=None, grow_policy=None, importance_type=None,\n",
              "              interaction_constraints=None, learning=0.3, learning_rate=None,\n",
              "              max_bin=None, max_cat_threshold=None, max_cat_to_onehot=None,\n",
              "              max_delta_step=None, max_depth=5, max_leaves=None,\n",
              "              min_child_weight=None, missing=nan, monotone_constraints=None,\n",
              "              n_estimators=1000, n_jobs=None, num_parallel_tree=None,\n",
              "              predictor=None, ...)"
            ],
            "text/html": [
              "<style>#sk-container-id-5 {color: black;background-color: white;}#sk-container-id-5 pre{padding: 0;}#sk-container-id-5 div.sk-toggleable {background-color: white;}#sk-container-id-5 label.sk-toggleable__label {cursor: pointer;display: block;width: 100%;margin-bottom: 0;padding: 0.3em;box-sizing: border-box;text-align: center;}#sk-container-id-5 label.sk-toggleable__label-arrow:before {content: \"▸\";float: left;margin-right: 0.25em;color: #696969;}#sk-container-id-5 label.sk-toggleable__label-arrow:hover:before {color: black;}#sk-container-id-5 div.sk-estimator:hover label.sk-toggleable__label-arrow:before {color: black;}#sk-container-id-5 div.sk-toggleable__content {max-height: 0;max-width: 0;overflow: hidden;text-align: left;background-color: #f0f8ff;}#sk-container-id-5 div.sk-toggleable__content pre {margin: 0.2em;color: black;border-radius: 0.25em;background-color: #f0f8ff;}#sk-container-id-5 input.sk-toggleable__control:checked~div.sk-toggleable__content {max-height: 200px;max-width: 100%;overflow: auto;}#sk-container-id-5 input.sk-toggleable__control:checked~label.sk-toggleable__label-arrow:before {content: \"▾\";}#sk-container-id-5 div.sk-estimator input.sk-toggleable__control:checked~label.sk-toggleable__label {background-color: #d4ebff;}#sk-container-id-5 div.sk-label input.sk-toggleable__control:checked~label.sk-toggleable__label {background-color: #d4ebff;}#sk-container-id-5 input.sk-hidden--visually {border: 0;clip: rect(1px 1px 1px 1px);clip: rect(1px, 1px, 1px, 1px);height: 1px;margin: -1px;overflow: hidden;padding: 0;position: absolute;width: 1px;}#sk-container-id-5 div.sk-estimator {font-family: monospace;background-color: #f0f8ff;border: 1px dotted black;border-radius: 0.25em;box-sizing: border-box;margin-bottom: 0.5em;}#sk-container-id-5 div.sk-estimator:hover {background-color: #d4ebff;}#sk-container-id-5 div.sk-parallel-item::after {content: \"\";width: 100%;border-bottom: 1px solid gray;flex-grow: 1;}#sk-container-id-5 div.sk-label:hover label.sk-toggleable__label {background-color: #d4ebff;}#sk-container-id-5 div.sk-serial::before {content: \"\";position: absolute;border-left: 1px solid gray;box-sizing: border-box;top: 0;bottom: 0;left: 50%;z-index: 0;}#sk-container-id-5 div.sk-serial {display: flex;flex-direction: column;align-items: center;background-color: white;padding-right: 0.2em;padding-left: 0.2em;position: relative;}#sk-container-id-5 div.sk-item {position: relative;z-index: 1;}#sk-container-id-5 div.sk-parallel {display: flex;align-items: stretch;justify-content: center;background-color: white;position: relative;}#sk-container-id-5 div.sk-item::before, #sk-container-id-5 div.sk-parallel-item::before {content: \"\";position: absolute;border-left: 1px solid gray;box-sizing: border-box;top: 0;bottom: 0;left: 50%;z-index: -1;}#sk-container-id-5 div.sk-parallel-item {display: flex;flex-direction: column;z-index: 1;position: relative;background-color: white;}#sk-container-id-5 div.sk-parallel-item:first-child::after {align-self: flex-end;width: 50%;}#sk-container-id-5 div.sk-parallel-item:last-child::after {align-self: flex-start;width: 50%;}#sk-container-id-5 div.sk-parallel-item:only-child::after {width: 0;}#sk-container-id-5 div.sk-dashed-wrapped {border: 1px dashed gray;margin: 0 0.4em 0.5em 0.4em;box-sizing: border-box;padding-bottom: 0.4em;background-color: white;}#sk-container-id-5 div.sk-label label {font-family: monospace;font-weight: bold;display: inline-block;line-height: 1.2em;}#sk-container-id-5 div.sk-label-container {text-align: center;}#sk-container-id-5 div.sk-container {/* jupyter's `normalize.less` sets `[hidden] { display: none; }` but bootstrap.min.css set `[hidden] { display: none !important; }` so we also need the `!important` here to be able to override the default hidden behavior on the sphinx rendered scikit-learn.org. See: https://github.com/scikit-learn/scikit-learn/issues/21755 */display: inline-block !important;position: relative;}#sk-container-id-5 div.sk-text-repr-fallback {display: none;}</style><div id=\"sk-container-id-5\" class=\"sk-top-container\"><div class=\"sk-text-repr-fallback\"><pre>XGBClassifier(base_score=None, booster=None, callbacks=None,\n",
              "              colsample_bylevel=None, colsample_bynode=None,\n",
              "              colsample_bytree=None, early_stopping_rounds=None,\n",
              "              enable_categorical=False, eval_metric=None, feature_types=None,\n",
              "              gamma=None, gpu_id=None, grow_policy=None, importance_type=None,\n",
              "              interaction_constraints=None, learning=0.3, learning_rate=None,\n",
              "              max_bin=None, max_cat_threshold=None, max_cat_to_onehot=None,\n",
              "              max_delta_step=None, max_depth=5, max_leaves=None,\n",
              "              min_child_weight=None, missing=nan, monotone_constraints=None,\n",
              "              n_estimators=1000, n_jobs=None, num_parallel_tree=None,\n",
              "              predictor=None, ...)</pre><b>In a Jupyter environment, please rerun this cell to show the HTML representation or trust the notebook. <br />On GitHub, the HTML representation is unable to render, please try loading this page with nbviewer.org.</b></div><div class=\"sk-container\" hidden><div class=\"sk-item\"><div class=\"sk-estimator sk-toggleable\"><input class=\"sk-toggleable__control sk-hidden--visually\" id=\"sk-estimator-id-5\" type=\"checkbox\" checked><label for=\"sk-estimator-id-5\" class=\"sk-toggleable__label sk-toggleable__label-arrow\">XGBClassifier</label><div class=\"sk-toggleable__content\"><pre>XGBClassifier(base_score=None, booster=None, callbacks=None,\n",
              "              colsample_bylevel=None, colsample_bynode=None,\n",
              "              colsample_bytree=None, early_stopping_rounds=None,\n",
              "              enable_categorical=False, eval_metric=None, feature_types=None,\n",
              "              gamma=None, gpu_id=None, grow_policy=None, importance_type=None,\n",
              "              interaction_constraints=None, learning=0.3, learning_rate=None,\n",
              "              max_bin=None, max_cat_threshold=None, max_cat_to_onehot=None,\n",
              "              max_delta_step=None, max_depth=5, max_leaves=None,\n",
              "              min_child_weight=None, missing=nan, monotone_constraints=None,\n",
              "              n_estimators=1000, n_jobs=None, num_parallel_tree=None,\n",
              "              predictor=None, ...)</pre></div></div></div></div></div>"
            ]
          },
          "metadata": {},
          "execution_count": 200
        }
      ]
    },
    {
      "cell_type": "code",
      "source": [
        "# 중요 변수\n",
        "# xgboost -> feature_importances_\n",
        "model.feature_importances_"
      ],
      "metadata": {
        "id": "XWaYY0BB3aVO",
        "colab": {
          "base_uri": "https://localhost:8080/"
        },
        "outputId": "cc0636aa-bf79-4f97-d4b0-6acf2f23471a"
      },
      "execution_count": 201,
      "outputs": [
        {
          "output_type": "execute_result",
          "data": {
            "text/plain": [
              "array([0.02567522, 0.01518646, 0.01502752, 0.01613367, 0.01481181,\n",
              "       0.01769078, 0.0156031 , 0.01686446, 0.01634175, 0.01583454,\n",
              "       0.01628979, 0.03896863, 0.01584066, 0.01799407, 0.03093369,\n",
              "       0.01744454, 0.02537772, 0.01726815, 0.0148234 , 0.02249765,\n",
              "       0.01347584, 0.01707809, 0.01492471, 0.02667022, 0.01677035,\n",
              "       0.01487569, 0.02108026, 0.01462228, 0.01587873, 0.01463735,\n",
              "       0.01768821, 0.0234934 , 0.05487262, 0.02361291, 0.04447003,\n",
              "       0.0119094 , 0.        , 0.02094859, 0.05040085, 0.01130631,\n",
              "       0.02446925, 0.03689297, 0.01447441, 0.03589905, 0.01244022,\n",
              "       0.022523  , 0.03797762], dtype=float32)"
            ]
          },
          "metadata": {},
          "execution_count": 201
        }
      ]
    },
    {
      "cell_type": "code",
      "source": [
        "feature_imp = pd.DataFrame({\n",
        "    'features': X_train.columns,\n",
        "    'values': model.feature_importances_,\n",
        "})"
      ],
      "metadata": {
        "id": "3DgHeg843qBe"
      },
      "execution_count": 202,
      "outputs": []
    },
    {
      "cell_type": "code",
      "source": [
        "pd.options.display.float_format = '{:.6f}'.format\n",
        "feature_imp.head()"
      ],
      "metadata": {
        "id": "K81QErbO38NH",
        "colab": {
          "base_uri": "https://localhost:8080/",
          "height": 206
        },
        "outputId": "68a44a69-599d-4fc1-c0ca-4dddcddd8e1b"
      },
      "execution_count": 203,
      "outputs": [
        {
          "output_type": "execute_result",
          "data": {
            "text/plain": [
              "                   features   values\n",
              "0                  has_null 0.025675\n",
              "1                       age 0.015186\n",
              "2                     age_o 0.015028\n",
              "3      importance_same_race 0.016134\n",
              "4  importance_same_religion 0.014812"
            ],
            "text/html": [
              "\n",
              "  <div id=\"df-0f8f3baf-319d-42d6-9f12-f1035762e1db\">\n",
              "    <div class=\"colab-df-container\">\n",
              "      <div>\n",
              "<style scoped>\n",
              "    .dataframe tbody tr th:only-of-type {\n",
              "        vertical-align: middle;\n",
              "    }\n",
              "\n",
              "    .dataframe tbody tr th {\n",
              "        vertical-align: top;\n",
              "    }\n",
              "\n",
              "    .dataframe thead th {\n",
              "        text-align: right;\n",
              "    }\n",
              "</style>\n",
              "<table border=\"1\" class=\"dataframe\">\n",
              "  <thead>\n",
              "    <tr style=\"text-align: right;\">\n",
              "      <th></th>\n",
              "      <th>features</th>\n",
              "      <th>values</th>\n",
              "    </tr>\n",
              "  </thead>\n",
              "  <tbody>\n",
              "    <tr>\n",
              "      <th>0</th>\n",
              "      <td>has_null</td>\n",
              "      <td>0.025675</td>\n",
              "    </tr>\n",
              "    <tr>\n",
              "      <th>1</th>\n",
              "      <td>age</td>\n",
              "      <td>0.015186</td>\n",
              "    </tr>\n",
              "    <tr>\n",
              "      <th>2</th>\n",
              "      <td>age_o</td>\n",
              "      <td>0.015028</td>\n",
              "    </tr>\n",
              "    <tr>\n",
              "      <th>3</th>\n",
              "      <td>importance_same_race</td>\n",
              "      <td>0.016134</td>\n",
              "    </tr>\n",
              "    <tr>\n",
              "      <th>4</th>\n",
              "      <td>importance_same_religion</td>\n",
              "      <td>0.014812</td>\n",
              "    </tr>\n",
              "  </tbody>\n",
              "</table>\n",
              "</div>\n",
              "      <button class=\"colab-df-convert\" onclick=\"convertToInteractive('df-0f8f3baf-319d-42d6-9f12-f1035762e1db')\"\n",
              "              title=\"Convert this dataframe to an interactive table.\"\n",
              "              style=\"display:none;\">\n",
              "        \n",
              "  <svg xmlns=\"http://www.w3.org/2000/svg\" height=\"24px\"viewBox=\"0 0 24 24\"\n",
              "       width=\"24px\">\n",
              "    <path d=\"M0 0h24v24H0V0z\" fill=\"none\"/>\n",
              "    <path d=\"M18.56 5.44l.94 2.06.94-2.06 2.06-.94-2.06-.94-.94-2.06-.94 2.06-2.06.94zm-11 1L8.5 8.5l.94-2.06 2.06-.94-2.06-.94L8.5 2.5l-.94 2.06-2.06.94zm10 10l.94 2.06.94-2.06 2.06-.94-2.06-.94-.94-2.06-.94 2.06-2.06.94z\"/><path d=\"M17.41 7.96l-1.37-1.37c-.4-.4-.92-.59-1.43-.59-.52 0-1.04.2-1.43.59L10.3 9.45l-7.72 7.72c-.78.78-.78 2.05 0 2.83L4 21.41c.39.39.9.59 1.41.59.51 0 1.02-.2 1.41-.59l7.78-7.78 2.81-2.81c.8-.78.8-2.07 0-2.86zM5.41 20L4 18.59l7.72-7.72 1.47 1.35L5.41 20z\"/>\n",
              "  </svg>\n",
              "      </button>\n",
              "      \n",
              "  <style>\n",
              "    .colab-df-container {\n",
              "      display:flex;\n",
              "      flex-wrap:wrap;\n",
              "      gap: 12px;\n",
              "    }\n",
              "\n",
              "    .colab-df-convert {\n",
              "      background-color: #E8F0FE;\n",
              "      border: none;\n",
              "      border-radius: 50%;\n",
              "      cursor: pointer;\n",
              "      display: none;\n",
              "      fill: #1967D2;\n",
              "      height: 32px;\n",
              "      padding: 0 0 0 0;\n",
              "      width: 32px;\n",
              "    }\n",
              "\n",
              "    .colab-df-convert:hover {\n",
              "      background-color: #E2EBFA;\n",
              "      box-shadow: 0px 1px 2px rgba(60, 64, 67, 0.3), 0px 1px 3px 1px rgba(60, 64, 67, 0.15);\n",
              "      fill: #174EA6;\n",
              "    }\n",
              "\n",
              "    [theme=dark] .colab-df-convert {\n",
              "      background-color: #3B4455;\n",
              "      fill: #D2E3FC;\n",
              "    }\n",
              "\n",
              "    [theme=dark] .colab-df-convert:hover {\n",
              "      background-color: #434B5C;\n",
              "      box-shadow: 0px 1px 3px 1px rgba(0, 0, 0, 0.15);\n",
              "      filter: drop-shadow(0px 1px 2px rgba(0, 0, 0, 0.3));\n",
              "      fill: #FFFFFF;\n",
              "    }\n",
              "  </style>\n",
              "\n",
              "      <script>\n",
              "        const buttonEl =\n",
              "          document.querySelector('#df-0f8f3baf-319d-42d6-9f12-f1035762e1db button.colab-df-convert');\n",
              "        buttonEl.style.display =\n",
              "          google.colab.kernel.accessAllowed ? 'block' : 'none';\n",
              "\n",
              "        async function convertToInteractive(key) {\n",
              "          const element = document.querySelector('#df-0f8f3baf-319d-42d6-9f12-f1035762e1db');\n",
              "          const dataTable =\n",
              "            await google.colab.kernel.invokeFunction('convertToInteractive',\n",
              "                                                     [key], {});\n",
              "          if (!dataTable) return;\n",
              "\n",
              "          const docLinkHtml = 'Like what you see? Visit the ' +\n",
              "            '<a target=\"_blank\" href=https://colab.research.google.com/notebooks/data_table.ipynb>data table notebook</a>'\n",
              "            + ' to learn more about interactive tables.';\n",
              "          element.innerHTML = '';\n",
              "          dataTable['output_type'] = 'display_data';\n",
              "          await google.colab.output.renderOutput(dataTable, element);\n",
              "          const docLink = document.createElement('div');\n",
              "          docLink.innerHTML = docLinkHtml;\n",
              "          element.appendChild(docLink);\n",
              "        }\n",
              "      </script>\n",
              "    </div>\n",
              "  </div>\n",
              "  "
            ]
          },
          "metadata": {},
          "execution_count": 203
        }
      ]
    },
    {
      "cell_type": "code",
      "source": [
        "feature_imp.sort_values(by='values', ascending=False)"
      ],
      "metadata": {
        "id": "JamDti1O4Lqh",
        "colab": {
          "base_uri": "https://localhost:8080/",
          "height": 1000
        },
        "outputId": "6e250569-7007-4a0e-ecc8-c0ee47439cd6"
      },
      "execution_count": 204,
      "outputs": [
        {
          "output_type": "execute_result",
          "data": {
            "text/plain": [
              "                                       features   values\n",
              "32                                         like 0.054873\n",
              "38                   race_Black/AfricanAmerican 0.050401\n",
              "34                                          met 0.044470\n",
              "11                                 attractive_o 0.038969\n",
              "46                                 race_o_Other 0.037978\n",
              "41                                   race_Other 0.036893\n",
              "43                 race_o_Black/AfricanAmerican 0.035899\n",
              "14                                      funny_o 0.030934\n",
              "23                           attractive_partner 0.026670\n",
              "0                                      has_null 0.025675\n",
              "16                           shared_interests_o 0.025378\n",
              "40                 race_Latino/HispanicAmerican 0.024469\n",
              "33                             guess_prob_liked 0.023613\n",
              "31                expected_num_interested_in_me 0.023493\n",
              "45               race_o_Latino/HispanicAmerican 0.022523\n",
              "19                       intellicence_important 0.022498\n",
              "26                                funny_partner 0.021080\n",
              "37    race_Asian/PacificIslander/Asian-American 0.020949\n",
              "13                               intelligence_o 0.017994\n",
              "5                             pref_o_attractive 0.017691\n",
              "30                expected_happy_with_sd_people 0.017688\n",
              "15                                   ambitous_o 0.017445\n",
              "17                         attractive_important 0.017268\n",
              "21                          ambtition_important 0.017078\n",
              "7                           pref_o_intelligence 0.016864\n",
              "24                              sincere_partner 0.016770\n",
              "8                                  pref_o_funny 0.016342\n",
              "10                      pref_o_shared_interests 0.016290\n",
              "3                          importance_same_race 0.016134\n",
              "28                     shared_interests_partner 0.015879\n",
              "12                                    sincere_o 0.015841\n",
              "9                              pref_o_ambitious 0.015835\n",
              "6                                pref_o_sincere 0.015603\n",
              "1                                           age 0.015186\n",
              "2                                         age_o 0.015028\n",
              "22                   shared_interests_important 0.014925\n",
              "25                         intelligence_partner 0.014876\n",
              "18                            sincere_important 0.014823\n",
              "4                      importance_same_religion 0.014812\n",
              "29                          interests_correlate 0.014637\n",
              "27                             ambition_partner 0.014622\n",
              "42  race_o_Asian/PacificIslander/Asian-American 0.014474\n",
              "20                              funny_important 0.013476\n",
              "44           race_o_European/Caucasian-American 0.012440\n",
              "35                                gender_female 0.011909\n",
              "39             race_European/Caucasian-American 0.011306\n",
              "36                                  gender_male 0.000000"
            ],
            "text/html": [
              "\n",
              "  <div id=\"df-af07492c-b4be-43b9-b003-b95e87f02bef\">\n",
              "    <div class=\"colab-df-container\">\n",
              "      <div>\n",
              "<style scoped>\n",
              "    .dataframe tbody tr th:only-of-type {\n",
              "        vertical-align: middle;\n",
              "    }\n",
              "\n",
              "    .dataframe tbody tr th {\n",
              "        vertical-align: top;\n",
              "    }\n",
              "\n",
              "    .dataframe thead th {\n",
              "        text-align: right;\n",
              "    }\n",
              "</style>\n",
              "<table border=\"1\" class=\"dataframe\">\n",
              "  <thead>\n",
              "    <tr style=\"text-align: right;\">\n",
              "      <th></th>\n",
              "      <th>features</th>\n",
              "      <th>values</th>\n",
              "    </tr>\n",
              "  </thead>\n",
              "  <tbody>\n",
              "    <tr>\n",
              "      <th>32</th>\n",
              "      <td>like</td>\n",
              "      <td>0.054873</td>\n",
              "    </tr>\n",
              "    <tr>\n",
              "      <th>38</th>\n",
              "      <td>race_Black/AfricanAmerican</td>\n",
              "      <td>0.050401</td>\n",
              "    </tr>\n",
              "    <tr>\n",
              "      <th>34</th>\n",
              "      <td>met</td>\n",
              "      <td>0.044470</td>\n",
              "    </tr>\n",
              "    <tr>\n",
              "      <th>11</th>\n",
              "      <td>attractive_o</td>\n",
              "      <td>0.038969</td>\n",
              "    </tr>\n",
              "    <tr>\n",
              "      <th>46</th>\n",
              "      <td>race_o_Other</td>\n",
              "      <td>0.037978</td>\n",
              "    </tr>\n",
              "    <tr>\n",
              "      <th>41</th>\n",
              "      <td>race_Other</td>\n",
              "      <td>0.036893</td>\n",
              "    </tr>\n",
              "    <tr>\n",
              "      <th>43</th>\n",
              "      <td>race_o_Black/AfricanAmerican</td>\n",
              "      <td>0.035899</td>\n",
              "    </tr>\n",
              "    <tr>\n",
              "      <th>14</th>\n",
              "      <td>funny_o</td>\n",
              "      <td>0.030934</td>\n",
              "    </tr>\n",
              "    <tr>\n",
              "      <th>23</th>\n",
              "      <td>attractive_partner</td>\n",
              "      <td>0.026670</td>\n",
              "    </tr>\n",
              "    <tr>\n",
              "      <th>0</th>\n",
              "      <td>has_null</td>\n",
              "      <td>0.025675</td>\n",
              "    </tr>\n",
              "    <tr>\n",
              "      <th>16</th>\n",
              "      <td>shared_interests_o</td>\n",
              "      <td>0.025378</td>\n",
              "    </tr>\n",
              "    <tr>\n",
              "      <th>40</th>\n",
              "      <td>race_Latino/HispanicAmerican</td>\n",
              "      <td>0.024469</td>\n",
              "    </tr>\n",
              "    <tr>\n",
              "      <th>33</th>\n",
              "      <td>guess_prob_liked</td>\n",
              "      <td>0.023613</td>\n",
              "    </tr>\n",
              "    <tr>\n",
              "      <th>31</th>\n",
              "      <td>expected_num_interested_in_me</td>\n",
              "      <td>0.023493</td>\n",
              "    </tr>\n",
              "    <tr>\n",
              "      <th>45</th>\n",
              "      <td>race_o_Latino/HispanicAmerican</td>\n",
              "      <td>0.022523</td>\n",
              "    </tr>\n",
              "    <tr>\n",
              "      <th>19</th>\n",
              "      <td>intellicence_important</td>\n",
              "      <td>0.022498</td>\n",
              "    </tr>\n",
              "    <tr>\n",
              "      <th>26</th>\n",
              "      <td>funny_partner</td>\n",
              "      <td>0.021080</td>\n",
              "    </tr>\n",
              "    <tr>\n",
              "      <th>37</th>\n",
              "      <td>race_Asian/PacificIslander/Asian-American</td>\n",
              "      <td>0.020949</td>\n",
              "    </tr>\n",
              "    <tr>\n",
              "      <th>13</th>\n",
              "      <td>intelligence_o</td>\n",
              "      <td>0.017994</td>\n",
              "    </tr>\n",
              "    <tr>\n",
              "      <th>5</th>\n",
              "      <td>pref_o_attractive</td>\n",
              "      <td>0.017691</td>\n",
              "    </tr>\n",
              "    <tr>\n",
              "      <th>30</th>\n",
              "      <td>expected_happy_with_sd_people</td>\n",
              "      <td>0.017688</td>\n",
              "    </tr>\n",
              "    <tr>\n",
              "      <th>15</th>\n",
              "      <td>ambitous_o</td>\n",
              "      <td>0.017445</td>\n",
              "    </tr>\n",
              "    <tr>\n",
              "      <th>17</th>\n",
              "      <td>attractive_important</td>\n",
              "      <td>0.017268</td>\n",
              "    </tr>\n",
              "    <tr>\n",
              "      <th>21</th>\n",
              "      <td>ambtition_important</td>\n",
              "      <td>0.017078</td>\n",
              "    </tr>\n",
              "    <tr>\n",
              "      <th>7</th>\n",
              "      <td>pref_o_intelligence</td>\n",
              "      <td>0.016864</td>\n",
              "    </tr>\n",
              "    <tr>\n",
              "      <th>24</th>\n",
              "      <td>sincere_partner</td>\n",
              "      <td>0.016770</td>\n",
              "    </tr>\n",
              "    <tr>\n",
              "      <th>8</th>\n",
              "      <td>pref_o_funny</td>\n",
              "      <td>0.016342</td>\n",
              "    </tr>\n",
              "    <tr>\n",
              "      <th>10</th>\n",
              "      <td>pref_o_shared_interests</td>\n",
              "      <td>0.016290</td>\n",
              "    </tr>\n",
              "    <tr>\n",
              "      <th>3</th>\n",
              "      <td>importance_same_race</td>\n",
              "      <td>0.016134</td>\n",
              "    </tr>\n",
              "    <tr>\n",
              "      <th>28</th>\n",
              "      <td>shared_interests_partner</td>\n",
              "      <td>0.015879</td>\n",
              "    </tr>\n",
              "    <tr>\n",
              "      <th>12</th>\n",
              "      <td>sincere_o</td>\n",
              "      <td>0.015841</td>\n",
              "    </tr>\n",
              "    <tr>\n",
              "      <th>9</th>\n",
              "      <td>pref_o_ambitious</td>\n",
              "      <td>0.015835</td>\n",
              "    </tr>\n",
              "    <tr>\n",
              "      <th>6</th>\n",
              "      <td>pref_o_sincere</td>\n",
              "      <td>0.015603</td>\n",
              "    </tr>\n",
              "    <tr>\n",
              "      <th>1</th>\n",
              "      <td>age</td>\n",
              "      <td>0.015186</td>\n",
              "    </tr>\n",
              "    <tr>\n",
              "      <th>2</th>\n",
              "      <td>age_o</td>\n",
              "      <td>0.015028</td>\n",
              "    </tr>\n",
              "    <tr>\n",
              "      <th>22</th>\n",
              "      <td>shared_interests_important</td>\n",
              "      <td>0.014925</td>\n",
              "    </tr>\n",
              "    <tr>\n",
              "      <th>25</th>\n",
              "      <td>intelligence_partner</td>\n",
              "      <td>0.014876</td>\n",
              "    </tr>\n",
              "    <tr>\n",
              "      <th>18</th>\n",
              "      <td>sincere_important</td>\n",
              "      <td>0.014823</td>\n",
              "    </tr>\n",
              "    <tr>\n",
              "      <th>4</th>\n",
              "      <td>importance_same_religion</td>\n",
              "      <td>0.014812</td>\n",
              "    </tr>\n",
              "    <tr>\n",
              "      <th>29</th>\n",
              "      <td>interests_correlate</td>\n",
              "      <td>0.014637</td>\n",
              "    </tr>\n",
              "    <tr>\n",
              "      <th>27</th>\n",
              "      <td>ambition_partner</td>\n",
              "      <td>0.014622</td>\n",
              "    </tr>\n",
              "    <tr>\n",
              "      <th>42</th>\n",
              "      <td>race_o_Asian/PacificIslander/Asian-American</td>\n",
              "      <td>0.014474</td>\n",
              "    </tr>\n",
              "    <tr>\n",
              "      <th>20</th>\n",
              "      <td>funny_important</td>\n",
              "      <td>0.013476</td>\n",
              "    </tr>\n",
              "    <tr>\n",
              "      <th>44</th>\n",
              "      <td>race_o_European/Caucasian-American</td>\n",
              "      <td>0.012440</td>\n",
              "    </tr>\n",
              "    <tr>\n",
              "      <th>35</th>\n",
              "      <td>gender_female</td>\n",
              "      <td>0.011909</td>\n",
              "    </tr>\n",
              "    <tr>\n",
              "      <th>39</th>\n",
              "      <td>race_European/Caucasian-American</td>\n",
              "      <td>0.011306</td>\n",
              "    </tr>\n",
              "    <tr>\n",
              "      <th>36</th>\n",
              "      <td>gender_male</td>\n",
              "      <td>0.000000</td>\n",
              "    </tr>\n",
              "  </tbody>\n",
              "</table>\n",
              "</div>\n",
              "      <button class=\"colab-df-convert\" onclick=\"convertToInteractive('df-af07492c-b4be-43b9-b003-b95e87f02bef')\"\n",
              "              title=\"Convert this dataframe to an interactive table.\"\n",
              "              style=\"display:none;\">\n",
              "        \n",
              "  <svg xmlns=\"http://www.w3.org/2000/svg\" height=\"24px\"viewBox=\"0 0 24 24\"\n",
              "       width=\"24px\">\n",
              "    <path d=\"M0 0h24v24H0V0z\" fill=\"none\"/>\n",
              "    <path d=\"M18.56 5.44l.94 2.06.94-2.06 2.06-.94-2.06-.94-.94-2.06-.94 2.06-2.06.94zm-11 1L8.5 8.5l.94-2.06 2.06-.94-2.06-.94L8.5 2.5l-.94 2.06-2.06.94zm10 10l.94 2.06.94-2.06 2.06-.94-2.06-.94-.94-2.06-.94 2.06-2.06.94z\"/><path d=\"M17.41 7.96l-1.37-1.37c-.4-.4-.92-.59-1.43-.59-.52 0-1.04.2-1.43.59L10.3 9.45l-7.72 7.72c-.78.78-.78 2.05 0 2.83L4 21.41c.39.39.9.59 1.41.59.51 0 1.02-.2 1.41-.59l7.78-7.78 2.81-2.81c.8-.78.8-2.07 0-2.86zM5.41 20L4 18.59l7.72-7.72 1.47 1.35L5.41 20z\"/>\n",
              "  </svg>\n",
              "      </button>\n",
              "      \n",
              "  <style>\n",
              "    .colab-df-container {\n",
              "      display:flex;\n",
              "      flex-wrap:wrap;\n",
              "      gap: 12px;\n",
              "    }\n",
              "\n",
              "    .colab-df-convert {\n",
              "      background-color: #E8F0FE;\n",
              "      border: none;\n",
              "      border-radius: 50%;\n",
              "      cursor: pointer;\n",
              "      display: none;\n",
              "      fill: #1967D2;\n",
              "      height: 32px;\n",
              "      padding: 0 0 0 0;\n",
              "      width: 32px;\n",
              "    }\n",
              "\n",
              "    .colab-df-convert:hover {\n",
              "      background-color: #E2EBFA;\n",
              "      box-shadow: 0px 1px 2px rgba(60, 64, 67, 0.3), 0px 1px 3px 1px rgba(60, 64, 67, 0.15);\n",
              "      fill: #174EA6;\n",
              "    }\n",
              "\n",
              "    [theme=dark] .colab-df-convert {\n",
              "      background-color: #3B4455;\n",
              "      fill: #D2E3FC;\n",
              "    }\n",
              "\n",
              "    [theme=dark] .colab-df-convert:hover {\n",
              "      background-color: #434B5C;\n",
              "      box-shadow: 0px 1px 3px 1px rgba(0, 0, 0, 0.15);\n",
              "      filter: drop-shadow(0px 1px 2px rgba(0, 0, 0, 0.3));\n",
              "      fill: #FFFFFF;\n",
              "    }\n",
              "  </style>\n",
              "\n",
              "      <script>\n",
              "        const buttonEl =\n",
              "          document.querySelector('#df-af07492c-b4be-43b9-b003-b95e87f02bef button.colab-df-convert');\n",
              "        buttonEl.style.display =\n",
              "          google.colab.kernel.accessAllowed ? 'block' : 'none';\n",
              "\n",
              "        async function convertToInteractive(key) {\n",
              "          const element = document.querySelector('#df-af07492c-b4be-43b9-b003-b95e87f02bef');\n",
              "          const dataTable =\n",
              "            await google.colab.kernel.invokeFunction('convertToInteractive',\n",
              "                                                     [key], {});\n",
              "          if (!dataTable) return;\n",
              "\n",
              "          const docLinkHtml = 'Like what you see? Visit the ' +\n",
              "            '<a target=\"_blank\" href=https://colab.research.google.com/notebooks/data_table.ipynb>data table notebook</a>'\n",
              "            + ' to learn more about interactive tables.';\n",
              "          element.innerHTML = '';\n",
              "          dataTable['output_type'] = 'display_data';\n",
              "          await google.colab.output.renderOutput(dataTable, element);\n",
              "          const docLink = document.createElement('div');\n",
              "          docLink.innerHTML = docLinkHtml;\n",
              "          element.appendChild(docLink);\n",
              "        }\n",
              "      </script>\n",
              "    </div>\n",
              "  </div>\n",
              "  "
            ]
          },
          "metadata": {},
          "execution_count": 204
        }
      ]
    },
    {
      "cell_type": "code",
      "source": [
        "plt.figure(figsize=(100, 200))\n",
        "feature_imp.sort_values(by='values', ascending=True).plot(kind='bar')\n",
        "plt.show()"
      ],
      "metadata": {
        "id": "03SyHXOg4ip1",
        "colab": {
          "base_uri": "https://localhost:8080/",
          "height": 286
        },
        "outputId": "aadfb2e8-a2c0-424b-fb15-03d40f84b79c"
      },
      "execution_count": 205,
      "outputs": [
        {
          "output_type": "display_data",
          "data": {
            "text/plain": [
              "<Figure size 7200x14400 with 0 Axes>"
            ]
          },
          "metadata": {}
        },
        {
          "output_type": "display_data",
          "data": {
            "text/plain": [
              "<Figure size 432x288 with 1 Axes>"
            ],
            "image/png": "[encoded data removed]"
          },
          "metadata": {
            "needs_background": "light"
          }
        }
      ]
    },
    {
      "cell_type": "code",
      "source": [
        "plt.figure(figsize=(20, 10))\n",
        "sns.barplot(x='values', y='features',\n",
        "            data= feature_imp.sort_values(by='values', ascending=False))\n",
        "plt.show()"
      ],
      "metadata": {
        "id": "4Re1SvgR42c_",
        "colab": {
          "base_uri": "https://localhost:8080/",
          "height": 519
        },
        "outputId": "658ccb76-cbb7-4641-e499-78025c0a5a64"
      },
      "execution_count": 207,
      "outputs": [
        {
          "output_type": "display_data",
          "data": {
            "text/plain": [
              "<Figure size 1440x720 with 1 Axes>"
            ],
            "image/png": "[encoded data removed]"
          },
          "metadata": {
            "needs_background": "light"
          }
        }
      ]
    },
    {
      "cell_type": "code",
      "source": [
        "plt.figure(figsize=(20, 10))\n",
        "sns.barplot(x='values', y='features',\n",
        "            data= feature_imp.sort_values(by='values', ascending=False).head(10))\n",
        "plt.show()\n",
        "# 상위 10개의 영향도 높은 변수들"
      ],
      "metadata": {
        "id": "L8Zl0vXO5Jwl",
        "colab": {
          "base_uri": "https://localhost:8080/",
          "height": 546
        },
        "outputId": "3b465e22-4aed-4ab7-f9df-ea0e03466949"
      },
      "execution_count": 208,
      "outputs": [
        {
          "output_type": "display_data",
          "data": {
            "text/plain": [
              "<Figure size 1440x720 with 1 Axes>"
            ],
            "image/png": "[encoded data removed]"
          },
          "metadata": {
            "needs_background": "light"
          }
        }
      ]
    }
  ]
}