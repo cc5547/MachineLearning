{
  "nbformat": 4,
  "nbformat_minor": 0,
  "metadata": {
    "colab": {
      "provenance": [],
      "include_colab_link": true
    },
    "kernelspec": {
      "name": "python3",
      "display_name": "Python 3"
    },
    "language_info": {
      "name": "python"
    }
  },
  "cells": [
    {
      "cell_type": "markdown",
      "metadata": {
        "id": "view-in-github",
        "colab_type": "text"
      },
      "source": [
        "<a href=\"https://colab.research.google.com/github/Yeaaaaaaah/MachineLearning/blob/main/Yeaaaaaaah%20/ch08_ML_10_PCA.ipynb\" target=\"_parent\"><img src=\"https://colab.research.google.com/assets/colab-badge.svg\" alt=\"Open In Colab\"/></a>"
      ]
    },
    {
      "cell_type": "code",
      "execution_count": null,
      "metadata": {
        "id": "rJV6m3PmO_w9"
      },
      "outputs": [],
      "source": [
        "# 필수 라이브러리\n",
        "import numpy as np\n",
        "import pandas as pd\n",
        "import matplotlib.pyplot as plt\n",
        "import seaborn as sns"
      ]
    },
    {
      "cell_type": "code",
      "source": [
        "# https://github.com/BigData23th/Data/raw/main/customer_pca.csv\n",
        "df = pd.read_csv(\"https://github.com/BigData23th/Data/raw/main/customer_pca.csv\")\n",
        "df # 데이터 구조가 복잡해서 x, y축으로 하는 2차원 그래프로 나타낼 수가 X"
      ],
      "metadata": {
        "colab": {
          "base_uri": "https://localhost:8080/",
          "height": 488
        },
        "id": "HNEJ_X5TSOVq",
        "outputId": "857bebd6-df7f-4e1e-feb2-04bc0ca1d647"
      },
      "execution_count": null,
      "outputs": [
        {
          "output_type": "execute_result",
          "data": {
            "text/plain": [
              "         amt  category_entertainment  category_food_dining  \\\n",
              "0  -1.402327               -1.135617             -0.971069   \n",
              "1   1.079407                0.414075              0.168880   \n",
              "2   1.200151                0.747127              1.622968   \n",
              "3  -1.474915               -1.129427             -1.539741   \n",
              "4   0.901491                0.257905             -0.320220   \n",
              "..       ...                     ...                   ...   \n",
              "95  0.965514                0.426639              0.196184   \n",
              "96 -0.839991               -0.715988              0.394918   \n",
              "97 -1.107688               -0.926597             -1.190202   \n",
              "98 -0.940815               -0.807895             -1.093267   \n",
              "99  0.599983                0.976691              0.611158   \n",
              "\n",
              "    category_gas_transport  category_grocery  category_health_fitness  \\\n",
              "0                -1.000180         -1.118217                -1.561756   \n",
              "1                 2.090013          0.767268                 1.040236   \n",
              "2                -0.606627          0.439476                 1.376630   \n",
              "3                -0.930355         -1.079803                -1.222903   \n",
              "4                 2.083588          0.540547                 0.705908   \n",
              "..                     ...               ...                      ...   \n",
              "95                2.086544          0.727562                 0.725503   \n",
              "96               -0.398366         -0.721701                -1.263462   \n",
              "97               -1.342390         -0.850378                -1.073294   \n",
              "98               -1.342878         -0.676572                -1.287731   \n",
              "99                1.174361         -0.015887                 1.530824   \n",
              "\n",
              "    category_home  category_kids_pets  category_misc  category_personal_care  \\\n",
              "0       -1.145051           -1.276913      -1.124693               -1.070260   \n",
              "1        0.844969            1.127922       1.210503                1.807350   \n",
              "2        2.126364            0.378610      -0.196523                0.127825   \n",
              "3       -1.572733           -1.516610      -1.274986               -1.185705   \n",
              "4        1.097814            0.955178       1.198524                1.640103   \n",
              "..            ...                 ...            ...                     ...   \n",
              "95       0.940589            1.923480       1.086851                1.810368   \n",
              "96      -0.576780           -0.190013      -0.818620               -0.286312   \n",
              "97      -1.011957           -1.616986      -1.182972               -0.974736   \n",
              "98      -1.305887           -1.463747      -1.050452               -0.895722   \n",
              "99       1.103355            0.929397       1.172695               -0.398034   \n",
              "\n",
              "    category_shopping  category_travel  label  \n",
              "0           -1.141424        -0.619930      0  \n",
              "1            0.659967        -0.222587      3  \n",
              "2            1.299938         2.766891      1  \n",
              "3           -1.166127        -0.601675      0  \n",
              "4            0.578781        -0.484796      3  \n",
              "..                ...              ...    ...  \n",
              "95           0.252344        -0.401038      3  \n",
              "96          -0.940283        -0.504166      0  \n",
              "97          -0.664583         0.193335      0  \n",
              "98          -0.708094         0.954537      0  \n",
              "99          -0.020631        -0.086794      3  \n",
              "\n",
              "[100 rows x 13 columns]"
            ],
            "text/html": [
              "\n",
              "  <div id=\"df-5c736e22-ab6a-4ca6-b8f6-6ff465670d4d\">\n",
              "    <div class=\"colab-df-container\">\n",
              "      <div>\n",
              "<style scoped>\n",
              "    .dataframe tbody tr th:only-of-type {\n",
              "        vertical-align: middle;\n",
              "    }\n",
              "\n",
              "    .dataframe tbody tr th {\n",
              "        vertical-align: top;\n",
              "    }\n",
              "\n",
              "    .dataframe thead th {\n",
              "        text-align: right;\n",
              "    }\n",
              "</style>\n",
              "<table border=\"1\" class=\"dataframe\">\n",
              "  <thead>\n",
              "    <tr style=\"text-align: right;\">\n",
              "      <th></th>\n",
              "      <th>amt</th>\n",
              "      <th>category_entertainment</th>\n",
              "      <th>category_food_dining</th>\n",
              "      <th>category_gas_transport</th>\n",
              "      <th>category_grocery</th>\n",
              "      <th>category_health_fitness</th>\n",
              "      <th>category_home</th>\n",
              "      <th>category_kids_pets</th>\n",
              "      <th>category_misc</th>\n",
              "      <th>category_personal_care</th>\n",
              "      <th>category_shopping</th>\n",
              "      <th>category_travel</th>\n",
              "      <th>label</th>\n",
              "    </tr>\n",
              "  </thead>\n",
              "  <tbody>\n",
              "    <tr>\n",
              "      <th>0</th>\n",
              "      <td>-1.402327</td>\n",
              "      <td>-1.135617</td>\n",
              "      <td>-0.971069</td>\n",
              "      <td>-1.000180</td>\n",
              "      <td>-1.118217</td>\n",
              "      <td>-1.561756</td>\n",
              "      <td>-1.145051</td>\n",
              "      <td>-1.276913</td>\n",
              "      <td>-1.124693</td>\n",
              "      <td>-1.070260</td>\n",
              "      <td>-1.141424</td>\n",
              "      <td>-0.619930</td>\n",
              "      <td>0</td>\n",
              "    </tr>\n",
              "    <tr>\n",
              "      <th>1</th>\n",
              "      <td>1.079407</td>\n",
              "      <td>0.414075</td>\n",
              "      <td>0.168880</td>\n",
              "      <td>2.090013</td>\n",
              "      <td>0.767268</td>\n",
              "      <td>1.040236</td>\n",
              "      <td>0.844969</td>\n",
              "      <td>1.127922</td>\n",
              "      <td>1.210503</td>\n",
              "      <td>1.807350</td>\n",
              "      <td>0.659967</td>\n",
              "      <td>-0.222587</td>\n",
              "      <td>3</td>\n",
              "    </tr>\n",
              "    <tr>\n",
              "      <th>2</th>\n",
              "      <td>1.200151</td>\n",
              "      <td>0.747127</td>\n",
              "      <td>1.622968</td>\n",
              "      <td>-0.606627</td>\n",
              "      <td>0.439476</td>\n",
              "      <td>1.376630</td>\n",
              "      <td>2.126364</td>\n",
              "      <td>0.378610</td>\n",
              "      <td>-0.196523</td>\n",
              "      <td>0.127825</td>\n",
              "      <td>1.299938</td>\n",
              "      <td>2.766891</td>\n",
              "      <td>1</td>\n",
              "    </tr>\n",
              "    <tr>\n",
              "      <th>3</th>\n",
              "      <td>-1.474915</td>\n",
              "      <td>-1.129427</td>\n",
              "      <td>-1.539741</td>\n",
              "      <td>-0.930355</td>\n",
              "      <td>-1.079803</td>\n",
              "      <td>-1.222903</td>\n",
              "      <td>-1.572733</td>\n",
              "      <td>-1.516610</td>\n",
              "      <td>-1.274986</td>\n",
              "      <td>-1.185705</td>\n",
              "      <td>-1.166127</td>\n",
              "      <td>-0.601675</td>\n",
              "      <td>0</td>\n",
              "    </tr>\n",
              "    <tr>\n",
              "      <th>4</th>\n",
              "      <td>0.901491</td>\n",
              "      <td>0.257905</td>\n",
              "      <td>-0.320220</td>\n",
              "      <td>2.083588</td>\n",
              "      <td>0.540547</td>\n",
              "      <td>0.705908</td>\n",
              "      <td>1.097814</td>\n",
              "      <td>0.955178</td>\n",
              "      <td>1.198524</td>\n",
              "      <td>1.640103</td>\n",
              "      <td>0.578781</td>\n",
              "      <td>-0.484796</td>\n",
              "      <td>3</td>\n",
              "    </tr>\n",
              "    <tr>\n",
              "      <th>...</th>\n",
              "      <td>...</td>\n",
              "      <td>...</td>\n",
              "      <td>...</td>\n",
              "      <td>...</td>\n",
              "      <td>...</td>\n",
              "      <td>...</td>\n",
              "      <td>...</td>\n",
              "      <td>...</td>\n",
              "      <td>...</td>\n",
              "      <td>...</td>\n",
              "      <td>...</td>\n",
              "      <td>...</td>\n",
              "      <td>...</td>\n",
              "    </tr>\n",
              "    <tr>\n",
              "      <th>95</th>\n",
              "      <td>0.965514</td>\n",
              "      <td>0.426639</td>\n",
              "      <td>0.196184</td>\n",
              "      <td>2.086544</td>\n",
              "      <td>0.727562</td>\n",
              "      <td>0.725503</td>\n",
              "      <td>0.940589</td>\n",
              "      <td>1.923480</td>\n",
              "      <td>1.086851</td>\n",
              "      <td>1.810368</td>\n",
              "      <td>0.252344</td>\n",
              "      <td>-0.401038</td>\n",
              "      <td>3</td>\n",
              "    </tr>\n",
              "    <tr>\n",
              "      <th>96</th>\n",
              "      <td>-0.839991</td>\n",
              "      <td>-0.715988</td>\n",
              "      <td>0.394918</td>\n",
              "      <td>-0.398366</td>\n",
              "      <td>-0.721701</td>\n",
              "      <td>-1.263462</td>\n",
              "      <td>-0.576780</td>\n",
              "      <td>-0.190013</td>\n",
              "      <td>-0.818620</td>\n",
              "      <td>-0.286312</td>\n",
              "      <td>-0.940283</td>\n",
              "      <td>-0.504166</td>\n",
              "      <td>0</td>\n",
              "    </tr>\n",
              "    <tr>\n",
              "      <th>97</th>\n",
              "      <td>-1.107688</td>\n",
              "      <td>-0.926597</td>\n",
              "      <td>-1.190202</td>\n",
              "      <td>-1.342390</td>\n",
              "      <td>-0.850378</td>\n",
              "      <td>-1.073294</td>\n",
              "      <td>-1.011957</td>\n",
              "      <td>-1.616986</td>\n",
              "      <td>-1.182972</td>\n",
              "      <td>-0.974736</td>\n",
              "      <td>-0.664583</td>\n",
              "      <td>0.193335</td>\n",
              "      <td>0</td>\n",
              "    </tr>\n",
              "    <tr>\n",
              "      <th>98</th>\n",
              "      <td>-0.940815</td>\n",
              "      <td>-0.807895</td>\n",
              "      <td>-1.093267</td>\n",
              "      <td>-1.342878</td>\n",
              "      <td>-0.676572</td>\n",
              "      <td>-1.287731</td>\n",
              "      <td>-1.305887</td>\n",
              "      <td>-1.463747</td>\n",
              "      <td>-1.050452</td>\n",
              "      <td>-0.895722</td>\n",
              "      <td>-0.708094</td>\n",
              "      <td>0.954537</td>\n",
              "      <td>0</td>\n",
              "    </tr>\n",
              "    <tr>\n",
              "      <th>99</th>\n",
              "      <td>0.599983</td>\n",
              "      <td>0.976691</td>\n",
              "      <td>0.611158</td>\n",
              "      <td>1.174361</td>\n",
              "      <td>-0.015887</td>\n",
              "      <td>1.530824</td>\n",
              "      <td>1.103355</td>\n",
              "      <td>0.929397</td>\n",
              "      <td>1.172695</td>\n",
              "      <td>-0.398034</td>\n",
              "      <td>-0.020631</td>\n",
              "      <td>-0.086794</td>\n",
              "      <td>3</td>\n",
              "    </tr>\n",
              "  </tbody>\n",
              "</table>\n",
              "<p>100 rows × 13 columns</p>\n",
              "</div>\n",
              "      <button class=\"colab-df-convert\" onclick=\"convertToInteractive('df-5c736e22-ab6a-4ca6-b8f6-6ff465670d4d')\"\n",
              "              title=\"Convert this dataframe to an interactive table.\"\n",
              "              style=\"display:none;\">\n",
              "        \n",
              "  <svg xmlns=\"http://www.w3.org/2000/svg\" height=\"24px\"viewBox=\"0 0 24 24\"\n",
              "       width=\"24px\">\n",
              "    <path d=\"M0 0h24v24H0V0z\" fill=\"none\"/>\n",
              "    <path d=\"M18.56 5.44l.94 2.06.94-2.06 2.06-.94-2.06-.94-.94-2.06-.94 2.06-2.06.94zm-11 1L8.5 8.5l.94-2.06 2.06-.94-2.06-.94L8.5 2.5l-.94 2.06-2.06.94zm10 10l.94 2.06.94-2.06 2.06-.94-2.06-.94-.94-2.06-.94 2.06-2.06.94z\"/><path d=\"M17.41 7.96l-1.37-1.37c-.4-.4-.92-.59-1.43-.59-.52 0-1.04.2-1.43.59L10.3 9.45l-7.72 7.72c-.78.78-.78 2.05 0 2.83L4 21.41c.39.39.9.59 1.41.59.51 0 1.02-.2 1.41-.59l7.78-7.78 2.81-2.81c.8-.78.8-2.07 0-2.86zM5.41 20L4 18.59l7.72-7.72 1.47 1.35L5.41 20z\"/>\n",
              "  </svg>\n",
              "      </button>\n",
              "      \n",
              "  <style>\n",
              "    .colab-df-container {\n",
              "      display:flex;\n",
              "      flex-wrap:wrap;\n",
              "      gap: 12px;\n",
              "    }\n",
              "\n",
              "    .colab-df-convert {\n",
              "      background-color: #E8F0FE;\n",
              "      border: none;\n",
              "      border-radius: 50%;\n",
              "      cursor: pointer;\n",
              "      display: none;\n",
              "      fill: #1967D2;\n",
              "      height: 32px;\n",
              "      padding: 0 0 0 0;\n",
              "      width: 32px;\n",
              "    }\n",
              "\n",
              "    .colab-df-convert:hover {\n",
              "      background-color: #E2EBFA;\n",
              "      box-shadow: 0px 1px 2px rgba(60, 64, 67, 0.3), 0px 1px 3px 1px rgba(60, 64, 67, 0.15);\n",
              "      fill: #174EA6;\n",
              "    }\n",
              "\n",
              "    [theme=dark] .colab-df-convert {\n",
              "      background-color: #3B4455;\n",
              "      fill: #D2E3FC;\n",
              "    }\n",
              "\n",
              "    [theme=dark] .colab-df-convert:hover {\n",
              "      background-color: #434B5C;\n",
              "      box-shadow: 0px 1px 3px 1px rgba(0, 0, 0, 0.15);\n",
              "      filter: drop-shadow(0px 1px 2px rgba(0, 0, 0, 0.3));\n",
              "      fill: #FFFFFF;\n",
              "    }\n",
              "  </style>\n",
              "\n",
              "      <script>\n",
              "        const buttonEl =\n",
              "          document.querySelector('#df-5c736e22-ab6a-4ca6-b8f6-6ff465670d4d button.colab-df-convert');\n",
              "        buttonEl.style.display =\n",
              "          google.colab.kernel.accessAllowed ? 'block' : 'none';\n",
              "\n",
              "        async function convertToInteractive(key) {\n",
              "          const element = document.querySelector('#df-5c736e22-ab6a-4ca6-b8f6-6ff465670d4d');\n",
              "          const dataTable =\n",
              "            await google.colab.kernel.invokeFunction('convertToInteractive',\n",
              "                                                     [key], {});\n",
              "          if (!dataTable) return;\n",
              "\n",
              "          const docLinkHtml = 'Like what you see? Visit the ' +\n",
              "            '<a target=\"_blank\" href=https://colab.research.google.com/notebooks/data_table.ipynb>data table notebook</a>'\n",
              "            + ' to learn more about interactive tables.';\n",
              "          element.innerHTML = '';\n",
              "          dataTable['output_type'] = 'display_data';\n",
              "          await google.colab.output.renderOutput(dataTable, element);\n",
              "          const docLink = document.createElement('div');\n",
              "          docLink.innerHTML = docLinkHtml;\n",
              "          element.appendChild(docLink);\n",
              "        }\n",
              "      </script>\n",
              "    </div>\n",
              "  </div>\n",
              "  "
            ]
          },
          "metadata": {},
          "execution_count": 2
        }
      ]
    },
    {
      "cell_type": "code",
      "source": [
        "df.info()"
      ],
      "metadata": {
        "colab": {
          "base_uri": "https://localhost:8080/"
        },
        "id": "pxLYEgjTTVWz",
        "outputId": "66511d2b-d20b-4202-d8e9-31a69b78337d"
      },
      "execution_count": null,
      "outputs": [
        {
          "output_type": "stream",
          "name": "stdout",
          "text": [
            "<class 'pandas.core.frame.DataFrame'>\n",
            "RangeIndex: 100 entries, 0 to 99\n",
            "Data columns (total 13 columns):\n",
            " #   Column                   Non-Null Count  Dtype  \n",
            "---  ------                   --------------  -----  \n",
            " 0   amt                      100 non-null    float64\n",
            " 1   category_entertainment   100 non-null    float64\n",
            " 2   category_food_dining     100 non-null    float64\n",
            " 3   category_gas_transport   100 non-null    float64\n",
            " 4   category_grocery         100 non-null    float64\n",
            " 5   category_health_fitness  100 non-null    float64\n",
            " 6   category_home            100 non-null    float64\n",
            " 7   category_kids_pets       100 non-null    float64\n",
            " 8   category_misc            100 non-null    float64\n",
            " 9   category_personal_care   100 non-null    float64\n",
            " 10  category_shopping        100 non-null    float64\n",
            " 11  category_travel          100 non-null    float64\n",
            " 12  label                    100 non-null    int64  \n",
            "dtypes: float64(12), int64(1)\n",
            "memory usage: 10.3 KB\n"
          ]
        }
      ]
    },
    {
      "cell_type": "code",
      "source": [
        "# 종속변수와 독립변수 분리 (X, y)\n",
        "X = df.drop('label', axis=1) # 독립변수들\n",
        "y = df.label # 종속변수"
      ],
      "metadata": {
        "id": "TdD1Ncp5Sxj2"
      },
      "execution_count": null,
      "outputs": []
    },
    {
      "cell_type": "markdown",
      "source": [
        "# 그래프 표현을 위한 차원 축소"
      ],
      "metadata": {
        "id": "-CD8sfHuTlXQ"
      }
    },
    {
      "cell_type": "code",
      "source": [
        "# PCA 알고리즘\n",
        "from sklearn.decomposition import PCA"
      ],
      "metadata": {
        "id": "JwpQ01zSThhA"
      },
      "execution_count": null,
      "outputs": []
    },
    {
      "cell_type": "code",
      "source": [
        "# 주성분갯수 2로 지정 (여러 개의 변수들의 특성을 2개로 합쳐서 처리)\n",
        "pca = PCA(n_components=2)"
      ],
      "metadata": {
        "id": "VzI7ZxNvTvCB"
      },
      "execution_count": null,
      "outputs": []
    },
    {
      "cell_type": "code",
      "source": [
        "pca.fit(X)\n",
        "df_pca = pca.transform(X)\n",
        "#pca.fit_transform(X)"
      ],
      "metadata": {
        "id": "AhrudZ_zT4B5"
      },
      "execution_count": null,
      "outputs": []
    },
    {
      "cell_type": "code",
      "source": [
        "# 주성분 2개를 가지는 2차원 배열(열 2개)이 됨\n",
        "df_pca"
      ],
      "metadata": {
        "id": "PwYEwM2nUE-1"
      },
      "execution_count": null,
      "outputs": []
    },
    {
      "cell_type": "code",
      "source": [
        "# df하고 같은 index를 공유\n",
        "df2 = pd.DataFrame(df_pca, columns=['PC1', 'PC2'])\n",
        "df2"
      ],
      "metadata": {
        "colab": {
          "base_uri": "https://localhost:8080/",
          "height": 424
        },
        "id": "c0cV9aERUYmM",
        "outputId": "c4d4d500-a886-434a-a87f-77e25091fce9"
      },
      "execution_count": null,
      "outputs": [
        {
          "output_type": "execute_result",
          "data": {
            "text/plain": [
              "         PC1       PC2\n",
              "0  -3.929061  0.102604\n",
              "1   3.107583 -1.748879\n",
              "2   3.023793  3.212212\n",
              "3  -4.282418  0.011378\n",
              "4   2.590658 -1.906121\n",
              "..       ...       ...\n",
              "95  3.057868 -2.070061\n",
              "96 -1.980872 -0.185124\n",
              "97 -3.465385  1.022298\n",
              "98 -3.277164  1.392480\n",
              "99  2.172185 -0.613946\n",
              "\n",
              "[100 rows x 2 columns]"
            ],
            "text/html": [
              "\n",
              "  <div id=\"df-c40fd63e-35d1-4724-b729-e6201e049bfa\">\n",
              "    <div class=\"colab-df-container\">\n",
              "      <div>\n",
              "<style scoped>\n",
              "    .dataframe tbody tr th:only-of-type {\n",
              "        vertical-align: middle;\n",
              "    }\n",
              "\n",
              "    .dataframe tbody tr th {\n",
              "        vertical-align: top;\n",
              "    }\n",
              "\n",
              "    .dataframe thead th {\n",
              "        text-align: right;\n",
              "    }\n",
              "</style>\n",
              "<table border=\"1\" class=\"dataframe\">\n",
              "  <thead>\n",
              "    <tr style=\"text-align: right;\">\n",
              "      <th></th>\n",
              "      <th>PC1</th>\n",
              "      <th>PC2</th>\n",
              "    </tr>\n",
              "  </thead>\n",
              "  <tbody>\n",
              "    <tr>\n",
              "      <th>0</th>\n",
              "      <td>-3.929061</td>\n",
              "      <td>0.102604</td>\n",
              "    </tr>\n",
              "    <tr>\n",
              "      <th>1</th>\n",
              "      <td>3.107583</td>\n",
              "      <td>-1.748879</td>\n",
              "    </tr>\n",
              "    <tr>\n",
              "      <th>2</th>\n",
              "      <td>3.023793</td>\n",
              "      <td>3.212212</td>\n",
              "    </tr>\n",
              "    <tr>\n",
              "      <th>3</th>\n",
              "      <td>-4.282418</td>\n",
              "      <td>0.011378</td>\n",
              "    </tr>\n",
              "    <tr>\n",
              "      <th>4</th>\n",
              "      <td>2.590658</td>\n",
              "      <td>-1.906121</td>\n",
              "    </tr>\n",
              "    <tr>\n",
              "      <th>...</th>\n",
              "      <td>...</td>\n",
              "      <td>...</td>\n",
              "    </tr>\n",
              "    <tr>\n",
              "      <th>95</th>\n",
              "      <td>3.057868</td>\n",
              "      <td>-2.070061</td>\n",
              "    </tr>\n",
              "    <tr>\n",
              "      <th>96</th>\n",
              "      <td>-1.980872</td>\n",
              "      <td>-0.185124</td>\n",
              "    </tr>\n",
              "    <tr>\n",
              "      <th>97</th>\n",
              "      <td>-3.465385</td>\n",
              "      <td>1.022298</td>\n",
              "    </tr>\n",
              "    <tr>\n",
              "      <th>98</th>\n",
              "      <td>-3.277164</td>\n",
              "      <td>1.392480</td>\n",
              "    </tr>\n",
              "    <tr>\n",
              "      <th>99</th>\n",
              "      <td>2.172185</td>\n",
              "      <td>-0.613946</td>\n",
              "    </tr>\n",
              "  </tbody>\n",
              "</table>\n",
              "<p>100 rows × 2 columns</p>\n",
              "</div>\n",
              "      <button class=\"colab-df-convert\" onclick=\"convertToInteractive('df-c40fd63e-35d1-4724-b729-e6201e049bfa')\"\n",
              "              title=\"Convert this dataframe to an interactive table.\"\n",
              "              style=\"display:none;\">\n",
              "        \n",
              "  <svg xmlns=\"http://www.w3.org/2000/svg\" height=\"24px\"viewBox=\"0 0 24 24\"\n",
              "       width=\"24px\">\n",
              "    <path d=\"M0 0h24v24H0V0z\" fill=\"none\"/>\n",
              "    <path d=\"M18.56 5.44l.94 2.06.94-2.06 2.06-.94-2.06-.94-.94-2.06-.94 2.06-2.06.94zm-11 1L8.5 8.5l.94-2.06 2.06-.94-2.06-.94L8.5 2.5l-.94 2.06-2.06.94zm10 10l.94 2.06.94-2.06 2.06-.94-2.06-.94-.94-2.06-.94 2.06-2.06.94z\"/><path d=\"M17.41 7.96l-1.37-1.37c-.4-.4-.92-.59-1.43-.59-.52 0-1.04.2-1.43.59L10.3 9.45l-7.72 7.72c-.78.78-.78 2.05 0 2.83L4 21.41c.39.39.9.59 1.41.59.51 0 1.02-.2 1.41-.59l7.78-7.78 2.81-2.81c.8-.78.8-2.07 0-2.86zM5.41 20L4 18.59l7.72-7.72 1.47 1.35L5.41 20z\"/>\n",
              "  </svg>\n",
              "      </button>\n",
              "      \n",
              "  <style>\n",
              "    .colab-df-container {\n",
              "      display:flex;\n",
              "      flex-wrap:wrap;\n",
              "      gap: 12px;\n",
              "    }\n",
              "\n",
              "    .colab-df-convert {\n",
              "      background-color: #E8F0FE;\n",
              "      border: none;\n",
              "      border-radius: 50%;\n",
              "      cursor: pointer;\n",
              "      display: none;\n",
              "      fill: #1967D2;\n",
              "      height: 32px;\n",
              "      padding: 0 0 0 0;\n",
              "      width: 32px;\n",
              "    }\n",
              "\n",
              "    .colab-df-convert:hover {\n",
              "      background-color: #E2EBFA;\n",
              "      box-shadow: 0px 1px 2px rgba(60, 64, 67, 0.3), 0px 1px 3px 1px rgba(60, 64, 67, 0.15);\n",
              "      fill: #174EA6;\n",
              "    }\n",
              "\n",
              "    [theme=dark] .colab-df-convert {\n",
              "      background-color: #3B4455;\n",
              "      fill: #D2E3FC;\n",
              "    }\n",
              "\n",
              "    [theme=dark] .colab-df-convert:hover {\n",
              "      background-color: #434B5C;\n",
              "      box-shadow: 0px 1px 3px 1px rgba(0, 0, 0, 0.15);\n",
              "      filter: drop-shadow(0px 1px 2px rgba(0, 0, 0, 0.3));\n",
              "      fill: #FFFFFF;\n",
              "    }\n",
              "  </style>\n",
              "\n",
              "      <script>\n",
              "        const buttonEl =\n",
              "          document.querySelector('#df-c40fd63e-35d1-4724-b729-e6201e049bfa button.colab-df-convert');\n",
              "        buttonEl.style.display =\n",
              "          google.colab.kernel.accessAllowed ? 'block' : 'none';\n",
              "\n",
              "        async function convertToInteractive(key) {\n",
              "          const element = document.querySelector('#df-c40fd63e-35d1-4724-b729-e6201e049bfa');\n",
              "          const dataTable =\n",
              "            await google.colab.kernel.invokeFunction('convertToInteractive',\n",
              "                                                     [key], {});\n",
              "          if (!dataTable) return;\n",
              "\n",
              "          const docLinkHtml = 'Like what you see? Visit the ' +\n",
              "            '<a target=\"_blank\" href=https://colab.research.google.com/notebooks/data_table.ipynb>data table notebook</a>'\n",
              "            + ' to learn more about interactive tables.';\n",
              "          element.innerHTML = '';\n",
              "          dataTable['output_type'] = 'display_data';\n",
              "          await google.colab.output.renderOutput(dataTable, element);\n",
              "          const docLink = document.createElement('div');\n",
              "          docLink.innerHTML = docLinkHtml;\n",
              "          element.appendChild(docLink);\n",
              "        }\n",
              "      </script>\n",
              "    </div>\n",
              "  </div>\n",
              "  "
            ]
          },
          "metadata": {},
          "execution_count": 9
        }
      ]
    },
    {
      "cell_type": "code",
      "source": [
        "# 목표변수들 (df) -> 차원축소 (df2) / index의 변화는 X -> y 라벨을 붙여서 연결\n",
        "df2 = df2.join(y)\n",
        "df2"
      ],
      "metadata": {
        "colab": {
          "base_uri": "https://localhost:8080/",
          "height": 424
        },
        "id": "5tb45qMiUvID",
        "outputId": "69819564-93a7-49e7-93c8-1361b9757646"
      },
      "execution_count": null,
      "outputs": [
        {
          "output_type": "execute_result",
          "data": {
            "text/plain": [
              "         PC1       PC2  label\n",
              "0  -3.929061  0.102604      0\n",
              "1   3.107583 -1.748879      3\n",
              "2   3.023793  3.212212      1\n",
              "3  -4.282418  0.011378      0\n",
              "4   2.590658 -1.906121      3\n",
              "..       ...       ...    ...\n",
              "95  3.057868 -2.070061      3\n",
              "96 -1.980872 -0.185124      0\n",
              "97 -3.465385  1.022298      0\n",
              "98 -3.277164  1.392480      0\n",
              "99  2.172185 -0.613946      3\n",
              "\n",
              "[100 rows x 3 columns]"
            ],
            "text/html": [
              "\n",
              "  <div id=\"df-da46f5a2-34b7-46b3-a850-9a4a33695eb9\">\n",
              "    <div class=\"colab-df-container\">\n",
              "      <div>\n",
              "<style scoped>\n",
              "    .dataframe tbody tr th:only-of-type {\n",
              "        vertical-align: middle;\n",
              "    }\n",
              "\n",
              "    .dataframe tbody tr th {\n",
              "        vertical-align: top;\n",
              "    }\n",
              "\n",
              "    .dataframe thead th {\n",
              "        text-align: right;\n",
              "    }\n",
              "</style>\n",
              "<table border=\"1\" class=\"dataframe\">\n",
              "  <thead>\n",
              "    <tr style=\"text-align: right;\">\n",
              "      <th></th>\n",
              "      <th>PC1</th>\n",
              "      <th>PC2</th>\n",
              "      <th>label</th>\n",
              "    </tr>\n",
              "  </thead>\n",
              "  <tbody>\n",
              "    <tr>\n",
              "      <th>0</th>\n",
              "      <td>-3.929061</td>\n",
              "      <td>0.102604</td>\n",
              "      <td>0</td>\n",
              "    </tr>\n",
              "    <tr>\n",
              "      <th>1</th>\n",
              "      <td>3.107583</td>\n",
              "      <td>-1.748879</td>\n",
              "      <td>3</td>\n",
              "    </tr>\n",
              "    <tr>\n",
              "      <th>2</th>\n",
              "      <td>3.023793</td>\n",
              "      <td>3.212212</td>\n",
              "      <td>1</td>\n",
              "    </tr>\n",
              "    <tr>\n",
              "      <th>3</th>\n",
              "      <td>-4.282418</td>\n",
              "      <td>0.011378</td>\n",
              "      <td>0</td>\n",
              "    </tr>\n",
              "    <tr>\n",
              "      <th>4</th>\n",
              "      <td>2.590658</td>\n",
              "      <td>-1.906121</td>\n",
              "      <td>3</td>\n",
              "    </tr>\n",
              "    <tr>\n",
              "      <th>...</th>\n",
              "      <td>...</td>\n",
              "      <td>...</td>\n",
              "      <td>...</td>\n",
              "    </tr>\n",
              "    <tr>\n",
              "      <th>95</th>\n",
              "      <td>3.057868</td>\n",
              "      <td>-2.070061</td>\n",
              "      <td>3</td>\n",
              "    </tr>\n",
              "    <tr>\n",
              "      <th>96</th>\n",
              "      <td>-1.980872</td>\n",
              "      <td>-0.185124</td>\n",
              "      <td>0</td>\n",
              "    </tr>\n",
              "    <tr>\n",
              "      <th>97</th>\n",
              "      <td>-3.465385</td>\n",
              "      <td>1.022298</td>\n",
              "      <td>0</td>\n",
              "    </tr>\n",
              "    <tr>\n",
              "      <th>98</th>\n",
              "      <td>-3.277164</td>\n",
              "      <td>1.392480</td>\n",
              "      <td>0</td>\n",
              "    </tr>\n",
              "    <tr>\n",
              "      <th>99</th>\n",
              "      <td>2.172185</td>\n",
              "      <td>-0.613946</td>\n",
              "      <td>3</td>\n",
              "    </tr>\n",
              "  </tbody>\n",
              "</table>\n",
              "<p>100 rows × 3 columns</p>\n",
              "</div>\n",
              "      <button class=\"colab-df-convert\" onclick=\"convertToInteractive('df-da46f5a2-34b7-46b3-a850-9a4a33695eb9')\"\n",
              "              title=\"Convert this dataframe to an interactive table.\"\n",
              "              style=\"display:none;\">\n",
              "        \n",
              "  <svg xmlns=\"http://www.w3.org/2000/svg\" height=\"24px\"viewBox=\"0 0 24 24\"\n",
              "       width=\"24px\">\n",
              "    <path d=\"M0 0h24v24H0V0z\" fill=\"none\"/>\n",
              "    <path d=\"M18.56 5.44l.94 2.06.94-2.06 2.06-.94-2.06-.94-.94-2.06-.94 2.06-2.06.94zm-11 1L8.5 8.5l.94-2.06 2.06-.94-2.06-.94L8.5 2.5l-.94 2.06-2.06.94zm10 10l.94 2.06.94-2.06 2.06-.94-2.06-.94-.94-2.06-.94 2.06-2.06.94z\"/><path d=\"M17.41 7.96l-1.37-1.37c-.4-.4-.92-.59-1.43-.59-.52 0-1.04.2-1.43.59L10.3 9.45l-7.72 7.72c-.78.78-.78 2.05 0 2.83L4 21.41c.39.39.9.59 1.41.59.51 0 1.02-.2 1.41-.59l7.78-7.78 2.81-2.81c.8-.78.8-2.07 0-2.86zM5.41 20L4 18.59l7.72-7.72 1.47 1.35L5.41 20z\"/>\n",
              "  </svg>\n",
              "      </button>\n",
              "      \n",
              "  <style>\n",
              "    .colab-df-container {\n",
              "      display:flex;\n",
              "      flex-wrap:wrap;\n",
              "      gap: 12px;\n",
              "    }\n",
              "\n",
              "    .colab-df-convert {\n",
              "      background-color: #E8F0FE;\n",
              "      border: none;\n",
              "      border-radius: 50%;\n",
              "      cursor: pointer;\n",
              "      display: none;\n",
              "      fill: #1967D2;\n",
              "      height: 32px;\n",
              "      padding: 0 0 0 0;\n",
              "      width: 32px;\n",
              "    }\n",
              "\n",
              "    .colab-df-convert:hover {\n",
              "      background-color: #E2EBFA;\n",
              "      box-shadow: 0px 1px 2px rgba(60, 64, 67, 0.3), 0px 1px 3px 1px rgba(60, 64, 67, 0.15);\n",
              "      fill: #174EA6;\n",
              "    }\n",
              "\n",
              "    [theme=dark] .colab-df-convert {\n",
              "      background-color: #3B4455;\n",
              "      fill: #D2E3FC;\n",
              "    }\n",
              "\n",
              "    [theme=dark] .colab-df-convert:hover {\n",
              "      background-color: #434B5C;\n",
              "      box-shadow: 0px 1px 3px 1px rgba(0, 0, 0, 0.15);\n",
              "      filter: drop-shadow(0px 1px 2px rgba(0, 0, 0, 0.3));\n",
              "      fill: #FFFFFF;\n",
              "    }\n",
              "  </style>\n",
              "\n",
              "      <script>\n",
              "        const buttonEl =\n",
              "          document.querySelector('#df-da46f5a2-34b7-46b3-a850-9a4a33695eb9 button.colab-df-convert');\n",
              "        buttonEl.style.display =\n",
              "          google.colab.kernel.accessAllowed ? 'block' : 'none';\n",
              "\n",
              "        async function convertToInteractive(key) {\n",
              "          const element = document.querySelector('#df-da46f5a2-34b7-46b3-a850-9a4a33695eb9');\n",
              "          const dataTable =\n",
              "            await google.colab.kernel.invokeFunction('convertToInteractive',\n",
              "                                                     [key], {});\n",
              "          if (!dataTable) return;\n",
              "\n",
              "          const docLinkHtml = 'Like what you see? Visit the ' +\n",
              "            '<a target=\"_blank\" href=https://colab.research.google.com/notebooks/data_table.ipynb>data table notebook</a>'\n",
              "            + ' to learn more about interactive tables.';\n",
              "          element.innerHTML = '';\n",
              "          dataTable['output_type'] = 'display_data';\n",
              "          await google.colab.output.renderOutput(dataTable, element);\n",
              "          const docLink = document.createElement('div');\n",
              "          docLink.innerHTML = docLinkHtml;\n",
              "          element.appendChild(docLink);\n",
              "        }\n",
              "      </script>\n",
              "    </div>\n",
              "  </div>\n",
              "  "
            ]
          },
          "metadata": {},
          "execution_count": 10
        }
      ]
    },
    {
      "cell_type": "code",
      "source": [
        "sns.scatterplot(x='PC1', y='PC2', hue='label', data=df2, palette='rainbow')\n",
        "# 변수 자체에 대한 해석은 어렵지만, 특성별로 얼마나 잘 나뉘었는지는 확인 가능"
      ],
      "metadata": {
        "colab": {
          "base_uri": "https://localhost:8080/",
          "height": 297
        },
        "id": "csJGMbrgVDSB",
        "outputId": "01a17e82-1881-44a9-e766-f3600f5b6be5"
      },
      "execution_count": null,
      "outputs": [
        {
          "output_type": "execute_result",
          "data": {
            "text/plain": [
              "<Axes: xlabel='PC1', ylabel='PC2'>"
            ]
          },
          "metadata": {},
          "execution_count": 19
        },
        {
          "output_type": "display_data",
          "data": {
            "text/plain": [
              "<Figure size 432x288 with 1 Axes>"
            ],
            "image/png": "[encoded data removed]"
          },
          "metadata": {
            "needs_background": "light"
          }
        }
      ]
    },
    {
      "cell_type": "code",
      "source": [
        "# 각 주성분 (PC1, PC2)과 기존 독립변수 간의 관계 확인\n",
        "pca.components_"
      ],
      "metadata": {
        "colab": {
          "base_uri": "https://localhost:8080/"
        },
        "id": "63xQFQktVwko",
        "outputId": "fb9171a7-7a71-4c4d-d4dc-313f466db0d3"
      },
      "execution_count": null,
      "outputs": [
        {
          "output_type": "execute_result",
          "data": {
            "text/plain": [
              "array([[ 0.3484681 ,  0.32447242,  0.30303652,  0.14186907,  0.30618347,\n",
              "         0.31297263,  0.29718852,  0.3045823 ,  0.29341337,  0.30287672,\n",
              "         0.32053447,  0.08927503],\n",
              "       [ 0.05827591,  0.06034266,  0.15264674, -0.54435586,  0.03109502,\n",
              "         0.03790586,  0.23809571, -0.2315275 , -0.2471928 , -0.20898284,\n",
              "         0.14479001,  0.65946781]])"
            ]
          },
          "metadata": {},
          "execution_count": 14
        }
      ]
    },
    {
      "cell_type": "code",
      "source": [
        "# 주성분과 변수 간의 상관관계 df\n",
        "df3 = pd.DataFrame(pca.components_, columns=X.columns, index=['PC1', 'PC2'])\n",
        "df3"
      ],
      "metadata": {
        "colab": {
          "base_uri": "https://localhost:8080/",
          "height": 176
        },
        "id": "kgd7jbG6V4dd",
        "outputId": "0c06c8b4-cb08-401d-e8c9-7e67bfd646a1"
      },
      "execution_count": null,
      "outputs": [
        {
          "output_type": "execute_result",
          "data": {
            "text/plain": [
              "          amt  category_entertainment  category_food_dining  \\\n",
              "PC1  0.348468                0.324472              0.303037   \n",
              "PC2  0.058276                0.060343              0.152647   \n",
              "\n",
              "     category_gas_transport  category_grocery  category_health_fitness  \\\n",
              "PC1                0.141869          0.306183                 0.312973   \n",
              "PC2               -0.544356          0.031095                 0.037906   \n",
              "\n",
              "     category_home  category_kids_pets  category_misc  category_personal_care  \\\n",
              "PC1       0.297189            0.304582       0.293413                0.302877   \n",
              "PC2       0.238096           -0.231528      -0.247193               -0.208983   \n",
              "\n",
              "     category_shopping  category_travel  \n",
              "PC1           0.320534         0.089275  \n",
              "PC2           0.144790         0.659468  "
            ],
            "text/html": [
              "\n",
              "  <div id=\"df-3ab77f12-c1dd-4e83-83d2-22a974c4a094\">\n",
              "    <div class=\"colab-df-container\">\n",
              "      <div>\n",
              "<style scoped>\n",
              "    .dataframe tbody tr th:only-of-type {\n",
              "        vertical-align: middle;\n",
              "    }\n",
              "\n",
              "    .dataframe tbody tr th {\n",
              "        vertical-align: top;\n",
              "    }\n",
              "\n",
              "    .dataframe thead th {\n",
              "        text-align: right;\n",
              "    }\n",
              "</style>\n",
              "<table border=\"1\" class=\"dataframe\">\n",
              "  <thead>\n",
              "    <tr style=\"text-align: right;\">\n",
              "      <th></th>\n",
              "      <th>amt</th>\n",
              "      <th>category_entertainment</th>\n",
              "      <th>category_food_dining</th>\n",
              "      <th>category_gas_transport</th>\n",
              "      <th>category_grocery</th>\n",
              "      <th>category_health_fitness</th>\n",
              "      <th>category_home</th>\n",
              "      <th>category_kids_pets</th>\n",
              "      <th>category_misc</th>\n",
              "      <th>category_personal_care</th>\n",
              "      <th>category_shopping</th>\n",
              "      <th>category_travel</th>\n",
              "    </tr>\n",
              "  </thead>\n",
              "  <tbody>\n",
              "    <tr>\n",
              "      <th>PC1</th>\n",
              "      <td>0.348468</td>\n",
              "      <td>0.324472</td>\n",
              "      <td>0.303037</td>\n",
              "      <td>0.141869</td>\n",
              "      <td>0.306183</td>\n",
              "      <td>0.312973</td>\n",
              "      <td>0.297189</td>\n",
              "      <td>0.304582</td>\n",
              "      <td>0.293413</td>\n",
              "      <td>0.302877</td>\n",
              "      <td>0.320534</td>\n",
              "      <td>0.089275</td>\n",
              "    </tr>\n",
              "    <tr>\n",
              "      <th>PC2</th>\n",
              "      <td>0.058276</td>\n",
              "      <td>0.060343</td>\n",
              "      <td>0.152647</td>\n",
              "      <td>-0.544356</td>\n",
              "      <td>0.031095</td>\n",
              "      <td>0.037906</td>\n",
              "      <td>0.238096</td>\n",
              "      <td>-0.231528</td>\n",
              "      <td>-0.247193</td>\n",
              "      <td>-0.208983</td>\n",
              "      <td>0.144790</td>\n",
              "      <td>0.659468</td>\n",
              "    </tr>\n",
              "  </tbody>\n",
              "</table>\n",
              "</div>\n",
              "      <button class=\"colab-df-convert\" onclick=\"convertToInteractive('df-3ab77f12-c1dd-4e83-83d2-22a974c4a094')\"\n",
              "              title=\"Convert this dataframe to an interactive table.\"\n",
              "              style=\"display:none;\">\n",
              "        \n",
              "  <svg xmlns=\"http://www.w3.org/2000/svg\" height=\"24px\"viewBox=\"0 0 24 24\"\n",
              "       width=\"24px\">\n",
              "    <path d=\"M0 0h24v24H0V0z\" fill=\"none\"/>\n",
              "    <path d=\"M18.56 5.44l.94 2.06.94-2.06 2.06-.94-2.06-.94-.94-2.06-.94 2.06-2.06.94zm-11 1L8.5 8.5l.94-2.06 2.06-.94-2.06-.94L8.5 2.5l-.94 2.06-2.06.94zm10 10l.94 2.06.94-2.06 2.06-.94-2.06-.94-.94-2.06-.94 2.06-2.06.94z\"/><path d=\"M17.41 7.96l-1.37-1.37c-.4-.4-.92-.59-1.43-.59-.52 0-1.04.2-1.43.59L10.3 9.45l-7.72 7.72c-.78.78-.78 2.05 0 2.83L4 21.41c.39.39.9.59 1.41.59.51 0 1.02-.2 1.41-.59l7.78-7.78 2.81-2.81c.8-.78.8-2.07 0-2.86zM5.41 20L4 18.59l7.72-7.72 1.47 1.35L5.41 20z\"/>\n",
              "  </svg>\n",
              "      </button>\n",
              "      \n",
              "  <style>\n",
              "    .colab-df-container {\n",
              "      display:flex;\n",
              "      flex-wrap:wrap;\n",
              "      gap: 12px;\n",
              "    }\n",
              "\n",
              "    .colab-df-convert {\n",
              "      background-color: #E8F0FE;\n",
              "      border: none;\n",
              "      border-radius: 50%;\n",
              "      cursor: pointer;\n",
              "      display: none;\n",
              "      fill: #1967D2;\n",
              "      height: 32px;\n",
              "      padding: 0 0 0 0;\n",
              "      width: 32px;\n",
              "    }\n",
              "\n",
              "    .colab-df-convert:hover {\n",
              "      background-color: #E2EBFA;\n",
              "      box-shadow: 0px 1px 2px rgba(60, 64, 67, 0.3), 0px 1px 3px 1px rgba(60, 64, 67, 0.15);\n",
              "      fill: #174EA6;\n",
              "    }\n",
              "\n",
              "    [theme=dark] .colab-df-convert {\n",
              "      background-color: #3B4455;\n",
              "      fill: #D2E3FC;\n",
              "    }\n",
              "\n",
              "    [theme=dark] .colab-df-convert:hover {\n",
              "      background-color: #434B5C;\n",
              "      box-shadow: 0px 1px 3px 1px rgba(0, 0, 0, 0.15);\n",
              "      filter: drop-shadow(0px 1px 2px rgba(0, 0, 0, 0.3));\n",
              "      fill: #FFFFFF;\n",
              "    }\n",
              "  </style>\n",
              "\n",
              "      <script>\n",
              "        const buttonEl =\n",
              "          document.querySelector('#df-3ab77f12-c1dd-4e83-83d2-22a974c4a094 button.colab-df-convert');\n",
              "        buttonEl.style.display =\n",
              "          google.colab.kernel.accessAllowed ? 'block' : 'none';\n",
              "\n",
              "        async function convertToInteractive(key) {\n",
              "          const element = document.querySelector('#df-3ab77f12-c1dd-4e83-83d2-22a974c4a094');\n",
              "          const dataTable =\n",
              "            await google.colab.kernel.invokeFunction('convertToInteractive',\n",
              "                                                     [key], {});\n",
              "          if (!dataTable) return;\n",
              "\n",
              "          const docLinkHtml = 'Like what you see? Visit the ' +\n",
              "            '<a target=\"_blank\" href=https://colab.research.google.com/notebooks/data_table.ipynb>data table notebook</a>'\n",
              "            + ' to learn more about interactive tables.';\n",
              "          element.innerHTML = '';\n",
              "          dataTable['output_type'] = 'display_data';\n",
              "          await google.colab.output.renderOutput(dataTable, element);\n",
              "          const docLink = document.createElement('div');\n",
              "          docLink.innerHTML = docLinkHtml;\n",
              "          element.appendChild(docLink);\n",
              "        }\n",
              "      </script>\n",
              "    </div>\n",
              "  </div>\n",
              "  "
            ]
          },
          "metadata": {},
          "execution_count": 16
        }
      ]
    },
    {
      "cell_type": "code",
      "source": [
        "# 히트맵\n",
        "sns.heatmap(df3, cmap='coolwarm')"
      ],
      "metadata": {
        "colab": {
          "base_uri": "https://localhost:8080/",
          "height": 394
        },
        "id": "vozF_eV5WSdx",
        "outputId": "81d6105e-ab31-4271-9279-2f9cfb3236b3"
      },
      "execution_count": null,
      "outputs": [
        {
          "output_type": "execute_result",
          "data": {
            "text/plain": [
              "<Axes: >"
            ]
          },
          "metadata": {},
          "execution_count": 17
        },
        {
          "output_type": "display_data",
          "data": {
            "text/plain": [
              "<Figure size 432x288 with 2 Axes>"
            ],
            "image/png": "[encoded data removed]"
          },
          "metadata": {
            "needs_background": "light"
          }
        }
      ]
    },
    {
      "cell_type": "markdown",
      "source": [
        "# 다차원 데이터 처리"
      ],
      "metadata": {
        "id": "VTu6PlhGXUtH"
      }
    },
    {
      "cell_type": "code",
      "source": [
        "anonymous = pd.read_csv('https://bit.ly/3Gl0qfO')\n",
        "anonymous"
      ],
      "metadata": {
        "colab": {
          "base_uri": "https://localhost:8080/",
          "height": 488
        },
        "id": "BT_1wPXUdyx_",
        "outputId": "1b70e406-0f8a-49d3-da00-3946d8c66f84"
      },
      "execution_count": null,
      "outputs": [
        {
          "output_type": "execute_result",
          "data": {
            "text/plain": [
              "       class        V1        V2       V3   V4       V5      V6       V7  \\\n",
              "0          1  0.000000  0.000000  0.56758  0.0  0.00000  0.0000  0.00000   \n",
              "1          1  0.000000  0.000000  0.56758  0.0  0.00000  0.0000  0.00000   \n",
              "2          1  0.000000  0.000000  0.56758  0.0  0.00000  0.0000  0.00000   \n",
              "3          1  0.000000  0.000000  0.56758  0.0  0.00000  0.0000  0.00000   \n",
              "4          1  0.000000  0.000000  0.56758  0.0  0.00000  0.0000  0.00000   \n",
              "...      ...       ...       ...      ...  ...      ...     ...      ...   \n",
              "19995      0  0.003989  0.316790  0.00000  0.0  0.75463  0.0000  0.54697   \n",
              "19996      0  0.000000  2.601400  1.81890  0.0  0.00000  0.0000  0.25596   \n",
              "19997      0  0.000000  2.298500  0.95090  0.0  0.88928  0.0000  0.15201   \n",
              "19998      0  0.227150  0.049184  1.52300  0.0  1.44170  1.9881  0.57948   \n",
              "19999      0  0.000000  3.829800  0.00000  0.0  1.89840  0.0000  0.00000   \n",
              "\n",
              "             V8       V9  ...     V4287     V4288     V4289     V4290  \\\n",
              "0      0.825850  0.83788  ... -0.257770  0.122200  0.348620  0.129570   \n",
              "1      0.825850  0.83788  ... -0.153160  0.140620 -0.030201  0.101340   \n",
              "2      0.825850  0.83788  ... -0.401220  0.137900  0.138350  0.157460   \n",
              "3      0.825850  0.83788  ... -0.155870 -0.266860  0.158930 -0.132040   \n",
              "4      0.825850  0.83788  ...  0.240200  0.446050 -0.163560  0.453110   \n",
              "...         ...      ...  ...       ...       ...       ...       ...   \n",
              "19995  2.011200  0.00000  ... -0.091805 -0.032054  0.229830 -0.087756   \n",
              "19996  0.090454  0.00000  ... -0.369120 -0.384540  0.048926  0.383610   \n",
              "19997  0.000000  0.00000  ... -0.397390  0.317710 -0.215280  0.229490   \n",
              "19998  0.634800  0.00000  ... -0.368830 -0.271760 -0.006920 -0.235180   \n",
              "19999  0.000000  0.00000  ... -0.300460  0.252680 -0.038118 -0.067386   \n",
              "\n",
              "          V4291     V4292     V4293     V4294     V4295    V4296  \n",
              "0      0.438460 -0.108020  0.128330  0.318820 -0.041559  0.22589  \n",
              "1     -0.145460 -0.166650  0.401300  0.035392  0.019906  0.31952  \n",
              "2      0.512160 -0.330690  0.070346  0.179250 -0.188740  0.16386  \n",
              "3      0.322210 -0.042086  0.588970  0.526990 -0.574320  0.20891  \n",
              "4      0.590730  0.356800  0.395780  0.035871 -0.293430  0.38124  \n",
              "...         ...       ...       ...       ...       ...      ...  \n",
              "19995  0.276940 -0.322200 -0.053252 -0.156980 -0.043542  0.12565  \n",
              "19996  0.273910 -0.034337 -0.264020  0.016412  0.320100  0.25905  \n",
              "19997  0.190690  0.158690  0.185860  0.208300  0.082322  0.07128  \n",
              "19998  0.347830  0.534220  0.410420  0.172900 -0.204870  0.17142  \n",
              "19999  0.021725  0.170900  0.060645  0.257890 -0.237110  0.17635  \n",
              "\n",
              "[20000 rows x 4297 columns]"
            ],
            "text/html": [
              "\n",
              "  <div id=\"df-50f1f116-4b92-4b25-83d8-feeaf215254f\">\n",
              "    <div class=\"colab-df-container\">\n",
              "      <div>\n",
              "<style scoped>\n",
              "    .dataframe tbody tr th:only-of-type {\n",
              "        vertical-align: middle;\n",
              "    }\n",
              "\n",
              "    .dataframe tbody tr th {\n",
              "        vertical-align: top;\n",
              "    }\n",
              "\n",
              "    .dataframe thead th {\n",
              "        text-align: right;\n",
              "    }\n",
              "</style>\n",
              "<table border=\"1\" class=\"dataframe\">\n",
              "  <thead>\n",
              "    <tr style=\"text-align: right;\">\n",
              "      <th></th>\n",
              "      <th>class</th>\n",
              "      <th>V1</th>\n",
              "      <th>V2</th>\n",
              "      <th>V3</th>\n",
              "      <th>V4</th>\n",
              "      <th>V5</th>\n",
              "      <th>V6</th>\n",
              "      <th>V7</th>\n",
              "      <th>V8</th>\n",
              "      <th>V9</th>\n",
              "      <th>...</th>\n",
              "      <th>V4287</th>\n",
              "      <th>V4288</th>\n",
              "      <th>V4289</th>\n",
              "      <th>V4290</th>\n",
              "      <th>V4291</th>\n",
              "      <th>V4292</th>\n",
              "      <th>V4293</th>\n",
              "      <th>V4294</th>\n",
              "      <th>V4295</th>\n",
              "      <th>V4296</th>\n",
              "    </tr>\n",
              "  </thead>\n",
              "  <tbody>\n",
              "    <tr>\n",
              "      <th>0</th>\n",
              "      <td>1</td>\n",
              "      <td>0.000000</td>\n",
              "      <td>0.000000</td>\n",
              "      <td>0.56758</td>\n",
              "      <td>0.0</td>\n",
              "      <td>0.00000</td>\n",
              "      <td>0.0000</td>\n",
              "      <td>0.00000</td>\n",
              "      <td>0.825850</td>\n",
              "      <td>0.83788</td>\n",
              "      <td>...</td>\n",
              "      <td>-0.257770</td>\n",
              "      <td>0.122200</td>\n",
              "      <td>0.348620</td>\n",
              "      <td>0.129570</td>\n",
              "      <td>0.438460</td>\n",
              "      <td>-0.108020</td>\n",
              "      <td>0.128330</td>\n",
              "      <td>0.318820</td>\n",
              "      <td>-0.041559</td>\n",
              "      <td>0.22589</td>\n",
              "    </tr>\n",
              "    <tr>\n",
              "      <th>1</th>\n",
              "      <td>1</td>\n",
              "      <td>0.000000</td>\n",
              "      <td>0.000000</td>\n",
              "      <td>0.56758</td>\n",
              "      <td>0.0</td>\n",
              "      <td>0.00000</td>\n",
              "      <td>0.0000</td>\n",
              "      <td>0.00000</td>\n",
              "      <td>0.825850</td>\n",
              "      <td>0.83788</td>\n",
              "      <td>...</td>\n",
              "      <td>-0.153160</td>\n",
              "      <td>0.140620</td>\n",
              "      <td>-0.030201</td>\n",
              "      <td>0.101340</td>\n",
              "      <td>-0.145460</td>\n",
              "      <td>-0.166650</td>\n",
              "      <td>0.401300</td>\n",
              "      <td>0.035392</td>\n",
              "      <td>0.019906</td>\n",
              "      <td>0.31952</td>\n",
              "    </tr>\n",
              "    <tr>\n",
              "      <th>2</th>\n",
              "      <td>1</td>\n",
              "      <td>0.000000</td>\n",
              "      <td>0.000000</td>\n",
              "      <td>0.56758</td>\n",
              "      <td>0.0</td>\n",
              "      <td>0.00000</td>\n",
              "      <td>0.0000</td>\n",
              "      <td>0.00000</td>\n",
              "      <td>0.825850</td>\n",
              "      <td>0.83788</td>\n",
              "      <td>...</td>\n",
              "      <td>-0.401220</td>\n",
              "      <td>0.137900</td>\n",
              "      <td>0.138350</td>\n",
              "      <td>0.157460</td>\n",
              "      <td>0.512160</td>\n",
              "      <td>-0.330690</td>\n",
              "      <td>0.070346</td>\n",
              "      <td>0.179250</td>\n",
              "      <td>-0.188740</td>\n",
              "      <td>0.16386</td>\n",
              "    </tr>\n",
              "    <tr>\n",
              "      <th>3</th>\n",
              "      <td>1</td>\n",
              "      <td>0.000000</td>\n",
              "      <td>0.000000</td>\n",
              "      <td>0.56758</td>\n",
              "      <td>0.0</td>\n",
              "      <td>0.00000</td>\n",
              "      <td>0.0000</td>\n",
              "      <td>0.00000</td>\n",
              "      <td>0.825850</td>\n",
              "      <td>0.83788</td>\n",
              "      <td>...</td>\n",
              "      <td>-0.155870</td>\n",
              "      <td>-0.266860</td>\n",
              "      <td>0.158930</td>\n",
              "      <td>-0.132040</td>\n",
              "      <td>0.322210</td>\n",
              "      <td>-0.042086</td>\n",
              "      <td>0.588970</td>\n",
              "      <td>0.526990</td>\n",
              "      <td>-0.574320</td>\n",
              "      <td>0.20891</td>\n",
              "    </tr>\n",
              "    <tr>\n",
              "      <th>4</th>\n",
              "      <td>1</td>\n",
              "      <td>0.000000</td>\n",
              "      <td>0.000000</td>\n",
              "      <td>0.56758</td>\n",
              "      <td>0.0</td>\n",
              "      <td>0.00000</td>\n",
              "      <td>0.0000</td>\n",
              "      <td>0.00000</td>\n",
              "      <td>0.825850</td>\n",
              "      <td>0.83788</td>\n",
              "      <td>...</td>\n",
              "      <td>0.240200</td>\n",
              "      <td>0.446050</td>\n",
              "      <td>-0.163560</td>\n",
              "      <td>0.453110</td>\n",
              "      <td>0.590730</td>\n",
              "      <td>0.356800</td>\n",
              "      <td>0.395780</td>\n",
              "      <td>0.035871</td>\n",
              "      <td>-0.293430</td>\n",
              "      <td>0.38124</td>\n",
              "    </tr>\n",
              "    <tr>\n",
              "      <th>...</th>\n",
              "      <td>...</td>\n",
              "      <td>...</td>\n",
              "      <td>...</td>\n",
              "      <td>...</td>\n",
              "      <td>...</td>\n",
              "      <td>...</td>\n",
              "      <td>...</td>\n",
              "      <td>...</td>\n",
              "      <td>...</td>\n",
              "      <td>...</td>\n",
              "      <td>...</td>\n",
              "      <td>...</td>\n",
              "      <td>...</td>\n",
              "      <td>...</td>\n",
              "      <td>...</td>\n",
              "      <td>...</td>\n",
              "      <td>...</td>\n",
              "      <td>...</td>\n",
              "      <td>...</td>\n",
              "      <td>...</td>\n",
              "      <td>...</td>\n",
              "    </tr>\n",
              "    <tr>\n",
              "      <th>19995</th>\n",
              "      <td>0</td>\n",
              "      <td>0.003989</td>\n",
              "      <td>0.316790</td>\n",
              "      <td>0.00000</td>\n",
              "      <td>0.0</td>\n",
              "      <td>0.75463</td>\n",
              "      <td>0.0000</td>\n",
              "      <td>0.54697</td>\n",
              "      <td>2.011200</td>\n",
              "      <td>0.00000</td>\n",
              "      <td>...</td>\n",
              "      <td>-0.091805</td>\n",
              "      <td>-0.032054</td>\n",
              "      <td>0.229830</td>\n",
              "      <td>-0.087756</td>\n",
              "      <td>0.276940</td>\n",
              "      <td>-0.322200</td>\n",
              "      <td>-0.053252</td>\n",
              "      <td>-0.156980</td>\n",
              "      <td>-0.043542</td>\n",
              "      <td>0.12565</td>\n",
              "    </tr>\n",
              "    <tr>\n",
              "      <th>19996</th>\n",
              "      <td>0</td>\n",
              "      <td>0.000000</td>\n",
              "      <td>2.601400</td>\n",
              "      <td>1.81890</td>\n",
              "      <td>0.0</td>\n",
              "      <td>0.00000</td>\n",
              "      <td>0.0000</td>\n",
              "      <td>0.25596</td>\n",
              "      <td>0.090454</td>\n",
              "      <td>0.00000</td>\n",
              "      <td>...</td>\n",
              "      <td>-0.369120</td>\n",
              "      <td>-0.384540</td>\n",
              "      <td>0.048926</td>\n",
              "      <td>0.383610</td>\n",
              "      <td>0.273910</td>\n",
              "      <td>-0.034337</td>\n",
              "      <td>-0.264020</td>\n",
              "      <td>0.016412</td>\n",
              "      <td>0.320100</td>\n",
              "      <td>0.25905</td>\n",
              "    </tr>\n",
              "    <tr>\n",
              "      <th>19997</th>\n",
              "      <td>0</td>\n",
              "      <td>0.000000</td>\n",
              "      <td>2.298500</td>\n",
              "      <td>0.95090</td>\n",
              "      <td>0.0</td>\n",
              "      <td>0.88928</td>\n",
              "      <td>0.0000</td>\n",
              "      <td>0.15201</td>\n",
              "      <td>0.000000</td>\n",
              "      <td>0.00000</td>\n",
              "      <td>...</td>\n",
              "      <td>-0.397390</td>\n",
              "      <td>0.317710</td>\n",
              "      <td>-0.215280</td>\n",
              "      <td>0.229490</td>\n",
              "      <td>0.190690</td>\n",
              "      <td>0.158690</td>\n",
              "      <td>0.185860</td>\n",
              "      <td>0.208300</td>\n",
              "      <td>0.082322</td>\n",
              "      <td>0.07128</td>\n",
              "    </tr>\n",
              "    <tr>\n",
              "      <th>19998</th>\n",
              "      <td>0</td>\n",
              "      <td>0.227150</td>\n",
              "      <td>0.049184</td>\n",
              "      <td>1.52300</td>\n",
              "      <td>0.0</td>\n",
              "      <td>1.44170</td>\n",
              "      <td>1.9881</td>\n",
              "      <td>0.57948</td>\n",
              "      <td>0.634800</td>\n",
              "      <td>0.00000</td>\n",
              "      <td>...</td>\n",
              "      <td>-0.368830</td>\n",
              "      <td>-0.271760</td>\n",
              "      <td>-0.006920</td>\n",
              "      <td>-0.235180</td>\n",
              "      <td>0.347830</td>\n",
              "      <td>0.534220</td>\n",
              "      <td>0.410420</td>\n",
              "      <td>0.172900</td>\n",
              "      <td>-0.204870</td>\n",
              "      <td>0.17142</td>\n",
              "    </tr>\n",
              "    <tr>\n",
              "      <th>19999</th>\n",
              "      <td>0</td>\n",
              "      <td>0.000000</td>\n",
              "      <td>3.829800</td>\n",
              "      <td>0.00000</td>\n",
              "      <td>0.0</td>\n",
              "      <td>1.89840</td>\n",
              "      <td>0.0000</td>\n",
              "      <td>0.00000</td>\n",
              "      <td>0.000000</td>\n",
              "      <td>0.00000</td>\n",
              "      <td>...</td>\n",
              "      <td>-0.300460</td>\n",
              "      <td>0.252680</td>\n",
              "      <td>-0.038118</td>\n",
              "      <td>-0.067386</td>\n",
              "      <td>0.021725</td>\n",
              "      <td>0.170900</td>\n",
              "      <td>0.060645</td>\n",
              "      <td>0.257890</td>\n",
              "      <td>-0.237110</td>\n",
              "      <td>0.17635</td>\n",
              "    </tr>\n",
              "  </tbody>\n",
              "</table>\n",
              "<p>20000 rows × 4297 columns</p>\n",
              "</div>\n",
              "      <button class=\"colab-df-convert\" onclick=\"convertToInteractive('df-50f1f116-4b92-4b25-83d8-feeaf215254f')\"\n",
              "              title=\"Convert this dataframe to an interactive table.\"\n",
              "              style=\"display:none;\">\n",
              "        \n",
              "  <svg xmlns=\"http://www.w3.org/2000/svg\" height=\"24px\"viewBox=\"0 0 24 24\"\n",
              "       width=\"24px\">\n",
              "    <path d=\"M0 0h24v24H0V0z\" fill=\"none\"/>\n",
              "    <path d=\"M18.56 5.44l.94 2.06.94-2.06 2.06-.94-2.06-.94-.94-2.06-.94 2.06-2.06.94zm-11 1L8.5 8.5l.94-2.06 2.06-.94-2.06-.94L8.5 2.5l-.94 2.06-2.06.94zm10 10l.94 2.06.94-2.06 2.06-.94-2.06-.94-.94-2.06-.94 2.06-2.06.94z\"/><path d=\"M17.41 7.96l-1.37-1.37c-.4-.4-.92-.59-1.43-.59-.52 0-1.04.2-1.43.59L10.3 9.45l-7.72 7.72c-.78.78-.78 2.05 0 2.83L4 21.41c.39.39.9.59 1.41.59.51 0 1.02-.2 1.41-.59l7.78-7.78 2.81-2.81c.8-.78.8-2.07 0-2.86zM5.41 20L4 18.59l7.72-7.72 1.47 1.35L5.41 20z\"/>\n",
              "  </svg>\n",
              "      </button>\n",
              "      \n",
              "  <style>\n",
              "    .colab-df-container {\n",
              "      display:flex;\n",
              "      flex-wrap:wrap;\n",
              "      gap: 12px;\n",
              "    }\n",
              "\n",
              "    .colab-df-convert {\n",
              "      background-color: #E8F0FE;\n",
              "      border: none;\n",
              "      border-radius: 50%;\n",
              "      cursor: pointer;\n",
              "      display: none;\n",
              "      fill: #1967D2;\n",
              "      height: 32px;\n",
              "      padding: 0 0 0 0;\n",
              "      width: 32px;\n",
              "    }\n",
              "\n",
              "    .colab-df-convert:hover {\n",
              "      background-color: #E2EBFA;\n",
              "      box-shadow: 0px 1px 2px rgba(60, 64, 67, 0.3), 0px 1px 3px 1px rgba(60, 64, 67, 0.15);\n",
              "      fill: #174EA6;\n",
              "    }\n",
              "\n",
              "    [theme=dark] .colab-df-convert {\n",
              "      background-color: #3B4455;\n",
              "      fill: #D2E3FC;\n",
              "    }\n",
              "\n",
              "    [theme=dark] .colab-df-convert:hover {\n",
              "      background-color: #434B5C;\n",
              "      box-shadow: 0px 1px 3px 1px rgba(0, 0, 0, 0.15);\n",
              "      filter: drop-shadow(0px 1px 2px rgba(0, 0, 0, 0.3));\n",
              "      fill: #FFFFFF;\n",
              "    }\n",
              "  </style>\n",
              "\n",
              "      <script>\n",
              "        const buttonEl =\n",
              "          document.querySelector('#df-50f1f116-4b92-4b25-83d8-feeaf215254f button.colab-df-convert');\n",
              "        buttonEl.style.display =\n",
              "          google.colab.kernel.accessAllowed ? 'block' : 'none';\n",
              "\n",
              "        async function convertToInteractive(key) {\n",
              "          const element = document.querySelector('#df-50f1f116-4b92-4b25-83d8-feeaf215254f');\n",
              "          const dataTable =\n",
              "            await google.colab.kernel.invokeFunction('convertToInteractive',\n",
              "                                                     [key], {});\n",
              "          if (!dataTable) return;\n",
              "\n",
              "          const docLinkHtml = 'Like what you see? Visit the ' +\n",
              "            '<a target=\"_blank\" href=https://colab.research.google.com/notebooks/data_table.ipynb>data table notebook</a>'\n",
              "            + ' to learn more about interactive tables.';\n",
              "          element.innerHTML = '';\n",
              "          dataTable['output_type'] = 'display_data';\n",
              "          await google.colab.output.renderOutput(dataTable, element);\n",
              "          const docLink = document.createElement('div');\n",
              "          docLink.innerHTML = docLinkHtml;\n",
              "          element.appendChild(docLink);\n",
              "        }\n",
              "      </script>\n",
              "    </div>\n",
              "  </div>\n",
              "  "
            ]
          },
          "metadata": {},
          "execution_count": 18
        }
      ]
    },
    {
      "cell_type": "code",
      "source": [
        "# anonymous['class']\n",
        "anonymous['class'].value_counts()"
      ],
      "metadata": {
        "colab": {
          "base_uri": "https://localhost:8080/"
        },
        "id": "nfSnxAaIeE4H",
        "outputId": "151a5aad-1cbf-48d9-b026-fac65c66cdea"
      },
      "execution_count": 20,
      "outputs": [
        {
          "output_type": "execute_result",
          "data": {
            "text/plain": [
              "0    15000\n",
              "1     5000\n",
              "Name: class, dtype: int64"
            ]
          },
          "metadata": {},
          "execution_count": 20
        }
      ]
    },
    {
      "cell_type": "code",
      "source": [
        "# anonymous.isna().sum()\n",
        "anonymous.isna().sum().sum()"
      ],
      "metadata": {
        "colab": {
          "base_uri": "https://localhost:8080/"
        },
        "id": "IRpTv0zbeRS6",
        "outputId": "5d5ae5aa-4a4f-4006-d786-fbda47977b00"
      },
      "execution_count": 21,
      "outputs": [
        {
          "output_type": "execute_result",
          "data": {
            "text/plain": [
              "0"
            ]
          },
          "metadata": {},
          "execution_count": 21
        }
      ]
    },
    {
      "cell_type": "markdown",
      "source": [
        "# PCA에 따른 모델링 성능/결과 비교"
      ],
      "metadata": {
        "id": "FqBaE-r0eqc4"
      }
    },
    {
      "cell_type": "markdown",
      "source": [
        "## PCA X"
      ],
      "metadata": {
        "id": "YidLpA-whvOd"
      }
    },
    {
      "cell_type": "code",
      "source": [
        "# 훈련셋/시험셋\n",
        "from sklearn.model_selection import train_test_split\n",
        "X_train, X_test, y_train, y_test = train_test_split(\n",
        "    anonymous.drop('class', axis=1), # X\n",
        "    anonymous['class'], # y\n",
        "    test_size = 0.2,\n",
        "    random_state= 23\n",
        ")"
      ],
      "metadata": {
        "id": "WzVG6RGBek_-"
      },
      "execution_count": 22,
      "outputs": []
    },
    {
      "cell_type": "code",
      "source": [
        "# 스케일링 작업\n",
        "from sklearn.preprocessing import StandardScaler\n",
        "\n",
        "scaler = StandardScaler()\n",
        "scaler.fit(X_train)\n",
        "# 훈련셋 -> 훈련셋 스케일링\n",
        "X_train_scaled = scaler.transform(X_train)\n",
        "# (모델링 훈련된 건 훈련셋 기준이기 때문에 스케일링 기준도 훈련셋)\n",
        "# 훈련셋 -> 시험셋 스케일링 \n",
        "X_test_scaled = scaler.transform(X_test)\n",
        "# ---\n",
        "# X_train에 대한 학습 및 변환\n",
        "# 이미 학습된 X_train을 바탕으로 X_test를 학습"
      ],
      "metadata": {
        "id": "0BoWMSIafGrO"
      },
      "execution_count": 23,
      "outputs": []
    },
    {
      "cell_type": "code",
      "source": [
        "# 모델링 (랜덤포레스트)\n",
        "from sklearn.ensemble import RandomForestClassifier # class -> 1,0 이진분류\n",
        "\n",
        "model_1 = RandomForestClassifier(random_state = 23)"
      ],
      "metadata": {
        "id": "mWgKZdp-fzIq"
      },
      "execution_count": 24,
      "outputs": []
    },
    {
      "cell_type": "code",
      "source": [
        "# 시간측정 (PCA을 안한 원본 데이터 학습 속도)\n",
        "import time\n",
        "start_time = time.time()\n",
        "model_1.fit(X_train_scaled, y_train)\n",
        "print(time.time() - start_time) # 시간재는 코드. 시작시간을 끝시간에서 뺴줌 = 걸린시간"
      ],
      "metadata": {
        "colab": {
          "base_uri": "https://localhost:8080/"
        },
        "id": "TSPuBPNHgIEx",
        "outputId": "2a3f099a-ee0c-4b60-baed-1b0dd1626236"
      },
      "execution_count": 25,
      "outputs": [
        {
          "output_type": "stream",
          "name": "stdout",
          "text": [
            "113.00576734542847\n"
          ]
        }
      ]
    },
    {
      "cell_type": "code",
      "source": [
        "# 모델 평가\n",
        "from sklearn.metrics import accuracy_score, roc_auc_score\n",
        "\n",
        "# 첫번째 모델을 통한 예측값\n",
        "pred_1 = model_1.predict(X_test_scaled)\n",
        "accuracy_score(y_test, pred_1) # 정확도, 일치도\n",
        "# 0.75"
      ],
      "metadata": {
        "colab": {
          "base_uri": "https://localhost:8080/"
        },
        "id": "RftgVyywgXTB",
        "outputId": "e7f5492a-9aec-4b0f-8882-7b21ee7440e9"
      },
      "execution_count": 38,
      "outputs": [
        {
          "output_type": "execute_result",
          "data": {
            "text/plain": [
              "0.95525"
            ]
          },
          "metadata": {},
          "execution_count": 38
        }
      ]
    },
    {
      "cell_type": "code",
      "source": [
        "# '1'으로 분류할 확률값\n",
        "proba_1 = model_1.predict_proba(X_test_scaled) # 1번째 열들만 선택\n",
        "# proba_1[:, 1] -> : - 모든 행 / 1 - 열의 인덱스\n",
        "roc_auc_score(y_test, proba_1[:, 1])"
      ],
      "metadata": {
        "colab": {
          "base_uri": "https://localhost:8080/"
        },
        "id": "LSFk3wk-hYtg",
        "outputId": "ef6d0090-26ec-47be-fa8d-34fe8e4f6ad8"
      },
      "execution_count": 39,
      "outputs": [
        {
          "output_type": "execute_result",
          "data": {
            "text/plain": [
              "0.9967081026539351"
            ]
          },
          "metadata": {},
          "execution_count": 39
        }
      ]
    },
    {
      "cell_type": "markdown",
      "source": [
        "## PCA O"
      ],
      "metadata": {
        "id": "wX3ZCj1rhyEz"
      }
    },
    {
      "cell_type": "code",
      "source": [
        "pca = PCA(n_components = 2) # 2차원으로 축소 (주성분 2개)\n",
        "pca.fit(X_test_scaled) # 스케일링한 독립변수들을 가진 훈련셋 데이터를..."
      ],
      "metadata": {
        "colab": {
          "base_uri": "https://localhost:8080/",
          "height": 75
        },
        "id": "p4tWs6xqh0Oz",
        "outputId": "3c2ba149-9c00-4fd0-86f8-dcf774c96e8f"
      },
      "execution_count": 26,
      "outputs": [
        {
          "output_type": "execute_result",
          "data": {
            "text/plain": [
              "PCA(n_components=2)"
            ],
            "text/html": [
              "<style>#sk-container-id-1 {color: black;background-color: white;}#sk-container-id-1 pre{padding: 0;}#sk-container-id-1 div.sk-toggleable {background-color: white;}#sk-container-id-1 label.sk-toggleable__label {cursor: pointer;display: block;width: 100%;margin-bottom: 0;padding: 0.3em;box-sizing: border-box;text-align: center;}#sk-container-id-1 label.sk-toggleable__label-arrow:before {content: \"▸\";float: left;margin-right: 0.25em;color: #696969;}#sk-container-id-1 label.sk-toggleable__label-arrow:hover:before {color: black;}#sk-container-id-1 div.sk-estimator:hover label.sk-toggleable__label-arrow:before {color: black;}#sk-container-id-1 div.sk-toggleable__content {max-height: 0;max-width: 0;overflow: hidden;text-align: left;background-color: #f0f8ff;}#sk-container-id-1 div.sk-toggleable__content pre {margin: 0.2em;color: black;border-radius: 0.25em;background-color: #f0f8ff;}#sk-container-id-1 input.sk-toggleable__control:checked~div.sk-toggleable__content {max-height: 200px;max-width: 100%;overflow: auto;}#sk-container-id-1 input.sk-toggleable__control:checked~label.sk-toggleable__label-arrow:before {content: \"▾\";}#sk-container-id-1 div.sk-estimator input.sk-toggleable__control:checked~label.sk-toggleable__label {background-color: #d4ebff;}#sk-container-id-1 div.sk-label input.sk-toggleable__control:checked~label.sk-toggleable__label {background-color: #d4ebff;}#sk-container-id-1 input.sk-hidden--visually {border: 0;clip: rect(1px 1px 1px 1px);clip: rect(1px, 1px, 1px, 1px);height: 1px;margin: -1px;overflow: hidden;padding: 0;position: absolute;width: 1px;}#sk-container-id-1 div.sk-estimator {font-family: monospace;background-color: #f0f8ff;border: 1px dotted black;border-radius: 0.25em;box-sizing: border-box;margin-bottom: 0.5em;}#sk-container-id-1 div.sk-estimator:hover {background-color: #d4ebff;}#sk-container-id-1 div.sk-parallel-item::after {content: \"\";width: 100%;border-bottom: 1px solid gray;flex-grow: 1;}#sk-container-id-1 div.sk-label:hover label.sk-toggleable__label {background-color: #d4ebff;}#sk-container-id-1 div.sk-serial::before {content: \"\";position: absolute;border-left: 1px solid gray;box-sizing: border-box;top: 0;bottom: 0;left: 50%;z-index: 0;}#sk-container-id-1 div.sk-serial {display: flex;flex-direction: column;align-items: center;background-color: white;padding-right: 0.2em;padding-left: 0.2em;position: relative;}#sk-container-id-1 div.sk-item {position: relative;z-index: 1;}#sk-container-id-1 div.sk-parallel {display: flex;align-items: stretch;justify-content: center;background-color: white;position: relative;}#sk-container-id-1 div.sk-item::before, #sk-container-id-1 div.sk-parallel-item::before {content: \"\";position: absolute;border-left: 1px solid gray;box-sizing: border-box;top: 0;bottom: 0;left: 50%;z-index: -1;}#sk-container-id-1 div.sk-parallel-item {display: flex;flex-direction: column;z-index: 1;position: relative;background-color: white;}#sk-container-id-1 div.sk-parallel-item:first-child::after {align-self: flex-end;width: 50%;}#sk-container-id-1 div.sk-parallel-item:last-child::after {align-self: flex-start;width: 50%;}#sk-container-id-1 div.sk-parallel-item:only-child::after {width: 0;}#sk-container-id-1 div.sk-dashed-wrapped {border: 1px dashed gray;margin: 0 0.4em 0.5em 0.4em;box-sizing: border-box;padding-bottom: 0.4em;background-color: white;}#sk-container-id-1 div.sk-label label {font-family: monospace;font-weight: bold;display: inline-block;line-height: 1.2em;}#sk-container-id-1 div.sk-label-container {text-align: center;}#sk-container-id-1 div.sk-container {/* jupyter's `normalize.less` sets `[hidden] { display: none; }` but bootstrap.min.css set `[hidden] { display: none !important; }` so we also need the `!important` here to be able to override the default hidden behavior on the sphinx rendered scikit-learn.org. See: https://github.com/scikit-learn/scikit-learn/issues/21755 */display: inline-block !important;position: relative;}#sk-container-id-1 div.sk-text-repr-fallback {display: none;}</style><div id=\"sk-container-id-1\" class=\"sk-top-container\"><div class=\"sk-text-repr-fallback\"><pre>PCA(n_components=2)</pre><b>In a Jupyter environment, please rerun this cell to show the HTML representation or trust the notebook. <br />On GitHub, the HTML representation is unable to render, please try loading this page with nbviewer.org.</b></div><div class=\"sk-container\" hidden><div class=\"sk-item\"><div class=\"sk-estimator sk-toggleable\"><input class=\"sk-toggleable__control sk-hidden--visually\" id=\"sk-estimator-id-1\" type=\"checkbox\" checked><label for=\"sk-estimator-id-1\" class=\"sk-toggleable__label sk-toggleable__label-arrow\">PCA</label><div class=\"sk-toggleable__content\"><pre>PCA(n_components=2)</pre></div></div></div></div></div>"
            ]
          },
          "metadata": {},
          "execution_count": 26
        }
      ]
    },
    {
      "cell_type": "code",
      "source": [
        "# explained_variance_ratio_ : 기존 변수들의 분산을 (새롭게 만든) 주성분이 어느 비율로 설명(나타내 주고 있는지)해주고 있는지\n",
        "pca.explained_variance_ratio_ # 기본 변수들을 얼마 정도 반영하였냐 -> 0.05? 100% -> 5% 밖에 설명을 못해주고 있음"
      ],
      "metadata": {
        "id": "Sg-yb6uyiCb5"
      },
      "execution_count": null,
      "outputs": []
    },
    {
      "cell_type": "code",
      "source": [
        "# 적절한 주성분 갯수를 찾기 위해 반복문 사용 (엘보우 기법)\n",
        "var_ratio = [] # ratio를 받아줄 리스트\n",
        "for i in range(100, 550, 50): # 반복문\n",
        "    # 100, 150, 200, ...., 500\n",
        "    pca = PCA(n_components=i) # 주성분의 갯수 i\n",
        "    pca.fit_transform(X_train_scaled) # 훈련셋의 스케일링된 데이터 -> 학습 및 변환\n",
        "    ratio = pca.explained_variance_ratio_.sum() # 기존 변수에 대한 설명력\n",
        "    var_ratio.append(ratio)"
      ],
      "metadata": {
        "id": "Qd6YJYariwtx"
      },
      "execution_count": 28,
      "outputs": []
    },
    {
      "cell_type": "code",
      "source": [
        "# range(100, 550, 50) -> 기존 변수에 대한 설명력 (ratio 원소)\n",
        "sns.lineplot(x=range(100,550,50), y=var_ratio)"
      ],
      "metadata": {
        "colab": {
          "base_uri": "https://localhost:8080/",
          "height": 287
        },
        "id": "48-b2zFVjpUu",
        "outputId": "cc69605a-c009-4a29-84d1-0701b65d74ad"
      },
      "execution_count": 29,
      "outputs": [
        {
          "output_type": "execute_result",
          "data": {
            "text/plain": [
              "<Axes: >"
            ]
          },
          "metadata": {},
          "execution_count": 29
        },
        {
          "output_type": "display_data",
          "data": {
            "text/plain": [
              "<Figure size 432x288 with 1 Axes>"
            ],
            "image/png": "[encoded data removed]"
          },
          "metadata": {
            "needs_background": "light"
          }
        }
      ]
    },
    {
      "cell_type": "code",
      "source": [
        "# 80% -> 400\n",
        "list(zip(range(100, 550, 50), var_ratio))"
      ],
      "metadata": {
        "colab": {
          "base_uri": "https://localhost:8080/"
        },
        "id": "8xjDmoPlko8v",
        "outputId": "2e9188f1-63fe-4ebf-c922-f968e685106a"
      },
      "execution_count": 31,
      "outputs": [
        {
          "output_type": "execute_result",
          "data": {
            "text/plain": [
              "[(100, 0.6307028549148467),\n",
              " (150, 0.6921531612499952),\n",
              " (200, 0.7318098074946597),\n",
              " (250, 0.7604129097360537),\n",
              " (300, 0.7828700791429886),\n",
              " (350, 0.801093070874134),\n",
              " (400, 0.8164974979017097),\n",
              " (450, 0.8286220490432942),\n",
              " (500, 0.840233412476923)]"
            ]
          },
          "metadata": {},
          "execution_count": 31
        }
      ]
    },
    {
      "cell_type": "code",
      "source": [
        "# 4000개 넘는 변수(차원) -> 400개 (80%)\n",
        "# 1. 속도\n",
        "# 2. 평가 (정확성, 점수...) -> accuracy score, roc_auc_score..."
      ],
      "metadata": {
        "id": "KgCTYu3GlA94"
      },
      "execution_count": null,
      "outputs": []
    },
    {
      "cell_type": "code",
      "source": [
        "# 차원축소 -> 4000이상 => 400. 80%\n",
        "pca = PCA(n_components=400, random_state=23)\n",
        "X_train_scaled_pca = pca.fit_transform(X_train_scaled)\n",
        "X_test_scaled_pca = pca.transform(X_test_scaled)"
      ],
      "metadata": {
        "id": "f24zMWtGlMd_"
      },
      "execution_count": 32,
      "outputs": []
    },
    {
      "cell_type": "code",
      "source": [
        "# 모델링\n",
        "model_2 = RandomForestClassifier(random_state=23)\n",
        "start_time = time.time()\n",
        "model_2.fit(X_train_scaled_pca, y_train) # pca(차원축소)한 데이터\n",
        "print(time.time() - start_time) # 속도는 개선. PCA는 예전에 썻던 방법. XGBoost나 LGBM같은게 나와서 잘 안씀."
      ],
      "metadata": {
        "colab": {
          "base_uri": "https://localhost:8080/"
        },
        "id": "AfR-BUDRlgjA",
        "outputId": "5d5d0703-d0d0-42f7-8726-c36f11babf6f"
      },
      "execution_count": 34,
      "outputs": [
        {
          "output_type": "stream",
          "name": "stdout",
          "text": [
            "79.75648427009583\n"
          ]
        }
      ]
    },
    {
      "cell_type": "code",
      "source": [
        "# 정확도\n",
        "pred_2 = model_2.predict(X_test_scaled_pca)\n",
        "accuracy_score(y_test, pred_2) # 원본 : 0.95525 / 오버피팅 개선?"
      ],
      "metadata": {
        "colab": {
          "base_uri": "https://localhost:8080/"
        },
        "id": "MACimpxil5O4",
        "outputId": "d31f431e-ad0d-4b4b-eeb8-871ca4b85b9d"
      },
      "execution_count": 40,
      "outputs": [
        {
          "output_type": "execute_result",
          "data": {
            "text/plain": [
              "0.98925"
            ]
          },
          "metadata": {},
          "execution_count": 40
        }
      ]
    },
    {
      "cell_type": "code",
      "source": [
        "# AUC\n",
        "proba_2 = model_2.predict_proba(X_test_scaled_pca)\n",
        "roc_auc_score(y_test, proba_2[:, 1]) # 원본 : 0.9967081026539351"
      ],
      "metadata": {
        "colab": {
          "base_uri": "https://localhost:8080/"
        },
        "id": "h1UlHU6DmhVL",
        "outputId": "99e5c62a-23fa-4214-e46c-1e515ec2c2a7"
      },
      "execution_count": 41,
      "outputs": [
        {
          "output_type": "execute_result",
          "data": {
            "text/plain": [
              "0.9985714562827814"
            ]
          },
          "metadata": {},
          "execution_count": 41
        }
      ]
    }
  ]
}