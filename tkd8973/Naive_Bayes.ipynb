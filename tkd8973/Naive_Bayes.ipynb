{
  "nbformat": 4,
  "nbformat_minor": 0,
  "metadata": {
    "colab": {
      "provenance": [],
      "include_colab_link": true
    },
    "kernelspec": {
      "name": "python3",
      "display_name": "Python 3"
    },
    "language_info": {
      "name": "python"
    }
  },
  "cells": [
    {
      "cell_type": "markdown",
      "metadata": {
        "id": "view-in-github",
        "colab_type": "text"
      },
      "source": [
        "<a href=\"https://colab.research.google.com/github/tkd8973/MachineLearning_SW/blob/main/tkd8973/Naive_Bayes.ipynb\" target=\"_parent\"><img src=\"https://colab.research.google.com/assets/colab-badge.svg\" alt=\"Open In Colab\"/></a>"
      ]
    },
    {
      "cell_type": "code",
      "execution_count": 2,
      "metadata": {
        "id": "TZEVmLUTTnI6"
      },
      "outputs": [],
      "source": [
        "import numpy as np\n",
        "import pandas as pd\n",
        "import matplotlib.pyplot as plt\n",
        "import seaborn as sns"
      ]
    },
    {
      "cell_type": "code",
      "source": [
        "# https://www.kaggle.com/datasets/uciml/sms-spam-collection-dataset\n",
        "# https://www.kaggle.com/datasets/uciml/sms-spam-collection-dataset/code?datasetId=483&sortBy=voteCount\n",
        "file_url = 'https://github.com/BigData23th/Data/raw/main/spam.csv'\n",
        "# df = pd.read_csv(file_url) # 업로드 된 외부의 URL을 넣었을 경우에 해당 CSV를 다운 받아서 읽어줌\n",
        "df = pd.read_csv(file_url, index_col=0) # 0번째의 열을 인덱스로 취급\n",
        "df"
      ],
      "metadata": {
        "colab": {
          "base_uri": "https://localhost:8080/",
          "height": 424
        },
        "id": "7Tvq8Vq3Um1V",
        "outputId": "526f5a0f-2a1d-4809-b388-5766216f75b6"
      },
      "execution_count": 3,
      "outputs": [
        {
          "output_type": "execute_result",
          "data": {
            "text/plain": [
              "     target                                               text\n",
              "0       ham  Go until jurong point, crazy.. Available only ...\n",
              "1       ham                      Ok lar... Joking wif u oni...\n",
              "2      spam  Free entry in 2 a wkly comp to win FA Cup fina...\n",
              "3       ham  U dun say so early hor... U c already then say...\n",
              "4       ham  Nah I don't think he goes to usf, he lives aro...\n",
              "...     ...                                                ...\n",
              "5569   spam  This is the 2nd time we have tried 2 contact u...\n",
              "5570    ham               Will ü b going to esplanade fr home?\n",
              "5571    ham  Pity, * was in mood for that. So...any other s...\n",
              "5572    ham  The guy did some bitching but I acted like i'd...\n",
              "5573    ham                         Rofl. Its true to its name\n",
              "\n",
              "[5574 rows x 2 columns]"
            ],
            "text/html": [
              "\n",
              "  <div id=\"df-6b045235-f365-4ebc-835f-e72507d6a902\">\n",
              "    <div class=\"colab-df-container\">\n",
              "      <div>\n",
              "<style scoped>\n",
              "    .dataframe tbody tr th:only-of-type {\n",
              "        vertical-align: middle;\n",
              "    }\n",
              "\n",
              "    .dataframe tbody tr th {\n",
              "        vertical-align: top;\n",
              "    }\n",
              "\n",
              "    .dataframe thead th {\n",
              "        text-align: right;\n",
              "    }\n",
              "</style>\n",
              "<table border=\"1\" class=\"dataframe\">\n",
              "  <thead>\n",
              "    <tr style=\"text-align: right;\">\n",
              "      <th></th>\n",
              "      <th>target</th>\n",
              "      <th>text</th>\n",
              "    </tr>\n",
              "  </thead>\n",
              "  <tbody>\n",
              "    <tr>\n",
              "      <th>0</th>\n",
              "      <td>ham</td>\n",
              "      <td>Go until jurong point, crazy.. Available only ...</td>\n",
              "    </tr>\n",
              "    <tr>\n",
              "      <th>1</th>\n",
              "      <td>ham</td>\n",
              "      <td>Ok lar... Joking wif u oni...</td>\n",
              "    </tr>\n",
              "    <tr>\n",
              "      <th>2</th>\n",
              "      <td>spam</td>\n",
              "      <td>Free entry in 2 a wkly comp to win FA Cup fina...</td>\n",
              "    </tr>\n",
              "    <tr>\n",
              "      <th>3</th>\n",
              "      <td>ham</td>\n",
              "      <td>U dun say so early hor... U c already then say...</td>\n",
              "    </tr>\n",
              "    <tr>\n",
              "      <th>4</th>\n",
              "      <td>ham</td>\n",
              "      <td>Nah I don't think he goes to usf, he lives aro...</td>\n",
              "    </tr>\n",
              "    <tr>\n",
              "      <th>...</th>\n",
              "      <td>...</td>\n",
              "      <td>...</td>\n",
              "    </tr>\n",
              "    <tr>\n",
              "      <th>5569</th>\n",
              "      <td>spam</td>\n",
              "      <td>This is the 2nd time we have tried 2 contact u...</td>\n",
              "    </tr>\n",
              "    <tr>\n",
              "      <th>5570</th>\n",
              "      <td>ham</td>\n",
              "      <td>Will ü b going to esplanade fr home?</td>\n",
              "    </tr>\n",
              "    <tr>\n",
              "      <th>5571</th>\n",
              "      <td>ham</td>\n",
              "      <td>Pity, * was in mood for that. So...any other s...</td>\n",
              "    </tr>\n",
              "    <tr>\n",
              "      <th>5572</th>\n",
              "      <td>ham</td>\n",
              "      <td>The guy did some bitching but I acted like i'd...</td>\n",
              "    </tr>\n",
              "    <tr>\n",
              "      <th>5573</th>\n",
              "      <td>ham</td>\n",
              "      <td>Rofl. Its true to its name</td>\n",
              "    </tr>\n",
              "  </tbody>\n",
              "</table>\n",
              "<p>5574 rows × 2 columns</p>\n",
              "</div>\n",
              "      <button class=\"colab-df-convert\" onclick=\"convertToInteractive('df-6b045235-f365-4ebc-835f-e72507d6a902')\"\n",
              "              title=\"Convert this dataframe to an interactive table.\"\n",
              "              style=\"display:none;\">\n",
              "        \n",
              "  <svg xmlns=\"http://www.w3.org/2000/svg\" height=\"24px\"viewBox=\"0 0 24 24\"\n",
              "       width=\"24px\">\n",
              "    <path d=\"M0 0h24v24H0V0z\" fill=\"none\"/>\n",
              "    <path d=\"M18.56 5.44l.94 2.06.94-2.06 2.06-.94-2.06-.94-.94-2.06-.94 2.06-2.06.94zm-11 1L8.5 8.5l.94-2.06 2.06-.94-2.06-.94L8.5 2.5l-.94 2.06-2.06.94zm10 10l.94 2.06.94-2.06 2.06-.94-2.06-.94-.94-2.06-.94 2.06-2.06.94z\"/><path d=\"M17.41 7.96l-1.37-1.37c-.4-.4-.92-.59-1.43-.59-.52 0-1.04.2-1.43.59L10.3 9.45l-7.72 7.72c-.78.78-.78 2.05 0 2.83L4 21.41c.39.39.9.59 1.41.59.51 0 1.02-.2 1.41-.59l7.78-7.78 2.81-2.81c.8-.78.8-2.07 0-2.86zM5.41 20L4 18.59l7.72-7.72 1.47 1.35L5.41 20z\"/>\n",
              "  </svg>\n",
              "      </button>\n",
              "      \n",
              "  <style>\n",
              "    .colab-df-container {\n",
              "      display:flex;\n",
              "      flex-wrap:wrap;\n",
              "      gap: 12px;\n",
              "    }\n",
              "\n",
              "    .colab-df-convert {\n",
              "      background-color: #E8F0FE;\n",
              "      border: none;\n",
              "      border-radius: 50%;\n",
              "      cursor: pointer;\n",
              "      display: none;\n",
              "      fill: #1967D2;\n",
              "      height: 32px;\n",
              "      padding: 0 0 0 0;\n",
              "      width: 32px;\n",
              "    }\n",
              "\n",
              "    .colab-df-convert:hover {\n",
              "      background-color: #E2EBFA;\n",
              "      box-shadow: 0px 1px 2px rgba(60, 64, 67, 0.3), 0px 1px 3px 1px rgba(60, 64, 67, 0.15);\n",
              "      fill: #174EA6;\n",
              "    }\n",
              "\n",
              "    [theme=dark] .colab-df-convert {\n",
              "      background-color: #3B4455;\n",
              "      fill: #D2E3FC;\n",
              "    }\n",
              "\n",
              "    [theme=dark] .colab-df-convert:hover {\n",
              "      background-color: #434B5C;\n",
              "      box-shadow: 0px 1px 3px 1px rgba(0, 0, 0, 0.15);\n",
              "      filter: drop-shadow(0px 1px 2px rgba(0, 0, 0, 0.3));\n",
              "      fill: #FFFFFF;\n",
              "    }\n",
              "  </style>\n",
              "\n",
              "      <script>\n",
              "        const buttonEl =\n",
              "          document.querySelector('#df-6b045235-f365-4ebc-835f-e72507d6a902 button.colab-df-convert');\n",
              "        buttonEl.style.display =\n",
              "          google.colab.kernel.accessAllowed ? 'block' : 'none';\n",
              "\n",
              "        async function convertToInteractive(key) {\n",
              "          const element = document.querySelector('#df-6b045235-f365-4ebc-835f-e72507d6a902');\n",
              "          const dataTable =\n",
              "            await google.colab.kernel.invokeFunction('convertToInteractive',\n",
              "                                                     [key], {});\n",
              "          if (!dataTable) return;\n",
              "\n",
              "          const docLinkHtml = 'Like what you see? Visit the ' +\n",
              "            '<a target=\"_blank\" href=https://colab.research.google.com/notebooks/data_table.ipynb>data table notebook</a>'\n",
              "            + ' to learn more about interactive tables.';\n",
              "          element.innerHTML = '';\n",
              "          dataTable['output_type'] = 'display_data';\n",
              "          await google.colab.output.renderOutput(dataTable, element);\n",
              "          const docLink = document.createElement('div');\n",
              "          docLink.innerHTML = docLinkHtml;\n",
              "          element.appendChild(docLink);\n",
              "        }\n",
              "      </script>\n",
              "    </div>\n",
              "  </div>\n",
              "  "
            ]
          },
          "metadata": {},
          "execution_count": 3
        }
      ]
    },
    {
      "cell_type": "code",
      "source": [
        "df.info() # 결측치 X, 모든 열들이 object(문자열)"
      ],
      "metadata": {
        "colab": {
          "base_uri": "https://localhost:8080/"
        },
        "id": "m98ZGW8aWdtm",
        "outputId": "67c5dbe0-5192-4db6-d49c-edfcb1a0e51b"
      },
      "execution_count": 4,
      "outputs": [
        {
          "output_type": "stream",
          "name": "stdout",
          "text": [
            "<class 'pandas.core.frame.DataFrame'>\n",
            "Int64Index: 5574 entries, 0 to 5573\n",
            "Data columns (total 2 columns):\n",
            " #   Column  Non-Null Count  Dtype \n",
            "---  ------  --------------  ----- \n",
            " 0   target  5574 non-null   object\n",
            " 1   text    5574 non-null   object\n",
            "dtypes: object(2)\n",
            "memory usage: 130.6+ KB\n"
          ]
        }
      ]
    },
    {
      "cell_type": "code",
      "source": [
        "df.describe() # include = 'O', 'object', 'all' ... => int, float형 X => object가 기본으로 나온 것\n",
        "# unique : series.nunique() -> 고윳값 개수\n",
        "# top : 가장 많이 나온 것 / freq (frequency) : 빈도(자주 나오는지)"
      ],
      "metadata": {
        "colab": {
          "base_uri": "https://localhost:8080/",
          "height": 175
        },
        "id": "N2zjOdgOWlUu",
        "outputId": "2e66389d-e424-4471-f9b1-fc7ecc0e3892"
      },
      "execution_count": 5,
      "outputs": [
        {
          "output_type": "execute_result",
          "data": {
            "text/plain": [
              "       target                    text\n",
              "count    5574                    5574\n",
              "unique      2                    5171\n",
              "top       ham  Sorry, I'll call later\n",
              "freq     4827                      30"
            ],
            "text/html": [
              "\n",
              "  <div id=\"df-82037509-8040-411b-b83b-aaf7e8a1cdc5\">\n",
              "    <div class=\"colab-df-container\">\n",
              "      <div>\n",
              "<style scoped>\n",
              "    .dataframe tbody tr th:only-of-type {\n",
              "        vertical-align: middle;\n",
              "    }\n",
              "\n",
              "    .dataframe tbody tr th {\n",
              "        vertical-align: top;\n",
              "    }\n",
              "\n",
              "    .dataframe thead th {\n",
              "        text-align: right;\n",
              "    }\n",
              "</style>\n",
              "<table border=\"1\" class=\"dataframe\">\n",
              "  <thead>\n",
              "    <tr style=\"text-align: right;\">\n",
              "      <th></th>\n",
              "      <th>target</th>\n",
              "      <th>text</th>\n",
              "    </tr>\n",
              "  </thead>\n",
              "  <tbody>\n",
              "    <tr>\n",
              "      <th>count</th>\n",
              "      <td>5574</td>\n",
              "      <td>5574</td>\n",
              "    </tr>\n",
              "    <tr>\n",
              "      <th>unique</th>\n",
              "      <td>2</td>\n",
              "      <td>5171</td>\n",
              "    </tr>\n",
              "    <tr>\n",
              "      <th>top</th>\n",
              "      <td>ham</td>\n",
              "      <td>Sorry, I'll call later</td>\n",
              "    </tr>\n",
              "    <tr>\n",
              "      <th>freq</th>\n",
              "      <td>4827</td>\n",
              "      <td>30</td>\n",
              "    </tr>\n",
              "  </tbody>\n",
              "</table>\n",
              "</div>\n",
              "      <button class=\"colab-df-convert\" onclick=\"convertToInteractive('df-82037509-8040-411b-b83b-aaf7e8a1cdc5')\"\n",
              "              title=\"Convert this dataframe to an interactive table.\"\n",
              "              style=\"display:none;\">\n",
              "        \n",
              "  <svg xmlns=\"http://www.w3.org/2000/svg\" height=\"24px\"viewBox=\"0 0 24 24\"\n",
              "       width=\"24px\">\n",
              "    <path d=\"M0 0h24v24H0V0z\" fill=\"none\"/>\n",
              "    <path d=\"M18.56 5.44l.94 2.06.94-2.06 2.06-.94-2.06-.94-.94-2.06-.94 2.06-2.06.94zm-11 1L8.5 8.5l.94-2.06 2.06-.94-2.06-.94L8.5 2.5l-.94 2.06-2.06.94zm10 10l.94 2.06.94-2.06 2.06-.94-2.06-.94-.94-2.06-.94 2.06-2.06.94z\"/><path d=\"M17.41 7.96l-1.37-1.37c-.4-.4-.92-.59-1.43-.59-.52 0-1.04.2-1.43.59L10.3 9.45l-7.72 7.72c-.78.78-.78 2.05 0 2.83L4 21.41c.39.39.9.59 1.41.59.51 0 1.02-.2 1.41-.59l7.78-7.78 2.81-2.81c.8-.78.8-2.07 0-2.86zM5.41 20L4 18.59l7.72-7.72 1.47 1.35L5.41 20z\"/>\n",
              "  </svg>\n",
              "      </button>\n",
              "      \n",
              "  <style>\n",
              "    .colab-df-container {\n",
              "      display:flex;\n",
              "      flex-wrap:wrap;\n",
              "      gap: 12px;\n",
              "    }\n",
              "\n",
              "    .colab-df-convert {\n",
              "      background-color: #E8F0FE;\n",
              "      border: none;\n",
              "      border-radius: 50%;\n",
              "      cursor: pointer;\n",
              "      display: none;\n",
              "      fill: #1967D2;\n",
              "      height: 32px;\n",
              "      padding: 0 0 0 0;\n",
              "      width: 32px;\n",
              "    }\n",
              "\n",
              "    .colab-df-convert:hover {\n",
              "      background-color: #E2EBFA;\n",
              "      box-shadow: 0px 1px 2px rgba(60, 64, 67, 0.3), 0px 1px 3px 1px rgba(60, 64, 67, 0.15);\n",
              "      fill: #174EA6;\n",
              "    }\n",
              "\n",
              "    [theme=dark] .colab-df-convert {\n",
              "      background-color: #3B4455;\n",
              "      fill: #D2E3FC;\n",
              "    }\n",
              "\n",
              "    [theme=dark] .colab-df-convert:hover {\n",
              "      background-color: #434B5C;\n",
              "      box-shadow: 0px 1px 3px 1px rgba(0, 0, 0, 0.15);\n",
              "      filter: drop-shadow(0px 1px 2px rgba(0, 0, 0, 0.3));\n",
              "      fill: #FFFFFF;\n",
              "    }\n",
              "  </style>\n",
              "\n",
              "      <script>\n",
              "        const buttonEl =\n",
              "          document.querySelector('#df-82037509-8040-411b-b83b-aaf7e8a1cdc5 button.colab-df-convert');\n",
              "        buttonEl.style.display =\n",
              "          google.colab.kernel.accessAllowed ? 'block' : 'none';\n",
              "\n",
              "        async function convertToInteractive(key) {\n",
              "          const element = document.querySelector('#df-82037509-8040-411b-b83b-aaf7e8a1cdc5');\n",
              "          const dataTable =\n",
              "            await google.colab.kernel.invokeFunction('convertToInteractive',\n",
              "                                                     [key], {});\n",
              "          if (!dataTable) return;\n",
              "\n",
              "          const docLinkHtml = 'Like what you see? Visit the ' +\n",
              "            '<a target=\"_blank\" href=https://colab.research.google.com/notebooks/data_table.ipynb>data table notebook</a>'\n",
              "            + ' to learn more about interactive tables.';\n",
              "          element.innerHTML = '';\n",
              "          dataTable['output_type'] = 'display_data';\n",
              "          await google.colab.output.renderOutput(dataTable, element);\n",
              "          const docLink = document.createElement('div');\n",
              "          docLink.innerHTML = docLinkHtml;\n",
              "          element.appendChild(docLink);\n",
              "        }\n",
              "      </script>\n",
              "    </div>\n",
              "  </div>\n",
              "  "
            ]
          },
          "metadata": {},
          "execution_count": 5
        }
      ]
    },
    {
      "cell_type": "code",
      "source": [
        "# df.target.value_counts().plot(kind='bar')\n"
      ],
      "metadata": {
        "id": "fv7zVEIWWuCw"
      },
      "execution_count": 6,
      "outputs": []
    },
    {
      "cell_type": "code",
      "source": [
        "# 지도 학습 -> 독립변수/피처(X) - 종속변수/라벨(y)\n",
        "# 종속변수의 분포가 항상 일정하지는 않음 (1이 너무 많거나, 0이 너무 많거나...)\n",
        "# 한쪽에 데이터가 편중\n",
        "(df.target.value_counts())/len(df)"
      ],
      "metadata": {
        "colab": {
          "base_uri": "https://localhost:8080/"
        },
        "id": "YqGdeXBfXAGw",
        "outputId": "a39cb2d0-07a9-4216-fc75-7fe6c7ebec47"
      },
      "execution_count": 8,
      "outputs": [
        {
          "output_type": "execute_result",
          "data": {
            "text/plain": [
              "ham     0.865985\n",
              "spam    0.134015\n",
              "Name: target, dtype: float64"
            ]
          },
          "metadata": {},
          "execution_count": 8
        }
      ]
    },
    {
      "cell_type": "markdown",
      "source": [
        "# 전처리"
      ],
      "metadata": {
        "id": "O-61QKoG6NSg"
      }
    },
    {
      "cell_type": "code",
      "source": [
        "# 나이브 베이즈 -> 서로 독립된 여러 범주형 변수들로 데이터들을 분류\n",
        "# => 자연어 처리 => 특정한 단어가 존재하느냐 존재하지 않느냐... => 벡터화 (배열화)\n",
        "# (0, 121) 1 ... -> 벡터\n",
        "# 단어들의 등장 여부들을 판단해서 => 해당 문장이(메시지가) 스팸인지 판단하는 알고리즘\n",
        "# 문장들을 -> 단어의 묶음으로 변환 -> 단어 등장에 따른 배열로 변환\n",
        "df.text[0]"
      ],
      "metadata": {
        "colab": {
          "base_uri": "https://localhost:8080/",
          "height": 35
        },
        "id": "15X9ZyhjXrft",
        "outputId": "18d77135-045c-4b52-c4a5-352ea13e7401"
      },
      "execution_count": 9,
      "outputs": [
        {
          "output_type": "execute_result",
          "data": {
            "text/plain": [
              "'Go until jurong point, crazy.. Available only in bugis n great world la e buffet... Cine there got amore wat...'"
            ],
            "application/vnd.google.colaboratory.intrinsic+json": {
              "type": "string"
            }
          },
          "metadata": {},
          "execution_count": 9
        }
      ]
    },
    {
      "cell_type": "code",
      "source": [
        "# 1. 특수문자들이 붙으면 다른 단어로 인식할 수 있음 (특수문자 제거)\n",
        "# 2. 대소문자 차이 => 소문자 통일 \n",
        "# 3. 불용어 -> 별로 큰 의미 값을 지니지는 않는데 자리만 차지\n",
        "df.text[0].split(' ')"
      ],
      "metadata": {
        "colab": {
          "base_uri": "https://localhost:8080/"
        },
        "id": "swL0XXDAYgmt",
        "outputId": "0a856619-69e8-443b-8d16-bf5b80431e4c"
      },
      "execution_count": 10,
      "outputs": [
        {
          "output_type": "execute_result",
          "data": {
            "text/plain": [
              "['Go',\n",
              " 'until',\n",
              " 'jurong',\n",
              " 'point,',\n",
              " 'crazy..',\n",
              " 'Available',\n",
              " 'only',\n",
              " 'in',\n",
              " 'bugis',\n",
              " 'n',\n",
              " 'great',\n",
              " 'world',\n",
              " 'la',\n",
              " 'e',\n",
              " 'buffet...',\n",
              " 'Cine',\n",
              " 'there',\n",
              " 'got',\n",
              " 'amore',\n",
              " 'wat...']"
            ]
          },
          "metadata": {},
          "execution_count": 10
        }
      ]
    },
    {
      "cell_type": "code",
      "source": [
        "# 특수문자를 제거\n",
        "from string import punctuation\n",
        "# import string\n",
        "# string.punctuation\n",
        "punctuation # 파이썬 내의 일반적인 특수 기호들 모음"
      ],
      "metadata": {
        "colab": {
          "base_uri": "https://localhost:8080/",
          "height": 35
        },
        "id": "4Jq8XRoRY85V",
        "outputId": "9644b83a-1b1b-4407-ec5a-c6978739f67a"
      },
      "execution_count": 11,
      "outputs": [
        {
          "output_type": "execute_result",
          "data": {
            "text/plain": [
              "'!\"#$%&\\'()*+,-./:;<=>?@[\\\\]^_`{|}~'"
            ],
            "application/vnd.google.colaboratory.intrinsic+json": {
              "type": "string"
            }
          },
          "metadata": {},
          "execution_count": 11
        }
      ]
    },
    {
      "cell_type": "code",
      "source": [
        "first_text = df.text[0]\n",
        "first_text"
      ],
      "metadata": {
        "colab": {
          "base_uri": "https://localhost:8080/",
          "height": 35
        },
        "id": "0lrJMAILZSlc",
        "outputId": "d4887881-fd44-451e-d8e4-2dfa88f502d4"
      },
      "execution_count": 12,
      "outputs": [
        {
          "output_type": "execute_result",
          "data": {
            "text/plain": [
              "'Go until jurong point, crazy.. Available only in bugis n great world la e buffet... Cine there got amore wat...'"
            ],
            "application/vnd.google.colaboratory.intrinsic+json": {
              "type": "string"
            }
          },
          "metadata": {},
          "execution_count": 12
        }
      ]
    },
    {
      "cell_type": "code",
      "source": [
        "# 모든 string(파이썬 내부에서의 문자 타입)은 리스트 취급\n",
        "# 리스트 취급 -> for 문에 in 자리에 넣을 수 있다\n",
        "for c in first_text:\n",
        "    print(c) # 글자 하나하나씩 표시"
      ],
      "metadata": {
        "id": "_sCxoxYIZeOs",
        "colab": {
          "base_uri": "https://localhost:8080/"
        },
        "outputId": "2ff4700f-e470-4c72-a6cd-9fdaeba71b8d"
      },
      "execution_count": null,
      "outputs": [
        {
          "output_type": "stream",
          "name": "stdout",
          "text": [
            "G\n",
            "o\n",
            " \n",
            "u\n",
            "n\n",
            "t\n",
            "i\n",
            "l\n",
            " \n",
            "j\n",
            "u\n",
            "r\n",
            "o\n",
            "n\n",
            "g\n",
            " \n",
            "p\n",
            "o\n",
            "i\n",
            "n\n",
            "t\n",
            ",\n",
            " \n",
            "c\n",
            "r\n",
            "a\n",
            "z\n",
            "y\n",
            ".\n",
            ".\n",
            " \n",
            "A\n",
            "v\n",
            "a\n",
            "i\n",
            "l\n",
            "a\n",
            "b\n",
            "l\n",
            "e\n",
            " \n",
            "o\n",
            "n\n",
            "l\n",
            "y\n",
            " \n",
            "i\n",
            "n\n",
            " \n",
            "b\n",
            "u\n",
            "g\n",
            "i\n",
            "s\n",
            " \n",
            "n\n",
            " \n",
            "g\n",
            "r\n",
            "e\n",
            "a\n",
            "t\n",
            " \n",
            "w\n",
            "o\n",
            "r\n",
            "l\n",
            "d\n",
            " \n",
            "l\n",
            "a\n",
            " \n",
            "e\n",
            " \n",
            "b\n",
            "u\n",
            "f\n",
            "f\n",
            "e\n",
            "t\n",
            ".\n",
            ".\n",
            ".\n",
            " \n",
            "C\n",
            "i\n",
            "n\n",
            "e\n",
            " \n",
            "t\n",
            "h\n",
            "e\n",
            "r\n",
            "e\n",
            " \n",
            "g\n",
            "o\n",
            "t\n",
            " \n",
            "a\n",
            "m\n",
            "o\n",
            "r\n",
            "e\n",
            " \n",
            "w\n",
            "a\n",
            "t\n",
            ".\n",
            ".\n",
            ".\n"
          ]
        }
      ]
    },
    {
      "cell_type": "code",
      "source": [
        "# text에 for를 통해서 한 글자씩 조회할 건데\n",
        "# 그 한 글자가 punctuation하는 문자 묶음에 소속되어 있지 (포함되어 있지) 않으면 표시해주세요"
      ],
      "metadata": {
        "id": "UX_Zn3rdZy9n"
      },
      "execution_count": null,
      "outputs": []
    },
    {
      "cell_type": "code",
      "source": [
        "for c in first_text:\n",
        "    if not c in punctuation:\n",
        "        print(c)"
      ],
      "metadata": {
        "colab": {
          "base_uri": "https://localhost:8080/"
        },
        "id": "djMxS28aaPT1",
        "outputId": "c91446b9-ea76-4c53-843c-666e8ffcc2ff"
      },
      "execution_count": 13,
      "outputs": [
        {
          "output_type": "stream",
          "name": "stdout",
          "text": [
            "G\n",
            "o\n",
            " \n",
            "u\n",
            "n\n",
            "t\n",
            "i\n",
            "l\n",
            " \n",
            "j\n",
            "u\n",
            "r\n",
            "o\n",
            "n\n",
            "g\n",
            " \n",
            "p\n",
            "o\n",
            "i\n",
            "n\n",
            "t\n",
            " \n",
            "c\n",
            "r\n",
            "a\n",
            "z\n",
            "y\n",
            " \n",
            "A\n",
            "v\n",
            "a\n",
            "i\n",
            "l\n",
            "a\n",
            "b\n",
            "l\n",
            "e\n",
            " \n",
            "o\n",
            "n\n",
            "l\n",
            "y\n",
            " \n",
            "i\n",
            "n\n",
            " \n",
            "b\n",
            "u\n",
            "g\n",
            "i\n",
            "s\n",
            " \n",
            "n\n",
            " \n",
            "g\n",
            "r\n",
            "e\n",
            "a\n",
            "t\n",
            " \n",
            "w\n",
            "o\n",
            "r\n",
            "l\n",
            "d\n",
            " \n",
            "l\n",
            "a\n",
            " \n",
            "e\n",
            " \n",
            "b\n",
            "u\n",
            "f\n",
            "f\n",
            "e\n",
            "t\n",
            " \n",
            "C\n",
            "i\n",
            "n\n",
            "e\n",
            " \n",
            "t\n",
            "h\n",
            "e\n",
            "r\n",
            "e\n",
            " \n",
            "g\n",
            "o\n",
            "t\n",
            " \n",
            "a\n",
            "m\n",
            "o\n",
            "r\n",
            "e\n",
            " \n",
            "w\n",
            "a\n",
            "t\n"
          ]
        }
      ]
    },
    {
      "cell_type": "code",
      "source": [
        "new_text =''\n",
        "for c in first_text:\n",
        "    if not c in punctuation:\n",
        "        new_text+=c"
      ],
      "metadata": {
        "id": "TWe2s062aggn"
      },
      "execution_count": 14,
      "outputs": []
    },
    {
      "cell_type": "code",
      "source": [
        "# 리스트 컴프리헨션으로 축약한 버전\n",
        "new_text = \"\".join([c for c in first_text if not c in punctuation])\n",
        "new_text"
      ],
      "metadata": {
        "colab": {
          "base_uri": "https://localhost:8080/",
          "height": 35
        },
        "id": "CEikzNl0bKXd",
        "outputId": "58fbe9f6-d202-444e-82be-f8289fe0ddc0"
      },
      "execution_count": 17,
      "outputs": [
        {
          "output_type": "execute_result",
          "data": {
            "text/plain": [
              "'Go until jurong point crazy Available only in bugis n great world la e buffet Cine there got amore wat'"
            ],
            "application/vnd.google.colaboratory.intrinsic+json": {
              "type": "string"
            }
          },
          "metadata": {},
          "execution_count": 17
        }
      ]
    },
    {
      "cell_type": "code",
      "source": [
        "# 함수의 패러미터 (:) -> 타입 힌트, ) -> 타입힌트 \n",
        "def remove_punctuation(old_text: str) -> str:\n",
        "    new_text = '' # 특수문자가 모두 제거된 텍스트\n",
        "    for c in old_text: # 이전 텍스트를 모두 반복해서 조회해서\n",
        "        if c not in punctuation: # 특수문자가 아닌 조건을 만족시키는 문자에 한해서\n",
        "            # print(c)\n",
        "            # new_text.append(c)\n",
        "            new_text += c # 새로운 텍스트에 추가\n",
        "    return new_text # 새로운 텍스트를 반환"
      ],
      "metadata": {
        "id": "jAznGLoAflM7"
      },
      "execution_count": 19,
      "outputs": []
    },
    {
      "cell_type": "code",
      "source": [
        "# 특수문자 처리\n",
        "remove_punctuation(first_text)"
      ],
      "metadata": {
        "colab": {
          "base_uri": "https://localhost:8080/",
          "height": 35
        },
        "id": "J8BX3HOZgaAh",
        "outputId": "6bcb41a5-9b1d-4514-b18b-735c066acf5c"
      },
      "execution_count": 20,
      "outputs": [
        {
          "output_type": "execute_result",
          "data": {
            "text/plain": [
              "'Go until jurong point crazy Available only in bugis n great world la e buffet Cine there got amore wat'"
            ],
            "application/vnd.google.colaboratory.intrinsic+json": {
              "type": "string"
            }
          },
          "metadata": {},
          "execution_count": 20
        }
      ]
    },
    {
      "cell_type": "code",
      "source": [
        "# 열 자체를 함수에다 넣어버리면 -> 통으로 처리되어서 나옴\n",
        "# pandas에서 '행' 단위로 반복적으로 데이터를 처리해주는 건 -> apply\n",
        "df['text'].apply(remove_punctuation)"
      ],
      "metadata": {
        "id": "IMbJBbumggCF",
        "colab": {
          "base_uri": "https://localhost:8080/"
        },
        "outputId": "cb6d2dd9-36fd-4be4-c426-21eb4304df37"
      },
      "execution_count": 22,
      "outputs": [
        {
          "output_type": "execute_result",
          "data": {
            "text/plain": [
              "0       Go until jurong point crazy Available only in ...\n",
              "1                                 Ok lar Joking wif u oni\n",
              "2       Free entry in 2 a wkly comp to win FA Cup fina...\n",
              "3             U dun say so early hor U c already then say\n",
              "4       Nah I dont think he goes to usf he lives aroun...\n",
              "                              ...                        \n",
              "5569    This is the 2nd time we have tried 2 contact u...\n",
              "5570                  Will ü b going to esplanade fr home\n",
              "5571    Pity  was in mood for that Soany other suggest...\n",
              "5572    The guy did some bitching but I acted like id ...\n",
              "5573                            Rofl Its true to its name\n",
              "Name: text, Length: 5574, dtype: object"
            ]
          },
          "metadata": {},
          "execution_count": 22
        }
      ]
    },
    {
      "cell_type": "code",
      "source": [
        "# df?s? .apply(익명함수, 함수명) => 행들에 반복적으로 적용\n",
        "# remove_punctuation -> old_text (패러미터 1개짜리) / 행, 하나의 데이터 (패러미터 1개짜리)\n",
        "# df.text.apply(lambda row : remove_punctuation(row))\n",
        "# remove_punctuation이 행마다 적용된 시리즈"
      ],
      "metadata": {
        "colab": {
          "base_uri": "https://localhost:8080/"
        },
        "id": "EZSe9CC2gttY",
        "outputId": "99ac0016-1af2-4aea-bafc-0f81858955e3"
      },
      "execution_count": null,
      "outputs": [
        {
          "output_type": "execute_result",
          "data": {
            "text/plain": [
              "0       Go until jurong point crazy Available only in ...\n",
              "1                                 Ok lar Joking wif u oni\n",
              "2       Free entry in 2 a wkly comp to win FA Cup fina...\n",
              "3             U dun say so early hor U c already then say\n",
              "4       Nah I dont think he goes to usf he lives aroun...\n",
              "                              ...                        \n",
              "5569    This is the 2nd time we have tried 2 contact u...\n",
              "5570                  Will ü b going to esplanade fr home\n",
              "5571    Pity  was in mood for that Soany other suggest...\n",
              "5572    The guy did some bitching but I acted like id ...\n",
              "5573                            Rofl Its true to its name\n",
              "Name: text, Length: 5574, dtype: object"
            ]
          },
          "metadata": {},
          "execution_count": 19
        }
      ]
    },
    {
      "cell_type": "code",
      "source": [
        "# 특수문자를 제거한 text 열을 원본 text에 덮어씌우기\n",
        "df2 = df.copy()\n",
        "df.text = df.text.apply(remove_punctuation)\n",
        "df"
      ],
      "metadata": {
        "colab": {
          "base_uri": "https://localhost:8080/",
          "height": 424
        },
        "id": "OG1Mo3svhkZp",
        "outputId": "0625cd1f-2bbd-4ad8-b906-c1daaf8e2321"
      },
      "execution_count": 24,
      "outputs": [
        {
          "output_type": "execute_result",
          "data": {
            "text/plain": [
              "     target                                               text\n",
              "0       ham  Go until jurong point crazy Available only in ...\n",
              "1       ham                            Ok lar Joking wif u oni\n",
              "2      spam  Free entry in 2 a wkly comp to win FA Cup fina...\n",
              "3       ham        U dun say so early hor U c already then say\n",
              "4       ham  Nah I dont think he goes to usf he lives aroun...\n",
              "...     ...                                                ...\n",
              "5569   spam  This is the 2nd time we have tried 2 contact u...\n",
              "5570    ham                Will ü b going to esplanade fr home\n",
              "5571    ham  Pity  was in mood for that Soany other suggest...\n",
              "5572    ham  The guy did some bitching but I acted like id ...\n",
              "5573    ham                          Rofl Its true to its name\n",
              "\n",
              "[5574 rows x 2 columns]"
            ],
            "text/html": [
              "\n",
              "  <div id=\"df-f18ba920-55c7-4d9f-87c1-350921c92aeb\">\n",
              "    <div class=\"colab-df-container\">\n",
              "      <div>\n",
              "<style scoped>\n",
              "    .dataframe tbody tr th:only-of-type {\n",
              "        vertical-align: middle;\n",
              "    }\n",
              "\n",
              "    .dataframe tbody tr th {\n",
              "        vertical-align: top;\n",
              "    }\n",
              "\n",
              "    .dataframe thead th {\n",
              "        text-align: right;\n",
              "    }\n",
              "</style>\n",
              "<table border=\"1\" class=\"dataframe\">\n",
              "  <thead>\n",
              "    <tr style=\"text-align: right;\">\n",
              "      <th></th>\n",
              "      <th>target</th>\n",
              "      <th>text</th>\n",
              "    </tr>\n",
              "  </thead>\n",
              "  <tbody>\n",
              "    <tr>\n",
              "      <th>0</th>\n",
              "      <td>ham</td>\n",
              "      <td>Go until jurong point crazy Available only in ...</td>\n",
              "    </tr>\n",
              "    <tr>\n",
              "      <th>1</th>\n",
              "      <td>ham</td>\n",
              "      <td>Ok lar Joking wif u oni</td>\n",
              "    </tr>\n",
              "    <tr>\n",
              "      <th>2</th>\n",
              "      <td>spam</td>\n",
              "      <td>Free entry in 2 a wkly comp to win FA Cup fina...</td>\n",
              "    </tr>\n",
              "    <tr>\n",
              "      <th>3</th>\n",
              "      <td>ham</td>\n",
              "      <td>U dun say so early hor U c already then say</td>\n",
              "    </tr>\n",
              "    <tr>\n",
              "      <th>4</th>\n",
              "      <td>ham</td>\n",
              "      <td>Nah I dont think he goes to usf he lives aroun...</td>\n",
              "    </tr>\n",
              "    <tr>\n",
              "      <th>...</th>\n",
              "      <td>...</td>\n",
              "      <td>...</td>\n",
              "    </tr>\n",
              "    <tr>\n",
              "      <th>5569</th>\n",
              "      <td>spam</td>\n",
              "      <td>This is the 2nd time we have tried 2 contact u...</td>\n",
              "    </tr>\n",
              "    <tr>\n",
              "      <th>5570</th>\n",
              "      <td>ham</td>\n",
              "      <td>Will ü b going to esplanade fr home</td>\n",
              "    </tr>\n",
              "    <tr>\n",
              "      <th>5571</th>\n",
              "      <td>ham</td>\n",
              "      <td>Pity  was in mood for that Soany other suggest...</td>\n",
              "    </tr>\n",
              "    <tr>\n",
              "      <th>5572</th>\n",
              "      <td>ham</td>\n",
              "      <td>The guy did some bitching but I acted like id ...</td>\n",
              "    </tr>\n",
              "    <tr>\n",
              "      <th>5573</th>\n",
              "      <td>ham</td>\n",
              "      <td>Rofl Its true to its name</td>\n",
              "    </tr>\n",
              "  </tbody>\n",
              "</table>\n",
              "<p>5574 rows × 2 columns</p>\n",
              "</div>\n",
              "      <button class=\"colab-df-convert\" onclick=\"convertToInteractive('df-f18ba920-55c7-4d9f-87c1-350921c92aeb')\"\n",
              "              title=\"Convert this dataframe to an interactive table.\"\n",
              "              style=\"display:none;\">\n",
              "        \n",
              "  <svg xmlns=\"http://www.w3.org/2000/svg\" height=\"24px\"viewBox=\"0 0 24 24\"\n",
              "       width=\"24px\">\n",
              "    <path d=\"M0 0h24v24H0V0z\" fill=\"none\"/>\n",
              "    <path d=\"M18.56 5.44l.94 2.06.94-2.06 2.06-.94-2.06-.94-.94-2.06-.94 2.06-2.06.94zm-11 1L8.5 8.5l.94-2.06 2.06-.94-2.06-.94L8.5 2.5l-.94 2.06-2.06.94zm10 10l.94 2.06.94-2.06 2.06-.94-2.06-.94-.94-2.06-.94 2.06-2.06.94z\"/><path d=\"M17.41 7.96l-1.37-1.37c-.4-.4-.92-.59-1.43-.59-.52 0-1.04.2-1.43.59L10.3 9.45l-7.72 7.72c-.78.78-.78 2.05 0 2.83L4 21.41c.39.39.9.59 1.41.59.51 0 1.02-.2 1.41-.59l7.78-7.78 2.81-2.81c.8-.78.8-2.07 0-2.86zM5.41 20L4 18.59l7.72-7.72 1.47 1.35L5.41 20z\"/>\n",
              "  </svg>\n",
              "      </button>\n",
              "      \n",
              "  <style>\n",
              "    .colab-df-container {\n",
              "      display:flex;\n",
              "      flex-wrap:wrap;\n",
              "      gap: 12px;\n",
              "    }\n",
              "\n",
              "    .colab-df-convert {\n",
              "      background-color: #E8F0FE;\n",
              "      border: none;\n",
              "      border-radius: 50%;\n",
              "      cursor: pointer;\n",
              "      display: none;\n",
              "      fill: #1967D2;\n",
              "      height: 32px;\n",
              "      padding: 0 0 0 0;\n",
              "      width: 32px;\n",
              "    }\n",
              "\n",
              "    .colab-df-convert:hover {\n",
              "      background-color: #E2EBFA;\n",
              "      box-shadow: 0px 1px 2px rgba(60, 64, 67, 0.3), 0px 1px 3px 1px rgba(60, 64, 67, 0.15);\n",
              "      fill: #174EA6;\n",
              "    }\n",
              "\n",
              "    [theme=dark] .colab-df-convert {\n",
              "      background-color: #3B4455;\n",
              "      fill: #D2E3FC;\n",
              "    }\n",
              "\n",
              "    [theme=dark] .colab-df-convert:hover {\n",
              "      background-color: #434B5C;\n",
              "      box-shadow: 0px 1px 3px 1px rgba(0, 0, 0, 0.15);\n",
              "      filter: drop-shadow(0px 1px 2px rgba(0, 0, 0, 0.3));\n",
              "      fill: #FFFFFF;\n",
              "    }\n",
              "  </style>\n",
              "\n",
              "      <script>\n",
              "        const buttonEl =\n",
              "          document.querySelector('#df-f18ba920-55c7-4d9f-87c1-350921c92aeb button.colab-df-convert');\n",
              "        buttonEl.style.display =\n",
              "          google.colab.kernel.accessAllowed ? 'block' : 'none';\n",
              "\n",
              "        async function convertToInteractive(key) {\n",
              "          const element = document.querySelector('#df-f18ba920-55c7-4d9f-87c1-350921c92aeb');\n",
              "          const dataTable =\n",
              "            await google.colab.kernel.invokeFunction('convertToInteractive',\n",
              "                                                     [key], {});\n",
              "          if (!dataTable) return;\n",
              "\n",
              "          const docLinkHtml = 'Like what you see? Visit the ' +\n",
              "            '<a target=\"_blank\" href=https://colab.research.google.com/notebooks/data_table.ipynb>data table notebook</a>'\n",
              "            + ' to learn more about interactive tables.';\n",
              "          element.innerHTML = '';\n",
              "          dataTable['output_type'] = 'display_data';\n",
              "          await google.colab.output.renderOutput(dataTable, element);\n",
              "          const docLink = document.createElement('div');\n",
              "          docLink.innerHTML = docLinkHtml;\n",
              "          element.appendChild(docLink);\n",
              "        }\n",
              "      </script>\n",
              "    </div>\n",
              "  </div>\n",
              "  "
            ]
          },
          "metadata": {},
          "execution_count": 24
        }
      ]
    },
    {
      "cell_type": "code",
      "source": [
        "# 대소문자 통일, 불용어 처리\n",
        "import nltk"
      ],
      "metadata": {
        "id": "vj_5JXXfhrdW"
      },
      "execution_count": 26,
      "outputs": []
    },
    {
      "cell_type": "code",
      "source": [
        "nltk.download('stopwords')"
      ],
      "metadata": {
        "colab": {
          "base_uri": "https://localhost:8080/"
        },
        "id": "d0rM6imIh_ju",
        "outputId": "e781efc9-a285-4337-a3dd-02cc14313a78"
      },
      "execution_count": 27,
      "outputs": [
        {
          "output_type": "stream",
          "name": "stderr",
          "text": [
            "[nltk_data] Downloading package stopwords to /root/nltk_data...\n",
            "[nltk_data]   Unzipping corpora/stopwords.zip.\n"
          ]
        },
        {
          "output_type": "execute_result",
          "data": {
            "text/plain": [
              "True"
            ]
          },
          "metadata": {},
          "execution_count": 27
        }
      ]
    },
    {
      "cell_type": "code",
      "source": [
        "from nltk.corpus import stopwords # nltk -> 다운로드 -> 불러옴"
      ],
      "metadata": {
        "id": "mwXKOJ-BiDTm"
      },
      "execution_count": 28,
      "outputs": []
    },
    {
      "cell_type": "code",
      "source": [
        "stopwords.words('english') # 의미 없으면서 자리 차지하는 불용어"
      ],
      "metadata": {
        "id": "-TOoqx_AiTEW"
      },
      "execution_count": null,
      "outputs": []
    },
    {
      "cell_type": "code",
      "source": [
        "# 특수문자가 사라진 상태\n",
        "# 소문자로 통일해주고 -> 불용어를 제거"
      ],
      "metadata": {
        "colab": {
          "base_uri": "https://localhost:8080/",
          "height": 35
        },
        "id": "JgAkaWGkiyfM",
        "outputId": "b337fde0-6c4f-4d4d-937a-d089ab9d7bed"
      },
      "execution_count": null,
      "outputs": [
        {
          "output_type": "execute_result",
          "data": {
            "text/plain": [
              "'Go until jurong point crazy Available only in bugis n great world la e buffet Cine there got amore wat'"
            ],
            "application/vnd.google.colaboratory.intrinsic+json": {
              "type": "string"
            }
          },
          "metadata": {},
          "execution_count": 25
        }
      ]
    },
    {
      "cell_type": "code",
      "source": [
        "# default : 스페이스(여백)를 기준으로 문장을 쪼개줌\n",
        "# split(쪼개주는 기준) -> 예) split(';') \n",
        "first_text.split(',')"
      ],
      "metadata": {
        "id": "jp5V3Asgi-Ne",
        "colab": {
          "base_uri": "https://localhost:8080/"
        },
        "outputId": "07b7e79a-76b3-480f-e6c7-f453810bbfa8"
      },
      "execution_count": 33,
      "outputs": [
        {
          "output_type": "execute_result",
          "data": {
            "text/plain": [
              "['Go until jurong point',\n",
              " ' crazy.. Available only in bugis n great world la e buffet... Cine there got amore wat...']"
            ]
          },
          "metadata": {},
          "execution_count": 33
        }
      ]
    },
    {
      "cell_type": "code",
      "source": [
        "# 영어 불용어 뭉치\n",
        "stop_eng = stopwords.words('english')\n",
        "stop_eng"
      ],
      "metadata": {
        "id": "YZVwB8D_jNjt",
        "colab": {
          "base_uri": "https://localhost:8080/"
        },
        "outputId": "895bc2dc-dce7-4c07-fe4c-e1c30f4d0d4a"
      },
      "execution_count": 35,
      "outputs": [
        {
          "output_type": "execute_result",
          "data": {
            "text/plain": [
              "['i',\n",
              " 'me',\n",
              " 'my',\n",
              " 'myself',\n",
              " 'we',\n",
              " 'our',\n",
              " 'ours',\n",
              " 'ourselves',\n",
              " 'you',\n",
              " \"you're\",\n",
              " \"you've\",\n",
              " \"you'll\",\n",
              " \"you'd\",\n",
              " 'your',\n",
              " 'yours',\n",
              " 'yourself',\n",
              " 'yourselves',\n",
              " 'he',\n",
              " 'him',\n",
              " 'his',\n",
              " 'himself',\n",
              " 'she',\n",
              " \"she's\",\n",
              " 'her',\n",
              " 'hers',\n",
              " 'herself',\n",
              " 'it',\n",
              " \"it's\",\n",
              " 'its',\n",
              " 'itself',\n",
              " 'they',\n",
              " 'them',\n",
              " 'their',\n",
              " 'theirs',\n",
              " 'themselves',\n",
              " 'what',\n",
              " 'which',\n",
              " 'who',\n",
              " 'whom',\n",
              " 'this',\n",
              " 'that',\n",
              " \"that'll\",\n",
              " 'these',\n",
              " 'those',\n",
              " 'am',\n",
              " 'is',\n",
              " 'are',\n",
              " 'was',\n",
              " 'were',\n",
              " 'be',\n",
              " 'been',\n",
              " 'being',\n",
              " 'have',\n",
              " 'has',\n",
              " 'had',\n",
              " 'having',\n",
              " 'do',\n",
              " 'does',\n",
              " 'did',\n",
              " 'doing',\n",
              " 'a',\n",
              " 'an',\n",
              " 'the',\n",
              " 'and',\n",
              " 'but',\n",
              " 'if',\n",
              " 'or',\n",
              " 'because',\n",
              " 'as',\n",
              " 'until',\n",
              " 'while',\n",
              " 'of',\n",
              " 'at',\n",
              " 'by',\n",
              " 'for',\n",
              " 'with',\n",
              " 'about',\n",
              " 'against',\n",
              " 'between',\n",
              " 'into',\n",
              " 'through',\n",
              " 'during',\n",
              " 'before',\n",
              " 'after',\n",
              " 'above',\n",
              " 'below',\n",
              " 'to',\n",
              " 'from',\n",
              " 'up',\n",
              " 'down',\n",
              " 'in',\n",
              " 'out',\n",
              " 'on',\n",
              " 'off',\n",
              " 'over',\n",
              " 'under',\n",
              " 'again',\n",
              " 'further',\n",
              " 'then',\n",
              " 'once',\n",
              " 'here',\n",
              " 'there',\n",
              " 'when',\n",
              " 'where',\n",
              " 'why',\n",
              " 'how',\n",
              " 'all',\n",
              " 'any',\n",
              " 'both',\n",
              " 'each',\n",
              " 'few',\n",
              " 'more',\n",
              " 'most',\n",
              " 'other',\n",
              " 'some',\n",
              " 'such',\n",
              " 'no',\n",
              " 'nor',\n",
              " 'not',\n",
              " 'only',\n",
              " 'own',\n",
              " 'same',\n",
              " 'so',\n",
              " 'than',\n",
              " 'too',\n",
              " 'very',\n",
              " 's',\n",
              " 't',\n",
              " 'can',\n",
              " 'will',\n",
              " 'just',\n",
              " 'don',\n",
              " \"don't\",\n",
              " 'should',\n",
              " \"should've\",\n",
              " 'now',\n",
              " 'd',\n",
              " 'll',\n",
              " 'm',\n",
              " 'o',\n",
              " 're',\n",
              " 've',\n",
              " 'y',\n",
              " 'ain',\n",
              " 'aren',\n",
              " \"aren't\",\n",
              " 'couldn',\n",
              " \"couldn't\",\n",
              " 'didn',\n",
              " \"didn't\",\n",
              " 'doesn',\n",
              " \"doesn't\",\n",
              " 'hadn',\n",
              " \"hadn't\",\n",
              " 'hasn',\n",
              " \"hasn't\",\n",
              " 'haven',\n",
              " \"haven't\",\n",
              " 'isn',\n",
              " \"isn't\",\n",
              " 'ma',\n",
              " 'mightn',\n",
              " \"mightn't\",\n",
              " 'mustn',\n",
              " \"mustn't\",\n",
              " 'needn',\n",
              " \"needn't\",\n",
              " 'shan',\n",
              " \"shan't\",\n",
              " 'shouldn',\n",
              " \"shouldn't\",\n",
              " 'wasn',\n",
              " \"wasn't\",\n",
              " 'weren',\n",
              " \"weren't\",\n",
              " 'won',\n",
              " \"won't\",\n",
              " 'wouldn',\n",
              " \"wouldn't\"]"
            ]
          },
          "metadata": {},
          "execution_count": 35
        }
      ]
    },
    {
      "cell_type": "code",
      "source": [
        "# 여백(디폴트, 스페이스) 기준 쪼개줌\n",
        "# 모든 문자들을 소문자화 (<=> upper: 대문자화)\n",
        "# 불용어\n",
        "for word in first_text.split():\n",
        "    print(word.lower())"
      ],
      "metadata": {
        "id": "PZMeDSGrjgnk",
        "colab": {
          "base_uri": "https://localhost:8080/"
        },
        "outputId": "8e28706b-0317-4752-b87f-c1e372f14045"
      },
      "execution_count": 38,
      "outputs": [
        {
          "output_type": "stream",
          "name": "stdout",
          "text": [
            "go\n",
            "until\n",
            "jurong\n",
            "point,\n",
            "crazy..\n",
            "available\n",
            "only\n",
            "in\n",
            "bugis\n",
            "n\n",
            "great\n",
            "world\n",
            "la\n",
            "e\n",
            "buffet...\n",
            "cine\n",
            "there\n",
            "got\n",
            "amore\n",
            "wat...\n"
          ]
        }
      ]
    },
    {
      "cell_type": "code",
      "source": [
        "# \"sepertator\".join(...) => 구분자\n",
        "# \"\".join(...) => 구분자로 X\n",
        "# \" \".join(...) => 구분자로 여백(스페이스)\n",
        "# 불용어는 다 제거하고, 소문자화된 새로운 텍스트\n",
        "new_text = []\n",
        "for word in first_text.split():\n",
        "    l_word = word.lower() # 모든 문자들을 소문자화 (<=> upper: 대문자화)\n",
        "    # if l_word in stop_english: # 불용어\n",
        "    if l_word not in stop_eng: # 불용어\n",
        "        # print(l_word)\n",
        "        new_text.append(l_word)\n",
        "''.join(new_text)"
      ],
      "metadata": {
        "colab": {
          "base_uri": "https://localhost:8080/",
          "height": 35
        },
        "id": "oUgSgzdFkN9v",
        "outputId": "0bf22bf7-d233-4f09-9e56-2edb22f71a67"
      },
      "execution_count": 41,
      "outputs": [
        {
          "output_type": "execute_result",
          "data": {
            "text/plain": [
              "'gojurongpoint,crazy..availablebugisngreatworldlaebuffet...cinegotamorewat...'"
            ],
            "application/vnd.google.colaboratory.intrinsic+json": {
              "type": "string"
            }
          },
          "metadata": {},
          "execution_count": 41
        }
      ]
    },
    {
      "cell_type": "code",
      "source": [
        "def remove_stop_words(text):\n",
        "    new_text = []\n",
        "    for word in text.split():\n",
        "        l_word = word.lower() # 모든 문자들을 소문자화 (<=> upper: 대문자화)\n",
        "        # if l_word in stop_english: # 불용어\n",
        "        if l_word not in stop_eng: # 불용어\n",
        "            # print(l_word)\n",
        "            new_text.append(l_word)\n",
        "    return \" \".join(new_text) # 불용어는 다 제거하고, 소문자화된 새로운 텍스트"
      ],
      "metadata": {
        "id": "r6-ucQTDkiDg"
      },
      "execution_count": 45,
      "outputs": []
    },
    {
      "cell_type": "code",
      "source": [
        "df.text.apply(remove_stop_words)"
      ],
      "metadata": {
        "colab": {
          "base_uri": "https://localhost:8080/"
        },
        "id": "ZL7UEtLbku-O",
        "outputId": "d0aaccfc-c078-4baf-eb2d-afcd39e05d09"
      },
      "execution_count": 46,
      "outputs": [
        {
          "output_type": "execute_result",
          "data": {
            "text/plain": [
              "0       go jurong point crazy available bugis n great ...\n",
              "1                                 ok lar joking wif u oni\n",
              "2       free entry 2 wkly comp win fa cup final tkts 2...\n",
              "3                     u dun say early hor u c already say\n",
              "4             nah dont think goes usf lives around though\n",
              "                              ...                        \n",
              "5569    2nd time tried 2 contact u u £750 pound prize ...\n",
              "5570                          ü b going esplanade fr home\n",
              "5571                          pity mood soany suggestions\n",
              "5572    guy bitching acted like id interested buying s...\n",
              "5573                                       rofl true name\n",
              "Name: text, Length: 5574, dtype: object"
            ]
          },
          "metadata": {},
          "execution_count": 46
        }
      ]
    },
    {
      "cell_type": "code",
      "source": [
        "df2.text"
      ],
      "metadata": {
        "colab": {
          "base_uri": "https://localhost:8080/"
        },
        "id": "MQFlVZ5ilDbs",
        "outputId": "486ffa3b-b7dd-48aa-9048-7d2a6a4a896a"
      },
      "execution_count": null,
      "outputs": [
        {
          "output_type": "execute_result",
          "data": {
            "text/plain": [
              "0       Go until jurong point, crazy.. Available only ...\n",
              "1                           Ok lar... Joking wif u oni...\n",
              "2       Free entry in 2 a wkly comp to win FA Cup fina...\n",
              "3       U dun say so early hor... U c already then say...\n",
              "4       Nah I don't think he goes to usf, he lives aro...\n",
              "                              ...                        \n",
              "5569    This is the 2nd time we have tried 2 contact u...\n",
              "5570                 Will ü b going to esplanade fr home?\n",
              "5571    Pity, * was in mood for that. So...any other s...\n",
              "5572    The guy did some bitching but I acted like i'd...\n",
              "5573                           Rofl. Its true to its name\n",
              "Name: text, Length: 5574, dtype: object"
            ]
          },
          "metadata": {},
          "execution_count": 32
        }
      ]
    },
    {
      "cell_type": "code",
      "source": [
        "# 소문자화 하고 + 불용어 제거하는 함수를 모든 행에 적용\n"
      ],
      "metadata": {
        "colab": {
          "base_uri": "https://localhost:8080/"
        },
        "id": "ECKYHvxuk6qk",
        "outputId": "fb238271-f3f3-41b9-f56f-cac4f9755241"
      },
      "execution_count": null,
      "outputs": [
        {
          "output_type": "execute_result",
          "data": {
            "text/plain": [
              "0       go jurong point crazy available bugis n great ...\n",
              "1                                 ok lar joking wif u oni\n",
              "2       free entry 2 wkly comp win fa cup final tkts 2...\n",
              "3                     u dun say early hor u c already say\n",
              "4             nah dont think goes usf lives around though\n",
              "                              ...                        \n",
              "5569    2nd time tried 2 contact u u £750 pound prize ...\n",
              "5570                          ü b going esplanade fr home\n",
              "5571                          pity mood soany suggestions\n",
              "5572    guy bitching acted like id interested buying s...\n",
              "5573                                       rofl true name\n",
              "Name: text, Length: 5574, dtype: object"
            ]
          },
          "metadata": {},
          "execution_count": 33
        }
      ]
    },
    {
      "cell_type": "code",
      "source": [
        "# 종속변수 처리\n",
        "# 범주형 변수"
      ],
      "metadata": {
        "colab": {
          "base_uri": "https://localhost:8080/"
        },
        "id": "dcT5uaErlOrT",
        "outputId": "31fc2ab0-7c58-40ee-b7da-cd5d06c0c4e4"
      },
      "execution_count": null,
      "outputs": [
        {
          "output_type": "execute_result",
          "data": {
            "text/plain": [
              "ham     4827\n",
              "spam     747\n",
              "Name: target, dtype: int64"
            ]
          },
          "metadata": {},
          "execution_count": 34
        }
      ]
    },
    {
      "cell_type": "code",
      "source": [
        "# pd.get_dummies(df, columns=['target'], drop_first=True)\n"
      ],
      "metadata": {
        "colab": {
          "base_uri": "https://localhost:8080/"
        },
        "id": "8neALZ2RlY_w",
        "outputId": "6d91c3a1-fff5-4f8e-addf-5fc19057b400"
      },
      "execution_count": null,
      "outputs": [
        {
          "output_type": "execute_result",
          "data": {
            "text/plain": [
              "0       0\n",
              "1       0\n",
              "2       1\n",
              "3       0\n",
              "4       0\n",
              "       ..\n",
              "5569    1\n",
              "5570    0\n",
              "5571    0\n",
              "5572    0\n",
              "5573    0\n",
              "Name: target, Length: 5574, dtype: int64"
            ]
          },
          "metadata": {},
          "execution_count": 35
        }
      ]
    },
    {
      "cell_type": "code",
      "source": [
        "# 텍스트를 카운트(빈도수) 기반으로 벡터화\n",
        "# 특수문자 제거된 상태에서, 불용어도 제거, 소문자화"
      ],
      "metadata": {
        "colab": {
          "base_uri": "https://localhost:8080/"
        },
        "id": "X0k28W6hl5E_",
        "outputId": "56ff9bcc-b71d-4704-93bb-408603be1f3b"
      },
      "execution_count": null,
      "outputs": [
        {
          "output_type": "execute_result",
          "data": {
            "text/plain": [
              "0       go jurong point crazy available bugis n great ...\n",
              "1                                 ok lar joking wif u oni\n",
              "2       free entry 2 wkly comp win fa cup final tkts 2...\n",
              "3                     u dun say early hor u c already say\n",
              "4             nah dont think goes usf lives around though\n",
              "                              ...                        \n",
              "5569    2nd time tried 2 contact u u £750 pound prize ...\n",
              "5570                          ü b going esplanade fr home\n",
              "5571                          pity mood soany suggestions\n",
              "5572    guy bitching acted like id interested buying s...\n",
              "5573                                       rofl true name\n",
              "Name: text, Length: 5574, dtype: object"
            ]
          },
          "metadata": {},
          "execution_count": 36
        }
      ]
    },
    {
      "cell_type": "code",
      "source": [
        "# 독립변수들 X: 2개 이상의 열로 구성된 데이터프레임 (대문자) - df\n",
        "# 종속변수 y: 1개로 구성된 시리즈 (소문자) - series\n",
        "# 독립변수, 피쳐 # 열 1라서 x라고 표시했는데 거슬리면? X로 해도 문제 없음\n",
        "# 종속변수, 타깃\n",
        "\n",
        "x = df.text\n",
        "y = df.target"
      ],
      "metadata": {
        "id": "HIVqmEQ3mKlK"
      },
      "execution_count": 47,
      "outputs": []
    },
    {
      "cell_type": "code",
      "source": [
        "# 빈도수(카운트)를 기반으로 벡터화\n",
        "from sklearn.feature_extraction.text import CountVectorizer"
      ],
      "metadata": {
        "id": "njgpPwZ5mQ9M"
      },
      "execution_count": 49,
      "outputs": []
    },
    {
      "cell_type": "code",
      "source": [
        "# model, scaler... 클래스 생성자 -> 객체를 만들어서 -> 학습 -> 사용\n",
        "# model -> fit(X, y) -> predict...\n",
        "# 전처리 관련 -> fit(X) -> transform...\n",
        "cv = CountVectorizer()\n",
        "cv.fit(x)"
      ],
      "metadata": {
        "colab": {
          "base_uri": "https://localhost:8080/",
          "height": 75
        },
        "id": "qcUMHJoQmiWk",
        "outputId": "5e29287d-afe2-4091-8c3d-d4eed032af00"
      },
      "execution_count": 53,
      "outputs": [
        {
          "output_type": "execute_result",
          "data": {
            "text/plain": [
              "CountVectorizer()"
            ],
            "text/html": [
              "<style>#sk-container-id-2 {color: black;background-color: white;}#sk-container-id-2 pre{padding: 0;}#sk-container-id-2 div.sk-toggleable {background-color: white;}#sk-container-id-2 label.sk-toggleable__label {cursor: pointer;display: block;width: 100%;margin-bottom: 0;padding: 0.3em;box-sizing: border-box;text-align: center;}#sk-container-id-2 label.sk-toggleable__label-arrow:before {content: \"▸\";float: left;margin-right: 0.25em;color: #696969;}#sk-container-id-2 label.sk-toggleable__label-arrow:hover:before {color: black;}#sk-container-id-2 div.sk-estimator:hover label.sk-toggleable__label-arrow:before {color: black;}#sk-container-id-2 div.sk-toggleable__content {max-height: 0;max-width: 0;overflow: hidden;text-align: left;background-color: #f0f8ff;}#sk-container-id-2 div.sk-toggleable__content pre {margin: 0.2em;color: black;border-radius: 0.25em;background-color: #f0f8ff;}#sk-container-id-2 input.sk-toggleable__control:checked~div.sk-toggleable__content {max-height: 200px;max-width: 100%;overflow: auto;}#sk-container-id-2 input.sk-toggleable__control:checked~label.sk-toggleable__label-arrow:before {content: \"▾\";}#sk-container-id-2 div.sk-estimator input.sk-toggleable__control:checked~label.sk-toggleable__label {background-color: #d4ebff;}#sk-container-id-2 div.sk-label input.sk-toggleable__control:checked~label.sk-toggleable__label {background-color: #d4ebff;}#sk-container-id-2 input.sk-hidden--visually {border: 0;clip: rect(1px 1px 1px 1px);clip: rect(1px, 1px, 1px, 1px);height: 1px;margin: -1px;overflow: hidden;padding: 0;position: absolute;width: 1px;}#sk-container-id-2 div.sk-estimator {font-family: monospace;background-color: #f0f8ff;border: 1px dotted black;border-radius: 0.25em;box-sizing: border-box;margin-bottom: 0.5em;}#sk-container-id-2 div.sk-estimator:hover {background-color: #d4ebff;}#sk-container-id-2 div.sk-parallel-item::after {content: \"\";width: 100%;border-bottom: 1px solid gray;flex-grow: 1;}#sk-container-id-2 div.sk-label:hover label.sk-toggleable__label {background-color: #d4ebff;}#sk-container-id-2 div.sk-serial::before {content: \"\";position: absolute;border-left: 1px solid gray;box-sizing: border-box;top: 0;bottom: 0;left: 50%;z-index: 0;}#sk-container-id-2 div.sk-serial {display: flex;flex-direction: column;align-items: center;background-color: white;padding-right: 0.2em;padding-left: 0.2em;position: relative;}#sk-container-id-2 div.sk-item {position: relative;z-index: 1;}#sk-container-id-2 div.sk-parallel {display: flex;align-items: stretch;justify-content: center;background-color: white;position: relative;}#sk-container-id-2 div.sk-item::before, #sk-container-id-2 div.sk-parallel-item::before {content: \"\";position: absolute;border-left: 1px solid gray;box-sizing: border-box;top: 0;bottom: 0;left: 50%;z-index: -1;}#sk-container-id-2 div.sk-parallel-item {display: flex;flex-direction: column;z-index: 1;position: relative;background-color: white;}#sk-container-id-2 div.sk-parallel-item:first-child::after {align-self: flex-end;width: 50%;}#sk-container-id-2 div.sk-parallel-item:last-child::after {align-self: flex-start;width: 50%;}#sk-container-id-2 div.sk-parallel-item:only-child::after {width: 0;}#sk-container-id-2 div.sk-dashed-wrapped {border: 1px dashed gray;margin: 0 0.4em 0.5em 0.4em;box-sizing: border-box;padding-bottom: 0.4em;background-color: white;}#sk-container-id-2 div.sk-label label {font-family: monospace;font-weight: bold;display: inline-block;line-height: 1.2em;}#sk-container-id-2 div.sk-label-container {text-align: center;}#sk-container-id-2 div.sk-container {/* jupyter's `normalize.less` sets `[hidden] { display: none; }` but bootstrap.min.css set `[hidden] { display: none !important; }` so we also need the `!important` here to be able to override the default hidden behavior on the sphinx rendered scikit-learn.org. See: https://github.com/scikit-learn/scikit-learn/issues/21755 */display: inline-block !important;position: relative;}#sk-container-id-2 div.sk-text-repr-fallback {display: none;}</style><div id=\"sk-container-id-2\" class=\"sk-top-container\"><div class=\"sk-text-repr-fallback\"><pre>CountVectorizer()</pre><b>In a Jupyter environment, please rerun this cell to show the HTML representation or trust the notebook. <br />On GitHub, the HTML representation is unable to render, please try loading this page with nbviewer.org.</b></div><div class=\"sk-container\" hidden><div class=\"sk-item\"><div class=\"sk-estimator sk-toggleable\"><input class=\"sk-toggleable__control sk-hidden--visually\" id=\"sk-estimator-id-2\" type=\"checkbox\" checked><label for=\"sk-estimator-id-2\" class=\"sk-toggleable__label sk-toggleable__label-arrow\">CountVectorizer</label><div class=\"sk-toggleable__content\"><pre>CountVectorizer()</pre></div></div></div></div></div>"
            ]
          },
          "metadata": {},
          "execution_count": 53
        }
      ]
    },
    {
      "cell_type": "code",
      "source": [
        "cv.vocabulary_"
      ],
      "metadata": {
        "id": "PpM7y5fonHg8",
        "colab": {
          "base_uri": "https://localhost:8080/"
        },
        "outputId": "13686568-a6e0-47ff-8115-f740e16a6921"
      },
      "execution_count": 54,
      "outputs": [
        {
          "output_type": "execute_result",
          "data": {
            "text/plain": [
              "{'go': 3822,\n",
              " 'until': 8779,\n",
              " 'jurong': 4734,\n",
              " 'point': 6501,\n",
              " 'crazy': 2518,\n",
              " 'available': 1427,\n",
              " 'only': 6094,\n",
              " 'in': 4444,\n",
              " 'bugis': 1901,\n",
              " 'great': 3919,\n",
              " 'world': 9288,\n",
              " 'la': 4895,\n",
              " 'buffet': 1899,\n",
              " 'cine': 2235,\n",
              " 'there': 8352,\n",
              " 'got': 3879,\n",
              " 'amore': 1188,\n",
              " 'wat': 9040,\n",
              " 'ok': 6054,\n",
              " 'lar': 4934,\n",
              " 'joking': 4702,\n",
              " 'wif': 9180,\n",
              " 'oni': 6088,\n",
              " 'free': 3606,\n",
              " 'entry': 3188,\n",
              " 'wkly': 9239,\n",
              " 'comp': 2351,\n",
              " 'to': 8477,\n",
              " 'win': 9195,\n",
              " 'fa': 3324,\n",
              " 'cup': 2574,\n",
              " 'final': 3450,\n",
              " 'tkts': 8466,\n",
              " '21st': 454,\n",
              " 'may': 5384,\n",
              " '2005': 441,\n",
              " 'text': 8291,\n",
              " '87121': 875,\n",
              " 'receive': 6901,\n",
              " 'questionstd': 6792,\n",
              " 'txt': 8680,\n",
              " 'ratetcs': 6844,\n",
              " 'apply': 1277,\n",
              " '08452810075over18s': 71,\n",
              " 'dun': 3037,\n",
              " 'say': 7261,\n",
              " 'so': 7682,\n",
              " 'early': 3059,\n",
              " 'hor': 4263,\n",
              " 'already': 1160,\n",
              " 'then': 8346,\n",
              " 'nah': 5736,\n",
              " 'dont': 2943,\n",
              " 'think': 8374,\n",
              " 'he': 4077,\n",
              " 'goes': 3836,\n",
              " 'usf': 8832,\n",
              " 'lives': 5098,\n",
              " 'around': 1329,\n",
              " 'here': 4137,\n",
              " 'though': 8395,\n",
              " 'freemsg': 3614,\n",
              " 'hey': 4156,\n",
              " 'darling': 2638,\n",
              " 'its': 4606,\n",
              " 'been': 1595,\n",
              " 'weeks': 9095,\n",
              " 'now': 5945,\n",
              " 'and': 1204,\n",
              " 'no': 5873,\n",
              " 'word': 9274,\n",
              " 'back': 1477,\n",
              " 'id': 4385,\n",
              " 'like': 5048,\n",
              " 'some': 7698,\n",
              " 'fun': 3682,\n",
              " 'you': 9484,\n",
              " 'up': 8782,\n",
              " 'for': 3555,\n",
              " 'it': 4585,\n",
              " 'still': 7933,\n",
              " 'tb': 8221,\n",
              " 'xxx': 9413,\n",
              " 'std': 7908,\n",
              " 'chgs': 2180,\n",
              " 'send': 7357,\n",
              " '150': 353,\n",
              " 'rcv': 6856,\n",
              " 'even': 3235,\n",
              " 'my': 5720,\n",
              " 'brother': 1868,\n",
              " 'is': 4571,\n",
              " 'not': 5928,\n",
              " 'speak': 7779,\n",
              " 'with': 9225,\n",
              " 'me': 5392,\n",
              " 'they': 8365,\n",
              " 'treat': 8605,\n",
              " 'aids': 1105,\n",
              " 'patent': 6294,\n",
              " 'as': 1347,\n",
              " 'per': 6336,\n",
              " 'your': 9501,\n",
              " 'request': 7014,\n",
              " 'melle': 5428,\n",
              " 'oru': 6154,\n",
              " 'minnaminunginte': 5511,\n",
              " 'nurungu': 5980,\n",
              " 'vettam': 8897,\n",
              " 'has': 4053,\n",
              " 'set': 7386,\n",
              " 'callertune': 1985,\n",
              " 'all': 1144,\n",
              " 'callers': 1984,\n",
              " 'press': 6631,\n",
              " 'copy': 2456,\n",
              " 'friends': 3639,\n",
              " 'winner': 9206,\n",
              " 'valued': 8866,\n",
              " 'network': 5812,\n",
              " 'customer': 2587,\n",
              " 'have': 4067,\n",
              " 'selected': 7343,\n",
              " 'receivea': 6902,\n",
              " '900': 913,\n",
              " 'prize': 6665,\n",
              " 'reward': 7073,\n",
              " 'claim': 2241,\n",
              " 'call': 1966,\n",
              " '09061701461': 217,\n",
              " 'code': 2302,\n",
              " 'kl341': 4851,\n",
              " 'valid': 8862,\n",
              " '12': 324,\n",
              " 'hours': 4282,\n",
              " 'had': 3994,\n",
              " 'mobile': 5570,\n",
              " '11': 313,\n",
              " 'months': 5615,\n",
              " 'or': 6131,\n",
              " 'more': 5622,\n",
              " 'entitled': 3185,\n",
              " 'update': 8787,\n",
              " 'the': 8329,\n",
              " 'latest': 4951,\n",
              " 'colour': 2325,\n",
              " 'mobiles': 5571,\n",
              " 'camera': 1999,\n",
              " 'co': 2291,\n",
              " 'on': 6079,\n",
              " '08002986030': 56,\n",
              " 'im': 4416,\n",
              " 'gonna': 3853,\n",
              " 'be': 1568,\n",
              " 'home': 4229,\n",
              " 'soon': 7729,\n",
              " 'want': 9019,\n",
              " 'talk': 8187,\n",
              " 'about': 956,\n",
              " 'this': 8382,\n",
              " 'stuff': 8006,\n",
              " 'anymore': 1244,\n",
              " 'tonight': 8526,\n",
              " 'ive': 4616,\n",
              " 'cried': 2535,\n",
              " 'enough': 3176,\n",
              " 'today': 8484,\n",
              " 'six': 7579,\n",
              " 'chances': 2117,\n",
              " 'cash': 2060,\n",
              " 'from': 3658,\n",
              " '100': 291,\n",
              " '20000': 438,\n",
              " 'pounds': 6568,\n",
              " 'csh11': 2552,\n",
              " '87575': 879,\n",
              " 'cost': 2469,\n",
              " '150pday': 360,\n",
              " '6days': 761,\n",
              " '16': 391,\n",
              " 'tsandcs': 8640,\n",
              " 'reply': 7006,\n",
              " 'hl': 4195,\n",
              " 'info': 4480,\n",
              " 'urgent': 8810,\n",
              " 'won': 9258,\n",
              " 'week': 9090,\n",
              " 'membership': 5434,\n",
              " 'our': 6166,\n",
              " '100000': 294,\n",
              " 'jackpot': 4625,\n",
              " '81010': 825,\n",
              " 'tc': 8223,\n",
              " 'wwwdbuknet': 9357,\n",
              " 'lccltd': 4969,\n",
              " 'pobox': 6480,\n",
              " '4403ldnw1a7rw18': 631,\n",
              " 'searching': 7310,\n",
              " 'right': 7085,\n",
              " 'words': 9277,\n",
              " 'thank': 8310,\n",
              " 'breather': 1837,\n",
              " 'promise': 6704,\n",
              " 'wont': 9265,\n",
              " 'take': 8178,\n",
              " 'help': 4121,\n",
              " 'granted': 3908,\n",
              " 'will': 9192,\n",
              " 'fulfil': 3678,\n",
              " 'wonderful': 9262,\n",
              " 'blessing': 1707,\n",
              " 'at': 1382,\n",
              " 'times': 8441,\n",
              " 'date': 2647,\n",
              " 'sunday': 8075,\n",
              " 'xxxmobilemovieclub': 9414,\n",
              " 'use': 8826,\n",
              " 'credit': 2525,\n",
              " 'click': 2263,\n",
              " 'wap': 9024,\n",
              " 'link': 5071,\n",
              " 'next': 5831,\n",
              " 'message': 5459,\n",
              " 'httpwap': 4313,\n",
              " 'xxxmobilemovieclubcomnqjkgighjjgcbl': 9415,\n",
              " 'oh': 6047,\n",
              " 'kim': 4818,\n",
              " 'watching': 9045,\n",
              " 'eh': 3109,\n",
              " 'remember': 6973,\n",
              " 'how': 4289,\n",
              " 'spell': 7795,\n",
              " 'his': 4183,\n",
              " 'name': 5742,\n",
              " 'yes': 9453,\n",
              " 'did': 2814,\n",
              " 'naughty': 5768,\n",
              " 'make': 5303,\n",
              " 'wet': 9133,\n",
              " 'fine': 3458,\n",
              " 'if': 4398,\n",
              " 'that': 8320,\n",
              " 'way': 9056,\n",
              " 'feel': 3401,\n",
              " 'gota': 3880,\n",
              " 'england': 3167,\n",
              " 'macedonia': 5265,\n",
              " 'miss': 5530,\n",
              " 'goalsteam': 3828,\n",
              " 'news': 5826,\n",
              " 'ur': 8807,\n",
              " 'national': 5761,\n",
              " 'team': 8237,\n",
              " '87077': 874,\n",
              " 'eg': 3100,\n",
              " 'trywales': 8638,\n",
              " 'scotland': 7289,\n",
              " '4txtú120': 679,\n",
              " 'poboxox36504w45wq': 6492,\n",
              " 'seriously': 7379,\n",
              " 'going': 3841,\n",
              " 'try': 8635,\n",
              " 'ha': 3990,\n",
              " 'pay': 6305,\n",
              " 'first': 3478,\n",
              " 'when': 9145,\n",
              " 'da': 2603,\n",
              " 'stock': 7937,\n",
              " 'comin': 2341,\n",
              " 'aft': 1064,\n",
              " 'finish': 3464,\n",
              " 'lunch': 5230,\n",
              " 'str': 7963,\n",
              " 'down': 2966,\n",
              " 'lor': 5156,\n",
              " 'ard': 1304,\n",
              " 'smth': 7665,\n",
              " 'ffffffffff': 3420,\n",
              " 'alright': 1162,\n",
              " 'can': 2004,\n",
              " 'meet': 5413,\n",
              " 'sooner': 7731,\n",
              " 'just': 4736,\n",
              " 'forced': 3557,\n",
              " 'myself': 5726,\n",
              " 'eat': 3072,\n",
              " 'slice': 7614,\n",
              " 'really': 6882,\n",
              " 'hungry': 4341,\n",
              " 'tho': 8390,\n",
              " 'sucks': 8045,\n",
              " 'mark': 5339,\n",
              " 'getting': 3781,\n",
              " 'worried': 9294,\n",
              " 'knows': 4863,\n",
              " 'sick': 7522,\n",
              " 'turn': 8661,\n",
              " 'pizza': 6430,\n",
              " 'lol': 5133,\n",
              " 'always': 1172,\n",
              " 'convincing': 2442,\n",
              " 'catch': 2072,\n",
              " 'bus': 1921,\n",
              " 'are': 1306,\n",
              " 'frying': 3666,\n",
              " 'an': 1199,\n",
              " 'egg': 3104,\n",
              " 'tea': 8231,\n",
              " 'eating': 3075,\n",
              " 'moms': 5594,\n",
              " 'left': 4992,\n",
              " 'over': 6189,\n",
              " 'dinner': 2847,\n",
              " 'do': 2898,\n",
              " 'love': 5182,\n",
              " 'amp': 1190,\n",
              " 'were': 9121,\n",
              " 'packing': 6217,\n",
              " 'car': 2026,\n",
              " 'ill': 4412,\n",
              " 'let': 5015,\n",
              " 'know': 4858,\n",
              " 'theres': 8357,\n",
              " 'room': 7130,\n",
              " 'ahhh': 1096,\n",
              " 'work': 9280,\n",
              " 'vaguely': 8857,\n",
              " 'what': 9138,\n",
              " 'does': 2911,\n",
              " 'wait': 8989,\n",
              " 'thats': 8328,\n",
              " 'clear': 2257,\n",
              " 'sure': 8103,\n",
              " 'being': 1615,\n",
              " 'sarcastic': 7235,\n",
              " 'why': 9173,\n",
              " 'doesnt': 2914,\n",
              " 'live': 5094,\n",
              " 'us': 8822,\n",
              " 'yeah': 9440,\n",
              " 'was': 9033,\n",
              " 'apologetic': 1265,\n",
              " 'fallen': 3351,\n",
              " 'out': 6169,\n",
              " 'she': 7434,\n",
              " 'actin': 1002,\n",
              " 'spoilt': 7823,\n",
              " 'child': 2196,\n",
              " 'caught': 2076,\n",
              " 'till': 8435,\n",
              " 'but': 1929,\n",
              " 'we': 9062,\n",
              " 'doing': 2925,\n",
              " 'too': 8533,\n",
              " 'badly': 1483,\n",
              " 'cheers': 2162,\n",
              " 'tell': 8256,\n",
              " 'anything': 1250,\n",
              " 'fear': 3393,\n",
              " 'of': 6020,\n",
              " 'fainting': 3341,\n",
              " 'housework': 4287,\n",
              " 'quick': 6793,\n",
              " 'cuppa': 2576,\n",
              " 'thanks': 8311,\n",
              " 'subscription': 8033,\n",
              " 'ringtone': 7094,\n",
              " 'uk': 8711,\n",
              " 'charged': 2129,\n",
              " '5month': 717,\n",
              " 'please': 6459,\n",
              " 'confirm': 2397,\n",
              " 'by': 1947,\n",
              " 'replying': 7008,\n",
              " 'yup': 9526,\n",
              " 'look': 5144,\n",
              " 'timings': 8448,\n",
              " 'msg': 5661,\n",
              " 'again': 1072,\n",
              " 'xuhui': 9409,\n",
              " 'learn': 4981,\n",
              " '2nd': 520,\n",
              " 'her': 4136,\n",
              " 'lesson': 5013,\n",
              " '8am': 902,\n",
              " 'oops': 6107,\n",
              " 'roommates': 7133,\n",
              " 'done': 2940,\n",
              " 'see': 7327,\n",
              " 'letter': 5017,\n",
              " 'decide': 2702,\n",
              " 'hello': 4114,\n",
              " 'hows': 4295,\n",
              " 'saturday': 7251,\n",
              " 'texting': 8299,\n",
              " 'youd': 9488,\n",
              " 'decided': 2703,\n",
              " 'tomo': 8511,\n",
              " 'trying': 8637,\n",
              " 'invite': 4545,\n",
              " 'pls': 6467,\n",
              " 'ahead': 1094,\n",
              " 'watts': 9054,\n",
              " 'wanted': 9021,\n",
              " 'weekend': 9092,\n",
              " 'abiola': 952,\n",
              " 'forget': 3563,\n",
              " 'need': 5787,\n",
              " 'crave': 2515,\n",
              " 'most': 5631,\n",
              " 'sweet': 8134,\n",
              " 'arabian': 1301,\n",
              " 'steed': 7915,\n",
              " 'mmmmmm': 5560,\n",
              " 'yummy': 9521,\n",
              " '07732584351': 28,\n",
              " 'rodger': 7119,\n",
              " 'burns': 1918,\n",
              " 'tried': 8614,\n",
              " 're': 6860,\n",
              " 'sms': 7659,\n",
              " 'nokia': 5897,\n",
              " 'camcorder': 1997,\n",
              " '08000930705': 52,\n",
              " 'delivery': 2741,\n",
              " 'tomorrow': 8514,\n",
              " 'who': 9166,\n",
              " 'seeing': 7329,\n",
              " 'hope': 4253,\n",
              " 'man': 5313,\n",
              " 'well': 9109,\n",
              " 'endowed': 3157,\n",
              " 'am': 1174,\n",
              " 'ltgt': 5215,\n",
              " 'inches': 4448,\n",
              " 'callsmessagesmissed': 1993,\n",
              " 'calls': 1991,\n",
              " 'didnt': 2817,\n",
              " 'get': 3773,\n",
              " 'hep': 4135,\n",
              " 'immunisation': 4428,\n",
              " 'nigeria': 5844,\n",
              " 'fair': 3342,\n",
              " 'hopefully': 4257,\n",
              " 'tyler': 8690,\n",
              " 'cant': 2017,\n",
              " 'could': 2479,\n",
              " 'maybe': 5386,\n",
              " 'ask': 1358,\n",
              " 'bit': 1682,\n",
              " 'stubborn': 7994,\n",
              " 'hospital': 4270,\n",
              " 'kept': 4789,\n",
              " 'telling': 8257,\n",
              " 'weak': 9063,\n",
              " 'sucker': 8043,\n",
              " 'hospitals': 4271,\n",
              " 'suckers': 8044,\n",
              " 'thinked': 8375,\n",
              " 'time': 8437,\n",
              " 'saw': 7260,\n",
              " 'class': 2249,\n",
              " 'gram': 3900,\n",
              " 'usually': 8843,\n",
              " 'runs': 7177,\n",
              " 'half': 4008,\n",
              " 'eighth': 3112,\n",
              " 'smarter': 7637,\n",
              " 'gets': 3777,\n",
              " 'almost': 1156,\n",
              " 'whole': 9167,\n",
              " 'second': 7314,\n",
              " 'fyi': 3698,\n",
              " 'ride': 7084,\n",
              " 'morning': 5625,\n",
              " 'hes': 4151,\n",
              " 'crashing': 2514,\n",
              " 'place': 6432,\n",
              " 'wow': 9313,\n",
              " 'never': 5817,\n",
              " 'realized': 6880,\n",
              " 'embarassed': 3137,\n",
              " 'accomodations': 982,\n",
              " 'thought': 8396,\n",
              " 'liked': 5049,\n",
              " 'since': 7549,\n",
              " 'best': 1635,\n",
              " 'seemed': 7333,\n",
              " 'happy': 4042,\n",
              " 'cave': 2080,\n",
              " 'sorry': 7741,\n",
              " 'give': 3803,\n",
              " 'offered': 6028,\n",
              " 'embarassing': 3138,\n",
              " 'ac': 968,\n",
              " 'sptv': 7846,\n",
              " 'new': 5821,\n",
              " 'jersey': 4669,\n",
              " 'devils': 2794,\n",
              " 'detroit': 2788,\n",
              " 'red': 6925,\n",
              " 'wings': 9204,\n",
              " 'play': 6448,\n",
              " 'ice': 4380,\n",
              " 'hockey': 4213,\n",
              " 'correct': 2461,\n",
              " 'incorrect': 4459,\n",
              " 'end': 3152,\n",
              " 'mallika': 5312,\n",
              " 'sherawat': 7441,\n",
              " 'yesterday': 9468,\n",
              " 'find': 3455,\n",
              " 'lturlgt': 5218,\n",
              " 'congrats': 2404,\n",
              " 'year': 9442,\n",
              " 'special': 7781,\n",
              " 'cinema': 2236,\n",
              " 'pass': 6282,\n",
              " 'yours': 9505,\n",
              " '09061209465': 212,\n",
              " 'suprman': 8101,\n",
              " 'matrix3': 5372,\n",
              " 'starwars3': 7895,\n",
              " 'etc': 3221,\n",
              " 'bx420ip45we': 1945,\n",
              " '150pm': 363,\n",
              " 'later': 4949,\n",
              " 'meeting': 5416,\n",
              " 'where': 9151,\n",
              " 'reached': 6863,\n",
              " 'yesgauti': 9461,\n",
              " 'sehwag': 7340,\n",
              " 'odi': 6019,\n",
              " 'series': 7377,\n",
              " 'pick': 6400,\n",
              " 'burger': 1913,\n",
              " 'yourself': 9506,\n",
              " 'move': 5645,\n",
              " 'pain': 6224,\n",
              " 'killing': 4815,\n",
              " 'good': 3855,\n",
              " 'joke': 4697,\n",
              " 'girls': 3800,\n",
              " 'situation': 7575,\n",
              " 'seekers': 7330,\n",
              " 'part': 6269,\n",
              " 'checking': 2156,\n",
              " 'iq': 4560,\n",
              " 'took': 8534,\n",
              " 'forever': 3560,\n",
              " 'come': 2333,\n",
              " 'double': 2958,\n",
              " 'check': 2152,\n",
              " 'hair': 4003,\n",
              " 'dresser': 2994,\n",
              " 'said': 7202,\n",
              " 'wun': 9343,\n",
              " 'cut': 2591,\n",
              " 'short': 7482,\n",
              " 'nice': 5837,\n",
              " 'pleased': 6460,\n",
              " 'advise': 1047,\n",
              " 'following': 3537,\n",
              " 'recent': 6905,\n",
              " 'review': 7071,\n",
              " 'mob': 5568,\n",
              " 'awarded': 1446,\n",
              " '1500': 354,\n",
              " 'bonus': 1751,\n",
              " '09066364589': 261,\n",
              " 'song': 7723,\n",
              " 'dedicated': 2713,\n",
              " 'day': 2660,\n",
              " 'which': 9159,\n",
              " 'dedicate': 2712,\n",
              " 'valuable': 8864,\n",
              " 'frnds': 3649,\n",
              " 'rply': 7150,\n",
              " 'complimentary': 2370,\n",
              " 'trip': 8615,\n",
              " 'eurodisinc': 3228,\n",
              " 'trav': 8597,\n",
              " 'acoentry41': 997,\n",
              " '1000': 292,\n",
              " 'dis': 2860,\n",
              " '186': 400,\n",
              " '150morefrmmob': 356,\n",
              " 'shracomorsglsuplt10': 7507,\n",
              " 'ls1': 5205,\n",
              " '3aj': 583,\n",
              " 'hear': 4089,\n",
              " 'divorce': 2889,\n",
              " 'barbie': 1514,\n",
              " 'comes': 2337,\n",
              " 'kens': 4787,\n",
              " 'plane': 6439,\n",
              " 'month': 5611,\n",
              " 'wah': 8982,\n",
              " 'lucky': 5223,\n",
              " 'save': 7256,\n",
              " 'money': 5599,\n",
              " 'hee': 4105,\n",
              " 'finished': 3466,\n",
              " 'hi': 4161,\n",
              " 'babe': 1465,\n",
              " 'wanna': 9017,\n",
              " 'something': 7709,\n",
              " 'xx': 9410,\n",
              " 'kkwhere': 4848,\n",
              " 'youhow': 9491,\n",
              " 'performed': 6343,\n",
              " 'waiting': 8993,\n",
              " 'machan': 5267,\n",
              " 'once': 6082,\n",
              " 'cool': 2448,\n",
              " 'gentleman': 3764,\n",
              " 'dignity': 2837,\n",
              " 'respect': 7035,\n",
              " 'peoples': 6335,\n",
              " 'very': 8896,\n",
              " 'much': 5680,\n",
              " 'shy': 7517,\n",
              " 'pa': 6212,\n",
              " 'operate': 6114,\n",
              " 'after': 1065,\n",
              " 'same': 7220,\n",
              " 'looking': 5148,\n",
              " 'job': 4684,\n",
              " 'tas': 8205,\n",
              " 'earn': 3060,\n",
              " 'ah': 1092,\n",
              " 'stop': 7947,\n",
              " 'urgnt': 8814,\n",
              " 'real': 6873,\n",
              " 'yo': 9478,\n",
              " 'tickets': 8426,\n",
              " 'one': 6084,\n",
              " 'jacket': 4624,\n",
              " 'used': 8827,\n",
              " 'multis': 5691,\n",
              " 'started': 7888,\n",
              " 'requests': 7015,\n",
              " 'came': 1998,\n",
              " 'bed': 1586,\n",
              " 'coins': 2309,\n",
              " 'factory': 3332,\n",
              " 'gotta': 3884,\n",
              " 'nitros': 5868,\n",
              " 'ela': 3117,\n",
              " 'kanoil': 4763,\n",
              " 'download': 2967,\n",
              " 'wen': 9115,\n",
              " 'don': 2938,\n",
              " 'stand': 7876,\n",
              " 'close': 2270,\n",
              " 'll': 5102,\n",
              " 'another': 1227,\n",
              " 'night': 5846,\n",
              " 'spent': 7800,\n",
              " 'late': 4944,\n",
              " 'afternoon': 1067,\n",
              " 'casualty': 2070,\n",
              " 'means': 5399,\n",
              " 'havent': 4070,\n",
              " 'any': 1240,\n",
              " 'stuff42moro': 8007,\n",
              " 'includes': 4452,\n",
              " 'sheets': 7436,\n",
              " 'smile': 7646,\n",
              " 'pleasure': 6462,\n",
              " 'trouble': 8621,\n",
              " 'pours': 6570,\n",
              " 'rain': 6817,\n",
              " 'sum1': 8066,\n",
              " 'hurts': 4356,\n",
              " 'becoz': 1584,\n",
              " 'someone': 7702,\n",
              " 'loves': 5192,\n",
              " 'smiling': 7650,\n",
              " 'service': 7382,\n",
              " 'representative': 7012,\n",
              " '0800': 48,\n",
              " '169': 393,\n",
              " '6031': 729,\n",
              " 'between': 1645,\n",
              " '10am9pm': 307,\n",
              " 'guaranteed': 3958,\n",
              " '5000': 689,\n",
              " 'planning': 6444,\n",
              " 'buy': 1934,\n",
              " 'lido': 5030,\n",
              " '530': 701,\n",
              " 'show': 7498,\n",
              " 'collected': 2318,\n",
              " 'simply': 7546,\n",
              " 'password': 6290,\n",
              " 'mix': 5550,\n",
              " '85069': 860,\n",
              " 'verify': 8892,\n",
              " 'usher': 8834,\n",
              " 'britney': 1858,\n",
              " 'fml': 3527,\n",
              " 'po': 6478,\n",
              " 'box': 1787,\n",
              " '5249': 698,\n",
              " 'mk17': 5553,\n",
              " '92h': 917,\n",
              " '450ppw': 642,\n",
              " 'telugu': 8262,\n",
              " 'moviewat': 5650,\n",
              " 'abt': 963,\n",
              " 'loads': 5110,\n",
              " 'loans': 5112,\n",
              " 'wk': 9235,\n",
              " 'hols': 4227,\n",
              " 'run': 7174,\n",
              " 'forgot': 3568,\n",
              " 'hairdressers': 4005,\n",
              " 'appointment': 1281,\n",
              " 'four': 3587,\n",
              " 'shower': 7500,\n",
              " 'beforehand': 1603,\n",
              " 'cause': 2077,\n",
              " 'prob': 6671,\n",
              " 'coffee': 2304,\n",
              " 'animation': 1214,\n",
              " 'nothing': 5933,\n",
              " 'else': 3131,\n",
              " 'okay': 6055,\n",
              " 'price': 6644,\n",
              " 'long': 5140,\n",
              " 'legal': 4995,\n",
              " 'them': 8339,\n",
              " 'ave': 1433,\n",
              " 'ams': 1194,\n",
              " 'gone': 3850,\n",
              " '4the': 676,\n",
              " 'driving': 3003,\n",
              " 'test': 8285,\n",
              " 'yet': 9469,\n",
              " 'youre': 9502,\n",
              " 'mean': 5395,\n",
              " 'guess': 3966,\n",
              " 'gave': 3732,\n",
              " 'boston': 1773,\n",
              " 'men': 5439,\n",
              " 'changed': 2119,\n",
              " 'search': 7309,\n",
              " 'location': 5115,\n",
              " 'nyc': 5990,\n",
              " 'cuz': 2598,\n",
              " 'signin': 7534,\n",
              " 'page': 6220,\n",
              " 'says': 7266,\n",
              " 'umma': 8720,\n",
              " 'life': 5033,\n",
              " 'vava': 8878,\n",
              " 'lot': 5166,\n",
              " 'dear': 2684,\n",
              " 'wishes': 9219,\n",
              " 'birthday': 1680,\n",
              " 'making': 5307,\n",
              " 'truly': 8629,\n",
              " 'memorable': 5436,\n",
              " 'aight': 1107,\n",
              " 'hit': 4186,\n",
              " 'would': 9309,\n",
              " 'ip': 4553,\n",
              " 'address': 1021,\n",
              " 'considering': 2415,\n",
              " 'computer': 2377,\n",
              " 'isnt': 4581,\n",
              " 'minecraft': 5507,\n",
              " 'server': 7381,\n",
              " 'grumpy': 3950,\n",
              " 'old': 6072,\n",
              " 'people': 6334,\n",
              " 'mom': 5591,\n",
              " 'better': 1643,\n",
              " 'lying': 5246,\n",
              " 'jokes': 4699,\n",
              " 'worry': 9297,\n",
              " 'busy': 1927,\n",
              " 'plural': 6472,\n",
              " 'noun': 5942,\n",
              " 'research': 7021,\n",
              " 'dinnermsg': 2848,\n",
              " 'cos': 2467,\n",
              " 'things': 8373,\n",
              " 'scared': 7273,\n",
              " 'mah': 5291,\n",
              " 'loud': 5177,\n",
              " 'gent': 3762,\n",
              " 'contact': 2420,\n",
              " 'last': 4941,\n",
              " 'weekends': 9093,\n",
              " 'draw': 2981,\n",
              " 'shows': 7506,\n",
              " '09064012160': 236,\n",
              " 'k52': 4742,\n",
              " '12hrs': 337,\n",
              " '150ppm': 374,\n",
              " 'wa': 8977,\n",
              " 'openin': 6111,\n",
              " 'sentence': 7370,\n",
              " 'formal': 3571,\n",
              " 'anyway': 1254,\n",
              " 'juz': 4741,\n",
              " 'tt': 8647,\n",
              " 'eatin': 3074,\n",
              " 'puttin': 6771,\n",
              " 'weighthaha': 9100,\n",
              " 'anythin': 1249,\n",
              " 'happened': 4034,\n",
              " 'entered': 3178,\n",
              " 'cabin': 1952,\n",
              " 'bday': 1567,\n",
              " 'boss': 1772,\n",
              " 'felt': 3411,\n",
              " 'askd': 1359,\n",
              " 'invited': 4546,\n",
              " 'apartment': 1259,\n",
              " 'went': 9118,\n",
              " 'specially': 7786,\n",
              " 'holiday': 4223,\n",
              " 'flights': 3504,\n",
              " 'inc': 4446,\n",
              " 'operator': 6115,\n",
              " '0871277810910pmin': 121,\n",
              " '18': 396,\n",
              " 'goodo': 3869,\n",
              " 'must': 5711,\n",
              " 'friday': 3632,\n",
              " 'eggpotato': 3105,\n",
              " 'ratio': 6846,\n",
              " 'tortilla': 8553,\n",
              " 'needed': 5789,\n",
              " 'hmmmy': 4208,\n",
              " 'uncle': 8727,\n",
              " 'informed': 4484,\n",
              " 'paying': 6311,\n",
              " 'school': 7279,\n",
              " 'directly': 2854,\n",
              " 'food': 3545,\n",
              " 'private': 6662,\n",
              " '2004': 440,\n",
              " 'account': 986,\n",
              " 'statement': 7898,\n",
              " '07742676969': 30,\n",
              " '786': 792,\n",
              " 'unredeemed': 8770,\n",
              " 'points': 6502,\n",
              " '08719180248': 169,\n",
              " 'identifier': 4392,\n",
              " '45239': 644,\n",
              " 'expires': 3304,\n",
              " '2000': 437,\n",
              " 'caller': 1983,\n",
              " '5903': 706,\n",
              " 'landline': 4921,\n",
              " '09064019788': 242,\n",
              " 'box42wr29c': 1799,\n",
              " 'applespairsall': 1275,\n",
              " 'malarky': 5309,\n",
              " 'todays': 8490,\n",
              " 'voda': 8947,\n",
              " 'numbers': 5976,\n",
              " 'ending': 3154,\n",
              " '7548': 787,\n",
              " '350': 570,\n",
              " 'award': 1445,\n",
              " 'match': 5360,\n",
              " '08712300220': 103,\n",
              " 'quoting': 6805,\n",
              " '4041': 615,\n",
              " 'standard': 7877,\n",
              " 'rates': 6843,\n",
              " 'app': 1269,\n",
              " 'sao': 7229,\n",
              " 'mu': 5679,\n",
              " 'predict': 6605,\n",
              " 'üll': 9542,\n",
              " 'buying': 1937,\n",
              " 'knowyetunde': 4866,\n",
              " 'hasnt': 4055,\n",
              " 'sent': 7368,\n",
              " 'bother': 1776,\n",
              " 'sending': 7360,\n",
              " 'involve': 4550,\n",
              " 'shouldnt': 7493,\n",
              " 'imposed': 4434,\n",
              " 'apologise': 1266,\n",
              " 'girl': 3796,\n",
              " 'del': 2731,\n",
              " 'bak': 1491,\n",
              " 'sum': 8065,\n",
              " 'lucyxx': 5227,\n",
              " 'kkhow': 4842,\n",
              " 'tmorrowpls': 8471,\n",
              " 'accomodate': 981,\n",
              " 'answer': 1230,\n",
              " 'question': 6789,\n",
              " 'sunshine': 8082,\n",
              " 'quiz': 6800,\n",
              " 'top': 8543,\n",
              " 'sony': 7726,\n",
              " 'dvd': 3047,\n",
              " 'player': 6450,\n",
              " 'country': 2486,\n",
              " 'algarve': 1136,\n",
              " 'ansr': 1229,\n",
              " '82277': 831,\n",
              " 'sptyrone': 7847,\n",
              " 'laid': 4912,\n",
              " 'dogging': 2919,\n",
              " 'locations': 5116,\n",
              " 'direct': 2853,\n",
              " 'join': 4692,\n",
              " 'uks': 8714,\n",
              " 'largest': 4938,\n",
              " 'bt': 1884,\n",
              " 'txting': 8685,\n",
              " 'gravel': 3913,\n",
              " '69888': 755,\n",
              " 'nt': 5964,\n",
              " 'ec2a': 3077,\n",
              " '31pmsg150p': 561,\n",
              " 'haf': 3997,\n",
              " 'msn': 5672,\n",
              " 'yijuehotmailcom': 9475,\n",
              " 'him': 4175,\n",
              " 'rooms': 7134,\n",
              " 'befor': 1601,\n",
              " 'activities': 1008,\n",
              " 'youll': 9495,\n",
              " 'msgs': 5665,\n",
              " 'chat': 2141,\n",
              " 'svc': 8119,\n",
              " 'hardcore': 4044,\n",
              " 'services': 7383,\n",
              " '69988': 759,\n",
              " 'age': 1077,\n",
              " 'yr': 9517,\n",
              " 'lazy': 4968,\n",
              " 'type': 8692,\n",
              " 'lect': 4989,\n",
              " 'pouch': 6565,\n",
              " 'sir': 7561,\n",
              " 'mail': 5294,\n",
              " 'swt': 8148,\n",
              " 'nver': 5985,\n",
              " 'tired': 8452,\n",
              " 'little': 5093,\n",
              " 'lovable': 5181,\n",
              " 'persons': 6361,\n",
              " 'cozsomtimes': 2500,\n",
              " 'those': 8391,\n",
              " 'occupy': 6012,\n",
              " 'biggest': 1661,\n",
              " 'their': 8336,\n",
              " 'hearts': 4097,\n",
              " 'gud': 3960,\n",
              " 'ni8': 5834,\n",
              " 'open': 6108,\n",
              " 'ya': 9424,\n",
              " 'dot': 2957,\n",
              " 'whats': 9140,\n",
              " 'staff': 7867,\n",
              " 'taking': 8184,\n",
              " 'replied': 7004,\n",
              " 'randy': 6836,\n",
              " 'sexy': 7399,\n",
              " 'female': 3412,\n",
              " 'local': 5114,\n",
              " 'luv': 5236,\n",
              " 'netcollex': 5808,\n",
              " 'ltd': 5211,\n",
              " '08700621170150p': 73,\n",
              " 'ummmawill': 8721,\n",
              " 'inour': 4501,\n",
              " 'begin': 1608,\n",
              " 'qatar': 6776,\n",
              " 'pray': 6598,\n",
              " 'hard': 4043,\n",
              " 'ki': 4803,\n",
              " 'deleted': 2735,\n",
              " 'sindu': 7551,\n",
              " 'birla': 1676,\n",
              " 'soft': 7688,\n",
              " 'wine': 9202,\n",
              " 'flowing': 3518,\n",
              " 'nevering': 5818,\n",
              " 'thk': 8384,\n",
              " 'plaza': 6457,\n",
              " 'typical': 8695,\n",
              " 'everywhere': 3254,\n",
              " 'dirt': 2857,\n",
              " 'floor': 3512,\n",
              " 'windows': 9199,\n",
              " 'shirt': 7456,\n",
              " ...}"
            ]
          },
          "metadata": {},
          "execution_count": 54
        }
      ]
    },
    {
      "cell_type": "code",
      "source": [
        "len(cv.vocabulary_)"
      ],
      "metadata": {
        "colab": {
          "base_uri": "https://localhost:8080/"
        },
        "id": "diUEAi7iAFNi",
        "outputId": "4c3706ba-c7d4-4ae8-e443-98d33e0a711a"
      },
      "execution_count": 56,
      "outputs": [
        {
          "output_type": "execute_result",
          "data": {
            "text/plain": [
              "9544"
            ]
          },
          "metadata": {},
          "execution_count": 56
        }
      ]
    },
    {
      "cell_type": "code",
      "source": [
        "x = cv.transform(x)"
      ],
      "metadata": {
        "id": "j1mmcZxlnQSz",
        "colab": {
          "base_uri": "https://localhost:8080/",
          "height": 345
        },
        "outputId": "cfdec466-7705-4a02-9909-2d72efe22815"
      },
      "execution_count": 58,
      "outputs": [
        {
          "output_type": "error",
          "ename": "AttributeError",
          "evalue": "ignored",
          "traceback": [
            "\u001b[0;31m---------------------------------------------------------------------------\u001b[0m",
            "\u001b[0;31mAttributeError\u001b[0m                            Traceback (most recent call last)",
            "\u001b[0;32m<ipython-input-58-e0e8ea83355f>\u001b[0m in \u001b[0;36m<module>\u001b[0;34m\u001b[0m\n\u001b[0;32m----> 1\u001b[0;31m \u001b[0mx\u001b[0m \u001b[0;34m=\u001b[0m \u001b[0mcv\u001b[0m\u001b[0;34m.\u001b[0m\u001b[0mtransform\u001b[0m\u001b[0;34m(\u001b[0m\u001b[0mx\u001b[0m\u001b[0;34m)\u001b[0m\u001b[0;34m\u001b[0m\u001b[0;34m\u001b[0m\u001b[0m\n\u001b[0m\u001b[1;32m      2\u001b[0m \u001b[0mx\u001b[0m\u001b[0;34m\u001b[0m\u001b[0;34m\u001b[0m\u001b[0m\n",
            "\u001b[0;32m/usr/local/lib/python3.9/dist-packages/sklearn/feature_extraction/text.py\u001b[0m in \u001b[0;36mtransform\u001b[0;34m(self, raw_documents)\u001b[0m\n\u001b[1;32m   1431\u001b[0m \u001b[0;34m\u001b[0m\u001b[0m\n\u001b[1;32m   1432\u001b[0m         \u001b[0;31m# use the same matrix-building strategy as fit_transform\u001b[0m\u001b[0;34m\u001b[0m\u001b[0;34m\u001b[0m\u001b[0m\n\u001b[0;32m-> 1433\u001b[0;31m         \u001b[0m_\u001b[0m\u001b[0;34m,\u001b[0m \u001b[0mX\u001b[0m \u001b[0;34m=\u001b[0m \u001b[0mself\u001b[0m\u001b[0;34m.\u001b[0m\u001b[0m_count_vocab\u001b[0m\u001b[0;34m(\u001b[0m\u001b[0mraw_documents\u001b[0m\u001b[0;34m,\u001b[0m \u001b[0mfixed_vocab\u001b[0m\u001b[0;34m=\u001b[0m\u001b[0;32mTrue\u001b[0m\u001b[0;34m)\u001b[0m\u001b[0;34m\u001b[0m\u001b[0;34m\u001b[0m\u001b[0m\n\u001b[0m\u001b[1;32m   1434\u001b[0m         \u001b[0;32mif\u001b[0m \u001b[0mself\u001b[0m\u001b[0;34m.\u001b[0m\u001b[0mbinary\u001b[0m\u001b[0;34m:\u001b[0m\u001b[0;34m\u001b[0m\u001b[0;34m\u001b[0m\u001b[0m\n\u001b[1;32m   1435\u001b[0m             \u001b[0mX\u001b[0m\u001b[0;34m.\u001b[0m\u001b[0mdata\u001b[0m\u001b[0;34m.\u001b[0m\u001b[0mfill\u001b[0m\u001b[0;34m(\u001b[0m\u001b[0;36m1\u001b[0m\u001b[0;34m)\u001b[0m\u001b[0;34m\u001b[0m\u001b[0;34m\u001b[0m\u001b[0m\n",
            "\u001b[0;32m/usr/local/lib/python3.9/dist-packages/sklearn/feature_extraction/text.py\u001b[0m in \u001b[0;36m_count_vocab\u001b[0;34m(self, raw_documents, fixed_vocab)\u001b[0m\n\u001b[1;32m   1273\u001b[0m         \u001b[0;32mfor\u001b[0m \u001b[0mdoc\u001b[0m \u001b[0;32min\u001b[0m \u001b[0mraw_documents\u001b[0m\u001b[0;34m:\u001b[0m\u001b[0;34m\u001b[0m\u001b[0;34m\u001b[0m\u001b[0m\n\u001b[1;32m   1274\u001b[0m             \u001b[0mfeature_counter\u001b[0m \u001b[0;34m=\u001b[0m \u001b[0;34m{\u001b[0m\u001b[0;34m}\u001b[0m\u001b[0;34m\u001b[0m\u001b[0;34m\u001b[0m\u001b[0m\n\u001b[0;32m-> 1275\u001b[0;31m             \u001b[0;32mfor\u001b[0m \u001b[0mfeature\u001b[0m \u001b[0;32min\u001b[0m \u001b[0manalyze\u001b[0m\u001b[0;34m(\u001b[0m\u001b[0mdoc\u001b[0m\u001b[0;34m)\u001b[0m\u001b[0;34m:\u001b[0m\u001b[0;34m\u001b[0m\u001b[0;34m\u001b[0m\u001b[0m\n\u001b[0m\u001b[1;32m   1276\u001b[0m                 \u001b[0;32mtry\u001b[0m\u001b[0;34m:\u001b[0m\u001b[0;34m\u001b[0m\u001b[0;34m\u001b[0m\u001b[0m\n\u001b[1;32m   1277\u001b[0m                     \u001b[0mfeature_idx\u001b[0m \u001b[0;34m=\u001b[0m \u001b[0mvocabulary\u001b[0m\u001b[0;34m[\u001b[0m\u001b[0mfeature\u001b[0m\u001b[0;34m]\u001b[0m\u001b[0;34m\u001b[0m\u001b[0;34m\u001b[0m\u001b[0m\n",
            "\u001b[0;32m/usr/local/lib/python3.9/dist-packages/sklearn/feature_extraction/text.py\u001b[0m in \u001b[0;36m_analyze\u001b[0;34m(doc, analyzer, tokenizer, ngrams, preprocessor, decoder, stop_words)\u001b[0m\n\u001b[1;32m    109\u001b[0m     \u001b[0;32melse\u001b[0m\u001b[0;34m:\u001b[0m\u001b[0;34m\u001b[0m\u001b[0;34m\u001b[0m\u001b[0m\n\u001b[1;32m    110\u001b[0m         \u001b[0;32mif\u001b[0m \u001b[0mpreprocessor\u001b[0m \u001b[0;32mis\u001b[0m \u001b[0;32mnot\u001b[0m \u001b[0;32mNone\u001b[0m\u001b[0;34m:\u001b[0m\u001b[0;34m\u001b[0m\u001b[0;34m\u001b[0m\u001b[0m\n\u001b[0;32m--> 111\u001b[0;31m             \u001b[0mdoc\u001b[0m \u001b[0;34m=\u001b[0m \u001b[0mpreprocessor\u001b[0m\u001b[0;34m(\u001b[0m\u001b[0mdoc\u001b[0m\u001b[0;34m)\u001b[0m\u001b[0;34m\u001b[0m\u001b[0;34m\u001b[0m\u001b[0m\n\u001b[0m\u001b[1;32m    112\u001b[0m         \u001b[0;32mif\u001b[0m \u001b[0mtokenizer\u001b[0m \u001b[0;32mis\u001b[0m \u001b[0;32mnot\u001b[0m \u001b[0;32mNone\u001b[0m\u001b[0;34m:\u001b[0m\u001b[0;34m\u001b[0m\u001b[0;34m\u001b[0m\u001b[0m\n\u001b[1;32m    113\u001b[0m             \u001b[0mdoc\u001b[0m \u001b[0;34m=\u001b[0m \u001b[0mtokenizer\u001b[0m\u001b[0;34m(\u001b[0m\u001b[0mdoc\u001b[0m\u001b[0;34m)\u001b[0m\u001b[0;34m\u001b[0m\u001b[0;34m\u001b[0m\u001b[0m\n",
            "\u001b[0;32m/usr/local/lib/python3.9/dist-packages/sklearn/feature_extraction/text.py\u001b[0m in \u001b[0;36m_preprocess\u001b[0;34m(doc, accent_function, lower)\u001b[0m\n\u001b[1;32m     67\u001b[0m     \"\"\"\n\u001b[1;32m     68\u001b[0m     \u001b[0;32mif\u001b[0m \u001b[0mlower\u001b[0m\u001b[0;34m:\u001b[0m\u001b[0;34m\u001b[0m\u001b[0;34m\u001b[0m\u001b[0m\n\u001b[0;32m---> 69\u001b[0;31m         \u001b[0mdoc\u001b[0m \u001b[0;34m=\u001b[0m \u001b[0mdoc\u001b[0m\u001b[0;34m.\u001b[0m\u001b[0mlower\u001b[0m\u001b[0;34m(\u001b[0m\u001b[0;34m)\u001b[0m\u001b[0;34m\u001b[0m\u001b[0;34m\u001b[0m\u001b[0m\n\u001b[0m\u001b[1;32m     70\u001b[0m     \u001b[0;32mif\u001b[0m \u001b[0maccent_function\u001b[0m \u001b[0;32mis\u001b[0m \u001b[0;32mnot\u001b[0m \u001b[0;32mNone\u001b[0m\u001b[0;34m:\u001b[0m\u001b[0;34m\u001b[0m\u001b[0;34m\u001b[0m\u001b[0m\n\u001b[1;32m     71\u001b[0m         \u001b[0mdoc\u001b[0m \u001b[0;34m=\u001b[0m \u001b[0maccent_function\u001b[0m\u001b[0;34m(\u001b[0m\u001b[0mdoc\u001b[0m\u001b[0;34m)\u001b[0m\u001b[0;34m\u001b[0m\u001b[0;34m\u001b[0m\u001b[0m\n",
            "\u001b[0;32m/usr/local/lib/python3.9/dist-packages/scipy/sparse/_base.py\u001b[0m in \u001b[0;36m__getattr__\u001b[0;34m(self, attr)\u001b[0m\n\u001b[1;32m    769\u001b[0m             \u001b[0;32mreturn\u001b[0m \u001b[0mself\u001b[0m\u001b[0;34m.\u001b[0m\u001b[0mgetnnz\u001b[0m\u001b[0;34m(\u001b[0m\u001b[0;34m)\u001b[0m\u001b[0;34m\u001b[0m\u001b[0;34m\u001b[0m\u001b[0m\n\u001b[1;32m    770\u001b[0m         \u001b[0;32melse\u001b[0m\u001b[0;34m:\u001b[0m\u001b[0;34m\u001b[0m\u001b[0;34m\u001b[0m\u001b[0m\n\u001b[0;32m--> 771\u001b[0;31m             \u001b[0;32mraise\u001b[0m \u001b[0mAttributeError\u001b[0m\u001b[0;34m(\u001b[0m\u001b[0mattr\u001b[0m \u001b[0;34m+\u001b[0m \u001b[0;34m\" not found\"\u001b[0m\u001b[0;34m)\u001b[0m\u001b[0;34m\u001b[0m\u001b[0;34m\u001b[0m\u001b[0m\n\u001b[0m\u001b[1;32m    772\u001b[0m \u001b[0;34m\u001b[0m\u001b[0m\n\u001b[1;32m    773\u001b[0m     \u001b[0;32mdef\u001b[0m \u001b[0mtranspose\u001b[0m\u001b[0;34m(\u001b[0m\u001b[0mself\u001b[0m\u001b[0;34m,\u001b[0m \u001b[0maxes\u001b[0m\u001b[0;34m=\u001b[0m\u001b[0;32mNone\u001b[0m\u001b[0;34m,\u001b[0m \u001b[0mcopy\u001b[0m\u001b[0;34m=\u001b[0m\u001b[0;32mFalse\u001b[0m\u001b[0;34m)\u001b[0m\u001b[0;34m:\u001b[0m\u001b[0;34m\u001b[0m\u001b[0;34m\u001b[0m\u001b[0m\n",
            "\u001b[0;31mAttributeError\u001b[0m: lower not found"
          ]
        }
      ]
    },
    {
      "cell_type": "code",
      "source": [
        "# x번째 문장에 y번째 단어가 z개 있다\n",
        "# (x, y) z\n",
        "print(x)"
      ],
      "metadata": {
        "colab": {
          "base_uri": "https://localhost:8080/"
        },
        "id": "lyzp5VUqnlbb",
        "outputId": "68cddf99-dcca-402b-cfaf-286751eb6f44"
      },
      "execution_count": 60,
      "outputs": [
        {
          "output_type": "stream",
          "name": "stdout",
          "text": [
            "  (0, 1188)\t1\n",
            "  (0, 1427)\t1\n",
            "  (0, 1899)\t1\n",
            "  (0, 1901)\t1\n",
            "  (0, 2235)\t1\n",
            "  (0, 2518)\t1\n",
            "  (0, 3822)\t1\n",
            "  (0, 3879)\t1\n",
            "  (0, 3919)\t1\n",
            "  (0, 4444)\t1\n",
            "  (0, 4734)\t1\n",
            "  (0, 4895)\t1\n",
            "  (0, 6094)\t1\n",
            "  (0, 6501)\t1\n",
            "  (0, 8352)\t1\n",
            "  (0, 8779)\t1\n",
            "  (0, 9040)\t1\n",
            "  (0, 9288)\t1\n",
            "  (1, 4702)\t1\n",
            "  (1, 4934)\t1\n",
            "  (1, 6054)\t1\n",
            "  (1, 6088)\t1\n",
            "  (1, 9180)\t1\n",
            "  (2, 71)\t1\n",
            "  (2, 441)\t1\n",
            "  :\t:\n",
            "  (5572, 1937)\t1\n",
            "  (5572, 2814)\t1\n",
            "  (5572, 3131)\t1\n",
            "  (5572, 3555)\t1\n",
            "  (5572, 3606)\t1\n",
            "  (5572, 3732)\t1\n",
            "  (5572, 3981)\t1\n",
            "  (5572, 4077)\t1\n",
            "  (5572, 4385)\t1\n",
            "  (5572, 4444)\t1\n",
            "  (5572, 4524)\t1\n",
            "  (5572, 4585)\t1\n",
            "  (5572, 5048)\t1\n",
            "  (5572, 5831)\t1\n",
            "  (5572, 7698)\t1\n",
            "  (5572, 7709)\t1\n",
            "  (5572, 8329)\t1\n",
            "  (5572, 8477)\t1\n",
            "  (5572, 8822)\t1\n",
            "  (5572, 9090)\t1\n",
            "  (5573, 4606)\t2\n",
            "  (5573, 5742)\t1\n",
            "  (5573, 7120)\t1\n",
            "  (5573, 8477)\t1\n",
            "  (5573, 8626)\t1\n"
          ]
        }
      ]
    },
    {
      "cell_type": "code",
      "source": [
        "from sklearn.model_selection import train_test_split\n",
        "\n",
        "x_train,x_test,y_train,y_test = train_test_split(x,y,test_size=0.2,random_state=21,stratify=y)"
      ],
      "metadata": {
        "id": "btWO1C2_n8Zd"
      },
      "execution_count": 62,
      "outputs": []
    },
    {
      "cell_type": "code",
      "source": [
        "y_train"
      ],
      "metadata": {
        "colab": {
          "base_uri": "https://localhost:8080/"
        },
        "id": "TETu1JdvD5ef",
        "outputId": "a67833fb-a744-4e5d-aa9d-e217316949b1"
      },
      "execution_count": 66,
      "outputs": [
        {
          "output_type": "execute_result",
          "data": {
            "text/plain": [
              "3458    ham\n",
              "3693    ham\n",
              "4503    ham\n",
              "5346    ham\n",
              "1346    ham\n",
              "       ... \n",
              "3785    ham\n",
              "4619    ham\n",
              "4309    ham\n",
              "1905    ham\n",
              "3193    ham\n",
              "Name: target, Length: 4459, dtype: object"
            ]
          },
          "metadata": {},
          "execution_count": 66
        }
      ]
    },
    {
      "cell_type": "code",
      "source": [
        "def preprocessing(text):\n",
        "    #1. 특수문자 제거\n",
        "    new_text = '' # 특수문자가 모두 제거된 텍스트\n",
        "    for c in text: # 이전 텍스트를 모두 반복해서 조회해서\n",
        "        if c not in punctuation: # 특수문자가 아닌 조건을 만족시키는 문자에 한해서\n",
        "            # print(c)\n",
        "            # new_text.append(c)\n",
        "            new_text += c # 새로운 텍스트에 추가\n",
        "    #2. 소문자화, 불용어 제거\n",
        "    new_text2 = []\n",
        "    for word in new_text.split():\n",
        "        l_word = word.lower() # 모든 문자들을 소문자화 (<=> upper: 대문자화)\n",
        "        # if l_word in stop_english: # 불용어\n",
        "        if l_word not in stop_eng: # 불용어\n",
        "            # print(l_word)\n",
        "            new_text2.append(l_word)\n",
        "    return \" \".join(new_text2)"
      ],
      "metadata": {
        "id": "1UdWQEkzD5OF"
      },
      "execution_count": 74,
      "outputs": []
    },
    {
      "cell_type": "markdown",
      "source": [
        "# 모델링"
      ],
      "metadata": {
        "id": "UuGZcL7y6Tq7"
      }
    },
    {
      "cell_type": "code",
      "source": [
        "# 나이브 베이즈 모델\n",
        "from sklearn.naive_bayes import MultinomialNB"
      ],
      "metadata": {
        "id": "kzp-yZO2oI3E"
      },
      "execution_count": 68,
      "outputs": []
    },
    {
      "cell_type": "code",
      "source": [
        "model = MultinomialNB()\n",
        "model.fit(x_train,y_train)\n",
        "pre = model.predict(x_test)\n",
        "pre"
      ],
      "metadata": {
        "id": "4fegjsNxoQj7",
        "colab": {
          "base_uri": "https://localhost:8080/"
        },
        "outputId": "0c1466be-8b4b-4f08-9553-1284c8afc652"
      },
      "execution_count": 69,
      "outputs": [
        {
          "output_type": "execute_result",
          "data": {
            "text/plain": [
              "array(['ham', 'ham', 'ham', ..., 'ham', 'ham', 'ham'], dtype='<U4')"
            ]
          },
          "metadata": {},
          "execution_count": 69
        }
      ]
    },
    {
      "cell_type": "code",
      "source": [
        "model.predict_proba(x_test)"
      ],
      "metadata": {
        "colab": {
          "base_uri": "https://localhost:8080/"
        },
        "id": "CkBxH65VDYuR",
        "outputId": "f532109e-a8b4-4673-dc62-a0984fa407c4"
      },
      "execution_count": 70,
      "outputs": [
        {
          "output_type": "execute_result",
          "data": {
            "text/plain": [
              "array([[9.98813344e-01, 1.18665588e-03],\n",
              "       [9.99057199e-01, 9.42800783e-04],\n",
              "       [9.99999833e-01, 1.66692087e-07],\n",
              "       ...,\n",
              "       [9.99999990e-01, 9.86447814e-09],\n",
              "       [9.94541566e-01, 5.45843355e-03],\n",
              "       [9.99975234e-01, 2.47655172e-05]])"
            ]
          },
          "metadata": {},
          "execution_count": 70
        }
      ]
    },
    {
      "cell_type": "code",
      "source": [
        "text = 'free free time'\n",
        "model.predict(cv.transform([preprocessing(text)]))"
      ],
      "metadata": {
        "colab": {
          "base_uri": "https://localhost:8080/"
        },
        "id": "cXUCfqiCJyNz",
        "outputId": "1493a375-2e09-4db1-a932-989fa3c6299a"
      },
      "execution_count": 76,
      "outputs": [
        {
          "output_type": "execute_result",
          "data": {
            "text/plain": [
              "array(['spam'], dtype='<U4')"
            ]
          },
          "metadata": {},
          "execution_count": 76
        }
      ]
    },
    {
      "cell_type": "code",
      "source": [],
      "metadata": {
        "colab": {
          "base_uri": "https://localhost:8080/"
        },
        "id": "80QR0BjtJJko",
        "outputId": "0d41553e-e421-4951-bde8-e6f55df08cdc"
      },
      "execution_count": null,
      "outputs": [
        {
          "output_type": "stream",
          "name": "stdout",
          "text": [
            "스팸입니다\n"
          ]
        }
      ]
    },
    {
      "cell_type": "code",
      "source": [
        "pred"
      ],
      "metadata": {
        "colab": {
          "base_uri": "https://localhost:8080/"
        },
        "id": "H7pypkleoaRV",
        "outputId": "3a1003cf-e0fe-4137-f35b-24de1f9cd98c"
      },
      "execution_count": null,
      "outputs": [
        {
          "output_type": "execute_result",
          "data": {
            "text/plain": [
              "array([1])"
            ]
          },
          "metadata": {},
          "execution_count": 51
        }
      ]
    },
    {
      "cell_type": "code",
      "source": [],
      "metadata": {
        "id": "FvxDSnKKocJ_"
      },
      "execution_count": null,
      "outputs": []
    },
    {
      "cell_type": "code",
      "source": [
        "# accuracy_score : 시험셋의 실제 정답값(라벨) / 예측값의 일치 정도를 보는 값\n",
        "# 일치도 -> 2~3% 틀린게. 얼마만큼, 어떤 방향으로 틀렸는지\n",
        "# spam -> spam (정답)\n",
        "# ham -> ham (정답)\n",
        "# ------------\n",
        "# spam -> ham (오답) -> 놓치는 것\n",
        "# ham -> spam (오답) -> 잘못 잡은 것"
      ],
      "metadata": {
        "colab": {
          "base_uri": "https://localhost:8080/"
        },
        "id": "2LSljYC1ochs",
        "outputId": "9cd38eef-4be1-4d3a-9034-14eadffdeef8"
      },
      "execution_count": null,
      "outputs": [
        {
          "output_type": "execute_result",
          "data": {
            "text/plain": [
              "0.97847533632287"
            ]
          },
          "metadata": {},
          "execution_count": 56
        }
      ]
    },
    {
      "cell_type": "code",
      "source": [
        "# 혼동 행렬\n",
        "from sklearn.metrics import confusion_matrix # 정답, 오답이 있으면 그것들이 어떻게 구성되었는지"
      ],
      "metadata": {
        "id": "vM7qG74TA80z"
      },
      "execution_count": null,
      "outputs": []
    },
    {
      "cell_type": "code",
      "source": [
        "# 가로 -> 예측값\n",
        "# 세로 -> 실제값\n",
        "confusion_matrix(y_test, pred)"
      ],
      "metadata": {
        "colab": {
          "base_uri": "https://localhost:8080/"
        },
        "id": "klrKU83gBEjU",
        "outputId": "4051e66d-3b6c-4fd0-9fb8-25d2e5420386"
      },
      "execution_count": null,
      "outputs": [
        {
          "output_type": "execute_result",
          "data": {
            "text/plain": [
              "array([[947,  19],\n",
              "       [  5, 144]])"
            ]
          },
          "metadata": {},
          "execution_count": 58
        }
      ]
    },
    {
      "cell_type": "code",
      "source": [
        "sns.heatmap(confusion_matrix(y_test, pred), cmap='coolwarm', annot=True, fmt='.0f')\n",
        "plt.title(\"CONFUSION MATRIX\")\n",
        "plt.ylabel('True')\n",
        "plt.xlabel('Predicted')\n",
        "plt.show()"
      ],
      "metadata": {
        "colab": {
          "base_uri": "https://localhost:8080/",
          "height": 295
        },
        "id": "_UdMO8ZkBjki",
        "outputId": "5e2fffa8-28b8-4c74-a672-d4a1a1f2cff0"
      },
      "execution_count": null,
      "outputs": [
        {
          "output_type": "display_data",
          "data": {
            "text/plain": [
              "<Figure size 432x288 with 2 Axes>"
            ],
            "image/png": "[encoded data removed]"
          },
          "metadata": {
            "needs_background": "light"
          }
        }
      ]
    },
    {
      "cell_type": "code",
      "source": [
        "cf_matrix = confusion_matrix(y_test,pred)\n",
        "cf_matrix\n",
        "group_names = ['TN','FP','FN','TP']\n",
        "group_counts = [\"{0:0.0f}\".format(value) for value in\n",
        "                cf_matrix.flatten()]\n",
        "group_percentages = [\"{0:.2%}\".format(value) for value in\n",
        "                     cf_matrix.flatten()/np.sum(cf_matrix)]\n",
        "labels = [f\"{v1}\\n{v2}\\n{v3}\" for v1, v2, v3 in\n",
        "          zip(group_names,group_counts,group_percentages)]\n",
        "labels = np.asarray(labels).reshape(2,2)\n",
        "sns.heatmap(cf_matrix, annot=labels, fmt='', cmap='coolwarm')\n",
        "plt.ylabel('True')\n",
        "plt.xlabel('Predicted')\n",
        "plt.show()"
      ],
      "metadata": {
        "colab": {
          "base_uri": "https://localhost:8080/",
          "height": 279
        },
        "id": "i7ovOVI2C4uq",
        "outputId": "a31c5faa-8233-4aa3-cc45-d2c07f9d15bf"
      },
      "execution_count": null,
      "outputs": [
        {
          "output_type": "display_data",
          "data": {
            "text/plain": [
              "<Figure size 432x288 with 2 Axes>"
            ],
            "image/png": "[encoded data removed]"
          },
          "metadata": {
            "needs_background": "light"
          }
        }
      ]
    },
    {
      "cell_type": "code",
      "source": [
        "!pip install mlxtend --quiet\n",
        "\n",
        "import joblib\n",
        "joblib.dump(model, 'model.pkl')\n",
        "joblib.dump(cv, 'cv.pkl')"
      ],
      "metadata": {
        "id": "deIbVhFZDtJ9"
      },
      "execution_count": null,
      "outputs": []
    }
  ]
}