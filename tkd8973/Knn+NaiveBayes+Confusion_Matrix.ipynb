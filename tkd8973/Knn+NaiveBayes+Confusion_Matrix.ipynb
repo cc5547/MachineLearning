{
  "cells": [
    {
      "cell_type": "markdown",
      "metadata": {
        "colab_type": "text",
        "id": "view-in-github"
      },
      "source": [
        "<a href=\"https://colab.research.google.com/github/tkd8973/MachineLearning_SW/blob/main/tkd8973/Knn%2BNaiveBayes%2BConfusion_Matrix.ipynb\" target=\"_parent\"><img src=\"https://colab.research.google.com/assets/colab-badge.svg\" alt=\"Open In Colab\"/></a>"
      ]
    },
    {
      "cell_type": "markdown",
      "metadata": {
        "id": "aC9fc7jnpiOQ"
      },
      "source": [
        "# KNN (K-Nearest Neighbor)\n"
      ]
    },
    {
      "cell_type": "markdown",
      "metadata": {
        "id": "fBw0seMfqN-5"
      },
      "source": [
        "* 다중 분류 \n",
        "* 거리 기반 -> 관측값들의 거리를 계산 후, 해당 정답값 과 얼마나 가까운지 계산하여 새로운 예측값을 도출\n",
        "* 단위 문제 -> 단위의 정리가 안되면, 단위 크기에 따른 영향이 극대화\n",
        ">* Scaleing(스케일링) : Min-Max, Standard, Normalize ...\n",
        ">* Out-Lier(이상치) : 통계적으로 예측되는 최대/최소값, 상관관계에 벗어나는 값들\n",
        "* Classifier, Regression 둘 다 사용가능\n",
        "\n",
        "* 단점\n",
        ">* 데이터가 많아지면 속도 감소(거리의 계산), \n",
        ">* K의 값에 따른 변화 -> 적절한 K값 선택 (default = 5)\n"
      ]
    },
    {
      "cell_type": "markdown",
      "metadata": {
        "id": "QOcfCkLZtDyA"
      },
      "source": [
        "# Scaling\n",
        "* 단위를 맞추기 위해 통계적 변화를 시키는 전처리\n",
        "* Standard(Normalize) \n",
        ">* 표준정규분포로 만들어주는 스케일링 \n",
        ">* 평균이0, 표준편차가1 인 정규분포\n",
        ">* x-mean(x)/std(x)\n",
        ">* 통계적 비교를 위한 표준\n",
        ">* 원본의 모양을 포기하지만, 다양한 변수들 간의 비교를 위해 사용\n",
        ">* 이상치 영향 X\n",
        ">* 분포모양 변화 O\n",
        "--- \n",
        "* Robust\n",
        ">* IQR값을 사용해 양극단의 이상치에 대한 영향을 최소화 한 스케일링\n",
        ">* 평균 사용 X -> 이상치의 영향 감소\n",
        ">* 1~3분위 값들은 뭉치고, 나머지 값들은 흩어짐\n",
        ">* 이상치 영향 X (아예 없지는 않음)\n",
        ">* 양극단에 가까운 값들은 튈수도?\n",
        "---\n",
        "* Min-Max\n",
        ">* 최대값 최소값을 사용해 0~1사이로 만듦\n",
        ">* (x-min)/(max-min) -> 최소값 0, 최대값 1 인 분포\n",
        ">* 모양 보정 O , 이상치 보정 X -> 분포모양 변화 X\n",
        "\n",
        "* 'sklearn.preprocessing'"
      ]
    },
    {
      "cell_type": "markdown",
      "metadata": {
        "id": "sxhu6EJosVCB"
      },
      "source": [
        "# Naive Bayes\n",
        "* A라는 조건이 있을때 B라는 사건이 발생할 확률 -> 특정한 범주형 변수를 만족할 때, 예측값이 나올 확률 계산\n",
        "* 모든 변수들이 독립적이고, 가능하면 범주형 (소속, pd.dummies, One-Hot encoding)\n",
        "* 자연어 분석\n",
        ">* 문장, 글의 주제, 감정, 속성을 예측/분류하는 알고리즘(스팸 여부, 리뷰 긍/부정) -> 범주형, 이산형의 다중분류 ex) 별점1~5"
      ]
    },
    {
      "cell_type": "markdown",
      "metadata": {
        "id": "aV_XAKVayZTs"
      },
      "source": [
        "# 자연어 전처리\n",
        "* 영어 기준\n",
        "* 문장 -> 단어 등장 여부(Naive Bayes)\n",
        "* 단어 -> 여백으로 split\n",
        "1. 같은 단어이지만 다른 단어로 인식되는 경우\n",
        ">* 특수문자(물음표, 쉼표, 마침표)\n",
        ">* 대소문자 다를 경우\n",
        "2. 의미는 없지만 구조상 들어있는 단우 (불용어-stopwords)\n",
        "\n",
        "1. `from string import punctuation` -> 특수문자 묶음 모듈\n",
        "2. `string.lower()` 반복문 or 컴프리헨션으로 소문자로 변경\n",
        "3. `nltk`에서 제공하는 불용어 리스트를 통해 불용어 제거\n",
        ">* 함수화 하여 `df.apply()` 로 해당 text를 처리\n",
        "\n",
        "* `from sklearn.feature_extraction.text import cCounterVectorizer` \n",
        "* 단어 -> 벡터화 \n",
        "* 특정한 문장 묶음(corpus)에 등장하는 단어들을 사전화 (단어 -> 인덱스)\n",
        "* 문장 -> 어떤 단어가 어디서 몇번 등장했는지 배열로 변환\n",
        "</br>\n",
        "* 한글의 경우, 단어의 조사(은/는/이/가)가 붙거나, 어떠한 용언 활용이 있는지에 따라 단어의 표현이 다르기 때문에 해당 단어의 '어근을 찾아줘야함\n",
        "* 형태소 분석기를 사용해 갔다,간다 -> 가다 로 변환\n",
        "> (Mecab,Okt,Khailll)\n",
        "\n"
      ]
    },
    {
      "attachments": {},
      "cell_type": "markdown",
      "metadata": {
        "id": "OMJXAcub66Di"
      },
      "source": [
        "# Confusion matrix (혼동행렬)\n",
        "`from sklearn.metrics import confusion_matrix`\n",
        "* 이진분류 (참/거짓, 가설의 성립여부 등)\n",
        "* 인식률도 중요하지만 틀렸을때 어떻게 틀린지도 중요\n",
        "* 코로나 검사\n",
        "* 실제 : 양성, 결과 : 음성 -> False Negative(2종 오류)\n",
        ">* 스팸인데 스팸이 아니라고 판정\n",
        ">* 유죄인데 무죄\n",
        "* 실제 : 음성, 결과 : 양성 -> False Postive(1종 오류)\n",
        ">* 남성인데 임신\n",
        ">* 무죄인데 유죄\n",
        ">* 스팸아닌데 스팸\n",
        "\n",
        "---\n",
        "* TN : True Negative(실제 거짓, 예측 거짓)\n",
        "* TP : True Positive(실제 참, 예측 참)\n",
        "* FP : False Positive(실제 거짓, 예측 참 -> 1종오류)\n",
        "* FN : False Negative(실제 참, 예측 거짓 -> 2종오류)\n"
      ]
    },
    {
      "cell_type": "code",
      "execution_count": null,
      "metadata": {
        "id": "5R2sRuUk61Um"
      },
      "outputs": [],
      "source": []
    }
  ],
  "metadata": {
    "colab": {
      "authorship_tag": "ABX9TyNP9/DpVi24EIMB6pqiaDEl",
      "include_colab_link": true,
      "provenance": []
    },
    "kernelspec": {
      "display_name": "Python 3",
      "name": "python3"
    },
    "language_info": {
      "name": "python"
    }
  },
  "nbformat": 4,
  "nbformat_minor": 0
}
